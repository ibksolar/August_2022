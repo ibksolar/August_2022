{
 "cells": [
  {
   "cell_type": "code",
   "execution_count": 1,
   "id": "dbf0fa04-d15f-40e3-bc8e-e0c581c9707c",
   "metadata": {},
   "outputs": [
    {
     "name": "stdout",
     "output_type": "stream",
     "text": [
      "Packages Loaded\n"
     ]
    }
   ],
   "source": [
    "from __future__ import print_function\n",
    "\n",
    "import os\n",
    "\n",
    "import pandas as pd\n",
    "import numpy as np\n",
    "import matplotlib.pyplot as plt\n",
    "import random\n",
    "import tensorflow as tf\n",
    "from tensorflow.keras.models import Sequential, Model\n",
    "from tensorflow.keras.layers import *\n",
    "from tensorflow.keras import layers\n",
    "from tensorflow.keras.callbacks import EarlyStopping, ModelCheckpoint,TensorBoard,ReduceLROnPlateau\n",
    "\n",
    "from tensorflow.keras.optimizers import SGD, Adam\n",
    "from tensorflow.keras.activations import relu\n",
    "from tensorflow.keras.regularizers import l2\n",
    "from tensorflow.keras.constraints import max_norm\n",
    "from tensorflow.keras import backend as K\n",
    "# from tensorflow.keras.datasets import mnist, cifar10\n",
    "import tensorflow_addons as tfa\n",
    "\n",
    "import sklearn\n",
    "\n",
    "from IPython.core.interactiveshell import InteractiveShell\n",
    "InteractiveShell.ast_node_interactivity = \"all\"\n",
    "from scipy.io import loadmat \n",
    "import mat73\n",
    "from datetime import datetime\n",
    "import ipynbname\n",
    "\n",
    "print(\"Packages Loaded\")"
   ]
  },
  {
   "cell_type": "code",
   "execution_count": 2,
   "id": "5e0ff66a-fe8d-4b53-923d-87fd82eaa274",
   "metadata": {
    "tags": []
   },
   "outputs": [
    {
     "name": "stderr",
     "output_type": "stream",
     "text": [
      "\u001b[34m\u001b[1mwandb\u001b[0m: Currently logged in as: \u001b[33mibksolar\u001b[0m (use `wandb login --relogin` to force relogin)\n",
      "\u001b[34m\u001b[1mwandb\u001b[0m: wandb version 0.12.9 is available!  To upgrade, please run:\n",
      "\u001b[34m\u001b[1mwandb\u001b[0m:  $ pip install wandb --upgrade\n"
     ]
    },
    {
     "data": {
      "text/html": [
       "\n",
       "                    Syncing run <strong><a href=\"https://wandb.ai/ibksolar/my-test-project/runs/2o6yr2lt\" target=\"_blank\">NewAttention_RowBlockLSTM2_TrainData_26_January_22_2138</a></strong> to <a href=\"https://wandb.ai/ibksolar/my-test-project\" target=\"_blank\">Weights & Biases</a> (<a href=\"https://docs.wandb.com/integrations/jupyter.html\" target=\"_blank\">docs</a>).<br/>\n",
       "\n",
       "                "
      ],
      "text/plain": [
       "<IPython.core.display.HTML object>"
      ]
     },
     "metadata": {},
     "output_type": "display_data"
    },
    {
     "data": {
      "text/html": [
       "<button onClick=\"this.nextSibling.style.display='block';this.style.display='none';\">Display W&B run</button><iframe src=\"https://wandb.ai/ibksolar/my-test-project/runs/2o6yr2lt?jupyter=true\" style=\"border:none;width:100%;height:420px;display:none;\"></iframe>"
      ],
      "text/plain": [
       "<wandb.sdk.wandb_run.Run at 0x15dd9b2cf70>"
      ]
     },
     "execution_count": 2,
     "metadata": {},
     "output_type": "execute_result"
    }
   ],
   "source": [
    "import wandb\n",
    "from wandb.keras import WandbCallback\n",
    "time_stamp = datetime.strftime( datetime.now(),'%d_%B_%y_%H%M')\n",
    "wandb.init(project=\"my-test-project\", entity=\"ibksolar\", name=ipynbname.name()+'_'+time_stamp)\n",
    " "
   ]
  },
  {
   "cell_type": "code",
   "execution_count": 3,
   "id": "00c1aba9-f492-4875-be63-c42578d6918a",
   "metadata": {},
   "outputs": [],
   "source": [
    "# Load data\n",
    "load_old_data = False\n",
    "\n",
    "if load_old_data:\n",
    "    # raw_data1 = loadmat('new_echo_cnn_in_out_jstarrs2021_first_try/echo_cnn_in_out_jstars1.mat')\n",
    "    # raw_data1 = loadmat('echo_cnn_in_out_GOOD_layers/new_echo_cnn_in_out_jstars1.mat') 'findpeaks_layers/new_echo_cnn_in_out_jstars1.mat'\n",
    "\n",
    "    raw_data1 = loadmat('../../../Python_Env/final_layers_rowblock15_21/filtered_image/new_echo_cnn_in_out_jstars1.mat')\n",
    "    raw_data2 = loadmat('../../../Python_Env/final_layers_rowblock15_21/filtered_image/new_echo_cnn_in_out_jstars2.mat')\n",
    "    raw_data3 = loadmat('../../../Python_Env/final_layers_rowblock15_21/filtered_image/new_echo_cnn_in_out_jstars3.mat')\n",
    "    # raw_data4 = loadmat('findpeaks_layers_rowblock20/new_echo_cnn_in_out_jstars4.mat')\n",
    "\n",
    "    d1 = raw_data1['echo_cnn1']\n",
    "    t1 = raw_data1['echo_target1']\n",
    "    i1 = raw_data1['echo_idx1']\n",
    "\n",
    "    d2 = raw_data2['echo_cnn2']\n",
    "    t2 = raw_data2['echo_target2']\n",
    "    i2 = raw_data2['echo_idx2']\n",
    "\n",
    "    d3 = raw_data3['echo_cnn3']\n",
    "    t3 = raw_data3['echo_target3']\n",
    "    i3 = raw_data3['echo_idx3']\n",
    "\n",
    "    # d4 = raw_data4['echo_cnn4']\n",
    "    # t4 = raw_data4['echo_target4']\n",
    "    # i4 = raw_data4['echo_idx4']\n",
    "\n",
    "    all_data = np.concatenate( (d1,d2,d3),axis = 0 )\n",
    "    all_target = np.concatenate( (t1,t2,t3),axis = 0 )\n",
    "    all_idx = np.concatenate( (i1,i2,i3),axis = 0 )\n",
    "\n",
    "    # Set all nan in the data to zero\n",
    "    nan_idx = np.isnan(all_data).any(axis =-1)\n",
    "    all_target[nan_idx] = 0\n",
    "    all_data[ np.isnan(all_data) ]= 0"
   ]
  },
  {
   "cell_type": "code",
   "execution_count": 4,
   "id": "d9fb9b83-f2b1-4b99-82a7-e1580e7a2694",
   "metadata": {},
   "outputs": [
    {
     "name": "stdout",
     "output_type": "stream",
     "text": [
      "True\n"
     ]
    }
   ],
   "source": [
    "load_new_data = True\n",
    "\n",
    "if load_new_data:\n",
    "    # base_path = '..\\\\..\\\\all_block_data\\Dec_Train_block_len_21_011121_2331', ''../all_block_data\\FindPeaks_data\\Dec_Train_block_len_21_030122_0614'\n",
    "    #base_path = '../all_block_data/Old_data/Dec_Train_block_len_21_231121_1531' Filteredfiltered_data\\Full_Train_block_len_21_180122_1303\n",
    "    base_path = '../all_block_data\\PulsedTrainTest\\Full_Train_block_len_21_200122_1334'\n",
    "\n",
    "    # Confirm path is right...\n",
    "    print(f'{os.path.isdir(base_path)}')"
   ]
  },
  {
   "cell_type": "code",
   "execution_count": 5,
   "id": "e179ca79-43c2-45d8-a10e-1bb54507a5bf",
   "metadata": {},
   "outputs": [],
   "source": [
    "if load_new_data:\n",
    "    raw_data1 = mat73.loadmat(base_path + '/echo_cnn_in_out_jstars.mat')\n",
    "    all_data = raw_data1['echo_cnn_input']\n",
    "    all_target = raw_data1['echo_cnn_target']\n",
    "    all_coords = raw_data1['coords']\n",
    "    echo_idx = raw_data1['orig_echo_idx']\n",
    "\n",
    "    # Set all nan in the data to zero\n",
    "    nan_idx = np.isnan(all_data).any(axis =-1)\n",
    "    all_target[nan_idx] = 0\n",
    "    all_data[ np.isnan(all_data) ]= 0\n",
    "\n"
   ]
  },
  {
   "cell_type": "code",
   "execution_count": 13,
   "id": "88db6e2e-f752-4b1f-b3a4-395adeaf4fa9",
   "metadata": {},
   "outputs": [],
   "source": [
    "# Standardize all_data\n",
    "standardize = True\n",
    "if standardize:\n",
    "    all_data  = ( all_data - all_data.mean() ) / all_data.std()\n",
    "\n",
    "scale_data = False\n",
    "if scale_data:\n",
    "    all_data = 255*all_data"
   ]
  },
  {
   "cell_type": "code",
   "execution_count": 14,
   "id": "b97ea785-542b-42f8-aee2-fef06a14040d",
   "metadata": {},
   "outputs": [
    {
     "name": "stdout",
     "output_type": "stream",
     "text": [
      "Data shape (243071, 315)\n",
      "Target shape (243071,)\n"
     ]
    }
   ],
   "source": [
    "# Truncate data because data after truncate point is not good for training\n",
    "\n",
    "truncate_data = True\n",
    "if truncate_data:    \n",
    "    echo_idx = np.asarray(echo_idx)\n",
    "    stop_val = 300\n",
    "\n",
    "    stop_list, = np.where(echo_idx == stop_val)\n",
    "    stop_idx = stop_list[-1]\n",
    "\n",
    "    all_data = all_data[:stop_idx]\n",
    "    all_target = all_target[:stop_idx]\n",
    "\n",
    "    print(f'Data shape {all_data.shape}')\n",
    "    print(f'Target shape {all_target.shape}')\n"
   ]
  },
  {
   "cell_type": "code",
   "execution_count": 15,
   "id": "3eaf3c7e-1bb9-4d3b-b0af-deca0f0995b7",
   "metadata": {},
   "outputs": [
    {
     "name": "stdout",
     "output_type": "stream",
     "text": [
      "Dimensions match\n"
     ]
    }
   ],
   "source": [
    "row_length = 21 # CHANGE HERE <==\n",
    "col_length = 15\n",
    "\n",
    "# Check that the dimension of data is correct\n",
    "if all_data.shape[1] == row_length*col_length:\n",
    "    print('Dimensions match')\n",
    "else:\n",
    "    print(f' Row block length:{row_length} and col length:{col_length} does not match Data dimension:{all_data.shape[1]}') \n",
    "        "
   ]
  },
  {
   "cell_type": "code",
   "execution_count": 9,
   "id": "240c5978-0a4c-4a42-af11-b067dffe8ebc",
   "metadata": {},
   "outputs": [
    {
     "data": {
      "text/plain": [
       "(1108864, 9, 21)"
      ]
     },
     "execution_count": 9,
     "metadata": {},
     "output_type": "execute_result"
    }
   ],
   "source": [
    "# Positional Encoding\n",
    "time_seq = 9 #col_length #5\n",
    "# all_coords = raw_data1['coords']\n",
    "all_coord_exp = np.zeros((all_coords.shape[0],time_seq,row_length))\n",
    "\n",
    "for idx in range(len(all_coords)):\n",
    "    a,b,c,_ = np.asarray(all_coords[idx],dtype=\"int\")\n",
    "    if (a%2) == 0: # If row index is even - this isn't implemented well because it requires iterating through individual rows\n",
    "        all_coord_exp[idx] = np.sin( np.outer( np.arange(c,c+time_seq), pow(10000, (2*np.arange(a,b)/row_length)) ) )\n",
    "    else:\n",
    "        all_coord_exp[idx] = np.cos( np.outer( np.arange(c,c+time_seq), pow(10000, (2*np.arange(a,b)/row_length)) ) )\n",
    "\n",
    "if 0: #truncate_data:\n",
    "    difficult_coords = all_coord_exp[stop_idx+1:]         \n",
    "    all_coord_exp = all_coord_exp[:stop_idx]        \n",
    "   \n",
    "    \n",
    "all_coord_exp.shape    "
   ]
  },
  {
   "cell_type": "code",
   "execution_count": 16,
   "id": "ab1acb17-7dee-417b-97bc-8d0bba4e4cf4",
   "metadata": {},
   "outputs": [
    {
     "name": "stdout",
     "output_type": "stream",
     "text": [
      "Shape of X_train:(206610, 9, 21)  X_test:(36461, 9, 21)\n",
      "Shape of y_train:(206610,)  y_test:(36461,)\n"
     ]
    }
   ],
   "source": [
    "max_class = row_length \n",
    "neigh = 4 # The number of neighbors used for each RowBlock column\n",
    "\n",
    "# Highest class is mapped to row_length+1\n",
    "all_target[all_target == max_class+1 ] = 0\n",
    "\n",
    "\n",
    "shuffle = 1\n",
    "if shuffle:\n",
    "    random.Random(13).shuffle(all_data)\n",
    "    random.Random(13).shuffle(all_target)\n",
    "    #random.Random(157).shuffle(all_coord_exp)\n",
    "    # random.Random(157).shuffle(all_idx)\n",
    "\n",
    "## Prep data\n",
    "train_size = int(np.floor(0.85*len(all_target)));\n",
    "test_size = int(np.round( 0.15* all_data.shape[0] ))\n",
    "val_size = all_data.shape[0] -train_size - test_size\n",
    "\n",
    "mid_pt = 8\n",
    "\n",
    "\n",
    "x_train = all_data[0:train_size,:]\n",
    "x_train = np.reshape( x_train, (x_train.shape[0],max_class,-1),order ='F' )\n",
    "x_train = x_train[:,:,mid_pt-neigh:mid_pt+neigh+1]\n",
    "# x_train = np.reshape(x_train,(x_train.shape[0],-1))\n",
    "x_train = np.transpose(x_train,(0,2,1))\n",
    "#coords_train = all_coord_exp[0:train_size,:]\n",
    "\n",
    "\n",
    "x_test = all_data[train_size:train_size+test_size,:]\n",
    "x_test = np.reshape( x_test,(x_test.shape[0],max_class,-1),order ='F' )\n",
    "x_test = x_test[:,:,mid_pt-neigh:mid_pt+neigh+1]\n",
    "# x_test = np.reshape(x_test,(x_test.shape[0],-1))\n",
    "x_test = np.transpose(x_test,(0,2,1))\n",
    "#coords_test = all_coord_exp[train_size:train_size+test_size,:]\n",
    "\n",
    "\n",
    "x_val = all_data[-val_size:,:]\n",
    "x_val = np.reshape( x_val,(x_val.shape[0],max_class,-1),order ='F' )\n",
    "x_val = x_val[:,:,mid_pt-neigh:mid_pt+neigh+1]\n",
    "# x_val = np.reshape(x_val,(x_val.shape[0],-1))\n",
    "x_val = np.transpose(x_val,(0,2,1))\n",
    "#coords_val = all_coord_exp[-val_size:,:]\n",
    "\n",
    "\n",
    "y_train = all_target[:train_size]\n",
    "y_test  = all_target[train_size:train_size+test_size]\n",
    "y_val = all_target[-val_size:]\n",
    "\n",
    "var_input_shape = x_train.shape[1:] # 240 columns\n",
    "num_classes = max_class+1 # layers\n",
    "\n",
    "\n",
    "# Convert labels to categorical orthonormal vectors\n",
    "y_train_1hot = tf.keras.utils.to_categorical(y_train, num_classes)\n",
    "y_test_1hot  = tf.keras.utils.to_categorical(y_test, num_classes)\n",
    "\n",
    "print(f'Shape of X_train:{x_train.shape}  X_test:{x_test.shape}')\n",
    "print(f'Shape of y_train:{y_train.shape}  y_test:{y_test.shape}')"
   ]
  },
  {
   "cell_type": "code",
   "execution_count": 17,
   "id": "d4e1d74e-7ca6-41f4-918e-9712adcdce02",
   "metadata": {},
   "outputs": [
    {
     "data": {
      "image/png": "[encoded data removed]",
      "text/plain": [
       "<Figure size 432x288 with 1 Axes>"
      ]
     },
     "metadata": {
      "needs_background": "light"
     },
     "output_type": "display_data"
    },
    {
     "data": {
      "image/png": "[encoded data removed]",
      "text/plain": [
       "<Figure size 432x288 with 1 Axes>"
      ]
     },
     "metadata": {
      "needs_background": "light"
     },
     "output_type": "display_data"
    }
   ],
   "source": [
    "# Show distribution of targets in training and validation set\n",
    "\n",
    "labels, counts = np.unique(y_train, return_counts=True)\n",
    "_ = plt.bar(labels, counts, align='center')\n",
    "_ = plt.gca().set_xticks(labels)\n",
    "_ = plt.title('Distribution of targets in Training set')\n",
    "_ = plt.show()\n",
    "\n",
    "\n",
    "labels, counts = np.unique(y_val, return_counts=True)\n",
    "_ = plt.bar(labels, counts, align='center')\n",
    "_ = plt.gca().set_xticks(labels)\n",
    "_ = plt.title('Distribution of targets in Validation set')\n",
    "_ = plt.show()"
   ]
  },
  {
   "cell_type": "code",
   "execution_count": null,
   "id": "d2641993-96aa-4d4f-9342-5806258036fa",
   "metadata": {},
   "outputs": [],
   "source": [
    "\n",
    "x_train_new = x_train + coords_train\n",
    "x_test_new = x_test + coords_test\n",
    "x_val_new = x_val + coords_val"
   ]
  },
  {
   "cell_type": "code",
   "execution_count": 18,
   "id": "45833095-8823-4f47-895b-876c2c1b2396",
   "metadata": {},
   "outputs": [
    {
     "name": "stdout",
     "output_type": "stream",
     "text": [
      "Could not get file name: auto-generating name\n",
      "Activation_function not in workspace\n",
      "loss_function not in workspace\n",
      "Accuracy_per_epoch not in workspace\n",
      "Loss_per_epoch not in workspace\n",
      "Stop_time not in workspace\n",
      "Current run hyper_params are dict_keys(['S_N', 'Start_time', 'NoteBook_name', 'Uniqueness_of_each_run', 'Base_dir', 'Train_shape', 'Output_shape', 'num_epochs', 'Activation_function', 'optimizer', 'learning_rate', 'loss_function', 'Accuracy_per_epoch', 'Loss_per_epoch', 'Stop_time', 'Model_config', 'Performance_on_test_set', 'output_path', 'shuffle', 'Computer_name', 'extras']):dict_values([27, '26_January_22_2145', 'NewAttention_RowBlockLSTM2_TrainData', 'New TrainTest based on DrPadens pulsed suggestion: changed seed, Truncated and normalized', '../all_block_data\\\\PulsedTrainTest\\\\Full_Train_block_len_21_200122_1334', (206610, 9, 21), '', '', '', '', '', '', '', '', '', '', '', '', 1, 'AQ-98JH673', [{'standardize': True}]])\n",
      "Fields to be updated include: ['Activation_function', 'loss_function', 'Accuracy_per_epoch', 'Loss_per_epoch', 'Stop_time', 'Model_config']\n"
     ]
    }
   ],
   "source": [
    "# Populate the param \n",
    "\n",
    "# import sys,importlib\n",
    "#importlib.reload(sys.modules['model_hyper_param_log'])\n",
    "\n",
    "base_path =  base_path\n",
    "log ={}\n",
    "log['Notebook_name'] = ipynbname.name()\n",
    "log['Uniqueness_of_each_run'] = 'New TrainTest based on DrPadens pulsed suggestion: changed seed, Truncated and normalized'\n",
    "log['base_dir'] = base_path\n",
    "log['Train_shape'] = x_train.shape\n",
    "log['Output_shape'] = ''\n",
    "log['num_epochs'] = ''\n",
    "log['batch_size'] = ''\n",
    "log['activation_function'] = ''\n",
    "log['optimizer'] = ''\n",
    "log['learning_rate'] = ''\n",
    "log['loss_finction'] = ''\n",
    "log['accuracy'] = []\n",
    "log['loss'] = []\n",
    "log['stop_time'] = ''\n",
    "log['Model_config'] = ''\n",
    "log['Performance_on_test_set'] = ''\n",
    "log['output_path'] = ''  # output: where the trained model is saved\n",
    "log['shuffle'] = shuffle\n",
    "log['run_completion_comment'] = '' # Comment on training and probably evaluation too\n",
    "log['extras'] = [{'standardize':standardize}]\n",
    "\n",
    "\n",
    "from model_hyper_param_log import create_log_entry, update_log_entry\n",
    "if \"log_idx\" in globals():\n",
    "    log[\"S_N\"] = log_idx\n",
    "log_idx = create_log_entry('../testing_sheet2.xlsx', log)"
   ]
  },
  {
   "cell_type": "code",
   "execution_count": null,
   "id": "90eaf02e-ac0c-47ae-93f8-ff9098ad79e8",
   "metadata": {},
   "outputs": [],
   "source": [
    "# Visualize some of the input\n",
    "\n",
    "_ = plt.plot(x_train[200].flatten())\n",
    "_ = plt.title(y_train[200])"
   ]
  },
  {
   "cell_type": "code",
   "execution_count": 22,
   "id": "b709185f-c394-4c52-afa5-75bcf5964ad9",
   "metadata": {
    "tags": []
   },
   "outputs": [
    {
     "name": "stdout",
     "output_type": "stream",
     "text": [
      "Model: \"RowBlockLSTM26_January_22_2138\"\n",
      "_________________________________________________________________\n",
      "Layer (type)                 Output Shape              Param #   \n",
      "=================================================================\n",
      "input_4 (InputLayer)         [(None, 9, 21)]           0         \n",
      "_________________________________________________________________\n",
      "lstm_12 (LSTM)               (None, 9, 1024)           4284416   \n",
      "_________________________________________________________________\n",
      "lstm_13 (LSTM)               (None, 9, 1024)           8392704   \n",
      "_________________________________________________________________\n",
      "lstm_14 (LSTM)               (None, 9, 1024)           8392704   \n",
      "_________________________________________________________________\n",
      "lstm_15 (LSTM)               (None, 1024)              8392704   \n",
      "_________________________________________________________________\n",
      "dense_6 (Dense)              (None, 512)               524800    \n",
      "_________________________________________________________________\n",
      "dropout_3 (Dropout)          (None, 512)               0         \n",
      "_________________________________________________________________\n",
      "dense_7 (Dense)              (None, 22)                11286     \n",
      "=================================================================\n",
      "Total params: 29,998,614\n",
      "Trainable params: 29,998,614\n",
      "Non-trainable params: 0\n",
      "_________________________________________________________________\n",
      "Training start time:26_January_22_2224\n",
      "Epoch 1/300\n",
      "  6/283 [..............................] - ETA: 1:57 - loss: 2.9345 - accuracy: 0.0934 - top-3-accuracy: 0.2536WARNING:tensorflow:Callback method `on_train_batch_end` is slow compared to the batch time (batch time: 0.0211s vs `on_train_batch_end` time: 0.3379s). Check your callbacks.\n",
      "283/283 [==============================] - 22s 69ms/step - loss: 2.6064 - accuracy: 0.1219 - top-3-accuracy: 0.3256 - val_loss: 2.5917 - val_accuracy: 0.1314 - val_top-3-accuracy: 0.3397\n",
      "Epoch 2/300\n",
      "283/283 [==============================] - 17s 59ms/step - loss: 2.5914 - accuracy: 0.1277 - top-3-accuracy: 0.3294 - val_loss: 2.5971 - val_accuracy: 0.1314 - val_top-3-accuracy: 0.3268\n",
      "Epoch 3/300\n",
      "283/283 [==============================] - 17s 60ms/step - loss: 2.5937 - accuracy: 0.1285 - top-3-accuracy: 0.3301 - val_loss: 2.5913 - val_accuracy: 0.1314 - val_top-3-accuracy: 0.3263\n",
      "Epoch 4/300\n",
      "283/283 [==============================] - 17s 60ms/step - loss: 2.5901 - accuracy: 0.1287 - top-3-accuracy: 0.3323 - val_loss: 2.5921 - val_accuracy: 0.1314 - val_top-3-accuracy: 0.3268\n",
      "Epoch 5/300\n",
      "283/283 [==============================] - 17s 60ms/step - loss: 2.5896 - accuracy: 0.1287 - top-3-accuracy: 0.3314 - val_loss: 2.5910 - val_accuracy: 0.1314 - val_top-3-accuracy: 0.3298\n",
      "Epoch 6/300\n",
      "283/283 [==============================] - 17s 60ms/step - loss: 2.5895 - accuracy: 0.1289 - top-3-accuracy: 0.3318 - val_loss: 2.5906 - val_accuracy: 0.1314 - val_top-3-accuracy: 0.3397\n",
      "Epoch 7/300\n",
      "283/283 [==============================] - 17s 60ms/step - loss: 2.5895 - accuracy: 0.1290 - top-3-accuracy: 0.3331 - val_loss: 2.5910 - val_accuracy: 0.1314 - val_top-3-accuracy: 0.3397\n",
      "Epoch 8/300\n",
      "283/283 [==============================] - 17s 60ms/step - loss: 2.5894 - accuracy: 0.1288 - top-3-accuracy: 0.3319 - val_loss: 2.5907 - val_accuracy: 0.1314 - val_top-3-accuracy: 0.3301\n",
      "Epoch 9/300\n",
      "283/283 [==============================] - 17s 60ms/step - loss: 2.5892 - accuracy: 0.1290 - top-3-accuracy: 0.3325 - val_loss: 2.5909 - val_accuracy: 0.1314 - val_top-3-accuracy: 0.3293\n",
      "Epoch 10/300\n",
      "283/283 [==============================] - 17s 61ms/step - loss: 2.5891 - accuracy: 0.1290 - top-3-accuracy: 0.3338 - val_loss: 2.5905 - val_accuracy: 0.1314 - val_top-3-accuracy: 0.3397\n",
      "Epoch 11/300\n",
      "283/283 [==============================] - 17s 60ms/step - loss: 2.5891 - accuracy: 0.1288 - top-3-accuracy: 0.3341 - val_loss: 2.5917 - val_accuracy: 0.1314 - val_top-3-accuracy: 0.3301\n",
      "Epoch 12/300\n",
      "283/283 [==============================] - 17s 60ms/step - loss: 2.5892 - accuracy: 0.1290 - top-3-accuracy: 0.3337 - val_loss: 2.5906 - val_accuracy: 0.1314 - val_top-3-accuracy: 0.3308\n",
      "Epoch 13/300\n",
      "283/283 [==============================] - 17s 60ms/step - loss: 2.5891 - accuracy: 0.1290 - top-3-accuracy: 0.3345 - val_loss: 2.5909 - val_accuracy: 0.1314 - val_top-3-accuracy: 0.3397\n",
      "Epoch 14/300\n",
      "283/283 [==============================] - 17s 61ms/step - loss: 2.5889 - accuracy: 0.1290 - top-3-accuracy: 0.3330 - val_loss: 2.5905 - val_accuracy: 0.1314 - val_top-3-accuracy: 0.3397\n",
      "Epoch 15/300\n",
      "283/283 [==============================] - 17s 60ms/step - loss: 2.5888 - accuracy: 0.1290 - top-3-accuracy: 0.3341 - val_loss: 2.5911 - val_accuracy: 0.1314 - val_top-3-accuracy: 0.3298\n",
      "Epoch 16/300\n",
      "283/283 [==============================] - 17s 60ms/step - loss: 2.5889 - accuracy: 0.1290 - top-3-accuracy: 0.3344 - val_loss: 2.5909 - val_accuracy: 0.1314 - val_top-3-accuracy: 0.3397\n",
      "Epoch 17/300\n",
      "283/283 [==============================] - 17s 60ms/step - loss: 2.5889 - accuracy: 0.1290 - top-3-accuracy: 0.3347 - val_loss: 2.5911 - val_accuracy: 0.1314 - val_top-3-accuracy: 0.3397\n",
      "Epoch 18/300\n",
      "283/283 [==============================] - 17s 60ms/step - loss: 2.5889 - accuracy: 0.1290 - top-3-accuracy: 0.3339 - val_loss: 2.5907 - val_accuracy: 0.1314 - val_top-3-accuracy: 0.3268\n",
      "Epoch 19/300\n",
      "283/283 [==============================] - 17s 60ms/step - loss: 2.5888 - accuracy: 0.1290 - top-3-accuracy: 0.3364 - val_loss: 2.5916 - val_accuracy: 0.1314 - val_top-3-accuracy: 0.3298\n",
      "Epoch 20/300\n",
      "283/283 [==============================] - 17s 60ms/step - loss: 2.5887 - accuracy: 0.1290 - top-3-accuracy: 0.3350 - val_loss: 2.5899 - val_accuracy: 0.1314 - val_top-3-accuracy: 0.3397\n",
      "Epoch 21/300\n",
      "283/283 [==============================] - 17s 60ms/step - loss: 2.5887 - accuracy: 0.1290 - top-3-accuracy: 0.3355 - val_loss: 2.5897 - val_accuracy: 0.1314 - val_top-3-accuracy: 0.3397\n",
      "Epoch 22/300\n",
      "283/283 [==============================] - 17s 60ms/step - loss: 2.5886 - accuracy: 0.1290 - top-3-accuracy: 0.3348 - val_loss: 2.5903 - val_accuracy: 0.1314 - val_top-3-accuracy: 0.3397\n",
      "Epoch 23/300\n",
      "283/283 [==============================] - 17s 60ms/step - loss: 2.5886 - accuracy: 0.1290 - top-3-accuracy: 0.3346 - val_loss: 2.5904 - val_accuracy: 0.1314 - val_top-3-accuracy: 0.3298\n",
      "Epoch 24/300\n",
      "283/283 [==============================] - 17s 60ms/step - loss: 2.5887 - accuracy: 0.1290 - top-3-accuracy: 0.3349 - val_loss: 2.5903 - val_accuracy: 0.1314 - val_top-3-accuracy: 0.3397\n",
      "Epoch 25/300\n",
      "283/283 [==============================] - 17s 60ms/step - loss: 2.5885 - accuracy: 0.1290 - top-3-accuracy: 0.3354 - val_loss: 2.5898 - val_accuracy: 0.1314 - val_top-3-accuracy: 0.3397\n",
      "Epoch 26/300\n",
      "283/283 [==============================] - 17s 60ms/step - loss: 2.5886 - accuracy: 0.1290 - top-3-accuracy: 0.3360 - val_loss: 2.5902 - val_accuracy: 0.1314 - val_top-3-accuracy: 0.3397\n",
      "Epoch 27/300\n",
      "283/283 [==============================] - 17s 60ms/step - loss: 2.5885 - accuracy: 0.1290 - top-3-accuracy: 0.3349 - val_loss: 2.5912 - val_accuracy: 0.1314 - val_top-3-accuracy: 0.3397\n",
      "Epoch 28/300\n",
      "283/283 [==============================] - 17s 60ms/step - loss: 2.5885 - accuracy: 0.1290 - top-3-accuracy: 0.3358 - val_loss: 2.5907 - val_accuracy: 0.1314 - val_top-3-accuracy: 0.3397\n",
      "Epoch 29/300\n",
      "283/283 [==============================] - 17s 60ms/step - loss: 2.5884 - accuracy: 0.1290 - top-3-accuracy: 0.3366 - val_loss: 2.5898 - val_accuracy: 0.1314 - val_top-3-accuracy: 0.3397\n",
      "Epoch 30/300\n",
      "283/283 [==============================] - 17s 60ms/step - loss: 2.5883 - accuracy: 0.1290 - top-3-accuracy: 0.3364 - val_loss: 2.5902 - val_accuracy: 0.1314 - val_top-3-accuracy: 0.3397\n",
      "Epoch 31/300\n",
      "283/283 [==============================] - 17s 60ms/step - loss: 2.5884 - accuracy: 0.1290 - top-3-accuracy: 0.3368 - val_loss: 2.5896 - val_accuracy: 0.1314 - val_top-3-accuracy: 0.3397\n",
      "Epoch 32/300\n",
      "283/283 [==============================] - 17s 60ms/step - loss: 2.5885 - accuracy: 0.1290 - top-3-accuracy: 0.3362 - val_loss: 2.5905 - val_accuracy: 0.1314 - val_top-3-accuracy: 0.3301\n",
      "Epoch 33/300\n",
      "283/283 [==============================] - 17s 60ms/step - loss: 2.5884 - accuracy: 0.1290 - top-3-accuracy: 0.3360 - val_loss: 2.5898 - val_accuracy: 0.1314 - val_top-3-accuracy: 0.3397\n",
      "Epoch 34/300\n",
      "283/283 [==============================] - 17s 60ms/step - loss: 2.5883 - accuracy: 0.1290 - top-3-accuracy: 0.3358 - val_loss: 2.5911 - val_accuracy: 0.1314 - val_top-3-accuracy: 0.3397\n",
      "Epoch 35/300\n",
      "283/283 [==============================] - 17s 60ms/step - loss: 2.5884 - accuracy: 0.1290 - top-3-accuracy: 0.3364 - val_loss: 2.5902 - val_accuracy: 0.1314 - val_top-3-accuracy: 0.3397\n",
      "Epoch 36/300\n",
      "283/283 [==============================] - 17s 60ms/step - loss: 2.5883 - accuracy: 0.1290 - top-3-accuracy: 0.3362 - val_loss: 2.5898 - val_accuracy: 0.1314 - val_top-3-accuracy: 0.3397\n",
      "Epoch 37/300\n",
      "283/283 [==============================] - 17s 60ms/step - loss: 2.5884 - accuracy: 0.1290 - top-3-accuracy: 0.3356 - val_loss: 2.5897 - val_accuracy: 0.1314 - val_top-3-accuracy: 0.3397\n",
      "Epoch 38/300\n",
      "283/283 [==============================] - 17s 60ms/step - loss: 2.5883 - accuracy: 0.1290 - top-3-accuracy: 0.3358 - val_loss: 2.5904 - val_accuracy: 0.1314 - val_top-3-accuracy: 0.3397\n",
      "Epoch 39/300\n",
      "283/283 [==============================] - 17s 60ms/step - loss: 2.5883 - accuracy: 0.1290 - top-3-accuracy: 0.3365 - val_loss: 2.5902 - val_accuracy: 0.1314 - val_top-3-accuracy: 0.3397\n",
      "Epoch 40/300\n",
      "283/283 [==============================] - 17s 60ms/step - loss: 2.5882 - accuracy: 0.1290 - top-3-accuracy: 0.3365 - val_loss: 2.5903 - val_accuracy: 0.1314 - val_top-3-accuracy: 0.3397\n",
      "Epoch 41/300\n",
      "283/283 [==============================] - 17s 60ms/step - loss: 2.5882 - accuracy: 0.1290 - top-3-accuracy: 0.3357 - val_loss: 2.5901 - val_accuracy: 0.1314 - val_top-3-accuracy: 0.3397\n",
      "\n",
      "Epoch 00041: ReduceLROnPlateau reducing learning rate to 0.0001.\n",
      "Epoch 42/300\n",
      "283/283 [==============================] - 17s 60ms/step - loss: 2.5878 - accuracy: 0.1290 - top-3-accuracy: 0.3370 - val_loss: 2.5895 - val_accuracy: 0.1314 - val_top-3-accuracy: 0.3397\n",
      "Epoch 43/300\n",
      "283/283 [==============================] - 17s 60ms/step - loss: 2.5877 - accuracy: 0.1290 - top-3-accuracy: 0.3370 - val_loss: 2.5895 - val_accuracy: 0.1314 - val_top-3-accuracy: 0.3397\n",
      "Epoch 44/300\n",
      "283/283 [==============================] - 17s 59ms/step - loss: 2.5877 - accuracy: 0.1290 - top-3-accuracy: 0.3370 - val_loss: 2.5895 - val_accuracy: 0.1314 - val_top-3-accuracy: 0.3397\n",
      "Epoch 45/300\n",
      "283/283 [==============================] - 17s 59ms/step - loss: 2.5877 - accuracy: 0.1290 - top-3-accuracy: 0.3370 - val_loss: 2.5895 - val_accuracy: 0.1314 - val_top-3-accuracy: 0.3397\n",
      "Epoch 46/300\n",
      "283/283 [==============================] - 17s 60ms/step - loss: 2.5877 - accuracy: 0.1290 - top-3-accuracy: 0.3370 - val_loss: 2.5895 - val_accuracy: 0.1314 - val_top-3-accuracy: 0.3397\n",
      "Epoch 47/300\n",
      "283/283 [==============================] - 17s 60ms/step - loss: 2.5877 - accuracy: 0.1290 - top-3-accuracy: 0.3370 - val_loss: 2.5895 - val_accuracy: 0.1314 - val_top-3-accuracy: 0.3397\n",
      "Epoch 48/300\n",
      "283/283 [==============================] - 17s 60ms/step - loss: 2.5877 - accuracy: 0.1290 - top-3-accuracy: 0.3370 - val_loss: 2.5895 - val_accuracy: 0.1314 - val_top-3-accuracy: 0.3397\n",
      "Epoch 49/300\n",
      "283/283 [==============================] - 17s 60ms/step - loss: 2.5877 - accuracy: 0.1290 - top-3-accuracy: 0.3370 - val_loss: 2.5895 - val_accuracy: 0.1314 - val_top-3-accuracy: 0.3397\n",
      "Epoch 50/300\n",
      "283/283 [==============================] - 17s 60ms/step - loss: 2.5877 - accuracy: 0.1290 - top-3-accuracy: 0.3370 - val_loss: 2.5896 - val_accuracy: 0.1314 - val_top-3-accuracy: 0.3397\n",
      "Epoch 51/300\n",
      "283/283 [==============================] - 17s 60ms/step - loss: 2.5877 - accuracy: 0.1290 - top-3-accuracy: 0.3370 - val_loss: 2.5895 - val_accuracy: 0.1314 - val_top-3-accuracy: 0.3397\n",
      "Epoch 52/300\n",
      "283/283 [==============================] - 17s 60ms/step - loss: 2.5877 - accuracy: 0.1290 - top-3-accuracy: 0.3370 - val_loss: 2.5895 - val_accuracy: 0.1314 - val_top-3-accuracy: 0.3397\n",
      "Epoch 53/300\n",
      "283/283 [==============================] - 17s 60ms/step - loss: 2.5877 - accuracy: 0.1290 - top-3-accuracy: 0.3370 - val_loss: 2.5895 - val_accuracy: 0.1314 - val_top-3-accuracy: 0.3397\n",
      "Epoch 54/300\n",
      "283/283 [==============================] - 17s 60ms/step - loss: 2.5877 - accuracy: 0.1290 - top-3-accuracy: 0.3370 - val_loss: 2.5895 - val_accuracy: 0.1314 - val_top-3-accuracy: 0.3397\n",
      "Epoch 55/300\n",
      "169/283 [================>.............] - ETA: 6s - loss: 2.5882 - accuracy: 0.1298 - top-3-accuracy: 0.3392"
     ]
    },
    {
     "ename": "KeyboardInterrupt",
     "evalue": "",
     "output_type": "error",
     "traceback": [
      "\u001b[1;31m---------------------------------------------------------------------------\u001b[0m",
      "\u001b[1;31mKeyboardInterrupt\u001b[0m                         Traceback (most recent call last)",
      "\u001b[1;32m~\\AppData\\Local\\Temp/ipykernel_22016/3758052646.py\u001b[0m in \u001b[0;36m<module>\u001b[1;34m\u001b[0m\n\u001b[0;32m    135\u001b[0m \u001b[1;33m\u001b[0m\u001b[0m\n\u001b[0;32m    136\u001b[0m \u001b[1;33m\u001b[0m\u001b[0m\n\u001b[1;32m--> 137\u001b[1;33m history = model.fit(x_train, y_train_1hot,\n\u001b[0m\u001b[0;32m    138\u001b[0m           \u001b[0mepochs\u001b[0m\u001b[1;33m=\u001b[0m \u001b[0mnum_epochs\u001b[0m\u001b[1;33m,\u001b[0m\u001b[1;33m\u001b[0m\u001b[1;33m\u001b[0m\u001b[0m\n\u001b[0;32m    139\u001b[0m           \u001b[0mbatch_size\u001b[0m\u001b[1;33m=\u001b[0m \u001b[0mbatch_size\u001b[0m\u001b[1;33m,\u001b[0m\u001b[1;33m\u001b[0m\u001b[1;33m\u001b[0m\u001b[0m\n",
      "\u001b[1;32m~\\.conda\\envs\\ibk_tf_2.6\\lib\\site-packages\\wandb\\integration\\keras\\keras.py\u001b[0m in \u001b[0;36mnew_v2\u001b[1;34m(*args, **kwargs)\u001b[0m\n\u001b[0;32m    148\u001b[0m             \u001b[1;32mfor\u001b[0m \u001b[0mcbk\u001b[0m \u001b[1;32min\u001b[0m \u001b[0mcbks\u001b[0m\u001b[1;33m:\u001b[0m\u001b[1;33m\u001b[0m\u001b[1;33m\u001b[0m\u001b[0m\n\u001b[0;32m    149\u001b[0m                 \u001b[0mset_wandb_attrs\u001b[0m\u001b[1;33m(\u001b[0m\u001b[0mcbk\u001b[0m\u001b[1;33m,\u001b[0m \u001b[0mval_data\u001b[0m\u001b[1;33m)\u001b[0m\u001b[1;33m\u001b[0m\u001b[1;33m\u001b[0m\u001b[0m\n\u001b[1;32m--> 150\u001b[1;33m         \u001b[1;32mreturn\u001b[0m \u001b[0mold_v2\u001b[0m\u001b[1;33m(\u001b[0m\u001b[1;33m*\u001b[0m\u001b[0margs\u001b[0m\u001b[1;33m,\u001b[0m \u001b[1;33m**\u001b[0m\u001b[0mkwargs\u001b[0m\u001b[1;33m)\u001b[0m\u001b[1;33m\u001b[0m\u001b[1;33m\u001b[0m\u001b[0m\n\u001b[0m\u001b[0;32m    151\u001b[0m \u001b[1;33m\u001b[0m\u001b[0m\n\u001b[0;32m    152\u001b[0m     \u001b[0mtraining_arrays\u001b[0m\u001b[1;33m.\u001b[0m\u001b[0morig_fit_loop\u001b[0m \u001b[1;33m=\u001b[0m \u001b[0mold_arrays\u001b[0m\u001b[1;33m\u001b[0m\u001b[1;33m\u001b[0m\u001b[0m\n",
      "\u001b[1;32m~\\.conda\\envs\\ibk_tf_2.6\\lib\\site-packages\\keras\\engine\\training.py\u001b[0m in \u001b[0;36mfit\u001b[1;34m(self, x, y, batch_size, epochs, verbose, callbacks, validation_split, validation_data, shuffle, class_weight, sample_weight, initial_epoch, steps_per_epoch, validation_steps, validation_batch_size, validation_freq, max_queue_size, workers, use_multiprocessing)\u001b[0m\n\u001b[0;32m   1187\u001b[0m               \u001b[0mlogs\u001b[0m \u001b[1;33m=\u001b[0m \u001b[0mtmp_logs\u001b[0m  \u001b[1;31m# No error, now safe to assign to logs.\u001b[0m\u001b[1;33m\u001b[0m\u001b[1;33m\u001b[0m\u001b[0m\n\u001b[0;32m   1188\u001b[0m               \u001b[0mend_step\u001b[0m \u001b[1;33m=\u001b[0m \u001b[0mstep\u001b[0m \u001b[1;33m+\u001b[0m \u001b[0mdata_handler\u001b[0m\u001b[1;33m.\u001b[0m\u001b[0mstep_increment\u001b[0m\u001b[1;33m\u001b[0m\u001b[1;33m\u001b[0m\u001b[0m\n\u001b[1;32m-> 1189\u001b[1;33m               \u001b[0mcallbacks\u001b[0m\u001b[1;33m.\u001b[0m\u001b[0mon_train_batch_end\u001b[0m\u001b[1;33m(\u001b[0m\u001b[0mend_step\u001b[0m\u001b[1;33m,\u001b[0m \u001b[0mlogs\u001b[0m\u001b[1;33m)\u001b[0m\u001b[1;33m\u001b[0m\u001b[1;33m\u001b[0m\u001b[0m\n\u001b[0m\u001b[0;32m   1190\u001b[0m               \u001b[1;32mif\u001b[0m \u001b[0mself\u001b[0m\u001b[1;33m.\u001b[0m\u001b[0mstop_training\u001b[0m\u001b[1;33m:\u001b[0m\u001b[1;33m\u001b[0m\u001b[1;33m\u001b[0m\u001b[0m\n\u001b[0;32m   1191\u001b[0m                 \u001b[1;32mbreak\u001b[0m\u001b[1;33m\u001b[0m\u001b[1;33m\u001b[0m\u001b[0m\n",
      "\u001b[1;32m~\\.conda\\envs\\ibk_tf_2.6\\lib\\site-packages\\keras\\callbacks.py\u001b[0m in \u001b[0;36mon_train_batch_end\u001b[1;34m(self, batch, logs)\u001b[0m\n\u001b[0;32m    433\u001b[0m     \"\"\"\n\u001b[0;32m    434\u001b[0m     \u001b[1;32mif\u001b[0m \u001b[0mself\u001b[0m\u001b[1;33m.\u001b[0m\u001b[0m_should_call_train_batch_hooks\u001b[0m\u001b[1;33m:\u001b[0m\u001b[1;33m\u001b[0m\u001b[1;33m\u001b[0m\u001b[0m\n\u001b[1;32m--> 435\u001b[1;33m       \u001b[0mself\u001b[0m\u001b[1;33m.\u001b[0m\u001b[0m_call_batch_hook\u001b[0m\u001b[1;33m(\u001b[0m\u001b[0mModeKeys\u001b[0m\u001b[1;33m.\u001b[0m\u001b[0mTRAIN\u001b[0m\u001b[1;33m,\u001b[0m \u001b[1;34m'end'\u001b[0m\u001b[1;33m,\u001b[0m \u001b[0mbatch\u001b[0m\u001b[1;33m,\u001b[0m \u001b[0mlogs\u001b[0m\u001b[1;33m=\u001b[0m\u001b[0mlogs\u001b[0m\u001b[1;33m)\u001b[0m\u001b[1;33m\u001b[0m\u001b[1;33m\u001b[0m\u001b[0m\n\u001b[0m\u001b[0;32m    436\u001b[0m \u001b[1;33m\u001b[0m\u001b[0m\n\u001b[0;32m    437\u001b[0m   \u001b[1;32mdef\u001b[0m \u001b[0mon_test_batch_begin\u001b[0m\u001b[1;33m(\u001b[0m\u001b[0mself\u001b[0m\u001b[1;33m,\u001b[0m \u001b[0mbatch\u001b[0m\u001b[1;33m,\u001b[0m \u001b[0mlogs\u001b[0m\u001b[1;33m=\u001b[0m\u001b[1;32mNone\u001b[0m\u001b[1;33m)\u001b[0m\u001b[1;33m:\u001b[0m\u001b[1;33m\u001b[0m\u001b[1;33m\u001b[0m\u001b[0m\n",
      "\u001b[1;32m~\\.conda\\envs\\ibk_tf_2.6\\lib\\site-packages\\keras\\callbacks.py\u001b[0m in \u001b[0;36m_call_batch_hook\u001b[1;34m(self, mode, hook, batch, logs)\u001b[0m\n\u001b[0;32m    293\u001b[0m       \u001b[0mself\u001b[0m\u001b[1;33m.\u001b[0m\u001b[0m_call_batch_begin_hook\u001b[0m\u001b[1;33m(\u001b[0m\u001b[0mmode\u001b[0m\u001b[1;33m,\u001b[0m \u001b[0mbatch\u001b[0m\u001b[1;33m,\u001b[0m \u001b[0mlogs\u001b[0m\u001b[1;33m)\u001b[0m\u001b[1;33m\u001b[0m\u001b[1;33m\u001b[0m\u001b[0m\n\u001b[0;32m    294\u001b[0m     \u001b[1;32melif\u001b[0m \u001b[0mhook\u001b[0m \u001b[1;33m==\u001b[0m \u001b[1;34m'end'\u001b[0m\u001b[1;33m:\u001b[0m\u001b[1;33m\u001b[0m\u001b[1;33m\u001b[0m\u001b[0m\n\u001b[1;32m--> 295\u001b[1;33m       \u001b[0mself\u001b[0m\u001b[1;33m.\u001b[0m\u001b[0m_call_batch_end_hook\u001b[0m\u001b[1;33m(\u001b[0m\u001b[0mmode\u001b[0m\u001b[1;33m,\u001b[0m \u001b[0mbatch\u001b[0m\u001b[1;33m,\u001b[0m \u001b[0mlogs\u001b[0m\u001b[1;33m)\u001b[0m\u001b[1;33m\u001b[0m\u001b[1;33m\u001b[0m\u001b[0m\n\u001b[0m\u001b[0;32m    296\u001b[0m     \u001b[1;32melse\u001b[0m\u001b[1;33m:\u001b[0m\u001b[1;33m\u001b[0m\u001b[1;33m\u001b[0m\u001b[0m\n\u001b[0;32m    297\u001b[0m       \u001b[1;32mraise\u001b[0m \u001b[0mValueError\u001b[0m\u001b[1;33m(\u001b[0m\u001b[1;34m'Unrecognized hook: {}'\u001b[0m\u001b[1;33m.\u001b[0m\u001b[0mformat\u001b[0m\u001b[1;33m(\u001b[0m\u001b[0mhook\u001b[0m\u001b[1;33m)\u001b[0m\u001b[1;33m)\u001b[0m\u001b[1;33m\u001b[0m\u001b[1;33m\u001b[0m\u001b[0m\n",
      "\u001b[1;32m~\\.conda\\envs\\ibk_tf_2.6\\lib\\site-packages\\keras\\callbacks.py\u001b[0m in \u001b[0;36m_call_batch_end_hook\u001b[1;34m(self, mode, batch, logs)\u001b[0m\n\u001b[0;32m    313\u001b[0m       \u001b[0mself\u001b[0m\u001b[1;33m.\u001b[0m\u001b[0m_batch_times\u001b[0m\u001b[1;33m.\u001b[0m\u001b[0mappend\u001b[0m\u001b[1;33m(\u001b[0m\u001b[0mbatch_time\u001b[0m\u001b[1;33m)\u001b[0m\u001b[1;33m\u001b[0m\u001b[1;33m\u001b[0m\u001b[0m\n\u001b[0;32m    314\u001b[0m \u001b[1;33m\u001b[0m\u001b[0m\n\u001b[1;32m--> 315\u001b[1;33m     \u001b[0mself\u001b[0m\u001b[1;33m.\u001b[0m\u001b[0m_call_batch_hook_helper\u001b[0m\u001b[1;33m(\u001b[0m\u001b[0mhook_name\u001b[0m\u001b[1;33m,\u001b[0m \u001b[0mbatch\u001b[0m\u001b[1;33m,\u001b[0m \u001b[0mlogs\u001b[0m\u001b[1;33m)\u001b[0m\u001b[1;33m\u001b[0m\u001b[1;33m\u001b[0m\u001b[0m\n\u001b[0m\u001b[0;32m    316\u001b[0m \u001b[1;33m\u001b[0m\u001b[0m\n\u001b[0;32m    317\u001b[0m     \u001b[1;32mif\u001b[0m \u001b[0mlen\u001b[0m\u001b[1;33m(\u001b[0m\u001b[0mself\u001b[0m\u001b[1;33m.\u001b[0m\u001b[0m_batch_times\u001b[0m\u001b[1;33m)\u001b[0m \u001b[1;33m>=\u001b[0m \u001b[0mself\u001b[0m\u001b[1;33m.\u001b[0m\u001b[0m_num_batches_for_timing_check\u001b[0m\u001b[1;33m:\u001b[0m\u001b[1;33m\u001b[0m\u001b[1;33m\u001b[0m\u001b[0m\n",
      "\u001b[1;32m~\\.conda\\envs\\ibk_tf_2.6\\lib\\site-packages\\keras\\callbacks.py\u001b[0m in \u001b[0;36m_call_batch_hook_helper\u001b[1;34m(self, hook_name, batch, logs)\u001b[0m\n\u001b[0;32m    351\u001b[0m     \u001b[1;32mfor\u001b[0m \u001b[0mcallback\u001b[0m \u001b[1;32min\u001b[0m \u001b[0mself\u001b[0m\u001b[1;33m.\u001b[0m\u001b[0mcallbacks\u001b[0m\u001b[1;33m:\u001b[0m\u001b[1;33m\u001b[0m\u001b[1;33m\u001b[0m\u001b[0m\n\u001b[0;32m    352\u001b[0m       \u001b[0mhook\u001b[0m \u001b[1;33m=\u001b[0m \u001b[0mgetattr\u001b[0m\u001b[1;33m(\u001b[0m\u001b[0mcallback\u001b[0m\u001b[1;33m,\u001b[0m \u001b[0mhook_name\u001b[0m\u001b[1;33m)\u001b[0m\u001b[1;33m\u001b[0m\u001b[1;33m\u001b[0m\u001b[0m\n\u001b[1;32m--> 353\u001b[1;33m       \u001b[0mhook\u001b[0m\u001b[1;33m(\u001b[0m\u001b[0mbatch\u001b[0m\u001b[1;33m,\u001b[0m \u001b[0mlogs\u001b[0m\u001b[1;33m)\u001b[0m\u001b[1;33m\u001b[0m\u001b[1;33m\u001b[0m\u001b[0m\n\u001b[0m\u001b[0;32m    354\u001b[0m \u001b[1;33m\u001b[0m\u001b[0m\n\u001b[0;32m    355\u001b[0m     \u001b[1;32mif\u001b[0m \u001b[0mself\u001b[0m\u001b[1;33m.\u001b[0m\u001b[0m_check_timing\u001b[0m\u001b[1;33m:\u001b[0m\u001b[1;33m\u001b[0m\u001b[1;33m\u001b[0m\u001b[0m\n",
      "\u001b[1;32m~\\.conda\\envs\\ibk_tf_2.6\\lib\\site-packages\\keras\\callbacks.py\u001b[0m in \u001b[0;36mon_train_batch_end\u001b[1;34m(self, batch, logs)\u001b[0m\n\u001b[0;32m   1026\u001b[0m \u001b[1;33m\u001b[0m\u001b[0m\n\u001b[0;32m   1027\u001b[0m   \u001b[1;32mdef\u001b[0m \u001b[0mon_train_batch_end\u001b[0m\u001b[1;33m(\u001b[0m\u001b[0mself\u001b[0m\u001b[1;33m,\u001b[0m \u001b[0mbatch\u001b[0m\u001b[1;33m,\u001b[0m \u001b[0mlogs\u001b[0m\u001b[1;33m=\u001b[0m\u001b[1;32mNone\u001b[0m\u001b[1;33m)\u001b[0m\u001b[1;33m:\u001b[0m\u001b[1;33m\u001b[0m\u001b[1;33m\u001b[0m\u001b[0m\n\u001b[1;32m-> 1028\u001b[1;33m     \u001b[0mself\u001b[0m\u001b[1;33m.\u001b[0m\u001b[0m_batch_update_progbar\u001b[0m\u001b[1;33m(\u001b[0m\u001b[0mbatch\u001b[0m\u001b[1;33m,\u001b[0m \u001b[0mlogs\u001b[0m\u001b[1;33m)\u001b[0m\u001b[1;33m\u001b[0m\u001b[1;33m\u001b[0m\u001b[0m\n\u001b[0m\u001b[0;32m   1029\u001b[0m \u001b[1;33m\u001b[0m\u001b[0m\n\u001b[0;32m   1030\u001b[0m   \u001b[1;32mdef\u001b[0m \u001b[0mon_test_batch_end\u001b[0m\u001b[1;33m(\u001b[0m\u001b[0mself\u001b[0m\u001b[1;33m,\u001b[0m \u001b[0mbatch\u001b[0m\u001b[1;33m,\u001b[0m \u001b[0mlogs\u001b[0m\u001b[1;33m=\u001b[0m\u001b[1;32mNone\u001b[0m\u001b[1;33m)\u001b[0m\u001b[1;33m:\u001b[0m\u001b[1;33m\u001b[0m\u001b[1;33m\u001b[0m\u001b[0m\n",
      "\u001b[1;32m~\\.conda\\envs\\ibk_tf_2.6\\lib\\site-packages\\keras\\callbacks.py\u001b[0m in \u001b[0;36m_batch_update_progbar\u001b[1;34m(self, batch, logs)\u001b[0m\n\u001b[0;32m   1098\u001b[0m     \u001b[1;32mif\u001b[0m \u001b[0mself\u001b[0m\u001b[1;33m.\u001b[0m\u001b[0mverbose\u001b[0m \u001b[1;33m==\u001b[0m \u001b[1;36m1\u001b[0m\u001b[1;33m:\u001b[0m\u001b[1;33m\u001b[0m\u001b[1;33m\u001b[0m\u001b[0m\n\u001b[0;32m   1099\u001b[0m       \u001b[1;31m# Only block async when verbose = 1.\u001b[0m\u001b[1;33m\u001b[0m\u001b[1;33m\u001b[0m\u001b[0m\n\u001b[1;32m-> 1100\u001b[1;33m       \u001b[0mlogs\u001b[0m \u001b[1;33m=\u001b[0m \u001b[0mtf_utils\u001b[0m\u001b[1;33m.\u001b[0m\u001b[0msync_to_numpy_or_python_type\u001b[0m\u001b[1;33m(\u001b[0m\u001b[0mlogs\u001b[0m\u001b[1;33m)\u001b[0m\u001b[1;33m\u001b[0m\u001b[1;33m\u001b[0m\u001b[0m\n\u001b[0m\u001b[0;32m   1101\u001b[0m       \u001b[0mself\u001b[0m\u001b[1;33m.\u001b[0m\u001b[0mprogbar\u001b[0m\u001b[1;33m.\u001b[0m\u001b[0mupdate\u001b[0m\u001b[1;33m(\u001b[0m\u001b[0mself\u001b[0m\u001b[1;33m.\u001b[0m\u001b[0mseen\u001b[0m\u001b[1;33m,\u001b[0m \u001b[0mlist\u001b[0m\u001b[1;33m(\u001b[0m\u001b[0mlogs\u001b[0m\u001b[1;33m.\u001b[0m\u001b[0mitems\u001b[0m\u001b[1;33m(\u001b[0m\u001b[1;33m)\u001b[0m\u001b[1;33m)\u001b[0m\u001b[1;33m,\u001b[0m \u001b[0mfinalize\u001b[0m\u001b[1;33m=\u001b[0m\u001b[1;32mFalse\u001b[0m\u001b[1;33m)\u001b[0m\u001b[1;33m\u001b[0m\u001b[1;33m\u001b[0m\u001b[0m\n\u001b[0;32m   1102\u001b[0m \u001b[1;33m\u001b[0m\u001b[0m\n",
      "\u001b[1;32m~\\.conda\\envs\\ibk_tf_2.6\\lib\\site-packages\\keras\\utils\\tf_utils.py\u001b[0m in \u001b[0;36msync_to_numpy_or_python_type\u001b[1;34m(tensors)\u001b[0m\n\u001b[0;32m    514\u001b[0m     \u001b[1;32mreturn\u001b[0m \u001b[0mt\u001b[0m  \u001b[1;31m# Don't turn ragged or sparse tensors to NumPy.\u001b[0m\u001b[1;33m\u001b[0m\u001b[1;33m\u001b[0m\u001b[0m\n\u001b[0;32m    515\u001b[0m \u001b[1;33m\u001b[0m\u001b[0m\n\u001b[1;32m--> 516\u001b[1;33m   \u001b[1;32mreturn\u001b[0m \u001b[0mtf\u001b[0m\u001b[1;33m.\u001b[0m\u001b[0mnest\u001b[0m\u001b[1;33m.\u001b[0m\u001b[0mmap_structure\u001b[0m\u001b[1;33m(\u001b[0m\u001b[0m_to_single_numpy_or_python_type\u001b[0m\u001b[1;33m,\u001b[0m \u001b[0mtensors\u001b[0m\u001b[1;33m)\u001b[0m\u001b[1;33m\u001b[0m\u001b[1;33m\u001b[0m\u001b[0m\n\u001b[0m\u001b[0;32m    517\u001b[0m \u001b[1;33m\u001b[0m\u001b[0m\n\u001b[0;32m    518\u001b[0m \u001b[1;33m\u001b[0m\u001b[0m\n",
      "\u001b[1;32m~\\.conda\\envs\\ibk_tf_2.6\\lib\\site-packages\\tensorflow\\python\\util\\nest.py\u001b[0m in \u001b[0;36mmap_structure\u001b[1;34m(func, *structure, **kwargs)\u001b[0m\n\u001b[0;32m    867\u001b[0m \u001b[1;33m\u001b[0m\u001b[0m\n\u001b[0;32m    868\u001b[0m   return pack_sequence_as(\n\u001b[1;32m--> 869\u001b[1;33m       \u001b[0mstructure\u001b[0m\u001b[1;33m[\u001b[0m\u001b[1;36m0\u001b[0m\u001b[1;33m]\u001b[0m\u001b[1;33m,\u001b[0m \u001b[1;33m[\u001b[0m\u001b[0mfunc\u001b[0m\u001b[1;33m(\u001b[0m\u001b[1;33m*\u001b[0m\u001b[0mx\u001b[0m\u001b[1;33m)\u001b[0m \u001b[1;32mfor\u001b[0m \u001b[0mx\u001b[0m \u001b[1;32min\u001b[0m \u001b[0mentries\u001b[0m\u001b[1;33m]\u001b[0m\u001b[1;33m,\u001b[0m\u001b[1;33m\u001b[0m\u001b[1;33m\u001b[0m\u001b[0m\n\u001b[0m\u001b[0;32m    870\u001b[0m       expand_composites=expand_composites)\n\u001b[0;32m    871\u001b[0m \u001b[1;33m\u001b[0m\u001b[0m\n",
      "\u001b[1;32m~\\.conda\\envs\\ibk_tf_2.6\\lib\\site-packages\\tensorflow\\python\\util\\nest.py\u001b[0m in \u001b[0;36m<listcomp>\u001b[1;34m(.0)\u001b[0m\n\u001b[0;32m    867\u001b[0m \u001b[1;33m\u001b[0m\u001b[0m\n\u001b[0;32m    868\u001b[0m   return pack_sequence_as(\n\u001b[1;32m--> 869\u001b[1;33m       \u001b[0mstructure\u001b[0m\u001b[1;33m[\u001b[0m\u001b[1;36m0\u001b[0m\u001b[1;33m]\u001b[0m\u001b[1;33m,\u001b[0m \u001b[1;33m[\u001b[0m\u001b[0mfunc\u001b[0m\u001b[1;33m(\u001b[0m\u001b[1;33m*\u001b[0m\u001b[0mx\u001b[0m\u001b[1;33m)\u001b[0m \u001b[1;32mfor\u001b[0m \u001b[0mx\u001b[0m \u001b[1;32min\u001b[0m \u001b[0mentries\u001b[0m\u001b[1;33m]\u001b[0m\u001b[1;33m,\u001b[0m\u001b[1;33m\u001b[0m\u001b[1;33m\u001b[0m\u001b[0m\n\u001b[0m\u001b[0;32m    870\u001b[0m       expand_composites=expand_composites)\n\u001b[0;32m    871\u001b[0m \u001b[1;33m\u001b[0m\u001b[0m\n",
      "\u001b[1;32m~\\.conda\\envs\\ibk_tf_2.6\\lib\\site-packages\\keras\\utils\\tf_utils.py\u001b[0m in \u001b[0;36m_to_single_numpy_or_python_type\u001b[1;34m(t)\u001b[0m\n\u001b[0;32m    510\u001b[0m   \u001b[1;32mdef\u001b[0m \u001b[0m_to_single_numpy_or_python_type\u001b[0m\u001b[1;33m(\u001b[0m\u001b[0mt\u001b[0m\u001b[1;33m)\u001b[0m\u001b[1;33m:\u001b[0m\u001b[1;33m\u001b[0m\u001b[1;33m\u001b[0m\u001b[0m\n\u001b[0;32m    511\u001b[0m     \u001b[1;32mif\u001b[0m \u001b[0misinstance\u001b[0m\u001b[1;33m(\u001b[0m\u001b[0mt\u001b[0m\u001b[1;33m,\u001b[0m \u001b[0mtf\u001b[0m\u001b[1;33m.\u001b[0m\u001b[0mTensor\u001b[0m\u001b[1;33m)\u001b[0m\u001b[1;33m:\u001b[0m\u001b[1;33m\u001b[0m\u001b[1;33m\u001b[0m\u001b[0m\n\u001b[1;32m--> 512\u001b[1;33m       \u001b[0mx\u001b[0m \u001b[1;33m=\u001b[0m \u001b[0mt\u001b[0m\u001b[1;33m.\u001b[0m\u001b[0mnumpy\u001b[0m\u001b[1;33m(\u001b[0m\u001b[1;33m)\u001b[0m\u001b[1;33m\u001b[0m\u001b[1;33m\u001b[0m\u001b[0m\n\u001b[0m\u001b[0;32m    513\u001b[0m       \u001b[1;32mreturn\u001b[0m \u001b[0mx\u001b[0m\u001b[1;33m.\u001b[0m\u001b[0mitem\u001b[0m\u001b[1;33m(\u001b[0m\u001b[1;33m)\u001b[0m \u001b[1;32mif\u001b[0m \u001b[0mnp\u001b[0m\u001b[1;33m.\u001b[0m\u001b[0mndim\u001b[0m\u001b[1;33m(\u001b[0m\u001b[0mx\u001b[0m\u001b[1;33m)\u001b[0m \u001b[1;33m==\u001b[0m \u001b[1;36m0\u001b[0m \u001b[1;32melse\u001b[0m \u001b[0mx\u001b[0m\u001b[1;33m\u001b[0m\u001b[1;33m\u001b[0m\u001b[0m\n\u001b[0;32m    514\u001b[0m     \u001b[1;32mreturn\u001b[0m \u001b[0mt\u001b[0m  \u001b[1;31m# Don't turn ragged or sparse tensors to NumPy.\u001b[0m\u001b[1;33m\u001b[0m\u001b[1;33m\u001b[0m\u001b[0m\n",
      "\u001b[1;32m~\\.conda\\envs\\ibk_tf_2.6\\lib\\site-packages\\tensorflow\\python\\framework\\ops.py\u001b[0m in \u001b[0;36mnumpy\u001b[1;34m(self)\u001b[0m\n\u001b[0;32m   1092\u001b[0m     \"\"\"\n\u001b[0;32m   1093\u001b[0m     \u001b[1;31m# TODO(slebedev): Consider avoiding a copy for non-CPU or remote tensors.\u001b[0m\u001b[1;33m\u001b[0m\u001b[1;33m\u001b[0m\u001b[0m\n\u001b[1;32m-> 1094\u001b[1;33m     \u001b[0mmaybe_arr\u001b[0m \u001b[1;33m=\u001b[0m \u001b[0mself\u001b[0m\u001b[1;33m.\u001b[0m\u001b[0m_numpy\u001b[0m\u001b[1;33m(\u001b[0m\u001b[1;33m)\u001b[0m  \u001b[1;31m# pylint: disable=protected-access\u001b[0m\u001b[1;33m\u001b[0m\u001b[1;33m\u001b[0m\u001b[0m\n\u001b[0m\u001b[0;32m   1095\u001b[0m     \u001b[1;32mreturn\u001b[0m \u001b[0mmaybe_arr\u001b[0m\u001b[1;33m.\u001b[0m\u001b[0mcopy\u001b[0m\u001b[1;33m(\u001b[0m\u001b[1;33m)\u001b[0m \u001b[1;32mif\u001b[0m \u001b[0misinstance\u001b[0m\u001b[1;33m(\u001b[0m\u001b[0mmaybe_arr\u001b[0m\u001b[1;33m,\u001b[0m \u001b[0mnp\u001b[0m\u001b[1;33m.\u001b[0m\u001b[0mndarray\u001b[0m\u001b[1;33m)\u001b[0m \u001b[1;32melse\u001b[0m \u001b[0mmaybe_arr\u001b[0m\u001b[1;33m\u001b[0m\u001b[1;33m\u001b[0m\u001b[0m\n\u001b[0;32m   1096\u001b[0m \u001b[1;33m\u001b[0m\u001b[0m\n",
      "\u001b[1;32m~\\.conda\\envs\\ibk_tf_2.6\\lib\\site-packages\\tensorflow\\python\\framework\\ops.py\u001b[0m in \u001b[0;36m_numpy\u001b[1;34m(self)\u001b[0m\n\u001b[0;32m   1058\u001b[0m   \u001b[1;32mdef\u001b[0m \u001b[0m_numpy\u001b[0m\u001b[1;33m(\u001b[0m\u001b[0mself\u001b[0m\u001b[1;33m)\u001b[0m\u001b[1;33m:\u001b[0m\u001b[1;33m\u001b[0m\u001b[1;33m\u001b[0m\u001b[0m\n\u001b[0;32m   1059\u001b[0m     \u001b[1;32mtry\u001b[0m\u001b[1;33m:\u001b[0m\u001b[1;33m\u001b[0m\u001b[1;33m\u001b[0m\u001b[0m\n\u001b[1;32m-> 1060\u001b[1;33m       \u001b[1;32mreturn\u001b[0m \u001b[0mself\u001b[0m\u001b[1;33m.\u001b[0m\u001b[0m_numpy_internal\u001b[0m\u001b[1;33m(\u001b[0m\u001b[1;33m)\u001b[0m\u001b[1;33m\u001b[0m\u001b[1;33m\u001b[0m\u001b[0m\n\u001b[0m\u001b[0;32m   1061\u001b[0m     \u001b[1;32mexcept\u001b[0m \u001b[0mcore\u001b[0m\u001b[1;33m.\u001b[0m\u001b[0m_NotOkStatusException\u001b[0m \u001b[1;32mas\u001b[0m \u001b[0me\u001b[0m\u001b[1;33m:\u001b[0m  \u001b[1;31m# pylint: disable=protected-access\u001b[0m\u001b[1;33m\u001b[0m\u001b[1;33m\u001b[0m\u001b[0m\n\u001b[0;32m   1062\u001b[0m       \u001b[0msix\u001b[0m\u001b[1;33m.\u001b[0m\u001b[0mraise_from\u001b[0m\u001b[1;33m(\u001b[0m\u001b[0mcore\u001b[0m\u001b[1;33m.\u001b[0m\u001b[0m_status_to_exception\u001b[0m\u001b[1;33m(\u001b[0m\u001b[0me\u001b[0m\u001b[1;33m.\u001b[0m\u001b[0mcode\u001b[0m\u001b[1;33m,\u001b[0m \u001b[0me\u001b[0m\u001b[1;33m.\u001b[0m\u001b[0mmessage\u001b[0m\u001b[1;33m)\u001b[0m\u001b[1;33m,\u001b[0m \u001b[1;32mNone\u001b[0m\u001b[1;33m)\u001b[0m  \u001b[1;31m# pylint: disable=protected-access\u001b[0m\u001b[1;33m\u001b[0m\u001b[1;33m\u001b[0m\u001b[0m\n",
      "\u001b[1;31mKeyboardInterrupt\u001b[0m: "
     ]
    },
    {
     "data": {
      "text/html": [
       "<br/>Waiting for W&B process to finish, PID 20664... <strong style=\"color:green\">(success).</strong>"
      ],
      "text/plain": [
       "<IPython.core.display.HTML object>"
      ]
     },
     "metadata": {},
     "output_type": "display_data"
    },
    {
     "data": {
      "application/vnd.jupyter.widget-view+json": {
       "model_id": "722492a683484c799c872776f3b5f92b",
       "version_major": 2,
       "version_minor": 0
      },
      "text/plain": [
       "VBox(children=(Label(value=' 824.55MB of 824.55MB uploaded (0.00MB deduped)\\r'), FloatProgress(value=1.0, max=…"
      ]
     },
     "metadata": {},
     "output_type": "display_data"
    }
   ],
   "source": [
    "# Custom ResNet + LSTM model\n",
    "\n",
    "num_epochs = 300\n",
    "batch_size = 512\n",
    "learning_rate = 1e-1\n",
    "\n",
    "input_shape = (x_train.shape[1:])#  + (1,) #input_shape = (21,5,) #x_train.shape[2]\n",
    "\n",
    "def ResNetBlock(x,dropout):\n",
    "    x =   layers.Conv2D(filters=64, kernel_size=5, padding=\"same\")(x) #input_layer\n",
    "    conv1 = layers.Conv2D(filters=64, kernel_size=5, padding=\"same\")(x) # input_layer, Conv1D\n",
    "    conv1 = layers.Dropout(dropout)(conv1)\n",
    "    conv1 = layers.BatchNormalization()(conv1)\n",
    "    conv1 = layers.ReLU()(conv1)\n",
    "\n",
    "    conv2 = layers.Conv2D(filters=64, kernel_size=3, padding=\"same\")(conv1)\n",
    "    conv2 = layers.Dropout(dropout)(conv2)\n",
    "    conv2 = layers.BatchNormalization()(conv2)\n",
    "    conv2 = layers.ReLU()(conv2)\n",
    "\n",
    "    conv3 = layers.Conv2D(filters=64, kernel_size=3, padding=\"same\")(conv2)\n",
    "    conv3 = layers.Dropout(dropout)(conv3)\n",
    "    conv3 = layers.BatchNormalization()(conv3)\n",
    "    conv3 = layers.ReLU()(conv3)\n",
    "    \n",
    "    conv3 = layers.Conv2D(filters=64, kernel_size=3, padding=\"same\")(conv2)\n",
    "    conv3 = layers.Dropout(dropout)(conv3)\n",
    "    conv3 = layers.BatchNormalization()(conv3)\n",
    "    conv3 = layers.ReLU()(conv3)\n",
    "    \n",
    "    conv3 = layers.add([x,conv3])\n",
    "    x = layers.ReLU()(conv3) # Overwrite x\n",
    "    \n",
    "    return x\n",
    "\n",
    "\n",
    "def build_model(\n",
    "    input_shape,\n",
    "    head_size,  \n",
    "    mlp_units,\n",
    "    dropout,\n",
    "    mlp_dropout,\n",
    "):\n",
    "    inputs = tf.keras.Input(shape=input_shape)  \n",
    "    x = inputs\n",
    "    # # x = layers.Conv2D(filters=32, kernel_size=3, padding=\"same\")(inputs)\n",
    "    # for _ in range(5):\n",
    "    #     x = ResNetBlock(x,dropout)        \n",
    "    # x = tf.reduce_sum(x,axis=-1)\n",
    "    \n",
    "    # x = layers.Conv2D(filters=512, kernel_size=(7,5), padding=\"same\")(inputs)\n",
    "    # x = layers.Conv2D(filters=512, kernel_size=(7,5), padding=\"same\")(x)\n",
    "    # x = layers.Conv2D(filters=512, kernel_size=(7,5), padding=\"same\")(x)\n",
    "    # x = layers.Conv2D(filters=1, kernel_size=(7,5), padding=\"same\")(x)\n",
    "    # x = layers.Reshape( (9,21) )(x)\n",
    "    \n",
    "    #x = inputs\n",
    "    x = layers.LSTM(head_size, return_sequences=True,input_shape=(x.shape[1:]) )(x) #input_shape=(x.shape[1:]), recurrent_dropout=0.1,\n",
    "    x = layers.LSTM(head_size, return_sequences=True) (x)\n",
    "    x = layers.LSTM(head_size,return_sequences=True) (x)\n",
    "    x = layers.LSTM(head_size)(x)\n",
    "\n",
    "       \n",
    "    #for dim in mlp_units:  x = layers.Dense(dim, activation=\"relu\")(x)\n",
    "    x = layers.Dense(mlp_units, activation=\"relu\")(x)\n",
    "    x = layers.Dropout(mlp_dropout)(x)\n",
    "    outputs = layers.Dense(num_classes, activation=\"softmax\")(x)\n",
    "    return tf.keras.Model(inputs, outputs,name =\"RowBlockLSTM\"+time_stamp)\n",
    "\n",
    "head_size = 1024 # 128, 256,64\n",
    "mlp_units=512  # 128\n",
    "mlp_dropout=0 #.1     #0.4\n",
    "dropout=0. #15          #0.25\n",
    "\n",
    "model = build_model(input_shape,head_size = head_size,mlp_units=mlp_units, mlp_dropout= mlp_dropout, dropout=dropout)\n",
    "model.summary()\n",
    "\n",
    "## Logging tools\n",
    "wandb.config = {\n",
    "  \"learning_rate\": \"learning_rate\",\n",
    "  \"epochs\": num_epochs, \n",
    "  \"batch_size\": batch_size,\n",
    "  #\"nodes\": nodes,\n",
    "  \"row_length\":row_length,\n",
    "  \"base_path\":base_path,\n",
    "  \"head_size\":head_size, \n",
    "  # \"ff_dim\":ff_dim, \"num_transformer_blocks\":num_transformer_blocks,\"num_heads\":num_heads,\n",
    "  \"mlp_units\":mlp_units, \"mlp_dropout\":mlp_dropout,\n",
    "  \"dropout\":dropout\n",
    "}\n",
    "\n",
    "# Update Wandb fieds with more params\n",
    "wandb.config.update(log)\n",
    "\n",
    "# Update log['extras']\n",
    "log['extras'][0].update(wandb.config)\n",
    "#### ===== End of logging ========\n",
    "\n",
    "\n",
    "\n",
    "# Poly Rate scheduler\n",
    "starter_learning_rate = 0.1\n",
    "end_learning_rate = 0.0001\n",
    "decay_steps = 10000\n",
    "learning_rate_fn = tf.keras.optimizers.schedules.PolynomialDecay(\n",
    "    starter_learning_rate,\n",
    "    decay_steps,\n",
    "    end_learning_rate,\n",
    "    power=0.25)\n",
    "\n",
    "\n",
    "# Callbacks\n",
    "callbacks = [\n",
    "    ModelCheckpoint(f\"{ipynbname.name()}//CheckpointRowBlockLSTM_dropout_{time_stamp}.h5\", save_best_only=True, monitor=\"val_loss\"),\n",
    "    ReduceLROnPlateau(monitor=\"val_loss\", factor=0.05, patience=10, min_lr=0.0001,verbose = 1),\n",
    "    #EarlyStopping(monitor=\"val_loss\", patience=25, verbose=1), \n",
    "    WandbCallback()\n",
    "]\n",
    "\n",
    "opt1 = tf.keras.optimizers.RMSprop(learning_rate=1e-3,rho=0.9,momentum=0.9, epsilon=1e-07,centered=True,name=\"RMSprop\")\n",
    "opt2 = tf.keras.optimizers.Adam(learning_rate=learning_rate,)\n",
    "opt3 = tf.keras.optimizers.SGD(learning_rate=learning_rate, momentum=0.99, nesterov=True, name=\"SGD\")\n",
    "poly_rate = tf.keras.optimizers.SGD(learning_rate = learning_rate_fn)\n",
    "\n",
    "top_K = 3\n",
    "start_time = datetime.strftime( datetime.now(),'%d_%B_%y_%H%M')\n",
    "\n",
    "print(f'Training start time:{start_time}')\n",
    "\n",
    "# model.compile( optimizer = opt, loss= 'categorical_crossentropy', metrics=['accuracy',tf.keras.metrics.TopKCategoricalAccuracy(top_K, name=\"top-3-accuracy\")])  #label_smoothing=0.05, tf.keras.losses.KLDivergence()\n",
    "#model.compile( optimizer=opt1,loss=\"sparse_categorical_crossentropy\" , metrics=[\"sparse_categorical_accuracy\"],) #\"sparse_categorical_crossentropy\" , sparse_categorical_accuracy\", tf.keras.losses.CategoricalCrossentropy(label_smoothing=0.3)\n",
    "\n",
    "model.compile( \"adam\",loss=tf.keras.losses.CategoricalCrossentropy(label_smoothing=0) , \n",
    "              metrics=[\"accuracy\", tf.keras.metrics.TopKCategoricalAccuracy(top_K, name=\"top-3-accuracy\")], ) #\"sparse_categorical_crossentropy\" , sparse_categorical_accuracy\", tf.keras.losses.CategoricalCrossentropy(label_smoothing=0.3)\n",
    "\n",
    "\n",
    "history = model.fit(x_train, y_train_1hot,\n",
    "          epochs= num_epochs, \n",
    "          batch_size= batch_size, \n",
    "          validation_split = 0.3,\n",
    "          # validation_data=(x_test, y_test_1hot),\n",
    "         callbacks=callbacks) #mcp_save, callbacks=[reduce_lr_loss]\n",
    "\n",
    "model = tf.keras.models.load_model(f\"{ipynbname.name()}//CheckpointRowBlockLSTM_dropout_{time_stamp}.h5\")\n",
    "\n",
    "# Update manual log file\n",
    "params_to_be_updated = update_log_entry('../testing_sheet2.xlsx', log_idx, model, history)"
   ]
  },
  {
   "cell_type": "code",
   "execution_count": null,
   "id": "e01cf82b-9581-4ecb-a9ec-65d638355bc4",
   "metadata": {},
   "outputs": [],
   "source": [
    "log['Uniqueness_of_each_run'] = 'Using Old data from its source'\n",
    "run_completion_comment = f'NewTrainTest data: previous training LSTM on FilteredFiltered Old data that achieved accuracy(92%) but this was poor'\n",
    "if \"log_idx\" in globals():\n",
    "    log[\"S_N\"] = log_idx\n",
    "    log['extras'][0]['run_completion_comment'] = run_completion_comment #'Accuracy_per_epoch'\n",
    "    log['Accuracy_per_epoch'] = f'{100*history.history[\"accuracy\"][-1]:.5f}%'\n",
    "    log_idx = create_log_entry('../testing_sheet2.xlsx', log)"
   ]
  },
  {
   "cell_type": "code",
   "execution_count": 78,
   "id": "7b7dd6ca-b74b-4d14-b74b-8ab55d86b4f0",
   "metadata": {},
   "outputs": [
    {
     "name": "stdout",
     "output_type": "stream",
     "text": [
      "WARNING:tensorflow:Layer lstm_6 will not use cuDNN kernels since it doesn't meet the criteria. It will use a generic GPU kernel as fallback when running on GPU.\n",
      "WARNING:tensorflow:Layer lstm_7 will not use cuDNN kernels since it doesn't meet the criteria. It will use a generic GPU kernel as fallback when running on GPU.\n",
      "WARNING:tensorflow:Layer lstm_8 will not use cuDNN kernels since it doesn't meet the criteria. It will use a generic GPU kernel as fallback when running on GPU.\n",
      "Epoch 1/300\n",
      "1289/1289 [==============================] - 325s 250ms/step - loss: 2.8644 - accuracy: 0.1165 - top-3-accuracy: 0.3206 - val_loss: 2.8022 - val_accuracy: 0.1289 - val_top-3-accuracy: 0.3368\n",
      "Epoch 2/300\n",
      "1289/1289 [==============================] - 299s 232ms/step - loss: 2.8033 - accuracy: 0.1246 - top-3-accuracy: 0.3311 - val_loss: 2.8006 - val_accuracy: 0.1294 - val_top-3-accuracy: 0.3386\n",
      "Epoch 3/300\n",
      "1289/1289 [==============================] - 299s 232ms/step - loss: 2.8025 - accuracy: 0.1255 - top-3-accuracy: 0.3323 - val_loss: 2.8005 - val_accuracy: 0.1294 - val_top-3-accuracy: 0.3388\n",
      "Epoch 4/300\n",
      "1289/1289 [==============================] - 299s 232ms/step - loss: 2.8022 - accuracy: 0.1262 - top-3-accuracy: 0.3328 - val_loss: 2.8005 - val_accuracy: 0.1292 - val_top-3-accuracy: 0.3388\n",
      "Epoch 5/300\n",
      "1289/1289 [==============================] - 300s 232ms/step - loss: 2.8020 - accuracy: 0.1264 - top-3-accuracy: 0.3337 - val_loss: 2.8004 - val_accuracy: 0.1294 - val_top-3-accuracy: 0.3389\n",
      "Epoch 6/300\n",
      "1289/1289 [==============================] - 295s 229ms/step - loss: 2.8018 - accuracy: 0.1267 - top-3-accuracy: 0.3341 - val_loss: 2.8003 - val_accuracy: 0.1293 - val_top-3-accuracy: 0.3389\n",
      "Epoch 7/300\n",
      "1289/1289 [==============================] - 305s 237ms/step - loss: 2.8016 - accuracy: 0.1270 - top-3-accuracy: 0.3343 - val_loss: 2.8003 - val_accuracy: 0.1294 - val_top-3-accuracy: 0.3389\n",
      "Epoch 8/300\n",
      "1289/1289 [==============================] - 298s 231ms/step - loss: 2.8015 - accuracy: 0.1270 - top-3-accuracy: 0.3348 - val_loss: 2.8003 - val_accuracy: 0.1293 - val_top-3-accuracy: 0.3384\n",
      "Epoch 9/300\n",
      "1289/1289 [==============================] - 297s 231ms/step - loss: 2.8015 - accuracy: 0.1274 - top-3-accuracy: 0.3347 - val_loss: 2.8004 - val_accuracy: 0.1293 - val_top-3-accuracy: 0.3385\n",
      "Epoch 10/300\n",
      " 671/1289 [==============>...............] - ETA: 2:09 - loss: 2.8023 - accuracy: 0.1274 - top-3-accuracy: 0.3349"
     ]
    },
    {
     "name": "stderr",
     "output_type": "stream",
     "text": [
      "Exception in thread Thread-15:\n",
      "Traceback (most recent call last):\n",
      "  File \"C:\\Users\\i368o351\\.conda\\envs\\ibk_tf_2.6\\lib\\threading.py\", line 973, in _bootstrap_inner\n",
      "    self.run()\n",
      "  File \"C:\\Users\\i368o351\\.conda\\envs\\ibk_tf_2.6\\lib\\threading.py\", line 910, in run\n",
      "    self._target(*self._args, **self._kwargs)\n",
      "  File \"C:\\Users\\i368o351\\.conda\\envs\\ibk_tf_2.6\\lib\\site-packages\\wandb\\sdk\\wandb_run.py\", line 149, in check_network_status\n",
      "    status_response = self._interface.communicate_network_status()\n",
      "  File \"C:\\Users\\i368o351\\.conda\\envs\\ibk_tf_2.6\\lib\\site-packages\\wandb\\sdk\\interface\\interface.py\", line 120, in communicate_network_status\n",
      "    resp = self._communicate_network_status(status)\n",
      "  File \"C:\\Users\\i368o351\\.conda\\envs\\ibk_tf_2.6\\lib\\site-packages\\wandb\\sdk\\interface\\interface_queue.py\", line 411, in _communicate_network_status\n",
      "    resp = self._communicate(req, local=True)\n",
      "  File \"C:\\Users\\i368o351\\.conda\\envs\\ibk_tf_2.6\\lib\\site-packages\\wandb\\sdk\\interface\\interface_queue.py\", line 232, in _communicate\n",
      "    return self._communicate_async(rec, local=local).get(timeout=timeout)\n",
      "  File \"C:\\Users\\i368o351\\.conda\\envs\\ibk_tf_2.6\\lib\\site-packages\\wandb\\sdk\\interface\\interface_queue.py\", line 237, in _communicate_async\n",
      "    raise Exception(\"The wandb backend process has shutdown\")\n",
      "Exception: The wandb backend process has shutdown\n"
     ]
    },
    {
     "name": "stdout",
     "output_type": "stream",
     "text": [
      " 716/1289 [===============>..............] - ETA: 2:00 - loss: 2.8022 - accuracy: 0.1274 - top-3-accuracy: 0.3350"
     ]
    },
    {
     "name": "stderr",
     "output_type": "stream",
     "text": [
      "Exception in thread Thread-14:\n",
      "Traceback (most recent call last):\n",
      "  File \"C:\\Users\\i368o351\\.conda\\envs\\ibk_tf_2.6\\lib\\threading.py\", line 973, in _bootstrap_inner\n",
      "    self.run()\n",
      "  File \"C:\\Users\\i368o351\\.conda\\envs\\ibk_tf_2.6\\lib\\threading.py\", line 910, in run\n",
      "    self._target(*self._args, **self._kwargs)\n",
      "  File \"C:\\Users\\i368o351\\.conda\\envs\\ibk_tf_2.6\\lib\\site-packages\\wandb\\sdk\\wandb_run.py\", line 167, in check_status\n",
      "    status_response = self._interface.communicate_stop_status()\n",
      "  File \"C:\\Users\\i368o351\\.conda\\envs\\ibk_tf_2.6\\lib\\site-packages\\wandb\\sdk\\interface\\interface.py\", line 109, in communicate_stop_status\n",
      "    resp = self._communicate_stop_status(status)\n",
      "  File \"C:\\Users\\i368o351\\.conda\\envs\\ibk_tf_2.6\\lib\\site-packages\\wandb\\sdk\\interface\\interface_queue.py\", line 401, in _communicate_stop_status\n",
      "    resp = self._communicate(req, local=True)\n",
      "  File \"C:\\Users\\i368o351\\.conda\\envs\\ibk_tf_2.6\\lib\\site-packages\\wandb\\sdk\\interface\\interface_queue.py\", line 232, in _communicate\n",
      "    return self._communicate_async(rec, local=local).get(timeout=timeout)\n",
      "  File \"C:\\Users\\i368o351\\.conda\\envs\\ibk_tf_2.6\\lib\\site-packages\\wandb\\sdk\\interface\\interface_queue.py\", line 237, in _communicate_async\n",
      "    raise Exception(\"The wandb backend process has shutdown\")\n",
      "Exception: The wandb backend process has shutdown\n"
     ]
    },
    {
     "name": "stdout",
     "output_type": "stream",
     "text": [
      "1289/1289 [==============================] - 295s 229ms/step - loss: 2.8015 - accuracy: 0.1271 - top-3-accuracy: 0.3351 - val_loss: 2.8006 - val_accuracy: 0.1293 - val_top-3-accuracy: 0.3388\n"
     ]
    },
    {
     "ename": "Exception",
     "evalue": "The wandb backend process has shutdown",
     "output_type": "error",
     "traceback": [
      "\u001b[1;31m---------------------------------------------------------------------------\u001b[0m",
      "\u001b[1;31mException\u001b[0m                                 Traceback (most recent call last)",
      "\u001b[1;32m~\\AppData\\Local\\Temp/ipykernel_7492/1654653528.py\u001b[0m in \u001b[0;36m<module>\u001b[1;34m\u001b[0m\n\u001b[0;32m     12\u001b[0m     \u001b[0mWandbCallback\u001b[0m\u001b[1;33m(\u001b[0m\u001b[1;33m)\u001b[0m\u001b[1;33m\u001b[0m\u001b[1;33m\u001b[0m\u001b[0m\n\u001b[0;32m     13\u001b[0m ]\n\u001b[1;32m---> 14\u001b[1;33m history2 = loaded_model.fit(x_train, y_train_1hot,\n\u001b[0m\u001b[0;32m     15\u001b[0m           \u001b[0mepochs\u001b[0m\u001b[1;33m=\u001b[0m \u001b[0mnum_epochs\u001b[0m\u001b[1;33m,\u001b[0m\u001b[1;33m\u001b[0m\u001b[1;33m\u001b[0m\u001b[0m\n\u001b[0;32m     16\u001b[0m           \u001b[0mbatch_size\u001b[0m\u001b[1;33m=\u001b[0m \u001b[0mbatch_size\u001b[0m\u001b[1;33m,\u001b[0m\u001b[1;33m\u001b[0m\u001b[1;33m\u001b[0m\u001b[0m\n",
      "\u001b[1;32m~\\.conda\\envs\\ibk_tf_2.6\\lib\\site-packages\\wandb\\integration\\keras\\keras.py\u001b[0m in \u001b[0;36mnew_v2\u001b[1;34m(*args, **kwargs)\u001b[0m\n\u001b[0;32m    148\u001b[0m             \u001b[1;32mfor\u001b[0m \u001b[0mcbk\u001b[0m \u001b[1;32min\u001b[0m \u001b[0mcbks\u001b[0m\u001b[1;33m:\u001b[0m\u001b[1;33m\u001b[0m\u001b[1;33m\u001b[0m\u001b[0m\n\u001b[0;32m    149\u001b[0m                 \u001b[0mset_wandb_attrs\u001b[0m\u001b[1;33m(\u001b[0m\u001b[0mcbk\u001b[0m\u001b[1;33m,\u001b[0m \u001b[0mval_data\u001b[0m\u001b[1;33m)\u001b[0m\u001b[1;33m\u001b[0m\u001b[1;33m\u001b[0m\u001b[0m\n\u001b[1;32m--> 150\u001b[1;33m         \u001b[1;32mreturn\u001b[0m \u001b[0mold_v2\u001b[0m\u001b[1;33m(\u001b[0m\u001b[1;33m*\u001b[0m\u001b[0margs\u001b[0m\u001b[1;33m,\u001b[0m \u001b[1;33m**\u001b[0m\u001b[0mkwargs\u001b[0m\u001b[1;33m)\u001b[0m\u001b[1;33m\u001b[0m\u001b[1;33m\u001b[0m\u001b[0m\n\u001b[0m\u001b[0;32m    151\u001b[0m \u001b[1;33m\u001b[0m\u001b[0m\n\u001b[0;32m    152\u001b[0m     \u001b[0mtraining_arrays\u001b[0m\u001b[1;33m.\u001b[0m\u001b[0morig_fit_loop\u001b[0m \u001b[1;33m=\u001b[0m \u001b[0mold_arrays\u001b[0m\u001b[1;33m\u001b[0m\u001b[1;33m\u001b[0m\u001b[0m\n",
      "\u001b[1;32m~\\.conda\\envs\\ibk_tf_2.6\\lib\\site-packages\\keras\\engine\\training.py\u001b[0m in \u001b[0;36mfit\u001b[1;34m(self, x, y, batch_size, epochs, verbose, callbacks, validation_split, validation_data, shuffle, class_weight, sample_weight, initial_epoch, steps_per_epoch, validation_steps, validation_batch_size, validation_freq, max_queue_size, workers, use_multiprocessing)\u001b[0m\n\u001b[0;32m   1228\u001b[0m           \u001b[0mepoch_logs\u001b[0m\u001b[1;33m.\u001b[0m\u001b[0mupdate\u001b[0m\u001b[1;33m(\u001b[0m\u001b[0mval_logs\u001b[0m\u001b[1;33m)\u001b[0m\u001b[1;33m\u001b[0m\u001b[1;33m\u001b[0m\u001b[0m\n\u001b[0;32m   1229\u001b[0m \u001b[1;33m\u001b[0m\u001b[0m\n\u001b[1;32m-> 1230\u001b[1;33m         \u001b[0mcallbacks\u001b[0m\u001b[1;33m.\u001b[0m\u001b[0mon_epoch_end\u001b[0m\u001b[1;33m(\u001b[0m\u001b[0mepoch\u001b[0m\u001b[1;33m,\u001b[0m \u001b[0mepoch_logs\u001b[0m\u001b[1;33m)\u001b[0m\u001b[1;33m\u001b[0m\u001b[1;33m\u001b[0m\u001b[0m\n\u001b[0m\u001b[0;32m   1231\u001b[0m         \u001b[0mtraining_logs\u001b[0m \u001b[1;33m=\u001b[0m \u001b[0mepoch_logs\u001b[0m\u001b[1;33m\u001b[0m\u001b[1;33m\u001b[0m\u001b[0m\n\u001b[0;32m   1232\u001b[0m         \u001b[1;32mif\u001b[0m \u001b[0mself\u001b[0m\u001b[1;33m.\u001b[0m\u001b[0mstop_training\u001b[0m\u001b[1;33m:\u001b[0m\u001b[1;33m\u001b[0m\u001b[1;33m\u001b[0m\u001b[0m\n",
      "\u001b[1;32m~\\.conda\\envs\\ibk_tf_2.6\\lib\\site-packages\\keras\\callbacks.py\u001b[0m in \u001b[0;36mon_epoch_end\u001b[1;34m(self, epoch, logs)\u001b[0m\n\u001b[0;32m    411\u001b[0m     \u001b[0mlogs\u001b[0m \u001b[1;33m=\u001b[0m \u001b[0mself\u001b[0m\u001b[1;33m.\u001b[0m\u001b[0m_process_logs\u001b[0m\u001b[1;33m(\u001b[0m\u001b[0mlogs\u001b[0m\u001b[1;33m)\u001b[0m\u001b[1;33m\u001b[0m\u001b[1;33m\u001b[0m\u001b[0m\n\u001b[0;32m    412\u001b[0m     \u001b[1;32mfor\u001b[0m \u001b[0mcallback\u001b[0m \u001b[1;32min\u001b[0m \u001b[0mself\u001b[0m\u001b[1;33m.\u001b[0m\u001b[0mcallbacks\u001b[0m\u001b[1;33m:\u001b[0m\u001b[1;33m\u001b[0m\u001b[1;33m\u001b[0m\u001b[0m\n\u001b[1;32m--> 413\u001b[1;33m       \u001b[0mcallback\u001b[0m\u001b[1;33m.\u001b[0m\u001b[0mon_epoch_end\u001b[0m\u001b[1;33m(\u001b[0m\u001b[0mepoch\u001b[0m\u001b[1;33m,\u001b[0m \u001b[0mlogs\u001b[0m\u001b[1;33m)\u001b[0m\u001b[1;33m\u001b[0m\u001b[1;33m\u001b[0m\u001b[0m\n\u001b[0m\u001b[0;32m    414\u001b[0m \u001b[1;33m\u001b[0m\u001b[0m\n\u001b[0;32m    415\u001b[0m   \u001b[1;32mdef\u001b[0m \u001b[0mon_train_batch_begin\u001b[0m\u001b[1;33m(\u001b[0m\u001b[0mself\u001b[0m\u001b[1;33m,\u001b[0m \u001b[0mbatch\u001b[0m\u001b[1;33m,\u001b[0m \u001b[0mlogs\u001b[0m\u001b[1;33m=\u001b[0m\u001b[1;32mNone\u001b[0m\u001b[1;33m)\u001b[0m\u001b[1;33m:\u001b[0m\u001b[1;33m\u001b[0m\u001b[1;33m\u001b[0m\u001b[0m\n",
      "\u001b[1;32m~\\.conda\\envs\\ibk_tf_2.6\\lib\\site-packages\\wandb\\integration\\keras\\keras.py\u001b[0m in \u001b[0;36mon_epoch_end\u001b[1;34m(self, epoch, logs)\u001b[0m\n\u001b[0;32m    524\u001b[0m \u001b[1;33m\u001b[0m\u001b[0m\n\u001b[0;32m    525\u001b[0m         \u001b[0mwandb\u001b[0m\u001b[1;33m.\u001b[0m\u001b[0mlog\u001b[0m\u001b[1;33m(\u001b[0m\u001b[1;33m{\u001b[0m\u001b[1;34m\"epoch\"\u001b[0m\u001b[1;33m:\u001b[0m \u001b[0mepoch\u001b[0m\u001b[1;33m}\u001b[0m\u001b[1;33m,\u001b[0m \u001b[0mcommit\u001b[0m\u001b[1;33m=\u001b[0m\u001b[1;32mFalse\u001b[0m\u001b[1;33m)\u001b[0m\u001b[1;33m\u001b[0m\u001b[1;33m\u001b[0m\u001b[0m\n\u001b[1;32m--> 526\u001b[1;33m         \u001b[0mwandb\u001b[0m\u001b[1;33m.\u001b[0m\u001b[0mlog\u001b[0m\u001b[1;33m(\u001b[0m\u001b[0mlogs\u001b[0m\u001b[1;33m,\u001b[0m \u001b[0mcommit\u001b[0m\u001b[1;33m=\u001b[0m\u001b[1;32mTrue\u001b[0m\u001b[1;33m)\u001b[0m\u001b[1;33m\u001b[0m\u001b[1;33m\u001b[0m\u001b[0m\n\u001b[0m\u001b[0;32m    527\u001b[0m \u001b[1;33m\u001b[0m\u001b[0m\n\u001b[0;32m    528\u001b[0m         \u001b[0mself\u001b[0m\u001b[1;33m.\u001b[0m\u001b[0mcurrent\u001b[0m \u001b[1;33m=\u001b[0m \u001b[0mlogs\u001b[0m\u001b[1;33m.\u001b[0m\u001b[0mget\u001b[0m\u001b[1;33m(\u001b[0m\u001b[0mself\u001b[0m\u001b[1;33m.\u001b[0m\u001b[0mmonitor\u001b[0m\u001b[1;33m)\u001b[0m\u001b[1;33m\u001b[0m\u001b[1;33m\u001b[0m\u001b[0m\n",
      "\u001b[1;32m~\\.conda\\envs\\ibk_tf_2.6\\lib\\site-packages\\wandb\\sdk\\wandb_run.py\u001b[0m in \u001b[0;36mlog\u001b[1;34m(self, data, step, commit, sync)\u001b[0m\n\u001b[0;32m   1227\u001b[0m             \u001b[0mcommit\u001b[0m \u001b[1;33m=\u001b[0m \u001b[1;32mTrue\u001b[0m\u001b[1;33m\u001b[0m\u001b[1;33m\u001b[0m\u001b[0m\n\u001b[0;32m   1228\u001b[0m         \u001b[1;32mif\u001b[0m \u001b[0mcommit\u001b[0m\u001b[1;33m:\u001b[0m\u001b[1;33m\u001b[0m\u001b[1;33m\u001b[0m\u001b[0m\n\u001b[1;32m-> 1229\u001b[1;33m             \u001b[0mself\u001b[0m\u001b[1;33m.\u001b[0m\u001b[0mhistory\u001b[0m\u001b[1;33m.\u001b[0m\u001b[0m_row_add\u001b[0m\u001b[1;33m(\u001b[0m\u001b[0mdata\u001b[0m\u001b[1;33m)\u001b[0m\u001b[1;33m\u001b[0m\u001b[1;33m\u001b[0m\u001b[0m\n\u001b[0m\u001b[0;32m   1230\u001b[0m         \u001b[1;32melse\u001b[0m\u001b[1;33m:\u001b[0m\u001b[1;33m\u001b[0m\u001b[1;33m\u001b[0m\u001b[0m\n\u001b[0;32m   1231\u001b[0m             \u001b[0mself\u001b[0m\u001b[1;33m.\u001b[0m\u001b[0mhistory\u001b[0m\u001b[1;33m.\u001b[0m\u001b[0m_row_update\u001b[0m\u001b[1;33m(\u001b[0m\u001b[0mdata\u001b[0m\u001b[1;33m)\u001b[0m\u001b[1;33m\u001b[0m\u001b[1;33m\u001b[0m\u001b[0m\n",
      "\u001b[1;32m~\\.conda\\envs\\ibk_tf_2.6\\lib\\site-packages\\wandb\\sdk\\wandb_history.py\u001b[0m in \u001b[0;36m_row_add\u001b[1;34m(self, row)\u001b[0m\n\u001b[0;32m     42\u001b[0m     \u001b[1;32mdef\u001b[0m \u001b[0m_row_add\u001b[0m\u001b[1;33m(\u001b[0m\u001b[0mself\u001b[0m\u001b[1;33m,\u001b[0m \u001b[0mrow\u001b[0m\u001b[1;33m)\u001b[0m\u001b[1;33m:\u001b[0m\u001b[1;33m\u001b[0m\u001b[1;33m\u001b[0m\u001b[0m\n\u001b[0;32m     43\u001b[0m         \u001b[0mself\u001b[0m\u001b[1;33m.\u001b[0m\u001b[0m_data\u001b[0m\u001b[1;33m.\u001b[0m\u001b[0mupdate\u001b[0m\u001b[1;33m(\u001b[0m\u001b[0mrow\u001b[0m\u001b[1;33m)\u001b[0m\u001b[1;33m\u001b[0m\u001b[1;33m\u001b[0m\u001b[0m\n\u001b[1;32m---> 44\u001b[1;33m         \u001b[0mself\u001b[0m\u001b[1;33m.\u001b[0m\u001b[0m_flush\u001b[0m\u001b[1;33m(\u001b[0m\u001b[1;33m)\u001b[0m\u001b[1;33m\u001b[0m\u001b[1;33m\u001b[0m\u001b[0m\n\u001b[0m\u001b[0;32m     45\u001b[0m         \u001b[0mself\u001b[0m\u001b[1;33m.\u001b[0m\u001b[0m_step\u001b[0m \u001b[1;33m+=\u001b[0m \u001b[1;36m1\u001b[0m\u001b[1;33m\u001b[0m\u001b[1;33m\u001b[0m\u001b[0m\n\u001b[0;32m     46\u001b[0m \u001b[1;33m\u001b[0m\u001b[0m\n",
      "\u001b[1;32m~\\.conda\\envs\\ibk_tf_2.6\\lib\\site-packages\\wandb\\sdk\\wandb_history.py\u001b[0m in \u001b[0;36m_flush\u001b[1;34m(self)\u001b[0m\n\u001b[0;32m     57\u001b[0m             \u001b[0mself\u001b[0m\u001b[1;33m.\u001b[0m\u001b[0m_data\u001b[0m\u001b[1;33m[\u001b[0m\u001b[1;34m\"_timestamp\"\u001b[0m\u001b[1;33m]\u001b[0m \u001b[1;33m=\u001b[0m \u001b[0mint\u001b[0m\u001b[1;33m(\u001b[0m\u001b[0mself\u001b[0m\u001b[1;33m.\u001b[0m\u001b[0m_data\u001b[0m\u001b[1;33m.\u001b[0m\u001b[0mget\u001b[0m\u001b[1;33m(\u001b[0m\u001b[1;34m\"_timestamp\"\u001b[0m\u001b[1;33m,\u001b[0m \u001b[0mtime\u001b[0m\u001b[1;33m.\u001b[0m\u001b[0mtime\u001b[0m\u001b[1;33m(\u001b[0m\u001b[1;33m)\u001b[0m\u001b[1;33m)\u001b[0m\u001b[1;33m)\u001b[0m\u001b[1;33m\u001b[0m\u001b[1;33m\u001b[0m\u001b[0m\n\u001b[0;32m     58\u001b[0m             \u001b[1;32mif\u001b[0m \u001b[0mself\u001b[0m\u001b[1;33m.\u001b[0m\u001b[0m_callback\u001b[0m\u001b[1;33m:\u001b[0m\u001b[1;33m\u001b[0m\u001b[1;33m\u001b[0m\u001b[0m\n\u001b[1;32m---> 59\u001b[1;33m                 \u001b[0mself\u001b[0m\u001b[1;33m.\u001b[0m\u001b[0m_callback\u001b[0m\u001b[1;33m(\u001b[0m\u001b[0mrow\u001b[0m\u001b[1;33m=\u001b[0m\u001b[0mself\u001b[0m\u001b[1;33m.\u001b[0m\u001b[0m_data\u001b[0m\u001b[1;33m,\u001b[0m \u001b[0mstep\u001b[0m\u001b[1;33m=\u001b[0m\u001b[0mself\u001b[0m\u001b[1;33m.\u001b[0m\u001b[0m_step\u001b[0m\u001b[1;33m)\u001b[0m\u001b[1;33m\u001b[0m\u001b[1;33m\u001b[0m\u001b[0m\n\u001b[0m\u001b[0;32m     60\u001b[0m             \u001b[0mself\u001b[0m\u001b[1;33m.\u001b[0m\u001b[0m_data\u001b[0m \u001b[1;33m=\u001b[0m \u001b[0mdict\u001b[0m\u001b[1;33m(\u001b[0m\u001b[1;33m)\u001b[0m\u001b[1;33m\u001b[0m\u001b[1;33m\u001b[0m\u001b[0m\n\u001b[0;32m     61\u001b[0m \u001b[1;33m\u001b[0m\u001b[0m\n",
      "\u001b[1;32m~\\.conda\\envs\\ibk_tf_2.6\\lib\\site-packages\\wandb\\sdk\\wandb_run.py\u001b[0m in \u001b[0;36m_history_callback\u001b[1;34m(self, row, step)\u001b[0m\n\u001b[0;32m    970\u001b[0m         \u001b[1;32mif\u001b[0m \u001b[0mself\u001b[0m\u001b[1;33m.\u001b[0m\u001b[0m_backend\u001b[0m \u001b[1;32mand\u001b[0m \u001b[0mself\u001b[0m\u001b[1;33m.\u001b[0m\u001b[0m_backend\u001b[0m\u001b[1;33m.\u001b[0m\u001b[0minterface\u001b[0m\u001b[1;33m:\u001b[0m\u001b[1;33m\u001b[0m\u001b[1;33m\u001b[0m\u001b[0m\n\u001b[0;32m    971\u001b[0m             \u001b[0mnot_using_tensorboard\u001b[0m \u001b[1;33m=\u001b[0m \u001b[0mlen\u001b[0m\u001b[1;33m(\u001b[0m\u001b[0mwandb\u001b[0m\u001b[1;33m.\u001b[0m\u001b[0mpatched\u001b[0m\u001b[1;33m[\u001b[0m\u001b[1;34m\"tensorboard\"\u001b[0m\u001b[1;33m]\u001b[0m\u001b[1;33m)\u001b[0m \u001b[1;33m==\u001b[0m \u001b[1;36m0\u001b[0m\u001b[1;33m\u001b[0m\u001b[1;33m\u001b[0m\u001b[0m\n\u001b[1;32m--> 972\u001b[1;33m             self._backend.interface.publish_history(\n\u001b[0m\u001b[0;32m    973\u001b[0m                 \u001b[0mrow\u001b[0m\u001b[1;33m,\u001b[0m \u001b[0mstep\u001b[0m\u001b[1;33m,\u001b[0m \u001b[0mpublish_step\u001b[0m\u001b[1;33m=\u001b[0m\u001b[0mnot_using_tensorboard\u001b[0m\u001b[1;33m\u001b[0m\u001b[1;33m\u001b[0m\u001b[0m\n\u001b[0;32m    974\u001b[0m             )\n",
      "\u001b[1;32m~\\.conda\\envs\\ibk_tf_2.6\\lib\\site-packages\\wandb\\sdk\\interface\\interface.py\u001b[0m in \u001b[0;36mpublish_history\u001b[1;34m(self, data, step, run, publish_step)\u001b[0m\n\u001b[0;32m    499\u001b[0m             \u001b[0mitem\u001b[0m\u001b[1;33m.\u001b[0m\u001b[0mkey\u001b[0m \u001b[1;33m=\u001b[0m \u001b[0mk\u001b[0m\u001b[1;33m\u001b[0m\u001b[1;33m\u001b[0m\u001b[0m\n\u001b[0;32m    500\u001b[0m             \u001b[0mitem\u001b[0m\u001b[1;33m.\u001b[0m\u001b[0mvalue_json\u001b[0m \u001b[1;33m=\u001b[0m \u001b[0mjson_dumps_safer_history\u001b[0m\u001b[1;33m(\u001b[0m\u001b[0mv\u001b[0m\u001b[1;33m)\u001b[0m  \u001b[1;31m# type: ignore\u001b[0m\u001b[1;33m\u001b[0m\u001b[1;33m\u001b[0m\u001b[0m\n\u001b[1;32m--> 501\u001b[1;33m         \u001b[0mself\u001b[0m\u001b[1;33m.\u001b[0m\u001b[0m_publish_history\u001b[0m\u001b[1;33m(\u001b[0m\u001b[0mhistory\u001b[0m\u001b[1;33m)\u001b[0m\u001b[1;33m\u001b[0m\u001b[1;33m\u001b[0m\u001b[0m\n\u001b[0m\u001b[0;32m    502\u001b[0m \u001b[1;33m\u001b[0m\u001b[0m\n\u001b[0;32m    503\u001b[0m     \u001b[1;33m@\u001b[0m\u001b[0mabstractmethod\u001b[0m\u001b[1;33m\u001b[0m\u001b[1;33m\u001b[0m\u001b[0m\n",
      "\u001b[1;32m~\\.conda\\envs\\ibk_tf_2.6\\lib\\site-packages\\wandb\\sdk\\interface\\interface_queue.py\u001b[0m in \u001b[0;36m_publish_history\u001b[1;34m(self, history)\u001b[0m\n\u001b[0;32m     72\u001b[0m     \u001b[1;32mdef\u001b[0m \u001b[0m_publish_history\u001b[0m\u001b[1;33m(\u001b[0m\u001b[0mself\u001b[0m\u001b[1;33m,\u001b[0m \u001b[0mhistory\u001b[0m\u001b[1;33m:\u001b[0m \u001b[0mpb\u001b[0m\u001b[1;33m.\u001b[0m\u001b[0mHistoryRecord\u001b[0m\u001b[1;33m)\u001b[0m \u001b[1;33m->\u001b[0m \u001b[1;32mNone\u001b[0m\u001b[1;33m:\u001b[0m\u001b[1;33m\u001b[0m\u001b[1;33m\u001b[0m\u001b[0m\n\u001b[0;32m     73\u001b[0m         \u001b[0mrec\u001b[0m \u001b[1;33m=\u001b[0m \u001b[0mself\u001b[0m\u001b[1;33m.\u001b[0m\u001b[0m_make_record\u001b[0m\u001b[1;33m(\u001b[0m\u001b[0mhistory\u001b[0m\u001b[1;33m=\u001b[0m\u001b[0mhistory\u001b[0m\u001b[1;33m)\u001b[0m\u001b[1;33m\u001b[0m\u001b[1;33m\u001b[0m\u001b[0m\n\u001b[1;32m---> 74\u001b[1;33m         \u001b[0mself\u001b[0m\u001b[1;33m.\u001b[0m\u001b[0m_publish\u001b[0m\u001b[1;33m(\u001b[0m\u001b[0mrec\u001b[0m\u001b[1;33m)\u001b[0m\u001b[1;33m\u001b[0m\u001b[1;33m\u001b[0m\u001b[0m\n\u001b[0m\u001b[0;32m     75\u001b[0m \u001b[1;33m\u001b[0m\u001b[0m\n\u001b[0;32m     76\u001b[0m     \u001b[1;32mdef\u001b[0m \u001b[0m_publish_preempting\u001b[0m\u001b[1;33m(\u001b[0m\u001b[0mself\u001b[0m\u001b[1;33m,\u001b[0m \u001b[0mpreempt_rec\u001b[0m\u001b[1;33m:\u001b[0m \u001b[0mpb\u001b[0m\u001b[1;33m.\u001b[0m\u001b[0mRunPreemptingRecord\u001b[0m\u001b[1;33m)\u001b[0m \u001b[1;33m->\u001b[0m \u001b[1;32mNone\u001b[0m\u001b[1;33m:\u001b[0m\u001b[1;33m\u001b[0m\u001b[1;33m\u001b[0m\u001b[0m\n",
      "\u001b[1;32m~\\.conda\\envs\\ibk_tf_2.6\\lib\\site-packages\\wandb\\sdk\\interface\\interface_queue.py\u001b[0m in \u001b[0;36m_publish\u001b[1;34m(self, record, local)\u001b[0m\n\u001b[0;32m    221\u001b[0m     \u001b[1;32mdef\u001b[0m \u001b[0m_publish\u001b[0m\u001b[1;33m(\u001b[0m\u001b[0mself\u001b[0m\u001b[1;33m,\u001b[0m \u001b[0mrecord\u001b[0m\u001b[1;33m:\u001b[0m \u001b[0mpb\u001b[0m\u001b[1;33m.\u001b[0m\u001b[0mRecord\u001b[0m\u001b[1;33m,\u001b[0m \u001b[0mlocal\u001b[0m\u001b[1;33m:\u001b[0m \u001b[0mbool\u001b[0m \u001b[1;33m=\u001b[0m \u001b[1;32mNone\u001b[0m\u001b[1;33m)\u001b[0m \u001b[1;33m->\u001b[0m \u001b[1;32mNone\u001b[0m\u001b[1;33m:\u001b[0m\u001b[1;33m\u001b[0m\u001b[1;33m\u001b[0m\u001b[0m\n\u001b[0;32m    222\u001b[0m         \u001b[1;32mif\u001b[0m \u001b[0mself\u001b[0m\u001b[1;33m.\u001b[0m\u001b[0m_process_check\u001b[0m \u001b[1;32mand\u001b[0m \u001b[0mself\u001b[0m\u001b[1;33m.\u001b[0m\u001b[0m_process\u001b[0m \u001b[1;32mand\u001b[0m \u001b[1;32mnot\u001b[0m \u001b[0mself\u001b[0m\u001b[1;33m.\u001b[0m\u001b[0m_process\u001b[0m\u001b[1;33m.\u001b[0m\u001b[0mis_alive\u001b[0m\u001b[1;33m(\u001b[0m\u001b[1;33m)\u001b[0m\u001b[1;33m:\u001b[0m\u001b[1;33m\u001b[0m\u001b[1;33m\u001b[0m\u001b[0m\n\u001b[1;32m--> 223\u001b[1;33m             \u001b[1;32mraise\u001b[0m \u001b[0mException\u001b[0m\u001b[1;33m(\u001b[0m\u001b[1;34m\"The wandb backend process has shutdown\"\u001b[0m\u001b[1;33m)\u001b[0m\u001b[1;33m\u001b[0m\u001b[1;33m\u001b[0m\u001b[0m\n\u001b[0m\u001b[0;32m    224\u001b[0m         \u001b[1;32mif\u001b[0m \u001b[0mlocal\u001b[0m\u001b[1;33m:\u001b[0m\u001b[1;33m\u001b[0m\u001b[1;33m\u001b[0m\u001b[0m\n\u001b[0;32m    225\u001b[0m             \u001b[0mrecord\u001b[0m\u001b[1;33m.\u001b[0m\u001b[0mcontrol\u001b[0m\u001b[1;33m.\u001b[0m\u001b[0mlocal\u001b[0m \u001b[1;33m=\u001b[0m \u001b[0mlocal\u001b[0m\u001b[1;33m\u001b[0m\u001b[1;33m\u001b[0m\u001b[0m\n",
      "\u001b[1;31mException\u001b[0m: The wandb backend process has shutdown"
     ]
    },
    {
     "name": "stdout",
     "output_type": "stream",
     "text": [
      "Error in callback <function _WandbInit._pause_backend at 0x000001667592C670> (for post_run_cell):\n"
     ]
    },
    {
     "name": "stderr",
     "output_type": "stream",
     "text": [
      "--- Logging error ---\n",
      "Traceback (most recent call last):\n",
      "  File \"C:\\Users\\i368o351\\.conda\\envs\\ibk_tf_2.6\\lib\\logging\\__init__.py\", line 1087, in emit\n",
      "    self.flush()\n",
      "  File \"C:\\Users\\i368o351\\.conda\\envs\\ibk_tf_2.6\\lib\\logging\\__init__.py\", line 1067, in flush\n",
      "    self.stream.flush()\n",
      "OSError: [Errno 22] Invalid argument\n",
      "Call stack:\n",
      "  File \"C:\\Users\\i368o351\\.conda\\envs\\ibk_tf_2.6\\lib\\runpy.py\", line 197, in _run_module_as_main\n",
      "    return _run_code(code, main_globals, None,\n",
      "  File \"C:\\Users\\i368o351\\.conda\\envs\\ibk_tf_2.6\\lib\\runpy.py\", line 87, in _run_code\n",
      "    exec(code, run_globals)\n",
      "  File \"C:\\Users\\i368o351\\.conda\\envs\\ibk_tf_2.6\\lib\\site-packages\\ipykernel_launcher.py\", line 16, in <module>\n",
      "    app.launch_new_instance()\n",
      "  File \"C:\\Users\\i368o351\\.conda\\envs\\ibk_tf_2.6\\lib\\site-packages\\traitlets\\config\\application.py\", line 846, in launch_instance\n",
      "    app.start()\n",
      "  File \"C:\\Users\\i368o351\\.conda\\envs\\ibk_tf_2.6\\lib\\site-packages\\ipykernel\\kernelapp.py\", line 677, in start\n",
      "    self.io_loop.start()\n",
      "  File \"C:\\Users\\i368o351\\.conda\\envs\\ibk_tf_2.6\\lib\\site-packages\\tornado\\platform\\asyncio.py\", line 199, in start\n",
      "    self.asyncio_loop.run_forever()\n",
      "  File \"C:\\Users\\i368o351\\.conda\\envs\\ibk_tf_2.6\\lib\\asyncio\\base_events.py\", line 596, in run_forever\n",
      "    self._run_once()\n",
      "  File \"C:\\Users\\i368o351\\.conda\\envs\\ibk_tf_2.6\\lib\\asyncio\\base_events.py\", line 1890, in _run_once\n",
      "    handle._run()\n",
      "  File \"C:\\Users\\i368o351\\.conda\\envs\\ibk_tf_2.6\\lib\\asyncio\\events.py\", line 80, in _run\n",
      "    self._context.run(self._callback, *self._args)\n",
      "  File \"C:\\Users\\i368o351\\.conda\\envs\\ibk_tf_2.6\\lib\\site-packages\\ipykernel\\kernelbase.py\", line 457, in dispatch_queue\n",
      "    await self.process_one()\n",
      "  File \"C:\\Users\\i368o351\\.conda\\envs\\ibk_tf_2.6\\lib\\site-packages\\ipykernel\\kernelbase.py\", line 446, in process_one\n",
      "    await dispatch(*args)\n",
      "  File \"C:\\Users\\i368o351\\.conda\\envs\\ibk_tf_2.6\\lib\\site-packages\\ipykernel\\kernelbase.py\", line 353, in dispatch_shell\n",
      "    await result\n",
      "  File \"C:\\Users\\i368o351\\.conda\\envs\\ibk_tf_2.6\\lib\\site-packages\\ipykernel\\kernelbase.py\", line 648, in execute_request\n",
      "    reply_content = await reply_content\n",
      "  File \"C:\\Users\\i368o351\\.conda\\envs\\ibk_tf_2.6\\lib\\site-packages\\ipykernel\\ipkernel.py\", line 353, in do_execute\n",
      "    res = shell.run_cell(code, store_history=store_history, silent=silent)\n",
      "  File \"C:\\Users\\i368o351\\.conda\\envs\\ibk_tf_2.6\\lib\\site-packages\\ipykernel\\zmqshell.py\", line 533, in run_cell\n",
      "    return super(ZMQInteractiveShell, self).run_cell(*args, **kwargs)\n",
      "  File \"C:\\Users\\i368o351\\.conda\\envs\\ibk_tf_2.6\\lib\\site-packages\\IPython\\core\\interactiveshell.py\", line 2906, in run_cell\n",
      "    self.events.trigger('post_run_cell', result)\n",
      "  File \"C:\\Users\\i368o351\\.conda\\envs\\ibk_tf_2.6\\lib\\site-packages\\IPython\\core\\events.py\", line 89, in trigger\n",
      "    func(*args, **kwargs)\n",
      "  File \"C:\\Users\\i368o351\\.conda\\envs\\ibk_tf_2.6\\lib\\site-packages\\backcall\\backcall.py\", line 104, in adapted\n",
      "    return callback(*args, **kwargs)\n",
      "  File \"C:\\Users\\i368o351\\.conda\\envs\\ibk_tf_2.6\\lib\\site-packages\\wandb\\sdk\\wandb_init.py\", line 270, in _pause_backend\n",
      "    logger.info(\"pausing backend\")\n",
      "Message: 'pausing backend'\n",
      "Arguments: ()\n",
      "--- Logging error ---\n",
      "Traceback (most recent call last):\n",
      "  File \"C:\\Users\\i368o351\\.conda\\envs\\ibk_tf_2.6\\lib\\logging\\__init__.py\", line 1087, in emit\n",
      "    self.flush()\n",
      "  File \"C:\\Users\\i368o351\\.conda\\envs\\ibk_tf_2.6\\lib\\logging\\__init__.py\", line 1067, in flush\n",
      "    self.stream.flush()\n",
      "OSError: [Errno 22] Invalid argument\n",
      "Call stack:\n",
      "  File \"C:\\Users\\i368o351\\.conda\\envs\\ibk_tf_2.6\\lib\\runpy.py\", line 197, in _run_module_as_main\n",
      "    return _run_code(code, main_globals, None,\n",
      "  File \"C:\\Users\\i368o351\\.conda\\envs\\ibk_tf_2.6\\lib\\runpy.py\", line 87, in _run_code\n",
      "    exec(code, run_globals)\n",
      "  File \"C:\\Users\\i368o351\\.conda\\envs\\ibk_tf_2.6\\lib\\site-packages\\ipykernel_launcher.py\", line 16, in <module>\n",
      "    app.launch_new_instance()\n",
      "  File \"C:\\Users\\i368o351\\.conda\\envs\\ibk_tf_2.6\\lib\\site-packages\\traitlets\\config\\application.py\", line 846, in launch_instance\n",
      "    app.start()\n",
      "  File \"C:\\Users\\i368o351\\.conda\\envs\\ibk_tf_2.6\\lib\\site-packages\\ipykernel\\kernelapp.py\", line 677, in start\n",
      "    self.io_loop.start()\n",
      "  File \"C:\\Users\\i368o351\\.conda\\envs\\ibk_tf_2.6\\lib\\site-packages\\tornado\\platform\\asyncio.py\", line 199, in start\n",
      "    self.asyncio_loop.run_forever()\n",
      "  File \"C:\\Users\\i368o351\\.conda\\envs\\ibk_tf_2.6\\lib\\asyncio\\base_events.py\", line 596, in run_forever\n",
      "    self._run_once()\n",
      "  File \"C:\\Users\\i368o351\\.conda\\envs\\ibk_tf_2.6\\lib\\asyncio\\base_events.py\", line 1890, in _run_once\n",
      "    handle._run()\n",
      "  File \"C:\\Users\\i368o351\\.conda\\envs\\ibk_tf_2.6\\lib\\asyncio\\events.py\", line 80, in _run\n",
      "    self._context.run(self._callback, *self._args)\n",
      "  File \"C:\\Users\\i368o351\\.conda\\envs\\ibk_tf_2.6\\lib\\site-packages\\ipykernel\\kernelbase.py\", line 457, in dispatch_queue\n",
      "    await self.process_one()\n",
      "  File \"C:\\Users\\i368o351\\.conda\\envs\\ibk_tf_2.6\\lib\\site-packages\\ipykernel\\kernelbase.py\", line 446, in process_one\n",
      "    await dispatch(*args)\n",
      "  File \"C:\\Users\\i368o351\\.conda\\envs\\ibk_tf_2.6\\lib\\site-packages\\ipykernel\\kernelbase.py\", line 353, in dispatch_shell\n",
      "    await result\n",
      "  File \"C:\\Users\\i368o351\\.conda\\envs\\ibk_tf_2.6\\lib\\site-packages\\ipykernel\\kernelbase.py\", line 648, in execute_request\n",
      "    reply_content = await reply_content\n",
      "  File \"C:\\Users\\i368o351\\.conda\\envs\\ibk_tf_2.6\\lib\\site-packages\\ipykernel\\ipkernel.py\", line 353, in do_execute\n",
      "    res = shell.run_cell(code, store_history=store_history, silent=silent)\n",
      "  File \"C:\\Users\\i368o351\\.conda\\envs\\ibk_tf_2.6\\lib\\site-packages\\ipykernel\\zmqshell.py\", line 533, in run_cell\n",
      "    return super(ZMQInteractiveShell, self).run_cell(*args, **kwargs)\n",
      "  File \"C:\\Users\\i368o351\\.conda\\envs\\ibk_tf_2.6\\lib\\site-packages\\IPython\\core\\interactiveshell.py\", line 2906, in run_cell\n",
      "    self.events.trigger('post_run_cell', result)\n",
      "  File \"C:\\Users\\i368o351\\.conda\\envs\\ibk_tf_2.6\\lib\\site-packages\\IPython\\core\\events.py\", line 89, in trigger\n",
      "    func(*args, **kwargs)\n",
      "  File \"C:\\Users\\i368o351\\.conda\\envs\\ibk_tf_2.6\\lib\\site-packages\\backcall\\backcall.py\", line 104, in adapted\n",
      "    return callback(*args, **kwargs)\n",
      "  File \"C:\\Users\\i368o351\\.conda\\envs\\ibk_tf_2.6\\lib\\site-packages\\wandb\\sdk\\wandb_init.py\", line 272, in _pause_backend\n",
      "    if self.notebook.save_ipynb():\n",
      "  File \"C:\\Users\\i368o351\\.conda\\envs\\ibk_tf_2.6\\lib\\site-packages\\wandb\\jupyter.py\", line 374, in save_ipynb\n",
      "    logger.info(\"not saving jupyter notebook\")\n",
      "Message: 'not saving jupyter notebook'\n",
      "Arguments: ()\n"
     ]
    },
    {
     "ename": "Exception",
     "evalue": "The wandb backend process has shutdown",
     "output_type": "error",
     "traceback": [
      "\u001b[1;31m---------------------------------------------------------------------------\u001b[0m",
      "\u001b[1;31mException\u001b[0m                                 Traceback (most recent call last)",
      "\u001b[1;32m~\\.conda\\envs\\ibk_tf_2.6\\lib\\site-packages\\backcall\\backcall.py\u001b[0m in \u001b[0;36madapted\u001b[1;34m(*args, **kwargs)\u001b[0m\n\u001b[0;32m    102\u001b[0m                 \u001b[0mkwargs\u001b[0m\u001b[1;33m.\u001b[0m\u001b[0mpop\u001b[0m\u001b[1;33m(\u001b[0m\u001b[0mname\u001b[0m\u001b[1;33m)\u001b[0m\u001b[1;33m\u001b[0m\u001b[1;33m\u001b[0m\u001b[0m\n\u001b[0;32m    103\u001b[0m \u001b[1;31m#            print(args, kwargs, unmatched_pos, cut_positional, unmatched_kw)\u001b[0m\u001b[1;33m\u001b[0m\u001b[1;33m\u001b[0m\u001b[0m\n\u001b[1;32m--> 104\u001b[1;33m             \u001b[1;32mreturn\u001b[0m \u001b[0mcallback\u001b[0m\u001b[1;33m(\u001b[0m\u001b[1;33m*\u001b[0m\u001b[0margs\u001b[0m\u001b[1;33m,\u001b[0m \u001b[1;33m**\u001b[0m\u001b[0mkwargs\u001b[0m\u001b[1;33m)\u001b[0m\u001b[1;33m\u001b[0m\u001b[1;33m\u001b[0m\u001b[0m\n\u001b[0m\u001b[0;32m    105\u001b[0m \u001b[1;33m\u001b[0m\u001b[0m\n\u001b[0;32m    106\u001b[0m         \u001b[1;32mreturn\u001b[0m \u001b[0madapted\u001b[0m\u001b[1;33m\u001b[0m\u001b[1;33m\u001b[0m\u001b[0m\n",
      "\u001b[1;32m~\\.conda\\envs\\ibk_tf_2.6\\lib\\site-packages\\wandb\\sdk\\wandb_init.py\u001b[0m in \u001b[0;36m_pause_backend\u001b[1;34m(self)\u001b[0m\n\u001b[0;32m    273\u001b[0m                 \u001b[0mres\u001b[0m \u001b[1;33m=\u001b[0m \u001b[0mself\u001b[0m\u001b[1;33m.\u001b[0m\u001b[0mrun\u001b[0m\u001b[1;33m.\u001b[0m\u001b[0mlog_code\u001b[0m\u001b[1;33m(\u001b[0m\u001b[0mroot\u001b[0m\u001b[1;33m=\u001b[0m\u001b[1;32mNone\u001b[0m\u001b[1;33m)\u001b[0m\u001b[1;33m\u001b[0m\u001b[1;33m\u001b[0m\u001b[0m\n\u001b[0;32m    274\u001b[0m                 \u001b[0mlogger\u001b[0m\u001b[1;33m.\u001b[0m\u001b[0minfo\u001b[0m\u001b[1;33m(\u001b[0m\u001b[1;34m\"saved code: %s\"\u001b[0m\u001b[1;33m,\u001b[0m \u001b[0mres\u001b[0m\u001b[1;33m)\u001b[0m\u001b[1;33m\u001b[0m\u001b[1;33m\u001b[0m\u001b[0m\n\u001b[1;32m--> 275\u001b[1;33m             \u001b[0mself\u001b[0m\u001b[1;33m.\u001b[0m\u001b[0mbackend\u001b[0m\u001b[1;33m.\u001b[0m\u001b[0minterface\u001b[0m\u001b[1;33m.\u001b[0m\u001b[0mpublish_pause\u001b[0m\u001b[1;33m(\u001b[0m\u001b[1;33m)\u001b[0m\u001b[1;33m\u001b[0m\u001b[1;33m\u001b[0m\u001b[0m\n\u001b[0m\u001b[0;32m    276\u001b[0m \u001b[1;33m\u001b[0m\u001b[0m\n\u001b[0;32m    277\u001b[0m     \u001b[1;32mdef\u001b[0m \u001b[0m_resume_backend\u001b[0m\u001b[1;33m(\u001b[0m\u001b[0mself\u001b[0m\u001b[1;33m)\u001b[0m\u001b[1;33m:\u001b[0m\u001b[1;33m\u001b[0m\u001b[1;33m\u001b[0m\u001b[0m\n",
      "\u001b[1;32m~\\.conda\\envs\\ibk_tf_2.6\\lib\\site-packages\\wandb\\sdk\\interface\\interface.py\u001b[0m in \u001b[0;36mpublish_pause\u001b[1;34m(self)\u001b[0m\n\u001b[0;32m    535\u001b[0m     \u001b[1;32mdef\u001b[0m \u001b[0mpublish_pause\u001b[0m\u001b[1;33m(\u001b[0m\u001b[0mself\u001b[0m\u001b[1;33m)\u001b[0m \u001b[1;33m->\u001b[0m \u001b[1;32mNone\u001b[0m\u001b[1;33m:\u001b[0m\u001b[1;33m\u001b[0m\u001b[1;33m\u001b[0m\u001b[0m\n\u001b[0;32m    536\u001b[0m         \u001b[0mpause\u001b[0m \u001b[1;33m=\u001b[0m \u001b[0mpb\u001b[0m\u001b[1;33m.\u001b[0m\u001b[0mPauseRequest\u001b[0m\u001b[1;33m(\u001b[0m\u001b[1;33m)\u001b[0m\u001b[1;33m\u001b[0m\u001b[1;33m\u001b[0m\u001b[0m\n\u001b[1;32m--> 537\u001b[1;33m         \u001b[0mself\u001b[0m\u001b[1;33m.\u001b[0m\u001b[0m_publish_pause\u001b[0m\u001b[1;33m(\u001b[0m\u001b[0mpause\u001b[0m\u001b[1;33m)\u001b[0m\u001b[1;33m\u001b[0m\u001b[1;33m\u001b[0m\u001b[0m\n\u001b[0m\u001b[0;32m    538\u001b[0m \u001b[1;33m\u001b[0m\u001b[0m\n\u001b[0;32m    539\u001b[0m     \u001b[1;33m@\u001b[0m\u001b[0mabstractmethod\u001b[0m\u001b[1;33m\u001b[0m\u001b[1;33m\u001b[0m\u001b[0m\n",
      "\u001b[1;32m~\\.conda\\envs\\ibk_tf_2.6\\lib\\site-packages\\wandb\\sdk\\interface\\interface_queue.py\u001b[0m in \u001b[0;36m_publish_pause\u001b[1;34m(self, pause)\u001b[0m\n\u001b[0;32m    283\u001b[0m     \u001b[1;32mdef\u001b[0m \u001b[0m_publish_pause\u001b[0m\u001b[1;33m(\u001b[0m\u001b[0mself\u001b[0m\u001b[1;33m,\u001b[0m \u001b[0mpause\u001b[0m\u001b[1;33m:\u001b[0m \u001b[0mpb\u001b[0m\u001b[1;33m.\u001b[0m\u001b[0mPauseRequest\u001b[0m\u001b[1;33m)\u001b[0m \u001b[1;33m->\u001b[0m \u001b[1;32mNone\u001b[0m\u001b[1;33m:\u001b[0m\u001b[1;33m\u001b[0m\u001b[1;33m\u001b[0m\u001b[0m\n\u001b[0;32m    284\u001b[0m         \u001b[0mrec\u001b[0m \u001b[1;33m=\u001b[0m \u001b[0mself\u001b[0m\u001b[1;33m.\u001b[0m\u001b[0m_make_request\u001b[0m\u001b[1;33m(\u001b[0m\u001b[0mpause\u001b[0m\u001b[1;33m=\u001b[0m\u001b[0mpause\u001b[0m\u001b[1;33m)\u001b[0m\u001b[1;33m\u001b[0m\u001b[1;33m\u001b[0m\u001b[0m\n\u001b[1;32m--> 285\u001b[1;33m         \u001b[0mself\u001b[0m\u001b[1;33m.\u001b[0m\u001b[0m_publish\u001b[0m\u001b[1;33m(\u001b[0m\u001b[0mrec\u001b[0m\u001b[1;33m)\u001b[0m\u001b[1;33m\u001b[0m\u001b[1;33m\u001b[0m\u001b[0m\n\u001b[0m\u001b[0;32m    286\u001b[0m \u001b[1;33m\u001b[0m\u001b[0m\n\u001b[0;32m    287\u001b[0m     \u001b[1;32mdef\u001b[0m \u001b[0m_publish_resume\u001b[0m\u001b[1;33m(\u001b[0m\u001b[0mself\u001b[0m\u001b[1;33m,\u001b[0m \u001b[0mresume\u001b[0m\u001b[1;33m:\u001b[0m \u001b[0mpb\u001b[0m\u001b[1;33m.\u001b[0m\u001b[0mResumeRequest\u001b[0m\u001b[1;33m)\u001b[0m \u001b[1;33m->\u001b[0m \u001b[1;32mNone\u001b[0m\u001b[1;33m:\u001b[0m\u001b[1;33m\u001b[0m\u001b[1;33m\u001b[0m\u001b[0m\n",
      "\u001b[1;32m~\\.conda\\envs\\ibk_tf_2.6\\lib\\site-packages\\wandb\\sdk\\interface\\interface_queue.py\u001b[0m in \u001b[0;36m_publish\u001b[1;34m(self, record, local)\u001b[0m\n\u001b[0;32m    221\u001b[0m     \u001b[1;32mdef\u001b[0m \u001b[0m_publish\u001b[0m\u001b[1;33m(\u001b[0m\u001b[0mself\u001b[0m\u001b[1;33m,\u001b[0m \u001b[0mrecord\u001b[0m\u001b[1;33m:\u001b[0m \u001b[0mpb\u001b[0m\u001b[1;33m.\u001b[0m\u001b[0mRecord\u001b[0m\u001b[1;33m,\u001b[0m \u001b[0mlocal\u001b[0m\u001b[1;33m:\u001b[0m \u001b[0mbool\u001b[0m \u001b[1;33m=\u001b[0m \u001b[1;32mNone\u001b[0m\u001b[1;33m)\u001b[0m \u001b[1;33m->\u001b[0m \u001b[1;32mNone\u001b[0m\u001b[1;33m:\u001b[0m\u001b[1;33m\u001b[0m\u001b[1;33m\u001b[0m\u001b[0m\n\u001b[0;32m    222\u001b[0m         \u001b[1;32mif\u001b[0m \u001b[0mself\u001b[0m\u001b[1;33m.\u001b[0m\u001b[0m_process_check\u001b[0m \u001b[1;32mand\u001b[0m \u001b[0mself\u001b[0m\u001b[1;33m.\u001b[0m\u001b[0m_process\u001b[0m \u001b[1;32mand\u001b[0m \u001b[1;32mnot\u001b[0m \u001b[0mself\u001b[0m\u001b[1;33m.\u001b[0m\u001b[0m_process\u001b[0m\u001b[1;33m.\u001b[0m\u001b[0mis_alive\u001b[0m\u001b[1;33m(\u001b[0m\u001b[1;33m)\u001b[0m\u001b[1;33m:\u001b[0m\u001b[1;33m\u001b[0m\u001b[1;33m\u001b[0m\u001b[0m\n\u001b[1;32m--> 223\u001b[1;33m             \u001b[1;32mraise\u001b[0m \u001b[0mException\u001b[0m\u001b[1;33m(\u001b[0m\u001b[1;34m\"The wandb backend process has shutdown\"\u001b[0m\u001b[1;33m)\u001b[0m\u001b[1;33m\u001b[0m\u001b[1;33m\u001b[0m\u001b[0m\n\u001b[0m\u001b[0;32m    224\u001b[0m         \u001b[1;32mif\u001b[0m \u001b[0mlocal\u001b[0m\u001b[1;33m:\u001b[0m\u001b[1;33m\u001b[0m\u001b[1;33m\u001b[0m\u001b[0m\n\u001b[0;32m    225\u001b[0m             \u001b[0mrecord\u001b[0m\u001b[1;33m.\u001b[0m\u001b[0mcontrol\u001b[0m\u001b[1;33m.\u001b[0m\u001b[0mlocal\u001b[0m \u001b[1;33m=\u001b[0m \u001b[0mlocal\u001b[0m\u001b[1;33m\u001b[0m\u001b[1;33m\u001b[0m\u001b[0m\n",
      "\u001b[1;31mException\u001b[0m: The wandb backend process has shutdown"
     ]
    }
   ],
   "source": [
    "# Training from scratch did not perform well: Trying to train based on learned weights from 92% training\n",
    "\n",
    "loaded_model = tf.keras.models.load_model(r'..\\all_block_data\\NewAttention_RowBlockLSTM1\\OldFilteredData_11_January_22_1651_Acc_0.781_Top3Acc0.939_21x9.h5')\n",
    "\n",
    "K.set_value(model.optimizer.learning_rate, 5e-3) # Set low learning rate for fine-tuning\n",
    "\n",
    "# Callbacks\n",
    "callbacks = [\n",
    "    ModelCheckpoint(f\"{ipynbname.name()}//CheckpointRowBlockLSTM_finetuned.h5\", save_best_only=True, monitor=\"val_loss\"),\n",
    "    ReduceLROnPlateau(monitor=\"val_loss\", factor=0.05, patience=10, min_lr=0.0001,verbose = 1),\n",
    "    #EarlyStopping(monitor=\"val_loss\", patience=25, verbose=1), \n",
    "    WandbCallback()\n",
    "]\n",
    "history2 = loaded_model.fit(x_train, y_train_1hot,\n",
    "          epochs= num_epochs, \n",
    "          batch_size= batch_size, \n",
    "          validation_split = 0.3,\n",
    "          # validation_data=(x_test, y_test_1hot),\n",
    "         callbacks=callbacks)\n",
    "finetuned_model = tf.keras.models.load_model(f\"{ipynbname.name()}//CheckpointRowBlockLSTM_finetuned.h5\")"
   ]
  },
  {
   "cell_type": "code",
   "execution_count": 38,
   "id": "534714f8-d430-42c1-b6fe-c6a173f51e9d",
   "metadata": {},
   "outputs": [
    {
     "name": "stdout",
     "output_type": "stream",
     "text": [
      "Epoch 1/100\n",
      "1289/1289 [==============================] - 306s 237ms/step - loss: 2.7332 - accuracy: 0.1914 - top-3-accuracy: 0.4322 - val_loss: 2.6522 - val_accuracy: 0.2468 - val_top-3-accuracy: 0.5122\n"
     ]
    },
    {
     "name": "stderr",
     "output_type": "stream",
     "text": [
      "C:\\Users\\i368o351\\.conda\\envs\\ibk_tf_2.6\\lib\\site-packages\\keras\\utils\\generic_utils.py:494: CustomMaskWarning: Custom mask layers require a config and must override get_config. When loading, the custom mask layer must be passed to the custom_objects argument.\n",
      "  warnings.warn('Custom mask layers require a config and must override '\n"
     ]
    },
    {
     "name": "stdout",
     "output_type": "stream",
     "text": [
      "Epoch 2/100\n",
      "1289/1289 [==============================] - 306s 238ms/step - loss: 2.7329 - accuracy: 0.1914 - top-3-accuracy: 0.4325 - val_loss: 2.6511 - val_accuracy: 0.2478 - val_top-3-accuracy: 0.5129\n",
      "Epoch 3/100\n",
      "1289/1289 [==============================] - 313s 243ms/step - loss: 2.7328 - accuracy: 0.1916 - top-3-accuracy: 0.4327 - val_loss: 2.6499 - val_accuracy: 0.2486 - val_top-3-accuracy: 0.5141\n",
      "Epoch 4/100\n",
      "1289/1289 [==============================] - 308s 239ms/step - loss: 2.7328 - accuracy: 0.1915 - top-3-accuracy: 0.4331 - val_loss: 2.6509 - val_accuracy: 0.2494 - val_top-3-accuracy: 0.5143\n",
      "Epoch 5/100\n",
      "1289/1289 [==============================] - 306s 238ms/step - loss: 2.7323 - accuracy: 0.1921 - top-3-accuracy: 0.4336 - val_loss: 2.6508 - val_accuracy: 0.2483 - val_top-3-accuracy: 0.5152\n",
      "Epoch 6/100\n",
      "1289/1289 [==============================] - 305s 237ms/step - loss: 2.7320 - accuracy: 0.1919 - top-3-accuracy: 0.4335 - val_loss: 2.6507 - val_accuracy: 0.2485 - val_top-3-accuracy: 0.5140\n",
      "Epoch 7/100\n",
      "1289/1289 [==============================] - 309s 240ms/step - loss: 2.7322 - accuracy: 0.1921 - top-3-accuracy: 0.4336 - val_loss: 2.6497 - val_accuracy: 0.2497 - val_top-3-accuracy: 0.5152\n",
      "Epoch 8/100\n",
      "1289/1289 [==============================] - 309s 240ms/step - loss: 2.7320 - accuracy: 0.1923 - top-3-accuracy: 0.4339 - val_loss: 2.6494 - val_accuracy: 0.2495 - val_top-3-accuracy: 0.5148\n",
      "Epoch 9/100\n",
      "1289/1289 [==============================] - 310s 240ms/step - loss: 2.7317 - accuracy: 0.1924 - top-3-accuracy: 0.4344 - val_loss: 2.6506 - val_accuracy: 0.2477 - val_top-3-accuracy: 0.5131\n",
      "Epoch 10/100\n",
      "1289/1289 [==============================] - 310s 240ms/step - loss: 2.7316 - accuracy: 0.1923 - top-3-accuracy: 0.4339 - val_loss: 2.6488 - val_accuracy: 0.2485 - val_top-3-accuracy: 0.5146\n",
      "Epoch 11/100\n",
      "1289/1289 [==============================] - 310s 240ms/step - loss: 2.7316 - accuracy: 0.1921 - top-3-accuracy: 0.4344 - val_loss: 2.6502 - val_accuracy: 0.2485 - val_top-3-accuracy: 0.5147\n",
      "Epoch 12/100\n",
      "1289/1289 [==============================] - 306s 237ms/step - loss: 2.7312 - accuracy: 0.1928 - top-3-accuracy: 0.4343 - val_loss: 2.6498 - val_accuracy: 0.2489 - val_top-3-accuracy: 0.5150\n",
      "Epoch 13/100\n",
      "1289/1289 [==============================] - 308s 239ms/step - loss: 2.7312 - accuracy: 0.1925 - top-3-accuracy: 0.4344 - val_loss: 2.6493 - val_accuracy: 0.2494 - val_top-3-accuracy: 0.5155\n",
      "Epoch 14/100\n",
      "1289/1289 [==============================] - 309s 240ms/step - loss: 2.7311 - accuracy: 0.1930 - top-3-accuracy: 0.4345 - val_loss: 2.6492 - val_accuracy: 0.2495 - val_top-3-accuracy: 0.5151\n",
      "Epoch 15/100\n",
      "1289/1289 [==============================] - 311s 241ms/step - loss: 2.7308 - accuracy: 0.1929 - top-3-accuracy: 0.4348 - val_loss: 2.6506 - val_accuracy: 0.2478 - val_top-3-accuracy: 0.5128\n",
      "Epoch 16/100\n",
      "1289/1289 [==============================] - 308s 239ms/step - loss: 2.7306 - accuracy: 0.1930 - top-3-accuracy: 0.4353 - val_loss: 2.6491 - val_accuracy: 0.2488 - val_top-3-accuracy: 0.5149\n",
      "Epoch 17/100\n",
      "1289/1289 [==============================] - 307s 238ms/step - loss: 2.7304 - accuracy: 0.1931 - top-3-accuracy: 0.4356 - val_loss: 2.6489 - val_accuracy: 0.2492 - val_top-3-accuracy: 0.5162\n",
      "Epoch 18/100\n",
      "1289/1289 [==============================] - 306s 237ms/step - loss: 2.7302 - accuracy: 0.1936 - top-3-accuracy: 0.4353 - val_loss: 2.6482 - val_accuracy: 0.2492 - val_top-3-accuracy: 0.5146\n",
      "Epoch 19/100\n",
      "1289/1289 [==============================] - 306s 238ms/step - loss: 2.7303 - accuracy: 0.1930 - top-3-accuracy: 0.4352 - val_loss: 2.6484 - val_accuracy: 0.2497 - val_top-3-accuracy: 0.5158\n",
      "Epoch 20/100\n",
      "1289/1289 [==============================] - 306s 238ms/step - loss: 2.7301 - accuracy: 0.1933 - top-3-accuracy: 0.4359 - val_loss: 2.6486 - val_accuracy: 0.2497 - val_top-3-accuracy: 0.5163\n",
      "Epoch 21/100\n",
      "1289/1289 [==============================] - 308s 239ms/step - loss: 2.7300 - accuracy: 0.1935 - top-3-accuracy: 0.4354 - val_loss: 2.6483 - val_accuracy: 0.2492 - val_top-3-accuracy: 0.5160\n",
      "Epoch 22/100\n",
      "1289/1289 [==============================] - 310s 240ms/step - loss: 2.7298 - accuracy: 0.1938 - top-3-accuracy: 0.4360 - val_loss: 2.6470 - val_accuracy: 0.2505 - val_top-3-accuracy: 0.5168\n",
      "Epoch 23/100\n",
      "1289/1289 [==============================] - 305s 237ms/step - loss: 2.7298 - accuracy: 0.1933 - top-3-accuracy: 0.4362 - val_loss: 2.6477 - val_accuracy: 0.2504 - val_top-3-accuracy: 0.5167\n",
      "Epoch 24/100\n",
      "1289/1289 [==============================] - 313s 243ms/step - loss: 2.7294 - accuracy: 0.1938 - top-3-accuracy: 0.4365 - val_loss: 2.6463 - val_accuracy: 0.2492 - val_top-3-accuracy: 0.5163\n",
      "Epoch 25/100\n",
      "1289/1289 [==============================] - 310s 241ms/step - loss: 2.7295 - accuracy: 0.1940 - top-3-accuracy: 0.4363 - val_loss: 2.6477 - val_accuracy: 0.2502 - val_top-3-accuracy: 0.5163\n",
      "Epoch 26/100\n",
      "1289/1289 [==============================] - 309s 240ms/step - loss: 2.7293 - accuracy: 0.1939 - top-3-accuracy: 0.4369 - val_loss: 2.6481 - val_accuracy: 0.2502 - val_top-3-accuracy: 0.5150\n",
      "Epoch 27/100\n",
      "1289/1289 [==============================] - 309s 240ms/step - loss: 2.7291 - accuracy: 0.1942 - top-3-accuracy: 0.4370 - val_loss: 2.6472 - val_accuracy: 0.2497 - val_top-3-accuracy: 0.5160\n",
      "Epoch 28/100\n",
      "1289/1289 [==============================] - 310s 241ms/step - loss: 2.7290 - accuracy: 0.1944 - top-3-accuracy: 0.4367 - val_loss: 2.6484 - val_accuracy: 0.2500 - val_top-3-accuracy: 0.5154\n",
      "Epoch 29/100\n",
      "1289/1289 [==============================] - 308s 239ms/step - loss: 2.7290 - accuracy: 0.1940 - top-3-accuracy: 0.4372 - val_loss: 2.6468 - val_accuracy: 0.2500 - val_top-3-accuracy: 0.5156\n",
      "Epoch 30/100\n",
      "1289/1289 [==============================] - 308s 239ms/step - loss: 2.7288 - accuracy: 0.1939 - top-3-accuracy: 0.4372 - val_loss: 2.6473 - val_accuracy: 0.2499 - val_top-3-accuracy: 0.5163\n",
      "Epoch 31/100\n",
      "1289/1289 [==============================] - 306s 238ms/step - loss: 2.7286 - accuracy: 0.1944 - top-3-accuracy: 0.4374 - val_loss: 2.6472 - val_accuracy: 0.2498 - val_top-3-accuracy: 0.5160\n",
      "Epoch 32/100\n",
      "1289/1289 [==============================] - 306s 237ms/step - loss: 2.7284 - accuracy: 0.1946 - top-3-accuracy: 0.4375 - val_loss: 2.6466 - val_accuracy: 0.2508 - val_top-3-accuracy: 0.5162\n",
      "Epoch 33/100\n",
      "1289/1289 [==============================] - 310s 241ms/step - loss: 2.7282 - accuracy: 0.1947 - top-3-accuracy: 0.4380 - val_loss: 2.6466 - val_accuracy: 0.2498 - val_top-3-accuracy: 0.5156\n",
      "Epoch 34/100\n",
      "1289/1289 [==============================] - 307s 238ms/step - loss: 2.7280 - accuracy: 0.1951 - top-3-accuracy: 0.4380 - val_loss: 2.6466 - val_accuracy: 0.2506 - val_top-3-accuracy: 0.5168\n",
      "Epoch 35/100\n",
      "1289/1289 [==============================] - 310s 241ms/step - loss: 2.7280 - accuracy: 0.1948 - top-3-accuracy: 0.4375 - val_loss: 2.6461 - val_accuracy: 0.2504 - val_top-3-accuracy: 0.5168\n",
      "Epoch 36/100\n",
      "1289/1289 [==============================] - 307s 238ms/step - loss: 2.7278 - accuracy: 0.1950 - top-3-accuracy: 0.4382 - val_loss: 2.6467 - val_accuracy: 0.2509 - val_top-3-accuracy: 0.5165\n",
      "Epoch 37/100\n",
      "1289/1289 [==============================] - 309s 240ms/step - loss: 2.7277 - accuracy: 0.1951 - top-3-accuracy: 0.4382 - val_loss: 2.6466 - val_accuracy: 0.2509 - val_top-3-accuracy: 0.5169\n",
      "Epoch 38/100\n",
      "1289/1289 [==============================] - 312s 242ms/step - loss: 2.7275 - accuracy: 0.1953 - top-3-accuracy: 0.4387 - val_loss: 2.6460 - val_accuracy: 0.2502 - val_top-3-accuracy: 0.5163\n",
      "Epoch 39/100\n",
      "1289/1289 [==============================] - 306s 238ms/step - loss: 2.7270 - accuracy: 0.1956 - top-3-accuracy: 0.4385 - val_loss: 2.6448 - val_accuracy: 0.2513 - val_top-3-accuracy: 0.5177\n",
      "Epoch 40/100\n",
      "1289/1289 [==============================] - 307s 238ms/step - loss: 2.7273 - accuracy: 0.1954 - top-3-accuracy: 0.4388 - val_loss: 2.6466 - val_accuracy: 0.2502 - val_top-3-accuracy: 0.5162\n",
      "Epoch 41/100\n",
      "1289/1289 [==============================] - 306s 237ms/step - loss: 2.7272 - accuracy: 0.1956 - top-3-accuracy: 0.4387 - val_loss: 2.6469 - val_accuracy: 0.2493 - val_top-3-accuracy: 0.5168\n",
      "Epoch 42/100\n",
      "1289/1289 [==============================] - 306s 238ms/step - loss: 2.7269 - accuracy: 0.1956 - top-3-accuracy: 0.4390 - val_loss: 2.6464 - val_accuracy: 0.2500 - val_top-3-accuracy: 0.5164\n",
      "Epoch 43/100\n",
      "1289/1289 [==============================] - 307s 238ms/step - loss: 2.7267 - accuracy: 0.1959 - top-3-accuracy: 0.4394 - val_loss: 2.6453 - val_accuracy: 0.2513 - val_top-3-accuracy: 0.5177\n",
      "Epoch 44/100\n",
      "1289/1289 [==============================] - 309s 240ms/step - loss: 2.7266 - accuracy: 0.1958 - top-3-accuracy: 0.4393 - val_loss: 2.6460 - val_accuracy: 0.2500 - val_top-3-accuracy: 0.5153\n",
      "Epoch 45/100\n",
      "1289/1289 [==============================] - 309s 240ms/step - loss: 2.7264 - accuracy: 0.1961 - top-3-accuracy: 0.4391 - val_loss: 2.6446 - val_accuracy: 0.2505 - val_top-3-accuracy: 0.5167\n",
      "Epoch 46/100\n",
      "1289/1289 [==============================] - 307s 238ms/step - loss: 2.7264 - accuracy: 0.1959 - top-3-accuracy: 0.4401 - val_loss: 2.6449 - val_accuracy: 0.2503 - val_top-3-accuracy: 0.5171\n",
      "Epoch 47/100\n",
      "1289/1289 [==============================] - 308s 239ms/step - loss: 2.7262 - accuracy: 0.1962 - top-3-accuracy: 0.4400 - val_loss: 2.6458 - val_accuracy: 0.2511 - val_top-3-accuracy: 0.5177\n",
      "Epoch 48/100\n",
      "1289/1289 [==============================] - 309s 240ms/step - loss: 2.7260 - accuracy: 0.1963 - top-3-accuracy: 0.4400 - val_loss: 2.6452 - val_accuracy: 0.2516 - val_top-3-accuracy: 0.5179\n",
      "Epoch 49/100\n",
      "1289/1289 [==============================] - 306s 238ms/step - loss: 2.7258 - accuracy: 0.1966 - top-3-accuracy: 0.4408 - val_loss: 2.6451 - val_accuracy: 0.2517 - val_top-3-accuracy: 0.5178\n",
      "Epoch 50/100\n",
      "1289/1289 [==============================] - 308s 239ms/step - loss: 2.7257 - accuracy: 0.1968 - top-3-accuracy: 0.4406 - val_loss: 2.6451 - val_accuracy: 0.2502 - val_top-3-accuracy: 0.5163\n",
      "Epoch 51/100\n",
      "1289/1289 [==============================] - 307s 238ms/step - loss: 2.7254 - accuracy: 0.1965 - top-3-accuracy: 0.4411 - val_loss: 2.6450 - val_accuracy: 0.2512 - val_top-3-accuracy: 0.5166\n",
      "Epoch 52/100\n",
      "1289/1289 [==============================] - 308s 239ms/step - loss: 2.7255 - accuracy: 0.1966 - top-3-accuracy: 0.4408 - val_loss: 2.6455 - val_accuracy: 0.2504 - val_top-3-accuracy: 0.5164\n",
      "Epoch 53/100\n",
      "1289/1289 [==============================] - 305s 237ms/step - loss: 2.7255 - accuracy: 0.1970 - top-3-accuracy: 0.4403 - val_loss: 2.6446 - val_accuracy: 0.2520 - val_top-3-accuracy: 0.5176\n",
      "Epoch 54/100\n",
      "1289/1289 [==============================] - 308s 239ms/step - loss: 2.7252 - accuracy: 0.1970 - top-3-accuracy: 0.4408 - val_loss: 2.6439 - val_accuracy: 0.2513 - val_top-3-accuracy: 0.5182\n",
      "Epoch 55/100\n",
      "1289/1289 [==============================] - 312s 242ms/step - loss: 2.7251 - accuracy: 0.1967 - top-3-accuracy: 0.4412 - val_loss: 2.6438 - val_accuracy: 0.2511 - val_top-3-accuracy: 0.5176\n",
      "Epoch 56/100\n",
      "1289/1289 [==============================] - 306s 238ms/step - loss: 2.7247 - accuracy: 0.1971 - top-3-accuracy: 0.4413 - val_loss: 2.6441 - val_accuracy: 0.2505 - val_top-3-accuracy: 0.5177\n",
      "Epoch 57/100\n",
      "1289/1289 [==============================] - 307s 238ms/step - loss: 2.7246 - accuracy: 0.1972 - top-3-accuracy: 0.4417 - val_loss: 2.6450 - val_accuracy: 0.2514 - val_top-3-accuracy: 0.5179\n",
      "Epoch 58/100\n",
      "1289/1289 [==============================] - 306s 238ms/step - loss: 2.7246 - accuracy: 0.1974 - top-3-accuracy: 0.4418 - val_loss: 2.6443 - val_accuracy: 0.2510 - val_top-3-accuracy: 0.5171\n",
      "Epoch 59/100\n",
      "1289/1289 [==============================] - 308s 239ms/step - loss: 2.7248 - accuracy: 0.1971 - top-3-accuracy: 0.4414 - val_loss: 2.6434 - val_accuracy: 0.2508 - val_top-3-accuracy: 0.5191\n",
      "Epoch 60/100\n",
      "1289/1289 [==============================] - 306s 238ms/step - loss: 2.7243 - accuracy: 0.1976 - top-3-accuracy: 0.4414 - val_loss: 2.6448 - val_accuracy: 0.2512 - val_top-3-accuracy: 0.5188\n",
      "Epoch 61/100\n",
      "1289/1289 [==============================] - 304s 236ms/step - loss: 2.7240 - accuracy: 0.1976 - top-3-accuracy: 0.4422 - val_loss: 2.6438 - val_accuracy: 0.2521 - val_top-3-accuracy: 0.5188\n",
      "Epoch 62/100\n",
      "1289/1289 [==============================] - 302s 234ms/step - loss: 2.7241 - accuracy: 0.1978 - top-3-accuracy: 0.4425 - val_loss: 2.6448 - val_accuracy: 0.2509 - val_top-3-accuracy: 0.5185\n",
      "Epoch 63/100\n",
      "1289/1289 [==============================] - 304s 236ms/step - loss: 2.7239 - accuracy: 0.1979 - top-3-accuracy: 0.4421 - val_loss: 2.6434 - val_accuracy: 0.2512 - val_top-3-accuracy: 0.5182\n",
      "Epoch 64/100\n",
      "1289/1289 [==============================] - 306s 237ms/step - loss: 2.7236 - accuracy: 0.1978 - top-3-accuracy: 0.4423 - val_loss: 2.6433 - val_accuracy: 0.2514 - val_top-3-accuracy: 0.5181\n",
      "Epoch 65/100\n",
      "1289/1289 [==============================] - 302s 235ms/step - loss: 2.7240 - accuracy: 0.1975 - top-3-accuracy: 0.4419 - val_loss: 2.6437 - val_accuracy: 0.2512 - val_top-3-accuracy: 0.5182\n",
      "Epoch 66/100\n",
      "1289/1289 [==============================] - 303s 235ms/step - loss: 2.7236 - accuracy: 0.1980 - top-3-accuracy: 0.4428 - val_loss: 2.6442 - val_accuracy: 0.2518 - val_top-3-accuracy: 0.5174\n",
      "Epoch 67/100\n",
      "1289/1289 [==============================] - 304s 236ms/step - loss: 2.7235 - accuracy: 0.1980 - top-3-accuracy: 0.4428 - val_loss: 2.6452 - val_accuracy: 0.2510 - val_top-3-accuracy: 0.5163\n",
      "Epoch 68/100\n",
      "1289/1289 [==============================] - 311s 241ms/step - loss: 2.7232 - accuracy: 0.1983 - top-3-accuracy: 0.4437 - val_loss: 2.6438 - val_accuracy: 0.2515 - val_top-3-accuracy: 0.5175\n",
      "Epoch 69/100\n",
      "1289/1289 [==============================] - 306s 238ms/step - loss: 2.7232 - accuracy: 0.1982 - top-3-accuracy: 0.4428 - val_loss: 2.6442 - val_accuracy: 0.2514 - val_top-3-accuracy: 0.5183\n",
      "Epoch 70/100\n",
      "1289/1289 [==============================] - 308s 239ms/step - loss: 2.7231 - accuracy: 0.1981 - top-3-accuracy: 0.4433 - val_loss: 2.6437 - val_accuracy: 0.2519 - val_top-3-accuracy: 0.5185\n",
      "Epoch 71/100\n",
      "1289/1289 [==============================] - 303s 235ms/step - loss: 2.7228 - accuracy: 0.1981 - top-3-accuracy: 0.4439 - val_loss: 2.6437 - val_accuracy: 0.2518 - val_top-3-accuracy: 0.5179\n",
      "Epoch 72/100\n",
      "1289/1289 [==============================] - 302s 234ms/step - loss: 2.7229 - accuracy: 0.1983 - top-3-accuracy: 0.4435 - val_loss: 2.6440 - val_accuracy: 0.2508 - val_top-3-accuracy: 0.5177\n",
      "Epoch 73/100\n",
      "1289/1289 [==============================] - 306s 237ms/step - loss: 2.7227 - accuracy: 0.1982 - top-3-accuracy: 0.4433 - val_loss: 2.6441 - val_accuracy: 0.2507 - val_top-3-accuracy: 0.5180\n",
      "Epoch 74/100\n",
      "1289/1289 [==============================] - 309s 240ms/step - loss: 2.7224 - accuracy: 0.1987 - top-3-accuracy: 0.4438 - val_loss: 2.6444 - val_accuracy: 0.2511 - val_top-3-accuracy: 0.5176\n",
      "Epoch 75/100\n",
      "1289/1289 [==============================] - 310s 241ms/step - loss: 2.7224 - accuracy: 0.1986 - top-3-accuracy: 0.4432 - val_loss: 2.6450 - val_accuracy: 0.2504 - val_top-3-accuracy: 0.5165\n",
      "Epoch 76/100\n",
      "1289/1289 [==============================] - 308s 239ms/step - loss: 2.7223 - accuracy: 0.1988 - top-3-accuracy: 0.4437 - val_loss: 2.6430 - val_accuracy: 0.2526 - val_top-3-accuracy: 0.5182\n",
      "Epoch 77/100\n",
      "1289/1289 [==============================] - 305s 237ms/step - loss: 2.7221 - accuracy: 0.1991 - top-3-accuracy: 0.4443 - val_loss: 2.6434 - val_accuracy: 0.2517 - val_top-3-accuracy: 0.5176\n",
      "Epoch 78/100\n",
      "1289/1289 [==============================] - 304s 235ms/step - loss: 2.7220 - accuracy: 0.1988 - top-3-accuracy: 0.4440 - val_loss: 2.6435 - val_accuracy: 0.2509 - val_top-3-accuracy: 0.5186\n",
      "Epoch 79/100\n",
      "1289/1289 [==============================] - 306s 237ms/step - loss: 2.7223 - accuracy: 0.1988 - top-3-accuracy: 0.4439 - val_loss: 2.6429 - val_accuracy: 0.2520 - val_top-3-accuracy: 0.5186\n",
      "Epoch 80/100\n",
      "1289/1289 [==============================] - 308s 239ms/step - loss: 2.7218 - accuracy: 0.1995 - top-3-accuracy: 0.4439 - val_loss: 2.6430 - val_accuracy: 0.2517 - val_top-3-accuracy: 0.5187\n",
      "Epoch 81/100\n",
      "1289/1289 [==============================] - 307s 238ms/step - loss: 2.7217 - accuracy: 0.1992 - top-3-accuracy: 0.4441 - val_loss: 2.6433 - val_accuracy: 0.2524 - val_top-3-accuracy: 0.5180\n",
      "Epoch 82/100\n",
      "1289/1289 [==============================] - 304s 236ms/step - loss: 2.7214 - accuracy: 0.1992 - top-3-accuracy: 0.4447 - val_loss: 2.6439 - val_accuracy: 0.2530 - val_top-3-accuracy: 0.5183\n",
      "Epoch 83/100\n",
      "1289/1289 [==============================] - 304s 236ms/step - loss: 2.7213 - accuracy: 0.1996 - top-3-accuracy: 0.4448 - val_loss: 2.6434 - val_accuracy: 0.2511 - val_top-3-accuracy: 0.5174\n",
      "Epoch 84/100\n",
      "1289/1289 [==============================] - 305s 236ms/step - loss: 2.7213 - accuracy: 0.1998 - top-3-accuracy: 0.4448 - val_loss: 2.6427 - val_accuracy: 0.2518 - val_top-3-accuracy: 0.5186\n",
      "Epoch 85/100\n",
      "1289/1289 [==============================] - 308s 239ms/step - loss: 2.7212 - accuracy: 0.1998 - top-3-accuracy: 0.4447 - val_loss: 2.6450 - val_accuracy: 0.2516 - val_top-3-accuracy: 0.5171\n",
      "Epoch 86/100\n",
      "1289/1289 [==============================] - 308s 239ms/step - loss: 2.7211 - accuracy: 0.2000 - top-3-accuracy: 0.4447 - val_loss: 2.6429 - val_accuracy: 0.2524 - val_top-3-accuracy: 0.5196\n",
      "Epoch 87/100\n",
      "1289/1289 [==============================] - 310s 241ms/step - loss: 2.7212 - accuracy: 0.1998 - top-3-accuracy: 0.4452 - val_loss: 2.6439 - val_accuracy: 0.2515 - val_top-3-accuracy: 0.5176\n",
      "Epoch 88/100\n",
      "1289/1289 [==============================] - 307s 238ms/step - loss: 2.7207 - accuracy: 0.2001 - top-3-accuracy: 0.4455 - val_loss: 2.6428 - val_accuracy: 0.2520 - val_top-3-accuracy: 0.5189\n",
      "Epoch 89/100\n",
      "1289/1289 [==============================] - 302s 234ms/step - loss: 2.7206 - accuracy: 0.2002 - top-3-accuracy: 0.4455 - val_loss: 2.6428 - val_accuracy: 0.2524 - val_top-3-accuracy: 0.5195\n",
      "Epoch 90/100\n",
      "1289/1289 [==============================] - 303s 235ms/step - loss: 2.7204 - accuracy: 0.2000 - top-3-accuracy: 0.4453 - val_loss: 2.6428 - val_accuracy: 0.2521 - val_top-3-accuracy: 0.5192\n",
      "Epoch 91/100\n",
      "1289/1289 [==============================] - 301s 234ms/step - loss: 2.7202 - accuracy: 0.2004 - top-3-accuracy: 0.4459 - val_loss: 2.6437 - val_accuracy: 0.2513 - val_top-3-accuracy: 0.5181\n",
      "Epoch 92/100\n",
      "1289/1289 [==============================] - 304s 236ms/step - loss: 2.7203 - accuracy: 0.2005 - top-3-accuracy: 0.4458 - val_loss: 2.6432 - val_accuracy: 0.2516 - val_top-3-accuracy: 0.5183\n",
      "Epoch 93/100\n",
      "1289/1289 [==============================] - 305s 237ms/step - loss: 2.7199 - accuracy: 0.2005 - top-3-accuracy: 0.4464 - val_loss: 2.6440 - val_accuracy: 0.2511 - val_top-3-accuracy: 0.5174\n",
      "Epoch 94/100\n",
      "1289/1289 [==============================] - 307s 238ms/step - loss: 2.7198 - accuracy: 0.2007 - top-3-accuracy: 0.4463 - val_loss: 2.6434 - val_accuracy: 0.2513 - val_top-3-accuracy: 0.5176\n",
      "Epoch 95/100\n",
      "1289/1289 [==============================] - 308s 239ms/step - loss: 2.7200 - accuracy: 0.2001 - top-3-accuracy: 0.4463 - val_loss: 2.6434 - val_accuracy: 0.2517 - val_top-3-accuracy: 0.5174\n",
      "Epoch 96/100\n",
      "1289/1289 [==============================] - 309s 240ms/step - loss: 2.7197 - accuracy: 0.2009 - top-3-accuracy: 0.4464 - val_loss: 2.6440 - val_accuracy: 0.2523 - val_top-3-accuracy: 0.5178\n",
      "Epoch 97/100\n",
      "1289/1289 [==============================] - 306s 237ms/step - loss: 2.7197 - accuracy: 0.2013 - top-3-accuracy: 0.4458 - val_loss: 2.6441 - val_accuracy: 0.2518 - val_top-3-accuracy: 0.5183\n",
      "Epoch 98/100\n",
      "1289/1289 [==============================] - 309s 240ms/step - loss: 2.7196 - accuracy: 0.2007 - top-3-accuracy: 0.4467 - val_loss: 2.6445 - val_accuracy: 0.2525 - val_top-3-accuracy: 0.5175\n",
      "Epoch 99/100\n",
      "1289/1289 [==============================] - 308s 239ms/step - loss: 2.7193 - accuracy: 0.2008 - top-3-accuracy: 0.4467 - val_loss: 2.6425 - val_accuracy: 0.2526 - val_top-3-accuracy: 0.5193\n",
      "Epoch 100/100\n",
      "1289/1289 [==============================] - 306s 237ms/step - loss: 2.7194 - accuracy: 0.2007 - top-3-accuracy: 0.4470 - val_loss: 2.6424 - val_accuracy: 0.2525 - val_top-3-accuracy: 0.5193\n"
     ]
    }
   ],
   "source": [
    "# Train further: this performed poorly too\n",
    "\n",
    "# from keras import backend as K\n",
    "# K.set_value(model.optimizer.learning_rate, 0.01)\n",
    "\n",
    "# Callbacks\n",
    "callbacks = [\n",
    "    ModelCheckpoint(f\"{base_path}//{ipynbname.name()}//{time_stamp}_RowBlockLSTM_dropout.h5\", save_best_only=True, monitor=\"val_loss\"),\n",
    "    ReduceLROnPlateau(monitor=\"val_loss\", factor=0.05, patience=10, min_lr=0.0001, verbose= 1),\n",
    "    #EarlyStopping(monitor=\"val_loss\", patience=25, verbose=1), \n",
    "    WandbCallback()\n",
    "]\n",
    "\n",
    "history2 = loaded_model.fit(x_train, y_train_1hot,\n",
    "          epochs= num_epochs, \n",
    "          batch_size= batch_size, \n",
    "          validation_split = 0.3,\n",
    "          # validation_data=(x_test, y_test_1hot),\n",
    "         callbacks=callbacks)\n",
    "\n"
   ]
  },
  {
   "cell_type": "code",
   "execution_count": null,
   "id": "900b0f69-6c63-49e6-8421-b7e5362b5c45",
   "metadata": {},
   "outputs": [],
   "source": [
    "def PlotCurves(model_history):\n",
    "    plt.plot(model_history.history['accuracy'],label = 'train')\n",
    "    plt.grid(color = 'r', linestyle = '--', linewidth = .1)    \n",
    "    #plt.figure()\n",
    "    plt.plot(model_history.history['val_accuracy'],label = 'validation')\n",
    "   \n",
    "    plt.ylabel('Accuracy');\n",
    "    plt.xlabel('Epochs');\n",
    "    \n",
    "    plt.title('Training vs Validation accuracy');\n",
    "    plt.legend()\n",
    "    \n",
    "    plt.figure()\n",
    "    \n",
    "    plt.plot(model_history.history['loss'],label = 'train')\n",
    "    plt.grid(color = 'r', linestyle = '--', linewidth = .1)    \n",
    "    plt.plot(model_history.history['val_loss'],label = 'validation')\n",
    "   \n",
    "    plt.ylabel('Loss');\n",
    "    plt.xlabel('Epochs');\n",
    "    \n",
    "    plt.title('Training vs Validation Losses');\n",
    "    plt.legend()\n",
    "    return None\n",
    "\n",
    "PlotCurves(history)"
   ]
  },
  {
   "cell_type": "code",
   "execution_count": null,
   "id": "43003c33-f2e8-4981-a601-84b1765ab943",
   "metadata": {},
   "outputs": [],
   "source": [
    "# Convert labels to categorical orthonormal vectors\n",
    "y_val_1hot = tf.keras.utils.to_categorical(y_val, num_classes)\n",
    "\n",
    "_, accuracy,top3_acc = model.evaluate(x_val, y_val_1hot)\n",
    "print(f\"Test accuracy: {round(accuracy * 100, 2)}%\")\n",
    "print(f\"Test top 5 accuracy: {round(top3_acc * 100, 2)}%\")\n",
    "\n",
    "_,new_col_length,new_row_length = x_train.shape \n",
    "model.save(f'{base_path}//{ipynbname.name()}//{time_stamp}_Acc_{accuracy:.3f}_Top3Acc{top3_acc:.3f}_{new_row_length}x{new_col_length}.h5') # Last percentage is 46.85, New:52.4"
   ]
  },
  {
   "cell_type": "code",
   "execution_count": 28,
   "id": "5dbda035-6b46-4b65-9359-1c1f7e2611cd",
   "metadata": {},
   "outputs": [
    {
     "name": "stdout",
     "output_type": "stream",
     "text": [
      " Exact accuracy is  78.09492 %\n",
      " Top 5% accuracy is  88.43487 %\n"
     ]
    }
   ],
   "source": [
    "# Test model manually on all val data\n",
    "\n",
    "y_pred = [ np.argmax(model.predict(np.expand_dims(x_val[idx],axis=0))) for idx in range(len(x_val)) ]\n",
    "\n",
    "combined_result = zip(y_val,y_pred)\n",
    "\n",
    "val_exact_accuracy = 100 * sum([1 if y_pred[idx]==y_val[idx]   else 0 for idx in range(len(y_pred)) ]) / len(y_pred)\n",
    "val_margin5_accuracy = 100 * sum([1 if abs(y_pred[idx]-y_val[idx]) < 5 else 0 for idx in range(len(y_pred)) ]) / len(y_pred)\n",
    "\n",
    "print(f' Exact accuracy is {val_exact_accuracy: .5f} %')\n",
    "print(f' Top 5% accuracy is {val_margin5_accuracy: .5f} %')\n",
    "\n"
   ]
  },
  {
   "cell_type": "code",
   "execution_count": null,
   "id": "f501e446-69db-49bc-ab0a-e11030d0dec6",
   "metadata": {},
   "outputs": [],
   "source": []
  },
  {
   "cell_type": "code",
   "execution_count": 84,
   "id": "5906633e-2153-47af-acdc-121a3625b199",
   "metadata": {},
   "outputs": [],
   "source": [
    "# Confusion Matrix and ROC/AUC\n",
    "\n",
    "model_predictions = np.asarray(y_pred)\n",
    "ground_truth = y_val.squeeze()\n",
    "\n",
    "# Prediction per Ground-truth class\n",
    "class_predictions = [ model_predictions[ground_truth==idx]  for idx in range(num_classes) ]\n",
    "\n",
    "# Confusion matrix\n",
    "confusion_mtx = np.zeros((num_classes,num_classes) )\n",
    "\n",
    "for pred,actual in zip(y_pred,y_val): # Rows=Prediction, Columns = Actual\n",
    "    confusion_mtx[pred,actual] +=1"
   ]
  },
  {
   "cell_type": "code",
   "execution_count": 136,
   "id": "475f7b9d-5af5-4242-aec0-e0f87ac6b665",
   "metadata": {},
   "outputs": [
    {
     "data": {
      "image/png": "[encoded data removed]",
      "text/plain": [
       "<Figure size 700x1500 with 2 Axes>"
      ]
     },
     "metadata": {
      "needs_background": "light"
     },
     "output_type": "display_data"
    }
   ],
   "source": [
    "from mpl_toolkits.axes_grid1 import make_axes_locatable\n",
    "\n",
    "fig, ax = plt.subplots(figsize=(7,15),dpi = 100);\n",
    "shw=ax.imshow(confusion_mtx)\n",
    "#bar= plt.colorbar(shw)\n",
    "\n",
    "_=plt.ylabel('Predictions')\n",
    "_=plt.xlabel('Actual Class')\n",
    "_=plt.title('Confusion matrix')\n",
    "\n",
    "# ax.set_xticklabels(list(range(num_classes)))\n",
    "# ax.set_yticklabels(list(range(num_classes)))\n",
    "\n",
    "# create an axes on the right side of ax. The width of cax will be 5%\n",
    "# of ax and the padding between cax and ax will be fixed at 0.05 inch.\n",
    "divider = make_axes_locatable(ax)\n",
    "cax = divider.append_axes(\"right\", size=\"5%\", pad=0.05)\n",
    "#bar.set_label('ColorBar')\n",
    "_ = plt.colorbar(shw, cax=cax)"
   ]
  },
  {
   "cell_type": "code",
   "execution_count": 96,
   "id": "970ef2b9-5f5f-401c-b024-4184eea46609",
   "metadata": {},
   "outputs": [
    {
     "data": {
      "image/png": "[encoded data removed]",
      "text/plain": [
       "<Figure size 432x288 with 1 Axes>"
      ]
     },
     "metadata": {
      "needs_background": "light"
     },
     "output_type": "display_data"
    },
    {
     "data": {
      "image/png": "[encoded data removed]",
      "text/plain": [
       "<Figure size 432x288 with 1 Axes>"
      ]
     },
     "metadata": {
      "needs_background": "light"
     },
     "output_type": "display_data"
    },
    {
     "data": {
      "image/png": "[encoded data removed]",
      "text/plain": [
       "<Figure size 432x288 with 1 Axes>"
      ]
     },
     "metadata": {
      "needs_background": "light"
     },
     "output_type": "display_data"
    },
    {
     "data": {
      "image/png": "[encoded data removed]",
      "text/plain": [
       "<Figure size 432x288 with 1 Axes>"
      ]
     },
     "metadata": {
      "needs_background": "light"
     },
     "output_type": "display_data"
    },
    {
     "data": {
      "image/png": "[encoded data removed]",
      "text/plain": [
       "<Figure size 432x288 with 1 Axes>"
      ]
     },
     "metadata": {
      "needs_background": "light"
     },
     "output_type": "display_data"
    },
    {
     "data": {
      "image/png": "[encoded data removed]",
      "text/plain": [
       "<Figure size 432x288 with 1 Axes>"
      ]
     },
     "metadata": {
      "needs_background": "light"
     },
     "output_type": "display_data"
    },
    {
     "data": {
      "image/png": "[encoded data removed]",
      "text/plain": [
       "<Figure size 432x288 with 1 Axes>"
      ]
     },
     "metadata": {
      "needs_background": "light"
     },
     "output_type": "display_data"
    },
    {
     "data": {
      "image/png": "[encoded data removed]",
      "text/plain": [
       "<Figure size 432x288 with 1 Axes>"
      ]
     },
     "metadata": {
      "needs_background": "light"
     },
     "output_type": "display_data"
    },
    {
     "data": {
      "image/png": "[encoded data removed]",
      "text/plain": [
       "<Figure size 432x288 with 1 Axes>"
      ]
     },
     "metadata": {
      "needs_background": "light"
     },
     "output_type": "display_data"
    },
    {
     "data": {
      "image/png": "[encoded data removed]",
      "text/plain": [
       "<Figure size 432x288 with 1 Axes>"
      ]
     },
     "metadata": {
      "needs_background": "light"
     },
     "output_type": "display_data"
    },
    {
     "data": {
      "image/png": "[encoded data removed]",
      "text/plain": [
       "<Figure size 432x288 with 1 Axes>"
      ]
     },
     "metadata": {
      "needs_background": "light"
     },
     "output_type": "display_data"
    },
    {
     "data": {
      "image/png": "[encoded data removed]",
      "text/plain": [
       "<Figure size 432x288 with 1 Axes>"
      ]
     },
     "metadata": {
      "needs_background": "light"
     },
     "output_type": "display_data"
    },
    {
     "data": {
      "image/png": "[encoded data removed]",
      "text/plain": [
       "<Figure size 432x288 with 1 Axes>"
      ]
     },
     "metadata": {
      "needs_background": "light"
     },
     "output_type": "display_data"
    },
    {
     "data": {
      "image/png": "[encoded data removed]",
      "text/plain": [
       "<Figure size 432x288 with 1 Axes>"
      ]
     },
     "metadata": {
      "needs_background": "light"
     },
     "output_type": "display_data"
    },
    {
     "data": {
      "image/png": "[encoded data removed]",
      "text/plain": [
       "<Figure size 432x288 with 1 Axes>"
      ]
     },
     "metadata": {
      "needs_background": "light"
     },
     "output_type": "display_data"
    },
    {
     "data": {
      "image/png": "[encoded data removed]",
      "text/plain": [
       "<Figure size 432x288 with 1 Axes>"
      ]
     },
     "metadata": {
      "needs_background": "light"
     },
     "output_type": "display_data"
    },
    {
     "data": {
      "image/png": "[encoded data removed]",
      "text/plain": [
       "<Figure size 432x288 with 1 Axes>"
      ]
     },
     "metadata": {
      "needs_background": "light"
     },
     "output_type": "display_data"
    },
    {
     "data": {
      "image/png": "[encoded data removed]",
      "text/plain": [
       "<Figure size 432x288 with 1 Axes>"
      ]
     },
     "metadata": {
      "needs_background": "light"
     },
     "output_type": "display_data"
    },
    {
     "data": {
      "image/png": "[encoded data removed]",
      "text/plain": [
       "<Figure size 432x288 with 1 Axes>"
      ]
     },
     "metadata": {
      "needs_background": "light"
     },
     "output_type": "display_data"
    },
    {
     "data": {
      "image/png": "[encoded data removed]",
      "text/plain": [
       "<Figure size 432x288 with 1 Axes>"
      ]
     },
     "metadata": {
      "needs_background": "light"
     },
     "output_type": "display_data"
    },
    {
     "data": {
      "image/png": "[encoded data removed]",
      "text/plain": [
       "<Figure size 432x288 with 1 Axes>"
      ]
     },
     "metadata": {
      "needs_background": "light"
     },
     "output_type": "display_data"
    },
    {
     "data": {
      "image/png": "[encoded data removed]",
      "text/plain": [
       "<Figure size 432x288 with 1 Axes>"
      ]
     },
     "metadata": {
      "needs_background": "light"
     },
     "output_type": "display_data"
    }
   ],
   "source": [
    "# Histogram of each class prediction\n",
    "for idx,each_class in enumerate(class_predictions):\n",
    "    _ = plt.figure()\n",
    "    _ = plt.title('Class %s'%idx)\n",
    "    labels, counts = np.unique(each_class, return_counts=True)\n",
    "    _ = plt.bar(labels, counts, align='center')\n",
    "    _ = plt.gca().set_xticks(labels)\n",
    "    _ = plt.show()"
   ]
  },
  {
   "cell_type": "code",
   "execution_count": 147,
   "id": "0d0115b5-eb22-4082-b2ed-b0fdea37b012",
   "metadata": {},
   "outputs": [
    {
     "name": "stdout",
     "output_type": "stream",
     "text": [
      "              precision    recall  f1-score   support\n",
      "\n",
      "           0       0.94      0.85      0.89      6026\n",
      "           1       1.00      0.00      0.00         1\n",
      "           2       1.00      1.00      1.00         0\n",
      "           3       1.00      0.00      0.00         1\n",
      "           4       1.00      0.00      0.00         4\n",
      "           5       0.49      0.29      0.36       142\n",
      "           6       0.50      0.46      0.48       482\n",
      "           7       0.56      0.40      0.47      1536\n",
      "           8       0.68      0.68      0.68      5561\n",
      "           9       0.73      0.74      0.73      9359\n",
      "          10       0.73      0.72      0.72      9623\n",
      "          11       0.76      0.74      0.75     10508\n",
      "          12       0.77      0.80      0.79     13195\n",
      "          13       0.80      0.83      0.82     14004\n",
      "          14       0.85      0.85      0.85     14029\n",
      "          15       0.85      0.89      0.87     10712\n",
      "          16       0.81      0.81      0.81      4559\n",
      "          17       0.74      0.70      0.72      1892\n",
      "          18       0.68      0.63      0.66      1188\n",
      "          19       0.59      0.67      0.63      1102\n",
      "          20       0.48      0.51      0.49       573\n",
      "          21       0.33      0.13      0.19       223\n",
      "\n",
      "   micro avg       0.78      0.78      0.78    104720\n",
      "   macro avg       0.74      0.58      0.59    104720\n",
      "weighted avg       0.78      0.78      0.78    104720\n",
      "\n"
     ]
    }
   ],
   "source": [
    "from sklearn.metrics import classification_report\n",
    "\n",
    "print( classification_report( y_val,y_pred, labels=list(range(num_classes)), zero_division=1 ))"
   ]
  },
  {
   "cell_type": "code",
   "execution_count": null,
   "id": "e952d2c6-abb1-4975-a03b-34c97c8f8669",
   "metadata": {},
   "outputs": [],
   "source": []
  },
  {
   "cell_type": "code",
   "execution_count": 25,
   "id": "d5681e1f-3e23-41c0-9a56-cd020518cbc4",
   "metadata": {},
   "outputs": [
    {
     "name": "stdout",
     "output_type": "stream",
     "text": [
      "Check start 5539\n"
     ]
    },
    {
     "data": {
      "text/plain": [
       "[(10, 9),\n",
       " (15, 15),\n",
       " (12, 13),\n",
       " (12, 12),\n",
       " (13, 13),\n",
       " (17, 16),\n",
       " (11, 9),\n",
       " (12, 12),\n",
       " (17, 17),\n",
       " (14, 14),\n",
       " (10, 9),\n",
       " (14, 12),\n",
       " (18, 18),\n",
       " (9, 9),\n",
       " (11, 11),\n",
       " (16, 16),\n",
       " (9, 9),\n",
       " (5, 6),\n",
       " (0, 0),\n",
       " (0, 0)]"
      ]
     },
     "execution_count": 25,
     "metadata": {},
     "output_type": "execute_result"
    }
   ],
   "source": [
    "# Check some predictions\n",
    "\n",
    "import random\n",
    "check_start = random.randint(0,len(x_val))\n",
    "\n",
    "print(f'Check start {check_start}')\n",
    "[(int(y_val[idx]), np.argmax(model.predict(np.expand_dims(x_val[idx],axis=0))) ) for idx in range(check_start,check_start+20) ]\n",
    "\n"
   ]
  },
  {
   "cell_type": "code",
   "execution_count": null,
   "id": "c8d4305b-d2f7-4bb6-97c0-601e43f3624c",
   "metadata": {
    "tags": []
   },
   "outputs": [],
   "source": [
    "# Train further (last training 12/8/2021 was for 30 epochs - 150 epochs(w/o reshape order) previously overfitted\n",
    "# Also, the train set was not reshuffled, but train further uses shuffled train data (Stopped the train further after 30 epocks- acc 14% poor. Retraining from scratch )\n",
    "\n",
    "start_time = datetime.strftime( datetime.now(),'%d_%B_%y_%H%M')\n",
    "\n",
    "print(f'Training start time:{start_time}')\n",
    "#batch_size = 64\n",
    "history2 = model.fit(x_train, y_train_1hot,\n",
    "          epochs= 250, \n",
    "          batch_size= batch_size, \n",
    "          validation_data=(x_test, y_test_1hot),callbacks=callbacks) #mcp_save, callbacks=[reduce_lr_loss]callbacks=callbacks"
   ]
  },
  {
   "cell_type": "code",
   "execution_count": null,
   "id": "dd8c2f81-8a6b-495f-b06f-ba26ec5104e8",
   "metadata": {},
   "outputs": [],
   "source": [
    "PlotCurves(history2)"
   ]
  },
  {
   "cell_type": "code",
   "execution_count": null,
   "id": "f9c88ad0-166a-44d3-8fef-41d5891a3035",
   "metadata": {},
   "outputs": [],
   "source": [
    "_, accuracy,top_3_accuracy = model.evaluate(x_val, y_val_1hot)\n",
    "print(f\"Test accuracy: {round(accuracy * 100, 2)}%\")\n",
    "print(f\"Test top 5 accuracy: {round(top_3_accuracy * 100, 2)}%\")\n",
    "\n",
    "_,new_col_length,new_row_length = x_train.shape \n",
    "model.save(f'{base_path}//{ipynbname.name()}//{time_stamp}_Acc_{accuracy:.3f}_top3{top_3_accuracy:.3f}_{new_row_length}x{new_col_length}.h5')"
   ]
  },
  {
   "cell_type": "code",
   "execution_count": 54,
   "id": "29c39bc8-6d98-4441-a8fe-55655e2d5cca",
   "metadata": {},
   "outputs": [],
   "source": [
    "# Try prediction on difficult data\n",
    "\n",
    "x_difficult = raw_data1['echo_cnn_input'][stop_idx+1:]\n",
    "y_difficult = raw_data1['echo_cnn_target'][stop_idx+1:]\n",
    "\n",
    "x_difficult = np.reshape( x_difficult, (x_difficult.shape[0],max_class,-1) )\n",
    "x_difficult = x_difficult[:,:,mid_pt-neigh:mid_pt+neigh+1]\n",
    "# x_train = np.reshape(x_train,(x_train.shape[0],-1))\n",
    "x_difficult = np.transpose(x_difficult,(0,2,1))\n",
    "\n",
    "# y_difficult[y_difficult == num_classes] = 0\n",
    "# y_difficult = tf.keras.utils.to_categorical(y_difficult, num_classes)\n"
   ]
  },
  {
   "cell_type": "code",
   "execution_count": 55,
   "id": "5e0f8927-8286-448f-8e7e-adfb8032ea23",
   "metadata": {},
   "outputs": [
    {
     "data": {
      "text/plain": [
       "((1724672, 9, 21), (1724672,))"
      ]
     },
     "execution_count": 55,
     "metadata": {},
     "output_type": "execute_result"
    }
   ],
   "source": [
    "(x_difficult.shape,y_difficult.shape)"
   ]
  },
  {
   "cell_type": "code",
   "execution_count": 61,
   "id": "969ad3b9-53d5-417a-ab84-55a84b5f75f2",
   "metadata": {},
   "outputs": [
    {
     "name": "stdout",
     "output_type": "stream",
     "text": [
      "Check start 32030\n"
     ]
    },
    {
     "data": {
      "text/plain": [
       "[(14, 12),\n",
       " (14, 12),\n",
       " (14, 12),\n",
       " (14, 12),\n",
       " (14, 12),\n",
       " (14, 12),\n",
       " (14, 12),\n",
       " (14, 12),\n",
       " (14, 12),\n",
       " (14, 12),\n",
       " (14, 12),\n",
       " (14, 12),\n",
       " (14, 12),\n",
       " (14, 12),\n",
       " (14, 12),\n",
       " (14, 12),\n",
       " (14, 12),\n",
       " (14, 12),\n",
       " (14, 12),\n",
       " (14, 12),\n",
       " (14, 12),\n",
       " (14, 12),\n",
       " (14, 12),\n",
       " (14, 12),\n",
       " (14, 12),\n",
       " (14, 12),\n",
       " (14, 12),\n",
       " (14, 12),\n",
       " (14, 12),\n",
       " (14, 12),\n",
       " (14, 12),\n",
       " (14, 12),\n",
       " (14, 12),\n",
       " (14, 12),\n",
       " (19, 9),\n",
       " (19, 9),\n",
       " (19, 9),\n",
       " (19, 9),\n",
       " (19, 9),\n",
       " (19, 9),\n",
       " (19, 9),\n",
       " (19, 9),\n",
       " (19, 9),\n",
       " (19, 9),\n",
       " (19, 9),\n",
       " (19, 9),\n",
       " (19, 9),\n",
       " (19, 9),\n",
       " (19, 9),\n",
       " (19, 9)]"
      ]
     },
     "execution_count": 61,
     "metadata": {},
     "output_type": "execute_result"
    }
   ],
   "source": [
    "# Check some predictions\n",
    "\n",
    "difficult_start = random.randint(0,len(x_val)) #3500 #\n",
    "\n",
    "print(f'Check start {difficult_start}')\n",
    "[(int(y_difficult[idx]), np.argmax(model.predict(np.expand_dims(x_difficult[idx],axis=0))) ) for idx in range(difficult_start,difficult_start+50) ]\n",
    "\n"
   ]
  },
  {
   "cell_type": "code",
   "execution_count": null,
   "id": "566fc1a3-473a-4442-8d7e-257187b2aa2e",
   "metadata": {},
   "outputs": [],
   "source": [
    "# Attempt loading past model (after crash) and start training again\n",
    "load_model = 0\n",
    "if load_model:\n",
    "    model2 = tf.keras.models.load_model(r'Y:\\ibikunle\\Python_Project\\Fall_2021\\all_block_data\\Old_data\\Dec_Train_block_len_21_131121_2213\\NewAttention_RowBlockLSTM1\\22_November_21_0929_Acc_0.669_Top3Acc0.8506_21x9.h5'\n",
    "                                    ,)"
   ]
  },
  {
   "cell_type": "code",
   "execution_count": null,
   "id": "d814adde-7601-4664-ae72-80a585e2dfda",
   "metadata": {},
   "outputs": [],
   "source": []
  },
  {
   "cell_type": "code",
   "execution_count": null,
   "id": "1086771b-626e-42ed-90ce-56b434606586",
   "metadata": {
    "tags": []
   },
   "outputs": [],
   "source": [
    "# Train further\n",
    "batch_size = 64\n",
    "history2 = model.fit(x_train, y_train_1hot,\n",
    "          epochs= 30, \n",
    "          batch_size= batch_size, \n",
    "          validation_data=(x_test, y_test_1hot),callbacks=callbacks) #mcp_save, callbacks=[reduce_lr_loss]callbacks=callbacks"
   ]
  },
  {
   "cell_type": "code",
   "execution_count": null,
   "id": "b129b784-5906-48b6-aa6c-a6c3cecfc63a",
   "metadata": {},
   "outputs": [],
   "source": [
    "# Train further still( 30th Nov.,2021 X_train is returned back to default [i.e No shuffle] )\n",
    "from keras import backend as K\n",
    "K.set_value(model.optimizer.learning_rate, 0.001)\n",
    "batch_size = 64\n",
    "history2 = model.fit(x_train, y_train_1hot,\n",
    "          epochs= 2, \n",
    "          batch_size= batch_size, \n",
    "          validation_data=(x_test, y_test_1hot),callbacks=callbacks) #mcp_save, callbacks=[reduce_lr_loss]callbacks=callbacks"
   ]
  },
  {
   "cell_type": "code",
   "execution_count": null,
   "id": "ac606f26-6bfa-449a-9b90-b4765a2340ec",
   "metadata": {},
   "outputs": [],
   "source": [
    "# Convert labels to categorical orthonormal vectors\n",
    "y_val_1hot = tf.keras.utils.to_categorical(y_val, num_classes)\n",
    "\n",
    "_, accuracy,top3_acc = model.evaluate(x_val, y_val_1hot)\n",
    "print(f\"Test accuracy: {round(accuracy * 100, 2)}%\")\n",
    "# print(f\"Test top 5 accuracy: {round(top_5_accuracy * 100, 2)}%\")\n",
    "\n",
    "_,new_col_length,new_row_length = x_train.shape \n",
    "model.save(f'{base_path}//{ipynbname.name()}//{time_stamp}_Acc_{accuracy:.3f}_Top3Acc{top3_acc:.3f}_{new_row_length}x{new_col_length}.h5')"
   ]
  },
  {
   "cell_type": "code",
   "execution_count": null,
   "id": "bc0478a0-0d6b-44bf-abf6-30cb44b4d44c",
   "metadata": {},
   "outputs": [],
   "source": [
    "# Test model on val data\n",
    "\n",
    "y_diff_pred = [ np.argmax(model.predict(np.expand_dims(x_difficult[idx],axis=0))) for idx in range(3000,3050) ] #len(x_difficult)\n",
    "\n",
    "difficult_exact_accuracy = 100 * sum([1 if y_diff_pred[idx]==y_difficult[idx]   else 0 for idx in range(len(y_diff_pred)) ]) / len(y_diff_pred)\n",
    "difficult_margin5_accuracy = 100 * sum([1 if abs(y_diff_pred[idx]-y_difficult[idx]) < 3 else 0 for idx in range(len(y_diff_pred)) ]) / len(y_diff_pred)\n",
    "\n",
    "print(f' Exact accuracy is {difficult_exact_accuracy: .5f} %')\n",
    "print(f' Top 5% accuracy is {difficult_margin5_accuracy: .5f} %')\n",
    "\n"
   ]
  },
  {
   "cell_type": "code",
   "execution_count": null,
   "id": "b103b071-79d9-416b-b545-bc3c2e3e6587",
   "metadata": {},
   "outputs": [],
   "source": [
    "len(y_diff_pred)"
   ]
  },
  {
   "cell_type": "code",
   "execution_count": null,
   "id": "3ab0eaec-8607-4970-a6a9-397cef52ef9f",
   "metadata": {},
   "outputs": [],
   "source": []
  }
 ],
 "metadata": {
  "kernelspec": {
   "display_name": "ibk_tf_2.6",
   "language": "python",
   "name": "tf2.6"
  },
  "language_info": {
   "codemirror_mode": {
    "name": "ipython",
    "version": 3
   },
   "file_extension": ".py",
   "mimetype": "text/x-python",
   "name": "python",
   "nbconvert_exporter": "python",
   "pygments_lexer": "ipython3",
   "version": "3.9.7"
  }
 },
 "nbformat": 4,
 "nbformat_minor": 5
}
