{
 "cells": [
  {
   "cell_type": "code",
   "execution_count": 1,
   "id": "dbf0fa04-d15f-40e3-bc8e-e0c581c9707c",
   "metadata": {},
   "outputs": [
    {
     "name": "stdout",
     "output_type": "stream",
     "text": [
      "Packages Loaded\n"
     ]
    }
   ],
   "source": [
    "from __future__ import print_function\n",
    "\n",
    "import os\n",
    "\n",
    "import pandas as pd\n",
    "import numpy as np\n",
    "import matplotlib.pyplot as plt\n",
    "import random\n",
    "import tensorflow as tf\n",
    "from tensorflow.keras.models import Sequential, Model\n",
    "from tensorflow.keras.layers import *\n",
    "from tensorflow.keras import layers\n",
    "from tensorflow.keras.callbacks import EarlyStopping, ModelCheckpoint,TensorBoard,ReduceLROnPlateau\n",
    "\n",
    "from tensorflow.keras.optimizers import SGD, Adam\n",
    "from tensorflow.keras.activations import relu\n",
    "from tensorflow.keras.regularizers import l2\n",
    "from tensorflow.keras.constraints import max_norm\n",
    "from tensorflow.keras import backend as K\n",
    "# from tensorflow.keras.datasets import mnist, cifar10\n",
    "import tensorflow_addons as tfa\n",
    "\n",
    "import sklearn\n",
    "from itertools import chain\n",
    "\n",
    "from IPython.core.interactiveshell import InteractiveShell\n",
    "InteractiveShell.ast_node_interactivity = \"all\"\n",
    "from scipy.io import loadmat \n",
    "import mat73\n",
    "from datetime import datetime\n",
    "import ipynbname\n",
    "\n",
    "print(\"Packages Loaded\")"
   ]
  },
  {
   "cell_type": "code",
   "execution_count": 2,
   "id": "5e0ff66a-fe8d-4b53-923d-87fd82eaa274",
   "metadata": {
    "tags": []
   },
   "outputs": [
    {
     "name": "stderr",
     "output_type": "stream",
     "text": [
      "\u001b[34m\u001b[1mwandb\u001b[0m: Currently logged in as: \u001b[33mibksolar\u001b[0m (use `wandb login --relogin` to force relogin)\n",
      "\u001b[34m\u001b[1mwandb\u001b[0m: wandb version 0.12.10 is available!  To upgrade, please run:\n",
      "\u001b[34m\u001b[1mwandb\u001b[0m:  $ pip install wandb --upgrade\n"
     ]
    },
    {
     "data": {
      "text/html": [
       "\n",
       "                    Syncing run <strong><a href=\"https://wandb.ai/ibksolar/my-test-project/runs/3pe6fdah\" target=\"_blank\">LSTM1_Repeat_NewData-Class_weights-Augment_02_February_22_1529</a></strong> to <a href=\"https://wandb.ai/ibksolar/my-test-project\" target=\"_blank\">Weights & Biases</a> (<a href=\"https://docs.wandb.com/integrations/jupyter.html\" target=\"_blank\">docs</a>).<br/>\n",
       "\n",
       "                "
      ],
      "text/plain": [
       "<IPython.core.display.HTML object>"
      ]
     },
     "metadata": {},
     "output_type": "display_data"
    },
    {
     "data": {
      "text/html": [
       "<button onClick=\"this.nextSibling.style.display='block';this.style.display='none';\">Display W&B run</button><iframe src=\"https://wandb.ai/ibksolar/my-test-project/runs/3pe6fdah?jupyter=true\" style=\"border:none;width:100%;height:420px;display:none;\"></iframe>"
      ],
      "text/plain": [
       "<wandb.sdk.wandb_run.Run at 0x1af3a2de430>"
      ]
     },
     "execution_count": 2,
     "metadata": {},
     "output_type": "execute_result"
    }
   ],
   "source": [
    "import wandb\n",
    "from wandb.keras import WandbCallback\n",
    "time_stamp = datetime.strftime( datetime.now(),'%d_%B_%y_%H%M')\n",
    "wandb.init(project=\"my-test-project\", entity=\"ibksolar\", name=ipynbname.name()+'_'+time_stamp)\n",
    " "
   ]
  },
  {
   "cell_type": "code",
   "execution_count": 3,
   "id": "00c1aba9-f492-4875-be63-c42578d6918a",
   "metadata": {},
   "outputs": [],
   "source": [
    "# Load data\n",
    "# raw_data1 = loadmat('new_echo_cnn_in_out_jstarrs2021_first_try/echo_cnn_in_out_jstars1.mat')\n",
    "# raw_data1 = loadmat('echo_cnn_in_out_GOOD_layers/new_echo_cnn_in_out_jstars1.mat') 'findpeaks_layers/new_echo_cnn_in_out_jstars1.mat'\n",
    "\n",
    "raw_data1 = loadmat('../../../Python_Env/final_layers_rowblock15_21/filtered_image/new_echo_cnn_in_out_jstars1.mat')\n",
    "raw_data2 = loadmat('../../../Python_Env/final_layers_rowblock15_21/filtered_image/new_echo_cnn_in_out_jstars2.mat')\n",
    "raw_data3 = loadmat('../../../Python_Env/final_layers_rowblock15_21/filtered_image/new_echo_cnn_in_out_jstars3.mat')\n",
    "# raw_data4 = loadmat('findpeaks_layers_rowblock20/new_echo_cnn_in_out_jstars4.mat')\n",
    "\n",
    "d1 = raw_data1['echo_cnn1']\n",
    "t1 = raw_data1['echo_target1']\n",
    "i1 = raw_data1['echo_idx1']\n",
    "\n",
    "d2 = raw_data2['echo_cnn2']\n",
    "t2 = raw_data2['echo_target2']\n",
    "i2 = raw_data2['echo_idx2']\n",
    "\n",
    "d3 = raw_data3['echo_cnn3']\n",
    "t3 = raw_data3['echo_target3']\n",
    "i3 = raw_data3['echo_idx3']\n",
    "\n",
    "# d4 = raw_data4['echo_cnn4']\n",
    "# t4 = raw_data4['echo_target4']\n",
    "# i4 = raw_data4['echo_idx4']\n",
    "\n",
    "all_data = np.concatenate( (d1,d2,d3),axis = 0 )\n",
    "all_target = np.concatenate( (t1,t2,t3),axis = 0 )\n",
    "all_idx = np.concatenate( (i1,i2,i3),axis = 0 )\n",
    "\n",
    "# Set all nan in the data to zero\n",
    "nan_idx = np.isnan(all_data).any(axis =-1)\n",
    "all_target[nan_idx] = 0\n",
    "all_data[ np.isnan(all_data) ]= 0"
   ]
  },
  {
   "cell_type": "code",
   "execution_count": 4,
   "id": "120f732e-abb2-4041-92b2-aa1b6b5e5244",
   "metadata": {},
   "outputs": [],
   "source": [
    "# Split based on echograms into small dataset representing training and testing.\n",
    "\n",
    "all_echo_idx = np.unique(all_idx)\n",
    "\n",
    "test_echo_idx = list(chain.from_iterable( [ list(range(20*n+1,20*n+20)) for n in range(1,1786//20,2) ] ) )\n",
    "train_echo_idx = [elem for elem in all_echo_idx if elem not in test_echo_idx]\n",
    "              \n",
    "search_idx = np.where(all_idx == train_echo_idx)\n",
    "search_idx = list(search_idx[0])\n",
    "\n",
    "\n",
    "all_data2 = all_data # Save true all_data into all_data2\n",
    "all_target2 = all_target\n",
    "\n",
    "all_data = all_data[search_idx]\n",
    "all_target = all_target[search_idx]"
   ]
  },
  {
   "cell_type": "code",
   "execution_count": 19,
   "id": "d9fb9b83-f2b1-4b99-82a7-e1580e7a2694",
   "metadata": {},
   "outputs": [],
   "source": [
    "load_new_data = False\n",
    "\n",
    "if load_new_data:\n",
    "    # base_path = '..\\\\..\\\\all_block_data\\Dec_Train_block_len_21_011121_2331'\n",
    "    #base_path = '../all_block_data/Old_data/Dec_Train_block_len_21_231121_1531'\n",
    "    base_path = '../all_block_data\\FindPeaks_data\\Dec_Train_block_len_21_030122_0614'\n",
    "\n",
    "    # Confirm path is right...\n",
    "    print(f'{os.path.isdir(base_path)}')"
   ]
  },
  {
   "cell_type": "code",
   "execution_count": 20,
   "id": "e179ca79-43c2-45d8-a10e-1bb54507a5bf",
   "metadata": {},
   "outputs": [],
   "source": [
    "if load_new_data:\n",
    "    raw_data1 = mat73.loadmat(base_path + '/echo_cnn_in_out_jstars.mat')\n",
    "    all_data = raw_data1['echo_cnn_input']\n",
    "    all_target = raw_data1['echo_cnn_target']\n",
    "    all_coords = raw_data1['coords']\n",
    "    echo_idx = raw_data1['orig_echo_idx']\n",
    "\n",
    "    # Set all nan in the data to zero\n",
    "    nan_idx = np.isnan(all_data).any(axis =-1)\n",
    "    all_target[nan_idx] = 0\n",
    "    all_data[ np.isnan(all_data) ]= 0\n",
    "\n"
   ]
  },
  {
   "cell_type": "code",
   "execution_count": 21,
   "id": "88db6e2e-f752-4b1f-b3a4-395adeaf4fa9",
   "metadata": {},
   "outputs": [],
   "source": [
    "# Standardize all_data\n",
    "standardize = False\n",
    "if standardize:\n",
    "    all_data  = ( all_data - all_data.mean() ) / all_data.std()\n",
    "\n",
    "scale_data = False\n",
    "if scale_data:\n",
    "    all_data = 255*all_data"
   ]
  },
  {
   "cell_type": "code",
   "execution_count": 22,
   "id": "b97ea785-542b-42f8-aee2-fef06a14040d",
   "metadata": {},
   "outputs": [],
   "source": [
    "# Truncate data because data after truncate point is not good for training\n",
    "\n",
    "truncate_data = False\n",
    "if truncate_data:    \n",
    "    echo_idx = np.asarray(echo_idx)\n",
    "    stop_val = 400\n",
    "\n",
    "    stop_list, = np.where(echo_idx == stop_val)\n",
    "    stop_idx = stop_list[-1]\n",
    "\n",
    "    all_data = all_data[:stop_idx]\n",
    "    all_target = all_target[:stop_idx]\n",
    "\n",
    "    print(f'Data shape {all_data.shape}')\n",
    "    print(f'Target shape {all_target.shape}')\n"
   ]
  },
  {
   "cell_type": "code",
   "execution_count": 5,
   "id": "3eaf3c7e-1bb9-4d3b-b0af-deca0f0995b7",
   "metadata": {},
   "outputs": [
    {
     "name": "stdout",
     "output_type": "stream",
     "text": [
      "Dimensions match\n"
     ]
    }
   ],
   "source": [
    "row_length = 21 # CHANGE HERE <==\n",
    "col_length = 15\n",
    "\n",
    "# Check that the dimension of data is correct\n",
    "if all_data.shape[1] == row_length*col_length:\n",
    "    print('Dimensions match')\n",
    "else:\n",
    "    print(f' Row block length:{row_length} and col length:{col_length} does not match Data dimension:{all_data.shape[1]}') \n",
    "        "
   ]
  },
  {
   "cell_type": "code",
   "execution_count": 10,
   "id": "240c5978-0a4c-4a42-af11-b067dffe8ebc",
   "metadata": {},
   "outputs": [],
   "source": [
    "# Positional Encoding\n",
    "\n",
    "if 0 :\n",
    "    time_seq = 9 #col_length #5\n",
    "    # all_coords = raw_data1['coords']\n",
    "    all_coord_exp = np.zeros((all_coords.shape[0],time_seq,row_length))\n",
    "\n",
    "    for idx in range(len(all_coords)):\n",
    "        a,b,c,_ = np.asarray(all_coords[idx],dtype=\"int\")\n",
    "        if (a%2) == 0: # If row index is even - this isn't implemented well because it requires iterating through individual rows\n",
    "            all_coord_exp[idx] = np.sin( np.outer( np.arange(c,c+time_seq), pow(10000, (2*np.arange(a,b)/row_length)) ) )\n",
    "        else:\n",
    "            all_coord_exp[idx] = np.cos( np.outer( np.arange(c,c+time_seq), pow(10000, (2*np.arange(a,b)/row_length)) ) )\n",
    "\n",
    "    if 0: #truncate_data:\n",
    "        difficult_coords = all_coord_exp[stop_idx+1:]         \n",
    "        all_coord_exp = all_coord_exp[:stop_idx]        \n",
    "\n",
    "\n",
    "    all_coord_exp.shape    "
   ]
  },
  {
   "cell_type": "code",
   "execution_count": 8,
   "id": "ab1acb17-7dee-417b-97bc-8d0bba4e4cf4",
   "metadata": {},
   "outputs": [
    {
     "name": "stdout",
     "output_type": "stream",
     "text": [
      "Shape of X_train:(887347, 9, 21)  X_test:(166378, 9, 21)\n",
      "Shape of y_train:(887347, 1)  y_test:(166378, 1)\n"
     ]
    }
   ],
   "source": [
    "max_class = row_length \n",
    "neigh = 4 # The number of neighbors used for each RowBlock column\n",
    "\n",
    "# Highest class is mapped to row_length+1\n",
    "all_target[all_target == max_class+1 ] = 0\n",
    "\n",
    "\n",
    "shuffle = 1\n",
    "if shuffle:\n",
    "    random.Random(13).shuffle(all_data)\n",
    "    random.Random(13).shuffle(all_target)\n",
    "    #random.Random(13).shuffle(all_coord_exp)\n",
    "    # random.Random(1337).shuffle(all_idx)\n",
    "\n",
    "## Prep data\n",
    "train_size = int(np.floor(0.8*len(all_target)));\n",
    "test_size = int(np.round( 0.15* all_data.shape[0] ))\n",
    "val_size = all_data.shape[0] -train_size - test_size\n",
    "\n",
    "mid_pt = 8\n",
    "\n",
    "\n",
    "x_train = all_data[0:train_size,:]\n",
    "x_train = np.reshape( x_train, (x_train.shape[0],max_class,-1),order ='F' )\n",
    "x_train = x_train[:,:,mid_pt-neigh:mid_pt+neigh+1]\n",
    "# x_train = np.reshape(x_train,(x_train.shape[0],-1))\n",
    "x_train = np.transpose(x_train,(0,2,1))\n",
    "#coords_train = all_coord_exp[0:train_size,:]\n",
    "\n",
    "\n",
    "x_test = all_data[train_size:train_size+test_size,:]\n",
    "x_test = np.reshape( x_test,(x_test.shape[0],max_class,-1),order ='F' )\n",
    "x_test = x_test[:,:,mid_pt-neigh:mid_pt+neigh+1]\n",
    "# x_test = np.reshape(x_test,(x_test.shape[0],-1))\n",
    "x_test = np.transpose(x_test,(0,2,1))\n",
    "#coords_test = all_coord_exp[train_size:train_size+test_size,:]\n",
    "\n",
    "\n",
    "x_val = all_data[-val_size:,:]\n",
    "x_val = np.reshape( x_val,(x_val.shape[0],max_class,-1),order ='F' )\n",
    "x_val = x_val[:,:,mid_pt-neigh:mid_pt+neigh+1]\n",
    "# x_val = np.reshape(x_val,(x_val.shape[0],-1))\n",
    "x_val = np.transpose(x_val,(0,2,1))\n",
    "#coords_val = all_coord_exp[-val_size:,:]\n",
    "\n",
    "\n",
    "y_train = all_target[:train_size]\n",
    "y_test  = all_target[train_size:train_size+test_size]\n",
    "y_val = all_target[-val_size:]\n",
    "\n",
    "var_input_shape = x_train.shape[1:] # 240 columns\n",
    "num_classes = max_class+1 # layers\n",
    "\n",
    "\n",
    "# Convert labels to categorical orthonormal vectors\n",
    "y_train_1hot = tf.keras.utils.to_categorical(y_train, num_classes)\n",
    "y_test_1hot  = tf.keras.utils.to_categorical(y_test, num_classes)\n",
    "\n",
    "print(f'Shape of X_train:{x_train.shape}  X_test:{x_test.shape}')\n",
    "print(f'Shape of y_train:{y_train.shape}  y_test:{y_test.shape}')"
   ]
  },
  {
   "cell_type": "code",
   "execution_count": 9,
   "id": "d4e1d74e-7ca6-41f4-918e-9712adcdce02",
   "metadata": {},
   "outputs": [
    {
     "data": {
      "image/png": "[encoded data removed]",
      "text/plain": [
       "<Figure size 432x288 with 1 Axes>"
      ]
     },
     "metadata": {
      "needs_background": "light"
     },
     "output_type": "display_data"
    },
    {
     "data": {
      "image/png": "[encoded data removed]",
      "text/plain": [
       "<Figure size 432x288 with 1 Axes>"
      ]
     },
     "metadata": {
      "needs_background": "light"
     },
     "output_type": "display_data"
    }
   ],
   "source": [
    "# Show distribution of targets in training and validation set\n",
    "\n",
    "labels, counts = np.unique(y_train, return_counts=True)\n",
    "_ = plt.bar(labels, counts, align='center')\n",
    "_ = plt.gca().set_xticks(labels)\n",
    "_ = plt.title('Distribution of targets in Training set')\n",
    "_ = plt.show()\n",
    "\n",
    "\n",
    "labels, counts = np.unique(y_val, return_counts=True)\n",
    "_ = plt.bar(labels, counts, align='center')\n",
    "_ = plt.gca().set_xticks(labels)\n",
    "_ = plt.title('Distribution of targets in Validation set')\n",
    "_ = plt.show()"
   ]
  },
  {
   "cell_type": "code",
   "execution_count": 13,
   "id": "d2641993-96aa-4d4f-9342-5806258036fa",
   "metadata": {},
   "outputs": [],
   "source": [
    "if  0:   \n",
    "    x_train_new = x_train + coords_train\n",
    "    x_test_new = x_test + coords_test\n",
    "    x_val_new = x_val + coords_val"
   ]
  },
  {
   "cell_type": "code",
   "execution_count": 23,
   "id": "45833095-8823-4f47-895b-876c2c1b2396",
   "metadata": {},
   "outputs": [
    {
     "name": "stdout",
     "output_type": "stream",
     "text": [
      "Could not get file name: auto-generating name\n",
      "Activation_function not in workspace\n",
      "loss_function not in workspace\n",
      "Accuracy_per_epoch not in workspace\n",
      "Loss_per_epoch not in workspace\n",
      "Stop_time not in workspace\n",
      "Current run hyper_params are dict_keys(['S_N', 'Start_time', 'NoteBook_name', 'Uniqueness_of_each_run', 'Base_dir', 'Train_shape', 'Output_shape', 'num_epochs', 'Activation_function', 'optimizer', 'learning_rate', 'loss_function', 'Accuracy_per_epoch', 'Loss_per_epoch', 'Stop_time', 'Model_config', 'Performance_on_test_set', 'output_path', 'shuffle', 'Computer_name', 'extras']):dict_values([34, '02_February_22_1547', 'LSTM1_Repeat_NewData-Class_weights-Augment', 'Trying to fix class imbalance and overfitting issue ( Increasing RNN dropout) ', '../../../Python_Env/final_layers_rowblock15_21/filtered_image/', (887347, 9, 21), '', '', '', '', '', '', '', '', '', '', '', '', 1, 'AQ-98JH673', [{'standardize': False}]])\n",
      "Fields to be updated include: ['Activation_function', 'loss_function', 'Accuracy_per_epoch', 'Loss_per_epoch', 'Stop_time', 'Model_config']\n"
     ]
    }
   ],
   "source": [
    "# Populate the param \n",
    "\n",
    "# import sys,importlib\n",
    "#importlib.reload(sys.modules['model_hyper_param_log'])\n",
    "if 1:\n",
    "    \n",
    "    base_path =  r'../../../Python_Env/final_layers_rowblock15_21/filtered_image/'\n",
    "    log ={}\n",
    "    log['Notebook_name'] = ipynbname.name()\n",
    "    log['Uniqueness_of_each_run'] = 'Trying to fix class imbalance and overfitting issue ( Increasing RNN dropout) '\n",
    "    log['base_dir'] = base_path\n",
    "    log['Train_shape'] = x_train.shape\n",
    "    log['Output_shape'] = ''\n",
    "    log['num_epochs'] = ''\n",
    "    log['batch_size'] = ''\n",
    "    log['activation_function'] = ''\n",
    "    log['optimizer'] = ''\n",
    "    log['learning_rate'] = ''\n",
    "    log['loss_finction'] = ''\n",
    "    log['accuracy'] = []\n",
    "    log['loss'] = []\n",
    "    log['stop_time'] = ''\n",
    "    log['Model_config'] = ''\n",
    "    log['Performance_on_test_set'] = ''\n",
    "    log['output_path'] = ''  # output: where the trained model is saved\n",
    "    log['shuffle'] = shuffle\n",
    "    log['run_completion_comment'] = '' # Comment on training and probably evaluation too\n",
    "    log['extras'] = [{'standardize':standardize}]\n",
    "\n",
    "\n",
    "from model_hyper_param_log import create_log_entry, update_log_entry\n",
    "if \"log_idx\" in globals():\n",
    "    log[\"S_N\"] = log_idx\n",
    "log_idx = create_log_entry('../testing_sheet2.xlsx', log)"
   ]
  },
  {
   "cell_type": "code",
   "execution_count": 15,
   "id": "90eaf02e-ac0c-47ae-93f8-ff9098ad79e8",
   "metadata": {},
   "outputs": [
    {
     "name": "stderr",
     "output_type": "stream",
     "text": [
      "C:\\Users\\i368o351\\.conda\\envs\\ibk_tf_new\\lib\\site-packages\\matplotlib\\text.py:1223: FutureWarning: elementwise comparison failed; returning scalar instead, but in the future will perform elementwise comparison\n",
      "  if s != self._text:\n"
     ]
    },
    {
     "data": {
      "image/png": "[encoded data removed]",
      "text/plain": [
       "<Figure size 432x288 with 1 Axes>"
      ]
     },
     "metadata": {
      "needs_background": "light"
     },
     "output_type": "display_data"
    }
   ],
   "source": [
    "# Visualize some of the input\n",
    "\n",
    "_ = plt.plot(x_train[200].flatten())\n",
    "_ = plt.title(y_train[200])"
   ]
  },
  {
   "cell_type": "code",
   "execution_count": 16,
   "id": "20b641e2-a1f0-447f-ac45-eec2151807fe",
   "metadata": {},
   "outputs": [],
   "source": [
    "use_class_weight = False\n",
    "\n",
    "if use_class_weight:\n",
    "    each_class,each_count = np.unique(y_train, return_counts = True)\n",
    "    class_weights = len(y_train) / ( len(each_class) * each_count )\n",
    "    cl_weight_dict = dict(zip(each_class,class_weights))\n",
    "    "
   ]
  },
  {
   "cell_type": "code",
   "execution_count": 25,
   "id": "786f8414-e06b-4d41-9c1d-ebc49fa12c8d",
   "metadata": {},
   "outputs": [],
   "source": [
    "data_augmentation = tf.keras.Sequential(\n",
    "    [\n",
    "        #layers.Rescaling(1 / 255.0),        \n",
    "        layers.RandomCrop(x_train.shape[1], x_train.shape[2]),\n",
    "        layers.RandomFlip(\"vertical\"),\n",
    "    ],\n",
    "    name=\"data_augmentation\",\n",
    ")"
   ]
  },
  {
   "cell_type": "code",
   "execution_count": 26,
   "id": "b709185f-c394-4c52-afa5-75bcf5964ad9",
   "metadata": {
    "tags": []
   },
   "outputs": [
    {
     "name": "stdout",
     "output_type": "stream",
     "text": [
      "WARNING:tensorflow:Layer lstm_9 will not use cuDNN kernels since it doesn't meet the criteria. It will use a generic GPU kernel as fallback when running on GPU.\n",
      "WARNING:tensorflow:Layer lstm_10 will not use cuDNN kernels since it doesn't meet the criteria. It will use a generic GPU kernel as fallback when running on GPU.\n",
      "WARNING:tensorflow:Layer lstm_11 will not use cuDNN kernels since it doesn't meet the criteria. It will use a generic GPU kernel as fallback when running on GPU.\n",
      "WARNING:tensorflow:Layer lstm_12 will not use cuDNN kernels since it doesn't meet the criteria. It will use a generic GPU kernel as fallback when running on GPU.\n",
      "Model: \"RowBlockLSTM02_February_22_1529\"\n",
      "__________________________________________________________________________________________________\n",
      "Layer (type)                    Output Shape         Param #     Connected to                     \n",
      "==================================================================================================\n",
      "input_5 (InputLayer)            [(None, 9, 21, 1)]   0                                            \n",
      "__________________________________________________________________________________________________\n",
      "data_augmentation (Sequential)  (None, 9, 21, 1)     0           input_5[0][0]                    \n",
      "__________________________________________________________________________________________________\n",
      "conv2d_78 (Conv2D)              (None, 9, 21, 32)    320         data_augmentation[0][0]          \n",
      "__________________________________________________________________________________________________\n",
      "conv2d_79 (Conv2D)              (None, 9, 21, 64)    51264       conv2d_78[0][0]                  \n",
      "__________________________________________________________________________________________________\n",
      "conv2d_80 (Conv2D)              (None, 9, 21, 64)    102464      conv2d_79[0][0]                  \n",
      "__________________________________________________________________________________________________\n",
      "dropout_63 (Dropout)            (None, 9, 21, 64)    0           conv2d_80[0][0]                  \n",
      "__________________________________________________________________________________________________\n",
      "batch_normalization_60 (BatchNo (None, 9, 21, 64)    256         dropout_63[0][0]                 \n",
      "__________________________________________________________________________________________________\n",
      "re_lu_75 (ReLU)                 (None, 9, 21, 64)    0           batch_normalization_60[0][0]     \n",
      "__________________________________________________________________________________________________\n",
      "conv2d_81 (Conv2D)              (None, 9, 21, 64)    36928       re_lu_75[0][0]                   \n",
      "__________________________________________________________________________________________________\n",
      "dropout_64 (Dropout)            (None, 9, 21, 64)    0           conv2d_81[0][0]                  \n",
      "__________________________________________________________________________________________________\n",
      "batch_normalization_61 (BatchNo (None, 9, 21, 64)    256         dropout_64[0][0]                 \n",
      "__________________________________________________________________________________________________\n",
      "re_lu_76 (ReLU)                 (None, 9, 21, 64)    0           batch_normalization_61[0][0]     \n",
      "__________________________________________________________________________________________________\n",
      "conv2d_83 (Conv2D)              (None, 9, 21, 64)    36928       re_lu_76[0][0]                   \n",
      "__________________________________________________________________________________________________\n",
      "dropout_66 (Dropout)            (None, 9, 21, 64)    0           conv2d_83[0][0]                  \n",
      "__________________________________________________________________________________________________\n",
      "batch_normalization_63 (BatchNo (None, 9, 21, 64)    256         dropout_66[0][0]                 \n",
      "__________________________________________________________________________________________________\n",
      "re_lu_78 (ReLU)                 (None, 9, 21, 64)    0           batch_normalization_63[0][0]     \n",
      "__________________________________________________________________________________________________\n",
      "add_15 (Add)                    (None, 9, 21, 64)    0           conv2d_79[0][0]                  \n",
      "                                                                 re_lu_78[0][0]                   \n",
      "__________________________________________________________________________________________________\n",
      "re_lu_79 (ReLU)                 (None, 9, 21, 64)    0           add_15[0][0]                     \n",
      "__________________________________________________________________________________________________\n",
      "conv2d_84 (Conv2D)              (None, 9, 21, 64)    102464      re_lu_79[0][0]                   \n",
      "__________________________________________________________________________________________________\n",
      "conv2d_85 (Conv2D)              (None, 9, 21, 64)    102464      conv2d_84[0][0]                  \n",
      "__________________________________________________________________________________________________\n",
      "dropout_67 (Dropout)            (None, 9, 21, 64)    0           conv2d_85[0][0]                  \n",
      "__________________________________________________________________________________________________\n",
      "batch_normalization_64 (BatchNo (None, 9, 21, 64)    256         dropout_67[0][0]                 \n",
      "__________________________________________________________________________________________________\n",
      "re_lu_80 (ReLU)                 (None, 9, 21, 64)    0           batch_normalization_64[0][0]     \n",
      "__________________________________________________________________________________________________\n",
      "conv2d_86 (Conv2D)              (None, 9, 21, 64)    36928       re_lu_80[0][0]                   \n",
      "__________________________________________________________________________________________________\n",
      "dropout_68 (Dropout)            (None, 9, 21, 64)    0           conv2d_86[0][0]                  \n",
      "__________________________________________________________________________________________________\n",
      "batch_normalization_65 (BatchNo (None, 9, 21, 64)    256         dropout_68[0][0]                 \n",
      "__________________________________________________________________________________________________\n",
      "re_lu_81 (ReLU)                 (None, 9, 21, 64)    0           batch_normalization_65[0][0]     \n",
      "__________________________________________________________________________________________________\n",
      "conv2d_88 (Conv2D)              (None, 9, 21, 64)    36928       re_lu_81[0][0]                   \n",
      "__________________________________________________________________________________________________\n",
      "dropout_70 (Dropout)            (None, 9, 21, 64)    0           conv2d_88[0][0]                  \n",
      "__________________________________________________________________________________________________\n",
      "batch_normalization_67 (BatchNo (None, 9, 21, 64)    256         dropout_70[0][0]                 \n",
      "__________________________________________________________________________________________________\n",
      "re_lu_83 (ReLU)                 (None, 9, 21, 64)    0           batch_normalization_67[0][0]     \n",
      "__________________________________________________________________________________________________\n",
      "add_16 (Add)                    (None, 9, 21, 64)    0           conv2d_84[0][0]                  \n",
      "                                                                 re_lu_83[0][0]                   \n",
      "__________________________________________________________________________________________________\n",
      "re_lu_84 (ReLU)                 (None, 9, 21, 64)    0           add_16[0][0]                     \n",
      "__________________________________________________________________________________________________\n",
      "conv2d_89 (Conv2D)              (None, 9, 21, 64)    102464      re_lu_84[0][0]                   \n",
      "__________________________________________________________________________________________________\n",
      "conv2d_90 (Conv2D)              (None, 9, 21, 64)    102464      conv2d_89[0][0]                  \n",
      "__________________________________________________________________________________________________\n",
      "dropout_71 (Dropout)            (None, 9, 21, 64)    0           conv2d_90[0][0]                  \n",
      "__________________________________________________________________________________________________\n",
      "batch_normalization_68 (BatchNo (None, 9, 21, 64)    256         dropout_71[0][0]                 \n",
      "__________________________________________________________________________________________________\n",
      "re_lu_85 (ReLU)                 (None, 9, 21, 64)    0           batch_normalization_68[0][0]     \n",
      "__________________________________________________________________________________________________\n",
      "conv2d_91 (Conv2D)              (None, 9, 21, 64)    36928       re_lu_85[0][0]                   \n",
      "__________________________________________________________________________________________________\n",
      "dropout_72 (Dropout)            (None, 9, 21, 64)    0           conv2d_91[0][0]                  \n",
      "__________________________________________________________________________________________________\n",
      "batch_normalization_69 (BatchNo (None, 9, 21, 64)    256         dropout_72[0][0]                 \n",
      "__________________________________________________________________________________________________\n",
      "re_lu_86 (ReLU)                 (None, 9, 21, 64)    0           batch_normalization_69[0][0]     \n",
      "__________________________________________________________________________________________________\n",
      "conv2d_93 (Conv2D)              (None, 9, 21, 64)    36928       re_lu_86[0][0]                   \n",
      "__________________________________________________________________________________________________\n",
      "dropout_74 (Dropout)            (None, 9, 21, 64)    0           conv2d_93[0][0]                  \n",
      "__________________________________________________________________________________________________\n",
      "batch_normalization_71 (BatchNo (None, 9, 21, 64)    256         dropout_74[0][0]                 \n",
      "__________________________________________________________________________________________________\n",
      "re_lu_88 (ReLU)                 (None, 9, 21, 64)    0           batch_normalization_71[0][0]     \n",
      "__________________________________________________________________________________________________\n",
      "add_17 (Add)                    (None, 9, 21, 64)    0           conv2d_89[0][0]                  \n",
      "                                                                 re_lu_88[0][0]                   \n",
      "__________________________________________________________________________________________________\n",
      "re_lu_89 (ReLU)                 (None, 9, 21, 64)    0           add_17[0][0]                     \n",
      "__________________________________________________________________________________________________\n",
      "conv2d_94 (Conv2D)              (None, 9, 21, 64)    102464      re_lu_89[0][0]                   \n",
      "__________________________________________________________________________________________________\n",
      "conv2d_95 (Conv2D)              (None, 9, 21, 64)    102464      conv2d_94[0][0]                  \n",
      "__________________________________________________________________________________________________\n",
      "dropout_75 (Dropout)            (None, 9, 21, 64)    0           conv2d_95[0][0]                  \n",
      "__________________________________________________________________________________________________\n",
      "batch_normalization_72 (BatchNo (None, 9, 21, 64)    256         dropout_75[0][0]                 \n",
      "__________________________________________________________________________________________________\n",
      "re_lu_90 (ReLU)                 (None, 9, 21, 64)    0           batch_normalization_72[0][0]     \n",
      "__________________________________________________________________________________________________\n",
      "conv2d_96 (Conv2D)              (None, 9, 21, 64)    36928       re_lu_90[0][0]                   \n",
      "__________________________________________________________________________________________________\n",
      "dropout_76 (Dropout)            (None, 9, 21, 64)    0           conv2d_96[0][0]                  \n",
      "__________________________________________________________________________________________________\n",
      "batch_normalization_73 (BatchNo (None, 9, 21, 64)    256         dropout_76[0][0]                 \n",
      "__________________________________________________________________________________________________\n",
      "re_lu_91 (ReLU)                 (None, 9, 21, 64)    0           batch_normalization_73[0][0]     \n",
      "__________________________________________________________________________________________________\n",
      "conv2d_98 (Conv2D)              (None, 9, 21, 64)    36928       re_lu_91[0][0]                   \n",
      "__________________________________________________________________________________________________\n",
      "dropout_78 (Dropout)            (None, 9, 21, 64)    0           conv2d_98[0][0]                  \n",
      "__________________________________________________________________________________________________\n",
      "batch_normalization_75 (BatchNo (None, 9, 21, 64)    256         dropout_78[0][0]                 \n",
      "__________________________________________________________________________________________________\n",
      "re_lu_93 (ReLU)                 (None, 9, 21, 64)    0           batch_normalization_75[0][0]     \n",
      "__________________________________________________________________________________________________\n",
      "add_18 (Add)                    (None, 9, 21, 64)    0           conv2d_94[0][0]                  \n",
      "                                                                 re_lu_93[0][0]                   \n",
      "__________________________________________________________________________________________________\n",
      "re_lu_94 (ReLU)                 (None, 9, 21, 64)    0           add_18[0][0]                     \n",
      "__________________________________________________________________________________________________\n",
      "conv2d_99 (Conv2D)              (None, 9, 21, 64)    102464      re_lu_94[0][0]                   \n",
      "__________________________________________________________________________________________________\n",
      "conv2d_100 (Conv2D)             (None, 9, 21, 64)    102464      conv2d_99[0][0]                  \n",
      "__________________________________________________________________________________________________\n",
      "dropout_79 (Dropout)            (None, 9, 21, 64)    0           conv2d_100[0][0]                 \n",
      "__________________________________________________________________________________________________\n",
      "batch_normalization_76 (BatchNo (None, 9, 21, 64)    256         dropout_79[0][0]                 \n",
      "__________________________________________________________________________________________________\n",
      "re_lu_95 (ReLU)                 (None, 9, 21, 64)    0           batch_normalization_76[0][0]     \n",
      "__________________________________________________________________________________________________\n",
      "conv2d_101 (Conv2D)             (None, 9, 21, 64)    36928       re_lu_95[0][0]                   \n",
      "__________________________________________________________________________________________________\n",
      "dropout_80 (Dropout)            (None, 9, 21, 64)    0           conv2d_101[0][0]                 \n",
      "__________________________________________________________________________________________________\n",
      "batch_normalization_77 (BatchNo (None, 9, 21, 64)    256         dropout_80[0][0]                 \n",
      "__________________________________________________________________________________________________\n",
      "re_lu_96 (ReLU)                 (None, 9, 21, 64)    0           batch_normalization_77[0][0]     \n",
      "__________________________________________________________________________________________________\n",
      "conv2d_103 (Conv2D)             (None, 9, 21, 64)    36928       re_lu_96[0][0]                   \n",
      "__________________________________________________________________________________________________\n",
      "dropout_82 (Dropout)            (None, 9, 21, 64)    0           conv2d_103[0][0]                 \n",
      "__________________________________________________________________________________________________\n",
      "batch_normalization_79 (BatchNo (None, 9, 21, 64)    256         dropout_82[0][0]                 \n",
      "__________________________________________________________________________________________________\n",
      "re_lu_98 (ReLU)                 (None, 9, 21, 64)    0           batch_normalization_79[0][0]     \n",
      "__________________________________________________________________________________________________\n",
      "add_19 (Add)                    (None, 9, 21, 64)    0           conv2d_99[0][0]                  \n",
      "                                                                 re_lu_98[0][0]                   \n",
      "__________________________________________________________________________________________________\n",
      "re_lu_99 (ReLU)                 (None, 9, 21, 64)    0           add_19[0][0]                     \n",
      "__________________________________________________________________________________________________\n",
      "tf.math.reduce_sum_3 (TFOpLambd (None, 9, 21)        0           re_lu_99[0][0]                   \n",
      "__________________________________________________________________________________________________\n",
      "lstm_9 (LSTM)                   (None, 9, 512)       1093632     tf.math.reduce_sum_3[0][0]       \n",
      "__________________________________________________________________________________________________\n",
      "lstm_10 (LSTM)                  (None, 9, 512)       2099200     lstm_9[0][0]                     \n",
      "__________________________________________________________________________________________________\n",
      "lstm_11 (LSTM)                  (None, 9, 512)       2099200     lstm_10[0][0]                    \n",
      "__________________________________________________________________________________________________\n",
      "lstm_12 (LSTM)                  (None, 64)           147712      lstm_11[0][0]                    \n",
      "__________________________________________________________________________________________________\n",
      "dense_6 (Dense)                 (None, 512)          33280       lstm_12[0][0]                    \n",
      "__________________________________________________________________________________________________\n",
      "dropout_83 (Dropout)            (None, 512)          0           dense_6[0][0]                    \n",
      "__________________________________________________________________________________________________\n",
      "dense_7 (Dense)                 (None, 22)           11286       dropout_83[0][0]                 \n",
      "==================================================================================================\n",
      "Total params: 6,831,190\n",
      "Trainable params: 6,829,270\n",
      "Non-trainable params: 1,920\n",
      "__________________________________________________________________________________________________\n",
      "Training start time:02_February_22_2126\n",
      "Epoch 1/200\n",
      "1214/1214 [==============================] - 345s 280ms/step - loss: 2.1235 - accuracy: 0.4477 - top-3-accuracy: 0.7719 - val_loss: 1.8823 - val_accuracy: 0.5750 - val_top-3-accuracy: 0.8958\n",
      "Epoch 2/200\n",
      "1214/1214 [==============================] - 339s 279ms/step - loss: 1.7726 - accuracy: 0.6113 - top-3-accuracy: 0.9235 - val_loss: 1.8419 - val_accuracy: 0.5908 - val_top-3-accuracy: 0.9043\n",
      "Epoch 3/200\n",
      "1214/1214 [==============================] - 339s 279ms/step - loss: 1.7239 - accuracy: 0.6298 - top-3-accuracy: 0.9327 - val_loss: 1.8535 - val_accuracy: 0.5802 - val_top-3-accuracy: 0.9068\n",
      "Epoch 4/200\n",
      "1214/1214 [==============================] - 342s 282ms/step - loss: 1.7055 - accuracy: 0.6365 - top-3-accuracy: 0.9361 - val_loss: 1.7945 - val_accuracy: 0.6146 - val_top-3-accuracy: 0.9097\n",
      "Epoch 5/200\n",
      "1214/1214 [==============================] - 341s 281ms/step - loss: 1.6946 - accuracy: 0.6425 - top-3-accuracy: 0.9375 - val_loss: 1.7588 - val_accuracy: 0.6337 - val_top-3-accuracy: 0.9206\n",
      "Epoch 6/200\n",
      "1214/1214 [==============================] - 340s 280ms/step - loss: 1.6917 - accuracy: 0.6434 - top-3-accuracy: 0.9385 - val_loss: 1.7722 - val_accuracy: 0.6224 - val_top-3-accuracy: 0.9175\n",
      "Epoch 7/200\n",
      "1214/1214 [==============================] - 340s 280ms/step - loss: 1.6988 - accuracy: 0.6389 - top-3-accuracy: 0.9372 - val_loss: 1.7715 - val_accuracy: 0.6272 - val_top-3-accuracy: 0.9195\n",
      "Epoch 8/200\n",
      "1214/1214 [==============================] - 341s 281ms/step - loss: 1.7067 - accuracy: 0.6356 - top-3-accuracy: 0.9357 - val_loss: 1.8318 - val_accuracy: 0.5870 - val_top-3-accuracy: 0.9081\n",
      "Epoch 9/200\n",
      "1214/1214 [==============================] - 341s 281ms/step - loss: 1.7018 - accuracy: 0.6382 - top-3-accuracy: 0.9366 - val_loss: 1.7479 - val_accuracy: 0.6371 - val_top-3-accuracy: 0.9223\n",
      "Epoch 10/200\n",
      "1214/1214 [==============================] - 340s 280ms/step - loss: 1.6738 - accuracy: 0.6515 - top-3-accuracy: 0.9415 - val_loss: 1.7383 - val_accuracy: 0.6424 - val_top-3-accuracy: 0.9251\n",
      "Epoch 11/200\n",
      "1214/1214 [==============================] - 341s 281ms/step - loss: 1.6663 - accuracy: 0.6554 - top-3-accuracy: 0.9426 - val_loss: 1.7458 - val_accuracy: 0.6393 - val_top-3-accuracy: 0.9236\n",
      "Epoch 12/200\n",
      "1214/1214 [==============================] - 340s 280ms/step - loss: 1.6625 - accuracy: 0.6575 - top-3-accuracy: 0.9433 - val_loss: 1.7468 - val_accuracy: 0.6370 - val_top-3-accuracy: 0.9228\n",
      "Epoch 13/200\n",
      "1214/1214 [==============================] - 343s 282ms/step - loss: 1.6564 - accuracy: 0.6608 - top-3-accuracy: 0.9443 - val_loss: 1.7308 - val_accuracy: 0.6473 - val_top-3-accuracy: 0.9252\n",
      "Epoch 14/200\n",
      "1214/1214 [==============================] - 342s 281ms/step - loss: 1.6544 - accuracy: 0.6622 - top-3-accuracy: 0.9444 - val_loss: 1.7442 - val_accuracy: 0.6396 - val_top-3-accuracy: 0.9230\n",
      "Epoch 15/200\n",
      "1214/1214 [==============================] - 340s 280ms/step - loss: 1.6504 - accuracy: 0.6646 - top-3-accuracy: 0.9451 - val_loss: 1.7307 - val_accuracy: 0.6499 - val_top-3-accuracy: 0.9259\n",
      "Epoch 16/200\n",
      "1214/1214 [==============================] - 340s 280ms/step - loss: 1.6475 - accuracy: 0.6649 - top-3-accuracy: 0.9455 - val_loss: 1.7313 - val_accuracy: 0.6472 - val_top-3-accuracy: 0.9252\n",
      "Epoch 17/200\n",
      "1214/1214 [==============================] - 339s 279ms/step - loss: 1.6409 - accuracy: 0.6687 - top-3-accuracy: 0.9468 - val_loss: 1.7240 - val_accuracy: 0.6507 - val_top-3-accuracy: 0.9266\n",
      "Epoch 18/200\n",
      "1214/1214 [==============================] - 340s 280ms/step - loss: 1.6360 - accuracy: 0.6718 - top-3-accuracy: 0.9473 - val_loss: 1.7213 - val_accuracy: 0.6535 - val_top-3-accuracy: 0.9266\n",
      "Epoch 19/200\n",
      "1214/1214 [==============================] - 340s 280ms/step - loss: 1.6345 - accuracy: 0.6730 - top-3-accuracy: 0.9477 - val_loss: 1.7199 - val_accuracy: 0.6545 - val_top-3-accuracy: 0.9265\n",
      "Epoch 20/200\n",
      "1214/1214 [==============================] - 341s 281ms/step - loss: 1.6332 - accuracy: 0.6734 - top-3-accuracy: 0.9478 - val_loss: 1.7194 - val_accuracy: 0.6546 - val_top-3-accuracy: 0.9266\n",
      "Epoch 21/200\n",
      "1214/1214 [==============================] - 341s 281ms/step - loss: 1.6317 - accuracy: 0.6742 - top-3-accuracy: 0.9481 - val_loss: 1.7220 - val_accuracy: 0.6552 - val_top-3-accuracy: 0.9268\n",
      "Epoch 22/200\n",
      "1214/1214 [==============================] - 341s 281ms/step - loss: 1.6305 - accuracy: 0.6756 - top-3-accuracy: 0.9482 - val_loss: 1.7226 - val_accuracy: 0.6545 - val_top-3-accuracy: 0.9263\n",
      "Epoch 23/200\n",
      "1214/1214 [==============================] - 340s 280ms/step - loss: 1.6297 - accuracy: 0.6753 - top-3-accuracy: 0.9484 - val_loss: 1.7193 - val_accuracy: 0.6556 - val_top-3-accuracy: 0.9261\n",
      "Epoch 24/200\n",
      "1214/1214 [==============================] - 339s 279ms/step - loss: 1.6286 - accuracy: 0.6759 - top-3-accuracy: 0.9488 - val_loss: 1.7168 - val_accuracy: 0.6573 - val_top-3-accuracy: 0.9268\n",
      "Epoch 25/200\n",
      "1214/1214 [==============================] - 340s 280ms/step - loss: 1.6274 - accuracy: 0.6772 - top-3-accuracy: 0.9485 - val_loss: 1.7194 - val_accuracy: 0.6564 - val_top-3-accuracy: 0.9264\n",
      "Epoch 26/200\n",
      "1214/1214 [==============================] - 340s 280ms/step - loss: 1.6263 - accuracy: 0.6775 - top-3-accuracy: 0.9489 - val_loss: 1.7184 - val_accuracy: 0.6571 - val_top-3-accuracy: 0.9267\n",
      "Epoch 27/200\n",
      "1214/1214 [==============================] - 340s 280ms/step - loss: 1.6251 - accuracy: 0.6783 - top-3-accuracy: 0.9492 - val_loss: 1.7138 - val_accuracy: 0.6583 - val_top-3-accuracy: 0.9268\n",
      "Epoch 28/200\n",
      "1214/1214 [==============================] - 342s 282ms/step - loss: 1.6245 - accuracy: 0.6791 - top-3-accuracy: 0.9494 - val_loss: 1.7152 - val_accuracy: 0.6580 - val_top-3-accuracy: 0.9267\n",
      "Epoch 29/200\n",
      "1214/1214 [==============================] - 341s 281ms/step - loss: 1.6236 - accuracy: 0.6787 - top-3-accuracy: 0.9493 - val_loss: 1.7164 - val_accuracy: 0.6576 - val_top-3-accuracy: 0.9265\n",
      "Epoch 30/200\n",
      "1214/1214 [==============================] - 341s 281ms/step - loss: 1.6224 - accuracy: 0.6799 - top-3-accuracy: 0.9495 - val_loss: 1.7130 - val_accuracy: 0.6599 - val_top-3-accuracy: 0.9270\n",
      "Epoch 31/200\n",
      "1214/1214 [==============================] - 340s 280ms/step - loss: 1.6210 - accuracy: 0.6807 - top-3-accuracy: 0.9496 - val_loss: 1.7147 - val_accuracy: 0.6587 - val_top-3-accuracy: 0.9271\n",
      "Epoch 32/200\n",
      "1214/1214 [==============================] - 340s 280ms/step - loss: 1.6202 - accuracy: 0.6813 - top-3-accuracy: 0.9499 - val_loss: 1.7137 - val_accuracy: 0.6594 - val_top-3-accuracy: 0.9275\n",
      "Epoch 33/200\n",
      "1214/1214 [==============================] - 340s 280ms/step - loss: 1.6190 - accuracy: 0.6816 - top-3-accuracy: 0.9500 - val_loss: 1.7121 - val_accuracy: 0.6594 - val_top-3-accuracy: 0.9269\n",
      "Epoch 34/200\n",
      "1214/1214 [==============================] - 341s 281ms/step - loss: 1.6182 - accuracy: 0.6826 - top-3-accuracy: 0.9501 - val_loss: 1.7095 - val_accuracy: 0.6606 - val_top-3-accuracy: 0.9277\n",
      "Epoch 35/200\n",
      "1214/1214 [==============================] - 341s 281ms/step - loss: 1.6169 - accuracy: 0.6834 - top-3-accuracy: 0.9504 - val_loss: 1.7113 - val_accuracy: 0.6602 - val_top-3-accuracy: 0.9274\n",
      "Epoch 36/200\n",
      "1214/1214 [==============================] - 341s 281ms/step - loss: 1.6153 - accuracy: 0.6847 - top-3-accuracy: 0.9508 - val_loss: 1.7102 - val_accuracy: 0.6608 - val_top-3-accuracy: 0.9277\n",
      "Epoch 37/200\n",
      "1214/1214 [==============================] - 341s 281ms/step - loss: 1.6148 - accuracy: 0.6850 - top-3-accuracy: 0.9506 - val_loss: 1.7101 - val_accuracy: 0.6614 - val_top-3-accuracy: 0.9273\n",
      "Epoch 38/200\n",
      "1214/1214 [==============================] - 340s 280ms/step - loss: 1.6136 - accuracy: 0.6853 - top-3-accuracy: 0.9508 - val_loss: 1.7101 - val_accuracy: 0.6611 - val_top-3-accuracy: 0.9275\n",
      "Epoch 39/200\n",
      "1214/1214 [==============================] - 340s 280ms/step - loss: 1.6132 - accuracy: 0.6856 - top-3-accuracy: 0.9508 - val_loss: 1.7106 - val_accuracy: 0.6614 - val_top-3-accuracy: 0.9270\n",
      "Epoch 40/200\n",
      "1214/1214 [==============================] - 341s 281ms/step - loss: 1.6116 - accuracy: 0.6865 - top-3-accuracy: 0.9509 - val_loss: 1.7087 - val_accuracy: 0.6622 - val_top-3-accuracy: 0.9277\n",
      "Epoch 41/200\n",
      "1214/1214 [==============================] - 341s 281ms/step - loss: 1.6103 - accuracy: 0.6874 - top-3-accuracy: 0.9512 - val_loss: 1.7099 - val_accuracy: 0.6622 - val_top-3-accuracy: 0.9276\n",
      "Epoch 42/200\n",
      "1214/1214 [==============================] - 340s 280ms/step - loss: 1.6098 - accuracy: 0.6874 - top-3-accuracy: 0.9512 - val_loss: 1.7065 - val_accuracy: 0.6632 - val_top-3-accuracy: 0.9274\n",
      "Epoch 43/200\n",
      "1214/1214 [==============================] - 343s 282ms/step - loss: 1.6083 - accuracy: 0.6883 - top-3-accuracy: 0.9516 - val_loss: 1.7103 - val_accuracy: 0.6623 - val_top-3-accuracy: 0.9268\n",
      "Epoch 44/200\n",
      "1214/1214 [==============================] - 343s 283ms/step - loss: 1.6077 - accuracy: 0.6894 - top-3-accuracy: 0.9519 - val_loss: 1.7110 - val_accuracy: 0.6617 - val_top-3-accuracy: 0.9279\n",
      "Epoch 45/200\n",
      "1214/1214 [==============================] - 342s 282ms/step - loss: 1.6063 - accuracy: 0.6899 - top-3-accuracy: 0.9518 - val_loss: 1.7059 - val_accuracy: 0.6638 - val_top-3-accuracy: 0.9280\n",
      "Epoch 46/200\n",
      "1214/1214 [==============================] - 342s 282ms/step - loss: 1.6055 - accuracy: 0.6904 - top-3-accuracy: 0.9519 - val_loss: 1.7089 - val_accuracy: 0.6640 - val_top-3-accuracy: 0.9270\n",
      "Epoch 47/200\n",
      "1214/1214 [==============================] - 342s 281ms/step - loss: 1.6036 - accuracy: 0.6917 - top-3-accuracy: 0.9523 - val_loss: 1.7048 - val_accuracy: 0.6656 - val_top-3-accuracy: 0.9278\n",
      "Epoch 48/200\n",
      "1214/1214 [==============================] - 342s 282ms/step - loss: 1.6034 - accuracy: 0.6917 - top-3-accuracy: 0.9522 - val_loss: 1.7074 - val_accuracy: 0.6651 - val_top-3-accuracy: 0.9269\n",
      "Epoch 49/200\n",
      "1214/1214 [==============================] - 342s 281ms/step - loss: 1.6028 - accuracy: 0.6920 - top-3-accuracy: 0.9520 - val_loss: 1.7093 - val_accuracy: 0.6634 - val_top-3-accuracy: 0.9272\n",
      "Epoch 50/200\n",
      "1214/1214 [==============================] - 342s 282ms/step - loss: 1.6011 - accuracy: 0.6928 - top-3-accuracy: 0.9527 - val_loss: 1.7092 - val_accuracy: 0.6642 - val_top-3-accuracy: 0.9270\n",
      "Epoch 51/200\n",
      "1214/1214 [==============================] - 342s 282ms/step - loss: 1.6003 - accuracy: 0.6931 - top-3-accuracy: 0.9526 - val_loss: 1.7015 - val_accuracy: 0.6670 - val_top-3-accuracy: 0.9290\n",
      "Epoch 52/200\n",
      "1214/1214 [==============================] - 341s 281ms/step - loss: 1.5993 - accuracy: 0.6943 - top-3-accuracy: 0.9527 - val_loss: 1.7074 - val_accuracy: 0.6654 - val_top-3-accuracy: 0.9278\n",
      "Epoch 53/200\n",
      "1214/1214 [==============================] - 341s 281ms/step - loss: 1.5978 - accuracy: 0.6956 - top-3-accuracy: 0.9530 - val_loss: 1.7030 - val_accuracy: 0.6674 - val_top-3-accuracy: 0.9281\n",
      "Epoch 54/200\n",
      "1214/1214 [==============================] - 341s 281ms/step - loss: 1.5966 - accuracy: 0.6962 - top-3-accuracy: 0.9533 - val_loss: 1.7016 - val_accuracy: 0.6679 - val_top-3-accuracy: 0.9278\n",
      "Epoch 55/200\n",
      "1214/1214 [==============================] - 339s 279ms/step - loss: 1.5955 - accuracy: 0.6967 - top-3-accuracy: 0.9534 - val_loss: 1.7031 - val_accuracy: 0.6676 - val_top-3-accuracy: 0.9282\n",
      "Epoch 56/200\n",
      "1214/1214 [==============================] - 342s 281ms/step - loss: 1.5942 - accuracy: 0.6980 - top-3-accuracy: 0.9532 - val_loss: 1.7027 - val_accuracy: 0.6681 - val_top-3-accuracy: 0.9281\n",
      "Epoch 57/200\n",
      "1214/1214 [==============================] - 343s 282ms/step - loss: 1.5932 - accuracy: 0.6984 - top-3-accuracy: 0.9535 - val_loss: 1.7021 - val_accuracy: 0.6681 - val_top-3-accuracy: 0.9280\n",
      "Epoch 58/200\n",
      "1214/1214 [==============================] - 341s 281ms/step - loss: 1.5923 - accuracy: 0.6986 - top-3-accuracy: 0.9537 - val_loss: 1.7052 - val_accuracy: 0.6663 - val_top-3-accuracy: 0.9274\n",
      "Epoch 59/200\n",
      "1214/1214 [==============================] - 341s 281ms/step - loss: 1.5909 - accuracy: 0.6996 - top-3-accuracy: 0.9538 - val_loss: 1.7002 - val_accuracy: 0.6694 - val_top-3-accuracy: 0.9285\n",
      "Epoch 60/200\n",
      "1214/1214 [==============================] - 341s 281ms/step - loss: 1.5899 - accuracy: 0.7000 - top-3-accuracy: 0.9540 - val_loss: 1.7004 - val_accuracy: 0.6691 - val_top-3-accuracy: 0.9286\n",
      "Epoch 61/200\n",
      "1214/1214 [==============================] - 341s 281ms/step - loss: 1.5881 - accuracy: 0.7011 - top-3-accuracy: 0.9542 - val_loss: 1.7000 - val_accuracy: 0.6697 - val_top-3-accuracy: 0.9278\n",
      "Epoch 62/200\n",
      "1214/1214 [==============================] - 341s 281ms/step - loss: 1.5869 - accuracy: 0.7024 - top-3-accuracy: 0.9544 - val_loss: 1.6980 - val_accuracy: 0.6717 - val_top-3-accuracy: 0.9284\n",
      "Epoch 63/200\n",
      "1214/1214 [==============================] - 340s 280ms/step - loss: 1.5866 - accuracy: 0.7027 - top-3-accuracy: 0.9545 - val_loss: 1.7008 - val_accuracy: 0.6693 - val_top-3-accuracy: 0.9276\n",
      "Epoch 64/200\n",
      "1214/1214 [==============================] - 342s 281ms/step - loss: 1.5851 - accuracy: 0.7034 - top-3-accuracy: 0.9547 - val_loss: 1.7020 - val_accuracy: 0.6696 - val_top-3-accuracy: 0.9283\n",
      "Epoch 65/200\n",
      "1214/1214 [==============================] - 341s 281ms/step - loss: 1.5838 - accuracy: 0.7042 - top-3-accuracy: 0.9548 - val_loss: 1.6970 - val_accuracy: 0.6719 - val_top-3-accuracy: 0.9286\n",
      "Epoch 66/200\n",
      "1214/1214 [==============================] - 339s 280ms/step - loss: 1.5829 - accuracy: 0.7049 - top-3-accuracy: 0.9550 - val_loss: 1.6971 - val_accuracy: 0.6725 - val_top-3-accuracy: 0.9281\n",
      "Epoch 67/200\n",
      "1214/1214 [==============================] - 339s 280ms/step - loss: 1.5815 - accuracy: 0.7062 - top-3-accuracy: 0.9551 - val_loss: 1.6980 - val_accuracy: 0.6732 - val_top-3-accuracy: 0.9277\n",
      "Epoch 68/200\n",
      "1214/1214 [==============================] - 339s 279ms/step - loss: 1.5801 - accuracy: 0.7071 - top-3-accuracy: 0.9552 - val_loss: 1.6979 - val_accuracy: 0.6739 - val_top-3-accuracy: 0.9282\n",
      "Epoch 69/200\n",
      "1214/1214 [==============================] - 339s 279ms/step - loss: 1.5785 - accuracy: 0.7076 - top-3-accuracy: 0.9558 - val_loss: 1.6959 - val_accuracy: 0.6736 - val_top-3-accuracy: 0.9296\n",
      "Epoch 70/200\n",
      "1214/1214 [==============================] - 340s 280ms/step - loss: 1.5776 - accuracy: 0.7083 - top-3-accuracy: 0.9558 - val_loss: 1.6970 - val_accuracy: 0.6735 - val_top-3-accuracy: 0.9285\n",
      "Epoch 71/200\n",
      "1214/1214 [==============================] - 340s 280ms/step - loss: 1.5759 - accuracy: 0.7096 - top-3-accuracy: 0.9560 - val_loss: 1.6953 - val_accuracy: 0.6740 - val_top-3-accuracy: 0.9286\n",
      "Epoch 72/200\n",
      "1214/1214 [==============================] - 338s 279ms/step - loss: 1.5749 - accuracy: 0.7101 - top-3-accuracy: 0.9562 - val_loss: 1.6902 - val_accuracy: 0.6767 - val_top-3-accuracy: 0.9299\n",
      "Epoch 73/200\n",
      "1214/1214 [==============================] - 339s 279ms/step - loss: 1.5740 - accuracy: 0.7109 - top-3-accuracy: 0.9563 - val_loss: 1.6956 - val_accuracy: 0.6755 - val_top-3-accuracy: 0.9292\n",
      "Epoch 74/200\n",
      "1214/1214 [==============================] - 339s 279ms/step - loss: 1.5726 - accuracy: 0.7117 - top-3-accuracy: 0.9564 - val_loss: 1.6961 - val_accuracy: 0.6748 - val_top-3-accuracy: 0.9287\n",
      "Epoch 75/200\n",
      "1214/1214 [==============================] - 339s 279ms/step - loss: 1.5711 - accuracy: 0.7128 - top-3-accuracy: 0.9568 - val_loss: 1.6933 - val_accuracy: 0.6766 - val_top-3-accuracy: 0.9290\n",
      "Epoch 76/200\n",
      "1214/1214 [==============================] - 341s 281ms/step - loss: 1.5698 - accuracy: 0.7137 - top-3-accuracy: 0.9568 - val_loss: 1.6956 - val_accuracy: 0.6760 - val_top-3-accuracy: 0.9290\n",
      "Epoch 77/200\n",
      "1214/1214 [==============================] - 342s 281ms/step - loss: 1.5686 - accuracy: 0.7147 - top-3-accuracy: 0.9569 - val_loss: 1.6898 - val_accuracy: 0.6782 - val_top-3-accuracy: 0.9290\n",
      "Epoch 78/200\n",
      "1214/1214 [==============================] - 342s 282ms/step - loss: 1.5673 - accuracy: 0.7155 - top-3-accuracy: 0.9570 - val_loss: 1.6951 - val_accuracy: 0.6758 - val_top-3-accuracy: 0.9281\n",
      "Epoch 79/200\n",
      "1214/1214 [==============================] - 341s 281ms/step - loss: 1.5665 - accuracy: 0.7156 - top-3-accuracy: 0.9573 - val_loss: 1.6922 - val_accuracy: 0.6770 - val_top-3-accuracy: 0.9290\n",
      "Epoch 80/200\n",
      "1214/1214 [==============================] - 341s 281ms/step - loss: 1.5650 - accuracy: 0.7164 - top-3-accuracy: 0.9575 - val_loss: 1.6905 - val_accuracy: 0.6778 - val_top-3-accuracy: 0.9295\n",
      "Epoch 81/200\n",
      "1214/1214 [==============================] - 341s 281ms/step - loss: 1.5631 - accuracy: 0.7178 - top-3-accuracy: 0.9576 - val_loss: 1.6885 - val_accuracy: 0.6796 - val_top-3-accuracy: 0.9299\n",
      "Epoch 82/200\n",
      "1214/1214 [==============================] - 341s 281ms/step - loss: 1.5624 - accuracy: 0.7184 - top-3-accuracy: 0.9577 - val_loss: 1.6887 - val_accuracy: 0.6789 - val_top-3-accuracy: 0.9300\n",
      "Epoch 83/200\n",
      "1214/1214 [==============================] - 342s 282ms/step - loss: 1.5607 - accuracy: 0.7194 - top-3-accuracy: 0.9581 - val_loss: 1.6878 - val_accuracy: 0.6809 - val_top-3-accuracy: 0.9292\n",
      "Epoch 84/200\n",
      "1214/1214 [==============================] - 341s 281ms/step - loss: 1.5591 - accuracy: 0.7207 - top-3-accuracy: 0.9582 - val_loss: 1.6880 - val_accuracy: 0.6798 - val_top-3-accuracy: 0.9293\n",
      "Epoch 85/200\n",
      "1214/1214 [==============================] - 341s 280ms/step - loss: 1.5583 - accuracy: 0.7204 - top-3-accuracy: 0.9586 - val_loss: 1.6856 - val_accuracy: 0.6808 - val_top-3-accuracy: 0.9303\n",
      "Epoch 86/200\n",
      "1214/1214 [==============================] - 342s 282ms/step - loss: 1.5570 - accuracy: 0.7216 - top-3-accuracy: 0.9589 - val_loss: 1.6890 - val_accuracy: 0.6789 - val_top-3-accuracy: 0.9289\n",
      "Epoch 87/200\n",
      "1214/1214 [==============================] - 342s 282ms/step - loss: 1.5553 - accuracy: 0.7227 - top-3-accuracy: 0.9587 - val_loss: 1.6862 - val_accuracy: 0.6818 - val_top-3-accuracy: 0.9302\n",
      "Epoch 88/200\n",
      "1214/1214 [==============================] - 341s 281ms/step - loss: 1.5536 - accuracy: 0.7234 - top-3-accuracy: 0.9592 - val_loss: 1.6897 - val_accuracy: 0.6800 - val_top-3-accuracy: 0.9293\n",
      "Epoch 89/200\n",
      "1214/1214 [==============================] - 339s 279ms/step - loss: 1.5518 - accuracy: 0.7244 - top-3-accuracy: 0.9594 - val_loss: 1.6849 - val_accuracy: 0.6834 - val_top-3-accuracy: 0.9299\n",
      "Epoch 90/200\n",
      "1214/1214 [==============================] - 338s 279ms/step - loss: 1.5511 - accuracy: 0.7250 - top-3-accuracy: 0.9596 - val_loss: 1.6828 - val_accuracy: 0.6849 - val_top-3-accuracy: 0.9304\n",
      "Epoch 91/200\n",
      "1214/1214 [==============================] - 339s 280ms/step - loss: 1.5496 - accuracy: 0.7260 - top-3-accuracy: 0.9596 - val_loss: 1.6833 - val_accuracy: 0.6845 - val_top-3-accuracy: 0.9295\n",
      "Epoch 92/200\n",
      "1214/1214 [==============================] - 341s 281ms/step - loss: 1.5478 - accuracy: 0.7272 - top-3-accuracy: 0.9601 - val_loss: 1.6825 - val_accuracy: 0.6839 - val_top-3-accuracy: 0.9303\n",
      "Epoch 93/200\n",
      "1214/1214 [==============================] - 341s 281ms/step - loss: 1.5458 - accuracy: 0.7283 - top-3-accuracy: 0.9604 - val_loss: 1.6794 - val_accuracy: 0.6865 - val_top-3-accuracy: 0.9304\n",
      "Epoch 94/200\n",
      "1214/1214 [==============================] - 340s 280ms/step - loss: 1.5447 - accuracy: 0.7291 - top-3-accuracy: 0.9607 - val_loss: 1.6856 - val_accuracy: 0.6842 - val_top-3-accuracy: 0.9294\n",
      "Epoch 95/200\n",
      "1214/1214 [==============================] - 340s 280ms/step - loss: 1.5444 - accuracy: 0.7300 - top-3-accuracy: 0.9607 - val_loss: 1.6895 - val_accuracy: 0.6825 - val_top-3-accuracy: 0.9300\n",
      "Epoch 96/200\n",
      "1214/1214 [==============================] - 339s 279ms/step - loss: 1.5419 - accuracy: 0.7306 - top-3-accuracy: 0.9610 - val_loss: 1.6838 - val_accuracy: 0.6856 - val_top-3-accuracy: 0.9295\n",
      "Epoch 97/200\n",
      "1214/1214 [==============================] - 339s 279ms/step - loss: 1.5409 - accuracy: 0.7312 - top-3-accuracy: 0.9611 - val_loss: 1.6768 - val_accuracy: 0.6887 - val_top-3-accuracy: 0.9302\n",
      "Epoch 98/200\n",
      "1214/1214 [==============================] - 341s 281ms/step - loss: 1.5396 - accuracy: 0.7324 - top-3-accuracy: 0.9611 - val_loss: 1.6831 - val_accuracy: 0.6869 - val_top-3-accuracy: 0.9296\n",
      "Epoch 99/200\n",
      "1214/1214 [==============================] - 342s 282ms/step - loss: 1.5369 - accuracy: 0.7340 - top-3-accuracy: 0.9615 - val_loss: 1.6784 - val_accuracy: 0.6896 - val_top-3-accuracy: 0.9310\n",
      "Epoch 100/200\n",
      "1214/1214 [==============================] - 340s 280ms/step - loss: 1.5366 - accuracy: 0.7339 - top-3-accuracy: 0.9619 - val_loss: 1.6766 - val_accuracy: 0.6892 - val_top-3-accuracy: 0.9307\n",
      "Epoch 101/200\n",
      "1214/1214 [==============================] - 339s 280ms/step - loss: 1.5344 - accuracy: 0.7351 - top-3-accuracy: 0.9619 - val_loss: 1.6767 - val_accuracy: 0.6902 - val_top-3-accuracy: 0.9308\n",
      "Epoch 102/200\n",
      "1214/1214 [==============================] - 340s 280ms/step - loss: 1.5329 - accuracy: 0.7365 - top-3-accuracy: 0.9622 - val_loss: 1.6749 - val_accuracy: 0.6922 - val_top-3-accuracy: 0.9310\n",
      "Epoch 103/200\n",
      "1214/1214 [==============================] - 342s 282ms/step - loss: 1.5313 - accuracy: 0.7373 - top-3-accuracy: 0.9624 - val_loss: 1.6750 - val_accuracy: 0.6918 - val_top-3-accuracy: 0.9307\n",
      "Epoch 104/200\n",
      "1214/1214 [==============================] - 342s 282ms/step - loss: 1.5307 - accuracy: 0.7381 - top-3-accuracy: 0.9626 - val_loss: 1.6804 - val_accuracy: 0.6875 - val_top-3-accuracy: 0.9305\n",
      "Epoch 105/200\n",
      "1214/1214 [==============================] - 341s 281ms/step - loss: 1.5296 - accuracy: 0.7383 - top-3-accuracy: 0.9628 - val_loss: 1.6789 - val_accuracy: 0.6894 - val_top-3-accuracy: 0.9304\n",
      "Epoch 106/200\n",
      "1214/1214 [==============================] - 341s 281ms/step - loss: 1.5277 - accuracy: 0.7402 - top-3-accuracy: 0.9627 - val_loss: 1.6729 - val_accuracy: 0.6917 - val_top-3-accuracy: 0.9316\n",
      "Epoch 107/200\n",
      "1214/1214 [==============================] - 340s 280ms/step - loss: 1.5253 - accuracy: 0.7411 - top-3-accuracy: 0.9633 - val_loss: 1.6696 - val_accuracy: 0.6945 - val_top-3-accuracy: 0.9314\n",
      "Epoch 108/200\n",
      "1214/1214 [==============================] - 342s 282ms/step - loss: 1.5242 - accuracy: 0.7420 - top-3-accuracy: 0.9636 - val_loss: 1.6766 - val_accuracy: 0.6923 - val_top-3-accuracy: 0.9301\n",
      "Epoch 109/200\n",
      "1214/1214 [==============================] - 343s 282ms/step - loss: 1.5222 - accuracy: 0.7432 - top-3-accuracy: 0.9633 - val_loss: 1.6727 - val_accuracy: 0.6945 - val_top-3-accuracy: 0.9304\n",
      "Epoch 110/200\n",
      "1214/1214 [==============================] - 340s 280ms/step - loss: 1.5215 - accuracy: 0.7436 - top-3-accuracy: 0.9639 - val_loss: 1.6715 - val_accuracy: 0.6955 - val_top-3-accuracy: 0.9309\n",
      "Epoch 111/200\n",
      "1214/1214 [==============================] - 342s 282ms/step - loss: 1.5189 - accuracy: 0.7455 - top-3-accuracy: 0.9639 - val_loss: 1.6671 - val_accuracy: 0.6972 - val_top-3-accuracy: 0.9315\n",
      "Epoch 112/200\n",
      "1214/1214 [==============================] - 341s 281ms/step - loss: 1.5167 - accuracy: 0.7468 - top-3-accuracy: 0.9645 - val_loss: 1.6733 - val_accuracy: 0.6952 - val_top-3-accuracy: 0.9306\n",
      "Epoch 113/200\n",
      "1214/1214 [==============================] - 341s 281ms/step - loss: 1.5161 - accuracy: 0.7472 - top-3-accuracy: 0.9644 - val_loss: 1.6669 - val_accuracy: 0.6978 - val_top-3-accuracy: 0.9321\n",
      "Epoch 114/200\n",
      "1214/1214 [==============================] - 340s 280ms/step - loss: 1.5148 - accuracy: 0.7478 - top-3-accuracy: 0.9647 - val_loss: 1.6704 - val_accuracy: 0.6970 - val_top-3-accuracy: 0.9311\n",
      "Epoch 115/200\n",
      "1214/1214 [==============================] - 339s 280ms/step - loss: 1.5131 - accuracy: 0.7485 - top-3-accuracy: 0.9652 - val_loss: 1.6765 - val_accuracy: 0.6931 - val_top-3-accuracy: 0.9308\n",
      "Epoch 116/200\n",
      "1214/1214 [==============================] - 341s 280ms/step - loss: 1.5116 - accuracy: 0.7502 - top-3-accuracy: 0.9654 - val_loss: 1.6736 - val_accuracy: 0.6943 - val_top-3-accuracy: 0.9305\n",
      "Epoch 117/200\n",
      "1214/1214 [==============================] - 340s 280ms/step - loss: 1.5099 - accuracy: 0.7509 - top-3-accuracy: 0.9656 - val_loss: 1.6681 - val_accuracy: 0.6984 - val_top-3-accuracy: 0.9313\n",
      "Epoch 118/200\n",
      "1214/1214 [==============================] - 340s 280ms/step - loss: 1.5090 - accuracy: 0.7517 - top-3-accuracy: 0.9657 - val_loss: 1.6660 - val_accuracy: 0.7016 - val_top-3-accuracy: 0.9314\n",
      "Epoch 119/200\n",
      "1214/1214 [==============================] - 341s 281ms/step - loss: 1.5074 - accuracy: 0.7531 - top-3-accuracy: 0.9659 - val_loss: 1.6638 - val_accuracy: 0.7013 - val_top-3-accuracy: 0.9318\n",
      "Epoch 120/200\n",
      "1214/1214 [==============================] - 341s 281ms/step - loss: 1.5054 - accuracy: 0.7538 - top-3-accuracy: 0.9663 - val_loss: 1.6628 - val_accuracy: 0.7026 - val_top-3-accuracy: 0.9321\n",
      "Epoch 121/200\n",
      "1214/1214 [==============================] - 342s 281ms/step - loss: 1.5036 - accuracy: 0.7550 - top-3-accuracy: 0.9664 - val_loss: 1.6657 - val_accuracy: 0.7006 - val_top-3-accuracy: 0.9319\n",
      "Epoch 122/200\n",
      "1214/1214 [==============================] - 340s 280ms/step - loss: 1.5023 - accuracy: 0.7562 - top-3-accuracy: 0.9668 - val_loss: 1.6607 - val_accuracy: 0.7032 - val_top-3-accuracy: 0.9316\n",
      "Epoch 123/200\n",
      "1214/1214 [==============================] - 341s 281ms/step - loss: 1.5008 - accuracy: 0.7568 - top-3-accuracy: 0.9668 - val_loss: 1.6673 - val_accuracy: 0.6999 - val_top-3-accuracy: 0.9311\n",
      "Epoch 124/200\n",
      "1214/1214 [==============================] - 340s 280ms/step - loss: 1.4985 - accuracy: 0.7580 - top-3-accuracy: 0.9672 - val_loss: 1.6681 - val_accuracy: 0.7000 - val_top-3-accuracy: 0.9312\n",
      "Epoch 125/200\n",
      "1214/1214 [==============================] - 339s 280ms/step - loss: 1.4974 - accuracy: 0.7593 - top-3-accuracy: 0.9674 - val_loss: 1.6576 - val_accuracy: 0.7058 - val_top-3-accuracy: 0.9327\n",
      "Epoch 126/200\n",
      "1214/1214 [==============================] - 342s 281ms/step - loss: 1.4954 - accuracy: 0.7602 - top-3-accuracy: 0.9676 - val_loss: 1.6584 - val_accuracy: 0.7059 - val_top-3-accuracy: 0.9325\n",
      "Epoch 127/200\n",
      "1214/1214 [==============================] - 340s 280ms/step - loss: 1.4928 - accuracy: 0.7618 - top-3-accuracy: 0.9682 - val_loss: 1.6580 - val_accuracy: 0.7058 - val_top-3-accuracy: 0.9324\n",
      "Epoch 128/200\n",
      "1214/1214 [==============================] - 341s 281ms/step - loss: 1.4928 - accuracy: 0.7615 - top-3-accuracy: 0.9681 - val_loss: 1.6546 - val_accuracy: 0.7087 - val_top-3-accuracy: 0.9329\n",
      "Epoch 129/200\n",
      "1214/1214 [==============================] - 342s 281ms/step - loss: 1.4908 - accuracy: 0.7631 - top-3-accuracy: 0.9683 - val_loss: 1.6653 - val_accuracy: 0.7033 - val_top-3-accuracy: 0.9309\n",
      "Epoch 130/200\n",
      "1214/1214 [==============================] - 340s 280ms/step - loss: 1.4892 - accuracy: 0.7645 - top-3-accuracy: 0.9685 - val_loss: 1.6632 - val_accuracy: 0.7062 - val_top-3-accuracy: 0.9319\n",
      "Epoch 131/200\n",
      "1214/1214 [==============================] - 340s 280ms/step - loss: 1.4872 - accuracy: 0.7654 - top-3-accuracy: 0.9689 - val_loss: 1.6629 - val_accuracy: 0.7046 - val_top-3-accuracy: 0.9316\n",
      "Epoch 132/200\n",
      "1214/1214 [==============================] - 341s 281ms/step - loss: 1.4851 - accuracy: 0.7668 - top-3-accuracy: 0.9695 - val_loss: 1.6561 - val_accuracy: 0.7098 - val_top-3-accuracy: 0.9322\n",
      "Epoch 133/200\n",
      "1214/1214 [==============================] - 340s 280ms/step - loss: 1.4840 - accuracy: 0.7673 - top-3-accuracy: 0.9695 - val_loss: 1.6617 - val_accuracy: 0.7050 - val_top-3-accuracy: 0.9318\n",
      "Epoch 134/200\n",
      "1214/1214 [==============================] - 341s 281ms/step - loss: 1.4830 - accuracy: 0.7679 - top-3-accuracy: 0.9696 - val_loss: 1.6630 - val_accuracy: 0.7054 - val_top-3-accuracy: 0.9315\n",
      "Epoch 135/200\n",
      "1214/1214 [==============================] - 340s 280ms/step - loss: 1.4805 - accuracy: 0.7700 - top-3-accuracy: 0.9701 - val_loss: 1.6532 - val_accuracy: 0.7111 - val_top-3-accuracy: 0.9322\n",
      "Epoch 136/200\n",
      "1214/1214 [==============================] - 341s 281ms/step - loss: 1.4775 - accuracy: 0.7716 - top-3-accuracy: 0.9705 - val_loss: 1.6520 - val_accuracy: 0.7109 - val_top-3-accuracy: 0.9328\n",
      "Epoch 137/200\n",
      "1214/1214 [==============================] - 342s 282ms/step - loss: 1.4765 - accuracy: 0.7718 - top-3-accuracy: 0.9706 - val_loss: 1.6542 - val_accuracy: 0.7100 - val_top-3-accuracy: 0.9326\n",
      "Epoch 138/200\n",
      "1214/1214 [==============================] - 340s 280ms/step - loss: 1.4762 - accuracy: 0.7723 - top-3-accuracy: 0.9705 - val_loss: 1.6533 - val_accuracy: 0.7124 - val_top-3-accuracy: 0.9328\n",
      "Epoch 139/200\n",
      "1214/1214 [==============================] - 341s 281ms/step - loss: 1.4730 - accuracy: 0.7743 - top-3-accuracy: 0.9711 - val_loss: 1.6557 - val_accuracy: 0.7125 - val_top-3-accuracy: 0.9320\n",
      "Epoch 140/200\n",
      "1214/1214 [==============================] - 340s 280ms/step - loss: 1.4721 - accuracy: 0.7755 - top-3-accuracy: 0.9713 - val_loss: 1.6492 - val_accuracy: 0.7153 - val_top-3-accuracy: 0.9330\n",
      "Epoch 141/200\n",
      "1214/1214 [==============================] - 341s 281ms/step - loss: 1.4704 - accuracy: 0.7759 - top-3-accuracy: 0.9715 - val_loss: 1.6518 - val_accuracy: 0.7128 - val_top-3-accuracy: 0.9322\n",
      "Epoch 142/200\n",
      "1214/1214 [==============================] - 341s 281ms/step - loss: 1.4693 - accuracy: 0.7764 - top-3-accuracy: 0.9716 - val_loss: 1.6491 - val_accuracy: 0.7152 - val_top-3-accuracy: 0.9323\n",
      "Epoch 143/200\n",
      "1214/1214 [==============================] - 340s 280ms/step - loss: 1.4674 - accuracy: 0.7775 - top-3-accuracy: 0.9721 - val_loss: 1.6510 - val_accuracy: 0.7137 - val_top-3-accuracy: 0.9320\n",
      "Epoch 144/200\n",
      "1214/1214 [==============================] - 341s 281ms/step - loss: 1.4649 - accuracy: 0.7796 - top-3-accuracy: 0.9724 - val_loss: 1.6548 - val_accuracy: 0.7129 - val_top-3-accuracy: 0.9318\n",
      "Epoch 145/200\n",
      "1214/1214 [==============================] - 341s 281ms/step - loss: 1.4636 - accuracy: 0.7802 - top-3-accuracy: 0.9726 - val_loss: 1.6481 - val_accuracy: 0.7179 - val_top-3-accuracy: 0.9327\n",
      "Epoch 146/200\n",
      "1214/1214 [==============================] - 341s 281ms/step - loss: 1.4610 - accuracy: 0.7817 - top-3-accuracy: 0.9729 - val_loss: 1.6444 - val_accuracy: 0.7181 - val_top-3-accuracy: 0.9332\n",
      "Epoch 147/200\n",
      "1214/1214 [==============================] - 341s 281ms/step - loss: 1.4596 - accuracy: 0.7829 - top-3-accuracy: 0.9730 - val_loss: 1.6492 - val_accuracy: 0.7164 - val_top-3-accuracy: 0.9328\n",
      "Epoch 148/200\n",
      "1214/1214 [==============================] - 340s 280ms/step - loss: 1.4592 - accuracy: 0.7833 - top-3-accuracy: 0.9731 - val_loss: 1.6487 - val_accuracy: 0.7168 - val_top-3-accuracy: 0.9327\n",
      "Epoch 149/200\n",
      "1214/1214 [==============================] - 342s 281ms/step - loss: 1.4584 - accuracy: 0.7840 - top-3-accuracy: 0.9734 - val_loss: 1.6428 - val_accuracy: 0.7198 - val_top-3-accuracy: 0.9337\n",
      "Epoch 150/200\n",
      "1214/1214 [==============================] - 342s 282ms/step - loss: 1.4565 - accuracy: 0.7848 - top-3-accuracy: 0.9735 - val_loss: 1.6427 - val_accuracy: 0.7204 - val_top-3-accuracy: 0.9331\n",
      "Epoch 151/200\n",
      "1214/1214 [==============================] - 340s 280ms/step - loss: 1.4546 - accuracy: 0.7860 - top-3-accuracy: 0.9740 - val_loss: 1.6463 - val_accuracy: 0.7167 - val_top-3-accuracy: 0.9337\n",
      "Epoch 152/200\n",
      "1214/1214 [==============================] - 341s 281ms/step - loss: 1.4509 - accuracy: 0.7888 - top-3-accuracy: 0.9742 - val_loss: 1.6527 - val_accuracy: 0.7154 - val_top-3-accuracy: 0.9334\n",
      "Epoch 153/200\n",
      "1214/1214 [==============================] - 341s 281ms/step - loss: 1.4502 - accuracy: 0.7888 - top-3-accuracy: 0.9745 - val_loss: 1.6441 - val_accuracy: 0.7199 - val_top-3-accuracy: 0.9337\n",
      "Epoch 154/200\n",
      "1214/1214 [==============================] - 340s 280ms/step - loss: 1.4481 - accuracy: 0.7904 - top-3-accuracy: 0.9747 - val_loss: 1.6440 - val_accuracy: 0.7216 - val_top-3-accuracy: 0.9333\n",
      "Epoch 155/200\n",
      "1214/1214 [==============================] - 340s 280ms/step - loss: 1.4466 - accuracy: 0.7917 - top-3-accuracy: 0.9750 - val_loss: 1.6556 - val_accuracy: 0.7143 - val_top-3-accuracy: 0.9323\n",
      "Epoch 156/200\n",
      "1214/1214 [==============================] - 341s 281ms/step - loss: 1.4450 - accuracy: 0.7922 - top-3-accuracy: 0.9750 - val_loss: 1.6362 - val_accuracy: 0.7237 - val_top-3-accuracy: 0.9342\n",
      "Epoch 157/200\n",
      "1214/1214 [==============================] - 342s 281ms/step - loss: 1.4431 - accuracy: 0.7937 - top-3-accuracy: 0.9753 - val_loss: 1.6490 - val_accuracy: 0.7187 - val_top-3-accuracy: 0.9330\n",
      "Epoch 158/200\n",
      "1214/1214 [==============================] - 342s 282ms/step - loss: 1.4422 - accuracy: 0.7938 - top-3-accuracy: 0.9757 - val_loss: 1.6435 - val_accuracy: 0.7232 - val_top-3-accuracy: 0.9333\n",
      "Epoch 159/200\n",
      "1214/1214 [==============================] - 343s 282ms/step - loss: 1.4404 - accuracy: 0.7949 - top-3-accuracy: 0.9759 - val_loss: 1.6412 - val_accuracy: 0.7212 - val_top-3-accuracy: 0.9338\n",
      "Epoch 160/200\n",
      "1214/1214 [==============================] - 341s 281ms/step - loss: 1.4382 - accuracy: 0.7964 - top-3-accuracy: 0.9761 - val_loss: 1.6349 - val_accuracy: 0.7268 - val_top-3-accuracy: 0.9341\n",
      "Epoch 161/200\n",
      "1214/1214 [==============================] - 341s 281ms/step - loss: 1.4370 - accuracy: 0.7970 - top-3-accuracy: 0.9765 - val_loss: 1.6375 - val_accuracy: 0.7258 - val_top-3-accuracy: 0.9342\n",
      "Epoch 162/200\n",
      "1214/1214 [==============================] - 341s 281ms/step - loss: 1.4349 - accuracy: 0.7988 - top-3-accuracy: 0.9765 - val_loss: 1.6369 - val_accuracy: 0.7268 - val_top-3-accuracy: 0.9343\n",
      "Epoch 163/200\n",
      "1214/1214 [==============================] - 340s 280ms/step - loss: 1.4338 - accuracy: 0.7994 - top-3-accuracy: 0.9769 - val_loss: 1.6336 - val_accuracy: 0.7283 - val_top-3-accuracy: 0.9349\n",
      "Epoch 164/200\n",
      "1214/1214 [==============================] - 342s 281ms/step - loss: 1.4311 - accuracy: 0.8016 - top-3-accuracy: 0.9773 - val_loss: 1.6326 - val_accuracy: 0.7294 - val_top-3-accuracy: 0.9347\n",
      "Epoch 165/200\n",
      "1214/1214 [==============================] - 341s 281ms/step - loss: 1.4287 - accuracy: 0.8022 - top-3-accuracy: 0.9772 - val_loss: 1.6402 - val_accuracy: 0.7252 - val_top-3-accuracy: 0.9333\n",
      "Epoch 166/200\n",
      "1214/1214 [==============================] - 341s 281ms/step - loss: 1.4284 - accuracy: 0.8026 - top-3-accuracy: 0.9775 - val_loss: 1.6360 - val_accuracy: 0.7276 - val_top-3-accuracy: 0.9342\n",
      "Epoch 167/200\n",
      "1214/1214 [==============================] - 340s 280ms/step - loss: 1.4269 - accuracy: 0.8037 - top-3-accuracy: 0.9779 - val_loss: 1.6364 - val_accuracy: 0.7277 - val_top-3-accuracy: 0.9337\n",
      "Epoch 168/200\n",
      "1214/1214 [==============================] - 340s 280ms/step - loss: 1.4230 - accuracy: 0.8063 - top-3-accuracy: 0.9780 - val_loss: 1.6345 - val_accuracy: 0.7290 - val_top-3-accuracy: 0.9350\n",
      "Epoch 169/200\n",
      "1214/1214 [==============================] - 339s 279ms/step - loss: 1.4229 - accuracy: 0.8061 - top-3-accuracy: 0.9782 - val_loss: 1.6400 - val_accuracy: 0.7266 - val_top-3-accuracy: 0.9338\n",
      "Epoch 170/200\n",
      "1214/1214 [==============================] - 342s 282ms/step - loss: 1.4231 - accuracy: 0.8062 - top-3-accuracy: 0.9783 - val_loss: 1.6346 - val_accuracy: 0.7300 - val_top-3-accuracy: 0.9347\n",
      "Epoch 171/200\n",
      "1214/1214 [==============================] - 343s 282ms/step - loss: 1.4196 - accuracy: 0.8083 - top-3-accuracy: 0.9788 - val_loss: 1.6289 - val_accuracy: 0.7337 - val_top-3-accuracy: 0.9341\n",
      "Epoch 172/200\n",
      "1214/1214 [==============================] - 340s 280ms/step - loss: 1.4184 - accuracy: 0.8091 - top-3-accuracy: 0.9788 - val_loss: 1.6347 - val_accuracy: 0.7300 - val_top-3-accuracy: 0.9343\n",
      "Epoch 173/200\n",
      "1214/1214 [==============================] - 339s 280ms/step - loss: 1.4160 - accuracy: 0.8103 - top-3-accuracy: 0.9792 - val_loss: 1.6322 - val_accuracy: 0.7312 - val_top-3-accuracy: 0.9343\n",
      "Epoch 174/200\n",
      "1214/1214 [==============================] - 340s 280ms/step - loss: 1.4156 - accuracy: 0.8104 - top-3-accuracy: 0.9793 - val_loss: 1.6284 - val_accuracy: 0.7336 - val_top-3-accuracy: 0.9345\n",
      "Epoch 175/200\n",
      "1214/1214 [==============================] - 339s 279ms/step - loss: 1.4131 - accuracy: 0.8121 - top-3-accuracy: 0.9796 - val_loss: 1.6263 - val_accuracy: 0.7364 - val_top-3-accuracy: 0.9350\n",
      "Epoch 176/200\n",
      "1214/1214 [==============================] - 341s 281ms/step - loss: 1.4108 - accuracy: 0.8140 - top-3-accuracy: 0.9798 - val_loss: 1.6289 - val_accuracy: 0.7341 - val_top-3-accuracy: 0.9350\n",
      "Epoch 177/200\n",
      "1214/1214 [==============================] - 341s 281ms/step - loss: 1.4096 - accuracy: 0.8146 - top-3-accuracy: 0.9800 - val_loss: 1.6312 - val_accuracy: 0.7335 - val_top-3-accuracy: 0.9343\n",
      "Epoch 178/200\n",
      "1214/1214 [==============================] - 341s 281ms/step - loss: 1.4087 - accuracy: 0.8151 - top-3-accuracy: 0.9799 - val_loss: 1.6422 - val_accuracy: 0.7272 - val_top-3-accuracy: 0.9323\n",
      "Epoch 179/200\n",
      "1214/1214 [==============================] - 341s 281ms/step - loss: 1.4061 - accuracy: 0.8165 - top-3-accuracy: 0.9802 - val_loss: 1.6296 - val_accuracy: 0.7351 - val_top-3-accuracy: 0.9341\n",
      "Epoch 180/200\n",
      "1214/1214 [==============================] - 341s 281ms/step - loss: 1.4035 - accuracy: 0.8182 - top-3-accuracy: 0.9806 - val_loss: 1.6280 - val_accuracy: 0.7355 - val_top-3-accuracy: 0.9345\n",
      "Epoch 181/200\n",
      "1214/1214 [==============================] - 341s 281ms/step - loss: 1.4016 - accuracy: 0.8199 - top-3-accuracy: 0.9808 - val_loss: 1.6315 - val_accuracy: 0.7340 - val_top-3-accuracy: 0.9342\n",
      "Epoch 182/200\n",
      "1214/1214 [==============================] - 341s 281ms/step - loss: 1.4013 - accuracy: 0.8196 - top-3-accuracy: 0.9809 - val_loss: 1.6237 - val_accuracy: 0.7380 - val_top-3-accuracy: 0.9354\n",
      "Epoch 183/200\n",
      "1214/1214 [==============================] - 342s 282ms/step - loss: 1.4004 - accuracy: 0.8204 - top-3-accuracy: 0.9809 - val_loss: 1.6225 - val_accuracy: 0.7402 - val_top-3-accuracy: 0.9346\n",
      "Epoch 184/200\n",
      "1214/1214 [==============================] - 341s 281ms/step - loss: 1.3979 - accuracy: 0.8214 - top-3-accuracy: 0.9812 - val_loss: 1.6229 - val_accuracy: 0.7394 - val_top-3-accuracy: 0.9351\n",
      "Epoch 185/200\n",
      "1214/1214 [==============================] - 341s 281ms/step - loss: 1.3960 - accuracy: 0.8230 - top-3-accuracy: 0.9815 - val_loss: 1.6212 - val_accuracy: 0.7398 - val_top-3-accuracy: 0.9352\n",
      "Epoch 186/200\n",
      "1214/1214 [==============================] - 342s 282ms/step - loss: 1.3933 - accuracy: 0.8250 - top-3-accuracy: 0.9816 - val_loss: 1.6161 - val_accuracy: 0.7437 - val_top-3-accuracy: 0.9351\n",
      "Epoch 187/200\n",
      "1214/1214 [==============================] - 340s 280ms/step - loss: 1.3940 - accuracy: 0.8245 - top-3-accuracy: 0.9818 - val_loss: 1.6258 - val_accuracy: 0.7381 - val_top-3-accuracy: 0.9347\n",
      "Epoch 188/200\n",
      "1214/1214 [==============================] - 340s 280ms/step - loss: 1.3920 - accuracy: 0.8254 - top-3-accuracy: 0.9821 - val_loss: 1.6162 - val_accuracy: 0.7442 - val_top-3-accuracy: 0.9352\n",
      "Epoch 189/200\n",
      "1214/1214 [==============================] - 341s 281ms/step - loss: 1.3890 - accuracy: 0.8274 - top-3-accuracy: 0.9824 - val_loss: 1.6260 - val_accuracy: 0.7394 - val_top-3-accuracy: 0.9345\n",
      "Epoch 190/200\n",
      "1214/1214 [==============================] - 339s 279ms/step - loss: 1.3879 - accuracy: 0.8278 - top-3-accuracy: 0.9826 - val_loss: 1.6170 - val_accuracy: 0.7439 - val_top-3-accuracy: 0.9355\n",
      "Epoch 191/200\n",
      "1214/1214 [==============================] - 340s 280ms/step - loss: 1.3876 - accuracy: 0.8279 - top-3-accuracy: 0.9825 - val_loss: 1.6219 - val_accuracy: 0.7422 - val_top-3-accuracy: 0.9354\n",
      "Epoch 192/200\n",
      "1214/1214 [==============================] - 340s 280ms/step - loss: 1.3855 - accuracy: 0.8297 - top-3-accuracy: 0.9829 - val_loss: 1.6243 - val_accuracy: 0.7408 - val_top-3-accuracy: 0.9343\n",
      "Epoch 193/200\n",
      "1214/1214 [==============================] - 340s 280ms/step - loss: 1.3824 - accuracy: 0.8312 - top-3-accuracy: 0.9830 - val_loss: 1.6235 - val_accuracy: 0.7402 - val_top-3-accuracy: 0.9340\n",
      "Epoch 194/200\n",
      "1214/1214 [==============================] - 340s 280ms/step - loss: 1.3806 - accuracy: 0.8323 - top-3-accuracy: 0.9834 - val_loss: 1.6186 - val_accuracy: 0.7428 - val_top-3-accuracy: 0.9344\n",
      "Epoch 195/200\n",
      "1214/1214 [==============================] - 340s 280ms/step - loss: 1.3813 - accuracy: 0.8325 - top-3-accuracy: 0.9834 - val_loss: 1.6244 - val_accuracy: 0.7413 - val_top-3-accuracy: 0.9339\n",
      "Epoch 196/200\n",
      "1214/1214 [==============================] - 339s 279ms/step - loss: 1.3783 - accuracy: 0.8337 - top-3-accuracy: 0.9838 - val_loss: 1.6131 - val_accuracy: 0.7469 - val_top-3-accuracy: 0.9351\n",
      "Epoch 197/200\n",
      "1214/1214 [==============================] - 341s 281ms/step - loss: 1.3776 - accuracy: 0.8344 - top-3-accuracy: 0.9839 - val_loss: 1.6185 - val_accuracy: 0.7470 - val_top-3-accuracy: 0.9342\n",
      "Epoch 198/200\n",
      "1214/1214 [==============================] - 340s 280ms/step - loss: 1.3763 - accuracy: 0.8352 - top-3-accuracy: 0.9839 - val_loss: 1.6202 - val_accuracy: 0.7434 - val_top-3-accuracy: 0.9345\n",
      "Epoch 199/200\n",
      "1214/1214 [==============================] - 340s 280ms/step - loss: 1.3738 - accuracy: 0.8365 - top-3-accuracy: 0.9841 - val_loss: 1.6152 - val_accuracy: 0.7467 - val_top-3-accuracy: 0.9346\n",
      "Epoch 200/200\n",
      "1214/1214 [==============================] - 340s 280ms/step - loss: 1.3725 - accuracy: 0.8375 - top-3-accuracy: 0.9842 - val_loss: 1.6148 - val_accuracy: 0.7469 - val_top-3-accuracy: 0.9346\n",
      "WARNING:tensorflow:Layer lstm_9 will not use cuDNN kernels since it doesn't meet the criteria. It will use a generic GPU kernel as fallback when running on GPU.\n",
      "WARNING:tensorflow:Layer lstm_10 will not use cuDNN kernels since it doesn't meet the criteria. It will use a generic GPU kernel as fallback when running on GPU.\n",
      "WARNING:tensorflow:Layer lstm_11 will not use cuDNN kernels since it doesn't meet the criteria. It will use a generic GPU kernel as fallback when running on GPU.\n",
      "WARNING:tensorflow:Layer lstm_12 will not use cuDNN kernels since it doesn't meet the criteria. It will use a generic GPU kernel as fallback when running on GPU.\n",
      "34\n",
      "Could not automatically populate Loss_per_epoch\n",
      "Could not automatically populate Model_config\n",
      "Fields to be updated include: ['loss', 'Model_config']\n"
     ]
    }
   ],
   "source": [
    "# Custom ResNet + LSTM model\n",
    "\n",
    "num_epochs = 200\n",
    "batch_size = 512\n",
    "learning_rate = 5e-3\n",
    "\n",
    "input_shape = (x_train.shape[1:]) + (1,) #input_shape = (21,5,) #x_train.shape[2]\n",
    "\n",
    "def ResNetBlock(x,dropout):\n",
    "    x =   layers.Conv2D(filters=64, kernel_size=5, padding=\"same\")(x) #input_layer\n",
    "    conv1 = layers.Conv2D(filters=64, kernel_size=5, padding=\"same\")(x) # input_layer, Conv1D\n",
    "    conv1 = layers.Dropout(dropout)(conv1)\n",
    "    conv1 = layers.BatchNormalization()(conv1)\n",
    "    conv1 = layers.ReLU()(conv1)\n",
    "\n",
    "    conv2 = layers.Conv2D(filters=64, kernel_size=3, padding=\"same\")(conv1)\n",
    "    conv2 = layers.Dropout(dropout)(conv2)\n",
    "    conv2 = layers.BatchNormalization()(conv2)\n",
    "    conv2 = layers.ReLU()(conv2)\n",
    "\n",
    "    conv3 = layers.Conv2D(filters=64, kernel_size=3, padding=\"same\")(conv2)\n",
    "    conv3 = layers.Dropout(dropout)(conv3)\n",
    "    conv3 = layers.BatchNormalization()(conv3)\n",
    "    conv3 = layers.ReLU()(conv3)\n",
    "    \n",
    "    conv3 = layers.Conv2D(filters=64, kernel_size=3, padding=\"same\")(conv2)\n",
    "    conv3 = layers.Dropout(dropout)(conv3)\n",
    "    conv3 = layers.BatchNormalization()(conv3)\n",
    "    conv3 = layers.ReLU()(conv3)\n",
    "    \n",
    "    conv3 = layers.add([x,conv3])\n",
    "    x = layers.ReLU()(conv3) # Overwrite x\n",
    "    \n",
    "    return x\n",
    "\n",
    "# Checkpoint path\n",
    "base_path2 = r'Y:\\ibikunle\\Python_Project\\Fall_2021\\all_block_data\\PulsedTrainTest'\n",
    "\n",
    "def build_model(\n",
    "    input_shape,\n",
    "    head_size,  \n",
    "    mlp_units,\n",
    "    dropout,\n",
    "    mlp_dropout,\n",
    "):\n",
    "    inputs = tf.keras.Input(shape=input_shape) \n",
    "    \n",
    "    aug_inputs = data_augmentation(inputs)\n",
    "    \n",
    "    x = layers.Conv2D(filters=32, kernel_size=3, padding=\"same\")(aug_inputs)\n",
    "    for _ in range(5):\n",
    "        x = ResNetBlock(x,dropout)        \n",
    "    x = tf.reduce_sum(x,axis=-1)\n",
    "    \n",
    "    x = layers.LSTM(head_size,recurrent_dropout=0.1, return_sequences=True)(x) #input_shape=(x.shape[1:]),\n",
    "    x = layers.LSTM(head_size,recurrent_dropout=0.1, return_sequences=True)(x)\n",
    "    x = layers.LSTM(head_size,recurrent_dropout=0.1, return_sequences=True)(x)\n",
    "    x = layers.LSTM(64,recurrent_dropout= 0.3)(x)\n",
    "\n",
    "       \n",
    "    #for dim in mlp_units:  x = layers.Dense(dim, activation=\"relu\")(x)\n",
    "    x = layers.Dense(mlp_units, activation=\"relu\")(x)\n",
    "    x = layers.Dropout(mlp_dropout)(x)\n",
    "    outputs = layers.Dense(num_classes, activation=\"softmax\")(x)\n",
    "    return tf.keras.Model(inputs, outputs,name =\"RowBlockLSTM\"+time_stamp)\n",
    "\n",
    "head_size = 512 # 128, 256,64\n",
    "mlp_units=512  # 128\n",
    "mlp_dropout=0.15     #0.4\n",
    "dropout=0.15          #0.25\n",
    "\n",
    "model = build_model(input_shape,head_size = head_size,mlp_units=mlp_units, mlp_dropout= mlp_dropout, dropout=dropout)\n",
    "model.summary()\n",
    "\n",
    "## Logging tools\n",
    "wandb.config = {\n",
    "  \"learning_rate\": \"learning_rate\",\n",
    "  \"epochs\": num_epochs, \n",
    "  \"batch_size\": batch_size,\n",
    "  #\"nodes\": nodes,\n",
    "  \"row_length\":row_length,\n",
    "  \"base_path\":base_path2,\n",
    "  \"head_size\":head_size, \n",
    "  # \"ff_dim\":ff_dim, \"num_transformer_blocks\":num_transformer_blocks,\"num_heads\":num_heads,\n",
    "  \"mlp_units\":mlp_units, \"mlp_dropout\":mlp_dropout,\n",
    "  \"dropout\":dropout\n",
    "}\n",
    "\n",
    "# Update Wandb fieds with more params\n",
    "wandb.config.update(log)\n",
    "\n",
    "# Update log['extras']\n",
    "log['extras'][0].update(wandb.config)\n",
    "#### ===== End of logging ========\n",
    "\n",
    "\n",
    "\n",
    "# Poly Rate scheduler\n",
    "starter_learning_rate = 0.1\n",
    "end_learning_rate = 0.0001\n",
    "decay_steps = 10000\n",
    "learning_rate_fn = tf.keras.optimizers.schedules.PolynomialDecay(\n",
    "    starter_learning_rate,\n",
    "    decay_steps,\n",
    "    end_learning_rate,\n",
    "    power=0.25)\n",
    "\n",
    "\n",
    "# Callbacks\n",
    "callbacks = [\n",
    "    ModelCheckpoint(f\"{base_path2}//{ipynbname.name()}//RowBlockLSTM_ReRun_Checkpoint{time_stamp}.h5\", save_best_only=True, monitor=\"val_loss\"),\n",
    "    ReduceLROnPlateau(monitor=\"val_loss\", factor=0.1, patience=3, min_lr=0.0001),\n",
    "    #EarlyStopping(monitor=\"val_loss\", patience=25, verbose=1), \n",
    "    WandbCallback()\n",
    "]\n",
    "\n",
    "opt1 = tf.keras.optimizers.RMSprop(learning_rate=1e-3,rho=0.9,momentum=0.9, epsilon=1e-07,centered=True,name=\"RMSprop\")\n",
    "opt2 = tf.keras.optimizers.Adam(learning_rate=learning_rate,amsgrad=True)\n",
    "opt3 = tf.keras.optimizers.SGD(learning_rate=learning_rate, momentum=0.99, nesterov=True, name=\"SGD\")\n",
    "poly_rate = tf.keras.optimizers.SGD(learning_rate = learning_rate_fn)\n",
    "\n",
    "top_K = 3\n",
    "start_time = datetime.strftime( datetime.now(),'%d_%B_%y_%H%M')\n",
    "\n",
    "print(f'Training start time:{start_time}')\n",
    "\n",
    "# model.compile( optimizer = opt, loss= 'categorical_crossentropy', metrics=['accuracy',tf.keras.metrics.TopKCategoricalAccuracy(top_K, name=\"top-3-accuracy\")])  #label_smoothing=0.05, tf.keras.losses.KLDivergence()\n",
    "#model.compile( optimizer=opt1,loss=\"sparse_categorical_crossentropy\" , metrics=[\"sparse_categorical_accuracy\"],) #\"sparse_categorical_crossentropy\" , sparse_categorical_accuracy\", tf.keras.losses.CategoricalCrossentropy(label_smoothing=0.3)\n",
    "\n",
    "model.compile( optimizer=opt3,loss=tf.keras.losses.CategoricalCrossentropy(label_smoothing=0.2) , \n",
    "              metrics=[\"accuracy\", tf.keras.metrics.TopKCategoricalAccuracy(top_K, name=\"top-3-accuracy\")], ) #\"sparse_categorical_crossentropy\" , sparse_categorical_accuracy\", tf.keras.losses.CategoricalCrossentropy(label_smoothing=0.3)\n",
    "\n",
    "\n",
    "history = model.fit(x_train, y_train_1hot,\n",
    "          epochs= num_epochs, \n",
    "          batch_size= batch_size, \n",
    "          validation_split = 0.3,\n",
    "          # validation_data=(x_test, y_test_1hot),\n",
    "         callbacks=callbacks,  ) #mcp_save, callbacks=[reduce_lr_loss] class_weight = cl_weight_dict\n",
    "\n",
    "model = tf.keras.models.load_model(f\"{base_path2}//{ipynbname.name()}//RowBlockLSTM_ReRun_Checkpoint{time_stamp}.h5\")\n",
    "\n",
    "# Update manual log file\n",
    "params_to_be_updated = update_log_entry('../testing_sheet2.xlsx', log_idx, model, history)"
   ]
  },
  {
   "cell_type": "code",
   "execution_count": 29,
   "id": "e01cf82b-9581-4ecb-a9ec-65d638355bc4",
   "metadata": {},
   "outputs": [
    {
     "name": "stdout",
     "output_type": "stream",
     "text": [
      "Could not get file name: auto-generating name\n",
      "Activation_function not in workspace\n",
      "loss_function not in workspace\n",
      "Loss_per_epoch not in workspace\n",
      "Stop_time not in workspace\n",
      "Current run hyper_params are dict_keys(['S_N', 'Start_time', 'NoteBook_name', 'Uniqueness_of_each_run', 'Base_dir', 'Train_shape', 'Output_shape', 'num_epochs', 'Activation_function', 'optimizer', 'learning_rate', 'loss_function', 'Accuracy_per_epoch', 'Loss_per_epoch', 'Stop_time', 'Model_config', 'Performance_on_test_set', 'output_path', 'shuffle', 'Computer_name', 'extras']):dict_values([34, '03_February_22_2003', 'LSTM1_Repeat_NewData-Class_weights-Augment', 'Using Old data from its source', '../../../Python_Env/final_layers_rowblock15_21/filtered_image/', (887347, 9, 21), '', '', '', '', '', '', '0.8375', '', '', '', '', '', 1, 'AQ-98JH673', [{'standardize': False, 'learning_rate': '', 'epochs': 200, 'batch_size': '', 'row_length': 21, 'base_path': 'Y:\\\\ibikunle\\\\Python_Project\\\\Fall_2021\\\\all_block_data\\\\PulsedTrainTest', 'head_size': 512, 'mlp_units': 512, 'mlp_dropout': 0.15, 'dropout': 0.15, 'Notebook_name': 'LSTM1_Repeat_NewData-Class_weights-Augment', 'Uniqueness_of_each_run': 'Trying to fix class imbalance and overfitting issue ( Increasing RNN dropout) ', 'base_dir': '../../../Python_Env/final_layers_rowblock15_21/filtered_image/', 'Train_shape': (887347, 9, 21), 'Output_shape': '', 'num_epochs': '', 'activation_function': '', 'optimizer': '', 'loss_finction': '', 'accuracy': [], 'loss': [], 'stop_time': '', 'Model_config': '', 'Performance_on_test_set': '', 'output_path': '', 'shuffle': 1, 'run_completion_comment': 'TrainData_Augmentation+DropOuts', 'extras': [...]}]])\n",
      "Fields to be updated include: ['Activation_function', 'loss_function', 'Loss_per_epoch', 'Stop_time', 'Model_config']\n"
     ]
    }
   ],
   "source": [
    "log['Uniqueness_of_each_run'] = 'Using Old data from its source'\n",
    "run_completion_comment = f'TrainData_Augmentation+DropOuts'\n",
    "if \"log_idx\" in globals():\n",
    "    log[\"S_N\"] = log_idx\n",
    "    log['extras'][0]['run_completion_comment'] = run_completion_comment #'Accuracy_per_epoch'\n",
    "    log['Accuracy_per_epoch'] = f\"{history.history['accuracy'][-1]:.4f}\"\n",
    "    log_idx = create_log_entry('../testing_sheet2.xlsx', log)"
   ]
  },
  {
   "cell_type": "code",
   "execution_count": null,
   "id": "2c0032aa-c553-4240-beff-72f0f2df3e51",
   "metadata": {},
   "outputs": [],
   "source": [
    "# Train further\n",
    "train_further = False\n",
    "\n",
    "if train_further:\n",
    "    history = model.fit(x_train, y_train_1hot,\n",
    "          epochs= 200,          \n",
    "          validation_split= 0.3,\n",
    "         callbacks=callbacks) #mcp_save, callbacks=[reduce_lr_loss]"
   ]
  },
  {
   "cell_type": "code",
   "execution_count": null,
   "id": "900b0f69-6c63-49e6-8421-b7e5362b5c45",
   "metadata": {},
   "outputs": [],
   "source": [
    "def PlotCurves(model_history):\n",
    "    plt.plot(model_history.history['accuracy'],label = 'train')\n",
    "    plt.grid(color = 'r', linestyle = '--', linewidth = .1)    \n",
    "    #plt.figure()\n",
    "    plt.plot(model_history.history['val_accuracy'],label = 'validation')\n",
    "   \n",
    "    plt.ylabel('Accuracy');\n",
    "    plt.xlabel('Epochs');\n",
    "    \n",
    "    plt.title('Training vs Validation accuracy');\n",
    "    plt.legend()\n",
    "    \n",
    "    plt.figure()\n",
    "    \n",
    "    plt.plot(model_history.history['loss'],label = 'train')\n",
    "    plt.grid(color = 'r', linestyle = '--', linewidth = .1)    \n",
    "    plt.plot(model_history.history['val_loss'],label = 'validation')\n",
    "   \n",
    "    plt.ylabel('Loss');\n",
    "    plt.xlabel('Epochs');\n",
    "    \n",
    "    plt.title('Training vs Validation Losses');\n",
    "    plt.legend()\n",
    "    return None\n",
    "\n",
    "PlotCurves(history)"
   ]
  },
  {
   "cell_type": "code",
   "execution_count": 30,
   "id": "43003c33-f2e8-4981-a601-84b1765ab943",
   "metadata": {},
   "outputs": [
    {
     "name": "stdout",
     "output_type": "stream",
     "text": [
      "1734/1734 [==============================] - 65s 37ms/step - loss: 1.9718 - accuracy: 0.6296 - top-3-accuracy: 0.8421\n",
      "Test accuracy: 62.96%\n",
      "Test top 5 accuracy: 84.21%\n",
      "Test_time: 03_February_22_2005\n"
     ]
    }
   ],
   "source": [
    "# Convert labels to categorical orthonormal vectors\n",
    "y_val_1hot = tf.keras.utils.to_categorical(y_val, num_classes)\n",
    "\n",
    "_, accuracy,top3_acc = model.evaluate(x_val, y_val_1hot)\n",
    "print(f\"Test accuracy: {round(accuracy * 100, 2)}%\")\n",
    "print(f\"Test top 5 accuracy: {round(top3_acc * 100, 2)}%\")\n",
    "print(f\"Test_time: {datetime.strftime(datetime.now(),'%d_%B_%y_%H%M')}\")\n",
    "\n",
    "_,new_col_length,new_row_length = x_train.shape \n",
    "model.save(f'..//all_block_data//PulsedTrainTest//{ipynbname.name()}//{time_stamp}_Acc_{accuracy:.3f}_Top3Acc{top3_acc:.3f}_{new_row_length}x{new_col_length}.h5') # Last percentage is 46.85, New:52.4"
   ]
  },
  {
   "cell_type": "code",
   "execution_count": 31,
   "id": "30db3384-b612-4e6b-9607-41396276bc1d",
   "metadata": {},
   "outputs": [
    {
     "name": "stdout",
     "output_type": "stream",
     "text": [
      "5200/5200 [==============================] - 195s 38ms/step - loss: 1.8333 - accuracy: 0.6726 - top-3-accuracy: 0.8853\n",
      "Test accuracy: 67.26%\n",
      "Test top 5 accuracy: 88.53%\n",
      "Test_time: 03_February_22_2010\n"
     ]
    }
   ],
   "source": [
    "# Convert labels to categorical orthonormal vectors\n",
    "y_test_1hot = tf.keras.utils.to_categorical(y_test, num_classes)\n",
    "\n",
    "_, accuracy,top3_acc = model.evaluate(x_test, y_test_1hot)\n",
    "print(f\"Test accuracy: {round(accuracy * 100, 2)}%\")\n",
    "print(f\"Test top 5 accuracy: {round(top3_acc * 100, 2)}%\")\n",
    "print(f\"Test_time: {datetime.strftime(datetime.now(),'%d_%B_%y_%H%M')}\")\n",
    "\n",
    "_,new_col_length,new_row_length = x_train.shape \n",
    "model.save(f'..//all_block_data//PulsedTrainTest//{ipynbname.name()}//{time_stamp}_Test_Acc_{accuracy:.3f}_Top3Acc{top3_acc:.3f}_{new_row_length}x{new_col_length}.h5') # Last percentage is 46.85, New:52.4"
   ]
  },
  {
   "cell_type": "code",
   "execution_count": 34,
   "id": "5dbda035-6b46-4b65-9359-1c1f7e2611cd",
   "metadata": {},
   "outputs": [
    {
     "name": "stdout",
     "output_type": "stream",
     "text": [
      " Exact accuracy is  62.94921 %\n",
      " Top 5% accuracy is  75.79653 %\n"
     ]
    }
   ],
   "source": [
    "# Test model manually on all val data\n",
    "\n",
    "y_pred = [ np.argmax(model.predict(np.expand_dims(x_val[idx],axis=0))) for idx in range(len(x_val)) ]\n",
    "\n",
    "combined_result = zip(y_val,y_pred)\n",
    "\n",
    "val_exact_accuracy = 100 * sum([1 if y_pred[idx]==y_val[idx]   else 0 for idx in range(len(y_pred)) ]) / len(y_pred)\n",
    "val_margin5_accuracy = 100 * sum([1 if abs(y_pred[idx]-y_val[idx]) < 5 else 0 for idx in range(len(y_pred)) ]) / len(y_pred)\n",
    "\n",
    "print(f' Exact accuracy is {val_exact_accuracy: .5f} %')\n",
    "print(f' Top 5% accuracy is {val_margin5_accuracy: .5f} %')\n",
    "\n"
   ]
  },
  {
   "cell_type": "code",
   "execution_count": 33,
   "id": "f501e446-69db-49bc-ab0a-e11030d0dec6",
   "metadata": {},
   "outputs": [
    {
     "name": "stdout",
     "output_type": "stream",
     "text": [
      "Check start 25671\n"
     ]
    },
    {
     "data": {
      "text/plain": [
       "[(14, 14),\n",
       " (12, 12),\n",
       " (10, 10),\n",
       " (0, 0),\n",
       " (0, 16),\n",
       " (10, 10),\n",
       " (14, 15),\n",
       " (14, 14),\n",
       " (15, 15),\n",
       " (16, 16),\n",
       " (19, 9),\n",
       " (12, 12),\n",
       " (8, 9),\n",
       " (0, 19),\n",
       " (0, 14),\n",
       " (13, 13),\n",
       " (13, 13),\n",
       " (15, 15),\n",
       " (14, 14),\n",
       " (11, 11)]"
      ]
     },
     "execution_count": 33,
     "metadata": {},
     "output_type": "execute_result"
    }
   ],
   "source": [
    "# Check some predictions\n",
    "\n",
    "import random\n",
    "check_start = random.randint(0,len(x_val))\n",
    "\n",
    "print(f'Check start {check_start}')\n",
    "[(int(y_val[idx]), np.argmax(model.predict(np.expand_dims(x_val[idx],axis=0))) ) for idx in range(check_start,check_start+20) ]\n",
    "\n"
   ]
  },
  {
   "cell_type": "code",
   "execution_count": 84,
   "id": "5906633e-2153-47af-acdc-121a3625b199",
   "metadata": {},
   "outputs": [],
   "source": [
    "# Confusion Matrix and ROC/AUC\n",
    "\n",
    "model_predictions = np.asarray(y_pred)\n",
    "ground_truth = y_val.squeeze()\n",
    "\n",
    "# Prediction per Ground-truth class\n",
    "class_predictions = [ model_predictions[ground_truth==idx]  for idx in range(num_classes) ]\n",
    "\n",
    "# Confusion matrix\n",
    "confusion_mtx = np.zeros((num_classes,num_classes) )\n",
    "\n",
    "for pred,actual in zip(y_pred,y_val): # Rows=Prediction, Columns = Actual\n",
    "    confusion_mtx[pred,actual] +=1"
   ]
  },
  {
   "cell_type": "code",
   "execution_count": 136,
   "id": "475f7b9d-5af5-4242-aec0-e0f87ac6b665",
   "metadata": {},
   "outputs": [
    {
     "data": {
      "image/png": "[encoded data removed]",
      "text/plain": [
       "<Figure size 700x1500 with 2 Axes>"
      ]
     },
     "metadata": {
      "needs_background": "light"
     },
     "output_type": "display_data"
    }
   ],
   "source": [
    "from mpl_toolkits.axes_grid1 import make_axes_locatable\n",
    "\n",
    "fig, ax = plt.subplots(figsize=(7,15),dpi = 100);\n",
    "shw=ax.imshow(confusion_mtx)\n",
    "#bar= plt.colorbar(shw)\n",
    "\n",
    "_=plt.ylabel('Predictions')\n",
    "_=plt.xlabel('Actual Class')\n",
    "_=plt.title('Confusion matrix')\n",
    "\n",
    "# ax.set_xticklabels(list(range(num_classes)))\n",
    "# ax.set_yticklabels(list(range(num_classes)))\n",
    "\n",
    "# create an axes on the right side of ax. The width of cax will be 5%\n",
    "# of ax and the padding between cax and ax will be fixed at 0.05 inch.\n",
    "divider = make_axes_locatable(ax)\n",
    "cax = divider.append_axes(\"right\", size=\"5%\", pad=0.05)\n",
    "#bar.set_label('ColorBar')\n",
    "_ = plt.colorbar(shw, cax=cax)"
   ]
  },
  {
   "cell_type": "code",
   "execution_count": 96,
   "id": "970ef2b9-5f5f-401c-b024-4184eea46609",
   "metadata": {},
   "outputs": [
    {
     "data": {
      "image/png": "[encoded data removed]",
      "text/plain": [
       "<Figure size 432x288 with 1 Axes>"
      ]
     },
     "metadata": {
      "needs_background": "light"
     },
     "output_type": "display_data"
    },
    {
     "data": {
      "image/png": "[encoded data removed]",
      "text/plain": [
       "<Figure size 432x288 with 1 Axes>"
      ]
     },
     "metadata": {
      "needs_background": "light"
     },
     "output_type": "display_data"
    },
    {
     "data": {
      "image/png": "[encoded data removed]",
      "text/plain": [
       "<Figure size 432x288 with 1 Axes>"
      ]
     },
     "metadata": {
      "needs_background": "light"
     },
     "output_type": "display_data"
    },
    {
     "data": {
      "image/png": "[encoded data removed]",
      "text/plain": [
       "<Figure size 432x288 with 1 Axes>"
      ]
     },
     "metadata": {
      "needs_background": "light"
     },
     "output_type": "display_data"
    },
    {
     "data": {
      "image/png": "[encoded data removed]",
      "text/plain": [
       "<Figure size 432x288 with 1 Axes>"
      ]
     },
     "metadata": {
      "needs_background": "light"
     },
     "output_type": "display_data"
    },
    {
     "data": {
      "image/png": "[encoded data removed]",
      "text/plain": [
       "<Figure size 432x288 with 1 Axes>"
      ]
     },
     "metadata": {
      "needs_background": "light"
     },
     "output_type": "display_data"
    },
    {
     "data": {
      "image/png": "[encoded data removed]",
      "text/plain": [
       "<Figure size 432x288 with 1 Axes>"
      ]
     },
     "metadata": {
      "needs_background": "light"
     },
     "output_type": "display_data"
    },
    {
     "data": {
      "image/png": "[encoded data removed]",
      "text/plain": [
       "<Figure size 432x288 with 1 Axes>"
      ]
     },
     "metadata": {
      "needs_background": "light"
     },
     "output_type": "display_data"
    },
    {
     "data": {
      "image/png": "[encoded data removed]",
      "text/plain": [
       "<Figure size 432x288 with 1 Axes>"
      ]
     },
     "metadata": {
      "needs_background": "light"
     },
     "output_type": "display_data"
    },
    {
     "data": {
      "image/png": "[encoded data removed]",
      "text/plain": [
       "<Figure size 432x288 with 1 Axes>"
      ]
     },
     "metadata": {
      "needs_background": "light"
     },
     "output_type": "display_data"
    },
    {
     "data": {
      "image/png": "[encoded data removed]",
      "text/plain": [
       "<Figure size 432x288 with 1 Axes>"
      ]
     },
     "metadata": {
      "needs_background": "light"
     },
     "output_type": "display_data"
    },
    {
     "data": {
      "image/png": "[encoded data removed]",
      "text/plain": [
       "<Figure size 432x288 with 1 Axes>"
      ]
     },
     "metadata": {
      "needs_background": "light"
     },
     "output_type": "display_data"
    },
    {
     "data": {
      "image/png": "[encoded data removed]",
      "text/plain": [
       "<Figure size 432x288 with 1 Axes>"
      ]
     },
     "metadata": {
      "needs_background": "light"
     },
     "output_type": "display_data"
    },
    {
     "data": {
      "image/png": "[encoded data removed]",
      "text/plain": [
       "<Figure size 432x288 with 1 Axes>"
      ]
     },
     "metadata": {
      "needs_background": "light"
     },
     "output_type": "display_data"
    },
    {
     "data": {
      "image/png": "[encoded data removed]",
      "text/plain": [
       "<Figure size 432x288 with 1 Axes>"
      ]
     },
     "metadata": {
      "needs_background": "light"
     },
     "output_type": "display_data"
    },
    {
     "data": {
      "image/png": "[encoded data removed]",
      "text/plain": [
       "<Figure size 432x288 with 1 Axes>"
      ]
     },
     "metadata": {
      "needs_background": "light"
     },
     "output_type": "display_data"
    },
    {
     "data": {
      "image/png": "[encoded data removed]",
      "text/plain": [
       "<Figure size 432x288 with 1 Axes>"
      ]
     },
     "metadata": {
      "needs_background": "light"
     },
     "output_type": "display_data"
    },
    {
     "data": {
      "image/png": "[encoded data removed]",
      "text/plain": [
       "<Figure size 432x288 with 1 Axes>"
      ]
     },
     "metadata": {
      "needs_background": "light"
     },
     "output_type": "display_data"
    },
    {
     "data": {
      "image/png": "[encoded data removed]",
      "text/plain": [
       "<Figure size 432x288 with 1 Axes>"
      ]
     },
     "metadata": {
      "needs_background": "light"
     },
     "output_type": "display_data"
    },
    {
     "data": {
      "image/png": "[encoded data removed]",
      "text/plain": [
       "<Figure size 432x288 with 1 Axes>"
      ]
     },
     "metadata": {
      "needs_background": "light"
     },
     "output_type": "display_data"
    },
    {
     "data": {
      "image/png": "[encoded data removed]",
      "text/plain": [
       "<Figure size 432x288 with 1 Axes>"
      ]
     },
     "metadata": {
      "needs_background": "light"
     },
     "output_type": "display_data"
    },
    {
     "data": {
      "image/png": "[encoded data removed]",
      "text/plain": [
       "<Figure size 432x288 with 1 Axes>"
      ]
     },
     "metadata": {
      "needs_background": "light"
     },
     "output_type": "display_data"
    }
   ],
   "source": [
    "# Histogram of each class prediction\n",
    "for idx,each_class in enumerate(class_predictions):\n",
    "    _ = plt.figure()\n",
    "    _ = plt.title('Class %s'%idx)\n",
    "    labels, counts = np.unique(each_class, return_counts=True)\n",
    "    _ = plt.bar(labels, counts, align='center')\n",
    "    _ = plt.gca().set_xticks(labels)\n",
    "    _ = plt.show()"
   ]
  },
  {
   "cell_type": "code",
   "execution_count": 147,
   "id": "0d0115b5-eb22-4082-b2ed-b0fdea37b012",
   "metadata": {},
   "outputs": [
    {
     "name": "stdout",
     "output_type": "stream",
     "text": [
      "              precision    recall  f1-score   support\n",
      "\n",
      "           0       0.94      0.85      0.89      6026\n",
      "           1       1.00      0.00      0.00         1\n",
      "           2       1.00      1.00      1.00         0\n",
      "           3       1.00      0.00      0.00         1\n",
      "           4       1.00      0.00      0.00         4\n",
      "           5       0.49      0.29      0.36       142\n",
      "           6       0.50      0.46      0.48       482\n",
      "           7       0.56      0.40      0.47      1536\n",
      "           8       0.68      0.68      0.68      5561\n",
      "           9       0.73      0.74      0.73      9359\n",
      "          10       0.73      0.72      0.72      9623\n",
      "          11       0.76      0.74      0.75     10508\n",
      "          12       0.77      0.80      0.79     13195\n",
      "          13       0.80      0.83      0.82     14004\n",
      "          14       0.85      0.85      0.85     14029\n",
      "          15       0.85      0.89      0.87     10712\n",
      "          16       0.81      0.81      0.81      4559\n",
      "          17       0.74      0.70      0.72      1892\n",
      "          18       0.68      0.63      0.66      1188\n",
      "          19       0.59      0.67      0.63      1102\n",
      "          20       0.48      0.51      0.49       573\n",
      "          21       0.33      0.13      0.19       223\n",
      "\n",
      "   micro avg       0.78      0.78      0.78    104720\n",
      "   macro avg       0.74      0.58      0.59    104720\n",
      "weighted avg       0.78      0.78      0.78    104720\n",
      "\n"
     ]
    }
   ],
   "source": [
    "from sklearn.metrics import classification_report\n",
    "\n",
    "print( classification_report( y_val,y_pred, labels=list(range(num_classes)), zero_division=1 ))"
   ]
  },
  {
   "cell_type": "code",
   "execution_count": null,
   "id": "e952d2c6-abb1-4975-a03b-34c97c8f8669",
   "metadata": {},
   "outputs": [],
   "source": []
  },
  {
   "cell_type": "code",
   "execution_count": 25,
   "id": "d5681e1f-3e23-41c0-9a56-cd020518cbc4",
   "metadata": {},
   "outputs": [
    {
     "name": "stdout",
     "output_type": "stream",
     "text": [
      "Check start 5539\n"
     ]
    },
    {
     "data": {
      "text/plain": [
       "[(10, 9),\n",
       " (15, 15),\n",
       " (12, 13),\n",
       " (12, 12),\n",
       " (13, 13),\n",
       " (17, 16),\n",
       " (11, 9),\n",
       " (12, 12),\n",
       " (17, 17),\n",
       " (14, 14),\n",
       " (10, 9),\n",
       " (14, 12),\n",
       " (18, 18),\n",
       " (9, 9),\n",
       " (11, 11),\n",
       " (16, 16),\n",
       " (9, 9),\n",
       " (5, 6),\n",
       " (0, 0),\n",
       " (0, 0)]"
      ]
     },
     "execution_count": 25,
     "metadata": {},
     "output_type": "execute_result"
    }
   ],
   "source": [
    "# Check some predictions\n",
    "\n",
    "import random\n",
    "check_start = random.randint(0,len(x_val))\n",
    "\n",
    "print(f'Check start {check_start}')\n",
    "[(int(y_val[idx]), np.argmax(model.predict(np.expand_dims(x_val[idx],axis=0))) ) for idx in range(check_start,check_start+20) ]\n",
    "\n"
   ]
  },
  {
   "cell_type": "code",
   "execution_count": null,
   "id": "c8d4305b-d2f7-4bb6-97c0-601e43f3624c",
   "metadata": {
    "tags": []
   },
   "outputs": [],
   "source": [
    "# Train further (last training 12/8/2021 was for 30 epochs - 150 epochs(w/o reshape order) previously overfitted\n",
    "# Also, the train set was not reshuffled, but train further uses shuffled train data (Stopped the train further after 30 epocks- acc 14% poor. Retraining from scratch )\n",
    "\n",
    "start_time = datetime.strftime( datetime.now(),'%d_%B_%y_%H%M')\n",
    "\n",
    "print(f'Training start time:{start_time}')\n",
    "#batch_size = 64\n",
    "history2 = model.fit(x_train, y_train_1hot,\n",
    "          epochs= 250, \n",
    "          batch_size= batch_size, \n",
    "          validation_data=(x_test, y_test_1hot),callbacks=callbacks) #mcp_save, callbacks=[reduce_lr_loss]callbacks=callbacks"
   ]
  },
  {
   "cell_type": "code",
   "execution_count": null,
   "id": "dd8c2f81-8a6b-495f-b06f-ba26ec5104e8",
   "metadata": {},
   "outputs": [],
   "source": [
    "PlotCurves(history2)"
   ]
  },
  {
   "cell_type": "code",
   "execution_count": null,
   "id": "f9c88ad0-166a-44d3-8fef-41d5891a3035",
   "metadata": {},
   "outputs": [],
   "source": [
    "_, accuracy,top_3_accuracy = model.evaluate(x_val, y_val_1hot)\n",
    "print(f\"Test accuracy: {round(accuracy * 100, 2)}%\")\n",
    "print(f\"Test top 5 accuracy: {round(top_3_accuracy * 100, 2)}%\")\n",
    "\n",
    "_,new_col_length,new_row_length = x_train.shape \n",
    "model.save(f'{base_path}//{ipynbname.name()}//{time_stamp}_Acc_{accuracy:.3f}_top3{top_3_accuracy:.3f}_{new_row_length}x{new_col_length}.h5')"
   ]
  },
  {
   "cell_type": "code",
   "execution_count": 54,
   "id": "29c39bc8-6d98-4441-a8fe-55655e2d5cca",
   "metadata": {},
   "outputs": [],
   "source": [
    "# Try prediction on difficult data\n",
    "\n",
    "x_difficult = raw_data1['echo_cnn_input'][stop_idx+1:]\n",
    "y_difficult = raw_data1['echo_cnn_target'][stop_idx+1:]\n",
    "\n",
    "x_difficult = np.reshape( x_difficult, (x_difficult.shape[0],max_class,-1) )\n",
    "x_difficult = x_difficult[:,:,mid_pt-neigh:mid_pt+neigh+1]\n",
    "# x_train = np.reshape(x_train,(x_train.shape[0],-1))\n",
    "x_difficult = np.transpose(x_difficult,(0,2,1))\n",
    "\n",
    "# y_difficult[y_difficult == num_classes] = 0\n",
    "# y_difficult = tf.keras.utils.to_categorical(y_difficult, num_classes)\n"
   ]
  },
  {
   "cell_type": "code",
   "execution_count": 55,
   "id": "5e0f8927-8286-448f-8e7e-adfb8032ea23",
   "metadata": {},
   "outputs": [
    {
     "data": {
      "text/plain": [
       "((1724672, 9, 21), (1724672,))"
      ]
     },
     "execution_count": 55,
     "metadata": {},
     "output_type": "execute_result"
    }
   ],
   "source": [
    "(x_difficult.shape,y_difficult.shape)"
   ]
  },
  {
   "cell_type": "code",
   "execution_count": 61,
   "id": "969ad3b9-53d5-417a-ab84-55a84b5f75f2",
   "metadata": {},
   "outputs": [
    {
     "name": "stdout",
     "output_type": "stream",
     "text": [
      "Check start 32030\n"
     ]
    },
    {
     "data": {
      "text/plain": [
       "[(14, 12),\n",
       " (14, 12),\n",
       " (14, 12),\n",
       " (14, 12),\n",
       " (14, 12),\n",
       " (14, 12),\n",
       " (14, 12),\n",
       " (14, 12),\n",
       " (14, 12),\n",
       " (14, 12),\n",
       " (14, 12),\n",
       " (14, 12),\n",
       " (14, 12),\n",
       " (14, 12),\n",
       " (14, 12),\n",
       " (14, 12),\n",
       " (14, 12),\n",
       " (14, 12),\n",
       " (14, 12),\n",
       " (14, 12),\n",
       " (14, 12),\n",
       " (14, 12),\n",
       " (14, 12),\n",
       " (14, 12),\n",
       " (14, 12),\n",
       " (14, 12),\n",
       " (14, 12),\n",
       " (14, 12),\n",
       " (14, 12),\n",
       " (14, 12),\n",
       " (14, 12),\n",
       " (14, 12),\n",
       " (14, 12),\n",
       " (14, 12),\n",
       " (19, 9),\n",
       " (19, 9),\n",
       " (19, 9),\n",
       " (19, 9),\n",
       " (19, 9),\n",
       " (19, 9),\n",
       " (19, 9),\n",
       " (19, 9),\n",
       " (19, 9),\n",
       " (19, 9),\n",
       " (19, 9),\n",
       " (19, 9),\n",
       " (19, 9),\n",
       " (19, 9),\n",
       " (19, 9),\n",
       " (19, 9)]"
      ]
     },
     "execution_count": 61,
     "metadata": {},
     "output_type": "execute_result"
    }
   ],
   "source": [
    "# Check some predictions\n",
    "\n",
    "difficult_start = random.randint(0,len(x_val)) #3500 #\n",
    "\n",
    "print(f'Check start {difficult_start}')\n",
    "[(int(y_difficult[idx]), np.argmax(model.predict(np.expand_dims(x_difficult[idx],axis=0))) ) for idx in range(difficult_start,difficult_start+50) ]\n",
    "\n"
   ]
  },
  {
   "cell_type": "code",
   "execution_count": null,
   "id": "566fc1a3-473a-4442-8d7e-257187b2aa2e",
   "metadata": {},
   "outputs": [],
   "source": [
    "# Attempt loading past model (after crash) and start training again\n",
    "load_model = 0\n",
    "if load_model:\n",
    "    model2 = tf.keras.models.load_model(r'Y:\\ibikunle\\Python_Project\\Fall_2021\\all_block_data\\Old_data\\Dec_Train_block_len_21_131121_2213\\NewAttention_RowBlockLSTM1\\22_November_21_0929_Acc_0.669_Top3Acc0.8506_21x9.h5'\n",
    "                                    ,)"
   ]
  },
  {
   "cell_type": "code",
   "execution_count": null,
   "id": "d814adde-7601-4664-ae72-80a585e2dfda",
   "metadata": {},
   "outputs": [],
   "source": []
  },
  {
   "cell_type": "code",
   "execution_count": null,
   "id": "1086771b-626e-42ed-90ce-56b434606586",
   "metadata": {
    "tags": []
   },
   "outputs": [],
   "source": [
    "# Train further\n",
    "batch_size = 64\n",
    "history2 = model.fit(x_train, y_train_1hot,\n",
    "          epochs= 30, \n",
    "          batch_size= batch_size, \n",
    "          validation_data=(x_test, y_test_1hot),callbacks=callbacks) #mcp_save, callbacks=[reduce_lr_loss]callbacks=callbacks"
   ]
  },
  {
   "cell_type": "code",
   "execution_count": null,
   "id": "b129b784-5906-48b6-aa6c-a6c3cecfc63a",
   "metadata": {},
   "outputs": [],
   "source": [
    "# Train further still( 30th Nov.,2021 X_train is returned back to default [i.e No shuffle] )\n",
    "from keras import backend as K\n",
    "K.set_value(model.optimizer.learning_rate, 0.001)\n",
    "batch_size = 64\n",
    "history2 = model.fit(x_train, y_train_1hot,\n",
    "          epochs= 2, \n",
    "          batch_size= batch_size, \n",
    "          validation_data=(x_test, y_test_1hot),callbacks=callbacks) #mcp_save, callbacks=[reduce_lr_loss]callbacks=callbacks"
   ]
  },
  {
   "cell_type": "code",
   "execution_count": null,
   "id": "ac606f26-6bfa-449a-9b90-b4765a2340ec",
   "metadata": {},
   "outputs": [],
   "source": [
    "# Convert labels to categorical orthonormal vectors\n",
    "y_val_1hot = tf.keras.utils.to_categorical(y_val, num_classes)\n",
    "\n",
    "_, accuracy,top3_acc = model.evaluate(x_val, y_val_1hot)\n",
    "print(f\"Test accuracy: {round(accuracy * 100, 2)}%\")\n",
    "# print(f\"Test top 5 accuracy: {round(top_5_accuracy * 100, 2)}%\")\n",
    "\n",
    "_,new_col_length,new_row_length = x_train.shape \n",
    "model.save(f'{base_path}//{ipynbname.name()}//{time_stamp}_Acc_{accuracy:.3f}_Top3Acc{top3_acc:.3f}_{new_row_length}x{new_col_length}.h5')"
   ]
  },
  {
   "cell_type": "code",
   "execution_count": null,
   "id": "bc0478a0-0d6b-44bf-abf6-30cb44b4d44c",
   "metadata": {},
   "outputs": [],
   "source": [
    "# Test model on val data\n",
    "\n",
    "y_diff_pred = [ np.argmax(model.predict(np.expand_dims(x_difficult[idx],axis=0))) for idx in range(3000,3050) ] #len(x_difficult)\n",
    "\n",
    "difficult_exact_accuracy = 100 * sum([1 if y_diff_pred[idx]==y_difficult[idx]   else 0 for idx in range(len(y_diff_pred)) ]) / len(y_diff_pred)\n",
    "difficult_margin5_accuracy = 100 * sum([1 if abs(y_diff_pred[idx]-y_difficult[idx]) < 3 else 0 for idx in range(len(y_diff_pred)) ]) / len(y_diff_pred)\n",
    "\n",
    "print(f' Exact accuracy is {difficult_exact_accuracy: .5f} %')\n",
    "print(f' Top 5% accuracy is {difficult_margin5_accuracy: .5f} %')\n",
    "\n"
   ]
  },
  {
   "cell_type": "code",
   "execution_count": null,
   "id": "b103b071-79d9-416b-b545-bc3c2e3e6587",
   "metadata": {},
   "outputs": [],
   "source": [
    "len(y_diff_pred)"
   ]
  },
  {
   "cell_type": "code",
   "execution_count": null,
   "id": "3ab0eaec-8607-4970-a6a9-397cef52ef9f",
   "metadata": {},
   "outputs": [],
   "source": []
  }
 ],
 "metadata": {
  "kernelspec": {
   "display_name": "ibk_tf_2.6",
   "language": "python",
   "name": "tf2.6"
  },
  "language_info": {
   "codemirror_mode": {
    "name": "ipython",
    "version": 3
   },
   "file_extension": ".py",
   "mimetype": "text/x-python",
   "name": "python",
   "nbconvert_exporter": "python",
   "pygments_lexer": "ipython3",
   "version": "3.9.7"
  }
 },
 "nbformat": 4,
 "nbformat_minor": 5
}
