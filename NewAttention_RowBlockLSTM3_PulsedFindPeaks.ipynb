{
 "cells": [
  {
   "cell_type": "code",
   "execution_count": 1,
   "id": "dbf0fa04-d15f-40e3-bc8e-e0c581c9707c",
   "metadata": {},
   "outputs": [
    {
     "name": "stdout",
     "output_type": "stream",
     "text": [
      "Packages Loaded\n"
     ]
    }
   ],
   "source": [
    "from __future__ import print_function\n",
    "\n",
    "import os\n",
    "\n",
    "import pandas as pd\n",
    "import numpy as np\n",
    "import matplotlib.pyplot as plt\n",
    "import random\n",
    "import tensorflow as tf\n",
    "from tensorflow.keras.models import Sequential, Model\n",
    "from tensorflow.keras.layers import *\n",
    "from tensorflow.keras import layers\n",
    "from tensorflow.keras.callbacks import EarlyStopping, ModelCheckpoint,TensorBoard,ReduceLROnPlateau\n",
    "\n",
    "from tensorflow.keras.optimizers import SGD, Adam\n",
    "from tensorflow.keras.activations import relu\n",
    "from tensorflow.keras.regularizers import l2\n",
    "from tensorflow.keras.constraints import max_norm\n",
    "from tensorflow.keras import backend as K\n",
    "# from tensorflow.keras.datasets import mnist, cifar10\n",
    "import tensorflow_addons as tfa\n",
    "\n",
    "import sklearn\n",
    "\n",
    "from IPython.core.interactiveshell import InteractiveShell\n",
    "InteractiveShell.ast_node_interactivity = \"all\"\n",
    "from scipy.io import loadmat \n",
    "import mat73\n",
    "from datetime import datetime\n",
    "import ipynbname\n",
    "\n",
    "print(\"Packages Loaded\")"
   ]
  },
  {
   "cell_type": "code",
   "execution_count": 2,
   "id": "5e0ff66a-fe8d-4b53-923d-87fd82eaa274",
   "metadata": {
    "tags": []
   },
   "outputs": [
    {
     "name": "stderr",
     "output_type": "stream",
     "text": [
      "\u001b[34m\u001b[1mwandb\u001b[0m: Currently logged in as: \u001b[33mibksolar\u001b[0m (use `wandb login --relogin` to force relogin)\n",
      "\u001b[34m\u001b[1mwandb\u001b[0m: wandb version 0.12.9 is available!  To upgrade, please run:\n",
      "\u001b[34m\u001b[1mwandb\u001b[0m:  $ pip install wandb --upgrade\n"
     ]
    },
    {
     "data": {
      "text/html": [
       "\n",
       "                    Syncing run <strong><a href=\"https://wandb.ai/ibksolar/my-test-project/runs/39itz3uf\" target=\"_blank\">NewAttention_RowBlockLSTM3_PulsedFindPeaks_26_January_22_1620</a></strong> to <a href=\"https://wandb.ai/ibksolar/my-test-project\" target=\"_blank\">Weights & Biases</a> (<a href=\"https://docs.wandb.com/integrations/jupyter.html\" target=\"_blank\">docs</a>).<br/>\n",
       "\n",
       "                "
      ],
      "text/plain": [
       "<IPython.core.display.HTML object>"
      ]
     },
     "metadata": {},
     "output_type": "display_data"
    },
    {
     "data": {
      "text/html": [
       "<button onClick=\"this.nextSibling.style.display='block';this.style.display='none';\">Display W&B run</button><iframe src=\"https://wandb.ai/ibksolar/my-test-project/runs/39itz3uf?jupyter=true\" style=\"border:none;width:100%;height:420px;display:none;\"></iframe>"
      ],
      "text/plain": [
       "<wandb.sdk.wandb_run.Run at 0x1b0dbdc4670>"
      ]
     },
     "execution_count": 2,
     "metadata": {},
     "output_type": "execute_result"
    }
   ],
   "source": [
    "import wandb\n",
    "from wandb.keras import WandbCallback\n",
    "time_stamp = datetime.strftime( datetime.now(),'%d_%B_%y_%H%M')\n",
    "wandb.init(project=\"my-test-project\", entity=\"ibksolar\", name=ipynbname.name()+'_'+time_stamp)\n",
    " "
   ]
  },
  {
   "cell_type": "code",
   "execution_count": 3,
   "id": "00c1aba9-f492-4875-be63-c42578d6918a",
   "metadata": {},
   "outputs": [],
   "source": [
    "# Load data\n",
    "# raw_data1 = loadmat('new_echo_cnn_in_out_jstarrs2021_first_try/echo_cnn_in_out_jstars1.mat')\n",
    "# raw_data1 = loadmat('echo_cnn_in_out_GOOD_layers/new_echo_cnn_in_out_jstars1.mat') 'findpeaks_layers/new_echo_cnn_in_out_jstars1.mat'\n",
    "load_old_data = False\n",
    "\n",
    "if load_old_data:\n",
    "    \n",
    "    raw_data1 = loadmat('../../../Python_Env/final_layers_rowblock15_21/filtered_image/new_echo_cnn_in_out_jstars1.mat')\n",
    "    raw_data2 = loadmat('../../../Python_Env/final_layers_rowblock15_21/filtered_image/new_echo_cnn_in_out_jstars2.mat')\n",
    "    raw_data3 = loadmat('../../../Python_Env/final_layers_rowblock15_21/filtered_image/new_echo_cnn_in_out_jstars3.mat')\n",
    "    # raw_data4 = loadmat('findpeaks_layers_rowblock20/new_echo_cnn_in_out_jstars4.mat')\n",
    "\n",
    "    d1 = raw_data1['echo_cnn1']\n",
    "    t1 = raw_data1['echo_target1']\n",
    "    i1 = raw_data1['echo_idx1']\n",
    "\n",
    "    d2 = raw_data2['echo_cnn2']\n",
    "    t2 = raw_data2['echo_target2']\n",
    "    i2 = raw_data2['echo_idx2']\n",
    "\n",
    "    d3 = raw_data3['echo_cnn3']\n",
    "    t3 = raw_data3['echo_target3']\n",
    "    i3 = raw_data3['echo_idx3']\n",
    "\n",
    "    # d4 = raw_data4['echo_cnn4']\n",
    "    # t4 = raw_data4['echo_target4']\n",
    "    # i4 = raw_data4['echo_idx4']\n",
    "\n",
    "    all_data = np.concatenate( (d1,d2,d3),axis = 0 )\n",
    "    all_target = np.concatenate( (t1,t2,t3),axis = 0 )\n",
    "    all_idx = np.concatenate( (i1,i2,i3),axis = 0 )\n",
    "\n",
    "    # Set all nan in the data to zero\n",
    "    nan_idx = np.isnan(all_data).any(axis =-1)\n",
    "    all_target[nan_idx] = 0\n",
    "    all_data[ np.isnan(all_data) ]= 0"
   ]
  },
  {
   "cell_type": "code",
   "execution_count": 6,
   "id": "d9fb9b83-f2b1-4b99-82a7-e1580e7a2694",
   "metadata": {},
   "outputs": [
    {
     "name": "stdout",
     "output_type": "stream",
     "text": [
      "True\n"
     ]
    }
   ],
   "source": [
    "load_new_data = True\n",
    "\n",
    "if load_new_data:\n",
    "    # base_path = '..\\\\..\\\\all_block_data\\Dec_Train_block_len_21_011121_2331'\n",
    "    #base_path = '../all_block_data/Old_data/Dec_Train_block_len_21_231121_1531'\n",
    "    base_path = '../all_block_data\\PulsedTrainTest\\Dec_Train_block_len_21_220122_1449_FindPeaks'\n",
    "\n",
    "    # Confirm path is right...\n",
    "    print(f'{os.path.isdir(base_path)}')"
   ]
  },
  {
   "cell_type": "code",
   "execution_count": 11,
   "id": "e179ca79-43c2-45d8-a10e-1bb54507a5bf",
   "metadata": {},
   "outputs": [],
   "source": [
    "if load_new_data:\n",
    "    raw_data1 = mat73.loadmat(base_path + '/echo_cnn_in_out_jstars.mat')\n",
    "    all_data = raw_data1['echo_cnn_input']\n",
    "    all_target = raw_data1['echo_cnn_target']\n",
    "    all_coords = raw_data1['coords']\n",
    "    echo_idx = raw_data1['orig_echo_idx']\n",
    "\n",
    "    # Set all nan in the data to zero\n",
    "    nan_idx = np.isnan(all_data).any(axis =-1)\n",
    "    all_target[nan_idx] = 0\n",
    "    all_data[ np.isnan(all_data) ]= 0\n",
    "\n"
   ]
  },
  {
   "cell_type": "code",
   "execution_count": 12,
   "id": "88db6e2e-f752-4b1f-b3a4-395adeaf4fa9",
   "metadata": {},
   "outputs": [],
   "source": [
    "# Standardize all_data\n",
    "standardize = False\n",
    "if standardize:\n",
    "    all_data  = ( all_data - all_data.mean() ) / all_data.std()\n",
    "\n",
    "scale_data = False\n",
    "if scale_data:\n",
    "    all_data = 255*all_data"
   ]
  },
  {
   "cell_type": "code",
   "execution_count": 13,
   "id": "b97ea785-542b-42f8-aee2-fef06a14040d",
   "metadata": {},
   "outputs": [],
   "source": [
    "# Truncate data because data after truncate point is not good for training\n",
    "\n",
    "truncate_data = False\n",
    "if truncate_data:    \n",
    "    echo_idx = np.asarray(echo_idx)\n",
    "    stop_val = 400\n",
    "\n",
    "    stop_list, = np.where(echo_idx == stop_val)\n",
    "    stop_idx = stop_list[-1]\n",
    "\n",
    "    all_data = all_data[:stop_idx]\n",
    "    all_target = all_target[:stop_idx]\n",
    "\n",
    "    print(f'Data shape {all_data.shape}')\n",
    "    print(f'Target shape {all_target.shape}')\n"
   ]
  },
  {
   "cell_type": "code",
   "execution_count": 14,
   "id": "3eaf3c7e-1bb9-4d3b-b0af-deca0f0995b7",
   "metadata": {},
   "outputs": [
    {
     "name": "stdout",
     "output_type": "stream",
     "text": [
      "Dimensions match\n"
     ]
    }
   ],
   "source": [
    "row_length = 21 # CHANGE HERE <==\n",
    "col_length = 15\n",
    "\n",
    "# Check that the dimension of data is correct\n",
    "if all_data.shape[1] == row_length*col_length:\n",
    "    print('Dimensions match')\n",
    "else:\n",
    "    print(f' Row block length:{row_length} and col length:{col_length} does not match Data dimension:{all_data.shape[1]}') \n",
    "        "
   ]
  },
  {
   "cell_type": "code",
   "execution_count": null,
   "id": "240c5978-0a4c-4a42-af11-b067dffe8ebc",
   "metadata": {},
   "outputs": [],
   "source": [
    "# Positional Encoding\n",
    "time_seq = 9 #col_length #5\n",
    "# all_coords = raw_data1['coords']\n",
    "all_coord_exp = np.zeros((all_coords.shape[0],time_seq,row_length))\n",
    "\n",
    "for idx in range(len(all_coords)):\n",
    "    a,b,c,_ = np.asarray(all_coords[idx],dtype=\"int\")\n",
    "    if (a%2) == 0: # If row index is even - this isn't implemented well because it requires iterating through individual rows\n",
    "        all_coord_exp[idx] = np.sin( np.outer( np.arange(c,c+time_seq), pow(10000, (2*np.arange(a,b)/row_length)) ) )\n",
    "    else:\n",
    "        all_coord_exp[idx] = np.cos( np.outer( np.arange(c,c+time_seq), pow(10000, (2*np.arange(a,b)/row_length)) ) )\n",
    "\n",
    "if 0: #truncate_data:\n",
    "    difficult_coords = all_coord_exp[stop_idx+1:]         \n",
    "    all_coord_exp = all_coord_exp[:stop_idx]        \n",
    "   \n",
    "    \n",
    "all_coord_exp.shape    "
   ]
  },
  {
   "cell_type": "code",
   "execution_count": 15,
   "id": "ab1acb17-7dee-417b-97bc-8d0bba4e4cf4",
   "metadata": {},
   "outputs": [
    {
     "name": "stdout",
     "output_type": "stream",
     "text": [
      "Shape of X_train:(993792, 9, 21)  X_test:(186336, 9, 21)\n",
      "Shape of y_train:(993792,)  y_test:(186336,)\n"
     ]
    }
   ],
   "source": [
    "max_class = row_length \n",
    "neigh = 4 # The number of neighbors used for each RowBlock column\n",
    "\n",
    "# Highest class is mapped to row_length+1\n",
    "all_target[all_target == max_class+1 ] = 0\n",
    "\n",
    "\n",
    "shuffle = 1\n",
    "if shuffle:\n",
    "    random.Random(13).shuffle(all_data)\n",
    "    random.Random(13).shuffle(all_target)\n",
    "    #random.Random(13).shuffle(all_coord_exp)\n",
    "    # random.Random(1337).shuffle(all_idx)\n",
    "\n",
    "## Prep data\n",
    "train_size = int(np.floor(0.8*len(all_target)));\n",
    "test_size = int(np.round( 0.15* all_data.shape[0] ))\n",
    "val_size = all_data.shape[0] -train_size - test_size\n",
    "\n",
    "mid_pt = 8\n",
    "\n",
    "\n",
    "x_train = all_data[0:train_size,:]\n",
    "x_train = np.reshape( x_train, (x_train.shape[0],max_class,-1),order ='F' )\n",
    "x_train = x_train[:,:,mid_pt-neigh:mid_pt+neigh+1]\n",
    "# x_train = np.reshape(x_train,(x_train.shape[0],-1))\n",
    "x_train = np.transpose(x_train,(0,2,1))\n",
    "#coords_train = all_coord_exp[0:train_size,:]\n",
    "\n",
    "\n",
    "x_test = all_data[train_size:train_size+test_size,:]\n",
    "x_test = np.reshape( x_test,(x_test.shape[0],max_class,-1),order ='F' )\n",
    "x_test = x_test[:,:,mid_pt-neigh:mid_pt+neigh+1]\n",
    "# x_test = np.reshape(x_test,(x_test.shape[0],-1))\n",
    "x_test = np.transpose(x_test,(0,2,1))\n",
    "#coords_test = all_coord_exp[train_size:train_size+test_size,:]\n",
    "\n",
    "\n",
    "x_val = all_data[-val_size:,:]\n",
    "x_val = np.reshape( x_val,(x_val.shape[0],max_class,-1),order ='F' )\n",
    "x_val = x_val[:,:,mid_pt-neigh:mid_pt+neigh+1]\n",
    "# x_val = np.reshape(x_val,(x_val.shape[0],-1))\n",
    "x_val = np.transpose(x_val,(0,2,1))\n",
    "#coords_val = all_coord_exp[-val_size:,:]\n",
    "\n",
    "\n",
    "y_train = all_target[:train_size]\n",
    "y_test  = all_target[train_size:train_size+test_size]\n",
    "y_val = all_target[-val_size:]\n",
    "\n",
    "var_input_shape = x_train.shape[1:] # 240 columns\n",
    "num_classes = max_class+1 # layers\n",
    "\n",
    "\n",
    "# Convert labels to categorical orthonormal vectors\n",
    "y_train_1hot = tf.keras.utils.to_categorical(y_train, num_classes)\n",
    "y_test_1hot  = tf.keras.utils.to_categorical(y_test, num_classes)\n",
    "\n",
    "print(f'Shape of X_train:{x_train.shape}  X_test:{x_test.shape}')\n",
    "print(f'Shape of y_train:{y_train.shape}  y_test:{y_test.shape}')"
   ]
  },
  {
   "cell_type": "code",
   "execution_count": 16,
   "id": "d4e1d74e-7ca6-41f4-918e-9712adcdce02",
   "metadata": {},
   "outputs": [
    {
     "data": {
      "image/png": "[encoded data removed]",
      "text/plain": [
       "<Figure size 432x288 with 1 Axes>"
      ]
     },
     "metadata": {
      "needs_background": "light"
     },
     "output_type": "display_data"
    },
    {
     "data": {
      "image/png": "[encoded data removed]",
      "text/plain": [
       "<Figure size 432x288 with 1 Axes>"
      ]
     },
     "metadata": {
      "needs_background": "light"
     },
     "output_type": "display_data"
    }
   ],
   "source": [
    "# Show distribution of targets in training and validation set\n",
    "\n",
    "labels, counts = np.unique(y_train, return_counts=True)\n",
    "_ = plt.bar(labels, counts, align='center')\n",
    "_ = plt.gca().set_xticks(labels)\n",
    "_ = plt.title('Distribution of targets in Training set')\n",
    "_ = plt.show()\n",
    "\n",
    "\n",
    "labels, counts = np.unique(y_val, return_counts=True)\n",
    "_ = plt.bar(labels, counts, align='center')\n",
    "_ = plt.gca().set_xticks(labels)\n",
    "_ = plt.title('Distribution of targets in Validation set')\n",
    "_ = plt.show()"
   ]
  },
  {
   "cell_type": "code",
   "execution_count": null,
   "id": "d2641993-96aa-4d4f-9342-5806258036fa",
   "metadata": {},
   "outputs": [],
   "source": [
    "\n",
    "x_train_new = x_train + coords_train\n",
    "x_test_new = x_test + coords_test\n",
    "x_val_new = x_val + coords_val"
   ]
  },
  {
   "cell_type": "code",
   "execution_count": 17,
   "id": "45833095-8823-4f47-895b-876c2c1b2396",
   "metadata": {},
   "outputs": [
    {
     "ename": "ImportError",
     "evalue": "Missing optional dependency 'openpyxl'.  Use pip or conda to install openpyxl.",
     "output_type": "error",
     "traceback": [
      "\u001b[1;31m---------------------------------------------------------------------------\u001b[0m",
      "\u001b[1;31mImportError\u001b[0m                               Traceback (most recent call last)",
      "\u001b[1;32m~\\AppData\\Local\\Temp\\3/ipykernel_18136/2342715023.py\u001b[0m in \u001b[0;36m<module>\u001b[1;34m\u001b[0m\n\u001b[0;32m     31\u001b[0m \u001b[1;32mif\u001b[0m \u001b[1;34m\"log_idx\"\u001b[0m \u001b[1;32min\u001b[0m \u001b[0mglobals\u001b[0m\u001b[1;33m(\u001b[0m\u001b[1;33m)\u001b[0m\u001b[1;33m:\u001b[0m\u001b[1;33m\u001b[0m\u001b[1;33m\u001b[0m\u001b[0m\n\u001b[0;32m     32\u001b[0m     \u001b[0mlog\u001b[0m\u001b[1;33m[\u001b[0m\u001b[1;34m\"S_N\"\u001b[0m\u001b[1;33m]\u001b[0m \u001b[1;33m=\u001b[0m \u001b[0mlog_idx\u001b[0m\u001b[1;33m\u001b[0m\u001b[1;33m\u001b[0m\u001b[0m\n\u001b[1;32m---> 33\u001b[1;33m \u001b[0mlog_idx\u001b[0m \u001b[1;33m=\u001b[0m \u001b[0mcreate_log_entry\u001b[0m\u001b[1;33m(\u001b[0m\u001b[1;34m'../testing_sheet2.xlsx'\u001b[0m\u001b[1;33m,\u001b[0m \u001b[0mlog\u001b[0m\u001b[1;33m)\u001b[0m\u001b[1;33m\u001b[0m\u001b[1;33m\u001b[0m\u001b[0m\n\u001b[0m",
      "\u001b[1;32mY:\\ibikunle\\Python_Project\\Fall_2021\\Model_and_weights\\model_hyper_param_log.py\u001b[0m in \u001b[0;36mcreate_log_entry\u001b[1;34m(log_file_loc, log_dict)\u001b[0m\n\u001b[0;32m     36\u001b[0m \u001b[1;33m\u001b[0m\u001b[0m\n\u001b[0;32m     37\u001b[0m     '''\n\u001b[1;32m---> 38\u001b[1;33m     \u001b[0mdf\u001b[0m \u001b[1;33m=\u001b[0m \u001b[0mpd\u001b[0m\u001b[1;33m.\u001b[0m\u001b[0mread_excel\u001b[0m\u001b[1;33m(\u001b[0m\u001b[0mlog_file_loc\u001b[0m\u001b[1;33m,\u001b[0m\u001b[0mheader\u001b[0m \u001b[1;33m=\u001b[0m \u001b[1;36m0\u001b[0m\u001b[1;33m,\u001b[0m \u001b[0mindex_col\u001b[0m\u001b[1;33m=\u001b[0m \u001b[1;36m0\u001b[0m\u001b[1;33m)\u001b[0m\u001b[1;33m\u001b[0m\u001b[1;33m\u001b[0m\u001b[0m\n\u001b[0m\u001b[0;32m     39\u001b[0m     \u001b[0mRow\u001b[0m \u001b[1;33m=\u001b[0m\u001b[1;33m{\u001b[0m\u001b[1;33m}\u001b[0m\u001b[1;33m\u001b[0m\u001b[1;33m\u001b[0m\u001b[0m\n\u001b[0;32m     40\u001b[0m     \u001b[0mparams_to_be_updated\u001b[0m \u001b[1;33m=\u001b[0m \u001b[1;33m[\u001b[0m\u001b[1;33m]\u001b[0m\u001b[1;33m\u001b[0m\u001b[1;33m\u001b[0m\u001b[0m\n",
      "\u001b[1;32m~\\Anaconda3\\envs\\ibk_sept21_tf2.5\\lib\\site-packages\\pandas\\util\\_decorators.py\u001b[0m in \u001b[0;36mwrapper\u001b[1;34m(*args, **kwargs)\u001b[0m\n\u001b[0;32m    309\u001b[0m                     \u001b[0mstacklevel\u001b[0m\u001b[1;33m=\u001b[0m\u001b[0mstacklevel\u001b[0m\u001b[1;33m,\u001b[0m\u001b[1;33m\u001b[0m\u001b[1;33m\u001b[0m\u001b[0m\n\u001b[0;32m    310\u001b[0m                 )\n\u001b[1;32m--> 311\u001b[1;33m             \u001b[1;32mreturn\u001b[0m \u001b[0mfunc\u001b[0m\u001b[1;33m(\u001b[0m\u001b[1;33m*\u001b[0m\u001b[0margs\u001b[0m\u001b[1;33m,\u001b[0m \u001b[1;33m**\u001b[0m\u001b[0mkwargs\u001b[0m\u001b[1;33m)\u001b[0m\u001b[1;33m\u001b[0m\u001b[1;33m\u001b[0m\u001b[0m\n\u001b[0m\u001b[0;32m    312\u001b[0m \u001b[1;33m\u001b[0m\u001b[0m\n\u001b[0;32m    313\u001b[0m         \u001b[1;32mreturn\u001b[0m \u001b[0mwrapper\u001b[0m\u001b[1;33m\u001b[0m\u001b[1;33m\u001b[0m\u001b[0m\n",
      "\u001b[1;32m~\\Anaconda3\\envs\\ibk_sept21_tf2.5\\lib\\site-packages\\pandas\\io\\excel\\_base.py\u001b[0m in \u001b[0;36mread_excel\u001b[1;34m(io, sheet_name, header, names, index_col, usecols, squeeze, dtype, engine, converters, true_values, false_values, skiprows, nrows, na_values, keep_default_na, na_filter, verbose, parse_dates, date_parser, thousands, comment, skipfooter, convert_float, mangle_dupe_cols, storage_options)\u001b[0m\n\u001b[0;32m    362\u001b[0m     \u001b[1;32mif\u001b[0m \u001b[1;32mnot\u001b[0m \u001b[0misinstance\u001b[0m\u001b[1;33m(\u001b[0m\u001b[0mio\u001b[0m\u001b[1;33m,\u001b[0m \u001b[0mExcelFile\u001b[0m\u001b[1;33m)\u001b[0m\u001b[1;33m:\u001b[0m\u001b[1;33m\u001b[0m\u001b[1;33m\u001b[0m\u001b[0m\n\u001b[0;32m    363\u001b[0m         \u001b[0mshould_close\u001b[0m \u001b[1;33m=\u001b[0m \u001b[1;32mTrue\u001b[0m\u001b[1;33m\u001b[0m\u001b[1;33m\u001b[0m\u001b[0m\n\u001b[1;32m--> 364\u001b[1;33m         \u001b[0mio\u001b[0m \u001b[1;33m=\u001b[0m \u001b[0mExcelFile\u001b[0m\u001b[1;33m(\u001b[0m\u001b[0mio\u001b[0m\u001b[1;33m,\u001b[0m \u001b[0mstorage_options\u001b[0m\u001b[1;33m=\u001b[0m\u001b[0mstorage_options\u001b[0m\u001b[1;33m,\u001b[0m \u001b[0mengine\u001b[0m\u001b[1;33m=\u001b[0m\u001b[0mengine\u001b[0m\u001b[1;33m)\u001b[0m\u001b[1;33m\u001b[0m\u001b[1;33m\u001b[0m\u001b[0m\n\u001b[0m\u001b[0;32m    365\u001b[0m     \u001b[1;32melif\u001b[0m \u001b[0mengine\u001b[0m \u001b[1;32mand\u001b[0m \u001b[0mengine\u001b[0m \u001b[1;33m!=\u001b[0m \u001b[0mio\u001b[0m\u001b[1;33m.\u001b[0m\u001b[0mengine\u001b[0m\u001b[1;33m:\u001b[0m\u001b[1;33m\u001b[0m\u001b[1;33m\u001b[0m\u001b[0m\n\u001b[0;32m    366\u001b[0m         raise ValueError(\n",
      "\u001b[1;32m~\\Anaconda3\\envs\\ibk_sept21_tf2.5\\lib\\site-packages\\pandas\\io\\excel\\_base.py\u001b[0m in \u001b[0;36m__init__\u001b[1;34m(self, path_or_buffer, engine, storage_options)\u001b[0m\n\u001b[0;32m   1231\u001b[0m         \u001b[0mself\u001b[0m\u001b[1;33m.\u001b[0m\u001b[0mstorage_options\u001b[0m \u001b[1;33m=\u001b[0m \u001b[0mstorage_options\u001b[0m\u001b[1;33m\u001b[0m\u001b[1;33m\u001b[0m\u001b[0m\n\u001b[0;32m   1232\u001b[0m \u001b[1;33m\u001b[0m\u001b[0m\n\u001b[1;32m-> 1233\u001b[1;33m         \u001b[0mself\u001b[0m\u001b[1;33m.\u001b[0m\u001b[0m_reader\u001b[0m \u001b[1;33m=\u001b[0m \u001b[0mself\u001b[0m\u001b[1;33m.\u001b[0m\u001b[0m_engines\u001b[0m\u001b[1;33m[\u001b[0m\u001b[0mengine\u001b[0m\u001b[1;33m]\u001b[0m\u001b[1;33m(\u001b[0m\u001b[0mself\u001b[0m\u001b[1;33m.\u001b[0m\u001b[0m_io\u001b[0m\u001b[1;33m,\u001b[0m \u001b[0mstorage_options\u001b[0m\u001b[1;33m=\u001b[0m\u001b[0mstorage_options\u001b[0m\u001b[1;33m)\u001b[0m\u001b[1;33m\u001b[0m\u001b[1;33m\u001b[0m\u001b[0m\n\u001b[0m\u001b[0;32m   1234\u001b[0m \u001b[1;33m\u001b[0m\u001b[0m\n\u001b[0;32m   1235\u001b[0m     \u001b[1;32mdef\u001b[0m \u001b[0m__fspath__\u001b[0m\u001b[1;33m(\u001b[0m\u001b[0mself\u001b[0m\u001b[1;33m)\u001b[0m\u001b[1;33m:\u001b[0m\u001b[1;33m\u001b[0m\u001b[1;33m\u001b[0m\u001b[0m\n",
      "\u001b[1;32m~\\Anaconda3\\envs\\ibk_sept21_tf2.5\\lib\\site-packages\\pandas\\io\\excel\\_openpyxl.py\u001b[0m in \u001b[0;36m__init__\u001b[1;34m(self, filepath_or_buffer, storage_options)\u001b[0m\n\u001b[0;32m    519\u001b[0m             \u001b[0mpassed\u001b[0m \u001b[0mto\u001b[0m \u001b[0mfsspec\u001b[0m \u001b[1;32mfor\u001b[0m \u001b[0mappropriate\u001b[0m \u001b[0mURLs\u001b[0m \u001b[1;33m(\u001b[0m\u001b[0msee\u001b[0m\u001b[0;31m \u001b[0m\u001b[0;31m`\u001b[0m\u001b[0;31m`\u001b[0m\u001b[0m_get_filepath_or_buffer\u001b[0m\u001b[0;31m`\u001b[0m\u001b[0;31m`\u001b[0m\u001b[1;33m)\u001b[0m\u001b[1;33m\u001b[0m\u001b[1;33m\u001b[0m\u001b[0m\n\u001b[0;32m    520\u001b[0m         \"\"\"\n\u001b[1;32m--> 521\u001b[1;33m         \u001b[0mimport_optional_dependency\u001b[0m\u001b[1;33m(\u001b[0m\u001b[1;34m\"openpyxl\"\u001b[0m\u001b[1;33m)\u001b[0m\u001b[1;33m\u001b[0m\u001b[1;33m\u001b[0m\u001b[0m\n\u001b[0m\u001b[0;32m    522\u001b[0m         \u001b[0msuper\u001b[0m\u001b[1;33m(\u001b[0m\u001b[1;33m)\u001b[0m\u001b[1;33m.\u001b[0m\u001b[0m__init__\u001b[0m\u001b[1;33m(\u001b[0m\u001b[0mfilepath_or_buffer\u001b[0m\u001b[1;33m,\u001b[0m \u001b[0mstorage_options\u001b[0m\u001b[1;33m=\u001b[0m\u001b[0mstorage_options\u001b[0m\u001b[1;33m)\u001b[0m\u001b[1;33m\u001b[0m\u001b[1;33m\u001b[0m\u001b[0m\n\u001b[0;32m    523\u001b[0m \u001b[1;33m\u001b[0m\u001b[0m\n",
      "\u001b[1;32m~\\Anaconda3\\envs\\ibk_sept21_tf2.5\\lib\\site-packages\\pandas\\compat\\_optional.py\u001b[0m in \u001b[0;36mimport_optional_dependency\u001b[1;34m(name, extra, errors, min_version)\u001b[0m\n\u001b[0;32m    116\u001b[0m     \u001b[1;32mexcept\u001b[0m \u001b[0mImportError\u001b[0m\u001b[1;33m:\u001b[0m\u001b[1;33m\u001b[0m\u001b[1;33m\u001b[0m\u001b[0m\n\u001b[0;32m    117\u001b[0m         \u001b[1;32mif\u001b[0m \u001b[0merrors\u001b[0m \u001b[1;33m==\u001b[0m \u001b[1;34m\"raise\"\u001b[0m\u001b[1;33m:\u001b[0m\u001b[1;33m\u001b[0m\u001b[1;33m\u001b[0m\u001b[0m\n\u001b[1;32m--> 118\u001b[1;33m             \u001b[1;32mraise\u001b[0m \u001b[0mImportError\u001b[0m\u001b[1;33m(\u001b[0m\u001b[0mmsg\u001b[0m\u001b[1;33m)\u001b[0m \u001b[1;32mfrom\u001b[0m \u001b[1;32mNone\u001b[0m\u001b[1;33m\u001b[0m\u001b[1;33m\u001b[0m\u001b[0m\n\u001b[0m\u001b[0;32m    119\u001b[0m         \u001b[1;32melse\u001b[0m\u001b[1;33m:\u001b[0m\u001b[1;33m\u001b[0m\u001b[1;33m\u001b[0m\u001b[0m\n\u001b[0;32m    120\u001b[0m             \u001b[1;32mreturn\u001b[0m \u001b[1;32mNone\u001b[0m\u001b[1;33m\u001b[0m\u001b[1;33m\u001b[0m\u001b[0m\n",
      "\u001b[1;31mImportError\u001b[0m: Missing optional dependency 'openpyxl'.  Use pip or conda to install openpyxl."
     ]
    }
   ],
   "source": [
    "# Populate the param \n",
    "\n",
    "# import sys,importlib\n",
    "#importlib.reload(sys.modules['model_hyper_param_log'])\n",
    "\n",
    "base_path =  r'../../../Python_Env/final_layers_rowblock15_21/filtered_image/new_echo_cnn_in_out_jstars3.mat'\n",
    "log ={}\n",
    "log['Notebook_name'] = ipynbname.name()\n",
    "log['Uniqueness_of_each_run'] = 'Another run of Pulsed Train of findpeaks data using improved base -good LSTM1 model '\n",
    "log['base_dir'] = base_path\n",
    "log['Train_shape'] = x_train.shape\n",
    "log['Output_shape'] = ''\n",
    "log['num_epochs'] = ''\n",
    "log['batch_size'] = ''\n",
    "log['activation_function'] = ''\n",
    "log['optimizer'] = ''\n",
    "log['learning_rate'] = ''\n",
    "log['loss_finction'] = ''\n",
    "log['accuracy'] = []\n",
    "log['loss'] = []\n",
    "log['stop_time'] = ''\n",
    "log['Model_config'] = ''\n",
    "log['Performance_on_test_set'] = ''\n",
    "log['output_path'] = ''  # output: where the trained model is saved\n",
    "log['shuffle'] = shuffle\n",
    "log['run_completion_comment'] = '' # Comment on training and probably evaluation too\n",
    "log['extras'] = [{'standardize':standardize}]\n",
    "\n",
    "\n",
    "from model_hyper_param_log import create_log_entry, update_log_entry\n",
    "if \"log_idx\" in globals():\n",
    "    log[\"S_N\"] = log_idx\n",
    "log_idx = create_log_entry('../testing_sheet2.xlsx', log)"
   ]
  },
  {
   "cell_type": "code",
   "execution_count": null,
   "id": "90eaf02e-ac0c-47ae-93f8-ff9098ad79e8",
   "metadata": {},
   "outputs": [],
   "source": [
    "# Visualize some of the input\n",
    "\n",
    "_ = plt.plot(x_train[200].flatten())\n",
    "_ = plt.title(y_train[200])"
   ]
  },
  {
   "cell_type": "code",
   "execution_count": null,
   "id": "b709185f-c394-4c52-afa5-75bcf5964ad9",
   "metadata": {
    "tags": []
   },
   "outputs": [
    {
     "name": "stdout",
     "output_type": "stream",
     "text": [
      "WARNING:tensorflow:Layer lstm will not use cuDNN kernels since it doesn't meet the criteria. It will use a generic GPU kernel as fallback when running on GPU.\n",
      "WARNING:tensorflow:Layer lstm_1 will not use cuDNN kernels since it doesn't meet the criteria. It will use a generic GPU kernel as fallback when running on GPU.\n",
      "WARNING:tensorflow:Layer lstm_2 will not use cuDNN kernels since it doesn't meet the criteria. It will use a generic GPU kernel as fallback when running on GPU.\n",
      "WARNING:tensorflow:Layer lstm_3 will not use cuDNN kernels since it doesn't meet the criteria. It will use a generic GPU kernel as fallback when running on GPU.\n",
      "Model: \"RowBlockLSTM26_January_22_1620\"\n",
      "__________________________________________________________________________________________________\n",
      "Layer (type)                    Output Shape         Param #     Connected to                     \n",
      "==================================================================================================\n",
      "input_1 (InputLayer)            [(None, 9, 21, 1)]   0                                            \n",
      "__________________________________________________________________________________________________\n",
      "conv2d (Conv2D)                 (None, 9, 21, 32)    320         input_1[0][0]                    \n",
      "__________________________________________________________________________________________________\n",
      "conv2d_1 (Conv2D)               (None, 9, 21, 64)    51264       conv2d[0][0]                     \n",
      "__________________________________________________________________________________________________\n",
      "conv2d_2 (Conv2D)               (None, 9, 21, 64)    102464      conv2d_1[0][0]                   \n",
      "__________________________________________________________________________________________________\n",
      "dropout (Dropout)               (None, 9, 21, 64)    0           conv2d_2[0][0]                   \n",
      "__________________________________________________________________________________________________\n",
      "batch_normalization (BatchNorma (None, 9, 21, 64)    256         dropout[0][0]                    \n",
      "__________________________________________________________________________________________________\n",
      "re_lu (ReLU)                    (None, 9, 21, 64)    0           batch_normalization[0][0]        \n",
      "__________________________________________________________________________________________________\n",
      "conv2d_3 (Conv2D)               (None, 9, 21, 64)    36928       re_lu[0][0]                      \n",
      "__________________________________________________________________________________________________\n",
      "dropout_1 (Dropout)             (None, 9, 21, 64)    0           conv2d_3[0][0]                   \n",
      "__________________________________________________________________________________________________\n",
      "batch_normalization_1 (BatchNor (None, 9, 21, 64)    256         dropout_1[0][0]                  \n",
      "__________________________________________________________________________________________________\n",
      "re_lu_1 (ReLU)                  (None, 9, 21, 64)    0           batch_normalization_1[0][0]      \n",
      "__________________________________________________________________________________________________\n",
      "conv2d_5 (Conv2D)               (None, 9, 21, 64)    36928       re_lu_1[0][0]                    \n",
      "__________________________________________________________________________________________________\n",
      "dropout_3 (Dropout)             (None, 9, 21, 64)    0           conv2d_5[0][0]                   \n",
      "__________________________________________________________________________________________________\n",
      "batch_normalization_3 (BatchNor (None, 9, 21, 64)    256         dropout_3[0][0]                  \n",
      "__________________________________________________________________________________________________\n",
      "re_lu_3 (ReLU)                  (None, 9, 21, 64)    0           batch_normalization_3[0][0]      \n",
      "__________________________________________________________________________________________________\n",
      "add (Add)                       (None, 9, 21, 64)    0           conv2d_1[0][0]                   \n",
      "                                                                 re_lu_3[0][0]                    \n",
      "__________________________________________________________________________________________________\n",
      "re_lu_4 (ReLU)                  (None, 9, 21, 64)    0           add[0][0]                        \n",
      "__________________________________________________________________________________________________\n",
      "conv2d_6 (Conv2D)               (None, 9, 21, 64)    102464      re_lu_4[0][0]                    \n",
      "__________________________________________________________________________________________________\n",
      "conv2d_7 (Conv2D)               (None, 9, 21, 64)    102464      conv2d_6[0][0]                   \n",
      "__________________________________________________________________________________________________\n",
      "dropout_4 (Dropout)             (None, 9, 21, 64)    0           conv2d_7[0][0]                   \n",
      "__________________________________________________________________________________________________\n",
      "batch_normalization_4 (BatchNor (None, 9, 21, 64)    256         dropout_4[0][0]                  \n",
      "__________________________________________________________________________________________________\n",
      "re_lu_5 (ReLU)                  (None, 9, 21, 64)    0           batch_normalization_4[0][0]      \n",
      "__________________________________________________________________________________________________\n",
      "conv2d_8 (Conv2D)               (None, 9, 21, 64)    36928       re_lu_5[0][0]                    \n",
      "__________________________________________________________________________________________________\n",
      "dropout_5 (Dropout)             (None, 9, 21, 64)    0           conv2d_8[0][0]                   \n",
      "__________________________________________________________________________________________________\n",
      "batch_normalization_5 (BatchNor (None, 9, 21, 64)    256         dropout_5[0][0]                  \n",
      "__________________________________________________________________________________________________\n",
      "re_lu_6 (ReLU)                  (None, 9, 21, 64)    0           batch_normalization_5[0][0]      \n",
      "__________________________________________________________________________________________________\n",
      "conv2d_10 (Conv2D)              (None, 9, 21, 64)    36928       re_lu_6[0][0]                    \n",
      "__________________________________________________________________________________________________\n",
      "dropout_7 (Dropout)             (None, 9, 21, 64)    0           conv2d_10[0][0]                  \n",
      "__________________________________________________________________________________________________\n",
      "batch_normalization_7 (BatchNor (None, 9, 21, 64)    256         dropout_7[0][0]                  \n",
      "__________________________________________________________________________________________________\n",
      "re_lu_8 (ReLU)                  (None, 9, 21, 64)    0           batch_normalization_7[0][0]      \n",
      "__________________________________________________________________________________________________\n",
      "add_1 (Add)                     (None, 9, 21, 64)    0           conv2d_6[0][0]                   \n",
      "                                                                 re_lu_8[0][0]                    \n",
      "__________________________________________________________________________________________________\n",
      "re_lu_9 (ReLU)                  (None, 9, 21, 64)    0           add_1[0][0]                      \n",
      "__________________________________________________________________________________________________\n",
      "conv2d_11 (Conv2D)              (None, 9, 21, 64)    102464      re_lu_9[0][0]                    \n",
      "__________________________________________________________________________________________________\n",
      "conv2d_12 (Conv2D)              (None, 9, 21, 64)    102464      conv2d_11[0][0]                  \n",
      "__________________________________________________________________________________________________\n",
      "dropout_8 (Dropout)             (None, 9, 21, 64)    0           conv2d_12[0][0]                  \n",
      "__________________________________________________________________________________________________\n",
      "batch_normalization_8 (BatchNor (None, 9, 21, 64)    256         dropout_8[0][0]                  \n",
      "__________________________________________________________________________________________________\n",
      "re_lu_10 (ReLU)                 (None, 9, 21, 64)    0           batch_normalization_8[0][0]      \n",
      "__________________________________________________________________________________________________\n",
      "conv2d_13 (Conv2D)              (None, 9, 21, 64)    36928       re_lu_10[0][0]                   \n",
      "__________________________________________________________________________________________________\n",
      "dropout_9 (Dropout)             (None, 9, 21, 64)    0           conv2d_13[0][0]                  \n",
      "__________________________________________________________________________________________________\n",
      "batch_normalization_9 (BatchNor (None, 9, 21, 64)    256         dropout_9[0][0]                  \n",
      "__________________________________________________________________________________________________\n",
      "re_lu_11 (ReLU)                 (None, 9, 21, 64)    0           batch_normalization_9[0][0]      \n",
      "__________________________________________________________________________________________________\n",
      "conv2d_15 (Conv2D)              (None, 9, 21, 64)    36928       re_lu_11[0][0]                   \n",
      "__________________________________________________________________________________________________\n",
      "dropout_11 (Dropout)            (None, 9, 21, 64)    0           conv2d_15[0][0]                  \n",
      "__________________________________________________________________________________________________\n",
      "batch_normalization_11 (BatchNo (None, 9, 21, 64)    256         dropout_11[0][0]                 \n",
      "__________________________________________________________________________________________________\n",
      "re_lu_13 (ReLU)                 (None, 9, 21, 64)    0           batch_normalization_11[0][0]     \n",
      "__________________________________________________________________________________________________\n",
      "add_2 (Add)                     (None, 9, 21, 64)    0           conv2d_11[0][0]                  \n",
      "                                                                 re_lu_13[0][0]                   \n",
      "__________________________________________________________________________________________________\n",
      "re_lu_14 (ReLU)                 (None, 9, 21, 64)    0           add_2[0][0]                      \n",
      "__________________________________________________________________________________________________\n",
      "conv2d_16 (Conv2D)              (None, 9, 21, 64)    102464      re_lu_14[0][0]                   \n",
      "__________________________________________________________________________________________________\n",
      "conv2d_17 (Conv2D)              (None, 9, 21, 64)    102464      conv2d_16[0][0]                  \n",
      "__________________________________________________________________________________________________\n",
      "dropout_12 (Dropout)            (None, 9, 21, 64)    0           conv2d_17[0][0]                  \n",
      "__________________________________________________________________________________________________\n",
      "batch_normalization_12 (BatchNo (None, 9, 21, 64)    256         dropout_12[0][0]                 \n",
      "__________________________________________________________________________________________________\n",
      "re_lu_15 (ReLU)                 (None, 9, 21, 64)    0           batch_normalization_12[0][0]     \n",
      "__________________________________________________________________________________________________\n",
      "conv2d_18 (Conv2D)              (None, 9, 21, 64)    36928       re_lu_15[0][0]                   \n",
      "__________________________________________________________________________________________________\n",
      "dropout_13 (Dropout)            (None, 9, 21, 64)    0           conv2d_18[0][0]                  \n",
      "__________________________________________________________________________________________________\n",
      "batch_normalization_13 (BatchNo (None, 9, 21, 64)    256         dropout_13[0][0]                 \n",
      "__________________________________________________________________________________________________\n",
      "re_lu_16 (ReLU)                 (None, 9, 21, 64)    0           batch_normalization_13[0][0]     \n",
      "__________________________________________________________________________________________________\n",
      "conv2d_20 (Conv2D)              (None, 9, 21, 64)    36928       re_lu_16[0][0]                   \n",
      "__________________________________________________________________________________________________\n",
      "dropout_15 (Dropout)            (None, 9, 21, 64)    0           conv2d_20[0][0]                  \n",
      "__________________________________________________________________________________________________\n",
      "batch_normalization_15 (BatchNo (None, 9, 21, 64)    256         dropout_15[0][0]                 \n",
      "__________________________________________________________________________________________________\n",
      "re_lu_18 (ReLU)                 (None, 9, 21, 64)    0           batch_normalization_15[0][0]     \n",
      "__________________________________________________________________________________________________\n",
      "add_3 (Add)                     (None, 9, 21, 64)    0           conv2d_16[0][0]                  \n",
      "                                                                 re_lu_18[0][0]                   \n",
      "__________________________________________________________________________________________________\n",
      "re_lu_19 (ReLU)                 (None, 9, 21, 64)    0           add_3[0][0]                      \n",
      "__________________________________________________________________________________________________\n",
      "conv2d_21 (Conv2D)              (None, 9, 21, 64)    102464      re_lu_19[0][0]                   \n",
      "__________________________________________________________________________________________________\n",
      "conv2d_22 (Conv2D)              (None, 9, 21, 64)    102464      conv2d_21[0][0]                  \n",
      "__________________________________________________________________________________________________\n",
      "dropout_16 (Dropout)            (None, 9, 21, 64)    0           conv2d_22[0][0]                  \n",
      "__________________________________________________________________________________________________\n",
      "batch_normalization_16 (BatchNo (None, 9, 21, 64)    256         dropout_16[0][0]                 \n",
      "__________________________________________________________________________________________________\n",
      "re_lu_20 (ReLU)                 (None, 9, 21, 64)    0           batch_normalization_16[0][0]     \n",
      "__________________________________________________________________________________________________\n",
      "conv2d_23 (Conv2D)              (None, 9, 21, 64)    36928       re_lu_20[0][0]                   \n",
      "__________________________________________________________________________________________________\n",
      "dropout_17 (Dropout)            (None, 9, 21, 64)    0           conv2d_23[0][0]                  \n",
      "__________________________________________________________________________________________________\n",
      "batch_normalization_17 (BatchNo (None, 9, 21, 64)    256         dropout_17[0][0]                 \n",
      "__________________________________________________________________________________________________\n",
      "re_lu_21 (ReLU)                 (None, 9, 21, 64)    0           batch_normalization_17[0][0]     \n",
      "__________________________________________________________________________________________________\n",
      "conv2d_25 (Conv2D)              (None, 9, 21, 64)    36928       re_lu_21[0][0]                   \n",
      "__________________________________________________________________________________________________\n",
      "dropout_19 (Dropout)            (None, 9, 21, 64)    0           conv2d_25[0][0]                  \n",
      "__________________________________________________________________________________________________\n",
      "batch_normalization_19 (BatchNo (None, 9, 21, 64)    256         dropout_19[0][0]                 \n",
      "__________________________________________________________________________________________________\n",
      "re_lu_23 (ReLU)                 (None, 9, 21, 64)    0           batch_normalization_19[0][0]     \n",
      "__________________________________________________________________________________________________\n",
      "add_4 (Add)                     (None, 9, 21, 64)    0           conv2d_21[0][0]                  \n",
      "                                                                 re_lu_23[0][0]                   \n",
      "__________________________________________________________________________________________________\n",
      "re_lu_24 (ReLU)                 (None, 9, 21, 64)    0           add_4[0][0]                      \n",
      "__________________________________________________________________________________________________\n",
      "tf.math.reduce_sum (TFOpLambda) (None, 9, 21)        0           re_lu_24[0][0]                   \n",
      "__________________________________________________________________________________________________\n",
      "lstm (LSTM)                     (None, 9, 512)       1093632     tf.math.reduce_sum[0][0]         \n",
      "__________________________________________________________________________________________________\n",
      "lstm_1 (LSTM)                   (None, 9, 512)       2099200     lstm[0][0]                       \n",
      "__________________________________________________________________________________________________\n",
      "lstm_2 (LSTM)                   (None, 9, 512)       2099200     lstm_1[0][0]                     \n",
      "__________________________________________________________________________________________________\n",
      "lstm_3 (LSTM)                   (None, 64)           147712      lstm_2[0][0]                     \n",
      "__________________________________________________________________________________________________\n",
      "dense (Dense)                   (None, 512)          33280       lstm_3[0][0]                     \n",
      "__________________________________________________________________________________________________\n",
      "dropout_20 (Dropout)            (None, 512)          0           dense[0][0]                      \n",
      "__________________________________________________________________________________________________\n",
      "dense_1 (Dense)                 (None, 22)           11286       dropout_20[0][0]                 \n",
      "==================================================================================================\n",
      "Total params: 6,831,190\n",
      "Trainable params: 6,829,270\n",
      "Non-trainable params: 1,920\n",
      "__________________________________________________________________________________________________\n",
      "Training start time:26_January_22_1631\n",
      "Epoch 1/300\n",
      "   6/1359 [..............................] - ETA: 10:07 - loss: 3.0911 - accuracy: 0.0674 - top-3-accuracy: 0.2165WARNING:tensorflow:Callback method `on_train_batch_end` is slow compared to the batch time (batch time: 0.1893s vs `on_train_batch_end` time: 0.2163s). Check your callbacks.\n",
      "1359/1359 [==============================] - 453s 326ms/step - loss: 2.8418 - accuracy: 0.1154 - top-3-accuracy: 0.3198 - val_loss: 2.8128 - val_accuracy: 0.1155 - val_top-3-accuracy: 0.3800\n"
     ]
    },
    {
     "name": "stderr",
     "output_type": "stream",
     "text": [
      "C:\\Users\\i368o351\\Anaconda3\\envs\\ibk_sept21_tf2.5\\lib\\site-packages\\keras\\utils\\generic_utils.py:494: CustomMaskWarning: Custom mask layers require a config and must override get_config. When loading, the custom mask layer must be passed to the custom_objects argument.\n",
      "  warnings.warn('Custom mask layers require a config and must override '\n"
     ]
    },
    {
     "name": "stdout",
     "output_type": "stream",
     "text": [
      "Epoch 2/300\n",
      "1359/1359 [==============================] - 445s 327ms/step - loss: 2.7751 - accuracy: 0.1842 - top-3-accuracy: 0.4124 - val_loss: 2.5496 - val_accuracy: 0.3816 - val_top-3-accuracy: 0.6400\n",
      "Epoch 3/300\n",
      "1359/1359 [==============================] - 444s 327ms/step - loss: 2.7374 - accuracy: 0.2266 - top-3-accuracy: 0.4410 - val_loss: 2.5542 - val_accuracy: 0.3542 - val_top-3-accuracy: 0.6142\n",
      "Epoch 4/300\n",
      "1359/1359 [==============================] - 447s 329ms/step - loss: 2.7285 - accuracy: 0.2363 - top-3-accuracy: 0.4452 - val_loss: 2.5447 - val_accuracy: 0.3746 - val_top-3-accuracy: 0.6062\n",
      "Epoch 5/300\n",
      "1359/1359 [==============================] - 444s 327ms/step - loss: 2.7242 - accuracy: 0.2402 - top-3-accuracy: 0.4476 - val_loss: 2.4738 - val_accuracy: 0.4345 - val_top-3-accuracy: 0.6611\n",
      "Epoch 6/300\n",
      "1359/1359 [==============================] - 446s 328ms/step - loss: 2.7211 - accuracy: 0.2431 - top-3-accuracy: 0.4500 - val_loss: 2.4754 - val_accuracy: 0.4297 - val_top-3-accuracy: 0.6539\n",
      "Epoch 7/300\n",
      "1359/1359 [==============================] - 446s 328ms/step - loss: 2.7182 - accuracy: 0.2457 - top-3-accuracy: 0.4515 - val_loss: 2.4712 - val_accuracy: 0.4465 - val_top-3-accuracy: 0.6642\n",
      "Epoch 8/300\n",
      "1359/1359 [==============================] - 446s 328ms/step - loss: 2.7148 - accuracy: 0.2493 - top-3-accuracy: 0.4538 - val_loss: 2.4597 - val_accuracy: 0.4464 - val_top-3-accuracy: 0.6584\n",
      "Epoch 9/300\n",
      "1359/1359 [==============================] - 447s 329ms/step - loss: 2.7116 - accuracy: 0.2526 - top-3-accuracy: 0.4562 - val_loss: 2.4361 - val_accuracy: 0.4621 - val_top-3-accuracy: 0.6714\n",
      "Epoch 10/300\n",
      "1359/1359 [==============================] - 446s 328ms/step - loss: 2.7079 - accuracy: 0.2566 - top-3-accuracy: 0.4579 - val_loss: 2.4498 - val_accuracy: 0.4526 - val_top-3-accuracy: 0.6652\n",
      "Epoch 11/300\n",
      "1359/1359 [==============================] - 446s 328ms/step - loss: 2.7041 - accuracy: 0.2608 - top-3-accuracy: 0.4594 - val_loss: 2.4309 - val_accuracy: 0.4702 - val_top-3-accuracy: 0.6716\n",
      "Epoch 12/300\n",
      "1359/1359 [==============================] - 446s 328ms/step - loss: 2.7003 - accuracy: 0.2647 - top-3-accuracy: 0.4615 - val_loss: 2.4486 - val_accuracy: 0.4481 - val_top-3-accuracy: 0.6546\n",
      "Epoch 13/300\n",
      "1359/1359 [==============================] - 446s 328ms/step - loss: 2.6961 - accuracy: 0.2690 - top-3-accuracy: 0.4634 - val_loss: 2.4045 - val_accuracy: 0.4848 - val_top-3-accuracy: 0.6761\n",
      "Epoch 14/300\n",
      "1359/1359 [==============================] - 446s 328ms/step - loss: 2.6918 - accuracy: 0.2737 - top-3-accuracy: 0.4659 - val_loss: 2.4144 - val_accuracy: 0.4677 - val_top-3-accuracy: 0.6719\n",
      "Epoch 15/300\n",
      "1359/1359 [==============================] - 446s 328ms/step - loss: 2.6882 - accuracy: 0.2774 - top-3-accuracy: 0.4672 - val_loss: 2.4168 - val_accuracy: 0.4845 - val_top-3-accuracy: 0.6728\n",
      "Epoch 16/300\n",
      "1359/1359 [==============================] - 444s 327ms/step - loss: 2.6843 - accuracy: 0.2809 - top-3-accuracy: 0.4693 - val_loss: 2.3792 - val_accuracy: 0.4971 - val_top-3-accuracy: 0.6799\n",
      "Epoch 17/300\n",
      "1359/1359 [==============================] - 444s 327ms/step - loss: 2.6809 - accuracy: 0.2840 - top-3-accuracy: 0.4711 - val_loss: 2.4024 - val_accuracy: 0.4836 - val_top-3-accuracy: 0.6682\n",
      "Epoch 18/300\n",
      "1359/1359 [==============================] - 444s 327ms/step - loss: 2.6768 - accuracy: 0.2880 - top-3-accuracy: 0.4729 - val_loss: 2.4293 - val_accuracy: 0.4601 - val_top-3-accuracy: 0.6584\n",
      "Epoch 19/300\n",
      "1359/1359 [==============================] - 443s 326ms/step - loss: 2.6746 - accuracy: 0.2901 - top-3-accuracy: 0.4741 - val_loss: 2.4181 - val_accuracy: 0.4735 - val_top-3-accuracy: 0.6617\n",
      "\n",
      "Epoch 00019: ReduceLROnPlateau reducing learning rate to 0.00010000000474974513.\n",
      "Epoch 20/300\n",
      "1359/1359 [==============================] - 445s 327ms/step - loss: 2.6629 - accuracy: 0.3000 - top-3-accuracy: 0.4792 - val_loss: 2.3423 - val_accuracy: 0.5329 - val_top-3-accuracy: 0.6861\n",
      "Epoch 21/300\n",
      "1359/1359 [==============================] - 444s 326ms/step - loss: 2.6523 - accuracy: 0.3091 - top-3-accuracy: 0.4836 - val_loss: 2.3360 - val_accuracy: 0.5382 - val_top-3-accuracy: 0.6852\n",
      "Epoch 22/300\n",
      "1359/1359 [==============================] - 445s 327ms/step - loss: 2.6492 - accuracy: 0.3116 - top-3-accuracy: 0.4850 - val_loss: 2.3379 - val_accuracy: 0.5406 - val_top-3-accuracy: 0.6841\n",
      "Epoch 23/300\n",
      "1359/1359 [==============================] - 445s 328ms/step - loss: 2.6470 - accuracy: 0.3130 - top-3-accuracy: 0.4862 - val_loss: 2.3283 - val_accuracy: 0.5401 - val_top-3-accuracy: 0.6858\n",
      "Epoch 24/300\n",
      "1359/1359 [==============================] - 444s 327ms/step - loss: 2.6457 - accuracy: 0.3139 - top-3-accuracy: 0.4867 - val_loss: 2.3278 - val_accuracy: 0.5427 - val_top-3-accuracy: 0.6855\n",
      "Epoch 25/300\n",
      "1359/1359 [==============================] - 445s 327ms/step - loss: 2.6439 - accuracy: 0.3152 - top-3-accuracy: 0.4880 - val_loss: 2.3281 - val_accuracy: 0.5420 - val_top-3-accuracy: 0.6849\n",
      "Epoch 26/300\n",
      "1359/1359 [==============================] - 445s 328ms/step - loss: 2.6428 - accuracy: 0.3160 - top-3-accuracy: 0.4884 - val_loss: 2.3259 - val_accuracy: 0.5461 - val_top-3-accuracy: 0.6867\n",
      "Epoch 27/300\n",
      "1359/1359 [==============================] - 445s 328ms/step - loss: 2.6417 - accuracy: 0.3167 - top-3-accuracy: 0.4894 - val_loss: 2.3287 - val_accuracy: 0.5449 - val_top-3-accuracy: 0.6856\n",
      "Epoch 28/300\n",
      "1359/1359 [==============================] - 445s 327ms/step - loss: 2.6405 - accuracy: 0.3175 - top-3-accuracy: 0.4893 - val_loss: 2.3251 - val_accuracy: 0.5467 - val_top-3-accuracy: 0.6861\n",
      "Epoch 29/300\n",
      "1359/1359 [==============================] - 445s 327ms/step - loss: 2.6398 - accuracy: 0.3179 - top-3-accuracy: 0.4896 - val_loss: 2.3269 - val_accuracy: 0.5460 - val_top-3-accuracy: 0.6860\n",
      "Epoch 30/300\n",
      "1359/1359 [==============================] - 444s 326ms/step - loss: 2.6389 - accuracy: 0.3186 - top-3-accuracy: 0.4903 - val_loss: 2.3278 - val_accuracy: 0.5464 - val_top-3-accuracy: 0.6851\n",
      "Epoch 31/300\n",
      "1359/1359 [==============================] - 444s 326ms/step - loss: 2.6380 - accuracy: 0.3190 - top-3-accuracy: 0.4907 - val_loss: 2.3204 - val_accuracy: 0.5489 - val_top-3-accuracy: 0.6862\n",
      "Epoch 32/300\n",
      "1359/1359 [==============================] - 443s 326ms/step - loss: 2.6373 - accuracy: 0.3194 - top-3-accuracy: 0.4910 - val_loss: 2.3223 - val_accuracy: 0.5473 - val_top-3-accuracy: 0.6860\n",
      "Epoch 33/300\n",
      "1359/1359 [==============================] - 445s 328ms/step - loss: 2.6361 - accuracy: 0.3200 - top-3-accuracy: 0.4914 - val_loss: 2.3197 - val_accuracy: 0.5502 - val_top-3-accuracy: 0.6858\n",
      "Epoch 34/300\n",
      "1359/1359 [==============================] - 443s 326ms/step - loss: 2.6356 - accuracy: 0.3201 - top-3-accuracy: 0.4920 - val_loss: 2.3208 - val_accuracy: 0.5503 - val_top-3-accuracy: 0.6860\n",
      "Epoch 35/300\n",
      "1359/1359 [==============================] - 444s 326ms/step - loss: 2.6347 - accuracy: 0.3208 - top-3-accuracy: 0.4925 - val_loss: 2.3255 - val_accuracy: 0.5494 - val_top-3-accuracy: 0.6841\n",
      "Epoch 36/300\n",
      "1359/1359 [==============================] - 443s 326ms/step - loss: 2.6345 - accuracy: 0.3211 - top-3-accuracy: 0.4923 - val_loss: 2.3242 - val_accuracy: 0.5468 - val_top-3-accuracy: 0.6847\n",
      "\n",
      "Epoch 00036: ReduceLROnPlateau reducing learning rate to 0.0001.\n",
      "Epoch 37/300\n",
      "1359/1359 [==============================] - 446s 328ms/step - loss: 2.6333 - accuracy: 0.3217 - top-3-accuracy: 0.4930 - val_loss: 2.3217 - val_accuracy: 0.5494 - val_top-3-accuracy: 0.6853\n",
      "Epoch 38/300\n",
      "1359/1359 [==============================] - 447s 329ms/step - loss: 2.6325 - accuracy: 0.3220 - top-3-accuracy: 0.4934 - val_loss: 2.3223 - val_accuracy: 0.5496 - val_top-3-accuracy: 0.6854\n",
      "Epoch 39/300\n",
      "1359/1359 [==============================] - 446s 328ms/step - loss: 2.6320 - accuracy: 0.3222 - top-3-accuracy: 0.4937 - val_loss: 2.3168 - val_accuracy: 0.5527 - val_top-3-accuracy: 0.6873\n",
      "Epoch 40/300\n",
      "1359/1359 [==============================] - 446s 328ms/step - loss: 2.6314 - accuracy: 0.3225 - top-3-accuracy: 0.4939 - val_loss: 2.3176 - val_accuracy: 0.5514 - val_top-3-accuracy: 0.6863\n",
      "Epoch 41/300\n",
      "1359/1359 [==============================] - 446s 328ms/step - loss: 2.6311 - accuracy: 0.3225 - top-3-accuracy: 0.4945 - val_loss: 2.3140 - val_accuracy: 0.5537 - val_top-3-accuracy: 0.6870\n",
      "Epoch 42/300\n",
      "1359/1359 [==============================] - 444s 327ms/step - loss: 2.6304 - accuracy: 0.3230 - top-3-accuracy: 0.4946 - val_loss: 2.3184 - val_accuracy: 0.5492 - val_top-3-accuracy: 0.6858\n",
      "Epoch 43/300\n",
      "1359/1359 [==============================] - 444s 327ms/step - loss: 2.6297 - accuracy: 0.3235 - top-3-accuracy: 0.4952 - val_loss: 2.3148 - val_accuracy: 0.5500 - val_top-3-accuracy: 0.6855\n",
      "Epoch 44/300\n",
      "1359/1359 [==============================] - 444s 327ms/step - loss: 2.6290 - accuracy: 0.3237 - top-3-accuracy: 0.4952 - val_loss: 2.3166 - val_accuracy: 0.5503 - val_top-3-accuracy: 0.6863\n",
      "Epoch 45/300\n",
      "1359/1359 [==============================] - 444s 326ms/step - loss: 2.6287 - accuracy: 0.3237 - top-3-accuracy: 0.4953 - val_loss: 2.3162 - val_accuracy: 0.5513 - val_top-3-accuracy: 0.6872\n",
      "Epoch 46/300\n",
      "1359/1359 [==============================] - 445s 327ms/step - loss: 2.6280 - accuracy: 0.3240 - top-3-accuracy: 0.4959 - val_loss: 2.3180 - val_accuracy: 0.5526 - val_top-3-accuracy: 0.6858\n",
      "Epoch 47/300\n",
      "1359/1359 [==============================] - 445s 328ms/step - loss: 2.6277 - accuracy: 0.3241 - top-3-accuracy: 0.4964 - val_loss: 2.3230 - val_accuracy: 0.5482 - val_top-3-accuracy: 0.6840\n",
      "Epoch 48/300\n",
      "1359/1359 [==============================] - 445s 327ms/step - loss: 2.6269 - accuracy: 0.3246 - top-3-accuracy: 0.4965 - val_loss: 2.3187 - val_accuracy: 0.5514 - val_top-3-accuracy: 0.6847\n",
      "Epoch 49/300\n",
      "1359/1359 [==============================] - 444s 326ms/step - loss: 2.6264 - accuracy: 0.3247 - top-3-accuracy: 0.4970 - val_loss: 2.3196 - val_accuracy: 0.5530 - val_top-3-accuracy: 0.6858\n",
      "Epoch 50/300\n",
      "1359/1359 [==============================] - 444s 326ms/step - loss: 2.6257 - accuracy: 0.3249 - top-3-accuracy: 0.4971 - val_loss: 2.3130 - val_accuracy: 0.5528 - val_top-3-accuracy: 0.6856\n",
      "Epoch 51/300\n",
      "1359/1359 [==============================] - 444s 327ms/step - loss: 2.6255 - accuracy: 0.3251 - top-3-accuracy: 0.4975 - val_loss: 2.3145 - val_accuracy: 0.5528 - val_top-3-accuracy: 0.6870\n",
      "Epoch 52/300\n",
      "1359/1359 [==============================] - 443s 326ms/step - loss: 2.6248 - accuracy: 0.3252 - top-3-accuracy: 0.4977 - val_loss: 2.3206 - val_accuracy: 0.5490 - val_top-3-accuracy: 0.6851\n",
      "Epoch 53/300\n",
      "1359/1359 [==============================] - 444s 327ms/step - loss: 2.6243 - accuracy: 0.3257 - top-3-accuracy: 0.4983 - val_loss: 2.3221 - val_accuracy: 0.5476 - val_top-3-accuracy: 0.6847\n",
      "Epoch 54/300\n",
      "1359/1359 [==============================] - 444s 327ms/step - loss: 2.6239 - accuracy: 0.3257 - top-3-accuracy: 0.4988 - val_loss: 2.3168 - val_accuracy: 0.5520 - val_top-3-accuracy: 0.6848\n",
      "Epoch 55/300\n",
      "1359/1359 [==============================] - 444s 326ms/step - loss: 2.6235 - accuracy: 0.3257 - top-3-accuracy: 0.4990 - val_loss: 2.3133 - val_accuracy: 0.5539 - val_top-3-accuracy: 0.6862\n",
      "Epoch 56/300\n",
      "1359/1359 [==============================] - 446s 328ms/step - loss: 2.6230 - accuracy: 0.3260 - top-3-accuracy: 0.4990 - val_loss: 2.3181 - val_accuracy: 0.5513 - val_top-3-accuracy: 0.6861\n",
      "Epoch 57/300\n",
      "1359/1359 [==============================] - 444s 327ms/step - loss: 2.6224 - accuracy: 0.3263 - top-3-accuracy: 0.4989 - val_loss: 2.3226 - val_accuracy: 0.5460 - val_top-3-accuracy: 0.6836\n",
      "Epoch 58/300\n",
      "1359/1359 [==============================] - 444s 327ms/step - loss: 2.6221 - accuracy: 0.3264 - top-3-accuracy: 0.4997 - val_loss: 2.3226 - val_accuracy: 0.5477 - val_top-3-accuracy: 0.6835\n",
      "Epoch 59/300\n",
      "1359/1359 [==============================] - 444s 327ms/step - loss: 2.6217 - accuracy: 0.3263 - top-3-accuracy: 0.5001 - val_loss: 2.3248 - val_accuracy: 0.5450 - val_top-3-accuracy: 0.6841\n",
      "Epoch 60/300\n",
      "1359/1359 [==============================] - 445s 327ms/step - loss: 2.6212 - accuracy: 0.3268 - top-3-accuracy: 0.5002 - val_loss: 2.3143 - val_accuracy: 0.5521 - val_top-3-accuracy: 0.6863\n",
      "Epoch 61/300\n",
      "1359/1359 [==============================] - 443s 326ms/step - loss: 2.6207 - accuracy: 0.3270 - top-3-accuracy: 0.5004 - val_loss: 2.3108 - val_accuracy: 0.5514 - val_top-3-accuracy: 0.6871\n",
      "Epoch 62/300\n",
      "1359/1359 [==============================] - 445s 327ms/step - loss: 2.6204 - accuracy: 0.3268 - top-3-accuracy: 0.5007 - val_loss: 2.3171 - val_accuracy: 0.5473 - val_top-3-accuracy: 0.6852\n",
      "Epoch 63/300\n",
      "1359/1359 [==============================] - 444s 327ms/step - loss: 2.6200 - accuracy: 0.3270 - top-3-accuracy: 0.5010 - val_loss: 2.3117 - val_accuracy: 0.5548 - val_top-3-accuracy: 0.6864\n",
      "Epoch 64/300\n",
      "1359/1359 [==============================] - 444s 326ms/step - loss: 2.6194 - accuracy: 0.3272 - top-3-accuracy: 0.5013 - val_loss: 2.3176 - val_accuracy: 0.5477 - val_top-3-accuracy: 0.6841\n",
      "Epoch 65/300\n",
      "1359/1359 [==============================] - 444s 327ms/step - loss: 2.6191 - accuracy: 0.3274 - top-3-accuracy: 0.5013 - val_loss: 2.3206 - val_accuracy: 0.5520 - val_top-3-accuracy: 0.6851\n",
      "Epoch 66/300\n",
      "1359/1359 [==============================] - 444s 327ms/step - loss: 2.6186 - accuracy: 0.3275 - top-3-accuracy: 0.5016 - val_loss: 2.3114 - val_accuracy: 0.5513 - val_top-3-accuracy: 0.6867\n",
      "Epoch 67/300\n",
      "1359/1359 [==============================] - 444s 327ms/step - loss: 2.6178 - accuracy: 0.3278 - top-3-accuracy: 0.5023 - val_loss: 2.3271 - val_accuracy: 0.5476 - val_top-3-accuracy: 0.6828\n",
      "Epoch 68/300\n",
      "1359/1359 [==============================] - 445s 328ms/step - loss: 2.6177 - accuracy: 0.3278 - top-3-accuracy: 0.5024 - val_loss: 2.3188 - val_accuracy: 0.5479 - val_top-3-accuracy: 0.6842\n",
      "Epoch 69/300\n",
      "1359/1359 [==============================] - 445s 327ms/step - loss: 2.6177 - accuracy: 0.3276 - top-3-accuracy: 0.5028 - val_loss: 2.3184 - val_accuracy: 0.5485 - val_top-3-accuracy: 0.6843\n",
      "Epoch 70/300\n",
      "1359/1359 [==============================] - 445s 328ms/step - loss: 2.6173 - accuracy: 0.3279 - top-3-accuracy: 0.5027 - val_loss: 2.3178 - val_accuracy: 0.5489 - val_top-3-accuracy: 0.6844\n",
      "Epoch 71/300\n",
      "1359/1359 [==============================] - 445s 327ms/step - loss: 2.6167 - accuracy: 0.3282 - top-3-accuracy: 0.5033 - val_loss: 2.3202 - val_accuracy: 0.5497 - val_top-3-accuracy: 0.6841\n",
      "Epoch 72/300\n",
      "1359/1359 [==============================] - 446s 328ms/step - loss: 2.6162 - accuracy: 0.3284 - top-3-accuracy: 0.5036 - val_loss: 2.3250 - val_accuracy: 0.5439 - val_top-3-accuracy: 0.6827\n",
      "Epoch 73/300\n",
      "1359/1359 [==============================] - 444s 327ms/step - loss: 2.6158 - accuracy: 0.3284 - top-3-accuracy: 0.5043 - val_loss: 2.3164 - val_accuracy: 0.5507 - val_top-3-accuracy: 0.6856\n",
      "Epoch 74/300\n",
      "1359/1359 [==============================] - 445s 327ms/step - loss: 2.6154 - accuracy: 0.3284 - top-3-accuracy: 0.5045 - val_loss: 2.3178 - val_accuracy: 0.5487 - val_top-3-accuracy: 0.6834\n",
      "Epoch 75/300\n",
      "1359/1359 [==============================] - 446s 328ms/step - loss: 2.6150 - accuracy: 0.3289 - top-3-accuracy: 0.5045 - val_loss: 2.3137 - val_accuracy: 0.5513 - val_top-3-accuracy: 0.6855\n",
      "Epoch 76/300\n",
      "1359/1359 [==============================] - 444s 327ms/step - loss: 2.6146 - accuracy: 0.3286 - top-3-accuracy: 0.5046 - val_loss: 2.3223 - val_accuracy: 0.5496 - val_top-3-accuracy: 0.6829\n",
      "Epoch 77/300\n",
      "1359/1359 [==============================] - 445s 327ms/step - loss: 2.6142 - accuracy: 0.3290 - top-3-accuracy: 0.5052 - val_loss: 2.3272 - val_accuracy: 0.5423 - val_top-3-accuracy: 0.6822\n",
      "Epoch 78/300\n",
      "1359/1359 [==============================] - 443s 326ms/step - loss: 2.6141 - accuracy: 0.3289 - top-3-accuracy: 0.5051 - val_loss: 2.3283 - val_accuracy: 0.5485 - val_top-3-accuracy: 0.6825\n",
      "Epoch 79/300\n",
      "1359/1359 [==============================] - 445s 328ms/step - loss: 2.6134 - accuracy: 0.3291 - top-3-accuracy: 0.5056 - val_loss: 2.3218 - val_accuracy: 0.5491 - val_top-3-accuracy: 0.6842\n",
      "Epoch 80/300\n",
      "1359/1359 [==============================] - 444s 327ms/step - loss: 2.6132 - accuracy: 0.3292 - top-3-accuracy: 0.5063 - val_loss: 2.3213 - val_accuracy: 0.5502 - val_top-3-accuracy: 0.6836\n",
      "Epoch 81/300\n",
      "1359/1359 [==============================] - 444s 327ms/step - loss: 2.6126 - accuracy: 0.3293 - top-3-accuracy: 0.5063 - val_loss: 2.3169 - val_accuracy: 0.5479 - val_top-3-accuracy: 0.6843\n",
      "Epoch 82/300\n",
      "1359/1359 [==============================] - 445s 328ms/step - loss: 2.6127 - accuracy: 0.3291 - top-3-accuracy: 0.5063 - val_loss: 2.3234 - val_accuracy: 0.5480 - val_top-3-accuracy: 0.6830\n",
      "Epoch 83/300\n",
      "1359/1359 [==============================] - 445s 327ms/step - loss: 2.6120 - accuracy: 0.3295 - top-3-accuracy: 0.5070 - val_loss: 2.3237 - val_accuracy: 0.5447 - val_top-3-accuracy: 0.6834\n",
      "Epoch 84/300\n",
      "1359/1359 [==============================] - 443s 326ms/step - loss: 2.6115 - accuracy: 0.3299 - top-3-accuracy: 0.5072 - val_loss: 2.3229 - val_accuracy: 0.5480 - val_top-3-accuracy: 0.6849\n",
      "Epoch 85/300\n",
      "1359/1359 [==============================] - 445s 328ms/step - loss: 2.6114 - accuracy: 0.3298 - top-3-accuracy: 0.5077 - val_loss: 2.3220 - val_accuracy: 0.5470 - val_top-3-accuracy: 0.6824\n",
      "Epoch 86/300\n",
      "1359/1359 [==============================] - 445s 328ms/step - loss: 2.6108 - accuracy: 0.3298 - top-3-accuracy: 0.5076 - val_loss: 2.3202 - val_accuracy: 0.5457 - val_top-3-accuracy: 0.6824\n",
      "Epoch 87/300\n",
      "1359/1359 [==============================] - 445s 327ms/step - loss: 2.6104 - accuracy: 0.3298 - top-3-accuracy: 0.5085 - val_loss: 2.3346 - val_accuracy: 0.5387 - val_top-3-accuracy: 0.6777\n",
      "Epoch 88/300\n",
      "1359/1359 [==============================] - 445s 328ms/step - loss: 2.6103 - accuracy: 0.3298 - top-3-accuracy: 0.5086 - val_loss: 2.3220 - val_accuracy: 0.5431 - val_top-3-accuracy: 0.6823\n",
      "Epoch 89/300\n",
      "1359/1359 [==============================] - 445s 328ms/step - loss: 2.6098 - accuracy: 0.3299 - top-3-accuracy: 0.5087 - val_loss: 2.3204 - val_accuracy: 0.5475 - val_top-3-accuracy: 0.6843\n",
      "Epoch 90/300\n",
      "1359/1359 [==============================] - 445s 328ms/step - loss: 2.6091 - accuracy: 0.3301 - top-3-accuracy: 0.5094 - val_loss: 2.3254 - val_accuracy: 0.5452 - val_top-3-accuracy: 0.6812\n",
      "Epoch 91/300\n",
      "1359/1359 [==============================] - 444s 327ms/step - loss: 2.6088 - accuracy: 0.3301 - top-3-accuracy: 0.5098 - val_loss: 2.3232 - val_accuracy: 0.5439 - val_top-3-accuracy: 0.6809\n",
      "Epoch 92/300\n",
      "1359/1359 [==============================] - 444s 327ms/step - loss: 2.6084 - accuracy: 0.3303 - top-3-accuracy: 0.5097 - val_loss: 2.3322 - val_accuracy: 0.5427 - val_top-3-accuracy: 0.6792\n",
      "Epoch 93/300\n",
      "1359/1359 [==============================] - 444s 327ms/step - loss: 2.6080 - accuracy: 0.3303 - top-3-accuracy: 0.5102 - val_loss: 2.3224 - val_accuracy: 0.5448 - val_top-3-accuracy: 0.6807\n",
      "Epoch 94/300\n",
      "1359/1359 [==============================] - 446s 328ms/step - loss: 2.6080 - accuracy: 0.3303 - top-3-accuracy: 0.5098 - val_loss: 2.3224 - val_accuracy: 0.5468 - val_top-3-accuracy: 0.6818\n",
      "Epoch 95/300\n",
      "1359/1359 [==============================] - 444s 327ms/step - loss: 2.6076 - accuracy: 0.3304 - top-3-accuracy: 0.5112 - val_loss: 2.3271 - val_accuracy: 0.5446 - val_top-3-accuracy: 0.6811\n",
      "Epoch 96/300\n",
      "1359/1359 [==============================] - 444s 327ms/step - loss: 2.6073 - accuracy: 0.3304 - top-3-accuracy: 0.5113 - val_loss: 2.3389 - val_accuracy: 0.5404 - val_top-3-accuracy: 0.6786\n",
      "Epoch 97/300\n",
      "1359/1359 [==============================] - 445s 327ms/step - loss: 2.6069 - accuracy: 0.3303 - top-3-accuracy: 0.5114 - val_loss: 2.3236 - val_accuracy: 0.5433 - val_top-3-accuracy: 0.6818\n",
      "Epoch 98/300\n",
      "1359/1359 [==============================] - 444s 327ms/step - loss: 2.6065 - accuracy: 0.3306 - top-3-accuracy: 0.5116 - val_loss: 2.3249 - val_accuracy: 0.5467 - val_top-3-accuracy: 0.6823\n",
      "Epoch 99/300\n",
      "1359/1359 [==============================] - 446s 328ms/step - loss: 2.6061 - accuracy: 0.3308 - top-3-accuracy: 0.5123 - val_loss: 2.3230 - val_accuracy: 0.5444 - val_top-3-accuracy: 0.6819\n",
      "Epoch 100/300\n",
      "1359/1359 [==============================] - 445s 328ms/step - loss: 2.6055 - accuracy: 0.3309 - top-3-accuracy: 0.5127 - val_loss: 2.3264 - val_accuracy: 0.5449 - val_top-3-accuracy: 0.6800\n",
      "Epoch 101/300\n",
      "1359/1359 [==============================] - 443s 326ms/step - loss: 2.6055 - accuracy: 0.3304 - top-3-accuracy: 0.5127 - val_loss: 2.3270 - val_accuracy: 0.5439 - val_top-3-accuracy: 0.6801\n",
      "Epoch 102/300\n",
      "1359/1359 [==============================] - 445s 327ms/step - loss: 2.6051 - accuracy: 0.3311 - top-3-accuracy: 0.5130 - val_loss: 2.3356 - val_accuracy: 0.5431 - val_top-3-accuracy: 0.6790\n",
      "Epoch 103/300\n",
      "1359/1359 [==============================] - 444s 327ms/step - loss: 2.6046 - accuracy: 0.3311 - top-3-accuracy: 0.5138 - val_loss: 2.3320 - val_accuracy: 0.5409 - val_top-3-accuracy: 0.6785\n",
      "Epoch 104/300\n",
      "1359/1359 [==============================] - 444s 327ms/step - loss: 2.6042 - accuracy: 0.3313 - top-3-accuracy: 0.5139 - val_loss: 2.3349 - val_accuracy: 0.5408 - val_top-3-accuracy: 0.6795\n",
      "Epoch 105/300\n",
      "1359/1359 [==============================] - 446s 328ms/step - loss: 2.6039 - accuracy: 0.3311 - top-3-accuracy: 0.5135 - val_loss: 2.3388 - val_accuracy: 0.5406 - val_top-3-accuracy: 0.6766\n",
      "Epoch 106/300\n",
      "1359/1359 [==============================] - 445s 327ms/step - loss: 2.6034 - accuracy: 0.3315 - top-3-accuracy: 0.5143 - val_loss: 2.3224 - val_accuracy: 0.5459 - val_top-3-accuracy: 0.6827\n",
      "Epoch 107/300\n",
      "1359/1359 [==============================] - 444s 327ms/step - loss: 2.6033 - accuracy: 0.3312 - top-3-accuracy: 0.5147 - val_loss: 2.3338 - val_accuracy: 0.5396 - val_top-3-accuracy: 0.6795\n",
      "Epoch 108/300\n",
      "1359/1359 [==============================] - 444s 327ms/step - loss: 2.6031 - accuracy: 0.3314 - top-3-accuracy: 0.5153 - val_loss: 2.3333 - val_accuracy: 0.5377 - val_top-3-accuracy: 0.6788\n",
      "Epoch 109/300\n",
      "1359/1359 [==============================] - 445s 327ms/step - loss: 2.6028 - accuracy: 0.3312 - top-3-accuracy: 0.5150 - val_loss: 2.3314 - val_accuracy: 0.5429 - val_top-3-accuracy: 0.6784\n",
      "Epoch 110/300\n",
      "1359/1359 [==============================] - 446s 328ms/step - loss: 2.6022 - accuracy: 0.3315 - top-3-accuracy: 0.5155 - val_loss: 2.3328 - val_accuracy: 0.5407 - val_top-3-accuracy: 0.6786\n",
      "Epoch 111/300\n",
      "1359/1359 [==============================] - 444s 327ms/step - loss: 2.6015 - accuracy: 0.3317 - top-3-accuracy: 0.5157 - val_loss: 2.3316 - val_accuracy: 0.5429 - val_top-3-accuracy: 0.6787\n",
      "Epoch 112/300\n",
      "1359/1359 [==============================] - 444s 327ms/step - loss: 2.6013 - accuracy: 0.3316 - top-3-accuracy: 0.5160 - val_loss: 2.3540 - val_accuracy: 0.5331 - val_top-3-accuracy: 0.6730\n",
      "Epoch 113/300\n",
      "1359/1359 [==============================] - 447s 329ms/step - loss: 2.6008 - accuracy: 0.3316 - top-3-accuracy: 0.5170 - val_loss: 2.3544 - val_accuracy: 0.5222 - val_top-3-accuracy: 0.6714\n",
      "Epoch 114/300\n",
      "1359/1359 [==============================] - 447s 329ms/step - loss: 2.6009 - accuracy: 0.3317 - top-3-accuracy: 0.5170 - val_loss: 2.3302 - val_accuracy: 0.5385 - val_top-3-accuracy: 0.6795\n",
      "Epoch 115/300\n",
      "1359/1359 [==============================] - 446s 328ms/step - loss: 2.6003 - accuracy: 0.3315 - top-3-accuracy: 0.5170 - val_loss: 2.3369 - val_accuracy: 0.5400 - val_top-3-accuracy: 0.6776\n",
      "Epoch 116/300\n",
      "1359/1359 [==============================] - 446s 328ms/step - loss: 2.6000 - accuracy: 0.3319 - top-3-accuracy: 0.5174 - val_loss: 2.3282 - val_accuracy: 0.5391 - val_top-3-accuracy: 0.6778\n",
      "Epoch 117/300\n",
      "1359/1359 [==============================] - 446s 329ms/step - loss: 2.5998 - accuracy: 0.3318 - top-3-accuracy: 0.5181 - val_loss: 2.3318 - val_accuracy: 0.5414 - val_top-3-accuracy: 0.6790\n",
      "Epoch 118/300\n",
      "1359/1359 [==============================] - 446s 329ms/step - loss: 2.5990 - accuracy: 0.3321 - top-3-accuracy: 0.5189 - val_loss: 2.3336 - val_accuracy: 0.5419 - val_top-3-accuracy: 0.6785\n",
      "Epoch 119/300\n",
      "1359/1359 [==============================] - 446s 328ms/step - loss: 2.5990 - accuracy: 0.3322 - top-3-accuracy: 0.5186 - val_loss: 2.3366 - val_accuracy: 0.5397 - val_top-3-accuracy: 0.6774\n",
      "Epoch 120/300\n",
      "1359/1359 [==============================] - 447s 329ms/step - loss: 2.5987 - accuracy: 0.3319 - top-3-accuracy: 0.5188 - val_loss: 2.3323 - val_accuracy: 0.5395 - val_top-3-accuracy: 0.6780\n",
      "Epoch 121/300\n",
      "1359/1359 [==============================] - 447s 329ms/step - loss: 2.5982 - accuracy: 0.3323 - top-3-accuracy: 0.5194 - val_loss: 2.3388 - val_accuracy: 0.5361 - val_top-3-accuracy: 0.6758\n",
      "Epoch 122/300\n",
      "1359/1359 [==============================] - 446s 328ms/step - loss: 2.5976 - accuracy: 0.3323 - top-3-accuracy: 0.5199 - val_loss: 2.3344 - val_accuracy: 0.5391 - val_top-3-accuracy: 0.6789\n",
      "Epoch 123/300\n",
      "1359/1359 [==============================] - 447s 329ms/step - loss: 2.5976 - accuracy: 0.3322 - top-3-accuracy: 0.5196 - val_loss: 2.3343 - val_accuracy: 0.5382 - val_top-3-accuracy: 0.6770\n",
      "Epoch 124/300\n",
      "1359/1359 [==============================] - 447s 329ms/step - loss: 2.5975 - accuracy: 0.3319 - top-3-accuracy: 0.5201 - val_loss: 2.3339 - val_accuracy: 0.5406 - val_top-3-accuracy: 0.6804\n",
      "Epoch 125/300\n",
      "1359/1359 [==============================] - 446s 328ms/step - loss: 2.5969 - accuracy: 0.3323 - top-3-accuracy: 0.5206 - val_loss: 2.3358 - val_accuracy: 0.5384 - val_top-3-accuracy: 0.6771\n",
      "Epoch 126/300\n",
      "1359/1359 [==============================] - 446s 329ms/step - loss: 2.5963 - accuracy: 0.3324 - top-3-accuracy: 0.5210 - val_loss: 2.3287 - val_accuracy: 0.5372 - val_top-3-accuracy: 0.6786\n",
      "Epoch 127/300\n",
      "1359/1359 [==============================] - 446s 328ms/step - loss: 2.5961 - accuracy: 0.3326 - top-3-accuracy: 0.5216 - val_loss: 2.3328 - val_accuracy: 0.5401 - val_top-3-accuracy: 0.6779\n",
      "Epoch 128/300\n",
      "1359/1359 [==============================] - 446s 328ms/step - loss: 2.5959 - accuracy: 0.3321 - top-3-accuracy: 0.5219 - val_loss: 2.3361 - val_accuracy: 0.5379 - val_top-3-accuracy: 0.6779\n",
      "Epoch 129/300\n",
      "1359/1359 [==============================] - 447s 329ms/step - loss: 2.5953 - accuracy: 0.3328 - top-3-accuracy: 0.5224 - val_loss: 2.3453 - val_accuracy: 0.5354 - val_top-3-accuracy: 0.6751\n",
      "Epoch 130/300\n",
      "1359/1359 [==============================] - 446s 328ms/step - loss: 2.5950 - accuracy: 0.3324 - top-3-accuracy: 0.5225 - val_loss: 2.3308 - val_accuracy: 0.5409 - val_top-3-accuracy: 0.6781\n",
      "Epoch 131/300\n",
      "1359/1359 [==============================] - 446s 328ms/step - loss: 2.5945 - accuracy: 0.3331 - top-3-accuracy: 0.5226 - val_loss: 2.3343 - val_accuracy: 0.5389 - val_top-3-accuracy: 0.6774\n",
      "Epoch 132/300\n",
      "1359/1359 [==============================] - 445s 328ms/step - loss: 2.5943 - accuracy: 0.3327 - top-3-accuracy: 0.5233 - val_loss: 2.3312 - val_accuracy: 0.5384 - val_top-3-accuracy: 0.6773\n",
      "Epoch 133/300\n",
      "1359/1359 [==============================] - 444s 326ms/step - loss: 2.5939 - accuracy: 0.3326 - top-3-accuracy: 0.5236 - val_loss: 2.3287 - val_accuracy: 0.5404 - val_top-3-accuracy: 0.6792\n",
      "Epoch 134/300\n",
      "1359/1359 [==============================] - 444s 327ms/step - loss: 2.5933 - accuracy: 0.3330 - top-3-accuracy: 0.5239 - val_loss: 2.3463 - val_accuracy: 0.5323 - val_top-3-accuracy: 0.6741\n",
      "Epoch 135/300\n",
      "1359/1359 [==============================] - 445s 327ms/step - loss: 2.5933 - accuracy: 0.3328 - top-3-accuracy: 0.5244 - val_loss: 2.3353 - val_accuracy: 0.5373 - val_top-3-accuracy: 0.6765\n",
      "Epoch 136/300\n",
      "1359/1359 [==============================] - 444s 326ms/step - loss: 2.5928 - accuracy: 0.3328 - top-3-accuracy: 0.5246 - val_loss: 2.3451 - val_accuracy: 0.5334 - val_top-3-accuracy: 0.6743\n",
      "Epoch 137/300\n",
      "1359/1359 [==============================] - 444s 327ms/step - loss: 2.5925 - accuracy: 0.3330 - top-3-accuracy: 0.5248 - val_loss: 2.3366 - val_accuracy: 0.5368 - val_top-3-accuracy: 0.6774\n",
      "Epoch 138/300\n",
      "1359/1359 [==============================] - 444s 327ms/step - loss: 2.5920 - accuracy: 0.3331 - top-3-accuracy: 0.5258 - val_loss: 2.3423 - val_accuracy: 0.5330 - val_top-3-accuracy: 0.6753\n",
      "Epoch 139/300\n",
      "1359/1359 [==============================] - 449s 330ms/step - loss: 2.5918 - accuracy: 0.3328 - top-3-accuracy: 0.5258 - val_loss: 2.3392 - val_accuracy: 0.5364 - val_top-3-accuracy: 0.6772\n",
      "Epoch 140/300\n",
      "1359/1359 [==============================] - 445s 327ms/step - loss: 2.5911 - accuracy: 0.3330 - top-3-accuracy: 0.5261 - val_loss: 2.3367 - val_accuracy: 0.5362 - val_top-3-accuracy: 0.6746\n",
      "Epoch 141/300\n",
      "1359/1359 [==============================] - 446s 328ms/step - loss: 2.5909 - accuracy: 0.3333 - top-3-accuracy: 0.5265 - val_loss: 2.3530 - val_accuracy: 0.5264 - val_top-3-accuracy: 0.6710\n",
      "Epoch 142/300\n",
      "1359/1359 [==============================] - 443s 326ms/step - loss: 2.5909 - accuracy: 0.3332 - top-3-accuracy: 0.5269 - val_loss: 2.3414 - val_accuracy: 0.5366 - val_top-3-accuracy: 0.6752\n",
      "Epoch 143/300\n",
      "1359/1359 [==============================] - 445s 328ms/step - loss: 2.5905 - accuracy: 0.3333 - top-3-accuracy: 0.5267 - val_loss: 2.3502 - val_accuracy: 0.5263 - val_top-3-accuracy: 0.6713\n",
      "Epoch 144/300\n",
      "1359/1359 [==============================] - 444s 327ms/step - loss: 2.5902 - accuracy: 0.3330 - top-3-accuracy: 0.5273 - val_loss: 2.3441 - val_accuracy: 0.5340 - val_top-3-accuracy: 0.6744\n",
      "Epoch 145/300\n",
      "1359/1359 [==============================] - 445s 327ms/step - loss: 2.5896 - accuracy: 0.3332 - top-3-accuracy: 0.5277 - val_loss: 2.3417 - val_accuracy: 0.5341 - val_top-3-accuracy: 0.6745\n",
      "Epoch 146/300\n",
      "1359/1359 [==============================] - 445s 328ms/step - loss: 2.5894 - accuracy: 0.3332 - top-3-accuracy: 0.5279 - val_loss: 2.3419 - val_accuracy: 0.5351 - val_top-3-accuracy: 0.6745\n",
      "Epoch 147/300\n",
      "1359/1359 [==============================] - 445s 327ms/step - loss: 2.5889 - accuracy: 0.3333 - top-3-accuracy: 0.5283 - val_loss: 2.3437 - val_accuracy: 0.5327 - val_top-3-accuracy: 0.6749\n",
      "Epoch 148/300\n",
      "1359/1359 [==============================] - 445s 327ms/step - loss: 2.5887 - accuracy: 0.3333 - top-3-accuracy: 0.5282 - val_loss: 2.3451 - val_accuracy: 0.5295 - val_top-3-accuracy: 0.6743\n",
      "Epoch 149/300\n",
      "1359/1359 [==============================] - 445s 327ms/step - loss: 2.5881 - accuracy: 0.3334 - top-3-accuracy: 0.5294 - val_loss: 2.3429 - val_accuracy: 0.5315 - val_top-3-accuracy: 0.6750\n",
      "Epoch 150/300\n",
      "1359/1359 [==============================] - 444s 327ms/step - loss: 2.5876 - accuracy: 0.3336 - top-3-accuracy: 0.5299 - val_loss: 2.3430 - val_accuracy: 0.5319 - val_top-3-accuracy: 0.6748\n",
      "Epoch 151/300\n",
      "1359/1359 [==============================] - 444s 327ms/step - loss: 2.5875 - accuracy: 0.3333 - top-3-accuracy: 0.5301 - val_loss: 2.3476 - val_accuracy: 0.5292 - val_top-3-accuracy: 0.6718\n",
      "Epoch 152/300\n",
      "1359/1359 [==============================] - 445s 328ms/step - loss: 2.5870 - accuracy: 0.3335 - top-3-accuracy: 0.5306 - val_loss: 2.3459 - val_accuracy: 0.5325 - val_top-3-accuracy: 0.6729\n",
      "Epoch 153/300\n",
      "1359/1359 [==============================] - 446s 328ms/step - loss: 2.5866 - accuracy: 0.3339 - top-3-accuracy: 0.5306 - val_loss: 2.3415 - val_accuracy: 0.5334 - val_top-3-accuracy: 0.6733\n",
      "Epoch 154/300\n",
      "1359/1359 [==============================] - 446s 328ms/step - loss: 2.5866 - accuracy: 0.3334 - top-3-accuracy: 0.5312 - val_loss: 2.3379 - val_accuracy: 0.5359 - val_top-3-accuracy: 0.6757\n",
      "Epoch 155/300\n",
      "1359/1359 [==============================] - 446s 328ms/step - loss: 2.5862 - accuracy: 0.3335 - top-3-accuracy: 0.5311 - val_loss: 2.3411 - val_accuracy: 0.5327 - val_top-3-accuracy: 0.6759\n",
      "Epoch 156/300\n",
      "1359/1359 [==============================] - 446s 329ms/step - loss: 2.5858 - accuracy: 0.3336 - top-3-accuracy: 0.5312 - val_loss: 2.3408 - val_accuracy: 0.5310 - val_top-3-accuracy: 0.6741\n",
      "Epoch 157/300\n",
      "1359/1359 [==============================] - 446s 328ms/step - loss: 2.5854 - accuracy: 0.3336 - top-3-accuracy: 0.5322 - val_loss: 2.3470 - val_accuracy: 0.5327 - val_top-3-accuracy: 0.6725\n",
      "Epoch 158/300\n",
      "1359/1359 [==============================] - 448s 330ms/step - loss: 2.5851 - accuracy: 0.3344 - top-3-accuracy: 0.5322 - val_loss: 2.3462 - val_accuracy: 0.5314 - val_top-3-accuracy: 0.6725\n",
      "Epoch 159/300\n",
      "1359/1359 [==============================] - 445s 328ms/step - loss: 2.5846 - accuracy: 0.3339 - top-3-accuracy: 0.5330 - val_loss: 2.3506 - val_accuracy: 0.5267 - val_top-3-accuracy: 0.6722\n",
      "Epoch 160/300\n",
      "1359/1359 [==============================] - 447s 329ms/step - loss: 2.5849 - accuracy: 0.3338 - top-3-accuracy: 0.5330 - val_loss: 2.3515 - val_accuracy: 0.5274 - val_top-3-accuracy: 0.6703\n",
      "Epoch 161/300\n",
      "1359/1359 [==============================] - 445s 328ms/step - loss: 2.5838 - accuracy: 0.3339 - top-3-accuracy: 0.5334 - val_loss: 2.3552 - val_accuracy: 0.5266 - val_top-3-accuracy: 0.6708\n",
      "Epoch 162/300\n",
      "1359/1359 [==============================] - 446s 328ms/step - loss: 2.5835 - accuracy: 0.3343 - top-3-accuracy: 0.5334 - val_loss: 2.3468 - val_accuracy: 0.5292 - val_top-3-accuracy: 0.6716\n",
      "Epoch 163/300\n",
      " 333/1359 [======>.......................] - ETA: 5:06 - loss: 2.5796 - accuracy: 0.3354 - top-3-accuracy: 0.5357"
     ]
    }
   ],
   "source": [
    "# Custom ResNet + LSTM model\n",
    "\n",
    "num_epochs = 300\n",
    "batch_size = 512\n",
    "learning_rate = 1e-3\n",
    "\n",
    "input_shape = (x_train.shape[1:]) + (1,) #input_shape = (21,5,) #x_train.shape[2]\n",
    "\n",
    "def ResNetBlock(x,dropout):\n",
    "    x =   layers.Conv2D(filters=64, kernel_size=5, padding=\"same\")(x) #input_layer\n",
    "    conv1 = layers.Conv2D(filters=64, kernel_size=5, padding=\"same\")(x) # input_layer, Conv1D\n",
    "    conv1 = layers.Dropout(dropout)(conv1)\n",
    "    conv1 = layers.BatchNormalization()(conv1)\n",
    "    conv1 = layers.ReLU()(conv1)\n",
    "\n",
    "    conv2 = layers.Conv2D(filters=64, kernel_size=3, padding=\"same\")(conv1)\n",
    "    conv2 = layers.Dropout(dropout)(conv2)\n",
    "    conv2 = layers.BatchNormalization()(conv2)\n",
    "    conv2 = layers.ReLU()(conv2)\n",
    "\n",
    "    conv3 = layers.Conv2D(filters=64, kernel_size=3, padding=\"same\")(conv2)\n",
    "    conv3 = layers.Dropout(dropout)(conv3)\n",
    "    conv3 = layers.BatchNormalization()(conv3)\n",
    "    conv3 = layers.ReLU()(conv3)\n",
    "    \n",
    "    conv3 = layers.Conv2D(filters=64, kernel_size=3, padding=\"same\")(conv2)\n",
    "    conv3 = layers.Dropout(dropout)(conv3)\n",
    "    conv3 = layers.BatchNormalization()(conv3)\n",
    "    conv3 = layers.ReLU()(conv3)\n",
    "    \n",
    "    conv3 = layers.add([x,conv3])\n",
    "    x = layers.ReLU()(conv3) # Overwrite x\n",
    "    \n",
    "    return x\n",
    "\n",
    "\n",
    "def build_model(\n",
    "    input_shape,\n",
    "    head_size,  \n",
    "    mlp_units,\n",
    "    dropout,\n",
    "    mlp_dropout,\n",
    "):\n",
    "    inputs = tf.keras.Input(shape=input_shape)  \n",
    "    \n",
    "    x = layers.Conv2D(filters=32, kernel_size=3, padding=\"same\")(inputs)\n",
    "    for _ in range(5):\n",
    "        x = ResNetBlock(x,dropout)        \n",
    "    x = tf.reduce_sum(x,axis=-1)\n",
    "    \n",
    "    x = layers.LSTM(head_size,recurrent_dropout=0.1, return_sequences=True)(x) #input_shape=(x.shape[1:]),\n",
    "    x = layers.LSTM(head_size,recurrent_dropout=0.1, return_sequences=True)(x)\n",
    "    x = layers.LSTM(head_size,recurrent_dropout=0.1, return_sequences=True)(x)\n",
    "    x = layers.LSTM(64,recurrent_dropout= 0.3)(x)\n",
    "\n",
    "       \n",
    "    #for dim in mlp_units:  x = layers.Dense(dim, activation=\"relu\")(x)\n",
    "    x = layers.Dense(mlp_units, activation=\"relu\")(x)\n",
    "    x = layers.Dropout(mlp_dropout)(x)\n",
    "    outputs = layers.Dense(num_classes, activation=\"softmax\")(x)\n",
    "    return tf.keras.Model(inputs, outputs,name =\"RowBlockLSTM\"+time_stamp)\n",
    "\n",
    "head_size = 512 # 128, 256,64\n",
    "mlp_units=512  # 128\n",
    "mlp_dropout=0.01     #0.4\n",
    "dropout=0.015          #0.25\n",
    "\n",
    "model = build_model(input_shape,head_size = head_size,mlp_units=mlp_units, mlp_dropout= mlp_dropout, dropout=dropout)\n",
    "model.summary()\n",
    "\n",
    "## Logging tools\n",
    "wandb.config = {\n",
    "  \"learning_rate\": \"learning_rate\",\n",
    "  \"epochs\": num_epochs, \n",
    "  \"batch_size\": batch_size,\n",
    "  #\"nodes\": nodes,\n",
    "  \"row_length\":row_length,\n",
    "  \"base_path\":base_path,\n",
    "  \"head_size\":head_size, \n",
    "  # \"ff_dim\":ff_dim, \"num_transformer_blocks\":num_transformer_blocks,\"num_heads\":num_heads,\n",
    "  \"mlp_units\":mlp_units, \"mlp_dropout\":mlp_dropout,\n",
    "  \"dropout\":dropout\n",
    "}\n",
    "\n",
    "# Update Wandb fieds with more params\n",
    "wandb.config.update(log)\n",
    "\n",
    "# Update log['extras']\n",
    "log['extras'][0].update(wandb.config)\n",
    "#### ===== End of logging ========\n",
    "\n",
    "\n",
    "\n",
    "# Poly Rate scheduler\n",
    "starter_learning_rate = 0.1\n",
    "end_learning_rate = 0.0001\n",
    "decay_steps = 10000\n",
    "learning_rate_fn = tf.keras.optimizers.schedules.PolynomialDecay(\n",
    "    starter_learning_rate,\n",
    "    decay_steps,\n",
    "    end_learning_rate,\n",
    "    power=0.25)\n",
    "\n",
    "\n",
    "# Callbacks\n",
    "callbacks = [\n",
    "    ModelCheckpoint(f\"{ipynbname.name()}//RowBlockLSTM_checkpoint_{time_stamp}.h5\", save_best_only=True, monitor=\"val_loss\"),\n",
    "    ReduceLROnPlateau(monitor=\"val_loss\", factor=0.1, patience=3, min_lr=0.0001, verbose = 1),\n",
    "    #EarlyStopping(monitor=\"val_loss\", patience=25, verbose=1), \n",
    "    WandbCallback()\n",
    "]\n",
    "\n",
    "opt1 = tf.keras.optimizers.RMSprop(learning_rate=1e-3,rho=0.9,momentum=0.9, epsilon=1e-07,centered=True,name=\"RMSprop\")\n",
    "opt2 = tf.keras.optimizers.Adam(learning_rate=learning_rate,amsgrad=True)\n",
    "opt3 = tf.keras.optimizers.SGD(learning_rate=learning_rate, momentum=0.99, nesterov=True, name=\"SGD\")\n",
    "poly_rate = tf.keras.optimizers.SGD(learning_rate = learning_rate_fn)\n",
    "\n",
    "top_K = 3\n",
    "start_time = datetime.strftime( datetime.now(),'%d_%B_%y_%H%M')\n",
    "\n",
    "print(f'Training start time:{start_time}')\n",
    "\n",
    "# model.compile( optimizer = opt, loss= 'categorical_crossentropy', metrics=['accuracy',tf.keras.metrics.TopKCategoricalAccuracy(top_K, name=\"top-3-accuracy\")])  #label_smoothing=0.05, tf.keras.losses.KLDivergence()\n",
    "#model.compile( optimizer=opt1,loss=\"sparse_categorical_crossentropy\" , metrics=[\"sparse_categorical_accuracy\"],) #\"sparse_categorical_crossentropy\" , sparse_categorical_accuracy\", tf.keras.losses.CategoricalCrossentropy(label_smoothing=0.3)\n",
    "\n",
    "model.compile( optimizer=opt3,loss=tf.keras.losses.CategoricalCrossentropy(label_smoothing=0.2) , \n",
    "              metrics=[\"accuracy\", tf.keras.metrics.TopKCategoricalAccuracy(top_K, name=\"top-3-accuracy\")], ) #\"sparse_categorical_crossentropy\" , sparse_categorical_accuracy\", tf.keras.losses.CategoricalCrossentropy(label_smoothing=0.3)\n",
    "\n",
    "\n",
    "history = model.fit(x_train, y_train_1hot,\n",
    "          epochs= num_epochs, \n",
    "          batch_size= batch_size, \n",
    "          validation_split = 0.3,\n",
    "          # validation_data=(x_test, y_test_1hot),\n",
    "         callbacks=callbacks) #mcp_save, callbacks=[reduce_lr_loss]\n",
    "\n",
    "model = tf.keras.models.load_model(\"{ipynbname.name()}//RowBlockLSTM_checkpoint_{time_stamp}.h5\")\n",
    "\n",
    "# Update manual log file\n",
    "params_to_be_updated = update_log_entry('../testing_sheet2.xlsx', log_idx, model, history)\n",
    "\n",
    "# Previous Acc was ~35%"
   ]
  },
  {
   "cell_type": "code",
   "execution_count": null,
   "id": "e01cf82b-9581-4ecb-a9ec-65d638355bc4",
   "metadata": {},
   "outputs": [],
   "source": [
    "log['Uniqueness_of_each_run'] = 'Using Old data from its source'\n",
    "run_completion_comment = f'First time training LSTM on FilteredFiltered Old data. BEST accuracy(92%) so far but yet to try on val data'\n",
    "if \"log_idx\" in globals():\n",
    "    log[\"S_N\"] = log_idx\n",
    "    log['extras'][0]['run_completion_comment'] = run_completion_comment #'Accuracy_per_epoch'\n",
    "    log['Accuracy_per_epoch'] = '44%'\n",
    "    log_idx = create_log_entry('../testing_sheet2.xlsx', log)"
   ]
  },
  {
   "cell_type": "code",
   "execution_count": null,
   "id": "900b0f69-6c63-49e6-8421-b7e5362b5c45",
   "metadata": {},
   "outputs": [],
   "source": [
    "def PlotCurves(model_history):\n",
    "    plt.plot(model_history.history['accuracy'],label = 'train')\n",
    "    plt.grid(color = 'r', linestyle = '--', linewidth = .1)    \n",
    "    #plt.figure()\n",
    "    plt.plot(model_history.history['val_accuracy'],label = 'validation')\n",
    "   \n",
    "    plt.ylabel('Accuracy');\n",
    "    plt.xlabel('Epochs');\n",
    "    \n",
    "    plt.title('Training vs Validation accuracy');\n",
    "    plt.legend()\n",
    "    \n",
    "    plt.figure()\n",
    "    \n",
    "    plt.plot(model_history.history['loss'],label = 'train')\n",
    "    plt.grid(color = 'r', linestyle = '--', linewidth = .1)    \n",
    "    plt.plot(model_history.history['val_loss'],label = 'validation')\n",
    "   \n",
    "    plt.ylabel('Loss');\n",
    "    plt.xlabel('Epochs');\n",
    "    \n",
    "    plt.title('Training vs Validation Losses');\n",
    "    plt.legend()\n",
    "    return None\n",
    "\n",
    "PlotCurves(history)"
   ]
  },
  {
   "cell_type": "code",
   "execution_count": null,
   "id": "43003c33-f2e8-4981-a601-84b1765ab943",
   "metadata": {},
   "outputs": [],
   "source": [
    "# Convert labels to categorical orthonormal vectors\n",
    "y_val_1hot = tf.keras.utils.to_categorical(y_val, num_classes)\n",
    "\n",
    "_, accuracy,top3_acc = model.evaluate(x_val, y_val_1hot)\n",
    "print(f\"Test accuracy: {round(accuracy * 100, 2)}%\")\n",
    "print(f\"Test top 5 accuracy: {round(top3_acc * 100, 2)}%\")\n",
    "\n",
    "_,new_col_length,new_row_length = x_train.shape \n",
    "model.save(f'{base_path}//{ipynbname.name()}//{time_stamp}_Acc_{accuracy:.3f}_Top3Acc{top3_acc:.3f}_{new_row_length}x{new_col_length}.h5') # Last percentage is 46.85, New:52.4"
   ]
  },
  {
   "cell_type": "code",
   "execution_count": 28,
   "id": "5dbda035-6b46-4b65-9359-1c1f7e2611cd",
   "metadata": {},
   "outputs": [
    {
     "name": "stdout",
     "output_type": "stream",
     "text": [
      " Exact accuracy is  78.09492 %\n",
      " Top 5% accuracy is  88.43487 %\n"
     ]
    }
   ],
   "source": [
    "# Test model manually on all val data\n",
    "\n",
    "y_pred = [ np.argmax(model.predict(np.expand_dims(x_val[idx],axis=0))) for idx in range(len(x_val)) ]\n",
    "\n",
    "combined_result = zip(y_val,y_pred)\n",
    "\n",
    "val_exact_accuracy = 100 * sum([1 if y_pred[idx]==y_val[idx]   else 0 for idx in range(len(y_pred)) ]) / len(y_pred)\n",
    "val_margin5_accuracy = 100 * sum([1 if abs(y_pred[idx]-y_val[idx]) < 5 else 0 for idx in range(len(y_pred)) ]) / len(y_pred)\n",
    "\n",
    "print(f' Exact accuracy is {val_exact_accuracy: .5f} %')\n",
    "print(f' Top 5% accuracy is {val_margin5_accuracy: .5f} %')\n",
    "\n"
   ]
  },
  {
   "cell_type": "code",
   "execution_count": null,
   "id": "f501e446-69db-49bc-ab0a-e11030d0dec6",
   "metadata": {},
   "outputs": [],
   "source": []
  },
  {
   "cell_type": "code",
   "execution_count": 84,
   "id": "5906633e-2153-47af-acdc-121a3625b199",
   "metadata": {},
   "outputs": [],
   "source": [
    "# Confusion Matrix and ROC/AUC\n",
    "\n",
    "model_predictions = np.asarray(y_pred)\n",
    "ground_truth = y_val.squeeze()\n",
    "\n",
    "# Prediction per Ground-truth class\n",
    "class_predictions = [ model_predictions[ground_truth==idx]  for idx in range(num_classes) ]\n",
    "\n",
    "# Confusion matrix\n",
    "confusion_mtx = np.zeros((num_classes,num_classes) )\n",
    "\n",
    "for pred,actual in zip(y_pred,y_val): # Rows=Prediction, Columns = Actual\n",
    "    confusion_mtx[pred,actual] +=1"
   ]
  },
  {
   "cell_type": "code",
   "execution_count": 136,
   "id": "475f7b9d-5af5-4242-aec0-e0f87ac6b665",
   "metadata": {},
   "outputs": [
    {
     "data": {
      "image/png": "[encoded data removed]",
      "text/plain": [
       "<Figure size 700x1500 with 2 Axes>"
      ]
     },
     "metadata": {
      "needs_background": "light"
     },
     "output_type": "display_data"
    }
   ],
   "source": [
    "from mpl_toolkits.axes_grid1 import make_axes_locatable\n",
    "\n",
    "fig, ax = plt.subplots(figsize=(7,15),dpi = 100);\n",
    "shw=ax.imshow(confusion_mtx)\n",
    "#bar= plt.colorbar(shw)\n",
    "\n",
    "_=plt.ylabel('Predictions')\n",
    "_=plt.xlabel('Actual Class')\n",
    "_=plt.title('Confusion matrix')\n",
    "\n",
    "# ax.set_xticklabels(list(range(num_classes)))\n",
    "# ax.set_yticklabels(list(range(num_classes)))\n",
    "\n",
    "# create an axes on the right side of ax. The width of cax will be 5%\n",
    "# of ax and the padding between cax and ax will be fixed at 0.05 inch.\n",
    "divider = make_axes_locatable(ax)\n",
    "cax = divider.append_axes(\"right\", size=\"5%\", pad=0.05)\n",
    "#bar.set_label('ColorBar')\n",
    "_ = plt.colorbar(shw, cax=cax)"
   ]
  },
  {
   "cell_type": "code",
   "execution_count": 96,
   "id": "970ef2b9-5f5f-401c-b024-4184eea46609",
   "metadata": {},
   "outputs": [
    {
     "data": {
      "image/png": "[encoded data removed]",
      "text/plain": [
       "<Figure size 432x288 with 1 Axes>"
      ]
     },
     "metadata": {
      "needs_background": "light"
     },
     "output_type": "display_data"
    },
    {
     "data": {
      "image/png": "[encoded data removed]",
      "text/plain": [
       "<Figure size 432x288 with 1 Axes>"
      ]
     },
     "metadata": {
      "needs_background": "light"
     },
     "output_type": "display_data"
    },
    {
     "data": {
      "image/png": "[encoded data removed]",
      "text/plain": [
       "<Figure size 432x288 with 1 Axes>"
      ]
     },
     "metadata": {
      "needs_background": "light"
     },
     "output_type": "display_data"
    },
    {
     "data": {
      "image/png": "[encoded data removed]",
      "text/plain": [
       "<Figure size 432x288 with 1 Axes>"
      ]
     },
     "metadata": {
      "needs_background": "light"
     },
     "output_type": "display_data"
    },
    {
     "data": {
      "image/png": "[encoded data removed]",
      "text/plain": [
       "<Figure size 432x288 with 1 Axes>"
      ]
     },
     "metadata": {
      "needs_background": "light"
     },
     "output_type": "display_data"
    },
    {
     "data": {
      "image/png": "[encoded data removed]",
      "text/plain": [
       "<Figure size 432x288 with 1 Axes>"
      ]
     },
     "metadata": {
      "needs_background": "light"
     },
     "output_type": "display_data"
    },
    {
     "data": {
      "image/png": "[encoded data removed]",
      "text/plain": [
       "<Figure size 432x288 with 1 Axes>"
      ]
     },
     "metadata": {
      "needs_background": "light"
     },
     "output_type": "display_data"
    },
    {
     "data": {
      "image/png": "[encoded data removed]",
      "text/plain": [
       "<Figure size 432x288 with 1 Axes>"
      ]
     },
     "metadata": {
      "needs_background": "light"
     },
     "output_type": "display_data"
    },
    {
     "data": {
      "image/png": "[encoded data removed]",
      "text/plain": [
       "<Figure size 432x288 with 1 Axes>"
      ]
     },
     "metadata": {
      "needs_background": "light"
     },
     "output_type": "display_data"
    },
    {
     "data": {
      "image/png": "[encoded data removed]",
      "text/plain": [
       "<Figure size 432x288 with 1 Axes>"
      ]
     },
     "metadata": {
      "needs_background": "light"
     },
     "output_type": "display_data"
    },
    {
     "data": {
      "image/png": "[encoded data removed]",
      "text/plain": [
       "<Figure size 432x288 with 1 Axes>"
      ]
     },
     "metadata": {
      "needs_background": "light"
     },
     "output_type": "display_data"
    },
    {
     "data": {
      "image/png": "[encoded data removed]",
      "text/plain": [
       "<Figure size 432x288 with 1 Axes>"
      ]
     },
     "metadata": {
      "needs_background": "light"
     },
     "output_type": "display_data"
    },
    {
     "data": {
      "image/png": "[encoded data removed]",
      "text/plain": [
       "<Figure size 432x288 with 1 Axes>"
      ]
     },
     "metadata": {
      "needs_background": "light"
     },
     "output_type": "display_data"
    },
    {
     "data": {
      "image/png": "[encoded data removed]",
      "text/plain": [
       "<Figure size 432x288 with 1 Axes>"
      ]
     },
     "metadata": {
      "needs_background": "light"
     },
     "output_type": "display_data"
    },
    {
     "data": {
      "image/png": "[encoded data removed]",
      "text/plain": [
       "<Figure size 432x288 with 1 Axes>"
      ]
     },
     "metadata": {
      "needs_background": "light"
     },
     "output_type": "display_data"
    },
    {
     "data": {
      "image/png": "[encoded data removed]",
      "text/plain": [
       "<Figure size 432x288 with 1 Axes>"
      ]
     },
     "metadata": {
      "needs_background": "light"
     },
     "output_type": "display_data"
    },
    {
     "data": {
      "image/png": "[encoded data removed]",
      "text/plain": [
       "<Figure size 432x288 with 1 Axes>"
      ]
     },
     "metadata": {
      "needs_background": "light"
     },
     "output_type": "display_data"
    },
    {
     "data": {
      "image/png": "[encoded data removed]",
      "text/plain": [
       "<Figure size 432x288 with 1 Axes>"
      ]
     },
     "metadata": {
      "needs_background": "light"
     },
     "output_type": "display_data"
    },
    {
     "data": {
      "image/png": "[encoded data removed]",
      "text/plain": [
       "<Figure size 432x288 with 1 Axes>"
      ]
     },
     "metadata": {
      "needs_background": "light"
     },
     "output_type": "display_data"
    },
    {
     "data": {
      "image/png": "[encoded data removed]",
      "text/plain": [
       "<Figure size 432x288 with 1 Axes>"
      ]
     },
     "metadata": {
      "needs_background": "light"
     },
     "output_type": "display_data"
    },
    {
     "data": {
      "image/png": "[encoded data removed]",
      "text/plain": [
       "<Figure size 432x288 with 1 Axes>"
      ]
     },
     "metadata": {
      "needs_background": "light"
     },
     "output_type": "display_data"
    },
    {
     "data": {
      "image/png": "[encoded data removed]",
      "text/plain": [
       "<Figure size 432x288 with 1 Axes>"
      ]
     },
     "metadata": {
      "needs_background": "light"
     },
     "output_type": "display_data"
    }
   ],
   "source": [
    "# Histogram of each class prediction\n",
    "for idx,each_class in enumerate(class_predictions):\n",
    "    _ = plt.figure()\n",
    "    _ = plt.title('Class %s'%idx)\n",
    "    labels, counts = np.unique(each_class, return_counts=True)\n",
    "    _ = plt.bar(labels, counts, align='center')\n",
    "    _ = plt.gca().set_xticks(labels)\n",
    "    _ = plt.show()"
   ]
  },
  {
   "cell_type": "code",
   "execution_count": 147,
   "id": "0d0115b5-eb22-4082-b2ed-b0fdea37b012",
   "metadata": {},
   "outputs": [
    {
     "name": "stdout",
     "output_type": "stream",
     "text": [
      "              precision    recall  f1-score   support\n",
      "\n",
      "           0       0.94      0.85      0.89      6026\n",
      "           1       1.00      0.00      0.00         1\n",
      "           2       1.00      1.00      1.00         0\n",
      "           3       1.00      0.00      0.00         1\n",
      "           4       1.00      0.00      0.00         4\n",
      "           5       0.49      0.29      0.36       142\n",
      "           6       0.50      0.46      0.48       482\n",
      "           7       0.56      0.40      0.47      1536\n",
      "           8       0.68      0.68      0.68      5561\n",
      "           9       0.73      0.74      0.73      9359\n",
      "          10       0.73      0.72      0.72      9623\n",
      "          11       0.76      0.74      0.75     10508\n",
      "          12       0.77      0.80      0.79     13195\n",
      "          13       0.80      0.83      0.82     14004\n",
      "          14       0.85      0.85      0.85     14029\n",
      "          15       0.85      0.89      0.87     10712\n",
      "          16       0.81      0.81      0.81      4559\n",
      "          17       0.74      0.70      0.72      1892\n",
      "          18       0.68      0.63      0.66      1188\n",
      "          19       0.59      0.67      0.63      1102\n",
      "          20       0.48      0.51      0.49       573\n",
      "          21       0.33      0.13      0.19       223\n",
      "\n",
      "   micro avg       0.78      0.78      0.78    104720\n",
      "   macro avg       0.74      0.58      0.59    104720\n",
      "weighted avg       0.78      0.78      0.78    104720\n",
      "\n"
     ]
    }
   ],
   "source": [
    "from sklearn.metrics import classification_report\n",
    "\n",
    "print( classification_report( y_val,y_pred, labels=list(range(num_classes)), zero_division=1 ))"
   ]
  },
  {
   "cell_type": "code",
   "execution_count": null,
   "id": "e952d2c6-abb1-4975-a03b-34c97c8f8669",
   "metadata": {},
   "outputs": [],
   "source": []
  },
  {
   "cell_type": "code",
   "execution_count": 25,
   "id": "d5681e1f-3e23-41c0-9a56-cd020518cbc4",
   "metadata": {},
   "outputs": [
    {
     "name": "stdout",
     "output_type": "stream",
     "text": [
      "Check start 5539\n"
     ]
    },
    {
     "data": {
      "text/plain": [
       "[(10, 9),\n",
       " (15, 15),\n",
       " (12, 13),\n",
       " (12, 12),\n",
       " (13, 13),\n",
       " (17, 16),\n",
       " (11, 9),\n",
       " (12, 12),\n",
       " (17, 17),\n",
       " (14, 14),\n",
       " (10, 9),\n",
       " (14, 12),\n",
       " (18, 18),\n",
       " (9, 9),\n",
       " (11, 11),\n",
       " (16, 16),\n",
       " (9, 9),\n",
       " (5, 6),\n",
       " (0, 0),\n",
       " (0, 0)]"
      ]
     },
     "execution_count": 25,
     "metadata": {},
     "output_type": "execute_result"
    }
   ],
   "source": [
    "# Check some predictions\n",
    "\n",
    "import random\n",
    "check_start = random.randint(0,len(x_val))\n",
    "\n",
    "print(f'Check start {check_start}')\n",
    "[(int(y_val[idx]), np.argmax(model.predict(np.expand_dims(x_val[idx],axis=0))) ) for idx in range(check_start,check_start+20) ]\n",
    "\n"
   ]
  },
  {
   "cell_type": "code",
   "execution_count": null,
   "id": "c8d4305b-d2f7-4bb6-97c0-601e43f3624c",
   "metadata": {
    "tags": []
   },
   "outputs": [],
   "source": [
    "# Train further (last training 12/8/2021 was for 30 epochs - 150 epochs(w/o reshape order) previously overfitted\n",
    "# Also, the train set was not reshuffled, but train further uses shuffled train data (Stopped the train further after 30 epocks- acc 14% poor. Retraining from scratch )\n",
    "\n",
    "start_time = datetime.strftime( datetime.now(),'%d_%B_%y_%H%M')\n",
    "\n",
    "print(f'Training start time:{start_time}')\n",
    "#batch_size = 64\n",
    "history2 = model.fit(x_train, y_train_1hot,\n",
    "          epochs= 250, \n",
    "          batch_size= batch_size, \n",
    "          validation_data=(x_test, y_test_1hot),callbacks=callbacks) #mcp_save, callbacks=[reduce_lr_loss]callbacks=callbacks"
   ]
  },
  {
   "cell_type": "code",
   "execution_count": null,
   "id": "dd8c2f81-8a6b-495f-b06f-ba26ec5104e8",
   "metadata": {},
   "outputs": [],
   "source": [
    "PlotCurves(history2)"
   ]
  },
  {
   "cell_type": "code",
   "execution_count": null,
   "id": "f9c88ad0-166a-44d3-8fef-41d5891a3035",
   "metadata": {},
   "outputs": [],
   "source": [
    "_, accuracy,top_3_accuracy = model.evaluate(x_val, y_val_1hot)\n",
    "print(f\"Test accuracy: {round(accuracy * 100, 2)}%\")\n",
    "print(f\"Test top 5 accuracy: {round(top_3_accuracy * 100, 2)}%\")\n",
    "\n",
    "_,new_col_length,new_row_length = x_train.shape \n",
    "model.save(f'{base_path}//{ipynbname.name()}//{time_stamp}_Acc_{accuracy:.3f}_top3{top_3_accuracy:.3f}_{new_row_length}x{new_col_length}.h5')"
   ]
  },
  {
   "cell_type": "code",
   "execution_count": 54,
   "id": "29c39bc8-6d98-4441-a8fe-55655e2d5cca",
   "metadata": {},
   "outputs": [],
   "source": [
    "# Try prediction on difficult data\n",
    "\n",
    "x_difficult = raw_data1['echo_cnn_input'][stop_idx+1:]\n",
    "y_difficult = raw_data1['echo_cnn_target'][stop_idx+1:]\n",
    "\n",
    "x_difficult = np.reshape( x_difficult, (x_difficult.shape[0],max_class,-1) )\n",
    "x_difficult = x_difficult[:,:,mid_pt-neigh:mid_pt+neigh+1]\n",
    "# x_train = np.reshape(x_train,(x_train.shape[0],-1))\n",
    "x_difficult = np.transpose(x_difficult,(0,2,1))\n",
    "\n",
    "# y_difficult[y_difficult == num_classes] = 0\n",
    "# y_difficult = tf.keras.utils.to_categorical(y_difficult, num_classes)\n"
   ]
  },
  {
   "cell_type": "code",
   "execution_count": 55,
   "id": "5e0f8927-8286-448f-8e7e-adfb8032ea23",
   "metadata": {},
   "outputs": [
    {
     "data": {
      "text/plain": [
       "((1724672, 9, 21), (1724672,))"
      ]
     },
     "execution_count": 55,
     "metadata": {},
     "output_type": "execute_result"
    }
   ],
   "source": [
    "(x_difficult.shape,y_difficult.shape)"
   ]
  },
  {
   "cell_type": "code",
   "execution_count": 61,
   "id": "969ad3b9-53d5-417a-ab84-55a84b5f75f2",
   "metadata": {},
   "outputs": [
    {
     "name": "stdout",
     "output_type": "stream",
     "text": [
      "Check start 32030\n"
     ]
    },
    {
     "data": {
      "text/plain": [
       "[(14, 12),\n",
       " (14, 12),\n",
       " (14, 12),\n",
       " (14, 12),\n",
       " (14, 12),\n",
       " (14, 12),\n",
       " (14, 12),\n",
       " (14, 12),\n",
       " (14, 12),\n",
       " (14, 12),\n",
       " (14, 12),\n",
       " (14, 12),\n",
       " (14, 12),\n",
       " (14, 12),\n",
       " (14, 12),\n",
       " (14, 12),\n",
       " (14, 12),\n",
       " (14, 12),\n",
       " (14, 12),\n",
       " (14, 12),\n",
       " (14, 12),\n",
       " (14, 12),\n",
       " (14, 12),\n",
       " (14, 12),\n",
       " (14, 12),\n",
       " (14, 12),\n",
       " (14, 12),\n",
       " (14, 12),\n",
       " (14, 12),\n",
       " (14, 12),\n",
       " (14, 12),\n",
       " (14, 12),\n",
       " (14, 12),\n",
       " (14, 12),\n",
       " (19, 9),\n",
       " (19, 9),\n",
       " (19, 9),\n",
       " (19, 9),\n",
       " (19, 9),\n",
       " (19, 9),\n",
       " (19, 9),\n",
       " (19, 9),\n",
       " (19, 9),\n",
       " (19, 9),\n",
       " (19, 9),\n",
       " (19, 9),\n",
       " (19, 9),\n",
       " (19, 9),\n",
       " (19, 9),\n",
       " (19, 9)]"
      ]
     },
     "execution_count": 61,
     "metadata": {},
     "output_type": "execute_result"
    }
   ],
   "source": [
    "# Check some predictions\n",
    "\n",
    "difficult_start = random.randint(0,len(x_val)) #3500 #\n",
    "\n",
    "print(f'Check start {difficult_start}')\n",
    "[(int(y_difficult[idx]), np.argmax(model.predict(np.expand_dims(x_difficult[idx],axis=0))) ) for idx in range(difficult_start,difficult_start+50) ]\n",
    "\n"
   ]
  },
  {
   "cell_type": "code",
   "execution_count": null,
   "id": "566fc1a3-473a-4442-8d7e-257187b2aa2e",
   "metadata": {},
   "outputs": [],
   "source": [
    "# Attempt loading past model (after crash) and start training again\n",
    "load_model = 0\n",
    "if load_model:\n",
    "    model2 = tf.keras.models.load_model(r'Y:\\ibikunle\\Python_Project\\Fall_2021\\all_block_data\\Old_data\\Dec_Train_block_len_21_131121_2213\\NewAttention_RowBlockLSTM1\\22_November_21_0929_Acc_0.669_Top3Acc0.8506_21x9.h5'\n",
    "                                    ,)"
   ]
  },
  {
   "cell_type": "code",
   "execution_count": null,
   "id": "d814adde-7601-4664-ae72-80a585e2dfda",
   "metadata": {},
   "outputs": [],
   "source": []
  },
  {
   "cell_type": "code",
   "execution_count": null,
   "id": "1086771b-626e-42ed-90ce-56b434606586",
   "metadata": {
    "tags": []
   },
   "outputs": [],
   "source": [
    "# Train further\n",
    "batch_size = 64\n",
    "history2 = model.fit(x_train, y_train_1hot,\n",
    "          epochs= 30, \n",
    "          batch_size= batch_size, \n",
    "          validation_data=(x_test, y_test_1hot),callbacks=callbacks) #mcp_save, callbacks=[reduce_lr_loss]callbacks=callbacks"
   ]
  },
  {
   "cell_type": "code",
   "execution_count": null,
   "id": "b129b784-5906-48b6-aa6c-a6c3cecfc63a",
   "metadata": {},
   "outputs": [],
   "source": [
    "# Train further still( 30th Nov.,2021 X_train is returned back to default [i.e No shuffle] )\n",
    "from keras import backend as K\n",
    "K.set_value(model.optimizer.learning_rate, 0.001)\n",
    "batch_size = 64\n",
    "history2 = model.fit(x_train, y_train_1hot,\n",
    "          epochs= 2, \n",
    "          batch_size= batch_size, \n",
    "          validation_data=(x_test, y_test_1hot),callbacks=callbacks) #mcp_save, callbacks=[reduce_lr_loss]callbacks=callbacks"
   ]
  },
  {
   "cell_type": "code",
   "execution_count": null,
   "id": "ac606f26-6bfa-449a-9b90-b4765a2340ec",
   "metadata": {},
   "outputs": [],
   "source": [
    "# Convert labels to categorical orthonormal vectors\n",
    "y_val_1hot = tf.keras.utils.to_categorical(y_val, num_classes)\n",
    "\n",
    "_, accuracy,top3_acc = model.evaluate(x_val, y_val_1hot)\n",
    "print(f\"Test accuracy: {round(accuracy * 100, 2)}%\")\n",
    "# print(f\"Test top 5 accuracy: {round(top_5_accuracy * 100, 2)}%\")\n",
    "\n",
    "_,new_col_length,new_row_length = x_train.shape \n",
    "model.save(f'{base_path}//{ipynbname.name()}//{time_stamp}_Acc_{accuracy:.3f}_Top3Acc{top3_acc:.3f}_{new_row_length}x{new_col_length}.h5')"
   ]
  },
  {
   "cell_type": "code",
   "execution_count": null,
   "id": "bc0478a0-0d6b-44bf-abf6-30cb44b4d44c",
   "metadata": {},
   "outputs": [],
   "source": [
    "# Test model on val data\n",
    "\n",
    "y_diff_pred = [ np.argmax(model.predict(np.expand_dims(x_difficult[idx],axis=0))) for idx in range(3000,3050) ] #len(x_difficult)\n",
    "\n",
    "difficult_exact_accuracy = 100 * sum([1 if y_diff_pred[idx]==y_difficult[idx]   else 0 for idx in range(len(y_diff_pred)) ]) / len(y_diff_pred)\n",
    "difficult_margin5_accuracy = 100 * sum([1 if abs(y_diff_pred[idx]-y_difficult[idx]) < 3 else 0 for idx in range(len(y_diff_pred)) ]) / len(y_diff_pred)\n",
    "\n",
    "print(f' Exact accuracy is {difficult_exact_accuracy: .5f} %')\n",
    "print(f' Top 5% accuracy is {difficult_margin5_accuracy: .5f} %')\n",
    "\n"
   ]
  },
  {
   "cell_type": "code",
   "execution_count": null,
   "id": "b103b071-79d9-416b-b545-bc3c2e3e6587",
   "metadata": {},
   "outputs": [],
   "source": [
    "len(y_diff_pred)"
   ]
  },
  {
   "cell_type": "code",
   "execution_count": null,
   "id": "3ab0eaec-8607-4970-a6a9-397cef52ef9f",
   "metadata": {},
   "outputs": [],
   "source": []
  }
 ],
 "metadata": {
  "kernelspec": {
   "display_name": "Python3.9_IBk_tf2.5_Sep21",
   "language": "python",
   "name": "ibk_tf_2.5_sep21"
  },
  "language_info": {
   "codemirror_mode": {
    "name": "ipython",
    "version": 3
   },
   "file_extension": ".py",
   "mimetype": "text/x-python",
   "name": "python",
   "nbconvert_exporter": "python",
   "pygments_lexer": "ipython3",
   "version": "3.9.7"
  }
 },
 "nbformat": 4,
 "nbformat_minor": 5
}
