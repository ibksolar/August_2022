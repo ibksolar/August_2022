{
 "cells": [
  {
   "cell_type": "code",
   "execution_count": 1,
   "id": "dbf0fa04-d15f-40e3-bc8e-e0c581c9707c",
   "metadata": {},
   "outputs": [
    {
     "name": "stdout",
     "output_type": "stream",
     "text": [
      "Packages Loaded\n"
     ]
    }
   ],
   "source": [
    "from __future__ import print_function\n",
    "\n",
    "import os\n",
    "\n",
    "import pandas as pd\n",
    "import numpy as np\n",
    "import matplotlib.pyplot as plt\n",
    "import random\n",
    "import tensorflow as tf\n",
    "from tensorflow.keras.models import Sequential, Model\n",
    "from tensorflow.keras.layers import *\n",
    "from tensorflow.keras import layers\n",
    "from tensorflow.keras.callbacks import EarlyStopping, ModelCheckpoint,TensorBoard,ReduceLROnPlateau\n",
    "\n",
    "from tensorflow.keras.optimizers import SGD, Adam\n",
    "from tensorflow.keras.activations import relu\n",
    "from tensorflow.keras.regularizers import l2\n",
    "from tensorflow.keras.constraints import max_norm\n",
    "from tensorflow.keras import backend as K\n",
    "# from tensorflow.keras.datasets import mnist, cifar10\n",
    "import tensorflow_addons as tfa\n",
    "\n",
    "import sklearn\n",
    "from itertools import chain\n",
    "\n",
    "from IPython.core.interactiveshell import InteractiveShell\n",
    "InteractiveShell.ast_node_interactivity = \"all\"\n",
    "from scipy.io import loadmat \n",
    "import mat73\n",
    "from datetime import datetime\n",
    "import ipynbname\n",
    "\n",
    "print(\"Packages Loaded\")"
   ]
  },
  {
   "cell_type": "code",
   "execution_count": 2,
   "id": "b0970add-bd21-4800-9c09-be214880e057",
   "metadata": {},
   "outputs": [
    {
     "name": "stdout",
     "output_type": "stream",
     "text": [
      "1 Physical GPUs, 1 Logical GPUs\n"
     ]
    }
   ],
   "source": [
    "gpus = tf.config.list_physical_devices('GPU')\n",
    "if gpus:\n",
    "  try:\n",
    "    # Currently, memory growth needs to be the same across GPUs\n",
    "    for gpu in gpus:\n",
    "      #tf_config = tf.ConfigProto(allow_soft_placement=False)\n",
    "      tf.config.experimental.set_memory_growth(gpu, True)\n",
    "    logical_gpus = tf.config.list_logical_devices('GPU')\n",
    "    print(len(gpus), \"Physical GPUs,\", len(logical_gpus), \"Logical GPUs\")\n",
    "  except RuntimeError as e:\n",
    "    # Memory growth must be set before GPUs have been initialized\n",
    "    print(e)"
   ]
  },
  {
   "cell_type": "code",
   "execution_count": 3,
   "id": "ac4d22a9-05e5-4ece-bd8d-66a58fb87557",
   "metadata": {},
   "outputs": [],
   "source": [
    "# Use 16bit mmixed precision\n",
    "#tf.keras.mixed_precision.set_global_policy('mixed_float16')\n"
   ]
  },
  {
   "cell_type": "code",
   "execution_count": 4,
   "id": "5e0ff66a-fe8d-4b53-923d-87fd82eaa274",
   "metadata": {
    "tags": []
   },
   "outputs": [
    {
     "name": "stderr",
     "output_type": "stream",
     "text": [
      "\u001b[34m\u001b[1mwandb\u001b[0m: Currently logged in as: \u001b[33mibksolar\u001b[0m (use `wandb login --relogin` to force relogin)\n"
     ]
    },
    {
     "data": {
      "text/html": [
       "wandb version 0.13.0 is available!  To upgrade, please run:\n",
       " $ pip install wandb --upgrade"
      ],
      "text/plain": [
       "<IPython.core.display.HTML object>"
      ]
     },
     "metadata": {},
     "output_type": "display_data"
    },
    {
     "data": {
      "text/html": [
       "Tracking run with wandb version 0.12.11"
      ],
      "text/plain": [
       "<IPython.core.display.HTML object>"
      ]
     },
     "metadata": {},
     "output_type": "display_data"
    },
    {
     "data": {
      "text/html": [
       "Run data is saved locally in <code>Y:\\ibikunle\\Python_Project\\Fall_2021\\Model_and_weights\\wandb\\run-20220804_155432-38zfn6sc</code>"
      ],
      "text/plain": [
       "<IPython.core.display.HTML object>"
      ]
     },
     "metadata": {},
     "output_type": "display_data"
    },
    {
     "data": {
      "text/html": [
       "Syncing run <strong><a href=\"https://wandb.ai/ibksolar/my-test-project/runs/38zfn6sc\" target=\"_blank\">OldplainResNet_JanFindpeaks_script_04_August_22_1554</a></strong> to <a href=\"https://wandb.ai/ibksolar/my-test-project\" target=\"_blank\">Weights & Biases</a> (<a href=\"https://wandb.me/run\" target=\"_blank\">docs</a>)<br/>"
      ],
      "text/plain": [
       "<IPython.core.display.HTML object>"
      ]
     },
     "metadata": {},
     "output_type": "display_data"
    },
    {
     "data": {
      "text/html": [
       "<button onClick=\"this.nextSibling.style.display='block';this.style.display='none';\">Display W&B run</button><iframe src=\"https://wandb.ai/ibksolar/my-test-project/runs/38zfn6sc?jupyter=true\" style=\"border:none;width:100%;height:420px;display:none;\"></iframe>"
      ],
      "text/plain": [
       "<wandb.sdk.wandb_run.Run at 0x28884bac790>"
      ]
     },
     "execution_count": 4,
     "metadata": {},
     "output_type": "execute_result"
    }
   ],
   "source": [
    "# wandb login\n",
    "import wandb\n",
    "from wandb.keras import WandbCallback\n",
    "time_stamp = datetime.strftime( datetime.now(),'%d_%B_%y_%H%M')\n",
    "wandb.init(project=\"my-test-project\", entity=\"ibksolar\", name=\"OldplainResNet_JanFindpeaks_script_\"+time_stamp)\n",
    "\n",
    "config = wandb.config"
   ]
  },
  {
   "cell_type": "code",
   "execution_count": 5,
   "id": "4a0b45cd-e40d-439c-abca-b130d78f89ab",
   "metadata": {},
   "outputs": [],
   "source": [
    "# Load data\n",
    "# raw_data1 = loadmat('new_echo_cnn_in_out_jstarrs2021_first_try/echo_cnn_in_out_jstars1.mat')\n",
    "# raw_data1 = loadmat('echo_cnn_in_out_GOOD_layers/new_echo_cnn_in_out_jstars1.mat') 'findpeaks_layers/new_echo_cnn_in_out_jstars1.mat'\n",
    "load_old_data = True\n",
    "\n",
    "if load_old_data:\n",
    "    raw_data1 = loadmat('../../../Python_Env/final_layers_rowblock15_21/filtered_image/new_echo_cnn_in_out_jstars1.mat')\n",
    "    raw_data2 = loadmat('../../../Python_Env/final_layers_rowblock15_21/filtered_image/new_echo_cnn_in_out_jstars2.mat')\n",
    "    raw_data3 = loadmat('../../../Python_Env/final_layers_rowblock15_21/filtered_image/new_echo_cnn_in_out_jstars3.mat')\n",
    "    # raw_data4 = loadmat('findpeaks_layers_rowblock20/new_echo_cnn_in_out_jstars4.mat')\n",
    "\n",
    "    d1 = raw_data1['echo_cnn1']\n",
    "    t1 = raw_data1['echo_target1']\n",
    "    i1 = raw_data1['echo_idx1']\n",
    "    c1 = raw_data1['coords1']\n",
    "\n",
    "    d2 = raw_data2['echo_cnn2']\n",
    "    t2 = raw_data2['echo_target2']\n",
    "    i2 = raw_data2['echo_idx2']\n",
    "    c2 = raw_data2['coords2']\n",
    "\n",
    "    d3 = raw_data3['echo_cnn3']\n",
    "    t3 = raw_data3['echo_target3']\n",
    "    i3 = raw_data3['echo_idx3']\n",
    "    c3 = raw_data3['coords3']\n",
    "\n",
    "    # d4 = raw_data4['echo_cnn4']\n",
    "    # t4 = raw_data4['echo_target4']\n",
    "    # i4 = raw_data4['echo_idx4']\n",
    "\n",
    "\n",
    "    orig_all_data = np.concatenate( (d1,d2,d3),axis = 0 )\n",
    "    orig_all_target = np.concatenate( (t1,t2,t3),axis = 0 )\n",
    "    orig_all_idx = np.concatenate( (i1,i2,i3),axis = 0 )\n",
    "    coords = np.concatenate( (c1,c2,c3),axis = 0 )\n",
    "\n",
    "    # Set all nan in the data to zero\n",
    "    nan_idx = np.isnan(orig_all_data).any(axis =-1)\n",
    "    orig_all_target[nan_idx] = 0\n",
    "    orig_all_data[ np.isnan(orig_all_data) ]= 0"
   ]
  },
  {
   "cell_type": "code",
   "execution_count": 6,
   "id": "d9fb9b83-f2b1-4b99-82a7-e1580e7a2694",
   "metadata": {},
   "outputs": [],
   "source": [
    "load_new_data = False\n",
    "if load_new_data:\n",
    "    # base_path = '..\\\\..\\\\all_block_data\\Dec_Train_block_len_21_011121_2331'\n",
    "    # base_path = '../all_block_data/Old_data/Dec_Train_block_len_21_231121_1531'\n",
    "    base_path = 'Y:\\\\ibikunle\\\\Python_Project\\\\Fall_2021\\\\all_block_data\\\\Attention_Train_data\\\\Train_data\\\\20120330_04_5km'\n",
    "    \n",
    "    # Confirm path is right...\n",
    "    print(f'{os.path.isdir(base_path)}')"
   ]
  },
  {
   "cell_type": "code",
   "execution_count": 7,
   "id": "e179ca79-43c2-45d8-a10e-1bb54507a5bf",
   "metadata": {},
   "outputs": [],
   "source": [
    "if load_new_data:\n",
    "    raw_data1 = mat73.loadmat(base_path + '/echo_cnn_in_out_jstars.mat')\n",
    "    all_data = raw_data1['echo_cnn_input']\n",
    "    all_target = raw_data1['echo_cnn_target']\n",
    "    all_coords = raw_data1['coords']\n",
    "    echo_idx = raw_data1['orig_echo_idx']\n",
    "\n",
    "    # Set all nan in the data to zero\n",
    "    nan_idx = np.isnan(all_data).any(axis =-1)\n",
    "    print(f' Data have {sum(nan_idx)} nan data points')\n",
    "    \n",
    "    all_target[nan_idx] = 0\n",
    "    all_data[ np.isnan(all_data) ]= 0\n",
    "\n",
    "\n",
    "    orig_all_data = all_data\n",
    "    orig_all_target = all_target\n",
    "    orig_all_idx = echo_idx\n",
    "    coords = all_coords"
   ]
  },
  {
   "cell_type": "code",
   "execution_count": 8,
   "id": "694b1872-4e4e-481e-a8a0-dc8a0da2964b",
   "metadata": {
    "tags": []
   },
   "outputs": [],
   "source": [
    "# Split based on echograms into small dataset representing training and testing.\n",
    "\n",
    "config['reduce_test_set'] = False\n",
    "all_echo_idx = np.unique(orig_all_idx)\n",
    "\n",
    "# New training should stop at 1225: Final test set starts from echogram 119 in original imb.picker echograms\n",
    "#test_echo_idx = list(range(1225,int(max(all_echo_idx) +1) ))\n",
    "\n",
    "# Using pulsed again 13th July, 2022\n",
    "test_echo_idx = list(chain.from_iterable( [ list(range(20*n+1,20*n+20)) for n in range(1,max(all_echo_idx)//20,2) ] ) )\n",
    "\n",
    "\n",
    "# list(set(test_echo_idx) & set(train_echo_idx))\n",
    "\n",
    "if config['reduce_test_set']:    \n",
    "    test_start = 50 ; test_stop = test_start+round(0.3*len(test_echo_idx))\n",
    "    test_echo_idx = test_echo_idx[test_start:test_stop]\n",
    "     \n",
    "train_echo_idx = [int(elem) for elem in all_echo_idx if elem not in test_echo_idx]\n",
    "\n",
    "# Create new coords idx for each rowblock from all the echograms\n",
    "val_cnt = [ (orig_all_idx==elem).sum() for elem in train_echo_idx ]\n",
    "new_coords = []\n",
    "for elem in val_cnt:\n",
    "    new_coords.append([*range(elem)])\n",
    "new_coords = np.concatenate(new_coords).ravel()\n",
    "\n",
    "# Get all idx of echos in train_echo_idx ( Might need to find a faster implementation)\n",
    "#search_idx = np.where(orig_all_idx == train_echo_idx) #np.where( np.in1d(all_idx,train_echo_idx) )\n",
    "search_idx = []\n",
    "for echo_idx in train_echo_idx:\n",
    "    search_idx.append( np.where(orig_all_idx == echo_idx)[0] )\n",
    "search_idx = list(chain(*search_idx))\n",
    "\n",
    "all_data = orig_all_data[search_idx]\n",
    "all_target = orig_all_target[search_idx]\n",
    "all_idx = orig_all_idx[search_idx]\n",
    "\n",
    "np.testing.assert_equal(new_coords.shape[0],all_data.shape[0])"
   ]
  },
  {
   "cell_type": "code",
   "execution_count": 9,
   "id": "5382710c-f23a-4ce8-a01c-5c11a5e8e845",
   "metadata": {},
   "outputs": [],
   "source": [
    "\n",
    "truncate_data = False # Truncate data because data after truncate point is not good for training\n",
    "if truncate_data:    \n",
    "    echo_idx = np.asarray(echo_idx)\n",
    "    stop_val = 400\n",
    "\n",
    "    stop_list, = np.where(echo_idx == stop_val)\n",
    "    stop_idx = stop_list[-1]\n",
    "\n",
    "    all_data = all_data[:stop_idx]\n",
    "    all_target = all_target[:stop_idx]\n",
    "    echo_idx2 = echo_idx[:stop_idx]\n",
    "\n",
    "    print(f'Data shape {all_data.shape}')\n",
    "    print(f'Target shape {all_target.shape}')\n"
   ]
  },
  {
   "cell_type": "code",
   "execution_count": 10,
   "id": "3eaf3c7e-1bb9-4d3b-b0af-deca0f0995b7",
   "metadata": {},
   "outputs": [
    {
     "name": "stdout",
     "output_type": "stream",
     "text": [
      "Dimensions match\n"
     ]
    }
   ],
   "source": [
    "config['row_length'] = 21 # CHANGE HERE <==\n",
    "config['col_length'] = 15\n",
    "\n",
    "# Check that the dimension of data is correct\n",
    "if all_data.shape[1] == config['row_length']*config['col_length']:\n",
    "    print('Dimensions match')\n",
    "else:\n",
    "    print(f' Row block length:{config[\"row_length\"]} and col length:{config[\"col_length\"]} does not match Data dimension:{all_data.shape[1]}') \n",
    "        "
   ]
  },
  {
   "cell_type": "code",
   "execution_count": 11,
   "id": "efa0feb7-199b-48de-af8d-c1f695daca7e",
   "metadata": {},
   "outputs": [],
   "source": [
    "seq_length = 9\n",
    "\n",
    "# Create Coords matrix to be used for Positional Embedding\n",
    "new_coords_mtx = np.zeros( (len(new_coords),seq_length) )\n",
    "\n",
    "for idx,each_coord in enumerate(new_coords):\n",
    "    new_coords_mtx[idx] = np.linspace(0, each_coord, num=seq_length)"
   ]
  },
  {
   "cell_type": "code",
   "execution_count": 35,
   "id": "ab1acb17-7dee-417b-97bc-8d0bba4e4cf4",
   "metadata": {},
   "outputs": [
    {
     "name": "stdout",
     "output_type": "stream",
     "text": [
      "Shape of X_train:(831888, 21, 9)  X_test:(166378, 21, 9)\n",
      "Shape of y_train:(831888, 1)  y_test:(166378, 1)\n"
     ]
    }
   ],
   "source": [
    "max_class = config['row_length'] \n",
    "\n",
    "# Highest class is mapped to row_length+1\n",
    "all_target[all_target == max_class+1 ] = 0\n",
    "\n",
    "\n",
    "shuffle = 1\n",
    "if shuffle:\n",
    "    random.Random(13).shuffle(all_data)\n",
    "    random.Random(13).shuffle(all_target)\n",
    "    # random.Random(13).shuffle(all_coord_exp)\n",
    "    random.Random(13).shuffle(new_coords_mtx)\n",
    "\n",
    "## Prep data\n",
    "train_size = int(np.floor(0.75*len(all_target)));\n",
    "test_size = int(np.round( 0.15* all_data.shape[0] ))\n",
    "val_size = all_data.shape[0] -train_size - test_size\n",
    "\n",
    "mid_pt = 8\n",
    "neigh =  4\n",
    "\n",
    "x_train = all_data[0:train_size,:]\n",
    "x_train = np.reshape( x_train, (x_train.shape[0],max_class,-1),order ='F' )\n",
    "x_train = x_train[:,:,mid_pt-neigh:mid_pt+neigh+1]\n",
    "# x_train = np.reshape(x_train,(x_train.shape[0],-1))\n",
    "#x_train = np.transpose(x_train,(0,2,1))\n",
    "coords_train = new_coords_mtx[0:train_size,:]\n",
    "\n",
    "\n",
    "x_test = all_data[train_size:train_size+test_size,:]\n",
    "x_test = np.reshape( x_test,(x_test.shape[0],max_class,-1), order ='F' )\n",
    "x_test = x_test[:,:,mid_pt-neigh:mid_pt+neigh+1]\n",
    "# x_test = np.reshape(x_test,(x_test.shape[0],-1))\n",
    "#x_test = np.transpose(x_test,(0,2,1))\n",
    "coords_test = new_coords_mtx[train_size:train_size+test_size,:]\n",
    "\n",
    "\n",
    "x_val = all_data[-val_size:,:]\n",
    "x_val = np.reshape( x_val,(x_val.shape[0],max_class,-1), order ='F' )\n",
    "x_val = x_val[:,:,mid_pt-neigh:mid_pt+neigh+1]\n",
    "# x_val = np.reshape(x_val,(x_val.shape[0],-1))\n",
    "#x_val = np.transpose(x_val,(0,2,1))\n",
    "coords_val = new_coords_mtx[-val_size:,:]\n",
    "\n",
    "\n",
    "y_train = all_target[:train_size]\n",
    "y_test  = all_target[train_size:train_size+test_size]\n",
    "y_val = all_target[-val_size:]\n",
    "\n",
    "var_input_shape = x_train.shape[1:] # 240 columns\n",
    "config['num_classes'] = max_class+1 # layers\n",
    "\n",
    "\n",
    "# Convert labels to categorical orthonormal vectors\n",
    "y_train_1hot = tf.keras.utils.to_categorical(y_train, config['num_classes'])\n",
    "y_test_1hot  = tf.keras.utils.to_categorical(y_test, config['num_classes'])\n",
    "\n",
    "print(f'Shape of X_train:{x_train.shape}  X_test:{x_test.shape}')\n",
    "print(f'Shape of y_train:{y_train.shape}  y_test:{y_test.shape}')"
   ]
  },
  {
   "cell_type": "code",
   "execution_count": 36,
   "id": "8ec61453-2b31-4884-b1a3-75dbcb666fb9",
   "metadata": {},
   "outputs": [
    {
     "name": "stdout",
     "output_type": "stream",
     "text": [
      "Shape of x_val:(110918, 21, 9)  y_val:(110918, 1)\n"
     ]
    }
   ],
   "source": [
    "print(f'Shape of x_val:{x_val.shape}  y_val:{y_val.shape}')"
   ]
  },
  {
   "cell_type": "code",
   "execution_count": 37,
   "id": "8217ef2c-9102-459d-9b51-3b611258ac34",
   "metadata": {},
   "outputs": [],
   "source": [
    "x_train2 = np.stack((x_train,)*3, axis=-1)\n",
    "x_test2 = np.stack((x_test,)*3, axis=-1)\n",
    "x_val2 = np.stack((x_val,)*3, axis=-1)"
   ]
  },
  {
   "cell_type": "code",
   "execution_count": 15,
   "id": "9039fb37-161b-4b45-bf58-fc707fba187c",
   "metadata": {},
   "outputs": [
    {
     "data": {
      "image/png": "[encoded data removed]",
      "text/plain": [
       "<Figure size 432x288 with 1 Axes>"
      ]
     },
     "metadata": {
      "needs_background": "light"
     },
     "output_type": "display_data"
    },
    {
     "data": {
      "image/png": "[encoded data removed]",
      "text/plain": [
       "<Figure size 432x288 with 1 Axes>"
      ]
     },
     "metadata": {
      "needs_background": "light"
     },
     "output_type": "display_data"
    }
   ],
   "source": [
    "# Show distribution of targets in training and validation set\n",
    "\n",
    "labels, counts = np.unique(y_train, return_counts=True)\n",
    "_ = plt.bar(labels, counts, align='center')\n",
    "_ = plt.gca().set_xticks(labels)\n",
    "_ = plt.title('Distribution of targets in Training set')\n",
    "_ = plt.show()\n",
    "\n",
    "\n",
    "labels, counts = np.unique(y_val, return_counts=True)\n",
    "_ = plt.bar(labels, counts, align='center')\n",
    "_ = plt.gca().set_xticks(labels)\n",
    "_ = plt.title('Distribution of targets in Validation set')\n",
    "_ = plt.show()"
   ]
  },
  {
   "cell_type": "code",
   "execution_count": 38,
   "id": "7bfb6a81-52a9-4274-aa15-69416320afba",
   "metadata": {},
   "outputs": [
    {
     "name": "stdout",
     "output_type": "stream",
     "text": [
      "Could not get file name: auto-generating name\n",
      "Activation_function not in workspace\n",
      "loss_function not in workspace\n",
      "Accuracy_per_epoch not in workspace\n",
      "Loss_per_epoch not in workspace\n",
      "Stop_time not in workspace\n",
      "Current run hyper_params are dict_keys(['S_N', 'Start_time', 'NoteBook_name', 'Uniqueness_of_each_run', 'Base_dir', 'Train_shape', 'Output_shape', 'num_epochs', 'Activation_function', 'optimizer', 'learning_rate', 'loss_function', 'Accuracy_per_epoch', 'Loss_per_epoch', 'Stop_time', 'Model_config', 'Performance_on_test_set', 'output_path', 'shuffle', 'Computer_name', 'extras']):dict_values([95, '06_August_22_2312', 'NewDataset_ConvResNetRowBlock', 'RowBlock retraining in August: No transpose using Old repeated model', 'Y:\\\\ibikunle\\\\Python_Project\\\\Fall_2021\\\\all_block_data\\\\PulsedTrainTest\\\\LSTM_PositionalEmbedding', (831888, 21, 9), '', '', '', '', '', '', '', '', '', '', '', '', 1, 'DESKTOP-9ME1LSE', []])\n",
      "Fields to be updated include: ['Activation_function', 'loss_function', 'Accuracy_per_epoch', 'Loss_per_epoch', 'Stop_time', 'Model_config']\n"
     ]
    }
   ],
   "source": [
    "# Populate the param log\n",
    "base_path =  r'Y:\\ibikunle\\Python_Project\\Fall_2021\\all_block_data\\PulsedTrainTest\\LSTM_PositionalEmbedding'\n",
    "\n",
    "log ={}\n",
    "log['Notebook_name'] = ipynbname.name()\n",
    "log['Uniqueness_of_each_run'] = 'RowBlock retraining in August: No transpose using Old repeated model'\n",
    "log['base_dir'] = base_path\n",
    "log['Train_shape'] = x_train.shape\n",
    "log['Output_shape'] = ''\n",
    "log['num_epochs'] = ''\n",
    "log['batch_size'] = ''\n",
    "log['activation_function'] = ''\n",
    "log['optimizer'] = ''\n",
    "log['learning_rate'] = ''\n",
    "log['loss_finction'] = ''\n",
    "log['accuracy'] = []\n",
    "log['loss'] = []\n",
    "log['stop_time'] = ''\n",
    "log['Model_config'] = ''\n",
    "log['Performance_on_test_set'] = ''\n",
    "log['output_path'] = ''  # output: where the trained model is saved\n",
    "log['shuffle'] = shuffle\n",
    "log['run_completion_comment'] = '' # Comment on training and probably evaluation too\n",
    "log['extras'] = []\n",
    "\n",
    "from model_hyper_param_log import create_log_entry,update_log_entry\n",
    "if \"log_idx\" in globals():\n",
    "    log[\"S_N\"] = log_idx\n",
    "log_idx = create_log_entry('../testing_sheet2.xlsx', log)"
   ]
  },
  {
   "cell_type": "code",
   "execution_count": 17,
   "id": "0218423c-1707-40e1-98a4-8eedbd8a24f2",
   "metadata": {},
   "outputs": [],
   "source": [
    "data_augmentation = tf.keras.Sequential(\n",
    "    [\n",
    "        #layers.Rescaling(1 / 255.0),        \n",
    "        layers.RandomCrop(x_train.shape[1], x_train.shape[2]),\n",
    "        layers.RandomFlip(\"vertical\"),\n",
    "        layers.RandomFlip(\"horizontal\"),\n",
    "        layers.RandomContrast(0.2),\n",
    "        \n",
    "    ],\n",
    "    name=\"data_augmentation\",\n",
    ")"
   ]
  },
  {
   "cell_type": "code",
   "execution_count": null,
   "id": "307fe94b-686d-40da-954a-4de10bfe5169",
   "metadata": {},
   "outputs": [],
   "source": []
  },
  {
   "cell_type": "code",
   "execution_count": 39,
   "id": "e6188688-1b48-4c60-ba5a-d08e672fa359",
   "metadata": {
    "tags": []
   },
   "outputs": [
    {
     "name": "stdout",
     "output_type": "stream",
     "text": [
      "Training start time06_August_22_23_13\n",
      "Epoch 1/300\n",
      "   6/6500 [..............................] - ETA: 8:04 - loss: 14.9960 - accuracy: 0.1667 - top-3-accuracy: 0.3802WARNING:tensorflow:Callback method `on_train_batch_end` is slow compared to the batch time (batch time: 0.0427s vs `on_train_batch_end` time: 0.0443s). Check your callbacks.\n",
      "6500/6500 [==============================] - 552s 84ms/step - loss: 1.8627 - accuracy: 0.3364 - top-3-accuracy: 0.7082 - val_loss: 2.4704 - val_accuracy: 0.1808 - val_top-3-accuracy: 0.5615 - lr: 0.0010 - _timestamp: 1659846139.0000 - _runtime: 199667.0000\n",
      "Epoch 2/300\n",
      "6500/6500 [==============================] - 550s 85ms/step - loss: 1.7399 - accuracy: 0.3589 - top-3-accuracy: 0.7396 - val_loss: 2.3605 - val_accuracy: 0.2961 - val_top-3-accuracy: 0.6336 - lr: 0.0010 - _timestamp: 1659846690.0000 - _runtime: 200218.0000\n",
      "Epoch 3/300\n",
      "6500/6500 [==============================] - 549s 84ms/step - loss: 1.7099 - accuracy: 0.3654 - top-3-accuracy: 0.7453 - val_loss: 8.6765 - val_accuracy: 0.1400 - val_top-3-accuracy: 0.3913 - lr: 0.0010 - _timestamp: 1659847238.0000 - _runtime: 200766.0000\n",
      "Epoch 4/300\n",
      "6500/6500 [==============================] - 550s 85ms/step - loss: 1.7028 - accuracy: 0.3659 - top-3-accuracy: 0.7465 - val_loss: 2.7065 - val_accuracy: 0.2159 - val_top-3-accuracy: 0.5159 - lr: 0.0010 - _timestamp: 1659847788.0000 - _runtime: 201316.0000\n",
      "Epoch 5/300\n",
      "6500/6500 [==============================] - 551s 85ms/step - loss: 1.6839 - accuracy: 0.3707 - top-3-accuracy: 0.7509 - val_loss: 2.0176 - val_accuracy: 0.2784 - val_top-3-accuracy: 0.6417 - lr: 0.0010 - _timestamp: 1659848339.0000 - _runtime: 201867.0000\n",
      "Epoch 6/300\n",
      "6500/6500 [==============================] - 548s 84ms/step - loss: 1.6792 - accuracy: 0.3721 - top-3-accuracy: 0.7520 - val_loss: 3.1475 - val_accuracy: 0.1565 - val_top-3-accuracy: 0.3784 - lr: 0.0010 - _timestamp: 1659848887.0000 - _runtime: 202415.0000\n",
      "Epoch 7/300\n",
      "6500/6500 [==============================] - 548s 84ms/step - loss: 1.6703 - accuracy: 0.3748 - top-3-accuracy: 0.7544 - val_loss: 2.1512 - val_accuracy: 0.2410 - val_top-3-accuracy: 0.6009 - lr: 0.0010 - _timestamp: 1659849435.0000 - _runtime: 202963.0000\n",
      "Epoch 8/300\n",
      "6500/6500 [==============================] - 548s 84ms/step - loss: 1.6653 - accuracy: 0.3760 - top-3-accuracy: 0.7567 - val_loss: 2.0386 - val_accuracy: 0.3363 - val_top-3-accuracy: 0.6953 - lr: 0.0010 - _timestamp: 1659849982.0000 - _runtime: 203510.0000\n",
      "Epoch 9/300\n",
      "6500/6500 [==============================] - 548s 84ms/step - loss: 1.6520 - accuracy: 0.3781 - top-3-accuracy: 0.7589 - val_loss: 2.1159 - val_accuracy: 0.2911 - val_top-3-accuracy: 0.6556 - lr: 0.0010 - _timestamp: 1659850531.0000 - _runtime: 204059.0000\n",
      "Epoch 10/300\n",
      "6500/6500 [==============================] - 550s 85ms/step - loss: 1.6396 - accuracy: 0.3820 - top-3-accuracy: 0.7613 - val_loss: 2.0035 - val_accuracy: 0.3352 - val_top-3-accuracy: 0.7028 - lr: 0.0010 - _timestamp: 1659851081.0000 - _runtime: 204609.0000\n",
      "Epoch 11/300\n",
      "6500/6500 [==============================] - 548s 84ms/step - loss: 1.6326 - accuracy: 0.3834 - top-3-accuracy: 0.7635 - val_loss: 2.1326 - val_accuracy: 0.3226 - val_top-3-accuracy: 0.6565 - lr: 0.0010 - _timestamp: 1659851629.0000 - _runtime: 205157.0000\n",
      "Epoch 12/300\n",
      "6500/6500 [==============================] - 548s 84ms/step - loss: 1.6269 - accuracy: 0.3846 - top-3-accuracy: 0.7647 - val_loss: 2.3633 - val_accuracy: 0.2144 - val_top-3-accuracy: 0.5242 - lr: 0.0010 - _timestamp: 1659852177.0000 - _runtime: 205705.0000\n",
      "Epoch 13/300\n",
      "6500/6500 [==============================] - 548s 84ms/step - loss: 1.6195 - accuracy: 0.3864 - top-3-accuracy: 0.7669 - val_loss: 2.0962 - val_accuracy: 0.2986 - val_top-3-accuracy: 0.6687 - lr: 0.0010 - _timestamp: 1659852725.0000 - _runtime: 206253.0000\n",
      "Epoch 14/300\n",
      "6500/6500 [==============================] - 550s 85ms/step - loss: 1.6154 - accuracy: 0.3879 - top-3-accuracy: 0.7686 - val_loss: 1.9494 - val_accuracy: 0.3291 - val_top-3-accuracy: 0.6868 - lr: 0.0010 - _timestamp: 1659853275.0000 - _runtime: 206803.0000\n",
      "Epoch 15/300\n",
      "6500/6500 [==============================] - 546s 84ms/step - loss: 1.6099 - accuracy: 0.3900 - top-3-accuracy: 0.7703 - val_loss: 2.6138 - val_accuracy: 0.2762 - val_top-3-accuracy: 0.5990 - lr: 0.0010 - _timestamp: 1659853822.0000 - _runtime: 207350.0000\n",
      "Epoch 16/300\n",
      "6500/6500 [==============================] - 550s 85ms/step - loss: 1.6038 - accuracy: 0.3913 - top-3-accuracy: 0.7719 - val_loss: 1.9222 - val_accuracy: 0.3548 - val_top-3-accuracy: 0.7235 - lr: 0.0010 - _timestamp: 1659854372.0000 - _runtime: 207900.0000\n",
      "Epoch 17/300\n",
      "6500/6500 [==============================] - 548s 84ms/step - loss: 1.5995 - accuracy: 0.3939 - top-3-accuracy: 0.7724 - val_loss: 2.0318 - val_accuracy: 0.3188 - val_top-3-accuracy: 0.7022 - lr: 0.0010 - _timestamp: 1659854920.0000 - _runtime: 208448.0000\n",
      "Epoch 18/300\n",
      "6500/6500 [==============================] - 548s 84ms/step - loss: 1.5949 - accuracy: 0.3947 - top-3-accuracy: 0.7742 - val_loss: 2.3610 - val_accuracy: 0.2699 - val_top-3-accuracy: 0.6065 - lr: 0.0010 - _timestamp: 1659855468.0000 - _runtime: 208996.0000\n",
      "Epoch 19/300\n",
      "6500/6500 [==============================] - 548s 84ms/step - loss: 1.3838 - accuracy: 0.4711 - top-3-accuracy: 0.8309 - val_loss: 2.6546 - val_accuracy: 0.4147 - val_top-3-accuracy: 0.7704 - lr: 6.2500e-05 - _timestamp: 1659872950.0000 - _runtime: 226478.0000\n",
      "Epoch 51/300\n",
      "6500/6500 [==============================] - ETA: 0s - loss: 1.3832 - accuracy: 0.4717 - top-3-accuracy: 0.8312\n",
      "Epoch 51: ReduceLROnPlateau reducing learning rate to 1.5625000742147677e-05.\n",
      "6500/6500 [==============================] - 547s 84ms/step - loss: 1.3832 - accuracy: 0.4717 - top-3-accuracy: 0.8312 - val_loss: 3.5248 - val_accuracy: 0.4068 - val_top-3-accuracy: 0.7655 - lr: 6.2500e-05 - _timestamp: 1659873497.0000 - _runtime: 227025.0000\n",
      "Epoch 51: early stopping\n",
      "95\n",
      "Could not automatically populate Loss_function\n"
     ]
    },
    {
     "ename": "ValueError",
     "evalue": "Must have equal len keys and value when setting with an iterable",
     "output_type": "error",
     "traceback": [
      "\u001b[1;31m---------------------------------------------------------------------------\u001b[0m",
      "\u001b[1;31mTypeError\u001b[0m                                 Traceback (most recent call last)",
      "\u001b[1;31mTypeError\u001b[0m: float() argument must be a string or a number, not 'list'",
      "\nThe above exception was the direct cause of the following exception:\n",
      "\u001b[1;31mValueError\u001b[0m                                Traceback (most recent call last)",
      "\u001b[1;32mY:\\ibikunle\\Python_Project\\Fall_2021\\Model_and_weights\\model_hyper_param_log.py\u001b[0m in \u001b[0;36mupdate_log_entry\u001b[1;34m(log_file_loc, S_N, model, history)\u001b[0m\n\u001b[0;32m    313\u001b[0m         \u001b[1;31m#print(history.history['accuracy'] )\u001b[0m\u001b[1;33m\u001b[0m\u001b[1;33m\u001b[0m\u001b[0m\n\u001b[1;32m--> 314\u001b[1;33m         \u001b[0mdf\u001b[0m\u001b[1;33m.\u001b[0m\u001b[0mloc\u001b[0m\u001b[1;33m[\u001b[0m\u001b[0mS_N\u001b[0m\u001b[1;33m,\u001b[0m\u001b[1;34m'accuracy'\u001b[0m\u001b[1;33m]\u001b[0m \u001b[1;33m=\u001b[0m  \u001b[1;33m[\u001b[0m \u001b[0mhistory\u001b[0m\u001b[1;33m.\u001b[0m\u001b[0mhistory\u001b[0m\u001b[1;33m[\u001b[0m\u001b[1;34m'accuracy'\u001b[0m\u001b[1;33m]\u001b[0m\u001b[1;33m[\u001b[0m\u001b[1;33m-\u001b[0m\u001b[1;36m1\u001b[0m\u001b[1;33m]\u001b[0m \u001b[1;33m]\u001b[0m\u001b[1;33m\u001b[0m\u001b[1;33m\u001b[0m\u001b[0m\n\u001b[0m\u001b[0;32m    315\u001b[0m     \u001b[1;32mexcept\u001b[0m\u001b[1;33m:\u001b[0m\u001b[1;33m\u001b[0m\u001b[1;33m\u001b[0m\u001b[0m\n",
      "\u001b[1;32m~\\.conda\\envs\\TF_2.8\\lib\\site-packages\\pandas\\core\\indexing.py\u001b[0m in \u001b[0;36m__setitem__\u001b[1;34m(self, key, value)\u001b[0m\n\u001b[0;32m    715\u001b[0m         \u001b[0miloc\u001b[0m \u001b[1;33m=\u001b[0m \u001b[0mself\u001b[0m \u001b[1;32mif\u001b[0m \u001b[0mself\u001b[0m\u001b[1;33m.\u001b[0m\u001b[0mname\u001b[0m \u001b[1;33m==\u001b[0m \u001b[1;34m\"iloc\"\u001b[0m \u001b[1;32melse\u001b[0m \u001b[0mself\u001b[0m\u001b[1;33m.\u001b[0m\u001b[0mobj\u001b[0m\u001b[1;33m.\u001b[0m\u001b[0miloc\u001b[0m\u001b[1;33m\u001b[0m\u001b[1;33m\u001b[0m\u001b[0m\n\u001b[1;32m--> 716\u001b[1;33m         \u001b[0miloc\u001b[0m\u001b[1;33m.\u001b[0m\u001b[0m_setitem_with_indexer\u001b[0m\u001b[1;33m(\u001b[0m\u001b[0mindexer\u001b[0m\u001b[1;33m,\u001b[0m \u001b[0mvalue\u001b[0m\u001b[1;33m,\u001b[0m \u001b[0mself\u001b[0m\u001b[1;33m.\u001b[0m\u001b[0mname\u001b[0m\u001b[1;33m)\u001b[0m\u001b[1;33m\u001b[0m\u001b[1;33m\u001b[0m\u001b[0m\n\u001b[0m\u001b[0;32m    717\u001b[0m \u001b[1;33m\u001b[0m\u001b[0m\n",
      "\u001b[1;32m~\\.conda\\envs\\TF_2.8\\lib\\site-packages\\pandas\\core\\indexing.py\u001b[0m in \u001b[0;36m_setitem_with_indexer\u001b[1;34m(self, indexer, value, name)\u001b[0m\n\u001b[0;32m   1687\u001b[0m             \u001b[1;31m# We have to operate column-wise\u001b[0m\u001b[1;33m\u001b[0m\u001b[1;33m\u001b[0m\u001b[0m\n\u001b[1;32m-> 1688\u001b[1;33m             \u001b[0mself\u001b[0m\u001b[1;33m.\u001b[0m\u001b[0m_setitem_with_indexer_split_path\u001b[0m\u001b[1;33m(\u001b[0m\u001b[0mindexer\u001b[0m\u001b[1;33m,\u001b[0m \u001b[0mvalue\u001b[0m\u001b[1;33m,\u001b[0m \u001b[0mname\u001b[0m\u001b[1;33m)\u001b[0m\u001b[1;33m\u001b[0m\u001b[1;33m\u001b[0m\u001b[0m\n\u001b[0m\u001b[0;32m   1689\u001b[0m         \u001b[1;32melse\u001b[0m\u001b[1;33m:\u001b[0m\u001b[1;33m\u001b[0m\u001b[1;33m\u001b[0m\u001b[0m\n",
      "\u001b[1;32m~\\.conda\\envs\\TF_2.8\\lib\\site-packages\\pandas\\core\\indexing.py\u001b[0m in \u001b[0;36m_setitem_with_indexer_split_path\u001b[1;34m(self, indexer, value, name)\u001b[0m\n\u001b[0;32m   1753\u001b[0m                 \u001b[1;31m# We are setting nested data\u001b[0m\u001b[1;33m\u001b[0m\u001b[1;33m\u001b[0m\u001b[0m\n\u001b[1;32m-> 1754\u001b[1;33m                 \u001b[0mself\u001b[0m\u001b[1;33m.\u001b[0m\u001b[0m_setitem_single_column\u001b[0m\u001b[1;33m(\u001b[0m\u001b[0mindexer\u001b[0m\u001b[1;33m[\u001b[0m\u001b[1;36m1\u001b[0m\u001b[1;33m]\u001b[0m\u001b[1;33m,\u001b[0m \u001b[0mvalue\u001b[0m\u001b[1;33m,\u001b[0m \u001b[0mpi\u001b[0m\u001b[1;33m)\u001b[0m\u001b[1;33m\u001b[0m\u001b[1;33m\u001b[0m\u001b[0m\n\u001b[0m\u001b[0;32m   1755\u001b[0m \u001b[1;33m\u001b[0m\u001b[0m\n",
      "\u001b[1;32m~\\.conda\\envs\\TF_2.8\\lib\\site-packages\\pandas\\core\\indexing.py\u001b[0m in \u001b[0;36m_setitem_single_column\u001b[1;34m(self, loc, value, plane_indexer)\u001b[0m\n\u001b[0;32m   1884\u001b[0m             \u001b[0morig_values\u001b[0m \u001b[1;33m=\u001b[0m \u001b[0mser\u001b[0m\u001b[1;33m.\u001b[0m\u001b[0m_values\u001b[0m\u001b[1;33m\u001b[0m\u001b[1;33m\u001b[0m\u001b[0m\n\u001b[1;32m-> 1885\u001b[1;33m             \u001b[0mser\u001b[0m\u001b[1;33m.\u001b[0m\u001b[0m_mgr\u001b[0m \u001b[1;33m=\u001b[0m \u001b[0mser\u001b[0m\u001b[1;33m.\u001b[0m\u001b[0m_mgr\u001b[0m\u001b[1;33m.\u001b[0m\u001b[0msetitem\u001b[0m\u001b[1;33m(\u001b[0m\u001b[1;33m(\u001b[0m\u001b[0mpi\u001b[0m\u001b[1;33m,\u001b[0m\u001b[1;33m)\u001b[0m\u001b[1;33m,\u001b[0m \u001b[0mvalue\u001b[0m\u001b[1;33m)\u001b[0m\u001b[1;33m\u001b[0m\u001b[1;33m\u001b[0m\u001b[0m\n\u001b[0m\u001b[0;32m   1886\u001b[0m \u001b[1;33m\u001b[0m\u001b[0m\n",
      "\u001b[1;32m~\\.conda\\envs\\TF_2.8\\lib\\site-packages\\pandas\\core\\internals\\managers.py\u001b[0m in \u001b[0;36msetitem\u001b[1;34m(self, indexer, value)\u001b[0m\n\u001b[0;32m    336\u001b[0m         \"\"\"\n\u001b[1;32m--> 337\u001b[1;33m         \u001b[1;32mreturn\u001b[0m \u001b[0mself\u001b[0m\u001b[1;33m.\u001b[0m\u001b[0mapply\u001b[0m\u001b[1;33m(\u001b[0m\u001b[1;34m\"setitem\"\u001b[0m\u001b[1;33m,\u001b[0m \u001b[0mindexer\u001b[0m\u001b[1;33m=\u001b[0m\u001b[0mindexer\u001b[0m\u001b[1;33m,\u001b[0m \u001b[0mvalue\u001b[0m\u001b[1;33m=\u001b[0m\u001b[0mvalue\u001b[0m\u001b[1;33m)\u001b[0m\u001b[1;33m\u001b[0m\u001b[1;33m\u001b[0m\u001b[0m\n\u001b[0m\u001b[0;32m    338\u001b[0m \u001b[1;33m\u001b[0m\u001b[0m\n",
      "\u001b[1;32m~\\.conda\\envs\\TF_2.8\\lib\\site-packages\\pandas\\core\\internals\\managers.py\u001b[0m in \u001b[0;36mapply\u001b[1;34m(self, f, align_keys, ignore_failures, **kwargs)\u001b[0m\n\u001b[0;32m    303\u001b[0m                 \u001b[1;32melse\u001b[0m\u001b[1;33m:\u001b[0m\u001b[1;33m\u001b[0m\u001b[1;33m\u001b[0m\u001b[0m\n\u001b[1;32m--> 304\u001b[1;33m                     \u001b[0mapplied\u001b[0m \u001b[1;33m=\u001b[0m \u001b[0mgetattr\u001b[0m\u001b[1;33m(\u001b[0m\u001b[0mb\u001b[0m\u001b[1;33m,\u001b[0m \u001b[0mf\u001b[0m\u001b[1;33m)\u001b[0m\u001b[1;33m(\u001b[0m\u001b[1;33m**\u001b[0m\u001b[0mkwargs\u001b[0m\u001b[1;33m)\u001b[0m\u001b[1;33m\u001b[0m\u001b[1;33m\u001b[0m\u001b[0m\n\u001b[0m\u001b[0;32m    305\u001b[0m             \u001b[1;32mexcept\u001b[0m \u001b[1;33m(\u001b[0m\u001b[0mTypeError\u001b[0m\u001b[1;33m,\u001b[0m \u001b[0mNotImplementedError\u001b[0m\u001b[1;33m)\u001b[0m\u001b[1;33m:\u001b[0m\u001b[1;33m\u001b[0m\u001b[1;33m\u001b[0m\u001b[0m\n",
      "\u001b[1;32m~\\.conda\\envs\\TF_2.8\\lib\\site-packages\\pandas\\core\\internals\\blocks.py\u001b[0m in \u001b[0;36msetitem\u001b[1;34m(self, indexer, value)\u001b[0m\n\u001b[0;32m    936\u001b[0m             \u001b[1;31m#  be e.g. a list; see GH#6043\u001b[0m\u001b[1;33m\u001b[0m\u001b[1;33m\u001b[0m\u001b[0m\n\u001b[1;32m--> 937\u001b[1;33m             \u001b[0mvalues\u001b[0m\u001b[1;33m[\u001b[0m\u001b[0mindexer\u001b[0m\u001b[1;33m]\u001b[0m \u001b[1;33m=\u001b[0m \u001b[0mvalue\u001b[0m\u001b[1;33m\u001b[0m\u001b[1;33m\u001b[0m\u001b[0m\n\u001b[0m\u001b[0;32m    938\u001b[0m \u001b[1;33m\u001b[0m\u001b[0m\n",
      "\u001b[1;31mValueError\u001b[0m: setting an array element with a sequence.",
      "\nDuring handling of the above exception, another exception occurred:\n",
      "\u001b[1;31mValueError\u001b[0m                                Traceback (most recent call last)",
      "\u001b[1;32m~\\AppData\\Local\\Temp\\ipykernel_12064\\4169257943.py\u001b[0m in \u001b[0;36m<module>\u001b[1;34m\u001b[0m\n\u001b[0;32m    190\u001b[0m \u001b[1;33m\u001b[0m\u001b[0m\n\u001b[0;32m    191\u001b[0m \u001b[1;31m# Update manual log file\u001b[0m\u001b[1;33m\u001b[0m\u001b[1;33m\u001b[0m\u001b[0m\n\u001b[1;32m--> 192\u001b[1;33m \u001b[0mparams_to_be_updated\u001b[0m \u001b[1;33m=\u001b[0m \u001b[0mupdate_log_entry\u001b[0m\u001b[1;33m(\u001b[0m\u001b[1;34m'../testing_sheet2.xlsx'\u001b[0m\u001b[1;33m,\u001b[0m \u001b[0mlog_idx\u001b[0m\u001b[1;33m,\u001b[0m \u001b[0mmodel\u001b[0m\u001b[1;33m,\u001b[0m \u001b[0mhistory\u001b[0m\u001b[1;33m)\u001b[0m\u001b[1;33m\u001b[0m\u001b[1;33m\u001b[0m\u001b[0m\n\u001b[0m\u001b[0;32m    193\u001b[0m \u001b[1;33m\u001b[0m\u001b[0m\n\u001b[0;32m    194\u001b[0m \u001b[1;33m\u001b[0m\u001b[0m\n",
      "\u001b[1;32mY:\\ibikunle\\Python_Project\\Fall_2021\\Model_and_weights\\model_hyper_param_log.py\u001b[0m in \u001b[0;36mupdate_log_entry\u001b[1;34m(log_file_loc, S_N, model, history)\u001b[0m\n\u001b[0;32m    314\u001b[0m         \u001b[0mdf\u001b[0m\u001b[1;33m.\u001b[0m\u001b[0mloc\u001b[0m\u001b[1;33m[\u001b[0m\u001b[0mS_N\u001b[0m\u001b[1;33m,\u001b[0m\u001b[1;34m'accuracy'\u001b[0m\u001b[1;33m]\u001b[0m \u001b[1;33m=\u001b[0m  \u001b[1;33m[\u001b[0m \u001b[0mhistory\u001b[0m\u001b[1;33m.\u001b[0m\u001b[0mhistory\u001b[0m\u001b[1;33m[\u001b[0m\u001b[1;34m'accuracy'\u001b[0m\u001b[1;33m]\u001b[0m\u001b[1;33m[\u001b[0m\u001b[1;33m-\u001b[0m\u001b[1;36m1\u001b[0m\u001b[1;33m]\u001b[0m \u001b[1;33m]\u001b[0m\u001b[1;33m\u001b[0m\u001b[1;33m\u001b[0m\u001b[0m\n\u001b[0;32m    315\u001b[0m     \u001b[1;32mexcept\u001b[0m\u001b[1;33m:\u001b[0m\u001b[1;33m\u001b[0m\u001b[1;33m\u001b[0m\u001b[0m\n\u001b[1;32m--> 316\u001b[1;33m         \u001b[0mdf\u001b[0m\u001b[1;33m.\u001b[0m\u001b[0mloc\u001b[0m\u001b[1;33m[\u001b[0m\u001b[0mS_N\u001b[0m\u001b[1;33m,\u001b[0m\u001b[1;34m'accuracy'\u001b[0m\u001b[1;33m]\u001b[0m  \u001b[1;33m=\u001b[0m \u001b[1;33m[\u001b[0m\u001b[1;33m]\u001b[0m\u001b[1;33m\u001b[0m\u001b[1;33m\u001b[0m\u001b[0m\n\u001b[0m\u001b[0;32m    317\u001b[0m         \u001b[0mprint\u001b[0m\u001b[1;33m(\u001b[0m\u001b[1;34m'Accuracy_per_epoch could not be automatically populated'\u001b[0m\u001b[1;33m)\u001b[0m\u001b[1;33m\u001b[0m\u001b[1;33m\u001b[0m\u001b[0m\n\u001b[0;32m    318\u001b[0m         \u001b[0mparams_to_be_updated\u001b[0m\u001b[1;33m.\u001b[0m\u001b[0mappend\u001b[0m\u001b[1;33m(\u001b[0m\u001b[1;34m'accuracy'\u001b[0m\u001b[1;33m)\u001b[0m\u001b[1;33m\u001b[0m\u001b[1;33m\u001b[0m\u001b[0m\n",
      "\u001b[1;32m~\\.conda\\envs\\TF_2.8\\lib\\site-packages\\pandas\\core\\indexing.py\u001b[0m in \u001b[0;36m__setitem__\u001b[1;34m(self, key, value)\u001b[0m\n\u001b[0;32m    714\u001b[0m \u001b[1;33m\u001b[0m\u001b[0m\n\u001b[0;32m    715\u001b[0m         \u001b[0miloc\u001b[0m \u001b[1;33m=\u001b[0m \u001b[0mself\u001b[0m \u001b[1;32mif\u001b[0m \u001b[0mself\u001b[0m\u001b[1;33m.\u001b[0m\u001b[0mname\u001b[0m \u001b[1;33m==\u001b[0m \u001b[1;34m\"iloc\"\u001b[0m \u001b[1;32melse\u001b[0m \u001b[0mself\u001b[0m\u001b[1;33m.\u001b[0m\u001b[0mobj\u001b[0m\u001b[1;33m.\u001b[0m\u001b[0miloc\u001b[0m\u001b[1;33m\u001b[0m\u001b[1;33m\u001b[0m\u001b[0m\n\u001b[1;32m--> 716\u001b[1;33m         \u001b[0miloc\u001b[0m\u001b[1;33m.\u001b[0m\u001b[0m_setitem_with_indexer\u001b[0m\u001b[1;33m(\u001b[0m\u001b[0mindexer\u001b[0m\u001b[1;33m,\u001b[0m \u001b[0mvalue\u001b[0m\u001b[1;33m,\u001b[0m \u001b[0mself\u001b[0m\u001b[1;33m.\u001b[0m\u001b[0mname\u001b[0m\u001b[1;33m)\u001b[0m\u001b[1;33m\u001b[0m\u001b[1;33m\u001b[0m\u001b[0m\n\u001b[0m\u001b[0;32m    717\u001b[0m \u001b[1;33m\u001b[0m\u001b[0m\n\u001b[0;32m    718\u001b[0m     \u001b[1;32mdef\u001b[0m \u001b[0m_validate_key\u001b[0m\u001b[1;33m(\u001b[0m\u001b[0mself\u001b[0m\u001b[1;33m,\u001b[0m \u001b[0mkey\u001b[0m\u001b[1;33m,\u001b[0m \u001b[0maxis\u001b[0m\u001b[1;33m:\u001b[0m \u001b[0mint\u001b[0m\u001b[1;33m)\u001b[0m\u001b[1;33m:\u001b[0m\u001b[1;33m\u001b[0m\u001b[1;33m\u001b[0m\u001b[0m\n",
      "\u001b[1;32m~\\.conda\\envs\\TF_2.8\\lib\\site-packages\\pandas\\core\\indexing.py\u001b[0m in \u001b[0;36m_setitem_with_indexer\u001b[1;34m(self, indexer, value, name)\u001b[0m\n\u001b[0;32m   1686\u001b[0m         \u001b[1;32mif\u001b[0m \u001b[0mtake_split_path\u001b[0m\u001b[1;33m:\u001b[0m\u001b[1;33m\u001b[0m\u001b[1;33m\u001b[0m\u001b[0m\n\u001b[0;32m   1687\u001b[0m             \u001b[1;31m# We have to operate column-wise\u001b[0m\u001b[1;33m\u001b[0m\u001b[1;33m\u001b[0m\u001b[0m\n\u001b[1;32m-> 1688\u001b[1;33m             \u001b[0mself\u001b[0m\u001b[1;33m.\u001b[0m\u001b[0m_setitem_with_indexer_split_path\u001b[0m\u001b[1;33m(\u001b[0m\u001b[0mindexer\u001b[0m\u001b[1;33m,\u001b[0m \u001b[0mvalue\u001b[0m\u001b[1;33m,\u001b[0m \u001b[0mname\u001b[0m\u001b[1;33m)\u001b[0m\u001b[1;33m\u001b[0m\u001b[1;33m\u001b[0m\u001b[0m\n\u001b[0m\u001b[0;32m   1689\u001b[0m         \u001b[1;32melse\u001b[0m\u001b[1;33m:\u001b[0m\u001b[1;33m\u001b[0m\u001b[1;33m\u001b[0m\u001b[0m\n\u001b[0;32m   1690\u001b[0m             \u001b[0mself\u001b[0m\u001b[1;33m.\u001b[0m\u001b[0m_setitem_single_block\u001b[0m\u001b[1;33m(\u001b[0m\u001b[0mindexer\u001b[0m\u001b[1;33m,\u001b[0m \u001b[0mvalue\u001b[0m\u001b[1;33m,\u001b[0m \u001b[0mname\u001b[0m\u001b[1;33m)\u001b[0m\u001b[1;33m\u001b[0m\u001b[1;33m\u001b[0m\u001b[0m\n",
      "\u001b[1;32m~\\.conda\\envs\\TF_2.8\\lib\\site-packages\\pandas\\core\\indexing.py\u001b[0m in \u001b[0;36m_setitem_with_indexer_split_path\u001b[1;34m(self, indexer, value, name)\u001b[0m\n\u001b[0;32m   1741\u001b[0m                     \u001b[1;32mreturn\u001b[0m \u001b[0mself\u001b[0m\u001b[1;33m.\u001b[0m\u001b[0m_setitem_with_indexer\u001b[0m\u001b[1;33m(\u001b[0m\u001b[1;33m(\u001b[0m\u001b[0mpi\u001b[0m\u001b[1;33m,\u001b[0m \u001b[0minfo_axis\u001b[0m\u001b[1;33m[\u001b[0m\u001b[1;36m0\u001b[0m\u001b[1;33m]\u001b[0m\u001b[1;33m)\u001b[0m\u001b[1;33m,\u001b[0m \u001b[0mvalue\u001b[0m\u001b[1;33m[\u001b[0m\u001b[1;36m0\u001b[0m\u001b[1;33m]\u001b[0m\u001b[1;33m)\u001b[0m\u001b[1;33m\u001b[0m\u001b[1;33m\u001b[0m\u001b[0m\n\u001b[0;32m   1742\u001b[0m \u001b[1;33m\u001b[0m\u001b[0m\n\u001b[1;32m-> 1743\u001b[1;33m                 raise ValueError(\n\u001b[0m\u001b[0;32m   1744\u001b[0m                     \u001b[1;34m\"Must have equal len keys and value \"\u001b[0m\u001b[1;33m\u001b[0m\u001b[1;33m\u001b[0m\u001b[0m\n\u001b[0;32m   1745\u001b[0m                     \u001b[1;34m\"when setting with an iterable\"\u001b[0m\u001b[1;33m\u001b[0m\u001b[1;33m\u001b[0m\u001b[0m\n",
      "\u001b[1;31mValueError\u001b[0m: Must have equal len keys and value when setting with an iterable"
     ]
    }
   ],
   "source": [
    "# Create your own ResNet here.\n",
    "\n",
    "# Skip 3 connection version of base model\n",
    "drop_out = 0.2\n",
    "nodes = 1024\n",
    "num_epochs = 300\n",
    "batch_size= 128 #512\n",
    "learning_rate = 1e-3\n",
    "\n",
    "input_shape = (x_train2.shape[1:])# + (1,) #input_shape = (21,5,) #x_train.shape[2]\n",
    "inputs = tf.keras.Input(shape=input_shape, name='Data_Input') \n",
    "\n",
    "# pos_input_shape = (coords_train.shape[1:])\n",
    "# pos_inputs = tf.keras.Input(shape= pos_input_shape, name='PosEmbed_Input')\n",
    "# pos_embedding = layers.Embedding(input_dim = np.max(new_coords), output_dim = input_shape[-1])(pos_inputs)\n",
    "\n",
    "x1 = data_augmentation(inputs) #+ pos_embedding\n",
    "x1 = tf.reduce_mean(x1, axis =-1)\n",
    "x2 = layers.LayerNormalization()(x1)\n",
    "\n",
    "x2 = layers.Conv1D(64,3,activation=\"relu\",input_shape=(x1.shape[-2:]),padding=\"same\")(x1)\n",
    "x2 = layers.Conv1D(64,3,activation=\"relu\",input_shape=(x1.shape[-2:]),padding=\"same\")(x2)\n",
    "\n",
    "x2 = layers.Flatten()(x2)\n",
    "\n",
    "# aug_inputs = data_augmentation(inputs)\n",
    "#x = Dense(nodes, activation='relu')(inputs)\n",
    "\n",
    "block_1_output = Dense(nodes)(x2) #activation='relu'\n",
    "x = Dense(nodes,activation='relu')(block_1_output)\n",
    "x = BatchNormalization()(x)\n",
    "# x = Activation('relu')(x)\n",
    "# x = Dropout(drop_out)(x)\n",
    "\n",
    "x = Dense(nodes)(x)\n",
    "x = BatchNormalization()(x)\n",
    "x = Activation('relu')(x)\n",
    "x = Dropout(drop_out)(x)\n",
    "\n",
    "x = Dense(nodes)(x)\n",
    "x = BatchNormalization()(x)\n",
    "\n",
    "block_2_output = tf.keras.layers.add([x, block_1_output])\n",
    "\n",
    "x = Dense(nodes,activation='relu')(block_2_output)\n",
    "x = BatchNormalization()(x)\n",
    "# x = Activation('relu')(x)\n",
    "# x = Dropout(drop_out)(x)\n",
    "x = Dense(nodes)(x)\n",
    "x = BatchNormalization()(x)\n",
    "x = Activation('relu')(x)\n",
    "x = Dropout(drop_out)(x)\n",
    "x = Dense(nodes)(x)\n",
    "x = BatchNormalization()(x)\n",
    "\n",
    "block_3_output = tf.keras.layers.add([x, block_2_output, block_1_output])\n",
    "\n",
    "x = Dense(nodes,activation='relu')(block_3_output)\n",
    "x = BatchNormalization()(x)\n",
    "# x = Activation('relu')(x)\n",
    "# x = Dropout(drop_out)(x)\n",
    "x = Dense(nodes)(x)\n",
    "x = BatchNormalization()(x)\n",
    "x = Activation('relu')(x)\n",
    "x = Dropout(drop_out)(x)\n",
    "x = Dense(nodes)(x)\n",
    "x = BatchNormalization()(x)\n",
    "\n",
    "block_4_output = tf.keras.layers.add([x, block_3_output, block_2_output])\n",
    "\n",
    "x = Dense(nodes,activation='relu')(block_4_output)\n",
    "x = BatchNormalization()(x)\n",
    "# x = Activation('relu')(x)\n",
    "# x = Dropout(drop_out)(x)\n",
    "x = Dense(nodes)(x)\n",
    "x = BatchNormalization()(x)\n",
    "x = Activation('relu')(x)\n",
    "x = Dropout(drop_out)(x)\n",
    "x = Dense(nodes)(x)\n",
    "x = BatchNormalization()(x)\n",
    "\n",
    "block_5_output = tf.keras.layers.add([x, block_4_output, block_3_output])\n",
    "\n",
    "\n",
    "x = Dense(nodes,activation='relu')(block_5_output)\n",
    "x = BatchNormalization()(x)\n",
    "# x = Activation('relu')(x)\n",
    "# x = Dropout(drop_out)(x)\n",
    "x = Dense(nodes)(x)\n",
    "x = BatchNormalization()(x)\n",
    "x = Activation('relu')(x)\n",
    "x = Dropout(drop_out)(x)\n",
    "x = Dense(nodes)(x)\n",
    "x = BatchNormalization()(x)\n",
    "\n",
    "block_6_output = tf.keras.layers.add([x, block_5_output, block_4_output])\n",
    "\n",
    "# x = Dense(nodes)(block_6_output)\n",
    "# x = BatchNormalization()(x)\n",
    "# x = Activation('relu')(x)\n",
    "# x = Dropout(drop_out)(x)\n",
    "# x = Dense(nodes)(x)\n",
    "# x = BatchNormalization()(x)\n",
    "# x = Activation('relu')(x)\n",
    "# x = Dropout(drop_out)(x)\n",
    "# x = Dense(nodes)(x)\n",
    "# x = BatchNormalization()(x)\n",
    "\n",
    "# block_7_output = tf.keras.layers.add([x,block_6_output, block_5_output])\n",
    "\n",
    "# x = Dense(nodes)(block_7_output)\n",
    "# x = BatchNormalization()(x)\n",
    "# x = Activation('relu')(x)\n",
    "# x = Dropout(drop_out)(x)\n",
    "# x = Dense(nodes)(x)\n",
    "# x = BatchNormalization()(x)\n",
    "# x = Activation('relu')(x)\n",
    "# x = Dropout(drop_out)(x)\n",
    "# x = Dense(nodes)(x)\n",
    "# x = BatchNormalization()(x)\n",
    "\n",
    "# block_8_output = tf.keras.layers.add([x, block_7_output,block_6_output])\n",
    "\n",
    "# x = Dense(nodes)(block_8_output)\n",
    "# x = BatchNormalization()(x)\n",
    "# x = Activation('relu')(x)\n",
    "# x = Dropout(drop_out)(x)\n",
    "# x = Dense(nodes)(x)\n",
    "# x = BatchNormalization()(x)\n",
    "# x = Activation('relu')(x)\n",
    "# x = Dropout(drop_out)(x)\n",
    "# x = Dense(nodes)(x)\n",
    "# x = BatchNormalization()(x)\n",
    "\n",
    "# block_9_output = tf.keras.layers.add([x, block_8_output, block_7_output])\n",
    "\n",
    "# x = Dense(nodes)(block_9_output)\n",
    "# x = BatchNormalization()(x)\n",
    "# x = Activation('relu')(x)\n",
    "# x = Dropout(drop_out)(x)\n",
    "# x = Dense(nodes)(x)\n",
    "# x = BatchNormalization()(x)\n",
    "# x = Activation('relu')(x)\n",
    "# x = Dropout(drop_out)(x)\n",
    "# x = Dense(nodes)(x)\n",
    "# x = BatchNormalization()(x)\n",
    "\n",
    "block_10_output = tf.keras.layers.add([x, block_6_output, block_1_output])\n",
    "\n",
    "\n",
    "x = Dense(nodes, activation='relu')(block_10_output)\n",
    "x = Dropout(drop_out)(x)\n",
    "outputs = Dense(config['num_classes'], activation='softmax', activity_regularizer='l2')(x)\n",
    "\n",
    "model = tf.keras.Model(inputs, outputs, name='Plain_Old_Resnet')\n",
    "\n",
    "top_K = 3\n",
    "weight_decay = 0.0001\n",
    "opt1 = tfa.optimizers.AdamW(learning_rate=learning_rate, weight_decay=weight_decay) #Adam(amsgrad=True)\n",
    "opt2 = Adam(learning_rate=learning_rate,amsgrad=True)\n",
    "\n",
    "model.compile(\"Nadam\", loss=\"categorical_crossentropy\" , metrics=['accuracy',tf.keras.metrics.TopKCategoricalAccuracy(top_K, name=\"top-3-accuracy\")])  #label_smoothing=0.05, tf.keras.losses.KLDivergence()\n",
    "#\"categorical_crossentropy\",tf.keras.losses.CategoricalCrossentropy(label_smoothing=0.2)\n",
    "wandb.config = {\n",
    "  \"learning_rate\": \"learning_rate\",\n",
    "  \"epochs\": num_epochs,\n",
    "  \"batch_size\": batch_size,\n",
    "  \"nodes\": nodes,  \n",
    "  \"base_path\":base_path,\n",
    "  \"shuffle\":shuffle\n",
    "}\n",
    "\n",
    "\n",
    "start_time = datetime.strftime( datetime.now(),'%d_%B_%y_%H_%M');\n",
    "print(f'Training start time{start_time}')\n",
    "\n",
    "callbacks = [\n",
    "    ModelCheckpoint(base_path+'/'+ipynbname.name()+\"/best_model\"+start_time+\".h5\", save_best_only=True, monitor=\"val_loss\"),\n",
    "    ReduceLROnPlateau(monitor=\"val_loss\", factor=0.25, patience=10,verbose=1, min_lr=0.00001),\n",
    "    EarlyStopping(monitor=\"val_loss\", patience=30, verbose=1), \n",
    "    WandbCallback()\n",
    "]\n",
    "\n",
    "\n",
    "#TO DO: Would normalizing with from sklearn.preprocessing import MinMaxScaler help? Try later\n",
    "history = model.fit(x_train2, y_train_1hot,\n",
    "          epochs= num_epochs, \n",
    "          batch_size= batch_size, \n",
    "          validation_data=(x_test2, y_test_1hot), callbacks = callbacks)  #mcp_save, callbacks=[reduce_lr_loss]\n",
    "\n",
    "# Update manual log file\n",
    "params_to_be_updated = update_log_entry('../testing_sheet2.xlsx', log_idx, model, history)\n",
    "\n",
    "\n",
    "# Update model with the best weights\n",
    "model = tf.keras.models.load_model(base_path+'/'+ipynbname.name()+\"/best_model\"+start_time+\".h5\") # base_path+'/'+ipynbname.name()+\"/best_model.h5\"\n",
    "\n",
    "end_time = datetime.strftime( datetime.now(),'%d_%B_%y_%H_%M')\n",
    "print(f'End time {end_time}')"
   ]
  },
  {
   "cell_type": "code",
   "execution_count": 30,
   "id": "4a5a2272-1076-47c7-a46e-d4cf1753d924",
   "metadata": {},
   "outputs": [
    {
     "data": {
      "image/png": "[encoded data removed]",
      "text/plain": [
       "<Figure size 432x288 with 1 Axes>"
      ]
     },
     "metadata": {
      "needs_background": "light"
     },
     "output_type": "display_data"
    }
   ],
   "source": [
    "def PlotCurves(model_history):\n",
    "    plt.plot(model_history.history['accuracy'],label = 'train')\n",
    "    plt.grid(color = 'r', linestyle = '--', linewidth = .1)\n",
    "    plt.ylabel('Accuracy');\n",
    "    plt.title('Training accuracy');\n",
    "    #plt.figure()\n",
    "    plt.plot(model_history.history['val_accuracy'],label = 'validation')\n",
    "    plt.grid(color = 'r', linestyle = '--', linewidth = .1)\n",
    "    plt.ylabel('Val Accuracy');\n",
    "    plt.title('Validation accuracy');\n",
    "    plt.legend()\n",
    "    return None\n",
    "\n",
    "PlotCurves(history)"
   ]
  },
  {
   "cell_type": "code",
   "execution_count": 31,
   "id": "5b58c1b3-d9af-4e0b-9d8e-6040c663fccb",
   "metadata": {},
   "outputs": [
    {
     "name": "stdout",
     "output_type": "stream",
     "text": [
      "Could not get file name: auto-generating name\n",
      "Activation_function not in workspace\n",
      "loss_function not in workspace\n",
      "Accuracy_per_epoch not in workspace\n",
      "Loss_per_epoch not in workspace\n",
      "Stop_time not in workspace\n",
      "Current run hyper_params are dict_keys(['S_N', 'Start_time', 'NoteBook_name', 'Uniqueness_of_each_run', 'Base_dir', 'Train_shape', 'Output_shape', 'num_epochs', 'Activation_function', 'optimizer', 'learning_rate', 'loss_function', 'Accuracy_per_epoch', 'Loss_per_epoch', 'Stop_time', 'Model_config', 'Performance_on_test_set', 'output_path', 'shuffle', 'Computer_name', 'extras']):dict_values([95, '06_August_22_2302', 'NewDataset_ConvResNetRowBlock', 'Added Conv1D to existing ConvResNet', 'Y:\\\\ibikunle\\\\Python_Project\\\\Fall_2021\\\\all_block_data\\\\PulsedTrainTest\\\\LSTM_PositionalEmbedding', (831888, 9, 21), '', '', '', '', '', '', '', '', '', '', '', '', 1, 'DESKTOP-9ME1LSE', []])\n",
      "Fields to be updated include: ['Activation_function', 'loss_function', 'Accuracy_per_epoch', 'Loss_per_epoch', 'Stop_time', 'Model_config']\n"
     ]
    }
   ],
   "source": [
    "log['Uniqueness_of_each_run'] = 'Added Conv1D to existing ConvResNet'\n",
    "run_completion_comment = f'July2022: Used pulsed dataset and data augmentation for ResNet'\n",
    "if \"log_idx\" in globals():\n",
    "    log[\"S_N\"] = log_idx\n",
    "    log['run_completion_comment'] = run_completion_comment\n",
    "    log_idx = create_log_entry('../testing_sheet2.xlsx', log)"
   ]
  },
  {
   "cell_type": "code",
   "execution_count": 32,
   "id": "656a1d8f-292d-4c6a-a777-6deb964b09d3",
   "metadata": {},
   "outputs": [
    {
     "name": "stdout",
     "output_type": "stream",
     "text": [
      "3467/3467 [==============================] - 44s 13ms/step - loss: 2.0691 - accuracy: 0.6871 - top-3-accuracy: 0.8911\n",
      "Test accuracy: 68.71%\n",
      "Test top 5 accuracy: 89.11%\n"
     ]
    }
   ],
   "source": [
    "y_val_1hot  = tf.keras.utils.to_categorical(y_val, config['num_classes'])\n",
    "\n",
    "_, accuracy,top_5_accuracy = model.evaluate(x_val2, y_val_1hot)\n",
    "print(f\"Test accuracy: {round(accuracy * 100, 2)}%\")\n",
    "print(f\"Test top 5 accuracy: {round(top_5_accuracy * 100, 2)}%\")\n",
    "\n",
    "time_stamp = datetime.strftime( datetime.now(),'%d_%B_%y_%H_%M');\n",
    "\n",
    "#_,new_col_length,new_row_length = x_train.shape \n",
    "model.save(f'{base_path}//{ipynbname.name()}//{time_stamp}_Acc_{accuracy:.3f}_Top5Acc_{top_5_accuracy:.3f}_315x1.h5')"
   ]
  },
  {
   "cell_type": "code",
   "execution_count": 75,
   "id": "51b92568-5223-47de-952c-3aebd1b347ca",
   "metadata": {
    "tags": []
   },
   "outputs": [
    {
     "name": "stdout",
     "output_type": "stream",
     "text": [
      "Check start idx: 77394\n"
     ]
    },
    {
     "data": {
      "text/plain": [
       "[(0, 0),\n",
       " (12, 12),\n",
       " (12, 12),\n",
       " (19, 13),\n",
       " (0, 12),\n",
       " (0, 0),\n",
       " (7, 10),\n",
       " (11, 11),\n",
       " (15, 15),\n",
       " (9, 9),\n",
       " (21, 19),\n",
       " (8, 8),\n",
       " (18, 15),\n",
       " (9, 9),\n",
       " (14, 14),\n",
       " (9, 10),\n",
       " (14, 14),\n",
       " (19, 19),\n",
       " (14, 13),\n",
       " (11, 11)]"
      ]
     },
     "execution_count": 75,
     "metadata": {},
     "output_type": "execute_result"
    }
   ],
   "source": [
    "\n",
    "import random\n",
    "check_start = random.randint(0,len(x_val))\n",
    "\n",
    "print(f'Check start idx: {check_start}')\n",
    "[(np.argmax(y_val_1hot[idx]), np.argmax(model.predict(np.expand_dims(x_val2[idx],axis=0))) ) for idx in range(check_start,check_start+20) ]\n"
   ]
  },
  {
   "cell_type": "code",
   "execution_count": 76,
   "id": "64e1aa00-efc4-4049-9d1b-1e28dee6734b",
   "metadata": {},
   "outputs": [
    {
     "name": "stdout",
     "output_type": "stream",
     "text": [
      " Exact accuracy is  69.17993 %\n",
      " Top 3% accuracy is  80.19438 %\n"
     ]
    }
   ],
   "source": [
    "# Test model manually on all val data\n",
    "\n",
    "y_pred = [ np.argmax(model.predict(np.expand_dims(x_val2[idx],axis=0) )) for idx in range(len(x_val)) ]\n",
    "\n",
    "combined_result = zip(y_val,y_pred)\n",
    "\n",
    "val_exact_accuracy = 100 * sum([1 if y_pred[idx]==y_val[idx]   else 0 for idx in range(len(y_pred)) ]) / len(y_pred)\n",
    "val_margin5_accuracy = 100 * sum([1 if abs(y_pred[idx]-y_val[idx]) < 3 else 0 for idx in range(len(y_pred)) ]) / len(y_pred)\n",
    "\n",
    "print(f' Exact accuracy is {val_exact_accuracy: .5f} %')\n",
    "print(f' Top 3% accuracy is {val_margin5_accuracy: .5f} %')\n",
    "\n"
   ]
  },
  {
   "cell_type": "code",
   "execution_count": 77,
   "id": "e7e5169e-513d-4071-bcf5-653cb859c751",
   "metadata": {},
   "outputs": [],
   "source": [
    "# Confusion Matrix and ROC/AUC\n",
    "\n",
    "model_predictions = np.asarray(y_pred)\n",
    "ground_truth = y_val.squeeze()\n",
    "\n",
    "# Prediction per Ground-truth class\n",
    "class_predictions = [ model_predictions[ground_truth==idx]  for idx in range(config['num_classes']) ]\n",
    "\n",
    "# Confusion matrix\n",
    "confusion_mtx = np.zeros((config['num_classes'],config['num_classes']) )\n",
    "\n",
    "for pred,actual in zip(y_pred,y_val): # Rows=Prediction, Columns = Actual\n",
    "    confusion_mtx[pred,actual] +=1"
   ]
  },
  {
   "cell_type": "code",
   "execution_count": 78,
   "id": "61c4f16f-ed00-499e-be90-a124fdc25431",
   "metadata": {},
   "outputs": [
    {
     "data": {
      "image/png": "[encoded data removed]",
      "text/plain": [
       "<Figure size 700x1500 with 2 Axes>"
      ]
     },
     "metadata": {
      "needs_background": "light"
     },
     "output_type": "display_data"
    }
   ],
   "source": [
    "from mpl_toolkits.axes_grid1 import make_axes_locatable\n",
    "\n",
    "fig, ax = plt.subplots(figsize=(7,15),dpi = 100);\n",
    "shw=ax.imshow(confusion_mtx)\n",
    "#bar= plt.colorbar(shw)\n",
    "\n",
    "_=plt.ylabel('Predictions')\n",
    "_=plt.xlabel('Actual Class')\n",
    "_=plt.title('Confusion matrix')\n",
    "\n",
    "# ax.set_xticklabels(list(range(num_classes)))\n",
    "# ax.set_yticklabels(list(range(num_classes)))\n",
    "\n",
    "# create an axes on the right side of ax. The width of cax will be 5%\n",
    "# of ax and the padding between cax and ax will be fixed at 0.05 inch.\n",
    "divider = make_axes_locatable(ax)\n",
    "cax = divider.append_axes(\"right\", size=\"5%\", pad=0.05)\n",
    "#bar.set_label('ColorBar')\n",
    "_ = plt.colorbar(shw, cax=cax)"
   ]
  },
  {
   "cell_type": "code",
   "execution_count": 79,
   "id": "876f72ab-e511-4ff8-bd64-8158842b7384",
   "metadata": {},
   "outputs": [
    {
     "data": {
      "image/png": "[encoded data removed]",
      "text/plain": [
       "<Figure size 432x288 with 1 Axes>"
      ]
     },
     "metadata": {
      "needs_background": "light"
     },
     "output_type": "display_data"
    },
    {
     "data": {
      "image/png": "[encoded data removed]",
      "text/plain": [
       "<Figure size 432x288 with 1 Axes>"
      ]
     },
     "metadata": {
      "needs_background": "light"
     },
     "output_type": "display_data"
    },
    {
     "data": {
      "image/png": "[encoded data removed]",
      "text/plain": [
       "<Figure size 432x288 with 1 Axes>"
      ]
     },
     "metadata": {
      "needs_background": "light"
     },
     "output_type": "display_data"
    },
    {
     "data": {
      "image/png": "[encoded data removed]",
      "text/plain": [
       "<Figure size 432x288 with 1 Axes>"
      ]
     },
     "metadata": {
      "needs_background": "light"
     },
     "output_type": "display_data"
    },
    {
     "data": {
      "image/png": "[encoded data removed]",
      "text/plain": [
       "<Figure size 432x288 with 1 Axes>"
      ]
     },
     "metadata": {
      "needs_background": "light"
     },
     "output_type": "display_data"
    },
    {
     "data": {
      "image/png": "[encoded data removed]",
      "text/plain": [
       "<Figure size 432x288 with 1 Axes>"
      ]
     },
     "metadata": {
      "needs_background": "light"
     },
     "output_type": "display_data"
    },
    {
     "data": {
      "image/png": "[encoded data removed]",
      "text/plain": [
       "<Figure size 432x288 with 1 Axes>"
      ]
     },
     "metadata": {
      "needs_background": "light"
     },
     "output_type": "display_data"
    },
    {
     "data": {
      "image/png": "[encoded data removed]",
      "text/plain": [
       "<Figure size 432x288 with 1 Axes>"
      ]
     },
     "metadata": {
      "needs_background": "light"
     },
     "output_type": "display_data"
    },
    {
     "data": {
      "image/png": "[encoded data removed]",
      "text/plain": [
       "<Figure size 432x288 with 1 Axes>"
      ]
     },
     "metadata": {
      "needs_background": "light"
     },
     "output_type": "display_data"
    },
    {
     "data": {
      "image/png": "[encoded data removed]",
      "text/plain": [
       "<Figure size 432x288 with 1 Axes>"
      ]
     },
     "metadata": {
      "needs_background": "light"
     },
     "output_type": "display_data"
    },
    {
     "data": {
      "image/png": "[encoded data removed]",
      "text/plain": [
       "<Figure size 432x288 with 1 Axes>"
      ]
     },
     "metadata": {
      "needs_background": "light"
     },
     "output_type": "display_data"
    },
    {
     "data": {
      "image/png": "[encoded data removed]",
      "text/plain": [
       "<Figure size 432x288 with 1 Axes>"
      ]
     },
     "metadata": {
      "needs_background": "light"
     },
     "output_type": "display_data"
    },
    {
     "data": {
      "image/png": "[encoded data removed]",
      "text/plain": [
       "<Figure size 432x288 with 1 Axes>"
      ]
     },
     "metadata": {
      "needs_background": "light"
     },
     "output_type": "display_data"
    },
    {
     "data": {
      "image/png": "[encoded data removed]",
      "text/plain": [
       "<Figure size 432x288 with 1 Axes>"
      ]
     },
     "metadata": {
      "needs_background": "light"
     },
     "output_type": "display_data"
    },
    {
     "data": {
      "image/png": "[encoded data removed]",
      "text/plain": [
       "<Figure size 432x288 with 1 Axes>"
      ]
     },
     "metadata": {
      "needs_background": "light"
     },
     "output_type": "display_data"
    },
    {
     "data": {
      "image/png": "[encoded data removed]",
      "text/plain": [
       "<Figure size 432x288 with 1 Axes>"
      ]
     },
     "metadata": {
      "needs_background": "light"
     },
     "output_type": "display_data"
    },
    {
     "data": {
      "image/png": "[encoded data removed]",
      "text/plain": [
       "<Figure size 432x288 with 1 Axes>"
      ]
     },
     "metadata": {
      "needs_background": "light"
     },
     "output_type": "display_data"
    },
    {
     "data": {
      "image/png": "[encoded data removed]",
      "text/plain": [
       "<Figure size 432x288 with 1 Axes>"
      ]
     },
     "metadata": {
      "needs_background": "light"
     },
     "output_type": "display_data"
    },
    {
     "data": {
      "image/png": "[encoded data removed]",
      "text/plain": [
       "<Figure size 432x288 with 1 Axes>"
      ]
     },
     "metadata": {
      "needs_background": "light"
     },
     "output_type": "display_data"
    },
    {
     "data": {
      "image/png": "[encoded data removed]",
      "text/plain": [
       "<Figure size 432x288 with 1 Axes>"
      ]
     },
     "metadata": {
      "needs_background": "light"
     },
     "output_type": "display_data"
    },
    {
     "data": {
      "image/png": "[encoded data removed]",
      "text/plain": [
       "<Figure size 432x288 with 1 Axes>"
      ]
     },
     "metadata": {
      "needs_background": "light"
     },
     "output_type": "display_data"
    },
    {
     "data": {
      "image/png": "[encoded data removed]",
      "text/plain": [
       "<Figure size 432x288 with 1 Axes>"
      ]
     },
     "metadata": {
      "needs_background": "light"
     },
     "output_type": "display_data"
    }
   ],
   "source": [
    "# Histogram of each class prediction\n",
    "for idx,each_class in enumerate(class_predictions):\n",
    "    _ = plt.figure()\n",
    "    _ = plt.title('Class %s'%idx)\n",
    "    labels, counts = np.unique(each_class, return_counts=True)\n",
    "    _ = plt.bar(labels, counts, align='center')\n",
    "    _ = plt.gca().set_xticks(labels)\n",
    "    _ = plt.show()"
   ]
  },
  {
   "cell_type": "code",
   "execution_count": 52,
   "id": "99e7edf0-a6d9-48be-98cf-2eba90083179",
   "metadata": {},
   "outputs": [],
   "source": [
    "# Check model on unseen data from 20120330_04\n",
    "\n",
    "test_cnt = [ (orig_all_idx==elem).sum() for elem in test_echo_idx]\n",
    "test_coords = []\n",
    "for elem in test_cnt:\n",
    "    test_coords.append([*range(elem)])\n",
    "test_coords = np.concatenate(test_coords).ravel()\n",
    "\n",
    "# Get all idx of echos in train_echo_idx\n",
    "val_search_idx = np.where(orig_all_idx == test_echo_idx) #np.where( np.in1d(all_idx,train_echo_idx) )\n",
    "val_search_idx = list(val_search_idx[0])\n",
    "\n",
    "test_data = orig_all_data[val_search_idx]\n",
    "test_target = orig_all_target[val_search_idx]\n",
    "test_idx = orig_all_idx[val_search_idx]"
   ]
  },
  {
   "cell_type": "code",
   "execution_count": null,
   "id": "3ee8f0fc-d569-406c-b053-4d9221cb6856",
   "metadata": {},
   "outputs": [],
   "source": [
    "from sklearn.metrics import classification_report\n",
    "\n",
    "print( classification_report( y_val,y_pred, labels=list(range(config['num_classes'])), zero_division=1 ))"
   ]
  },
  {
   "cell_type": "code",
   "execution_count": 57,
   "id": "12977cde-58f2-4156-89d5-672c64c53e77",
   "metadata": {},
   "outputs": [],
   "source": [
    "# Reshape and prepare unseen test_data\n",
    "\n",
    "test_data = np.reshape( test_data, (test_data.shape[0],max_class,-1),order ='F' )\n",
    "test_data = test_data[:,:,mid_pt-neigh:mid_pt+neigh+1]\n",
    "# x_train = np.reshape(x_train,(x_train.shape[0],-1))\n",
    "test_data = np.transpose(test_data,(0,2,1))\n",
    "test_target[test_target == max_class+1 ] = 0"
   ]
  },
  {
   "cell_type": "code",
   "execution_count": 54,
   "id": "e91163ac-0614-434b-8c48-26c496c3cf19",
   "metadata": {},
   "outputs": [],
   "source": [
    "seq_length = 9\n",
    "\n",
    "# Create Coords matrix to be used for Positional Embedding\n",
    "test_coords_mtx = np.zeros( (len(test_coords),seq_length) )\n",
    "\n",
    "for idx,each_coord in enumerate(test_coords):\n",
    "    test_coords_mtx[idx] = np.linspace(0, each_coord, num=seq_length)"
   ]
  },
  {
   "cell_type": "code",
   "execution_count": 24,
   "id": "f71a927c-f2b8-4679-830f-9914dd991550",
   "metadata": {},
   "outputs": [],
   "source": [
    "test_data2 = np.stack((test_data,)*3, axis=-1) "
   ]
  },
  {
   "cell_type": "code",
   "execution_count": 84,
   "id": "e2e19512-2e70-4014-aded-c8269668d4ac",
   "metadata": {},
   "outputs": [
    {
     "data": {
      "image/png": "[encoded data removed]",
      "text/plain": [
       "<Figure size 432x288 with 1 Axes>"
      ]
     },
     "metadata": {
      "needs_background": "light"
     },
     "output_type": "display_data"
    },
    {
     "data": {
      "image/png": "[encoded data removed]",
      "text/plain": [
       "<Figure size 432x288 with 1 Axes>"
      ]
     },
     "metadata": {
      "needs_background": "light"
     },
     "output_type": "display_data"
    },
    {
     "data": {
      "image/png": "[encoded data removed]",
      "text/plain": [
       "<Figure size 432x288 with 1 Axes>"
      ]
     },
     "metadata": {
      "needs_background": "light"
     },
     "output_type": "display_data"
    }
   ],
   "source": [
    "# Show distribution of targets in training and validation set\n",
    "\n",
    "labels, counts = np.unique(y_train, return_counts=True)\n",
    "_ = plt.bar(labels, counts, align='center')\n",
    "_ = plt.gca().set_xticks(labels)\n",
    "_ = plt.title('Distribution of targets in Training set')\n",
    "_ = plt.show()\n",
    "\n",
    "\n",
    "labels, counts = np.unique(y_val, return_counts=True)\n",
    "_ = plt.bar(labels, counts, align='center')\n",
    "_ = plt.gca().set_xticks(labels)\n",
    "_ = plt.title('Distribution of targets in Validation set')\n",
    "_ = plt.show()\n",
    "\n",
    "\n",
    "labels, counts = np.unique(test_target, return_counts=True)\n",
    "_ = plt.bar(labels, counts, align='center')\n",
    "_ = plt.gca().set_xticks(labels)\n",
    "_ = plt.title('Distribution of targets in Unseen dataset')\n",
    "_ = plt.show()"
   ]
  },
  {
   "cell_type": "code",
   "execution_count": null,
   "id": "ee76e855-d77c-4c17-a6d1-e06e5e1ba7f0",
   "metadata": {},
   "outputs": [],
   "source": []
  },
  {
   "cell_type": "code",
   "execution_count": 85,
   "id": "46273f6c-cccf-43e8-9585-7516a39aff32",
   "metadata": {},
   "outputs": [
    {
     "name": "stdout",
     "output_type": "stream",
     "text": [
      "30788/30788 [==============================] - 512s 17ms/step - loss: 4.1644 - accuracy: 0.5251 - top-3-accuracy: 0.8286\n",
      "Test accuracy: 52.51%\n",
      "Test top 3 accuracy: 82.86%\n",
      "Test_time: 21_July_22_1436\n"
     ]
    }
   ],
   "source": [
    "# Convert labels to categorical orthonormal vectors\n",
    "test_target_1hot = tf.keras.utils.to_categorical(test_target, config['num_classes'])\n",
    "\n",
    "time_stamp = datetime.strftime(datetime.now(),'%d_%B_%y_%H%M')\n",
    "_, accuracy,top3_acc = model.evaluate(test_data2, test_target_1hot)\n",
    "print(f\"Test accuracy: {round(accuracy * 100, 2)}%\")\n",
    "print(f\"Test top 3 accuracy: {round(top3_acc * 100, 2)}%\")\n",
    "print(f\"Test_time: {datetime.strftime(datetime.now(),'%d_%B_%y_%H%M')}\")\n",
    "\n"
   ]
  },
  {
   "cell_type": "code",
   "execution_count": 41,
   "id": "cb373276-45b1-40a7-9e84-1f893d98b64b",
   "metadata": {},
   "outputs": [
    {
     "name": "stdout",
     "output_type": "stream",
     "text": [
      "Check start idx: 697850\n"
     ]
    },
    {
     "data": {
      "text/plain": [
       "[(10, 10),\n",
       " (10, 10),\n",
       " (10, 10),\n",
       " (10, 10),\n",
       " (10, 10),\n",
       " (10, 10),\n",
       " (18, 13),\n",
       " (18, 13),\n",
       " (18, 13),\n",
       " (18, 16),\n",
       " (19, 16),\n",
       " (19, 17),\n",
       " (19, 17),\n",
       " (19, 17),\n",
       " (19, 17),\n",
       " (18, 17),\n",
       " (18, 17),\n",
       " (18, 17),\n",
       " (18, 17),\n",
       " (18, 17)]"
      ]
     },
     "execution_count": 41,
     "metadata": {},
     "output_type": "execute_result"
    }
   ],
   "source": [
    "\n",
    "import random\n",
    "check_start = random.randint(0,len(test_target))\n",
    "\n",
    "print(f'Check start idx: {check_start}')\n",
    "[(np.argmax(test_target_1hot[idx]), np.argmax(model.predict(np.expand_dims(test_data[idx],axis=0))) ) for idx in range(check_start,check_start+20) ]\n"
   ]
  },
  {
   "cell_type": "code",
   "execution_count": 64,
   "id": "539e6dee-02e1-4692-9446-b1dfe760a00c",
   "metadata": {},
   "outputs": [
    {
     "name": "stdout",
     "output_type": "stream",
     "text": [
      " Exact accuracy is  74.26402 %\n",
      " Top 3% accuracy is  80.85811 %\n"
     ]
    }
   ],
   "source": [
    "# Test model manually on all val data\n",
    "\n",
    "test_pred = [ np.argmax(model.predict(np.expand_dims(test_data[idx],axis=0) )) for idx in range(len(test_target)) ]\n",
    "\n",
    "combined_result = zip(test_target,test_pred)\n",
    "\n",
    "val_exact_accuracy = 100 * sum([1 if test_pred[idx]==test_target[idx]   else 0 for idx in range(len(test_pred)) ]) / len(test_pred)\n",
    "val_margin3_accuracy = 100 * sum([1 if abs(test_pred[idx]-test_target[idx]) < 3 else 0 for idx in range(len(test_pred)) ]) / len(test_pred)\n",
    "\n",
    "print(f' Exact accuracy is {val_exact_accuracy: .5f} %')\n",
    "print(f' Top 3% accuracy is {val_margin3_accuracy: .5f} %')\n",
    "\n"
   ]
  },
  {
   "cell_type": "code",
   "execution_count": null,
   "id": "5a8689f6-3a0e-4120-83e3-96e171b948cc",
   "metadata": {},
   "outputs": [],
   "source": [
    "# Confusion Matrix and ROC/AUC\n",
    "\n",
    "model_predictions = np.asarray(test_pred)\n",
    "ground_truth = test_target.squeeze()\n",
    "\n",
    "# Prediction per Ground-truth class\n",
    "class_predictions = [ model_predictions[ground_truth==idx]  for idx in range(config['num_classes']) ]\n",
    "\n",
    "# Confusion matrix\n",
    "confusion_mtx = np.zeros((config['num_classes'],config['num_classes']) )\n",
    "\n",
    "for pred,actual in zip(test_pred,test_target): # Rows=Prediction, Columns = Actual\n",
    "    confusion_mtx[pred,actual] +=1"
   ]
  },
  {
   "cell_type": "code",
   "execution_count": null,
   "id": "ef39455f-3e0e-4e9a-8067-e627ce7d0abc",
   "metadata": {},
   "outputs": [],
   "source": [
    "entire_data = raw_data1['echo_cnn_input']\n",
    "entire_target = raw_data1['echo_cnn_target']\n",
    "entire_coords = raw_data1['coords']\n",
    "entire_idx = raw_data1['orig_echo_idx']\n",
    "\n",
    "entire_target[entire_target == num_classes] = 0 # Map highest class back to \"No_layer\" class\n",
    "entire_target  = tf.keras.utils.to_categorical(entire_target, num_classes)\n"
   ]
  },
  {
   "cell_type": "code",
   "execution_count": null,
   "id": "a3c56fc5-7500-43d8-8398-25f25994fc4b",
   "metadata": {},
   "outputs": [],
   "source": [
    "\n",
    "# Check random entire_data prediction\n",
    "check_start = random.randint(0,len(entire_data))\n",
    "\n",
    "print(f'Check start idx: {check_start}')\n",
    "[(np.argmax(entire_target[idx]), np.argmax(model.predict(np.expand_dims(entire_data[idx],axis=0))) ) for idx in range(check_start,check_start+20) ]\n"
   ]
  },
  {
   "cell_type": "code",
   "execution_count": null,
   "id": "3ab93123-998f-4a32-8e06-60e1c755e788",
   "metadata": {},
   "outputs": [],
   "source": [
    "# Train ResNet2 model further (100 epochs more??)\n",
    "\n",
    "extra_epochs = 100\n",
    "\n",
    "history2 = model.fit(x_train, y_train,\n",
    "          epochs= extra_epochs, \n",
    "          batch_size= batch_size, \n",
    "          validation_data=(x_test, y_test), callbacks=callbacks) #mcp_save, callbacks=[reduce_lr_loss]\n",
    " \n"
   ]
  },
  {
   "cell_type": "code",
   "execution_count": null,
   "id": "386eb42c-7356-4903-968e-2acf2703d936",
   "metadata": {},
   "outputs": [],
   "source": [
    "# Check random entire_data prediction after training further\n",
    "check_start = random.randint(0,len(entire_data))\n",
    "\n",
    "print(f'Check start idx: {check_start}')\n",
    "[(np.argmax(entire_target[idx]), np.argmax(model.predict(np.expand_dims(entire_data[idx],axis=0))) ) for idx in range(check_start,check_start+20) ]\n"
   ]
  },
  {
   "cell_type": "code",
   "execution_count": null,
   "id": "b709185f-c394-4c52-afa5-75bcf5964ad9",
   "metadata": {},
   "outputs": [],
   "source": [
    "# Define Sequential model with 3 layers\n",
    "num_epochs = 100\n",
    "batch_size = 64\n",
    "nodes = 256\n",
    "learning_rate = 1e-4\n",
    "\n",
    "wandb.config = {\n",
    "  \"learning_rate\": \"learning_rate\",\n",
    "  \"epochs\": num_epochs,\n",
    "  \"batch_size\": batch_size,\n",
    "  \"nodes\": nodes,\n",
    "  \"row_length\":row_length,\n",
    "  \"base_path\":base_path,\n",
    "  \"shuffle\":shuffle\n",
    "\n",
    "}\n",
    "\n",
    "input_shape = x_train.shape[1:] #(21,15,1)\n",
    "\n",
    "def ResNetBlock(x):\n",
    "    x =   layers.Conv2D(filters=64, kernel_size=3, padding=\"same\")(x) #input_layer\n",
    "    conv1 = layers.Conv2D(filters=64, kernel_size=3, padding=\"same\")(x) # input_layer, Conv1D\n",
    "    conv1 = layers.BatchNormalization()(conv1)\n",
    "    conv1 = layers.ReLU()(conv1)\n",
    "\n",
    "    conv2 = layers.Conv2D(filters=64, kernel_size=3, padding=\"same\")(conv1)\n",
    "    conv2 = layers.BatchNormalization()(conv2)\n",
    "    conv2 = layers.ReLU()(conv2)\n",
    "\n",
    "    conv3 = layers.Conv2D(filters=64, kernel_size=3, padding=\"same\")(conv2)\n",
    "    conv3 = layers.BatchNormalization()(conv3)\n",
    "    conv3 = layers.ReLU()(conv3)\n",
    "    \n",
    "    \n",
    "    conv3 = layers.Conv2D(filters=64, kernel_size=3, padding=\"same\")(conv2)\n",
    "    conv3 = layers.BatchNormalization()(conv3)\n",
    "    conv3 = layers.ReLU()(conv3)\n",
    "    \n",
    "    \n",
    "    conv3 = layers.Conv2D(filters=64, kernel_size=3, padding=\"same\")(conv2)\n",
    "    conv3 = layers.BatchNormalization()(conv3)\n",
    "    conv3 = layers.ReLU()(conv3)\n",
    "    \n",
    "    conv3 = layers.add([x,conv3])\n",
    "    x = layers.ReLU()(conv3) # Overwrite x\n",
    "    \n",
    "    return x\n",
    "\n",
    "\n",
    "def make_model(input_shape):\n",
    "    input_layer = layers.Input(input_shape)\n",
    "    \n",
    "    x =   layers.Conv2D(filters=64, kernel_size=3, padding=\"same\")(input_layer)\n",
    "    \n",
    "    for _ in range(20):\n",
    "        x = ResNetBlock(x)\n",
    "    \n",
    "    # conv1 = layers.Conv2D(filters=64, kernel_size=3, padding=\"same\")(input_layer) #Conv1D\n",
    "    # conv1 = layers.BatchNormalization()(conv1)\n",
    "    # conv1 = layers.ReLU()(conv1)\n",
    "    # conv2 = layers.Conv2D(filters=64, kernel_size=3, padding=\"same\")(conv1)\n",
    "    # conv2 = layers.BatchNormalization()(conv2)\n",
    "    # conv2 = layers.ReLU()(conv2)\n",
    "    # conv3 = layers.Conv2D(filters=64, kernel_size=3, padding=\"same\")(conv2)\n",
    "    # conv3 = layers.BatchNormalization()(conv3)\n",
    "    # conv3 = layers.ReLU()(conv3)\n",
    "    \n",
    "    gap = layers.GlobalAveragePooling2D()(x)\n",
    "    gap = layers.Flatten()(gap)\n",
    "\n",
    "    output_layer = layers.Dense(num_classes, activation=\"softmax\")(gap)\n",
    "\n",
    "    return tf.keras.models.Model(inputs=input_layer, outputs=output_layer)\n",
    "\n",
    "model = make_model(input_shape = input_shape) #x_train.shape[1:]\n",
    "\n",
    "\n",
    "callbacks = [\n",
    "    ModelCheckpoint(\"best_model.h5\", save_best_only=True, monitor=\"val_loss\"),\n",
    "    ReduceLROnPlateau(monitor=\"val_loss\", factor=0.25, patience=5, min_lr=0.0001),\n",
    "    EarlyStopping(monitor=\"val_loss\", patience=25, verbose=1), \n",
    "    WandbCallback()\n",
    "]\n",
    "\n",
    "\n",
    "# Poly Rate scheduler\n",
    "starter_learning_rate = 0.1\n",
    "end_learning_rate = 0.001\n",
    "decay_steps = 1000\n",
    "learning_rate_fn = tf.keras.optimizers.schedules.PolynomialDecay(\n",
    "    starter_learning_rate,\n",
    "    decay_steps,\n",
    "    end_learning_rate,\n",
    "    power=0.5)\n",
    "\n",
    "# opt1 = tf.keras.optimizers.RMSprop(learning_rate=0.1,rho=0.9,momentum=0.9, epsilon=1e-07,centered=True,name=\"RMSprop\")\n",
    "opt2 = tf.keras.optimizers.Adam(learning_rate=learning_rate,amsgrad=True)\n",
    "poly_rate = tf.keras.optimizers.SGD(learning_rate = learning_rate_fn)\n",
    "poly_rate2 = tf.keras.optimizers.Adam(learning_rate = learning_rate_fn)\n",
    "\n",
    "# top_K = 3\n",
    "# model.compile( optimizer = opt, loss= 'categorical_crossentropy', metrics=['accuracy',tf.keras.metrics.TopKCategoricalAccuracy(top_K, name=\"top-3-accuracy\")])  #label_smoothing=0.05, tf.keras.losses.KLDivergence()\n",
    "\n",
    "model.compile( optimizer=poly_rate2,loss=\"categorical_crossentropy\", metrics=[\"accuracy\"],) #sparse_categorical_accuracy\n",
    "\n",
    "\n",
    "history = model.fit(x_train, y_train,\n",
    "          epochs= num_epochs, \n",
    "          batch_size= batch_size, \n",
    "          validation_data=(x_test, y_test),\n",
    "         callbacks=callbacks) #mcp_save, callbacks=[reduce_lr_loss]\n",
    "\n"
   ]
  },
  {
   "cell_type": "code",
   "execution_count": null,
   "id": "8d6ebe87-be62-45ed-9e32-4c8d1079c6be",
   "metadata": {},
   "outputs": [],
   "source": [
    "_, accuracy = model.evaluate(x_val, y_val)\n",
    "print(f\"Test accuracy: {round(accuracy * 100, 2)}%\")\n",
    "# print(f\"Test top 5 accuracy: {round(top_5_accuracy * 100, 2)}%\")\n",
    "\n",
    "_,new_col_length,new_row_length = x_train.shape \n",
    "model.save(f'{base_path}//{ipynbname.name()}//{time_stamp}_Acc_{accuracy:.3f}_{new_row_length}x{new_col_length}.h5')"
   ]
  }
 ],
 "metadata": {
  "kernelspec": {
   "display_name": "TF_2.8",
   "language": "python",
   "name": "tf2.8"
  },
  "language_info": {
   "codemirror_mode": {
    "name": "ipython",
    "version": 3
   },
   "file_extension": ".py",
   "mimetype": "text/x-python",
   "name": "python",
   "nbconvert_exporter": "python",
   "pygments_lexer": "ipython3",
   "version": "3.9.7"
  }
 },
 "nbformat": 4,
 "nbformat_minor": 5
}
