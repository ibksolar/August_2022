{
 "cells": [
  {
   "cell_type": "code",
   "execution_count": 1,
   "id": "dbf0fa04-d15f-40e3-bc8e-e0c581c9707c",
   "metadata": {},
   "outputs": [
    {
     "name": "stdout",
     "output_type": "stream",
     "text": [
      "Packages Loaded\n"
     ]
    }
   ],
   "source": [
    "from __future__ import print_function\n",
    "\n",
    "import os\n",
    "\n",
    "import pandas as pd\n",
    "import numpy as np\n",
    "import matplotlib.pyplot as plt\n",
    "import random\n",
    "import tensorflow as tf\n",
    "from tensorflow.keras.models import Sequential, Model\n",
    "\n",
    "from tensorflow.keras import layers\n",
    "from tensorflow.keras.callbacks import EarlyStopping, ModelCheckpoint,TensorBoard,ReduceLROnPlateau\n",
    "\n",
    "from tensorflow.keras.optimizers import SGD, Adam\n",
    "from tensorflow.keras.activations import relu\n",
    "from tensorflow.keras.regularizers import l2\n",
    "from tensorflow.keras.constraints import max_norm\n",
    "from tensorflow.keras import backend as K\n",
    "# from tensorflow.keras.datasets import mnist, cifar10\n",
    "import tensorflow_addons as tfa\n",
    "\n",
    "import sklearn\n",
    "from sklearn.utils.class_weight import compute_class_weight\n",
    "from itertools import chain\n",
    "\n",
    "from IPython.core.interactiveshell import InteractiveShell\n",
    "InteractiveShell.ast_node_interactivity = \"all\"\n",
    "from scipy.io import loadmat \n",
    "import mat73\n",
    "from datetime import datetime\n",
    "import ipynbname\n",
    "\n",
    "print(\"Packages Loaded\")"
   ]
  },
  {
   "cell_type": "code",
   "execution_count": 2,
   "id": "0395a05d-2a95-4a39-b044-44c39bc9f2d1",
   "metadata": {},
   "outputs": [
    {
     "name": "stdout",
     "output_type": "stream",
     "text": [
      "2 Physical GPUs, 2 Logical GPUs\n",
      "INFO:tensorflow:Mixed precision compatibility check (mixed_float16): OK\n",
      "Your GPUs will likely run quickly with dtype policy mixed_float16 as they all have compute capability of at least 7.0\n"
     ]
    }
   ],
   "source": [
    "gpus = tf.config.list_physical_devices('GPU')\n",
    "if gpus:\n",
    "  try:\n",
    "    # Currently, memory growth needs to be the same across GPUs\n",
    "    for gpu in gpus:\n",
    "      #tf_config = tf.ConfigProto(allow_soft_placement=False)\n",
    "      tf.config.experimental.set_memory_growth(gpu, True)\n",
    "    logical_gpus = tf.config.list_logical_devices('GPU')\n",
    "    print(len(gpus), \"Physical GPUs,\", len(logical_gpus), \"Logical GPUs\")\n",
    "  except RuntimeError as e:\n",
    "    # Memory growth must be set before GPUs have been initialized\n",
    "    print(e)\n",
    "    \n",
    "tf.keras.mixed_precision.set_global_policy('mixed_float16')"
   ]
  },
  {
   "cell_type": "code",
   "execution_count": 3,
   "id": "15f17fe1-4d20-429f-ac35-11de4b17ea3f",
   "metadata": {
    "tags": []
   },
   "outputs": [
    {
     "name": "stderr",
     "output_type": "stream",
     "text": [
      "\u001b[34m\u001b[1mwandb\u001b[0m: Currently logged in as: \u001b[33mibksolar\u001b[0m (use `wandb login --relogin` to force relogin)\n",
      "C:\\Users\\cresis\\.conda\\envs\\TF_2.8\\lib\\site-packages\\IPython\\html.py:12: ShimWarning: The `IPython.html` package has been deprecated since IPython 4.0. You should import from `notebook` instead. `IPython.html.widgets` has moved to `ipywidgets`.\n",
      "  warn(\"The `IPython.html` package has been deprecated since IPython 4.0. \"\n"
     ]
    },
    {
     "data": {
      "text/html": [
       "Tracking run with wandb version 0.12.11"
      ],
      "text/plain": [
       "<IPython.core.display.HTML object>"
      ]
     },
     "metadata": {},
     "output_type": "display_data"
    },
    {
     "data": {
      "text/html": [
       "Run data is saved locally in <code>Y:\\ibikunle\\Python_Project\\Fall_2021\\Model_and_weights\\wandb\\run-20220317_125528-3tqcjari</code>"
      ],
      "text/plain": [
       "<IPython.core.display.HTML object>"
      ]
     },
     "metadata": {},
     "output_type": "display_data"
    },
    {
     "data": {
      "text/html": [
       "Syncing run <strong><a href=\"https://wandb.ai/ibksolar/my-test-project/runs/3tqcjari\" target=\"_blank\">LSTM1_Repeat_Augment_Reduce_DoubleGPU_17_March_22_1255</a></strong> to <a href=\"https://wandb.ai/ibksolar/my-test-project\" target=\"_blank\">Weights & Biases</a> (<a href=\"https://wandb.me/run\" target=\"_blank\">docs</a>)<br/>"
      ],
      "text/plain": [
       "<IPython.core.display.HTML object>"
      ]
     },
     "metadata": {},
     "output_type": "display_data"
    },
    {
     "data": {
      "text/html": [
       "<button onClick=\"this.nextSibling.style.display='block';this.style.display='none';\">Display W&B run</button><iframe src=\"https://wandb.ai/ibksolar/my-test-project/runs/3tqcjari?jupyter=true\" style=\"border:none;width:100%;height:420px;display:none;\"></iframe>"
      ],
      "text/plain": [
       "<wandb.sdk.wandb_run.Run at 0x1eab3b2bcd0>"
      ]
     },
     "execution_count": 3,
     "metadata": {},
     "output_type": "execute_result"
    }
   ],
   "source": [
    "import wandb\n",
    "from wandb.keras import WandbCallback\n",
    "time_stamp = datetime.strftime( datetime.now(),'%d_%B_%y_%H%M')\n",
    "wandb.init(project=\"my-test-project\", entity=\"ibksolar\", name=ipynbname.name()+'_'+time_stamp, config={} )\n",
    "\n",
    "config = wandb.config"
   ]
  },
  {
   "cell_type": "markdown",
   "id": "a082efcf-131a-4981-a114-c5729fac2386",
   "metadata": {},
   "source": [
    "On 2GPU Machine -Update to larger Batch size 14th March, 2022"
   ]
  },
  {
   "cell_type": "code",
   "execution_count": 4,
   "id": "00c1aba9-f492-4875-be63-c42578d6918a",
   "metadata": {},
   "outputs": [],
   "source": [
    "# Load data\n",
    "# raw_data1 = loadmat('new_echo_cnn_in_out_jstarrs2021_first_try/echo_cnn_in_out_jstars1.mat')# raw_data1 = loadmat('echo_cnn_in_out_GOOD_layers/new_echo_cnn_in_out_jstars1.mat') 'findpeaks_layers/new_echo_cnn_in_out_jstars1.mat'\n",
    "\n",
    "load_old_data = False\n",
    "\n",
    "if load_old_data:\n",
    "    raw_data1 = loadmat('../../../Python_Env/final_layers_rowblock15_21/filtered_image/new_echo_cnn_in_out_jstars1.mat')\n",
    "    raw_data2 = loadmat('../../../Python_Env/final_layers_rowblock15_21/filtered_image/new_echo_cnn_in_out_jstars2.mat')\n",
    "    raw_data3 = loadmat('../../../Python_Env/final_layers_rowblock15_21/filtered_image/new_echo_cnn_in_out_jstars3.mat')\n",
    "    # raw_data4 = loadmat('findpeaks_layers_rowblock20/new_echo_cnn_in_out_jstars4.mat')\n",
    "\n",
    "    d1 = raw_data1['echo_cnn1']\n",
    "    t1 = raw_data1['echo_target1']\n",
    "    i1 = raw_data1['echo_idx1']\n",
    "    c1 = raw_data1['coords1']\n",
    "\n",
    "    d2 = raw_data2['echo_cnn2']\n",
    "    t2 = raw_data2['echo_target2']\n",
    "    i2 = raw_data2['echo_idx2']\n",
    "    c2 = raw_data2['coords2']\n",
    "\n",
    "    d3 = raw_data3['echo_cnn3']\n",
    "    t3 = raw_data3['echo_target3']\n",
    "    i3 = raw_data3['echo_idx3']\n",
    "    c3 = raw_data3['coords3']\n",
    "\n",
    "    # d4 = raw_data4['echo_cnn4']\n",
    "    # t4 = raw_data4['echo_target4']\n",
    "    # i4 = raw_data4['echo_idx4']\n",
    "\n",
    "\n",
    "    orig_all_data = np.concatenate( (d1,d2,d3),axis = 0 )\n",
    "    orig_all_target = np.concatenate( (t1,t2,t3),axis = 0 )\n",
    "    orig_all_idx = np.concatenate( (i1,i2,i3),axis = 0 )\n",
    "    coords = np.concatenate( (c1,c2,c3),axis = 0 )\n",
    "\n",
    "    # Set all nan in the data to zero\n",
    "    nan_idx = np.isnan(orig_all_data).any(axis =-1)\n",
    "    orig_all_target[nan_idx] = 0\n",
    "    orig_all_data[ np.isnan(orig_all_data) ]= 0"
   ]
  },
  {
   "cell_type": "code",
   "execution_count": 5,
   "id": "d9fb9b83-f2b1-4b99-82a7-e1580e7a2694",
   "metadata": {},
   "outputs": [
    {
     "name": "stdout",
     "output_type": "stream",
     "text": [
      "True\n"
     ]
    }
   ],
   "source": [
    "load_new_data = True\n",
    "\n",
    "if load_new_data:\n",
    "    # base_path = '..\\\\..\\\\all_block_data\\Dec_Train_block_len_21_011121_2331'\n",
    "    #base_path = '../all_block_data/Old_data/Dec_Train_block_len_21_231121_1531'\n",
    "    base_path = '../all_block_data/PulsedTrainTest/Dec_Train_block_len_25_150322_1554'\n",
    "\n",
    "    # Confirm path is right...\n",
    "    print(f'{os.path.isdir(base_path)}')"
   ]
  },
  {
   "cell_type": "code",
   "execution_count": 6,
   "id": "e179ca79-43c2-45d8-a10e-1bb54507a5bf",
   "metadata": {},
   "outputs": [],
   "source": [
    "if load_new_data:\n",
    "    raw_data1 = mat73.loadmat(base_path + '/echo_cnn_in_out_jstars.mat')\n",
    "    orig_all_data = raw_data1['echo_cnn_input']\n",
    "    orig_all_target = raw_data1['echo_cnn_target']\n",
    "    coords = raw_data1['coords']\n",
    "    orig_all_idx = raw_data1['orig_echo_idx']\n",
    "\n",
    "    # Set all nan in the data to zero\n",
    "    nan_idx = np.isnan(orig_all_data).any(axis =-1)\n",
    "    orig_all_target[nan_idx] = 0\n",
    "    orig_all_data[ np.isnan(orig_all_data) ]= 0\n",
    "\n"
   ]
  },
  {
   "cell_type": "code",
   "execution_count": 7,
   "id": "120f732e-abb2-4041-92b2-aa1b6b5e5244",
   "metadata": {},
   "outputs": [],
   "source": [
    "# Split based on echograms into small dataset representing training and testing.\n",
    "\n",
    "config['reduce_test_set'] = True\n",
    "\n",
    "all_echo_idx = np.unique(orig_all_idx)\n",
    "\n",
    "# Start split \n",
    "test_echo_idx = list(chain.from_iterable( [ list(range(20*n+1,20*n+20)) for n in range(1,int(max(all_echo_idx))//20,2) ] ) )\n",
    "\n",
    "# list(set(test_echo_idx) & set(train_echo_idx))\n",
    "\n",
    "if config['reduce_test_set']:\n",
    "    random.Random(13).shuffle(test_echo_idx)\n",
    "    test_echo_idx = test_echo_idx[:round(0.2*len(test_echo_idx))]\n",
    "    # Need to get the coords of the shuffled test_echo_idx\n",
    "\n",
    "# Create train_echo_idx     \n",
    "train_echo_idx = [int(elem) for elem in all_echo_idx if elem not in test_echo_idx]\n",
    "\n",
    "# Create new coords idx for each rowblock from all the echograms\n",
    "val_cnt = [ (orig_all_idx==elem).sum() for elem in train_echo_idx]\n",
    "new_coords = []\n",
    "for elem in val_cnt:\n",
    "    new_coords.append([*range(elem)])\n",
    "new_coords = np.concatenate(new_coords).ravel()\n",
    "\n",
    "# Get all idx of echos in train_echo_idx ( Might need to find a faster implementation)\n",
    "#search_idx = np.where(orig_all_idx == train_echo_idx) #np.where( np.in1d(all_idx,train_echo_idx) )\n",
    "search_idx = []\n",
    "for echo_idx in train_echo_idx:\n",
    "    search_idx.append( np.where(orig_all_idx == echo_idx)[0] )\n",
    "search_idx = list(chain(*search_idx))\n",
    "    \n",
    "all_data = orig_all_data[search_idx]\n",
    "all_target = orig_all_target[search_idx]\n",
    "all_idx = orig_all_idx[search_idx]\n",
    "\n",
    "np.testing.assert_equal(new_coords.shape[0],all_data.shape[0])"
   ]
  },
  {
   "cell_type": "code",
   "execution_count": 8,
   "id": "88db6e2e-f752-4b1f-b3a4-395adeaf4fa9",
   "metadata": {},
   "outputs": [],
   "source": [
    "# Standardize all_data\n",
    "standardize = False\n",
    "if standardize:\n",
    "    all_data  = ( all_data - all_data.mean() ) / all_data.std()\n",
    "\n",
    "scale_data = False\n",
    "if scale_data:\n",
    "    all_data = 255*all_data"
   ]
  },
  {
   "cell_type": "code",
   "execution_count": 9,
   "id": "b97ea785-542b-42f8-aee2-fef06a14040d",
   "metadata": {},
   "outputs": [],
   "source": [
    "# Truncate data because data after truncate point is not good for training\n",
    "\n",
    "truncate_data = False\n",
    "if truncate_data:    \n",
    "    echo_idx = np.asarray(echo_idx)\n",
    "    stop_val = 400\n",
    "\n",
    "    stop_list, = np.where(echo_idx == stop_val)\n",
    "    stop_idx = stop_list[-1]\n",
    "\n",
    "    all_data = all_data[:stop_idx]\n",
    "    all_target = all_target[:stop_idx]\n",
    "\n",
    "    print(f'Data shape {all_data.shape}')\n",
    "    print(f'Target shape {all_target.shape}')\n"
   ]
  },
  {
   "cell_type": "code",
   "execution_count": 10,
   "id": "3eaf3c7e-1bb9-4d3b-b0af-deca0f0995b7",
   "metadata": {},
   "outputs": [
    {
     "name": "stdout",
     "output_type": "stream",
     "text": [
      "Dimensions match\n"
     ]
    }
   ],
   "source": [
    "config['row_length'] = 25 # CHANGE HERE <==\n",
    "config['col_length'] = 15\n",
    "\n",
    "# Check that the dimension of data is correct\n",
    "if all_data.shape[1] == config['row_length']*config['col_length']:\n",
    "    print('Dimensions match')\n",
    "else:\n",
    "    print(f' Row block length:{config[\"row_length\"]} and col length:{config[\"col_length\"]} does not match Data dimension:{all_data.shape[1]}') \n",
    "        "
   ]
  },
  {
   "cell_type": "code",
   "execution_count": 11,
   "id": "240c5978-0a4c-4a42-af11-b067dffe8ebc",
   "metadata": {},
   "outputs": [],
   "source": [
    "# Positional Encoding\n",
    "\n",
    "if 0 :\n",
    "    time_seq = 9 #col_length #5\n",
    "    # all_coords = raw_data1['coords']\n",
    "    all_coord_exp = np.zeros((all_coords.shape[0],time_seq,row_length))\n",
    "\n",
    "    for idx in range(len(all_coords)):\n",
    "        a,b,c,_ = np.asarray(all_coords[idx],dtype=\"int\")\n",
    "        if (a%2) == 0: # If row index is even - this isn't implemented well because it requires iterating through individual rows\n",
    "            all_coord_exp[idx] = np.sin( np.outer( np.arange(c,c+time_seq), pow(10000, (2*np.arange(a,b)/row_length)) ) )\n",
    "        else:\n",
    "            all_coord_exp[idx] = np.cos( np.outer( np.arange(c,c+time_seq), pow(10000, (2*np.arange(a,b)/row_length)) ) )\n",
    "\n",
    "    if 0: #truncate_data:\n",
    "        difficult_coords = all_coord_exp[stop_idx+1:]         \n",
    "        all_coord_exp = all_coord_exp[:stop_idx]        \n",
    "\n",
    "\n",
    "    all_coord_exp.shape    "
   ]
  },
  {
   "cell_type": "code",
   "execution_count": 12,
   "id": "ab1acb17-7dee-417b-97bc-8d0bba4e4cf4",
   "metadata": {},
   "outputs": [
    {
     "name": "stdout",
     "output_type": "stream",
     "text": [
      "Shape of X_train:(1508659, 9, 25)  X_test:(282874, 9, 25)\n",
      "Shape of y_train:(1508659,)  y_test:(282874,)\n"
     ]
    }
   ],
   "source": [
    "max_class = config['row_length']  \n",
    "\n",
    "# Highest class is mapped to row_length+1\n",
    "all_target[all_target == max_class+1 ] = 0\n",
    "\n",
    "\n",
    "shuffle = 1\n",
    "if shuffle:\n",
    "    random.Random(13).shuffle(all_data)\n",
    "    random.Random(13).shuffle(all_target)\n",
    "    #random.Random(13).shuffle(all_coord_exp)\n",
    "    random.Random(13).shuffle(all_idx)\n",
    "\n",
    "## Prep data\n",
    "train_size = int(np.floor(0.8*len(all_target)));\n",
    "test_size = int(np.round( 0.15* all_data.shape[0] ))\n",
    "val_size = all_data.shape[0] -train_size - test_size\n",
    "\n",
    "mid_pt = 8\n",
    "neigh = 4 # The number of neighbors used for each RowBlock column\n",
    "\n",
    "x_train = all_data[0:train_size,:]\n",
    "x_train = np.reshape( x_train, (x_train.shape[0],max_class,-1),order ='F' )\n",
    "x_train = x_train[:,:,mid_pt-neigh:mid_pt+neigh+1]\n",
    "# x_train = np.reshape(x_train,(x_train.shape[0],-1))\n",
    "x_train = np.transpose(x_train,(0,2,1))\n",
    "#coords_train = all_coord_exp[0:train_size,:]\n",
    "\n",
    "\n",
    "x_test = all_data[train_size:train_size+test_size,:]\n",
    "x_test = np.reshape( x_test,(x_test.shape[0],max_class,-1),order ='F' )\n",
    "x_test = x_test[:,:,mid_pt-neigh:mid_pt+neigh+1]\n",
    "# x_test = np.reshape(x_test,(x_test.shape[0],-1))\n",
    "x_test = np.transpose(x_test,(0,2,1))\n",
    "#coords_test = all_coord_exp[train_size:train_size+test_size,:]\n",
    "\n",
    "\n",
    "x_val = all_data[-val_size:,:]\n",
    "x_val = np.reshape( x_val,(x_val.shape[0],max_class,-1),order ='F' )\n",
    "x_val = x_val[:,:,mid_pt-neigh:mid_pt+neigh+1]\n",
    "# x_val = np.reshape(x_val,(x_val.shape[0],-1))\n",
    "x_val = np.transpose(x_val,(0,2,1))\n",
    "#coords_val = all_coord_exp[-val_size:,:]\n",
    "\n",
    "\n",
    "y_train = all_target[:train_size]\n",
    "y_test  = all_target[train_size:train_size+test_size]\n",
    "y_val = all_target[-val_size:]\n",
    "\n",
    "var_input_shape = x_train.shape[1:] # 240 columns\n",
    "config['num_classes'] = max_class+1 # layers\n",
    "\n",
    "\n",
    "# Convert labels to categorical orthonormal vectors\n",
    "y_train_1hot = tf.keras.utils.to_categorical(y_train, config['num_classes'])\n",
    "y_test_1hot  = tf.keras.utils.to_categorical(y_test, config['num_classes'])\n",
    "\n",
    "print(f'Shape of X_train:{x_train.shape}  X_test:{x_test.shape}')\n",
    "print(f'Shape of y_train:{y_train.shape}  y_test:{y_test.shape}')"
   ]
  },
  {
   "cell_type": "code",
   "execution_count": 13,
   "id": "d4e1d74e-7ca6-41f4-918e-9712adcdce02",
   "metadata": {},
   "outputs": [
    {
     "data": {
      "image/png": "[encoded data removed]",
      "text/plain": [
       "<Figure size 432x288 with 1 Axes>"
      ]
     },
     "metadata": {
      "needs_background": "light"
     },
     "output_type": "display_data"
    },
    {
     "data": {
      "image/png": "[encoded data removed]",
      "text/plain": [
       "<Figure size 432x288 with 1 Axes>"
      ]
     },
     "metadata": {
      "needs_background": "light"
     },
     "output_type": "display_data"
    }
   ],
   "source": [
    "# Show distribution of targets in training and validation set\n",
    "\n",
    "labels, counts = np.unique(y_train, return_counts=True)\n",
    "_ = plt.bar(labels, counts, align='center')\n",
    "_ = plt.gca().set_xticks(labels)\n",
    "_ = plt.title('Distribution of targets in Training set')\n",
    "_ = plt.show()\n",
    "\n",
    "\n",
    "labels, counts = np.unique(y_val, return_counts=True)\n",
    "_ = plt.bar(labels, counts, align='center')\n",
    "_ = plt.gca().set_xticks(labels)\n",
    "_ = plt.title('Distribution of targets in Validation set')\n",
    "_ = plt.show()"
   ]
  },
  {
   "cell_type": "code",
   "execution_count": 14,
   "id": "9a685d27-9817-4d7f-a916-ecfa2a451f7a",
   "metadata": {},
   "outputs": [
    {
     "data": {
      "image/png": "[encoded data removed]",
      "text/plain": [
       "<Figure size 432x288 with 1 Axes>"
      ]
     },
     "metadata": {
      "needs_background": "light"
     },
     "output_type": "display_data"
    }
   ],
   "source": [
    "# Visualize some of the input\n",
    "rand_idx = random.choice( range(1,x_train.shape[0]) )\n",
    "_ = plt.plot(x_train[rand_idx].flatten())\n",
    "_ = plt.title(f'Index {rand_idx}___Target_value:{y_train[rand_idx]}' )\n",
    "_ = plt.grid(which='both')"
   ]
  },
  {
   "cell_type": "code",
   "execution_count": 15,
   "id": "d2641993-96aa-4d4f-9342-5806258036fa",
   "metadata": {},
   "outputs": [],
   "source": [
    "if  0:   \n",
    "    x_train_new = x_train + coords_train\n",
    "    x_test_new = x_test + coords_test\n",
    "    x_val_new = x_val + coords_val"
   ]
  },
  {
   "cell_type": "code",
   "execution_count": 16,
   "id": "45833095-8823-4f47-895b-876c2c1b2396",
   "metadata": {},
   "outputs": [
    {
     "name": "stdout",
     "output_type": "stream",
     "text": [
      "Could not get file name: auto-generating name\n",
      "Activation_function not in workspace\n",
      "loss_function not in workspace\n",
      "Accuracy_per_epoch not in workspace\n",
      "Loss_per_epoch not in workspace\n",
      "Stop_time not in workspace\n",
      "Current run hyper_params are dict_keys(['S_N', 'Start_time', 'NoteBook_name', 'Uniqueness_of_each_run', 'Base_dir', 'Train_shape', 'Output_shape', 'num_epochs', 'Activation_function', 'optimizer', 'learning_rate', 'loss_function', 'Accuracy_per_epoch', 'Loss_per_epoch', 'Stop_time', 'Model_config', 'Performance_on_test_set', 'output_path', 'shuffle', 'Computer_name', 'extras']):dict_values([62, '17_March_22_1256', 'LSTM1_Repeat_Augment_Reduce_DoubleGPU', 'Using New 2GPU machine to train 25 length data ', '../all_block_data/PulsedTrainTest/Dec_Train_block_len_25_150322_1554', (1508659, 9, 25), '', '', '', '', '', '', '', '', '', '', '', '', 1, 'DESKTOP-3S4QB77', [{'standardize': False}]])\n",
      "Fields to be updated include: ['Activation_function', 'loss_function', 'Accuracy_per_epoch', 'Loss_per_epoch', 'Stop_time', 'Model_config']\n"
     ]
    },
    {
     "name": "stderr",
     "output_type": "stream",
     "text": [
      "Y:\\ibikunle\\Python_Project\\Fall_2021\\Model_and_weights\\model_hyper_param_log.py:231: FutureWarning: The frame.append method is deprecated and will be removed from pandas in a future version. Use pandas.concat instead.\n",
      "  df = df.append(Row, ignore_index=True)\n"
     ]
    }
   ],
   "source": [
    "# Populate the param \n",
    "\n",
    "# import sys,importlib\n",
    "#importlib.reload(sys.modules['model_hyper_param_log'])\n",
    "if 1:\n",
    "    \n",
    "    #base_path =   r'../../../Python_Env/final_layers_rowblock15_21/filtered_image/'\n",
    "    log ={}\n",
    "    log['Notebook_name'] = ipynbname.name()\n",
    "    log['Uniqueness_of_each_run'] = 'Using New 2GPU machine to train 25 length data '\n",
    "    log['base_dir'] = base_path\n",
    "    log['Train_shape'] = x_train.shape\n",
    "    log['Output_shape'] = ''\n",
    "    log['num_epochs'] = ''\n",
    "    log['batch_size'] = ''\n",
    "    log['activation_function'] = ''\n",
    "    log['optimizer'] = ''\n",
    "    log['learning_rate'] = ''\n",
    "    log['loss_finction'] = ''\n",
    "    log['accuracy'] = []\n",
    "    log['loss'] = []\n",
    "    log['stop_time'] = ''\n",
    "    log['Model_config'] = ''\n",
    "    log['Performance_on_test_set'] = ''\n",
    "    log['output_path'] = ''  # output: where the trained model is saved\n",
    "    log['shuffle'] = shuffle\n",
    "    log['run_completion_comment'] = '' # Comment on training and probably evaluation too\n",
    "    log['extras'] = [{'standardize':standardize}]\n",
    "\n",
    "\n",
    "from model_hyper_param_log import create_log_entry, update_log_entry\n",
    "if \"log_idx\" in globals():\n",
    "    log[\"S_N\"] = log_idx\n",
    "log_idx = create_log_entry('../testing_sheet2.xlsx', log)"
   ]
  },
  {
   "cell_type": "code",
   "execution_count": 17,
   "id": "90eaf02e-ac0c-47ae-93f8-ff9098ad79e8",
   "metadata": {},
   "outputs": [
    {
     "data": {
      "image/png": "[encoded data removed]",
      "text/plain": [
       "<Figure size 432x288 with 1 Axes>"
      ]
     },
     "metadata": {
      "needs_background": "light"
     },
     "output_type": "display_data"
    }
   ],
   "source": [
    "# Visualize some of the input\n",
    "rand_idx = random.choice( range(1,x_train.shape[0]) )\n",
    "_ = plt.plot(x_train[rand_idx].flatten())\n",
    "_ = plt.title(f'Index {rand_idx}___Target_value:{y_train[rand_idx]}' )\n",
    "_ = plt.grid(which='both')"
   ]
  },
  {
   "cell_type": "code",
   "execution_count": 18,
   "id": "786f8414-e06b-4d41-9c1d-ebc49fa12c8d",
   "metadata": {},
   "outputs": [],
   "source": [
    "data_augmentation = tf.keras.Sequential(\n",
    "    [\n",
    "        #layers.Rescaling(1 / 255.0),        \n",
    "        layers.RandomCrop(x_train.shape[1], x_train.shape[2]),\n",
    "        layers.RandomFlip(\"vertical\"),\n",
    "    ],\n",
    "    name=\"data_augmentation\",\n",
    ")"
   ]
  },
  {
   "cell_type": "code",
   "execution_count": 19,
   "id": "97e16339-5789-458c-b3e1-0e7468896105",
   "metadata": {},
   "outputs": [
    {
     "data": {
      "text/plain": [
       "{'reduce_test_set': True, 'row_length': 25, 'col_length': 15, 'num_classes': 26}"
      ]
     },
     "execution_count": 19,
     "metadata": {},
     "output_type": "execute_result"
    }
   ],
   "source": [
    "# Veiw Config \n",
    "\n",
    "config"
   ]
  },
  {
   "cell_type": "code",
   "execution_count": 20,
   "id": "5ac87a4e-7af5-4242-9493-30110b46f073",
   "metadata": {},
   "outputs": [],
   "source": [
    "config['batch_size'] = batch_size= 128\n",
    "AUTO = tf.data.AUTOTUNE\n",
    "BUFFER = config['batch_size'] * 4\n",
    "\n",
    "train_ds = tf.data.Dataset.from_tensor_slices((x_train, y_train))\n",
    "train_ds = train_ds.batch(batch_size).prefetch(AUTO)\n",
    "\n",
    "val_ds = tf.data.Dataset.from_tensor_slices((x_val, y_val))\n",
    "val_ds = val_ds.batch(batch_size).prefetch(AUTO)\n",
    "\n",
    "test_ds = tf.data.Dataset.from_tensor_slices((x_test,y_test))\n",
    "test_ds = test_ds.batch(batch_size).prefetch(AUTO)"
   ]
  },
  {
   "cell_type": "code",
   "execution_count": 21,
   "id": "20b641e2-a1f0-447f-ac45-eec2151807fe",
   "metadata": {},
   "outputs": [],
   "source": [
    "use_class_weight = True\n",
    "\n",
    "if use_class_weight:\n",
    "    each_class,each_count = np.unique(y_train, return_counts = True)\n",
    "    class_weights = len(y_train) / ( len(each_class) * each_count )\n",
    "    each_class = each_class.astype('int32')\n",
    "    cl_weight_dict = dict(zip(each_class,class_weights))\n",
    "    \n",
    "    def weighted_categorical_crossentropy(class_weight):       \n",
    "        \"\"\" Returns a loss function for a specific class weight tensor\n",
    "    \n",
    "        Params:\n",
    "          class_weight:1-D constant tensor of class weights\n",
    "    \n",
    "        Returns:\n",
    "          A loss function where each loss is scaled based on the observed class \n",
    "        \"\"\"\n",
    "    \n",
    "        def loss(y_obs,y_pred):\n",
    "            y_obs = tf.dtypes.cast(y_obs,tf.int32)\n",
    "            onehot =tf.one_hot( tf.reshape(y_obs,[-1]), depth = len(class_weight) )\n",
    "            weight = tf.math.multiply(class_weight,onehot)\n",
    "            weight = tf.reduce_sum(weight, axis=-1)\n",
    "            losses = tf.compat.v1.losses.sparse_softmax_cross_entropy(\n",
    "                            labels=y_obs, logits=y_pred, weights=weight )\n",
    "            return losses\n",
    "        \n",
    "        return loss\n",
    "    \n",
    "loss = weighted_categorical_crossentropy( list( cl_weight_dict.values()) )\n",
    "    "
   ]
  },
  {
   "cell_type": "code",
   "execution_count": null,
   "id": "034dfda6-186c-419e-a9a6-b029c6ddbc07",
   "metadata": {},
   "outputs": [],
   "source": []
  },
  {
   "cell_type": "code",
   "execution_count": 22,
   "id": "b709185f-c394-4c52-afa5-75bcf5964ad9",
   "metadata": {
    "tags": []
   },
   "outputs": [
    {
     "name": "stdout",
     "output_type": "stream",
     "text": [
      "INFO:tensorflow:Using MirroredStrategy with devices ('/job:localhost/replica:0/task:0/device:GPU:0', '/job:localhost/replica:0/task:0/device:GPU:1')\n",
      "Number of devices: 2\n",
      "INFO:tensorflow:Reduce to /job:localhost/replica:0/task:0/device:CPU:0 then broadcast to ('/job:localhost/replica:0/task:0/device:CPU:0',).\n",
      "INFO:tensorflow:Reduce to /job:localhost/replica:0/task:0/device:CPU:0 then broadcast to ('/job:localhost/replica:0/task:0/device:CPU:0',).\n",
      "INFO:tensorflow:Reduce to /job:localhost/replica:0/task:0/device:CPU:0 then broadcast to ('/job:localhost/replica:0/task:0/device:CPU:0',).\n",
      "INFO:tensorflow:Reduce to /job:localhost/replica:0/task:0/device:CPU:0 then broadcast to ('/job:localhost/replica:0/task:0/device:CPU:0',).\n",
      "INFO:tensorflow:Reduce to /job:localhost/replica:0/task:0/device:CPU:0 then broadcast to ('/job:localhost/replica:0/task:0/device:CPU:0',).\n",
      "INFO:tensorflow:Reduce to /job:localhost/replica:0/task:0/device:CPU:0 then broadcast to ('/job:localhost/replica:0/task:0/device:CPU:0',).\n",
      "INFO:tensorflow:Reduce to /job:localhost/replica:0/task:0/device:CPU:0 then broadcast to ('/job:localhost/replica:0/task:0/device:CPU:0',).\n",
      "INFO:tensorflow:Reduce to /job:localhost/replica:0/task:0/device:CPU:0 then broadcast to ('/job:localhost/replica:0/task:0/device:CPU:0',).\n",
      "INFO:tensorflow:Reduce to /job:localhost/replica:0/task:0/device:CPU:0 then broadcast to ('/job:localhost/replica:0/task:0/device:CPU:0',).\n",
      "INFO:tensorflow:Reduce to /job:localhost/replica:0/task:0/device:CPU:0 then broadcast to ('/job:localhost/replica:0/task:0/device:CPU:0',).\n",
      "Training start time:17_March_22_1256\n",
      "Epoch 1/300\n",
      "INFO:tensorflow:batch_all_reduce: 88 all-reduces with algorithm = hierarchical_copy, num_packs = 1\n",
      "INFO:tensorflow:batch_all_reduce: 88 all-reduces with algorithm = hierarchical_copy, num_packs = 1\n",
      "    6/11787 [..............................] - ETA: 22:29 - loss: 8.5771 - accuracy: 0.0547 - top-3-accuracy: 0.1628WARNING:tensorflow:Callback method `on_train_batch_end` is slow compared to the batch time (batch time: 0.1102s vs `on_train_batch_end` time: 0.1496s). Check your callbacks.\n",
      "11787/11787 [==============================] - 1270s 105ms/step - loss: 6.4466 - accuracy: 0.1009 - top-3-accuracy: 0.2880 - val_loss: 8.5035 - val_accuracy: 0.0923 - val_top-3-accuracy: 0.2896 - lr: 0.0010 - _timestamp: 1647541055.0000 - _runtime: 1326.0000\n",
      "Epoch 2/300\n",
      "11787/11787 [==============================] - 1222s 104ms/step - loss: 8.5059 - accuracy: 0.0939 - top-3-accuracy: 0.2911 - val_loss: 8.5035 - val_accuracy: 0.0923 - val_top-3-accuracy: 0.2896 - lr: 0.0010 - _timestamp: 1647542279.0000 - _runtime: 2550.0000\n",
      "Epoch 3/300\n",
      "11787/11787 [==============================] - 1222s 104ms/step - loss: 8.5059 - accuracy: 0.0939 - top-3-accuracy: 0.2907 - val_loss: 8.5035 - val_accuracy: 0.0923 - val_top-3-accuracy: 0.2896 - lr: 0.0010 - _timestamp: 1647543502.0000 - _runtime: 3773.0000\n",
      "Epoch 4/300\n",
      " 4214/11787 [=========>....................] - ETA: 12:58 - loss: 8.4890 - accuracy: 0.0941 - top-3-accuracy: 0.2914"
     ]
    },
    {
     "name": "stderr",
     "output_type": "stream",
     "text": [
      "Exception in thread ChkStopThr:\n",
      "Traceback (most recent call last):\n",
      "  File \"C:\\Users\\cresis\\.conda\\envs\\TF_2.8\\lib\\threading.py\", line 973, in _bootstrap_inner\n",
      "    self.run()\n",
      "  File \"C:\\Users\\cresis\\.conda\\envs\\TF_2.8\\lib\\threading.py\", line 910, in run\n",
      "    self._target(*self._args, **self._kwargs)\n",
      "  File \"C:\\Users\\cresis\\.conda\\envs\\TF_2.8\\lib\\site-packages\\wandb\\sdk\\wandb_run.py\", line 167, in check_status\n",
      "    status_response = self._interface.communicate_stop_status()\n",
      "  File \"C:\\Users\\cresis\\.conda\\envs\\TF_2.8\\lib\\site-packages\\wandb\\sdk\\interface\\interface.py\", line 114, in communicate_stop_status\n",
      "    resp = self._communicate_stop_status(status)\n",
      "  File \"C:\\Users\\cresis\\.conda\\envs\\TF_2.8\\lib\\site-packages\\wandb\\sdk\\interface\\interface_shared.py\", line 387, in _communicate_stop_status\n",
      "    resp = self._communicate(req, local=True)\n",
      "  File \"C:\\Users\\cresis\\.conda\\envs\\TF_2.8\\lib\\site-packages\\wandb\\sdk\\interface\\interface_shared.py\", line 222, in _communicate\n",
      "    return self._communicate_async(rec, local=local).get(timeout=timeout)\n",
      "  File \"C:\\Users\\cresis\\.conda\\envs\\TF_2.8\\lib\\site-packages\\wandb\\sdk\\interface\\interface_shared.py\", line 227, in _communicate_async\n",
      "    raise Exception(\"The wandb backend process has shutdown\")\n",
      "Exception: The wandb backend process has shutdown\n"
     ]
    },
    {
     "name": "stdout",
     "output_type": "stream",
     "text": [
      " 4218/11787 [=========>....................] - ETA: 12:58 - loss: 8.4891 - accuracy: 0.0941 - top-3-accuracy: 0.2914"
     ]
    },
    {
     "name": "stderr",
     "output_type": "stream",
     "text": [
      "Exception in thread NetStatThr:\n",
      "Traceback (most recent call last):\n",
      "  File \"C:\\Users\\cresis\\.conda\\envs\\TF_2.8\\lib\\threading.py\", line 973, in _bootstrap_inner\n",
      "    self.run()\n",
      "  File \"C:\\Users\\cresis\\.conda\\envs\\TF_2.8\\lib\\threading.py\", line 910, in run\n",
      "    self._target(*self._args, **self._kwargs)\n",
      "  File \"C:\\Users\\cresis\\.conda\\envs\\TF_2.8\\lib\\site-packages\\wandb\\sdk\\wandb_run.py\", line 149, in check_network_status\n",
      "    status_response = self._interface.communicate_network_status()\n",
      "  File \"C:\\Users\\cresis\\.conda\\envs\\TF_2.8\\lib\\site-packages\\wandb\\sdk\\interface\\interface.py\", line 125, in communicate_network_status\n",
      "    resp = self._communicate_network_status(status)\n",
      "  File \"C:\\Users\\cresis\\.conda\\envs\\TF_2.8\\lib\\site-packages\\wandb\\sdk\\interface\\interface_shared.py\", line 397, in _communicate_network_status\n",
      "    resp = self._communicate(req, local=True)\n",
      "  File \"C:\\Users\\cresis\\.conda\\envs\\TF_2.8\\lib\\site-packages\\wandb\\sdk\\interface\\interface_shared.py\", line 222, in _communicate\n",
      "    return self._communicate_async(rec, local=local).get(timeout=timeout)\n",
      "  File \"C:\\Users\\cresis\\.conda\\envs\\TF_2.8\\lib\\site-packages\\wandb\\sdk\\interface\\interface_shared.py\", line 227, in _communicate_async\n",
      "    raise Exception(\"The wandb backend process has shutdown\")\n",
      "Exception: The wandb backend process has shutdown\n"
     ]
    },
    {
     "name": "stdout",
     "output_type": "stream",
     "text": [
      "11787/11787 [==============================] - ETA: 0s - loss: 8.5059 - accuracy: 0.0939 - top-3-accuracy: 0.2910"
     ]
    },
    {
     "ename": "UnknownError",
     "evalue": "FlushFileBuffers failed for: Y:\\ibikunle\\Python_Project\\Fall_2021\\all_block_data\\PulsedTrainTest/LSTM1_Repeat_Augment_Reduce_DoubleGPU/17_March_22_1256_logs/validation/events.out.tfevents.1647541039.DESKTOP-3S4QB77.12480.1.v2 : An unexpected network error occurred.\r\n; Unknown error\n\tFailed to flush 1 events to Y:\\ibikunle\\Python_Project\\Fall_2021\\all_block_data\\PulsedTrainTest/LSTM1_Repeat_Augment_Reduce_DoubleGPU/17_March_22_1256_logs/validation/events.out.tfevents.1647541039.DESKTOP-3S4QB77.12480.1.v2\n\tCould not flush events file. [Op:FlushSummaryWriter]",
     "output_type": "error",
     "traceback": [
      "\u001b[1;31m---------------------------------------------------------------------------\u001b[0m",
      "\u001b[1;31mUnknownError\u001b[0m                              Traceback (most recent call last)",
      "Input \u001b[1;32mIn [22]\u001b[0m, in \u001b[0;36m<cell line: 128>\u001b[1;34m()\u001b[0m\n\u001b[0;32m    125\u001b[0m y_train2 \u001b[38;5;241m=\u001b[39m (y_train,y_train)\n\u001b[0;32m    126\u001b[0m y_test2 \u001b[38;5;241m=\u001b[39m (y_test,y_test)\n\u001b[1;32m--> 128\u001b[0m history \u001b[38;5;241m=\u001b[39m \u001b[43mmodel\u001b[49m\u001b[38;5;241;43m.\u001b[39;49m\u001b[43mfit\u001b[49m\u001b[43m(\u001b[49m\u001b[43mtrain_ds\u001b[49m\u001b[43m,\u001b[49m\n\u001b[0;32m    129\u001b[0m \u001b[43m          \u001b[49m\u001b[43mepochs\u001b[49m\u001b[38;5;241;43m=\u001b[39;49m\u001b[43m \u001b[49m\u001b[43mconfig\u001b[49m\u001b[43m[\u001b[49m\u001b[38;5;124;43m'\u001b[39;49m\u001b[38;5;124;43mepochs\u001b[39;49m\u001b[38;5;124;43m'\u001b[39;49m\u001b[43m]\u001b[49m\u001b[43m,\u001b[49m\u001b[43m \u001b[49m\n\u001b[0;32m    130\u001b[0m \u001b[43m          \u001b[49m\u001b[43mbatch_size\u001b[49m\u001b[38;5;241;43m=\u001b[39;49m\u001b[43m \u001b[49m\u001b[43mconfig\u001b[49m\u001b[43m[\u001b[49m\u001b[38;5;124;43m'\u001b[39;49m\u001b[38;5;124;43mbatch_size\u001b[39;49m\u001b[38;5;124;43m'\u001b[39;49m\u001b[43m]\u001b[49m\u001b[43m,\u001b[49m\u001b[43m \u001b[49m\n\u001b[0;32m    131\u001b[0m \u001b[43m          \u001b[49m\u001b[38;5;66;43;03m#validation_split = 0.3,\u001b[39;49;00m\n\u001b[0;32m    132\u001b[0m \u001b[43m          \u001b[49m\u001b[43mvalidation_data\u001b[49m\u001b[38;5;241;43m=\u001b[39;49m\u001b[43mval_ds\u001b[49m\u001b[43m,\u001b[49m\n\u001b[0;32m    133\u001b[0m \u001b[43m         \u001b[49m\u001b[43mcallbacks\u001b[49m\u001b[38;5;241;43m=\u001b[39;49m\u001b[43mcallbacks\u001b[49m\u001b[43m  \u001b[49m\u001b[43m)\u001b[49m \u001b[38;5;66;03m#mcp_save, callbacks=[reduce_lr_loss] class_weight = cl_weight_dict\u001b[39;00m\n\u001b[0;32m    135\u001b[0m \u001b[38;5;66;03m#Load best model\u001b[39;00m\n\u001b[0;32m    136\u001b[0m model \u001b[38;5;241m=\u001b[39m tf\u001b[38;5;241m.\u001b[39mkeras\u001b[38;5;241m.\u001b[39mmodels\u001b[38;5;241m.\u001b[39mload_model(\u001b[38;5;124mf\u001b[39m\u001b[38;5;124m\"\u001b[39m\u001b[38;5;132;01m{\u001b[39;00mbase_path2\u001b[38;5;132;01m}\u001b[39;00m\u001b[38;5;124m//\u001b[39m\u001b[38;5;132;01m{\u001b[39;00mipynbname\u001b[38;5;241m.\u001b[39mname()\u001b[38;5;132;01m}\u001b[39;00m\u001b[38;5;124m//RowBlockLSTM_ReRun_Checkpoint\u001b[39m\u001b[38;5;132;01m{\u001b[39;00mtime_stamp\u001b[38;5;132;01m}\u001b[39;00m\u001b[38;5;124m.h5\u001b[39m\u001b[38;5;124m\"\u001b[39m)\n",
      "File \u001b[1;32m~\\.conda\\envs\\TF_2.8\\lib\\site-packages\\wandb\\integration\\keras\\keras.py:168\u001b[0m, in \u001b[0;36mpatch_tf_keras.<locals>.new_v2\u001b[1;34m(*args, **kwargs)\u001b[0m\n\u001b[0;32m    166\u001b[0m     \u001b[38;5;28;01mfor\u001b[39;00m cbk \u001b[38;5;129;01min\u001b[39;00m cbks:\n\u001b[0;32m    167\u001b[0m         set_wandb_attrs(cbk, val_data)\n\u001b[1;32m--> 168\u001b[0m \u001b[38;5;28;01mreturn\u001b[39;00m old_v2(\u001b[38;5;241m*\u001b[39margs, \u001b[38;5;241m*\u001b[39m\u001b[38;5;241m*\u001b[39mkwargs)\n",
      "File \u001b[1;32m~\\.conda\\envs\\TF_2.8\\lib\\site-packages\\keras\\utils\\traceback_utils.py:67\u001b[0m, in \u001b[0;36mfilter_traceback.<locals>.error_handler\u001b[1;34m(*args, **kwargs)\u001b[0m\n\u001b[0;32m     65\u001b[0m \u001b[38;5;28;01mexcept\u001b[39;00m \u001b[38;5;167;01mException\u001b[39;00m \u001b[38;5;28;01mas\u001b[39;00m e:  \u001b[38;5;66;03m# pylint: disable=broad-except\u001b[39;00m\n\u001b[0;32m     66\u001b[0m   filtered_tb \u001b[38;5;241m=\u001b[39m _process_traceback_frames(e\u001b[38;5;241m.\u001b[39m__traceback__)\n\u001b[1;32m---> 67\u001b[0m   \u001b[38;5;28;01mraise\u001b[39;00m e\u001b[38;5;241m.\u001b[39mwith_traceback(filtered_tb) \u001b[38;5;28;01mfrom\u001b[39;00m \u001b[38;5;28mNone\u001b[39m\n\u001b[0;32m     68\u001b[0m \u001b[38;5;28;01mfinally\u001b[39;00m:\n\u001b[0;32m     69\u001b[0m   \u001b[38;5;28;01mdel\u001b[39;00m filtered_tb\n",
      "File \u001b[1;32m~\\.conda\\envs\\TF_2.8\\lib\\site-packages\\tensorflow\\python\\framework\\ops.py:7186\u001b[0m, in \u001b[0;36mraise_from_not_ok_status\u001b[1;34m(e, name)\u001b[0m\n\u001b[0;32m   7184\u001b[0m \u001b[38;5;28;01mdef\u001b[39;00m \u001b[38;5;21mraise_from_not_ok_status\u001b[39m(e, name):\n\u001b[0;32m   7185\u001b[0m   e\u001b[38;5;241m.\u001b[39mmessage \u001b[38;5;241m+\u001b[39m\u001b[38;5;241m=\u001b[39m (\u001b[38;5;124m\"\u001b[39m\u001b[38;5;124m name: \u001b[39m\u001b[38;5;124m\"\u001b[39m \u001b[38;5;241m+\u001b[39m name \u001b[38;5;28;01mif\u001b[39;00m name \u001b[38;5;129;01mis\u001b[39;00m \u001b[38;5;129;01mnot\u001b[39;00m \u001b[38;5;28;01mNone\u001b[39;00m \u001b[38;5;28;01melse\u001b[39;00m \u001b[38;5;124m\"\u001b[39m\u001b[38;5;124m\"\u001b[39m)\n\u001b[1;32m-> 7186\u001b[0m   \u001b[38;5;28;01mraise\u001b[39;00m core\u001b[38;5;241m.\u001b[39m_status_to_exception(e) \u001b[38;5;28;01mfrom\u001b[39;00m \u001b[38;5;28mNone\u001b[39m\n",
      "\u001b[1;31mUnknownError\u001b[0m: FlushFileBuffers failed for: Y:\\ibikunle\\Python_Project\\Fall_2021\\all_block_data\\PulsedTrainTest/LSTM1_Repeat_Augment_Reduce_DoubleGPU/17_March_22_1256_logs/validation/events.out.tfevents.1647541039.DESKTOP-3S4QB77.12480.1.v2 : An unexpected network error occurred.\r\n; Unknown error\n\tFailed to flush 1 events to Y:\\ibikunle\\Python_Project\\Fall_2021\\all_block_data\\PulsedTrainTest/LSTM1_Repeat_Augment_Reduce_DoubleGPU/17_March_22_1256_logs/validation/events.out.tfevents.1647541039.DESKTOP-3S4QB77.12480.1.v2\n\tCould not flush events file. [Op:FlushSummaryWriter]"
     ]
    },
    {
     "name": "stderr",
     "output_type": "stream",
     "text": [
      "--- Logging error ---\n",
      "Traceback (most recent call last):\n",
      "  File \"C:\\Users\\cresis\\.conda\\envs\\TF_2.8\\lib\\logging\\__init__.py\", line 1087, in emit\n",
      "    self.flush()\n",
      "  File \"C:\\Users\\cresis\\.conda\\envs\\TF_2.8\\lib\\logging\\__init__.py\", line 1067, in flush\n",
      "    self.stream.flush()\n",
      "OSError: [Errno 22] Invalid argument\n",
      "Call stack:\n",
      "  File \"C:\\Users\\cresis\\.conda\\envs\\TF_2.8\\lib\\runpy.py\", line 197, in _run_module_as_main\n",
      "    return _run_code(code, main_globals, None,\n",
      "  File \"C:\\Users\\cresis\\.conda\\envs\\TF_2.8\\lib\\runpy.py\", line 87, in _run_code\n",
      "    exec(code, run_globals)\n",
      "  File \"C:\\Users\\cresis\\.conda\\envs\\TF_2.8\\lib\\site-packages\\ipykernel_launcher.py\", line 16, in <module>\n",
      "    app.launch_new_instance()\n",
      "  File \"C:\\Users\\cresis\\.conda\\envs\\TF_2.8\\lib\\site-packages\\traitlets\\config\\application.py\", line 846, in launch_instance\n",
      "    app.start()\n",
      "  File \"C:\\Users\\cresis\\.conda\\envs\\TF_2.8\\lib\\site-packages\\ipykernel\\kernelapp.py\", line 677, in start\n",
      "    self.io_loop.start()\n",
      "  File \"C:\\Users\\cresis\\.conda\\envs\\TF_2.8\\lib\\site-packages\\tornado\\platform\\asyncio.py\", line 199, in start\n",
      "    self.asyncio_loop.run_forever()\n",
      "  File \"C:\\Users\\cresis\\.conda\\envs\\TF_2.8\\lib\\asyncio\\base_events.py\", line 596, in run_forever\n",
      "    self._run_once()\n",
      "  File \"C:\\Users\\cresis\\.conda\\envs\\TF_2.8\\lib\\asyncio\\base_events.py\", line 1890, in _run_once\n",
      "    handle._run()\n",
      "  File \"C:\\Users\\cresis\\.conda\\envs\\TF_2.8\\lib\\asyncio\\events.py\", line 80, in _run\n",
      "    self._context.run(self._callback, *self._args)\n",
      "  File \"C:\\Users\\cresis\\.conda\\envs\\TF_2.8\\lib\\site-packages\\ipykernel\\kernelbase.py\", line 471, in dispatch_queue\n",
      "    await self.process_one()\n",
      "  File \"C:\\Users\\cresis\\.conda\\envs\\TF_2.8\\lib\\site-packages\\ipykernel\\kernelbase.py\", line 460, in process_one\n",
      "    await dispatch(*args)\n",
      "  File \"C:\\Users\\cresis\\.conda\\envs\\TF_2.8\\lib\\site-packages\\ipykernel\\kernelbase.py\", line 367, in dispatch_shell\n",
      "    await result\n",
      "  File \"C:\\Users\\cresis\\.conda\\envs\\TF_2.8\\lib\\site-packages\\ipykernel\\kernelbase.py\", line 662, in execute_request\n",
      "    reply_content = await reply_content\n",
      "  File \"C:\\Users\\cresis\\.conda\\envs\\TF_2.8\\lib\\site-packages\\ipykernel\\ipkernel.py\", line 360, in do_execute\n",
      "    res = shell.run_cell(code, store_history=store_history, silent=silent)\n",
      "  File \"C:\\Users\\cresis\\.conda\\envs\\TF_2.8\\lib\\site-packages\\ipykernel\\zmqshell.py\", line 532, in run_cell\n",
      "    return super().run_cell(*args, **kwargs)\n",
      "  File \"C:\\Users\\cresis\\.conda\\envs\\TF_2.8\\lib\\site-packages\\IPython\\core\\interactiveshell.py\", line 2859, in run_cell\n",
      "    self.events.trigger('post_run_cell', result)\n",
      "  File \"C:\\Users\\cresis\\.conda\\envs\\TF_2.8\\lib\\site-packages\\IPython\\core\\events.py\", line 89, in trigger\n",
      "    func(*args, **kwargs)\n",
      "  File \"C:\\Users\\cresis\\.conda\\envs\\TF_2.8\\lib\\site-packages\\backcall\\backcall.py\", line 104, in adapted\n",
      "    return callback(*args, **kwargs)\n",
      "  File \"C:\\Users\\cresis\\.conda\\envs\\TF_2.8\\lib\\site-packages\\wandb\\sdk\\wandb_init.py\", line 318, in _pause_backend\n",
      "    logger.info(\"pausing backend\")\n",
      "Message: 'pausing backend'\n",
      "Arguments: ()\n",
      "--- Logging error ---\n",
      "Traceback (most recent call last):\n",
      "  File \"C:\\Users\\cresis\\.conda\\envs\\TF_2.8\\lib\\logging\\__init__.py\", line 1087, in emit\n",
      "    self.flush()\n",
      "  File \"C:\\Users\\cresis\\.conda\\envs\\TF_2.8\\lib\\logging\\__init__.py\", line 1067, in flush\n",
      "    self.stream.flush()\n",
      "OSError: [Errno 22] Invalid argument\n",
      "Call stack:\n",
      "  File \"C:\\Users\\cresis\\.conda\\envs\\TF_2.8\\lib\\runpy.py\", line 197, in _run_module_as_main\n",
      "    return _run_code(code, main_globals, None,\n",
      "  File \"C:\\Users\\cresis\\.conda\\envs\\TF_2.8\\lib\\runpy.py\", line 87, in _run_code\n",
      "    exec(code, run_globals)\n",
      "  File \"C:\\Users\\cresis\\.conda\\envs\\TF_2.8\\lib\\site-packages\\ipykernel_launcher.py\", line 16, in <module>\n",
      "    app.launch_new_instance()\n",
      "  File \"C:\\Users\\cresis\\.conda\\envs\\TF_2.8\\lib\\site-packages\\traitlets\\config\\application.py\", line 846, in launch_instance\n",
      "    app.start()\n",
      "  File \"C:\\Users\\cresis\\.conda\\envs\\TF_2.8\\lib\\site-packages\\ipykernel\\kernelapp.py\", line 677, in start\n",
      "    self.io_loop.start()\n",
      "  File \"C:\\Users\\cresis\\.conda\\envs\\TF_2.8\\lib\\site-packages\\tornado\\platform\\asyncio.py\", line 199, in start\n",
      "    self.asyncio_loop.run_forever()\n",
      "  File \"C:\\Users\\cresis\\.conda\\envs\\TF_2.8\\lib\\asyncio\\base_events.py\", line 596, in run_forever\n",
      "    self._run_once()\n",
      "  File \"C:\\Users\\cresis\\.conda\\envs\\TF_2.8\\lib\\asyncio\\base_events.py\", line 1890, in _run_once\n",
      "    handle._run()\n",
      "  File \"C:\\Users\\cresis\\.conda\\envs\\TF_2.8\\lib\\asyncio\\events.py\", line 80, in _run\n",
      "    self._context.run(self._callback, *self._args)\n",
      "  File \"C:\\Users\\cresis\\.conda\\envs\\TF_2.8\\lib\\site-packages\\ipykernel\\kernelbase.py\", line 471, in dispatch_queue\n",
      "    await self.process_one()\n",
      "  File \"C:\\Users\\cresis\\.conda\\envs\\TF_2.8\\lib\\site-packages\\ipykernel\\kernelbase.py\", line 460, in process_one\n",
      "    await dispatch(*args)\n",
      "  File \"C:\\Users\\cresis\\.conda\\envs\\TF_2.8\\lib\\site-packages\\ipykernel\\kernelbase.py\", line 367, in dispatch_shell\n",
      "    await result\n",
      "  File \"C:\\Users\\cresis\\.conda\\envs\\TF_2.8\\lib\\site-packages\\ipykernel\\kernelbase.py\", line 662, in execute_request\n",
      "    reply_content = await reply_content\n",
      "  File \"C:\\Users\\cresis\\.conda\\envs\\TF_2.8\\lib\\site-packages\\ipykernel\\ipkernel.py\", line 360, in do_execute\n",
      "    res = shell.run_cell(code, store_history=store_history, silent=silent)\n",
      "  File \"C:\\Users\\cresis\\.conda\\envs\\TF_2.8\\lib\\site-packages\\ipykernel\\zmqshell.py\", line 532, in run_cell\n",
      "    return super().run_cell(*args, **kwargs)\n",
      "  File \"C:\\Users\\cresis\\.conda\\envs\\TF_2.8\\lib\\site-packages\\IPython\\core\\interactiveshell.py\", line 2859, in run_cell\n",
      "    self.events.trigger('post_run_cell', result)\n",
      "  File \"C:\\Users\\cresis\\.conda\\envs\\TF_2.8\\lib\\site-packages\\IPython\\core\\events.py\", line 89, in trigger\n",
      "    func(*args, **kwargs)\n",
      "  File \"C:\\Users\\cresis\\.conda\\envs\\TF_2.8\\lib\\site-packages\\backcall\\backcall.py\", line 104, in adapted\n",
      "    return callback(*args, **kwargs)\n",
      "  File \"C:\\Users\\cresis\\.conda\\envs\\TF_2.8\\lib\\site-packages\\wandb\\sdk\\wandb_init.py\", line 320, in _pause_backend\n",
      "    if self.notebook.save_ipynb():\n",
      "  File \"C:\\Users\\cresis\\.conda\\envs\\TF_2.8\\lib\\site-packages\\wandb\\jupyter.py\", line 374, in save_ipynb\n",
      "    logger.info(\"not saving jupyter notebook\")\n",
      "Message: 'not saving jupyter notebook'\n",
      "Arguments: ()\n"
     ]
    },
    {
     "name": "stdout",
     "output_type": "stream",
     "text": [
      "Error in callback <function _WandbInit._pause_backend at 0x000001EAB3B1A310> (for post_run_cell):\n"
     ]
    },
    {
     "ename": "Exception",
     "evalue": "The wandb backend process has shutdown",
     "output_type": "error",
     "traceback": [
      "\u001b[1;31m---------------------------------------------------------------------------\u001b[0m",
      "\u001b[1;31mException\u001b[0m                                 Traceback (most recent call last)",
      "File \u001b[1;32m~\\.conda\\envs\\TF_2.8\\lib\\site-packages\\backcall\\backcall.py:104\u001b[0m, in \u001b[0;36mcallback_prototype.<locals>.adapt.<locals>.adapted\u001b[1;34m(*args, **kwargs)\u001b[0m\n\u001b[0;32m    102\u001b[0m                 kwargs\u001b[38;5;241m.\u001b[39mpop(name)\n\u001b[0;32m    103\u001b[0m \u001b[38;5;66;03m#            print(args, kwargs, unmatched_pos, cut_positional, unmatched_kw)\u001b[39;00m\n\u001b[1;32m--> 104\u001b[0m             \u001b[38;5;28;01mreturn\u001b[39;00m callback(\u001b[38;5;241m*\u001b[39margs, \u001b[38;5;241m*\u001b[39m\u001b[38;5;241m*\u001b[39mkwargs)\n",
      "File \u001b[1;32m~\\.conda\\envs\\TF_2.8\\lib\\site-packages\\wandb\\sdk\\wandb_init.py:323\u001b[0m, in \u001b[0;36m_WandbInit._pause_backend\u001b[1;34m(self)\u001b[0m\n\u001b[0;32m    321\u001b[0m     res \u001b[38;5;241m=\u001b[39m \u001b[38;5;28mself\u001b[39m\u001b[38;5;241m.\u001b[39mrun\u001b[38;5;241m.\u001b[39mlog_code(root\u001b[38;5;241m=\u001b[39m\u001b[38;5;28;01mNone\u001b[39;00m)\n\u001b[0;32m    322\u001b[0m     logger\u001b[38;5;241m.\u001b[39minfo(\u001b[38;5;124m\"\u001b[39m\u001b[38;5;124msaved code: \u001b[39m\u001b[38;5;132;01m%s\u001b[39;00m\u001b[38;5;124m\"\u001b[39m, res)\n\u001b[1;32m--> 323\u001b[0m \u001b[38;5;28;43mself\u001b[39;49m\u001b[38;5;241;43m.\u001b[39;49m\u001b[43mbackend\u001b[49m\u001b[38;5;241;43m.\u001b[39;49m\u001b[43minterface\u001b[49m\u001b[38;5;241;43m.\u001b[39;49m\u001b[43mpublish_pause\u001b[49m\u001b[43m(\u001b[49m\u001b[43m)\u001b[49m\n",
      "File \u001b[1;32m~\\.conda\\envs\\TF_2.8\\lib\\site-packages\\wandb\\sdk\\interface\\interface.py:573\u001b[0m, in \u001b[0;36mInterfaceBase.publish_pause\u001b[1;34m(self)\u001b[0m\n\u001b[0;32m    571\u001b[0m \u001b[38;5;28;01mdef\u001b[39;00m \u001b[38;5;21mpublish_pause\u001b[39m(\u001b[38;5;28mself\u001b[39m) \u001b[38;5;241m-\u001b[39m\u001b[38;5;241m>\u001b[39m \u001b[38;5;28;01mNone\u001b[39;00m:\n\u001b[0;32m    572\u001b[0m     pause \u001b[38;5;241m=\u001b[39m pb\u001b[38;5;241m.\u001b[39mPauseRequest()\n\u001b[1;32m--> 573\u001b[0m     \u001b[38;5;28;43mself\u001b[39;49m\u001b[38;5;241;43m.\u001b[39;49m\u001b[43m_publish_pause\u001b[49m\u001b[43m(\u001b[49m\u001b[43mpause\u001b[49m\u001b[43m)\u001b[49m\n",
      "File \u001b[1;32m~\\.conda\\envs\\TF_2.8\\lib\\site-packages\\wandb\\sdk\\interface\\interface_shared.py:275\u001b[0m, in \u001b[0;36mInterfaceShared._publish_pause\u001b[1;34m(self, pause)\u001b[0m\n\u001b[0;32m    273\u001b[0m \u001b[38;5;28;01mdef\u001b[39;00m \u001b[38;5;21m_publish_pause\u001b[39m(\u001b[38;5;28mself\u001b[39m, pause: pb\u001b[38;5;241m.\u001b[39mPauseRequest) \u001b[38;5;241m-\u001b[39m\u001b[38;5;241m>\u001b[39m \u001b[38;5;28;01mNone\u001b[39;00m:\n\u001b[0;32m    274\u001b[0m     rec \u001b[38;5;241m=\u001b[39m \u001b[38;5;28mself\u001b[39m\u001b[38;5;241m.\u001b[39m_make_request(pause\u001b[38;5;241m=\u001b[39mpause)\n\u001b[1;32m--> 275\u001b[0m     \u001b[38;5;28;43mself\u001b[39;49m\u001b[38;5;241;43m.\u001b[39;49m\u001b[43m_publish\u001b[49m\u001b[43m(\u001b[49m\u001b[43mrec\u001b[49m\u001b[43m)\u001b[49m\n",
      "File \u001b[1;32m~\\.conda\\envs\\TF_2.8\\lib\\site-packages\\wandb\\sdk\\interface\\interface_queue.py:49\u001b[0m, in \u001b[0;36mInterfaceQueue._publish\u001b[1;34m(self, record, local)\u001b[0m\n\u001b[0;32m     47\u001b[0m \u001b[38;5;28;01mdef\u001b[39;00m \u001b[38;5;21m_publish\u001b[39m(\u001b[38;5;28mself\u001b[39m, record: \u001b[38;5;124m\"\u001b[39m\u001b[38;5;124mpb.Record\u001b[39m\u001b[38;5;124m\"\u001b[39m, local: \u001b[38;5;28mbool\u001b[39m \u001b[38;5;241m=\u001b[39m \u001b[38;5;28;01mNone\u001b[39;00m) \u001b[38;5;241m-\u001b[39m\u001b[38;5;241m>\u001b[39m \u001b[38;5;28;01mNone\u001b[39;00m:\n\u001b[0;32m     48\u001b[0m     \u001b[38;5;28;01mif\u001b[39;00m \u001b[38;5;28mself\u001b[39m\u001b[38;5;241m.\u001b[39m_process_check \u001b[38;5;129;01mand\u001b[39;00m \u001b[38;5;28mself\u001b[39m\u001b[38;5;241m.\u001b[39m_process \u001b[38;5;129;01mand\u001b[39;00m \u001b[38;5;129;01mnot\u001b[39;00m \u001b[38;5;28mself\u001b[39m\u001b[38;5;241m.\u001b[39m_process\u001b[38;5;241m.\u001b[39mis_alive():\n\u001b[1;32m---> 49\u001b[0m         \u001b[38;5;28;01mraise\u001b[39;00m \u001b[38;5;167;01mException\u001b[39;00m(\u001b[38;5;124m\"\u001b[39m\u001b[38;5;124mThe wandb backend process has shutdown\u001b[39m\u001b[38;5;124m\"\u001b[39m)\n\u001b[0;32m     50\u001b[0m     \u001b[38;5;28;01mif\u001b[39;00m local:\n\u001b[0;32m     51\u001b[0m         record\u001b[38;5;241m.\u001b[39mcontrol\u001b[38;5;241m.\u001b[39mlocal \u001b[38;5;241m=\u001b[39m local\n",
      "\u001b[1;31mException\u001b[0m: The wandb backend process has shutdown"
     ]
    }
   ],
   "source": [
    "# Custom ResNet + LSTM model\n",
    "\n",
    "input_shape = (x_train.shape[1:]) + (1,) #input_shape = (21,5,) #x_train.shape[2]\n",
    "\n",
    "def ResNetBlock(x,dropout):\n",
    "    x =   layers.Conv2D(filters=64, kernel_size=5, padding=\"same\")(x) #input_layer\n",
    "    conv1 = layers.Conv2D(filters=64, kernel_size=5, padding=\"same\")(x) # input_layer, Conv1D\n",
    "    conv1 = layers.Dropout(dropout)(conv1)\n",
    "    conv1 = layers.BatchNormalization()(conv1)\n",
    "    conv1 = layers.ReLU()(conv1)\n",
    "\n",
    "    conv2 = layers.Conv2D(filters=64, kernel_size=3, padding=\"same\")(conv1)\n",
    "    conv2 = layers.Dropout(dropout)(conv2)\n",
    "    conv2 = layers.BatchNormalization()(conv2)\n",
    "    conv2 = layers.ReLU()(conv2)\n",
    "\n",
    "    conv3 = layers.Conv2D(filters=64, kernel_size=3, padding=\"same\")(conv2)\n",
    "    conv3 = layers.Dropout(dropout)(conv3)\n",
    "    conv3 = layers.BatchNormalization()(conv3)\n",
    "    conv3 = layers.ReLU()(conv3)\n",
    "    \n",
    "    conv3 = layers.Conv2D(filters=64, kernel_size=3, padding=\"same\")(conv2)\n",
    "    conv3 = layers.Dropout(dropout)(conv3)\n",
    "    conv3 = layers.BatchNormalization()(conv3)\n",
    "    conv3 = layers.ReLU()(conv3)\n",
    "    \n",
    "    conv3 = layers.add([x,conv3])\n",
    "    x = layers.ReLU()(conv3) # Overwrite x\n",
    "    \n",
    "    return x\n",
    "\n",
    "# Checkpoint path\n",
    "base_path2 = r'Y:\\ibikunle\\Python_Project\\Fall_2021\\all_block_data\\PulsedTrainTest'\n",
    "\n",
    "def build_model(\n",
    "    input_shape,\n",
    "    head_size,  \n",
    "    mlp_units,\n",
    "    dropout,\n",
    "    mlp_dropout,\n",
    "):\n",
    "    inputs = tf.keras.Input(shape=input_shape) \n",
    "    \n",
    "    aug_inputs = data_augmentation(inputs)    \n",
    "    x = layers.Conv2D(filters=32, kernel_size=3, padding=\"same\")(aug_inputs)\n",
    "    for _ in range(5):\n",
    "        x = ResNetBlock(x,config['dropout'])        \n",
    "    x = tf.reduce_sum(x,axis=-1)\n",
    "    \n",
    "    x = layers.LSTM(head_size, return_sequences=True)(x) #input_shape=(x.shape[1:]),recurrent_dropout= r_dropout,\n",
    "    x = layers.LSTM(head_size, return_sequences=True)(x) #recurrent_dropout= r_dropout,\n",
    "    x = layers.LSTM(head_size, return_sequences=True)(x) #recurrent_dropout= r_dropout,\n",
    "    x = layers.LSTM(head_size)(x)\n",
    "\n",
    "       \n",
    "    #for dim in mlp_units:  x = layers.Dense(dim, activation=\"relu\")(x)\n",
    "    x = layers.Dense(mlp_units, activation=\"relu\")(x)\n",
    "    x = layers.Dropout(mlp_dropout)(x)\n",
    "    \n",
    "    output1 = layers.Dense(config['num_classes'], name=\"output1\" )(x) #activation=\"softmax\"\n",
    "    #output2 = layers.Dense(config['num_classes'], name=\"output2\" )(x)\n",
    "    \n",
    "    return tf.keras.Model(inputs=[inputs], outputs=[output1],name =\"RowBlockLSTM\"+time_stamp)\n",
    "\n",
    "#  Default hyper-param\n",
    "config['epochs'] = 300\n",
    "config['batch_size'] = 1024\n",
    "config['learning_rate'] = 5e-3 \n",
    "config['head_size'] = 600 #512 # 128, 256,64\n",
    "config['mlp_units']= 512  # 128\n",
    "config['mlp_dropout']= 0.2     #0.4\n",
    "config['dropout']= 0.15          #0.25\n",
    "config['r_dropout'] = 0.15\n",
    "config['start_time'] = datetime.strftime( datetime.now(),'%d_%B_%y_%H%M')\n",
    "\n",
    "# Update log['extras']\n",
    "log['extras'][0].update(config)\n",
    "\n",
    "\n",
    "# Poly Rate scheduler\n",
    "starter_learning_rate = 0.1\n",
    "end_learning_rate = 0.0001\n",
    "decay_steps = 10000\n",
    "learning_rate_fn = tf.keras.optimizers.schedules.PolynomialDecay(\n",
    "    starter_learning_rate,\n",
    "    decay_steps,\n",
    "    end_learning_rate,\n",
    "    power=0.25)\n",
    "\n",
    "\n",
    "# Callbacks\n",
    "model_save_path = os.path.join(os.path.dirname(os.getcwd()), r'all_block_data\\PulsedTrainTest')\n",
    "logz= f\"{model_save_path}/{ipynbname.name()}/{config['start_time']}_logs/\" \n",
    "callbacks = [\n",
    "    ModelCheckpoint(f\"{model_save_path}/{ipynbname.name()}/RowBlockLSTM_ReRun_Checkpoint{time_stamp}.h5\", save_best_only=True, monitor=\"val_loss\"),\n",
    "    ReduceLROnPlateau(monitor=\"val_loss\", factor=0.1, patience=20, min_lr=0.0001),\n",
    "    EarlyStopping(monitor=\"val_loss\", patience=50, verbose=1), \n",
    "    TensorBoard(log_dir = logz,histogram_freq = 1,profile_batch = '1,70', embeddings_freq=50),\n",
    "    WandbCallback()\n",
    "]\n",
    "\n",
    "top_K = 3\n",
    "# opt1 = tf.keras.optimizers.RMSprop(learning_rate=1e-3,rho=0.9,momentum=0.9, epsilon=1e-07,centered=True,name=\"RMSprop\")\n",
    "# opt2 = tf.keras.optimizers.Adam(learning_rate=learning_rate,amsgrad=True)\n",
    "# opt3 = tf.keras.optimizers.SGD(learning_rate=learning_rate, momentum=0.99, nesterov=True, name=\"SGD\")\n",
    "# poly_rate = tf.keras.optimizers.SGD(learning_rate = learning_rate_fn)\n",
    "\n",
    "# Create Model for Multi-GPU\n",
    "\n",
    "strategy = tf.distribute.MirroredStrategy( cross_device_ops=tf.distribute.HierarchicalCopyAllReduce() )\n",
    "print('Number of devices: {}'.format(strategy.num_replicas_in_sync))\n",
    "with strategy.scope():\n",
    "    model = build_model(input_shape,head_size = config['head_size'],mlp_units=config['mlp_units'],\n",
    "                    mlp_dropout= config['mlp_dropout'], dropout=config['dropout'])\n",
    "\n",
    "    config['start_time'] = datetime.strftime( datetime.now(),'%d_%B_%y_%H%M') # Again just before train start\n",
    "\n",
    "    print(f\"Training start time:{config['start_time']}\" )\n",
    "\n",
    "    # model.compile( optimizer = opt, loss= 'categorical_crossentropy',{\"output1\":loss,\"output2\":loss}, metrics=['accuracy',tf.keras.metrics.TopKCategoricalAccuracy(top_K, name=\"top-3-accuracy\")])  #label_smoothing=0.05, tf.keras.losses.KLDivergence()\n",
    "    \n",
    "    model.compile( optimizer=\"adam\",loss=\"sparse_categorical_crossentropy\", \n",
    "                  metrics=[\"accuracy\",tf.keras.metrics.SparseTopKCategoricalAccuracy(top_K, name=\"top-3-accuracy\")] ) # tf.keras.metrics.SparseTopKCategoricalAccuracy(top_K, name=\"top-3-accuracy\")     \"sparse_categorical_crossentropy\" , sparse_categorical_accuracy\", tf.keras.losses.CategoricalCrossentropy(label_smoothing=0.3)\n",
    "\n",
    "y_train2 = (y_train,y_train)\n",
    "y_test2 = (y_test,y_test)\n",
    "\n",
    "history = model.fit(train_ds,\n",
    "          epochs= config['epochs'], \n",
    "          batch_size= config['batch_size'], \n",
    "          #validation_split = 0.3,\n",
    "          validation_data=val_ds,\n",
    "         callbacks=callbacks  ) #mcp_save, callbacks=[reduce_lr_loss] class_weight = cl_weight_dict\n",
    "\n",
    "#Load best model\n",
    "model = tf.keras.models.load_model(f\"{base_path2}//{ipynbname.name()}//RowBlockLSTM_ReRun_Checkpoint{time_stamp}.h5\")\n",
    "\n",
    "config['end_time'] = datetime.strftime( datetime.now(),'%d_%B_%y_%H%M') \n",
    "print(f\"Training end_time:{config['end_time']}\" )\n",
    "\n",
    "# Update manual log file\n",
    "params_to_be_updated = update_log_entry('../testing_sheet2.xlsx', log_idx, model, history)"
   ]
  },
  {
   "cell_type": "code",
   "execution_count": null,
   "id": "b9abf08d-045d-4828-a90f-552c0244d690",
   "metadata": {},
   "outputs": [],
   "source": [
    "logz = logz.replace(os.sep,'/')\n",
    "\n",
    "%load_ext tensorboard\n",
    "#%reload_ext tensorboard\n",
    "%tensorboard --logdir={logz} --port=6022"
   ]
  },
  {
   "cell_type": "code",
   "execution_count": null,
   "id": "e01cf82b-9581-4ecb-a9ec-65d638355bc4",
   "metadata": {},
   "outputs": [],
   "source": [
    "log['Uniqueness_of_each_run'] = 'Using Old data from its source'\n",
    "run_completion_comment = f'First time training LSTM Test data on FilteredFiltered Old data: 66%'\n",
    "if \"log_idx\" in globals():\n",
    "    log[\"S_N\"] = log_idx\n",
    "    log['extras'][0]['run_completion_comment'] = run_completion_comment #'Accuracy_per_epoch'\n",
    "    log['Accuracy_per_epoch'] = f\"{history.history['accuracy'][-1]:.4f}\"\n",
    "    log_idx = create_log_entry('../testing_sheet2.xlsx', log)"
   ]
  },
  {
   "cell_type": "code",
   "execution_count": null,
   "id": "2c0032aa-c553-4240-beff-72f0f2df3e51",
   "metadata": {},
   "outputs": [],
   "source": [
    "# Train further\n",
    "train_further = False\n",
    "\n",
    "if train_further:\n",
    "    history = model.fit(x_train, y_train_1hot,\n",
    "          epochs= 200,          \n",
    "          validation_split= 0.3,\n",
    "         callbacks=callbacks) #mcp_save, callbacks=[reduce_lr_loss]"
   ]
  },
  {
   "cell_type": "code",
   "execution_count": null,
   "id": "900b0f69-6c63-49e6-8421-b7e5362b5c45",
   "metadata": {},
   "outputs": [],
   "source": [
    "def PlotCurves(model_history):\n",
    "    plt.plot(model_history.history['accuracy'],label = 'train')\n",
    "    plt.grid(color = 'r', linestyle = '--', linewidth = .1)    \n",
    "    #plt.figure()\n",
    "    plt.plot(model_history.history['val_accuracy'],label = 'validation')\n",
    "   \n",
    "    plt.ylabel('Accuracy');\n",
    "    plt.xlabel('Epochs');\n",
    "    \n",
    "    plt.title('Training vs Validation accuracy');\n",
    "    plt.legend()\n",
    "    \n",
    "    plt.figure()\n",
    "    \n",
    "    plt.plot(model_history.history['loss'],label = 'train')\n",
    "    plt.grid(color = 'r', linestyle = '--', linewidth = .1)    \n",
    "    plt.plot(model_history.history['val_loss'],label = 'validation')\n",
    "   \n",
    "    plt.ylabel('Loss');\n",
    "    plt.xlabel('Epochs');\n",
    "    \n",
    "    plt.title('Training vs Validation Losses');\n",
    "    plt.legend()\n",
    "    return None\n",
    "\n",
    "PlotCurves(history)"
   ]
  },
  {
   "cell_type": "code",
   "execution_count": null,
   "id": "43003c33-f2e8-4981-a601-84b1765ab943",
   "metadata": {},
   "outputs": [],
   "source": [
    "# Convert labels to categorical orthonormal vectors\n",
    "y_val_1hot = tf.keras.utils.to_categorical(y_val, num_classes)\n",
    "\n",
    "_, accuracy,top3_acc = model.evaluate(x_val, y_val_1hot)\n",
    "print(f\"Test accuracy: {round(accuracy * 100, 2)}%\")\n",
    "print(f\"Test top 5 accuracy: {round(top3_acc * 100, 2)}%\")\n",
    "print(f\"Test_time: {datetime.strftime(datetime.now(),'%d_%B_%y_%H%M')}\")\n",
    "\n",
    "_,new_col_length,new_row_length = x_train.shape \n",
    "model.save(f'..//all_block_data//PulsedTrainTest//{ipynbname.name()}//{time_stamp}_Acc_{accuracy:.3f}_Top3Acc{top3_acc:.3f}_{new_row_length}x{new_col_length}.h5') # Last percentage is 46.85, New:52.4"
   ]
  },
  {
   "cell_type": "code",
   "execution_count": null,
   "id": "fad7ebad-5076-4f60-9dd7-ad525ee1a081",
   "metadata": {},
   "outputs": [],
   "source": [
    "# Convert labels to categorical orthonormal vectors\n",
    "y_test_1hot = tf.keras.utils.to_categorical(y_test, num_classes)\n",
    "\n",
    "_, accuracy,top3_acc = model.evaluate(x_test, y_test_1hot)\n",
    "print(f\"Test accuracy: {round(accuracy * 100, 2)}%\")\n",
    "print(f\"Test top 5 accuracy: {round(top3_acc * 100, 2)}%\")\n",
    "print(f\"Test_time: {datetime.strftime(datetime.now(),'%d_%B_%y_%H%M')}\")\n",
    "\n",
    "_,new_col_length,new_row_length = x_train.shape \n"
   ]
  },
  {
   "cell_type": "code",
   "execution_count": null,
   "id": "ffa88fa0-11fd-4b5e-b0f5-1ada78f2208f",
   "metadata": {},
   "outputs": [],
   "source": [
    "# Look at the distribution ot test and validation data\n",
    "\n",
    "# Show distribution of targets in training and validation set\n",
    "\n",
    "labels, counts = np.unique(y_train, return_counts=True)\n",
    "_ = plt.bar(labels, counts, align='center')\n",
    "_ = plt.gca().set_xticks(labels)\n",
    "_ = plt.title('Distribution of targets in Training set')\n",
    "_ = plt.show()\n",
    "\n",
    "labels, counts = np.unique(y_test, return_counts=True)\n",
    "_ = plt.bar(labels, counts, align='center')\n",
    "_ = plt.gca().set_xticks(labels)\n",
    "_ = plt.title('Distribution of targets in Test set')\n",
    "_ = plt.show()\n",
    "\n",
    "\n",
    "labels, counts = np.unique(y_val, return_counts=True)\n",
    "_ = plt.bar(labels, counts, align='center')\n",
    "_ = plt.gca().set_xticks(labels)\n",
    "_ = plt.title('Distribution of targets in Validation set')\n",
    "_ = plt.show()"
   ]
  },
  {
   "cell_type": "code",
   "execution_count": null,
   "id": "98f4069d-fd76-4c0e-bbc3-e38517b14681",
   "metadata": {},
   "outputs": [
    {
     "name": "stderr",
     "output_type": "stream",
     "text": [
      "--- Logging error ---\n",
      "Traceback (most recent call last):\n",
      "  File \"C:\\Users\\cresis\\.conda\\envs\\TF_2.8\\lib\\logging\\__init__.py\", line 1087, in emit\n",
      "    self.flush()\n",
      "  File \"C:\\Users\\cresis\\.conda\\envs\\TF_2.8\\lib\\logging\\__init__.py\", line 1067, in flush\n",
      "    self.stream.flush()\n",
      "OSError: [Errno 22] Invalid argument\n",
      "Call stack:\n",
      "  File \"C:\\Users\\cresis\\.conda\\envs\\TF_2.8\\lib\\site-packages\\wandb\\sdk\\wandb_run.py\", line 1740, in <lambda>\n",
      "    atexit.register(lambda: self._atexit_cleanup())\n",
      "  File \"C:\\Users\\cresis\\.conda\\envs\\TF_2.8\\lib\\site-packages\\wandb\\sdk\\wandb_run.py\", line 1702, in _atexit_cleanup\n",
      "    logger.info(f\"got exitcode: {exit_code}\")\n",
      "Message: 'got exitcode: 0'\n",
      "Arguments: ()\n",
      "--- Logging error ---\n",
      "Traceback (most recent call last):\n",
      "  File \"C:\\Users\\cresis\\.conda\\envs\\TF_2.8\\lib\\site-packages\\wandb\\sdk\\wandb_run.py\", line 1711, in _atexit_cleanup\n",
      "    self._on_finish()\n",
      "  File \"C:\\Users\\cresis\\.conda\\envs\\TF_2.8\\lib\\site-packages\\wandb\\sdk\\wandb_run.py\", line 1801, in _on_finish\n",
      "    self._telemetry_imports(tel.imports_finish)\n",
      "  File \"C:\\Users\\cresis\\.conda\\envs\\TF_2.8\\lib\\site-packages\\wandb\\sdk\\lib\\telemetry.py\", line 43, in __exit__\n",
      "    self._run._telemetry_callback(self._obj)\n",
      "  File \"C:\\Users\\cresis\\.conda\\envs\\TF_2.8\\lib\\site-packages\\wandb\\sdk\\wandb_run.py\", line 470, in _telemetry_callback\n",
      "    self._telemetry_flush()\n",
      "  File \"C:\\Users\\cresis\\.conda\\envs\\TF_2.8\\lib\\site-packages\\wandb\\sdk\\wandb_run.py\", line 481, in _telemetry_flush\n",
      "    self._backend.interface._publish_telemetry(self._telemetry_obj)\n",
      "  File \"C:\\Users\\cresis\\.conda\\envs\\TF_2.8\\lib\\site-packages\\wandb\\sdk\\interface\\interface_shared.py\", line 73, in _publish_telemetry\n",
      "    self._publish(rec)\n",
      "  File \"C:\\Users\\cresis\\.conda\\envs\\TF_2.8\\lib\\site-packages\\wandb\\sdk\\interface\\interface_queue.py\", line 49, in _publish\n",
      "    raise Exception(\"The wandb backend process has shutdown\")\n",
      "Exception: The wandb backend process has shutdown\n",
      "\n",
      "During handling of the above exception, another exception occurred:\n",
      "\n",
      "Traceback (most recent call last):\n",
      "  File \"C:\\Users\\cresis\\.conda\\envs\\TF_2.8\\lib\\logging\\__init__.py\", line 1087, in emit\n",
      "    self.flush()\n",
      "  File \"C:\\Users\\cresis\\.conda\\envs\\TF_2.8\\lib\\logging\\__init__.py\", line 1067, in flush\n",
      "    self.stream.flush()\n",
      "OSError: [Errno 22] Invalid argument\n",
      "Call stack:\n",
      "  File \"C:\\Users\\cresis\\.conda\\envs\\TF_2.8\\lib\\site-packages\\wandb\\sdk\\wandb_run.py\", line 1740, in <lambda>\n",
      "    atexit.register(lambda: self._atexit_cleanup())\n",
      "  File \"C:\\Users\\cresis\\.conda\\envs\\TF_2.8\\lib\\site-packages\\wandb\\sdk\\wandb_run.py\", line 1721, in _atexit_cleanup\n",
      "    self._console_stop()\n",
      "  File \"C:\\Users\\cresis\\.conda\\envs\\TF_2.8\\lib\\site-packages\\wandb\\sdk\\wandb_run.py\", line 1751, in _console_stop\n",
      "    self._restore()\n",
      "  File \"C:\\Users\\cresis\\.conda\\envs\\TF_2.8\\lib\\site-packages\\wandb\\sdk\\wandb_run.py\", line 1674, in _restore\n",
      "    logger.info(\"restore\")\n",
      "Message: 'restore'\n",
      "Arguments: ()\n",
      "Error in atexit._run_exitfuncs:\n",
      "Traceback (most recent call last):\n",
      "  File \"C:\\Users\\cresis\\.conda\\envs\\TF_2.8\\lib\\site-packages\\wandb\\sdk\\wandb_run.py\", line 1711, in _atexit_cleanup\n",
      "    self._on_finish()\n",
      "  File \"C:\\Users\\cresis\\.conda\\envs\\TF_2.8\\lib\\site-packages\\wandb\\sdk\\wandb_run.py\", line 1801, in _on_finish\n",
      "    self._telemetry_imports(tel.imports_finish)\n",
      "  File \"C:\\Users\\cresis\\.conda\\envs\\TF_2.8\\lib\\site-packages\\wandb\\sdk\\lib\\telemetry.py\", line 43, in __exit__\n",
      "    self._run._telemetry_callback(self._obj)\n",
      "  File \"C:\\Users\\cresis\\.conda\\envs\\TF_2.8\\lib\\site-packages\\wandb\\sdk\\wandb_run.py\", line 470, in _telemetry_callback\n",
      "    self._telemetry_flush()\n",
      "  File \"C:\\Users\\cresis\\.conda\\envs\\TF_2.8\\lib\\site-packages\\wandb\\sdk\\wandb_run.py\", line 481, in _telemetry_flush\n",
      "    self._backend.interface._publish_telemetry(self._telemetry_obj)\n",
      "  File \"C:\\Users\\cresis\\.conda\\envs\\TF_2.8\\lib\\site-packages\\wandb\\sdk\\interface\\interface_shared.py\", line 73, in _publish_telemetry\n",
      "    self._publish(rec)\n",
      "  File \"C:\\Users\\cresis\\.conda\\envs\\TF_2.8\\lib\\site-packages\\wandb\\sdk\\interface\\interface_queue.py\", line 49, in _publish\n",
      "    raise Exception(\"The wandb backend process has shutdown\")\n",
      "Exception: The wandb backend process has shutdown\n",
      "\n",
      "During handling of the above exception, another exception occurred:\n",
      "\n",
      "Traceback (most recent call last):\n",
      "  File \"C:\\Users\\cresis\\.conda\\envs\\TF_2.8\\lib\\site-packages\\wandb\\sdk\\wandb_run.py\", line 1721, in _atexit_cleanup\n",
      "    self._console_stop()\n",
      "  File \"C:\\Users\\cresis\\.conda\\envs\\TF_2.8\\lib\\site-packages\\wandb\\sdk\\wandb_run.py\", line 1753, in _console_stop\n",
      "    self._output_writer.close()\n",
      "  File \"C:\\Users\\cresis\\.conda\\envs\\TF_2.8\\lib\\site-packages\\wandb\\sdk\\lib\\filesystem.py\", line 70, in close\n",
      "    super(CRDedupedFile, self).write(self._buff)\n",
      "  File \"C:\\Users\\cresis\\.conda\\envs\\TF_2.8\\lib\\site-packages\\wandb\\sdk\\lib\\filesystem.py\", line 33, in write\n",
      "    self.f.flush()\n",
      "OSError: [Errno 22] Invalid argument\n"
     ]
    }
   ],
   "source": [
    "# Dictionary for saving the result of testing all trained model to disk\n",
    "exp_file_loc = r'../experiment_performance.xlsx'\n",
    "\n",
    "df = pd.read_excel(exp_file_loc,header = 0, index_col= [0])"
   ]
  },
  {
   "cell_type": "code",
   "execution_count": null,
   "id": "b151e485-8e50-4826-beb5-13794ffe4140",
   "metadata": {},
   "outputs": [],
   "source": [
    "# Test different models in the past\n",
    "#l_model_path = r\"Y:\\\\ibikunle\\\\Python_Project\\\\Fall_2021\\\\all_block_data\\\\FindPeaks_data\\Dec_Train_block_len_21_030122_0614\\\\NewAttention_RowBlockLSTM1\\\\10_January_22_1959_Acc_0.743_Top3Acc0.898_21x9.h5\"\n",
    "# This (commented above) was less than 20% for both test and validation\n",
    "base = r'Y:\\\\ibikunle\\\\Python_Project\\\\Fall_2021'\n",
    "paths = [ #r\"\\all_block_data\\PulsedTrainTest\\LSTM1_Repeat_NewData-Class_weights\\14_February_22_1859_Acc_0.644_Top3Acc0.851_21x9.h5\",\n",
    "    #r\"\\all_block_data\\PulsedTrainTest\\LSTM1_Repeat_NewData-Class_weights\\01_February_22_0912_Acc_0.651_Top3Acc0.838_21x9.h5\",\n",
    "    #r\"\\all_block_data\\PulsedTrainTest\\LSTM1_Repeat_Augment_Reduce\\10_February_22_1201_Acc_0.638_Top3Acc0.830_21x9.h5\",\n",
    "    #r\"\\all_block_data\\PulsedTrainTest\\LSTM1_Repeat_Augment_Reduce\\03_February_22_1826_Acc_0.628_Top3Acc0.846_21x9.h5\",\n",
    "    #r\"\\all_block_data\\PulsedTrainTest\\NewAttention_RowBlock_Feb2022\\best_model.h5\",\n",
    "    #r\"\\all_block_data\\Filteredfiltered_data\\LSTM1_RepeatExactly\\27_January_22_2325_RowBlockLSTM_checkpoint.h5\",\n",
    "    #r\"\\all_block_data\\FindPeaks_data\\Dec_Train_block_len_21_030122_0614\\NewAttention_RowBlockLSTM1\\10_January_22_1959_Acc_0.743_Top3Acc0.898_21x9.h5\",\n",
    "    #r\"\\Model_and_weights\\LSTM1_Repeat_NewData\\28_January_22_1949_Acc_0.665_Top3Acc0.833_21x9.h5\",\n",
    "    #r\"\\Model_and_weights\\LSTM1_Repeat_NewData-Class_weights\\RowBlockLSTM_ReRun_Checkpoint01_February_22_0912.h5\",\n",
    "    #r\"\\Model_and_weights\\LSTM1_Repeat_NewData-Class_weights\\RowBlockLSTM_ReRun_Checkpoint14_February_22_1859.h5\",\n",
    "    #r\"\\Model_and_weights\\NewAttention_RowBlockLSTM2_TrainData\\CheckpointRowBlockLSTM_dropout.h5\",\n",
    "    #r\"\\Model_and_weights\\NewAttention_RowBlockLSTM3_PulsedFindPeaks\\RowBlockLSTM_checkpoint_26_January_22_1620.h5\",\n",
    "    #r\"\\Model_and_weights\\NewAttention_RowBlockLSTM3_PulsedFindPeaks\\RowBlockLSTM_checkpoint_25_January_22_0934.h5\" \n",
    "    #r\"\\all_block_data\\\\NewAttention_RowBlockLSTM1\\\\11_January_22_16512_Acc_0.781_Top3Acc0.939_21x9.h5\",\n",
    "    #r\"\\all_block_data\\PulsedTrainTest\\LSTM1_Repeat_NewData-Class_weights\\14_February_22_1859_Acc_0.696_Top3Acc0.887_21x9.h5\",\n",
    "    #r\"\\all_block_data\\\\PulsedTrainTest\\LSTM1_Repeat_NewData-Class_weights-Augment\\02_February_22_1529_Acc_0.630_Top3Acc0.842_21x9.h5\",\n",
    "    #r\"\\all_block_data\\\\PulsedTrainTest\\LSTM1_Repeat_NewData-Class_weights-Augment\\02_February_22_1529_Test_Acc_0.673_Top3Acc0.885_21x9.h5\",\n",
    "    #r\"\\all_block_data\\PulsedTrainTest\\LSTM1_Repeat_NewData-Class_weights-Augment\\RowBlockLSTM_ReRun_Checkpoint02_February_22_1529.h5\",\n",
    "    r\"\\all_block_data\\PulsedTrainTest\\LSTM1_Repeat_Augment_Reduce\\25_February_22_0934_Acc_0.815_Top3Acc0.898_21x9.h5\"\n",
    "]\n",
    "    \n",
    "    \n",
    "for path_idx in range(len(paths)):\n",
    "    \n",
    "    perf_dict = {}\n",
    "\n",
    "    l_model_path = base + paths[path_idx]\n",
    "    l_model = tf.keras.models.load_model(l_model_path)\n",
    "\n",
    "    perf_dict['path'] = l_model_path\n",
    "    perf_dict['short_path'] = os.path.basename(l_model_path)\n",
    "\n",
    "    y_val_1hot = tf.keras.utils.to_categorical(y_val, num_classes)\n",
    "    _, accuracy,top3_acc = l_model.evaluate(x_val, y_val_1hot)\n",
    "\n",
    "    print(f\" Model {os.path.basename(l_model_path)} performance \")\n",
    "    print(f\"Val accuracy: {round(accuracy * 100, 2)}%\")\n",
    "    print(f\"Val top 5 accuracy: {round(top3_acc * 100, 2)}%\")\n",
    "    print(f\"Test_time: {datetime.strftime(datetime.now(),'%d_%B_%y_%H%M')}\")\n",
    "\n",
    "    perf_dict['val_accuracy'] = round(accuracy * 100, 2)\n",
    "    perf_dict['val_top_K'] = round(top3_acc * 100, 2) \n",
    "\n",
    "    y_test_1hot = tf.keras.utils.to_categorical(y_test, num_classes)\n",
    "\n",
    "    _, accuracy,top3_acc = l_model.evaluate(x_test, y_test_1hot)\n",
    "    print(f\"Test accuracy: {round(accuracy * 100, 2)}%\")\n",
    "    print(f\"Test top 5 accuracy: {round(top3_acc * 100, 2)}%\")\n",
    "    print(f\"Test_time: {datetime.strftime(datetime.now(),'%d_%B_%y_%H%M')}\")\n",
    "\n",
    "    perf_dict['test_accuracy'] = round(accuracy * 100, 2)\n",
    "    perf_dict['test_top_K'] = round(top3_acc * 100, 2) \n",
    "\n",
    "    df = df.append(perf_dict, ignore_index=True)\n",
    "    df.to_excel(exp_file_loc,index=False)\n"
   ]
  },
  {
   "cell_type": "code",
   "execution_count": null,
   "id": "5dbda035-6b46-4b65-9359-1c1f7e2611cd",
   "metadata": {},
   "outputs": [],
   "source": [
    "# Test model manually on all val data\n",
    "\n",
    "y_pred = [ np.argmax(l_model.predict(np.expand_dims(x_val[idx],axis=0))) for idx in range(len(x_val)) ]\n",
    "\n",
    "combined_result = zip(y_val,y_pred)\n",
    "\n",
    "val_exact_accuracy = 100 * sum([1 if y_pred[idx]==y_val[idx]   else 0 for idx in range(len(y_pred)) ]) / len(y_pred)\n",
    "val_margin3_accuracy = 100 * sum([1 if abs(y_pred[idx]-y_val[idx]) < 3 else 0 for idx in range(len(y_pred)) ]) / len(y_pred)\n",
    "\n",
    "print(f' Exact accuracy is {val_exact_accuracy: .5f} %')\n",
    "print(f' Top 5% accuracy is {val_margin3_accuracy: .5f} %')\n",
    "\n"
   ]
  },
  {
   "cell_type": "code",
   "execution_count": null,
   "id": "f501e446-69db-49bc-ab0a-e11030d0dec6",
   "metadata": {},
   "outputs": [],
   "source": [
    "# Check some predictions\n",
    "\n",
    "import random\n",
    "check_start = random.randint(0,len(x_val))\n",
    "\n",
    "print(f'Check start {check_start}')\n",
    "[(int(y_val[idx]), np.argmax(model.predict(np.expand_dims(x_val[idx],axis=0))) ) for idx in range(check_start,check_start+20) ]\n",
    "\n"
   ]
  },
  {
   "cell_type": "code",
   "execution_count": null,
   "id": "5906633e-2153-47af-acdc-121a3625b199",
   "metadata": {},
   "outputs": [],
   "source": [
    "# Confusion Matrix and ROC/AUC\n",
    "\n",
    "model_predictions = np.asarray(y_pred)\n",
    "ground_truth = y_val.squeeze()\n",
    "\n",
    "# Prediction per Ground-truth class\n",
    "class_predictions = [ model_predictions[ground_truth==idx]  for idx in range(num_classes) ]\n",
    "\n",
    "# Confusion matrix\n",
    "confusion_mtx = np.zeros((num_classes,num_classes) )\n",
    "\n",
    "for pred,actual in zip(y_pred,y_val): # Rows=Prediction, Columns = Actual\n",
    "    confusion_mtx[pred,actual] +=1"
   ]
  },
  {
   "cell_type": "code",
   "execution_count": null,
   "id": "475f7b9d-5af5-4242-aec0-e0f87ac6b665",
   "metadata": {},
   "outputs": [],
   "source": [
    "from mpl_toolkits.axes_grid1 import make_axes_locatable\n",
    "\n",
    "fig, ax = plt.subplots(figsize=(7,15),dpi = 100);\n",
    "shw=ax.imshow(confusion_mtx)\n",
    "#bar= plt.colorbar(shw)\n",
    "\n",
    "_=plt.ylabel('Predictions')\n",
    "_=plt.xlabel('Actual Class')\n",
    "_=plt.title('Confusion matrix')\n",
    "\n",
    "# ax.set_xticklabels(list(range(num_classes)))\n",
    "# ax.set_yticklabels(list(range(num_classes)))\n",
    "\n",
    "# create an axes on the right side of ax. The width of cax will be 5%\n",
    "# of ax and the padding between cax and ax will be fixed at 0.05 inch.\n",
    "divider = make_axes_locatable(ax)\n",
    "cax = divider.append_axes(\"right\", size=\"5%\", pad=0.05)\n",
    "#bar.set_label('ColorBar')\n",
    "_ = plt.colorbar(shw, cax=cax)"
   ]
  },
  {
   "cell_type": "code",
   "execution_count": null,
   "id": "970ef2b9-5f5f-401c-b024-4184eea46609",
   "metadata": {
    "tags": []
   },
   "outputs": [],
   "source": [
    "# Histogram of each class prediction\n",
    "for idx,each_class in enumerate(class_predictions):\n",
    "    _ = plt.figure()\n",
    "    _ = plt.title('Class %s'%idx)\n",
    "    labels, counts = np.unique(each_class, return_counts=True)\n",
    "    _ = plt.bar(labels, counts, align='center')\n",
    "    _ = plt.gca().set_xticks(labels)\n",
    "    _ = plt.show()"
   ]
  },
  {
   "cell_type": "raw",
   "id": "e7751edb-a56d-46d6-b50a-f366f4eb0b66",
   "metadata": {},
   "source": [
    "from sklearn.metrics import classification_report\n",
    "\n",
    "print( classification_report( y_val,y_pred, labels=list(range(num_classes)), zero_division=1 ))"
   ]
  },
  {
   "cell_type": "code",
   "execution_count": null,
   "id": "e952d2c6-abb1-4975-a03b-34c97c8f8669",
   "metadata": {},
   "outputs": [],
   "source": []
  },
  {
   "cell_type": "code",
   "execution_count": null,
   "id": "d5681e1f-3e23-41c0-9a56-cd020518cbc4",
   "metadata": {},
   "outputs": [],
   "source": [
    "# Check some predictions\n",
    "\n",
    "import random\n",
    "check_start = random.randint(0,len(x_val))\n",
    "\n",
    "print(f'Check start {check_start}')\n",
    "[(int(y_val[idx]), np.argmax(model.predict(np.expand_dims(x_val[idx],axis=0))) ) for idx in range(check_start,check_start+20) ]\n",
    "\n"
   ]
  },
  {
   "cell_type": "code",
   "execution_count": null,
   "id": "b129b784-5906-48b6-aa6c-a6c3cecfc63a",
   "metadata": {},
   "outputs": [],
   "source": [
    "# Train further still( 30th Nov.,2021 X_train is returned back to default [i.e No shuffle] )\n",
    "from keras import backend as K\n",
    "K.set_value(model.optimizer.learning_rate, 0.001)\n",
    "batch_size = 64\n",
    "history2 = model.fit(x_train, y_train_1hot,\n",
    "          epochs= 2, \n",
    "          batch_size= batch_size, \n",
    "          validation_data=(x_test, y_test_1hot),callbacks=callbacks) #mcp_save, callbacks=[reduce_lr_loss]callbacks=callbacks"
   ]
  },
  {
   "cell_type": "code",
   "execution_count": null,
   "id": "c8d4305b-d2f7-4bb6-97c0-601e43f3624c",
   "metadata": {
    "tags": []
   },
   "outputs": [],
   "source": [
    "# Train further (last training 12/8/2021 was for 30 epochs - 150 epochs(w/o reshape order) previously overfitted\n",
    "# Also, the train set was not reshuffled, but train further uses shuffled train data (Stopped the train further after 30 epocks- acc 14% poor. Retraining from scratch )\n",
    "\n",
    "# New - train further: Got almost 100% acc but val acc was ~88%. Trying to push that higher\n",
    "\n",
    "start_time = datetime.strftime( datetime.now(),'%d_%B_%y_%H%M')\n",
    "\n",
    "print(f'Restart Training start time:{start_time}')\n",
    "#batch_size = 64\n",
    "history2 = l_model.fit(x_train, y_train_1hot,\n",
    "          epochs= 150, \n",
    "          batch_size= 128, \n",
    "          validation_data=(x_test, y_test_1hot),callbacks=callbacks) #mcp_save, callbacks=[reduce_lr_loss]callbacks=callbacks"
   ]
  },
  {
   "cell_type": "code",
   "execution_count": null,
   "id": "dd8c2f81-8a6b-495f-b06f-ba26ec5104e8",
   "metadata": {},
   "outputs": [],
   "source": [
    "PlotCurves(history2)"
   ]
  },
  {
   "cell_type": "code",
   "execution_count": null,
   "id": "f9c88ad0-166a-44d3-8fef-41d5891a3035",
   "metadata": {},
   "outputs": [],
   "source": [
    "_, accuracy,top_3_accuracy = model.evaluate(x_val, y_val_1hot)\n",
    "print(f\"Test accuracy: {round(accuracy * 100, 2)}%\")\n",
    "print(f\"Test top 5 accuracy: {round(top_3_accuracy * 100, 2)}%\")\n",
    "\n",
    "_,new_col_length,new_row_length = x_train.shape \n",
    "model.save(f'{base_path}//{ipynbname.name()}//{time_stamp}_Acc_{accuracy:.3f}_top3{top_3_accuracy:.3f}_{new_row_length}x{new_col_length}.h5')"
   ]
  },
  {
   "cell_type": "code",
   "execution_count": null,
   "id": "29c39bc8-6d98-4441-a8fe-55655e2d5cca",
   "metadata": {},
   "outputs": [],
   "source": [
    "# Try prediction on difficult data\n",
    "\n",
    "if truncate_data:    \n",
    "\n",
    "    x_difficult = raw_data1['echo_cnn_input'][stop_idx+1:]\n",
    "    y_difficult = raw_data1['echo_cnn_target'][stop_idx+1:]\n",
    "\n",
    "    x_difficult = np.reshape( x_difficult, (x_difficult.shape[0],max_class,-1) )\n",
    "    x_difficult = x_difficult[:,:,mid_pt-neigh:mid_pt+neigh+1]\n",
    "    # x_train = np.reshape(x_train,(x_train.shape[0],-1))\n",
    "    x_difficult = np.transpose(x_difficult,(0,2,1))\n",
    "\n",
    "    # y_difficult[y_difficult == num_classes] = 0\n",
    "    # y_difficult = tf.keras.utils.to_categorical(y_difficult, num_classes)\n"
   ]
  },
  {
   "cell_type": "code",
   "execution_count": null,
   "id": "5e0f8927-8286-448f-8e7e-adfb8032ea23",
   "metadata": {},
   "outputs": [],
   "source": [
    "(x_difficult.shape,y_difficult.shape)"
   ]
  },
  {
   "cell_type": "code",
   "execution_count": null,
   "id": "969ad3b9-53d5-417a-ab84-55a84b5f75f2",
   "metadata": {},
   "outputs": [],
   "source": [
    "# Check some predictions\n",
    "\n",
    "difficult_start = random.randint(0,len(x_val)) #3500 #\n",
    "\n",
    "print(f'Check start {difficult_start}')\n",
    "[(int(y_difficult[idx]), np.argmax(model.predict(np.expand_dims(x_difficult[idx],axis=0))) ) for idx in range(difficult_start,difficult_start+50) ]\n",
    "\n"
   ]
  },
  {
   "cell_type": "code",
   "execution_count": null,
   "id": "566fc1a3-473a-4442-8d7e-257187b2aa2e",
   "metadata": {},
   "outputs": [],
   "source": [
    "# Attempt loading past model (after crash) and start training again\n",
    "load_model = 0\n",
    "if load_model:\n",
    "    model2 = tf.keras.models.load_model(r'Y:\\ibikunle\\Python_Project\\Fall_2021\\all_block_data\\Old_data\\Dec_Train_block_len_21_131121_2213\\NewAttention_RowBlockLSTM1\\22_November_21_0929_Acc_0.669_Top3Acc0.8506_21x9.h5'\n",
    "                                    ,)"
   ]
  },
  {
   "cell_type": "code",
   "execution_count": null,
   "id": "d814adde-7601-4664-ae72-80a585e2dfda",
   "metadata": {},
   "outputs": [],
   "source": []
  },
  {
   "cell_type": "code",
   "execution_count": null,
   "id": "1086771b-626e-42ed-90ce-56b434606586",
   "metadata": {
    "tags": []
   },
   "outputs": [],
   "source": [
    "# Train further\n",
    "batch_size = 64\n",
    "history2 = model.fit(x_train, y_train_1hot,\n",
    "          epochs= 30, \n",
    "          batch_size= batch_size, \n",
    "          validation_data=(x_test, y_test_1hot),callbacks=callbacks) #mcp_save, callbacks=[reduce_lr_loss]callbacks=callbacks"
   ]
  },
  {
   "cell_type": "code",
   "execution_count": null,
   "id": "ac606f26-6bfa-449a-9b90-b4765a2340ec",
   "metadata": {},
   "outputs": [],
   "source": [
    "# Convert labels to categorical orthonormal vectors\n",
    "y_val_1hot = tf.keras.utils.to_categorical(y_val, num_classes)\n",
    "\n",
    "_, accuracy,top3_acc = model.evaluate(x_val, y_val_1hot)\n",
    "print(f\"Test accuracy: {round(accuracy * 100, 2)}%\")\n",
    "# print(f\"Test top 5 accuracy: {round(top_5_accuracy * 100, 2)}%\")\n",
    "\n",
    "_,new_col_length,new_row_length = x_train.shape \n",
    "model.save(f'{base_path}//{ipynbname.name()}//{time_stamp}_Acc_{accuracy:.3f}_Top3Acc{top3_acc:.3f}_{new_row_length}x{new_col_length}.h5')"
   ]
  },
  {
   "cell_type": "code",
   "execution_count": null,
   "id": "bc0478a0-0d6b-44bf-abf6-30cb44b4d44c",
   "metadata": {},
   "outputs": [],
   "source": [
    "# Test model on val data\n",
    "\n",
    "y_diff_pred = [ np.argmax(model.predict(np.expand_dims(x_difficult[idx],axis=0))) for idx in range(3000,3050) ] #len(x_difficult)\n",
    "\n",
    "difficult_exact_accuracy = 100 * sum([1 if y_diff_pred[idx]==y_difficult[idx]   else 0 for idx in range(len(y_diff_pred)) ]) / len(y_diff_pred)\n",
    "difficult_margin5_accuracy = 100 * sum([1 if abs(y_diff_pred[idx]-y_difficult[idx]) < 3 else 0 for idx in range(len(y_diff_pred)) ]) / len(y_diff_pred)\n",
    "\n",
    "print(f' Exact accuracy is {difficult_exact_accuracy: .5f} %')\n",
    "print(f' Top 5% accuracy is {difficult_margin5_accuracy: .5f} %')\n",
    "\n"
   ]
  },
  {
   "cell_type": "code",
   "execution_count": null,
   "id": "b103b071-79d9-416b-b545-bc3c2e3e6587",
   "metadata": {},
   "outputs": [],
   "source": [
    "len(y_diff_pred)"
   ]
  },
  {
   "cell_type": "code",
   "execution_count": null,
   "id": "3ab0eaec-8607-4970-a6a9-397cef52ef9f",
   "metadata": {},
   "outputs": [],
   "source": []
  }
 ],
 "metadata": {
  "kernelspec": {
   "display_name": "TF_2.8",
   "language": "python",
   "name": "tf_2.8"
  },
  "language_info": {
   "codemirror_mode": {
    "name": "ipython",
    "version": 3
   },
   "file_extension": ".py",
   "mimetype": "text/x-python",
   "name": "python",
   "nbconvert_exporter": "python",
   "pygments_lexer": "ipython3",
   "version": "3.9.7"
  }
 },
 "nbformat": 4,
 "nbformat_minor": 5
}
