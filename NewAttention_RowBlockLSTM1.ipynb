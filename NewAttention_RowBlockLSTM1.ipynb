{
 "cells": [
  {
   "cell_type": "code",
   "execution_count": 2,
   "id": "dbf0fa04-d15f-40e3-bc8e-e0c581c9707c",
   "metadata": {},
   "outputs": [
    {
     "name": "stdout",
     "output_type": "stream",
     "text": [
      "Packages Loaded\n"
     ]
    }
   ],
   "source": [
    "from __future__ import print_function\n",
    "\n",
    "import os\n",
    "\n",
    "import pandas as pd\n",
    "import numpy as np\n",
    "import matplotlib.pyplot as plt\n",
    "import random\n",
    "import tensorflow as tf\n",
    "from tensorflow.keras.models import Sequential, Model\n",
    "from tensorflow.keras.layers import *\n",
    "from tensorflow.keras import layers\n",
    "from tensorflow.keras.callbacks import EarlyStopping, ModelCheckpoint,TensorBoard,ReduceLROnPlateau\n",
    "\n",
    "from tensorflow.keras.optimizers import SGD, Adam\n",
    "from tensorflow.keras.activations import relu\n",
    "from tensorflow.keras.regularizers import l2\n",
    "from tensorflow.keras.constraints import max_norm\n",
    "from tensorflow.keras import backend as K\n",
    "# from tensorflow.keras.datasets import mnist, cifar10\n",
    "import tensorflow_addons as tfa\n",
    "\n",
    "import sklearn\n",
    "\n",
    "from IPython.core.interactiveshell import InteractiveShell\n",
    "InteractiveShell.ast_node_interactivity = \"all\"\n",
    "from scipy.io import loadmat \n",
    "import mat73\n",
    "from datetime import datetime\n",
    "import ipynbname\n",
    "\n",
    "print(\"Packages Loaded\")"
   ]
  },
  {
   "cell_type": "code",
   "execution_count": 2,
   "id": "5e0ff66a-fe8d-4b53-923d-87fd82eaa274",
   "metadata": {
    "tags": []
   },
   "outputs": [
    {
     "name": "stderr",
     "output_type": "stream",
     "text": [
      "\u001b[34m\u001b[1mwandb\u001b[0m: Currently logged in as: \u001b[33mibksolar\u001b[0m (use `wandb login --relogin` to force relogin)\n",
      "\u001b[34m\u001b[1mwandb\u001b[0m: wandb version 0.12.9 is available!  To upgrade, please run:\n",
      "\u001b[34m\u001b[1mwandb\u001b[0m:  $ pip install wandb --upgrade\n"
     ]
    },
    {
     "data": {
      "text/html": [
       "\n",
       "                    Syncing run <strong><a href=\"https://wandb.ai/ibksolar/my-test-project/runs/7skbe1qb\" target=\"_blank\">NewAttention_RowBlockLSTM1_11_January_22_1651</a></strong> to <a href=\"https://wandb.ai/ibksolar/my-test-project\" target=\"_blank\">Weights & Biases</a> (<a href=\"https://docs.wandb.com/integrations/jupyter.html\" target=\"_blank\">docs</a>).<br/>\n",
       "\n",
       "                "
      ],
      "text/plain": [
       "<IPython.core.display.HTML object>"
      ]
     },
     "metadata": {},
     "output_type": "display_data"
    },
    {
     "data": {
      "text/html": [
       "<button onClick=\"this.nextSibling.style.display='block';this.style.display='none';\">Display W&B run</button><iframe src=\"https://wandb.ai/ibksolar/my-test-project/runs/7skbe1qb?jupyter=true\" style=\"border:none;width:100%;height:420px;display:none;\"></iframe>"
      ],
      "text/plain": [
       "<wandb.sdk.wandb_run.Run at 0x1f0970b6a30>"
      ]
     },
     "execution_count": 2,
     "metadata": {},
     "output_type": "execute_result"
    }
   ],
   "source": [
    "import wandb\n",
    "from wandb.keras import WandbCallback\n",
    "time_stamp = datetime.strftime( datetime.now(),'%d_%B_%y_%H%M')\n",
    "wandb.init(project=\"my-test-project\", entity=\"ibksolar\", name=ipynbname.name()+'_'+time_stamp)\n",
    " "
   ]
  },
  {
   "cell_type": "code",
   "execution_count": 3,
   "id": "00c1aba9-f492-4875-be63-c42578d6918a",
   "metadata": {},
   "outputs": [],
   "source": [
    "# Load data\n",
    "# raw_data1 = loadmat('new_echo_cnn_in_out_jstarrs2021_first_try/echo_cnn_in_out_jstars1.mat')\n",
    "# raw_data1 = loadmat('echo_cnn_in_out_GOOD_layers/new_echo_cnn_in_out_jstars1.mat') 'findpeaks_layers/new_echo_cnn_in_out_jstars1.mat'\n",
    "\n",
    "raw_data1 = loadmat('../../../Python_Env/final_layers_rowblock15_21/filtered_image/new_echo_cnn_in_out_jstars1.mat')\n",
    "raw_data2 = loadmat('../../../Python_Env/final_layers_rowblock15_21/filtered_image/new_echo_cnn_in_out_jstars2.mat')\n",
    "raw_data3 = loadmat('../../../Python_Env/final_layers_rowblock15_21/filtered_image/new_echo_cnn_in_out_jstars3.mat')\n",
    "# raw_data4 = loadmat('findpeaks_layers_rowblock20/new_echo_cnn_in_out_jstars4.mat')\n",
    "\n",
    "d1 = raw_data1['echo_cnn1']\n",
    "t1 = raw_data1['echo_target1']\n",
    "i1 = raw_data1['echo_idx1']\n",
    "\n",
    "d2 = raw_data2['echo_cnn2']\n",
    "t2 = raw_data2['echo_target2']\n",
    "i2 = raw_data2['echo_idx2']\n",
    "\n",
    "d3 = raw_data3['echo_cnn3']\n",
    "t3 = raw_data3['echo_target3']\n",
    "i3 = raw_data3['echo_idx3']\n",
    "\n",
    "# d4 = raw_data4['echo_cnn4']\n",
    "# t4 = raw_data4['echo_target4']\n",
    "# i4 = raw_data4['echo_idx4']\n",
    "\n",
    "all_data = np.concatenate( (d1,d2,d3),axis = 0 )\n",
    "all_target = np.concatenate( (t1,t2,t3),axis = 0 )\n",
    "all_idx = np.concatenate( (i1,i2,i3),axis = 0 )\n",
    "\n",
    "# Set all nan in the data to zero\n",
    "nan_idx = np.isnan(all_data).any(axis =-1)\n",
    "all_target[nan_idx] = 0\n",
    "all_data[ np.isnan(all_data) ]= 0"
   ]
  },
  {
   "cell_type": "code",
   "execution_count": 4,
   "id": "d9fb9b83-f2b1-4b99-82a7-e1580e7a2694",
   "metadata": {},
   "outputs": [],
   "source": [
    "load_new_data = False\n",
    "\n",
    "if load_new_data:\n",
    "    # base_path = '..\\\\..\\\\all_block_data\\Dec_Train_block_len_21_011121_2331'\n",
    "    #base_path = '../all_block_data/Old_data/Dec_Train_block_len_21_231121_1531'\n",
    "    base_path = '../all_block_data\\FindPeaks_data\\Dec_Train_block_len_21_030122_0614'\n",
    "\n",
    "    # Confirm path is right...\n",
    "    print(f'{os.path.isdir(base_path)}')"
   ]
  },
  {
   "cell_type": "code",
   "execution_count": 5,
   "id": "e179ca79-43c2-45d8-a10e-1bb54507a5bf",
   "metadata": {},
   "outputs": [],
   "source": [
    "if load_new_data:\n",
    "    raw_data1 = mat73.loadmat(base_path + '/echo_cnn_in_out_jstars.mat')\n",
    "    all_data = raw_data1['echo_cnn_input']\n",
    "    all_target = raw_data1['echo_cnn_target']\n",
    "    all_coords = raw_data1['coords']\n",
    "    echo_idx = raw_data1['orig_echo_idx']\n",
    "\n",
    "    # Set all nan in the data to zero\n",
    "    nan_idx = np.isnan(all_data).any(axis =-1)\n",
    "    all_target[nan_idx] = 0\n",
    "    all_data[ np.isnan(all_data) ]= 0\n",
    "\n"
   ]
  },
  {
   "cell_type": "code",
   "execution_count": 6,
   "id": "88db6e2e-f752-4b1f-b3a4-395adeaf4fa9",
   "metadata": {},
   "outputs": [],
   "source": [
    "# Standardize all_data\n",
    "standardize = False\n",
    "if standardize:\n",
    "    all_data  = ( all_data - all_data.mean() ) / all_data.std()\n",
    "\n",
    "scale_data = False\n",
    "if scale_data:\n",
    "    all_data = 255*all_data"
   ]
  },
  {
   "cell_type": "code",
   "execution_count": 7,
   "id": "b97ea785-542b-42f8-aee2-fef06a14040d",
   "metadata": {},
   "outputs": [],
   "source": [
    "# Truncate data because data after truncate point is not good for training\n",
    "\n",
    "truncate_data = False\n",
    "if truncate_data:    \n",
    "    echo_idx = np.asarray(echo_idx)\n",
    "    stop_val = 400\n",
    "\n",
    "    stop_list, = np.where(echo_idx == stop_val)\n",
    "    stop_idx = stop_list[-1]\n",
    "\n",
    "    all_data = all_data[:stop_idx]\n",
    "    all_target = all_target[:stop_idx]\n",
    "\n",
    "    print(f'Data shape {all_data.shape}')\n",
    "    print(f'Target shape {all_target.shape}')\n"
   ]
  },
  {
   "cell_type": "code",
   "execution_count": 8,
   "id": "3eaf3c7e-1bb9-4d3b-b0af-deca0f0995b7",
   "metadata": {},
   "outputs": [
    {
     "name": "stdout",
     "output_type": "stream",
     "text": [
      "Dimensions match\n"
     ]
    }
   ],
   "source": [
    "row_length = 21 # CHANGE HERE <==\n",
    "col_length = 15\n",
    "\n",
    "# Check that the dimension of data is correct\n",
    "if all_data.shape[1] == row_length*col_length:\n",
    "    print('Dimensions match')\n",
    "else:\n",
    "    print(f' Row block length:{row_length} and col length:{col_length} does not match Data dimension:{all_data.shape[1]}') \n",
    "        "
   ]
  },
  {
   "cell_type": "code",
   "execution_count": null,
   "id": "240c5978-0a4c-4a42-af11-b067dffe8ebc",
   "metadata": {},
   "outputs": [],
   "source": [
    "# Positional Encoding\n",
    "time_seq = 9 #col_length #5\n",
    "# all_coords = raw_data1['coords']\n",
    "all_coord_exp = np.zeros((all_coords.shape[0],time_seq,row_length))\n",
    "\n",
    "for idx in range(len(all_coords)):\n",
    "    a,b,c,_ = np.asarray(all_coords[idx],dtype=\"int\")\n",
    "    if (a%2) == 0: # If row index is even - this isn't implemented well because it requires iterating through individual rows\n",
    "        all_coord_exp[idx] = np.sin( np.outer( np.arange(c,c+time_seq), pow(10000, (2*np.arange(a,b)/row_length)) ) )\n",
    "    else:\n",
    "        all_coord_exp[idx] = np.cos( np.outer( np.arange(c,c+time_seq), pow(10000, (2*np.arange(a,b)/row_length)) ) )\n",
    "\n",
    "if 0: #truncate_data:\n",
    "    difficult_coords = all_coord_exp[stop_idx+1:]         \n",
    "    all_coord_exp = all_coord_exp[:stop_idx]        \n",
    "   \n",
    "    \n",
    "all_coord_exp.shape    "
   ]
  },
  {
   "cell_type": "code",
   "execution_count": 11,
   "id": "ab1acb17-7dee-417b-97bc-8d0bba4e4cf4",
   "metadata": {},
   "outputs": [
    {
     "name": "stdout",
     "output_type": "stream",
     "text": [
      "Shape of X_train:(1675520, 9, 21)  X_test:(314160, 9, 21)\n",
      "Shape of y_train:(1675520, 1)  y_test:(314160, 1)\n"
     ]
    }
   ],
   "source": [
    "max_class = row_length \n",
    "neigh = 4 # The number of neighbors used for each RowBlock column\n",
    "\n",
    "# Highest class is mapped to row_length+1\n",
    "all_target[all_target == max_class+1 ] = 0\n",
    "\n",
    "\n",
    "shuffle = 1\n",
    "if shuffle:\n",
    "    random.Random(13).shuffle(all_data)\n",
    "    random.Random(13).shuffle(all_target)\n",
    "    #random.Random(13).shuffle(all_coord_exp)\n",
    "    # random.Random(1337).shuffle(all_idx)\n",
    "\n",
    "## Prep data\n",
    "train_size = int(np.floor(0.8*len(all_target)));\n",
    "test_size = int(np.round( 0.15* all_data.shape[0] ))\n",
    "val_size = all_data.shape[0] -train_size - test_size\n",
    "\n",
    "mid_pt = 8\n",
    "\n",
    "\n",
    "x_train = all_data[0:train_size,:]\n",
    "x_train = np.reshape( x_train, (x_train.shape[0],max_class,-1),order ='F' )\n",
    "x_train = x_train[:,:,mid_pt-neigh:mid_pt+neigh+1]\n",
    "# x_train = np.reshape(x_train,(x_train.shape[0],-1))\n",
    "x_train = np.transpose(x_train,(0,2,1))\n",
    "#coords_train = all_coord_exp[0:train_size,:]\n",
    "\n",
    "\n",
    "x_test = all_data[train_size:train_size+test_size,:]\n",
    "x_test = np.reshape( x_test,(x_test.shape[0],max_class,-1),order ='F' )\n",
    "x_test = x_test[:,:,mid_pt-neigh:mid_pt+neigh+1]\n",
    "# x_test = np.reshape(x_test,(x_test.shape[0],-1))\n",
    "x_test = np.transpose(x_test,(0,2,1))\n",
    "#coords_test = all_coord_exp[train_size:train_size+test_size,:]\n",
    "\n",
    "\n",
    "x_val = all_data[-val_size:,:]\n",
    "x_val = np.reshape( x_val,(x_val.shape[0],max_class,-1),order ='F' )\n",
    "x_val = x_val[:,:,mid_pt-neigh:mid_pt+neigh+1]\n",
    "# x_val = np.reshape(x_val,(x_val.shape[0],-1))\n",
    "x_val = np.transpose(x_val,(0,2,1))\n",
    "#coords_val = all_coord_exp[-val_size:,:]\n",
    "\n",
    "\n",
    "y_train = all_target[:train_size]\n",
    "y_test  = all_target[train_size:train_size+test_size]\n",
    "y_val = all_target[-val_size:]\n",
    "\n",
    "var_input_shape = x_train.shape[1:] # 240 columns\n",
    "num_classes = max_class+1 # layers\n",
    "\n",
    "\n",
    "# Convert labels to categorical orthonormal vectors\n",
    "y_train_1hot = tf.keras.utils.to_categorical(y_train, num_classes)\n",
    "y_test_1hot  = tf.keras.utils.to_categorical(y_test, num_classes)\n",
    "\n",
    "print(f'Shape of X_train:{x_train.shape}  X_test:{x_test.shape}')\n",
    "print(f'Shape of y_train:{y_train.shape}  y_test:{y_test.shape}')"
   ]
  },
  {
   "cell_type": "code",
   "execution_count": 95,
   "id": "d4e1d74e-7ca6-41f4-918e-9712adcdce02",
   "metadata": {},
   "outputs": [
    {
     "data": {
      "image/png": "[encoded data removed]",
      "text/plain": [
       "<Figure size 432x288 with 1 Axes>"
      ]
     },
     "metadata": {
      "needs_background": "light"
     },
     "output_type": "display_data"
    },
    {
     "data": {
      "image/png": "[encoded data removed]",
      "text/plain": [
       "<Figure size 432x288 with 1 Axes>"
      ]
     },
     "metadata": {
      "needs_background": "light"
     },
     "output_type": "display_data"
    }
   ],
   "source": [
    "# Show distribution of targets in training and validation set\n",
    "\n",
    "labels, counts = np.unique(y_train, return_counts=True)\n",
    "_ = plt.bar(labels, counts, align='center')\n",
    "_ = plt.gca().set_xticks(labels)\n",
    "_ = plt.title('Distribution of targets in Training set')\n",
    "_ = plt.show()\n",
    "\n",
    "\n",
    "labels, counts = np.unique(y_val, return_counts=True)\n",
    "_ = plt.bar(labels, counts, align='center')\n",
    "_ = plt.gca().set_xticks(labels)\n",
    "_ = plt.title('Distribution of targets in Validation set')\n",
    "_ = plt.show()"
   ]
  },
  {
   "cell_type": "code",
   "execution_count": null,
   "id": "d2641993-96aa-4d4f-9342-5806258036fa",
   "metadata": {},
   "outputs": [],
   "source": [
    "\n",
    "x_train_new = x_train + coords_train\n",
    "x_test_new = x_test + coords_test\n",
    "x_val_new = x_val + coords_val"
   ]
  },
  {
   "cell_type": "code",
   "execution_count": 15,
   "id": "45833095-8823-4f47-895b-876c2c1b2396",
   "metadata": {},
   "outputs": [
    {
     "name": "stdout",
     "output_type": "stream",
     "text": [
      "Could not get file name: auto-generating name\n",
      "Activation_function not in workspace\n",
      "loss_function not in workspace\n",
      "Accuracy_per_epoch not in workspace\n",
      "Loss_per_epoch not in workspace\n",
      "Stop_time not in workspace\n",
      "Current run hyper_params are dict_keys(['S_N', 'Start_time', 'NoteBook_name', 'Uniqueness_of_each_run', 'Base_dir', 'Train_shape', 'Output_shape', 'num_epochs', 'Activation_function', 'optimizer', 'learning_rate', 'loss_function', 'Accuracy_per_epoch', 'Loss_per_epoch', 'Stop_time', 'Model_config', 'Performance_on_test_set', 'output_path', 'shuffle', 'Computer_name', 'extras']):dict_values([21, '11_January_22_1659', 'NewAttention_RowBlockLSTM1', 'Previous run 250+70 epochs of LSTM had acc ~40%: Increased number of RNN layers and included Conv before LSTM- ', '../../../Python_Env/final_layers_rowblock15_21/filtered_image/new_echo_cnn_in_out_jstars3.mat', (1675520, 9, 21), '', '', '', '', '', '', '', '', '', '', '', '', 1, 'AQ-98JH673', [{'standardize': False}]])\n",
      "Fields to be updated include: ['Activation_function', 'loss_function', 'Accuracy_per_epoch', 'Loss_per_epoch', 'Stop_time', 'Model_config']\n"
     ]
    }
   ],
   "source": [
    "# Populate the param \n",
    "\n",
    "# import sys,importlib\n",
    "#importlib.reload(sys.modules['model_hyper_param_log'])\n",
    "\n",
    "base_path =  r'../../../Python_Env/final_layers_rowblock15_21/filtered_image/new_echo_cnn_in_out_jstars3.mat'\n",
    "log ={}\n",
    "log['Notebook_name'] = ipynbname.name()\n",
    "log['Uniqueness_of_each_run'] = 'Previous run 250+70 epochs of LSTM had acc ~40%: Increased number of RNN layers and included Conv before LSTM- '\n",
    "log['base_dir'] = base_path\n",
    "log['Train_shape'] = x_train.shape\n",
    "log['Output_shape'] = ''\n",
    "log['num_epochs'] = ''\n",
    "log['batch_size'] = ''\n",
    "log['activation_function'] = ''\n",
    "log['optimizer'] = ''\n",
    "log['learning_rate'] = ''\n",
    "log['loss_finction'] = ''\n",
    "log['accuracy'] = []\n",
    "log['loss'] = []\n",
    "log['stop_time'] = ''\n",
    "log['Model_config'] = ''\n",
    "log['Performance_on_test_set'] = ''\n",
    "log['output_path'] = ''  # output: where the trained model is saved\n",
    "log['shuffle'] = shuffle\n",
    "log['run_completion_comment'] = '' # Comment on training and probably evaluation too\n",
    "log['extras'] = [{'standardize':standardize}]\n",
    "\n",
    "\n",
    "from model_hyper_param_log import create_log_entry, update_log_entry\n",
    "if \"log_idx\" in globals():\n",
    "    log[\"S_N\"] = log_idx\n",
    "log_idx = create_log_entry('../testing_sheet2.xlsx', log)"
   ]
  },
  {
   "cell_type": "code",
   "execution_count": null,
   "id": "90eaf02e-ac0c-47ae-93f8-ff9098ad79e8",
   "metadata": {},
   "outputs": [],
   "source": [
    "# Visualize some of the input\n",
    "\n",
    "_ = plt.plot(x_train[200].flatten())\n",
    "_ = plt.title(y_train[200])"
   ]
  },
  {
   "cell_type": "code",
   "execution_count": 17,
   "id": "b709185f-c394-4c52-afa5-75bcf5964ad9",
   "metadata": {
    "tags": []
   },
   "outputs": [
    {
     "name": "stdout",
     "output_type": "stream",
     "text": [
      "WARNING:tensorflow:Layer lstm_6 will not use cuDNN kernels since it doesn't meet the criteria. It will use a generic GPU kernel as fallback when running on GPU.\n",
      "WARNING:tensorflow:Layer lstm_7 will not use cuDNN kernels since it doesn't meet the criteria. It will use a generic GPU kernel as fallback when running on GPU.\n",
      "WARNING:tensorflow:Layer lstm_8 will not use cuDNN kernels since it doesn't meet the criteria. It will use a generic GPU kernel as fallback when running on GPU.\n",
      "Model: \"RowBlockLSTM11_January_22_1651\"\n",
      "__________________________________________________________________________________________________\n",
      "Layer (type)                    Output Shape         Param #     Connected to                     \n",
      "==================================================================================================\n",
      "input_3 (InputLayer)            [(None, 9, 21, 1)]   0                                            \n",
      "__________________________________________________________________________________________________\n",
      "conv2d_52 (Conv2D)              (None, 9, 21, 32)    320         input_3[0][0]                    \n",
      "__________________________________________________________________________________________________\n",
      "conv2d_53 (Conv2D)              (None, 9, 21, 64)    51264       conv2d_52[0][0]                  \n",
      "__________________________________________________________________________________________________\n",
      "conv2d_54 (Conv2D)              (None, 9, 21, 64)    102464      conv2d_53[0][0]                  \n",
      "__________________________________________________________________________________________________\n",
      "dropout_42 (Dropout)            (None, 9, 21, 64)    0           conv2d_54[0][0]                  \n",
      "__________________________________________________________________________________________________\n",
      "batch_normalization_40 (BatchNo (None, 9, 21, 64)    256         dropout_42[0][0]                 \n",
      "__________________________________________________________________________________________________\n",
      "re_lu_50 (ReLU)                 (None, 9, 21, 64)    0           batch_normalization_40[0][0]     \n",
      "__________________________________________________________________________________________________\n",
      "conv2d_55 (Conv2D)              (None, 9, 21, 64)    36928       re_lu_50[0][0]                   \n",
      "__________________________________________________________________________________________________\n",
      "dropout_43 (Dropout)            (None, 9, 21, 64)    0           conv2d_55[0][0]                  \n",
      "__________________________________________________________________________________________________\n",
      "batch_normalization_41 (BatchNo (None, 9, 21, 64)    256         dropout_43[0][0]                 \n",
      "__________________________________________________________________________________________________\n",
      "re_lu_51 (ReLU)                 (None, 9, 21, 64)    0           batch_normalization_41[0][0]     \n",
      "__________________________________________________________________________________________________\n",
      "conv2d_57 (Conv2D)              (None, 9, 21, 64)    36928       re_lu_51[0][0]                   \n",
      "__________________________________________________________________________________________________\n",
      "dropout_45 (Dropout)            (None, 9, 21, 64)    0           conv2d_57[0][0]                  \n",
      "__________________________________________________________________________________________________\n",
      "batch_normalization_43 (BatchNo (None, 9, 21, 64)    256         dropout_45[0][0]                 \n",
      "__________________________________________________________________________________________________\n",
      "re_lu_53 (ReLU)                 (None, 9, 21, 64)    0           batch_normalization_43[0][0]     \n",
      "__________________________________________________________________________________________________\n",
      "add_10 (Add)                    (None, 9, 21, 64)    0           conv2d_53[0][0]                  \n",
      "                                                                 re_lu_53[0][0]                   \n",
      "__________________________________________________________________________________________________\n",
      "re_lu_54 (ReLU)                 (None, 9, 21, 64)    0           add_10[0][0]                     \n",
      "__________________________________________________________________________________________________\n",
      "conv2d_58 (Conv2D)              (None, 9, 21, 64)    102464      re_lu_54[0][0]                   \n",
      "__________________________________________________________________________________________________\n",
      "conv2d_59 (Conv2D)              (None, 9, 21, 64)    102464      conv2d_58[0][0]                  \n",
      "__________________________________________________________________________________________________\n",
      "dropout_46 (Dropout)            (None, 9, 21, 64)    0           conv2d_59[0][0]                  \n",
      "__________________________________________________________________________________________________\n",
      "batch_normalization_44 (BatchNo (None, 9, 21, 64)    256         dropout_46[0][0]                 \n",
      "__________________________________________________________________________________________________\n",
      "re_lu_55 (ReLU)                 (None, 9, 21, 64)    0           batch_normalization_44[0][0]     \n",
      "__________________________________________________________________________________________________\n",
      "conv2d_60 (Conv2D)              (None, 9, 21, 64)    36928       re_lu_55[0][0]                   \n",
      "__________________________________________________________________________________________________\n",
      "dropout_47 (Dropout)            (None, 9, 21, 64)    0           conv2d_60[0][0]                  \n",
      "__________________________________________________________________________________________________\n",
      "batch_normalization_45 (BatchNo (None, 9, 21, 64)    256         dropout_47[0][0]                 \n",
      "__________________________________________________________________________________________________\n",
      "re_lu_56 (ReLU)                 (None, 9, 21, 64)    0           batch_normalization_45[0][0]     \n",
      "__________________________________________________________________________________________________\n",
      "conv2d_62 (Conv2D)              (None, 9, 21, 64)    36928       re_lu_56[0][0]                   \n",
      "__________________________________________________________________________________________________\n",
      "dropout_49 (Dropout)            (None, 9, 21, 64)    0           conv2d_62[0][0]                  \n",
      "__________________________________________________________________________________________________\n",
      "batch_normalization_47 (BatchNo (None, 9, 21, 64)    256         dropout_49[0][0]                 \n",
      "__________________________________________________________________________________________________\n",
      "re_lu_58 (ReLU)                 (None, 9, 21, 64)    0           batch_normalization_47[0][0]     \n",
      "__________________________________________________________________________________________________\n",
      "add_11 (Add)                    (None, 9, 21, 64)    0           conv2d_58[0][0]                  \n",
      "                                                                 re_lu_58[0][0]                   \n",
      "__________________________________________________________________________________________________\n",
      "re_lu_59 (ReLU)                 (None, 9, 21, 64)    0           add_11[0][0]                     \n",
      "__________________________________________________________________________________________________\n",
      "conv2d_63 (Conv2D)              (None, 9, 21, 64)    102464      re_lu_59[0][0]                   \n",
      "__________________________________________________________________________________________________\n",
      "conv2d_64 (Conv2D)              (None, 9, 21, 64)    102464      conv2d_63[0][0]                  \n",
      "__________________________________________________________________________________________________\n",
      "dropout_50 (Dropout)            (None, 9, 21, 64)    0           conv2d_64[0][0]                  \n",
      "__________________________________________________________________________________________________\n",
      "batch_normalization_48 (BatchNo (None, 9, 21, 64)    256         dropout_50[0][0]                 \n",
      "__________________________________________________________________________________________________\n",
      "re_lu_60 (ReLU)                 (None, 9, 21, 64)    0           batch_normalization_48[0][0]     \n",
      "__________________________________________________________________________________________________\n",
      "conv2d_65 (Conv2D)              (None, 9, 21, 64)    36928       re_lu_60[0][0]                   \n",
      "__________________________________________________________________________________________________\n",
      "dropout_51 (Dropout)            (None, 9, 21, 64)    0           conv2d_65[0][0]                  \n",
      "__________________________________________________________________________________________________\n",
      "batch_normalization_49 (BatchNo (None, 9, 21, 64)    256         dropout_51[0][0]                 \n",
      "__________________________________________________________________________________________________\n",
      "re_lu_61 (ReLU)                 (None, 9, 21, 64)    0           batch_normalization_49[0][0]     \n",
      "__________________________________________________________________________________________________\n",
      "conv2d_67 (Conv2D)              (None, 9, 21, 64)    36928       re_lu_61[0][0]                   \n",
      "__________________________________________________________________________________________________\n",
      "dropout_53 (Dropout)            (None, 9, 21, 64)    0           conv2d_67[0][0]                  \n",
      "__________________________________________________________________________________________________\n",
      "batch_normalization_51 (BatchNo (None, 9, 21, 64)    256         dropout_53[0][0]                 \n",
      "__________________________________________________________________________________________________\n",
      "re_lu_63 (ReLU)                 (None, 9, 21, 64)    0           batch_normalization_51[0][0]     \n",
      "__________________________________________________________________________________________________\n",
      "add_12 (Add)                    (None, 9, 21, 64)    0           conv2d_63[0][0]                  \n",
      "                                                                 re_lu_63[0][0]                   \n",
      "__________________________________________________________________________________________________\n",
      "re_lu_64 (ReLU)                 (None, 9, 21, 64)    0           add_12[0][0]                     \n",
      "__________________________________________________________________________________________________\n",
      "conv2d_68 (Conv2D)              (None, 9, 21, 64)    102464      re_lu_64[0][0]                   \n",
      "__________________________________________________________________________________________________\n",
      "conv2d_69 (Conv2D)              (None, 9, 21, 64)    102464      conv2d_68[0][0]                  \n",
      "__________________________________________________________________________________________________\n",
      "dropout_54 (Dropout)            (None, 9, 21, 64)    0           conv2d_69[0][0]                  \n",
      "__________________________________________________________________________________________________\n",
      "batch_normalization_52 (BatchNo (None, 9, 21, 64)    256         dropout_54[0][0]                 \n",
      "__________________________________________________________________________________________________\n",
      "re_lu_65 (ReLU)                 (None, 9, 21, 64)    0           batch_normalization_52[0][0]     \n",
      "__________________________________________________________________________________________________\n",
      "conv2d_70 (Conv2D)              (None, 9, 21, 64)    36928       re_lu_65[0][0]                   \n",
      "__________________________________________________________________________________________________\n",
      "dropout_55 (Dropout)            (None, 9, 21, 64)    0           conv2d_70[0][0]                  \n",
      "__________________________________________________________________________________________________\n",
      "batch_normalization_53 (BatchNo (None, 9, 21, 64)    256         dropout_55[0][0]                 \n",
      "__________________________________________________________________________________________________\n",
      "re_lu_66 (ReLU)                 (None, 9, 21, 64)    0           batch_normalization_53[0][0]     \n",
      "__________________________________________________________________________________________________\n",
      "conv2d_72 (Conv2D)              (None, 9, 21, 64)    36928       re_lu_66[0][0]                   \n",
      "__________________________________________________________________________________________________\n",
      "dropout_57 (Dropout)            (None, 9, 21, 64)    0           conv2d_72[0][0]                  \n",
      "__________________________________________________________________________________________________\n",
      "batch_normalization_55 (BatchNo (None, 9, 21, 64)    256         dropout_57[0][0]                 \n",
      "__________________________________________________________________________________________________\n",
      "re_lu_68 (ReLU)                 (None, 9, 21, 64)    0           batch_normalization_55[0][0]     \n",
      "__________________________________________________________________________________________________\n",
      "add_13 (Add)                    (None, 9, 21, 64)    0           conv2d_68[0][0]                  \n",
      "                                                                 re_lu_68[0][0]                   \n",
      "__________________________________________________________________________________________________\n",
      "re_lu_69 (ReLU)                 (None, 9, 21, 64)    0           add_13[0][0]                     \n",
      "__________________________________________________________________________________________________\n",
      "conv2d_73 (Conv2D)              (None, 9, 21, 64)    102464      re_lu_69[0][0]                   \n",
      "__________________________________________________________________________________________________\n",
      "conv2d_74 (Conv2D)              (None, 9, 21, 64)    102464      conv2d_73[0][0]                  \n",
      "__________________________________________________________________________________________________\n",
      "dropout_58 (Dropout)            (None, 9, 21, 64)    0           conv2d_74[0][0]                  \n",
      "__________________________________________________________________________________________________\n",
      "batch_normalization_56 (BatchNo (None, 9, 21, 64)    256         dropout_58[0][0]                 \n",
      "__________________________________________________________________________________________________\n",
      "re_lu_70 (ReLU)                 (None, 9, 21, 64)    0           batch_normalization_56[0][0]     \n",
      "__________________________________________________________________________________________________\n",
      "conv2d_75 (Conv2D)              (None, 9, 21, 64)    36928       re_lu_70[0][0]                   \n",
      "__________________________________________________________________________________________________\n",
      "dropout_59 (Dropout)            (None, 9, 21, 64)    0           conv2d_75[0][0]                  \n",
      "__________________________________________________________________________________________________\n",
      "batch_normalization_57 (BatchNo (None, 9, 21, 64)    256         dropout_59[0][0]                 \n",
      "__________________________________________________________________________________________________\n",
      "re_lu_71 (ReLU)                 (None, 9, 21, 64)    0           batch_normalization_57[0][0]     \n",
      "__________________________________________________________________________________________________\n",
      "conv2d_77 (Conv2D)              (None, 9, 21, 64)    36928       re_lu_71[0][0]                   \n",
      "__________________________________________________________________________________________________\n",
      "dropout_61 (Dropout)            (None, 9, 21, 64)    0           conv2d_77[0][0]                  \n",
      "__________________________________________________________________________________________________\n",
      "batch_normalization_59 (BatchNo (None, 9, 21, 64)    256         dropout_61[0][0]                 \n",
      "__________________________________________________________________________________________________\n",
      "re_lu_73 (ReLU)                 (None, 9, 21, 64)    0           batch_normalization_59[0][0]     \n",
      "__________________________________________________________________________________________________\n",
      "add_14 (Add)                    (None, 9, 21, 64)    0           conv2d_73[0][0]                  \n",
      "                                                                 re_lu_73[0][0]                   \n",
      "__________________________________________________________________________________________________\n",
      "re_lu_74 (ReLU)                 (None, 9, 21, 64)    0           add_14[0][0]                     \n",
      "__________________________________________________________________________________________________\n",
      "tf.math.reduce_sum_2 (TFOpLambd (None, 9, 21)        0           re_lu_74[0][0]                   \n",
      "__________________________________________________________________________________________________\n",
      "lstm_6 (LSTM)                   (None, 9, 512)       1093632     tf.math.reduce_sum_2[0][0]       \n",
      "__________________________________________________________________________________________________\n",
      "lstm_7 (LSTM)                   (None, 9, 512)       2099200     lstm_6[0][0]                     \n",
      "__________________________________________________________________________________________________\n",
      "lstm_8 (LSTM)                   (None, 64)           147712      lstm_7[0][0]                     \n",
      "__________________________________________________________________________________________________\n",
      "dense_4 (Dense)                 (None, 512)          33280       lstm_8[0][0]                     \n",
      "__________________________________________________________________________________________________\n",
      "dropout_62 (Dropout)            (None, 512)          0           dense_4[0][0]                    \n",
      "__________________________________________________________________________________________________\n",
      "dense_5 (Dense)                 (None, 22)           11286       dropout_62[0][0]                 \n",
      "==================================================================================================\n",
      "Total params: 4,731,990\n",
      "Trainable params: 4,730,070\n",
      "Non-trainable params: 1,920\n",
      "__________________________________________________________________________________________________\n",
      "Training start time:11_January_22_1921\n",
      "Epoch 1/100\n",
      "2291/2291 [==============================] - 543s 235ms/step - loss: 2.0584 - accuracy: 0.4592 - top-3-accuracy: 0.7957 - val_loss: 1.7948 - val_accuracy: 0.5981 - val_top-3-accuracy: 0.9218\n",
      "Epoch 2/100\n",
      "2291/2291 [==============================] - 536s 234ms/step - loss: 1.7497 - accuracy: 0.6103 - top-3-accuracy: 0.9276 - val_loss: 1.7144 - val_accuracy: 0.6415 - val_top-3-accuracy: 0.9362\n",
      "Epoch 3/100\n",
      "2291/2291 [==============================] - 538s 235ms/step - loss: 1.6998 - accuracy: 0.6384 - top-3-accuracy: 0.9389 - val_loss: 1.7089 - val_accuracy: 0.6456 - val_top-3-accuracy: 0.9382\n",
      "Epoch 4/100\n",
      "2291/2291 [==============================] - 537s 234ms/step - loss: 1.6633 - accuracy: 0.6599 - top-3-accuracy: 0.9470 - val_loss: 1.6660 - val_accuracy: 0.6691 - val_top-3-accuracy: 0.9460\n",
      "Epoch 5/100\n",
      "2291/2291 [==============================] - 536s 234ms/step - loss: 1.6338 - accuracy: 0.6789 - top-3-accuracy: 0.9529 - val_loss: 1.6552 - val_accuracy: 0.6773 - val_top-3-accuracy: 0.9483\n",
      "Epoch 6/100\n",
      "2291/2291 [==============================] - 538s 235ms/step - loss: 1.6111 - accuracy: 0.6933 - top-3-accuracy: 0.9575 - val_loss: 1.6691 - val_accuracy: 0.6725 - val_top-3-accuracy: 0.9470\n",
      "Epoch 7/100\n",
      "2291/2291 [==============================] - 538s 235ms/step - loss: 1.5971 - accuracy: 0.7021 - top-3-accuracy: 0.9598 - val_loss: 1.6443 - val_accuracy: 0.6836 - val_top-3-accuracy: 0.9493\n",
      "Epoch 8/100\n",
      "2291/2291 [==============================] - 538s 235ms/step - loss: 1.5885 - accuracy: 0.7078 - top-3-accuracy: 0.9615 - val_loss: 1.6732 - val_accuracy: 0.6709 - val_top-3-accuracy: 0.9454\n",
      "Epoch 9/100\n",
      "2291/2291 [==============================] - 538s 235ms/step - loss: 1.6000 - accuracy: 0.6996 - top-3-accuracy: 0.9599 - val_loss: 1.6877 - val_accuracy: 0.6607 - val_top-3-accuracy: 0.9440\n",
      "Epoch 10/100\n",
      "2291/2291 [==============================] - 537s 235ms/step - loss: 1.6300 - accuracy: 0.6812 - top-3-accuracy: 0.9553 - val_loss: 1.6853 - val_accuracy: 0.6597 - val_top-3-accuracy: 0.9436\n",
      "Epoch 11/100\n",
      "2291/2291 [==============================] - 540s 236ms/step - loss: 1.5883 - accuracy: 0.7065 - top-3-accuracy: 0.9612 - val_loss: 1.6109 - val_accuracy: 0.7051 - val_top-3-accuracy: 0.9550\n",
      "Epoch 12/100\n",
      "2291/2291 [==============================] - 538s 235ms/step - loss: 1.5311 - accuracy: 0.7435 - top-3-accuracy: 0.9689 - val_loss: 1.5999 - val_accuracy: 0.7121 - val_top-3-accuracy: 0.9566\n",
      "Epoch 13/100\n",
      "2291/2291 [==============================] - 539s 235ms/step - loss: 1.5101 - accuracy: 0.7568 - top-3-accuracy: 0.9711 - val_loss: 1.5822 - val_accuracy: 0.7238 - val_top-3-accuracy: 0.9584\n",
      "Epoch 14/100\n",
      "2291/2291 [==============================] - 538s 235ms/step - loss: 1.4957 - accuracy: 0.7661 - top-3-accuracy: 0.9723 - val_loss: 1.5789 - val_accuracy: 0.7272 - val_top-3-accuracy: 0.9585\n",
      "Epoch 15/100\n",
      "2291/2291 [==============================] - 536s 234ms/step - loss: 1.4833 - accuracy: 0.7739 - top-3-accuracy: 0.9735 - val_loss: 1.5651 - val_accuracy: 0.7357 - val_top-3-accuracy: 0.9600\n",
      "Epoch 16/100\n",
      "2291/2291 [==============================] - 538s 235ms/step - loss: 1.4718 - accuracy: 0.7815 - top-3-accuracy: 0.9748 - val_loss: 1.5693 - val_accuracy: 0.7345 - val_top-3-accuracy: 0.9594\n",
      "Epoch 17/100\n",
      "2291/2291 [==============================] - 538s 235ms/step - loss: 1.4619 - accuracy: 0.7875 - top-3-accuracy: 0.9756 - val_loss: 1.5547 - val_accuracy: 0.7424 - val_top-3-accuracy: 0.9607\n",
      "Epoch 18/100\n",
      "2291/2291 [==============================] - 536s 234ms/step - loss: 1.4526 - accuracy: 0.7931 - top-3-accuracy: 0.9765 - val_loss: 1.5502 - val_accuracy: 0.7466 - val_top-3-accuracy: 0.9611\n",
      "Epoch 19/100\n",
      "2291/2291 [==============================] - 541s 236ms/step - loss: 1.4444 - accuracy: 0.7981 - top-3-accuracy: 0.9774 - val_loss: 1.5725 - val_accuracy: 0.7332 - val_top-3-accuracy: 0.9590\n",
      "Epoch 20/100\n",
      "2291/2291 [==============================] - 537s 234ms/step - loss: 1.4357 - accuracy: 0.8036 - top-3-accuracy: 0.9780 - val_loss: 1.5375 - val_accuracy: 0.7538 - val_top-3-accuracy: 0.9626\n",
      "Epoch 21/100\n",
      "2291/2291 [==============================] - 540s 236ms/step - loss: 1.4270 - accuracy: 0.8093 - top-3-accuracy: 0.9787 - val_loss: 1.5352 - val_accuracy: 0.7562 - val_top-3-accuracy: 0.9626\n",
      "Epoch 22/100\n",
      "2291/2291 [==============================] - 538s 235ms/step - loss: 1.4199 - accuracy: 0.8132 - top-3-accuracy: 0.9794 - val_loss: 1.5343 - val_accuracy: 0.7565 - val_top-3-accuracy: 0.9623\n",
      "Epoch 23/100\n",
      "2291/2291 [==============================] - 535s 234ms/step - loss: 1.4129 - accuracy: 0.8179 - top-3-accuracy: 0.9799 - val_loss: 1.5381 - val_accuracy: 0.7556 - val_top-3-accuracy: 0.9618\n",
      "Epoch 24/100\n",
      "2291/2291 [==============================] - 536s 234ms/step - loss: 1.4059 - accuracy: 0.8220 - top-3-accuracy: 0.9804 - val_loss: 1.5166 - val_accuracy: 0.7677 - val_top-3-accuracy: 0.9636\n",
      "Epoch 25/100\n",
      "2291/2291 [==============================] - 538s 235ms/step - loss: 1.3974 - accuracy: 0.8269 - top-3-accuracy: 0.9811 - val_loss: 1.5128 - val_accuracy: 0.7693 - val_top-3-accuracy: 0.9642\n",
      "Epoch 26/100\n",
      "2291/2291 [==============================] - 538s 235ms/step - loss: 1.3916 - accuracy: 0.8301 - top-3-accuracy: 0.9817 - val_loss: 1.5106 - val_accuracy: 0.7721 - val_top-3-accuracy: 0.9641\n",
      "Epoch 27/100\n",
      "2291/2291 [==============================] - 538s 235ms/step - loss: 1.3859 - accuracy: 0.8341 - top-3-accuracy: 0.9821 - val_loss: 1.5036 - val_accuracy: 0.7757 - val_top-3-accuracy: 0.9646\n",
      "Epoch 28/100\n",
      "2291/2291 [==============================] - 535s 234ms/step - loss: 1.3787 - accuracy: 0.8386 - top-3-accuracy: 0.9824 - val_loss: 1.5020 - val_accuracy: 0.7771 - val_top-3-accuracy: 0.9645\n",
      "Epoch 29/100\n",
      "2291/2291 [==============================] - 538s 235ms/step - loss: 1.3733 - accuracy: 0.8417 - top-3-accuracy: 0.9829 - val_loss: 1.5173 - val_accuracy: 0.7694 - val_top-3-accuracy: 0.9638\n",
      "Epoch 30/100\n",
      "2291/2291 [==============================] - 540s 236ms/step - loss: 1.3684 - accuracy: 0.8440 - top-3-accuracy: 0.9834 - val_loss: 1.5037 - val_accuracy: 0.7778 - val_top-3-accuracy: 0.9640\n",
      "Epoch 31/100\n",
      "2291/2291 [==============================] - 538s 235ms/step - loss: 1.3635 - accuracy: 0.8472 - top-3-accuracy: 0.9839 - val_loss: 1.4890 - val_accuracy: 0.7852 - val_top-3-accuracy: 0.9657\n",
      "Epoch 32/100\n",
      "2291/2291 [==============================] - 541s 236ms/step - loss: 1.3570 - accuracy: 0.8513 - top-3-accuracy: 0.9843 - val_loss: 1.4976 - val_accuracy: 0.7819 - val_top-3-accuracy: 0.9649\n",
      "Epoch 33/100\n",
      "2291/2291 [==============================] - 537s 234ms/step - loss: 1.3526 - accuracy: 0.8535 - top-3-accuracy: 0.9846 - val_loss: 1.4890 - val_accuracy: 0.7851 - val_top-3-accuracy: 0.9658\n",
      "Epoch 34/100\n",
      "2291/2291 [==============================] - 537s 235ms/step - loss: 1.3481 - accuracy: 0.8561 - top-3-accuracy: 0.9849 - val_loss: 1.4898 - val_accuracy: 0.7866 - val_top-3-accuracy: 0.9657\n",
      "Epoch 35/100\n",
      "2291/2291 [==============================] - 537s 234ms/step - loss: 1.3255 - accuracy: 0.8698 - top-3-accuracy: 0.9862 - val_loss: 1.4634 - val_accuracy: 0.8019 - val_top-3-accuracy: 0.9672\n",
      "Epoch 36/100\n",
      "2291/2291 [==============================] - 537s 234ms/step - loss: 1.3154 - accuracy: 0.8762 - top-3-accuracy: 0.9869 - val_loss: 1.4607 - val_accuracy: 0.8037 - val_top-3-accuracy: 0.9675\n",
      "Epoch 37/100\n",
      "2291/2291 [==============================] - 537s 234ms/step - loss: 1.3113 - accuracy: 0.8785 - top-3-accuracy: 0.9870 - val_loss: 1.4631 - val_accuracy: 0.8030 - val_top-3-accuracy: 0.9673\n",
      "Epoch 38/100\n",
      "2291/2291 [==============================] - 539s 235ms/step - loss: 1.3084 - accuracy: 0.8803 - top-3-accuracy: 0.9872 - val_loss: 1.4596 - val_accuracy: 0.8049 - val_top-3-accuracy: 0.9672\n",
      "Epoch 39/100\n",
      "2291/2291 [==============================] - 536s 234ms/step - loss: 1.3066 - accuracy: 0.8815 - top-3-accuracy: 0.9873 - val_loss: 1.4582 - val_accuracy: 0.8059 - val_top-3-accuracy: 0.9674\n",
      "Epoch 40/100\n",
      "2291/2291 [==============================] - 537s 234ms/step - loss: 1.3036 - accuracy: 0.8831 - top-3-accuracy: 0.9876 - val_loss: 1.4561 - val_accuracy: 0.8072 - val_top-3-accuracy: 0.9675\n",
      "Epoch 41/100\n",
      "2291/2291 [==============================] - 537s 234ms/step - loss: 1.3019 - accuracy: 0.8845 - top-3-accuracy: 0.9876 - val_loss: 1.4515 - val_accuracy: 0.8096 - val_top-3-accuracy: 0.9678\n",
      "Epoch 42/100\n",
      "2291/2291 [==============================] - 534s 233ms/step - loss: 1.2999 - accuracy: 0.8854 - top-3-accuracy: 0.9877 - val_loss: 1.4548 - val_accuracy: 0.8081 - val_top-3-accuracy: 0.9679\n",
      "Epoch 43/100\n",
      "2291/2291 [==============================] - 536s 234ms/step - loss: 1.2983 - accuracy: 0.8865 - top-3-accuracy: 0.9879 - val_loss: 1.4515 - val_accuracy: 0.8098 - val_top-3-accuracy: 0.9677\n",
      "Epoch 44/100\n",
      "2291/2291 [==============================] - 540s 236ms/step - loss: 1.2967 - accuracy: 0.8871 - top-3-accuracy: 0.9880 - val_loss: 1.4488 - val_accuracy: 0.8116 - val_top-3-accuracy: 0.9679\n",
      "Epoch 45/100\n",
      "2291/2291 [==============================] - 537s 234ms/step - loss: 1.2949 - accuracy: 0.8882 - top-3-accuracy: 0.9882 - val_loss: 1.4519 - val_accuracy: 0.8099 - val_top-3-accuracy: 0.9676\n",
      "Epoch 46/100\n",
      "2291/2291 [==============================] - 537s 234ms/step - loss: 1.2934 - accuracy: 0.8894 - top-3-accuracy: 0.9881 - val_loss: 1.4488 - val_accuracy: 0.8115 - val_top-3-accuracy: 0.9678\n",
      "Epoch 47/100\n",
      "2291/2291 [==============================] - 540s 236ms/step - loss: 1.2920 - accuracy: 0.8899 - top-3-accuracy: 0.9883 - val_loss: 1.4449 - val_accuracy: 0.8134 - val_top-3-accuracy: 0.9683\n",
      "Epoch 48/100\n",
      "2291/2291 [==============================] - 537s 235ms/step - loss: 1.2900 - accuracy: 0.8910 - top-3-accuracy: 0.9883 - val_loss: 1.4453 - val_accuracy: 0.8138 - val_top-3-accuracy: 0.9680\n",
      "Epoch 49/100\n",
      "2291/2291 [==============================] - 537s 234ms/step - loss: 1.2891 - accuracy: 0.8914 - top-3-accuracy: 0.9885 - val_loss: 1.4425 - val_accuracy: 0.8153 - val_top-3-accuracy: 0.9683\n",
      "Epoch 50/100\n",
      "2291/2291 [==============================] - 537s 235ms/step - loss: 1.2872 - accuracy: 0.8925 - top-3-accuracy: 0.9886 - val_loss: 1.4417 - val_accuracy: 0.8163 - val_top-3-accuracy: 0.9685\n",
      "Epoch 51/100\n",
      "2291/2291 [==============================] - 537s 235ms/step - loss: 1.2857 - accuracy: 0.8933 - top-3-accuracy: 0.9889 - val_loss: 1.4482 - val_accuracy: 0.8129 - val_top-3-accuracy: 0.9681\n",
      "Epoch 52/100\n",
      "2291/2291 [==============================] - 539s 235ms/step - loss: 1.2846 - accuracy: 0.8939 - top-3-accuracy: 0.9888 - val_loss: 1.4418 - val_accuracy: 0.8170 - val_top-3-accuracy: 0.9684\n",
      "Epoch 53/100\n",
      "2291/2291 [==============================] - 536s 234ms/step - loss: 1.2826 - accuracy: 0.8954 - top-3-accuracy: 0.9890 - val_loss: 1.4398 - val_accuracy: 0.8173 - val_top-3-accuracy: 0.9684\n",
      "Epoch 54/100\n",
      "2291/2291 [==============================] - 540s 236ms/step - loss: 1.2822 - accuracy: 0.8952 - top-3-accuracy: 0.9890 - val_loss: 1.4386 - val_accuracy: 0.8185 - val_top-3-accuracy: 0.9684\n",
      "Epoch 55/100\n",
      "2291/2291 [==============================] - 538s 235ms/step - loss: 1.2798 - accuracy: 0.8968 - top-3-accuracy: 0.9892 - val_loss: 1.4365 - val_accuracy: 0.8194 - val_top-3-accuracy: 0.9684\n",
      "Epoch 56/100\n",
      "2291/2291 [==============================] - 535s 234ms/step - loss: 1.2788 - accuracy: 0.8975 - top-3-accuracy: 0.9891 - val_loss: 1.4359 - val_accuracy: 0.8202 - val_top-3-accuracy: 0.9687\n",
      "Epoch 57/100\n",
      "2291/2291 [==============================] - 538s 235ms/step - loss: 1.2778 - accuracy: 0.8981 - top-3-accuracy: 0.9893 - val_loss: 1.4387 - val_accuracy: 0.8190 - val_top-3-accuracy: 0.9685\n",
      "Epoch 58/100\n",
      "2291/2291 [==============================] - 538s 235ms/step - loss: 1.2760 - accuracy: 0.8989 - top-3-accuracy: 0.9893 - val_loss: 1.4402 - val_accuracy: 0.8179 - val_top-3-accuracy: 0.9682\n",
      "Epoch 59/100\n",
      "2291/2291 [==============================] - 538s 235ms/step - loss: 1.2745 - accuracy: 0.9000 - top-3-accuracy: 0.9894 - val_loss: 1.4345 - val_accuracy: 0.8209 - val_top-3-accuracy: 0.9686\n",
      "Epoch 60/100\n",
      "2291/2291 [==============================] - 538s 235ms/step - loss: 1.2732 - accuracy: 0.9006 - top-3-accuracy: 0.9895 - val_loss: 1.4330 - val_accuracy: 0.8225 - val_top-3-accuracy: 0.9687\n",
      "Epoch 61/100\n",
      "2291/2291 [==============================] - 537s 234ms/step - loss: 1.2720 - accuracy: 0.9012 - top-3-accuracy: 0.9897 - val_loss: 1.4317 - val_accuracy: 0.8231 - val_top-3-accuracy: 0.9686\n",
      "Epoch 62/100\n",
      "2291/2291 [==============================] - 539s 235ms/step - loss: 1.2707 - accuracy: 0.9021 - top-3-accuracy: 0.9897 - val_loss: 1.4323 - val_accuracy: 0.8228 - val_top-3-accuracy: 0.9688\n",
      "Epoch 63/100\n",
      "2291/2291 [==============================] - 541s 236ms/step - loss: 1.2694 - accuracy: 0.9028 - top-3-accuracy: 0.9899 - val_loss: 1.4274 - val_accuracy: 0.8256 - val_top-3-accuracy: 0.9691\n",
      "Epoch 64/100\n",
      "2291/2291 [==============================] - 540s 236ms/step - loss: 1.2682 - accuracy: 0.9035 - top-3-accuracy: 0.9899 - val_loss: 1.4271 - val_accuracy: 0.8257 - val_top-3-accuracy: 0.9690\n",
      "Epoch 65/100\n",
      "2291/2291 [==============================] - 539s 235ms/step - loss: 1.2667 - accuracy: 0.9045 - top-3-accuracy: 0.9901 - val_loss: 1.4279 - val_accuracy: 0.8257 - val_top-3-accuracy: 0.9689\n",
      "Epoch 66/100\n",
      "2291/2291 [==============================] - 536s 234ms/step - loss: 1.2658 - accuracy: 0.9047 - top-3-accuracy: 0.9901 - val_loss: 1.4314 - val_accuracy: 0.8241 - val_top-3-accuracy: 0.9686\n",
      "Epoch 67/100\n",
      "2291/2291 [==============================] - 537s 235ms/step - loss: 1.2646 - accuracy: 0.9054 - top-3-accuracy: 0.9901 - val_loss: 1.4260 - val_accuracy: 0.8263 - val_top-3-accuracy: 0.9692\n",
      "Epoch 68/100\n",
      "2291/2291 [==============================] - 536s 234ms/step - loss: 1.2631 - accuracy: 0.9062 - top-3-accuracy: 0.9903 - val_loss: 1.4252 - val_accuracy: 0.8275 - val_top-3-accuracy: 0.9692\n",
      "Epoch 69/100\n",
      "2291/2291 [==============================] - 535s 233ms/step - loss: 1.2618 - accuracy: 0.9071 - top-3-accuracy: 0.9903 - val_loss: 1.4271 - val_accuracy: 0.8257 - val_top-3-accuracy: 0.9689\n",
      "Epoch 70/100\n",
      "2291/2291 [==============================] - 537s 235ms/step - loss: 1.2613 - accuracy: 0.9075 - top-3-accuracy: 0.9903 - val_loss: 1.4243 - val_accuracy: 0.8271 - val_top-3-accuracy: 0.9696\n",
      "Epoch 71/100\n",
      "2291/2291 [==============================] - 537s 235ms/step - loss: 1.2592 - accuracy: 0.9085 - top-3-accuracy: 0.9904 - val_loss: 1.4286 - val_accuracy: 0.8260 - val_top-3-accuracy: 0.9689\n",
      "Epoch 72/100\n",
      "2291/2291 [==============================] - 536s 234ms/step - loss: 1.2585 - accuracy: 0.9088 - top-3-accuracy: 0.9906 - val_loss: 1.4185 - val_accuracy: 0.8313 - val_top-3-accuracy: 0.9693\n",
      "Epoch 73/100\n",
      "2291/2291 [==============================] - 539s 235ms/step - loss: 1.2575 - accuracy: 0.9095 - top-3-accuracy: 0.9906 - val_loss: 1.4250 - val_accuracy: 0.8276 - val_top-3-accuracy: 0.9694\n",
      "Epoch 74/100\n",
      "2291/2291 [==============================] - 541s 236ms/step - loss: 1.2566 - accuracy: 0.9101 - top-3-accuracy: 0.9906 - val_loss: 1.4205 - val_accuracy: 0.8306 - val_top-3-accuracy: 0.9693\n",
      "Epoch 75/100\n",
      "2291/2291 [==============================] - 542s 236ms/step - loss: 1.2548 - accuracy: 0.9111 - top-3-accuracy: 0.9908 - val_loss: 1.4212 - val_accuracy: 0.8299 - val_top-3-accuracy: 0.9694\n",
      "Epoch 76/100\n",
      "2291/2291 [==============================] - 535s 233ms/step - loss: 1.2536 - accuracy: 0.9117 - top-3-accuracy: 0.9909 - val_loss: 1.4179 - val_accuracy: 0.8322 - val_top-3-accuracy: 0.9696\n",
      "Epoch 77/100\n",
      "2291/2291 [==============================] - 540s 236ms/step - loss: 1.2526 - accuracy: 0.9119 - top-3-accuracy: 0.9909 - val_loss: 1.4159 - val_accuracy: 0.8335 - val_top-3-accuracy: 0.9698\n",
      "Epoch 78/100\n",
      "2291/2291 [==============================] - 538s 235ms/step - loss: 1.2513 - accuracy: 0.9128 - top-3-accuracy: 0.9910 - val_loss: 1.4133 - val_accuracy: 0.8345 - val_top-3-accuracy: 0.9701\n",
      "Epoch 79/100\n",
      "2291/2291 [==============================] - 541s 236ms/step - loss: 1.2500 - accuracy: 0.9137 - top-3-accuracy: 0.9911 - val_loss: 1.4166 - val_accuracy: 0.8334 - val_top-3-accuracy: 0.9696\n",
      "Epoch 80/100\n",
      "2291/2291 [==============================] - 539s 235ms/step - loss: 1.2490 - accuracy: 0.9141 - top-3-accuracy: 0.9912 - val_loss: 1.4158 - val_accuracy: 0.8334 - val_top-3-accuracy: 0.9699\n",
      "Epoch 81/100\n",
      "2291/2291 [==============================] - 538s 235ms/step - loss: 1.2483 - accuracy: 0.9145 - top-3-accuracy: 0.9912 - val_loss: 1.4179 - val_accuracy: 0.8323 - val_top-3-accuracy: 0.9693\n",
      "Epoch 82/100\n",
      "2291/2291 [==============================] - 539s 235ms/step - loss: 1.2465 - accuracy: 0.9157 - top-3-accuracy: 0.9913 - val_loss: 1.4165 - val_accuracy: 0.8328 - val_top-3-accuracy: 0.9696\n",
      "Epoch 83/100\n",
      "2291/2291 [==============================] - 538s 235ms/step - loss: 1.2457 - accuracy: 0.9161 - top-3-accuracy: 0.9913 - val_loss: 1.4126 - val_accuracy: 0.8358 - val_top-3-accuracy: 0.9697\n",
      "Epoch 84/100\n",
      "2291/2291 [==============================] - 535s 234ms/step - loss: 1.2444 - accuracy: 0.9167 - top-3-accuracy: 0.9915 - val_loss: 1.4120 - val_accuracy: 0.8358 - val_top-3-accuracy: 0.9700\n",
      "Epoch 85/100\n",
      "2291/2291 [==============================] - 538s 235ms/step - loss: 1.2436 - accuracy: 0.9173 - top-3-accuracy: 0.9915 - val_loss: 1.4086 - val_accuracy: 0.8378 - val_top-3-accuracy: 0.9700\n",
      "Epoch 86/100\n",
      "2291/2291 [==============================] - 538s 235ms/step - loss: 1.2427 - accuracy: 0.9177 - top-3-accuracy: 0.9915 - val_loss: 1.4115 - val_accuracy: 0.8361 - val_top-3-accuracy: 0.9701\n",
      "Epoch 87/100\n",
      "2291/2291 [==============================] - 539s 235ms/step - loss: 1.2416 - accuracy: 0.9181 - top-3-accuracy: 0.9916 - val_loss: 1.4099 - val_accuracy: 0.8380 - val_top-3-accuracy: 0.9698\n",
      "Epoch 88/100\n",
      "2291/2291 [==============================] - 541s 236ms/step - loss: 1.2406 - accuracy: 0.9188 - top-3-accuracy: 0.9917 - val_loss: 1.4081 - val_accuracy: 0.8389 - val_top-3-accuracy: 0.9701\n",
      "Epoch 89/100\n",
      "2291/2291 [==============================] - 539s 235ms/step - loss: 1.2396 - accuracy: 0.9192 - top-3-accuracy: 0.9917 - val_loss: 1.4055 - val_accuracy: 0.8399 - val_top-3-accuracy: 0.9703\n",
      "Epoch 90/100\n",
      "2291/2291 [==============================] - 538s 235ms/step - loss: 1.2389 - accuracy: 0.9199 - top-3-accuracy: 0.9918 - val_loss: 1.4106 - val_accuracy: 0.8378 - val_top-3-accuracy: 0.9696\n",
      "Epoch 91/100\n",
      "2291/2291 [==============================] - 542s 236ms/step - loss: 1.2384 - accuracy: 0.9198 - top-3-accuracy: 0.9919 - val_loss: 1.4145 - val_accuracy: 0.8350 - val_top-3-accuracy: 0.9697\n",
      "Epoch 92/100\n",
      "2291/2291 [==============================] - 539s 235ms/step - loss: 1.2367 - accuracy: 0.9209 - top-3-accuracy: 0.9919 - val_loss: 1.4070 - val_accuracy: 0.8399 - val_top-3-accuracy: 0.9701\n",
      "Epoch 93/100\n",
      "2291/2291 [==============================] - 540s 236ms/step - loss: 1.2355 - accuracy: 0.9216 - top-3-accuracy: 0.9920 - val_loss: 1.4020 - val_accuracy: 0.8416 - val_top-3-accuracy: 0.9708\n",
      "Epoch 94/100\n",
      "2291/2291 [==============================] - 536s 234ms/step - loss: 1.2346 - accuracy: 0.9222 - top-3-accuracy: 0.9920 - val_loss: 1.4110 - val_accuracy: 0.8381 - val_top-3-accuracy: 0.9696\n",
      "Epoch 95/100\n",
      "2291/2291 [==============================] - 535s 234ms/step - loss: 1.2339 - accuracy: 0.9223 - top-3-accuracy: 0.9921 - val_loss: 1.4025 - val_accuracy: 0.8416 - val_top-3-accuracy: 0.9706\n",
      "Epoch 96/100\n",
      "2291/2291 [==============================] - 538s 235ms/step - loss: 1.2330 - accuracy: 0.9232 - top-3-accuracy: 0.9922 - val_loss: 1.4017 - val_accuracy: 0.8425 - val_top-3-accuracy: 0.9704\n",
      "Epoch 97/100\n",
      "2291/2291 [==============================] - 535s 233ms/step - loss: 1.2311 - accuracy: 0.9239 - top-3-accuracy: 0.9921 - val_loss: 1.4011 - val_accuracy: 0.8426 - val_top-3-accuracy: 0.9705\n",
      "Epoch 98/100\n",
      "2291/2291 [==============================] - 536s 234ms/step - loss: 1.2305 - accuracy: 0.9244 - top-3-accuracy: 0.9922 - val_loss: 1.4034 - val_accuracy: 0.8417 - val_top-3-accuracy: 0.9704\n",
      "Epoch 99/100\n",
      "2291/2291 [==============================] - 537s 235ms/step - loss: 1.2299 - accuracy: 0.9246 - top-3-accuracy: 0.9924 - val_loss: 1.4032 - val_accuracy: 0.8425 - val_top-3-accuracy: 0.9704\n",
      "Epoch 100/100\n",
      "2291/2291 [==============================] - 538s 235ms/step - loss: 1.2288 - accuracy: 0.9253 - top-3-accuracy: 0.9924 - val_loss: 1.4015 - val_accuracy: 0.8434 - val_top-3-accuracy: 0.9703\n",
      "WARNING:tensorflow:Layer lstm_6 will not use cuDNN kernels since it doesn't meet the criteria. It will use a generic GPU kernel as fallback when running on GPU.\n",
      "WARNING:tensorflow:Layer lstm_7 will not use cuDNN kernels since it doesn't meet the criteria. It will use a generic GPU kernel as fallback when running on GPU.\n",
      "WARNING:tensorflow:Layer lstm_8 will not use cuDNN kernels since it doesn't meet the criteria. It will use a generic GPU kernel as fallback when running on GPU.\n",
      "Could not automatically populate Loss_function\n",
      "Accuracy_per_epoch could not be automatically populated\n",
      "Could not automatically populate Loss_per_epoch\n",
      "Could not automatically populate Model_config\n",
      "Fields to be updated include: ['Loss_function', 'accuracy', 'loss', 'Model_config']\n"
     ]
    }
   ],
   "source": [
    "# Custom ResNet + LSTM model\n",
    "\n",
    "num_epochs = 100\n",
    "batch_size = 512\n",
    "learning_rate = 5e-3\n",
    "\n",
    "input_shape = (x_train.shape[1:]) + (1,) #input_shape = (21,5,) #x_train.shape[2]\n",
    "\n",
    "def ResNetBlock(x,dropout):\n",
    "    x =   layers.Conv2D(filters=64, kernel_size=5, padding=\"same\")(x) #input_layer\n",
    "    conv1 = layers.Conv2D(filters=64, kernel_size=5, padding=\"same\")(x) # input_layer, Conv1D\n",
    "    conv1 = layers.Dropout(dropout)(conv1)\n",
    "    conv1 = layers.BatchNormalization()(conv1)\n",
    "    conv1 = layers.ReLU()(conv1)\n",
    "\n",
    "    conv2 = layers.Conv2D(filters=64, kernel_size=3, padding=\"same\")(conv1)\n",
    "    conv2 = layers.Dropout(dropout)(conv2)\n",
    "    conv2 = layers.BatchNormalization()(conv2)\n",
    "    conv2 = layers.ReLU()(conv2)\n",
    "\n",
    "    conv3 = layers.Conv2D(filters=64, kernel_size=3, padding=\"same\")(conv2)\n",
    "    conv3 = layers.Dropout(dropout)(conv3)\n",
    "    conv3 = layers.BatchNormalization()(conv3)\n",
    "    conv3 = layers.ReLU()(conv3)\n",
    "    \n",
    "    conv3 = layers.Conv2D(filters=64, kernel_size=3, padding=\"same\")(conv2)\n",
    "    conv3 = layers.Dropout(dropout)(conv3)\n",
    "    conv3 = layers.BatchNormalization()(conv3)\n",
    "    conv3 = layers.ReLU()(conv3)\n",
    "    \n",
    "    conv3 = layers.add([x,conv3])\n",
    "    x = layers.ReLU()(conv3) # Overwrite x\n",
    "    \n",
    "    return x\n",
    "\n",
    "\n",
    "def build_model(\n",
    "    input_shape,\n",
    "    head_size,  \n",
    "    mlp_units,\n",
    "    dropout,\n",
    "    mlp_dropout,\n",
    "):\n",
    "    inputs = tf.keras.Input(shape=input_shape)  \n",
    "    \n",
    "    x = layers.Conv2D(filters=32, kernel_size=3, padding=\"same\")(inputs)\n",
    "    for _ in range(5):\n",
    "        x = ResNetBlock(x,dropout)        \n",
    "    x = tf.reduce_sum(x,axis=-1)\n",
    "    \n",
    "    x = layers.LSTM(head_size,recurrent_dropout=0.1, return_sequences=True)(x) #input_shape=(x.shape[1:]),\n",
    "    x = layers.LSTM(head_size,recurrent_dropout=0.1, return_sequences=True)(x)\n",
    "    #x = layers.LSTM(head_size,recurrent_dropout=0.1, return_sequences=True)(x)\n",
    "    x = layers.LSTM(64,recurrent_dropout= 0.3)(x)\n",
    "\n",
    "       \n",
    "    #for dim in mlp_units:  x = layers.Dense(dim, activation=\"relu\")(x)\n",
    "    x = layers.Dense(mlp_units, activation=\"relu\")(x)\n",
    "    x = layers.Dropout(mlp_dropout)(x)\n",
    "    outputs = layers.Dense(num_classes, activation=\"softmax\")(x)\n",
    "    return tf.keras.Model(inputs, outputs,name =\"RowBlockLSTM\"+time_stamp)\n",
    "\n",
    "head_size = 512 # 128, 256,64\n",
    "mlp_units=512  # 128\n",
    "mlp_dropout=0.1     #0.4\n",
    "dropout=0.15          #0.25\n",
    "\n",
    "model = build_model(input_shape,head_size = head_size,mlp_units=mlp_units, mlp_dropout= mlp_dropout, dropout=dropout)\n",
    "model.summary()\n",
    "\n",
    "## Logging tools\n",
    "wandb.config = {\n",
    "  \"learning_rate\": \"learning_rate\",\n",
    "  \"epochs\": num_epochs, \n",
    "  \"batch_size\": batch_size,\n",
    "  #\"nodes\": nodes,\n",
    "  \"row_length\":row_length,\n",
    "  \"base_path\":base_path,\n",
    "  \"head_size\":head_size, \n",
    "  # \"ff_dim\":ff_dim, \"num_transformer_blocks\":num_transformer_blocks,\"num_heads\":num_heads,\n",
    "  \"mlp_units\":mlp_units, \"mlp_dropout\":mlp_dropout,\n",
    "  \"dropout\":dropout\n",
    "}\n",
    "\n",
    "# Update Wandb fieds with more params\n",
    "wandb.config.update(log)\n",
    "\n",
    "# Update log['extras']\n",
    "log['extras'][0].update(wandb.config)\n",
    "#### ===== End of logging ========\n",
    "\n",
    "\n",
    "\n",
    "# Poly Rate scheduler\n",
    "starter_learning_rate = 0.1\n",
    "end_learning_rate = 0.0001\n",
    "decay_steps = 10000\n",
    "learning_rate_fn = tf.keras.optimizers.schedules.PolynomialDecay(\n",
    "    starter_learning_rate,\n",
    "    decay_steps,\n",
    "    end_learning_rate,\n",
    "    power=0.25)\n",
    "\n",
    "\n",
    "# Callbacks\n",
    "callbacks = [\n",
    "    ModelCheckpoint(\"RowBlockLSTM_dropout.h5\", save_best_only=True, monitor=\"val_loss\"),\n",
    "    ReduceLROnPlateau(monitor=\"val_loss\", factor=0.1, patience=3, min_lr=0.0001),\n",
    "    #EarlyStopping(monitor=\"val_loss\", patience=25, verbose=1), \n",
    "    WandbCallback()\n",
    "]\n",
    "\n",
    "opt1 = tf.keras.optimizers.RMSprop(learning_rate=1e-3,rho=0.9,momentum=0.9, epsilon=1e-07,centered=True,name=\"RMSprop\")\n",
    "opt2 = tf.keras.optimizers.Adam(learning_rate=learning_rate,amsgrad=True)\n",
    "opt3 = tf.keras.optimizers.SGD(learning_rate=learning_rate, momentum=0.99, nesterov=True, name=\"SGD\")\n",
    "poly_rate = tf.keras.optimizers.SGD(learning_rate = learning_rate_fn)\n",
    "\n",
    "top_K = 3\n",
    "start_time = datetime.strftime( datetime.now(),'%d_%B_%y_%H%M')\n",
    "\n",
    "print(f'Training start time:{start_time}')\n",
    "\n",
    "# model.compile( optimizer = opt, loss= 'categorical_crossentropy', metrics=['accuracy',tf.keras.metrics.TopKCategoricalAccuracy(top_K, name=\"top-3-accuracy\")])  #label_smoothing=0.05, tf.keras.losses.KLDivergence()\n",
    "#model.compile( optimizer=opt1,loss=\"sparse_categorical_crossentropy\" , metrics=[\"sparse_categorical_accuracy\"],) #\"sparse_categorical_crossentropy\" , sparse_categorical_accuracy\", tf.keras.losses.CategoricalCrossentropy(label_smoothing=0.3)\n",
    "\n",
    "model.compile( optimizer=opt3,loss=tf.keras.losses.CategoricalCrossentropy(label_smoothing=0.2) , \n",
    "              metrics=[\"accuracy\", tf.keras.metrics.TopKCategoricalAccuracy(top_K, name=\"top-3-accuracy\")], ) #\"sparse_categorical_crossentropy\" , sparse_categorical_accuracy\", tf.keras.losses.CategoricalCrossentropy(label_smoothing=0.3)\n",
    "\n",
    "\n",
    "history = model.fit(x_train, y_train_1hot,\n",
    "          epochs= num_epochs, \n",
    "          batch_size= batch_size, \n",
    "          validation_split = 0.3,\n",
    "          # validation_data=(x_test, y_test_1hot),\n",
    "         callbacks=callbacks) #mcp_save, callbacks=[reduce_lr_loss]\n",
    "\n",
    "model = tf.keras.models.load_model(\"RowBlockLSTM_dropout.h5\")\n",
    "\n",
    "# Update manual log file\n",
    "params_to_be_updated = update_log_entry('../testing_sheet2.xlsx', log_idx, model, history)"
   ]
  },
  {
   "cell_type": "code",
   "execution_count": 18,
   "id": "e01cf82b-9581-4ecb-a9ec-65d638355bc4",
   "metadata": {},
   "outputs": [
    {
     "name": "stdout",
     "output_type": "stream",
     "text": [
      "Could not get file name: auto-generating name\n",
      "Activation_function not in workspace\n",
      "loss_function not in workspace\n",
      "Loss_per_epoch not in workspace\n",
      "Stop_time not in workspace\n",
      "Current run hyper_params are dict_keys(['S_N', 'Start_time', 'NoteBook_name', 'Uniqueness_of_each_run', 'Base_dir', 'Train_shape', 'Output_shape', 'num_epochs', 'Activation_function', 'optimizer', 'learning_rate', 'loss_function', 'Accuracy_per_epoch', 'Loss_per_epoch', 'Stop_time', 'Model_config', 'Performance_on_test_set', 'output_path', 'shuffle', 'Computer_name', 'extras']):dict_values([21, '12_January_22_1132', 'NewAttention_RowBlockLSTM1', 'Using Old data from its source', '../../../Python_Env/final_layers_rowblock15_21/filtered_image/new_echo_cnn_in_out_jstars3.mat', (1675520, 9, 21), '', '', '', '', '', '', '44%', '', '', '', '', '', 1, 'AQ-98JH673', [{'standardize': False, 'learning_rate': '', 'epochs': 100, 'batch_size': '', 'row_length': 21, 'base_path': '../../../Python_Env/final_layers_rowblock15_21/filtered_image/new_echo_cnn_in_out_jstars3.mat', 'head_size': 512, 'mlp_units': 512, 'mlp_dropout': 0.1, 'dropout': 0.15, 'Notebook_name': 'NewAttention_RowBlockLSTM1', 'Uniqueness_of_each_run': 'Previous run 250+70 epochs of LSTM had acc ~40%: Increased number of RNN layers and included Conv before LSTM- ', 'base_dir': '../../../Python_Env/final_layers_rowblock15_21/filtered_image/new_echo_cnn_in_out_jstars3.mat', 'Train_shape': (1675520, 9, 21), 'Output_shape': '', 'num_epochs': '', 'activation_function': '', 'optimizer': '', 'loss_finction': '', 'accuracy': [], 'loss': [], 'stop_time': '', 'Model_config': '', 'Performance_on_test_set': '', 'output_path': '', 'shuffle': 1, 'run_completion_comment': 'First time training LSTM on FilteredFiltered Old data. BEST accuracy(92%) so far but yet to try on val data', 'extras': [...], 'S_N': 21}]])\n",
      "Fields to be updated include: ['Activation_function', 'loss_function', 'Loss_per_epoch', 'Stop_time', 'Model_config']\n"
     ]
    }
   ],
   "source": [
    "log['Uniqueness_of_each_run'] = 'Using Old data from its source'\n",
    "run_completion_comment = f'First time training LSTM on FilteredFiltered Old data. BEST accuracy(92%) so far but yet to try on val data'\n",
    "if \"log_idx\" in globals():\n",
    "    log[\"S_N\"] = log_idx\n",
    "    log['extras'][0]['run_completion_comment'] = run_completion_comment #'Accuracy_per_epoch'\n",
    "    log['Accuracy_per_epoch'] = '44%'\n",
    "    log_idx = create_log_entry('../testing_sheet2.xlsx', log)"
   ]
  },
  {
   "cell_type": "code",
   "execution_count": 34,
   "id": "900b0f69-6c63-49e6-8421-b7e5362b5c45",
   "metadata": {},
   "outputs": [
    {
     "data": {
      "image/png": "[encoded data removed]",
      "text/plain": [
       "<Figure size 432x288 with 1 Axes>"
      ]
     },
     "metadata": {
      "needs_background": "light"
     },
     "output_type": "display_data"
    },
    {
     "data": {
      "image/png": "[encoded data removed]",
      "text/plain": [
       "<Figure size 432x288 with 1 Axes>"
      ]
     },
     "metadata": {
      "needs_background": "light"
     },
     "output_type": "display_data"
    }
   ],
   "source": [
    "def PlotCurves(model_history):\n",
    "    plt.plot(model_history.history['accuracy'],label = 'train')\n",
    "    plt.grid(color = 'r', linestyle = '--', linewidth = .1)    \n",
    "    #plt.figure()\n",
    "    plt.plot(model_history.history['val_accuracy'],label = 'validation')\n",
    "   \n",
    "    plt.ylabel('Accuracy');\n",
    "    plt.xlabel('Epochs');\n",
    "    \n",
    "    plt.title('Training vs Validation accuracy');\n",
    "    plt.legend()\n",
    "    \n",
    "    plt.figure()\n",
    "    \n",
    "    plt.plot(model_history.history['loss'],label = 'train')\n",
    "    plt.grid(color = 'r', linestyle = '--', linewidth = .1)    \n",
    "    plt.plot(model_history.history['val_loss'],label = 'validation')\n",
    "   \n",
    "    plt.ylabel('Loss');\n",
    "    plt.xlabel('Epochs');\n",
    "    \n",
    "    plt.title('Training vs Validation Losses');\n",
    "    plt.legend()\n",
    "    return None\n",
    "\n",
    "PlotCurves(history)"
   ]
  },
  {
   "cell_type": "code",
   "execution_count": 28,
   "id": "5dbda035-6b46-4b65-9359-1c1f7e2611cd",
   "metadata": {},
   "outputs": [
    {
     "name": "stdout",
     "output_type": "stream",
     "text": [
      " Exact accuracy is  78.09492 %\n",
      " Top 5% accuracy is  88.43487 %\n"
     ]
    }
   ],
   "source": [
    "# Test model manually on all val data\n",
    "\n",
    "y_pred = [ np.argmax(model.predict(np.expand_dims(x_val[idx],axis=0))) for idx in range(len(x_val)) ]\n",
    "\n",
    "combined_result = zip(y_val,y_pred)\n",
    "\n",
    "val_exact_accuracy = 100 * sum([1 if y_pred[idx]==y_val[idx]   else 0 for idx in range(len(y_pred)) ]) / len(y_pred)\n",
    "val_margin5_accuracy = 100 * sum([1 if abs(y_pred[idx]-y_val[idx]) < 5 else 0 for idx in range(len(y_pred)) ]) / len(y_pred)\n",
    "\n",
    "print(f' Exact accuracy is {val_exact_accuracy: .5f} %')\n",
    "print(f' Top 5% accuracy is {val_margin5_accuracy: .5f} %')\n",
    "\n"
   ]
  },
  {
   "cell_type": "code",
   "execution_count": 35,
   "id": "43003c33-f2e8-4981-a601-84b1765ab943",
   "metadata": {},
   "outputs": [
    {
     "name": "stdout",
     "output_type": "stream",
     "text": [
      "3273/3273 [==============================] - 102s 31ms/step - loss: 1.5639 - accuracy: 0.7809 - top-3-accuracy: 0.9386\n",
      "Test accuracy: 78.09%\n",
      "Test top 5 accuracy: 93.86%\n"
     ]
    },
    {
     "name": "stderr",
     "output_type": "stream",
     "text": [
      "C:\\Users\\i368o351\\.conda\\envs\\ibk_tf_2.6\\lib\\site-packages\\keras\\utils\\generic_utils.py:494: CustomMaskWarning: Custom mask layers require a config and must override get_config. When loading, the custom mask layer must be passed to the custom_objects argument.\n",
      "  warnings.warn('Custom mask layers require a config and must override '\n"
     ]
    }
   ],
   "source": [
    "# Convert labels to categorical orthonormal vectors\n",
    "y_val_1hot = tf.keras.utils.to_categorical(y_val, num_classes)\n",
    "\n",
    "_, accuracy,top3_acc = model.evaluate(x_val, y_val_1hot)\n",
    "print(f\"Test accuracy: {round(accuracy * 100, 2)}%\")\n",
    "print(f\"Test top 5 accuracy: {round(top3_acc * 100, 2)}%\")\n",
    "\n",
    "_,new_col_length,new_row_length = x_train.shape \n",
    "model.save(f'{base_path}//{ipynbname.name()}//{time_stamp}_Acc_{accuracy:.3f}_Top3Acc{top3_acc:.3f}_{new_row_length}x{new_col_length}.h5') # Last percentage is 46.85, New:52.4"
   ]
  },
  {
   "cell_type": "code",
   "execution_count": null,
   "id": "f501e446-69db-49bc-ab0a-e11030d0dec6",
   "metadata": {},
   "outputs": [],
   "source": []
  },
  {
   "cell_type": "code",
   "execution_count": 84,
   "id": "5906633e-2153-47af-acdc-121a3625b199",
   "metadata": {},
   "outputs": [],
   "source": [
    "# Confusion Matrix and ROC/AUC\n",
    "\n",
    "model_predictions = np.asarray(y_pred)\n",
    "ground_truth = y_val.squeeze()\n",
    "\n",
    "# Prediction per Ground-truth class\n",
    "class_predictions = [ model_predictions[ground_truth==idx]  for idx in range(num_classes) ]\n",
    "\n",
    "# Confusion matrix\n",
    "confusion_mtx = np.zeros((num_classes,num_classes) )\n",
    "\n",
    "for pred,actual in zip(y_pred,y_val): # Rows=Prediction, Columns = Actual\n",
    "    confusion_mtx[pred,actual] +=1"
   ]
  },
  {
   "cell_type": "code",
   "execution_count": 136,
   "id": "475f7b9d-5af5-4242-aec0-e0f87ac6b665",
   "metadata": {},
   "outputs": [
    {
     "data": {
      "image/png": "[encoded data removed]",
      "text/plain": [
       "<Figure size 700x1500 with 2 Axes>"
      ]
     },
     "metadata": {
      "needs_background": "light"
     },
     "output_type": "display_data"
    }
   ],
   "source": [
    "from mpl_toolkits.axes_grid1 import make_axes_locatable\n",
    "\n",
    "fig, ax = plt.subplots(figsize=(7,15),dpi = 100);\n",
    "shw=ax.imshow(confusion_mtx)\n",
    "#bar= plt.colorbar(shw)\n",
    "\n",
    "_=plt.ylabel('Predictions')\n",
    "_=plt.xlabel('Actual Class')\n",
    "_=plt.title('Confusion matrix')\n",
    "\n",
    "# ax.set_xticklabels(list(range(num_classes)))\n",
    "# ax.set_yticklabels(list(range(num_classes)))\n",
    "\n",
    "# create an axes on the right side of ax. The width of cax will be 5%\n",
    "# of ax and the padding between cax and ax will be fixed at 0.05 inch.\n",
    "divider = make_axes_locatable(ax)\n",
    "cax = divider.append_axes(\"right\", size=\"5%\", pad=0.05)\n",
    "#bar.set_label('ColorBar')\n",
    "_ = plt.colorbar(shw, cax=cax)"
   ]
  },
  {
   "cell_type": "code",
   "execution_count": 96,
   "id": "970ef2b9-5f5f-401c-b024-4184eea46609",
   "metadata": {},
   "outputs": [
    {
     "data": {
      "image/png": "[encoded data removed]",
      "text/plain": [
       "<Figure size 432x288 with 1 Axes>"
      ]
     },
     "metadata": {
      "needs_background": "light"
     },
     "output_type": "display_data"
    },
    {
     "data": {
      "image/png": "[encoded data removed]",
      "text/plain": [
       "<Figure size 432x288 with 1 Axes>"
      ]
     },
     "metadata": {
      "needs_background": "light"
     },
     "output_type": "display_data"
    },
    {
     "data": {
      "image/png": "[encoded data removed]",
      "text/plain": [
       "<Figure size 432x288 with 1 Axes>"
      ]
     },
     "metadata": {
      "needs_background": "light"
     },
     "output_type": "display_data"
    },
    {
     "data": {
      "image/png": "[encoded data removed]",
      "text/plain": [
       "<Figure size 432x288 with 1 Axes>"
      ]
     },
     "metadata": {
      "needs_background": "light"
     },
     "output_type": "display_data"
    },
    {
     "data": {
      "image/png": "[encoded data removed]",
      "text/plain": [
       "<Figure size 432x288 with 1 Axes>"
      ]
     },
     "metadata": {
      "needs_background": "light"
     },
     "output_type": "display_data"
    },
    {
     "data": {
      "image/png": "[encoded data removed]",
      "text/plain": [
       "<Figure size 432x288 with 1 Axes>"
      ]
     },
     "metadata": {
      "needs_background": "light"
     },
     "output_type": "display_data"
    },
    {
     "data": {
      "image/png": "[encoded data removed]",
      "text/plain": [
       "<Figure size 432x288 with 1 Axes>"
      ]
     },
     "metadata": {
      "needs_background": "light"
     },
     "output_type": "display_data"
    },
    {
     "data": {
      "image/png": "[encoded data removed]",
      "text/plain": [
       "<Figure size 432x288 with 1 Axes>"
      ]
     },
     "metadata": {
      "needs_background": "light"
     },
     "output_type": "display_data"
    },
    {
     "data": {
      "image/png": "[encoded data removed]",
      "text/plain": [
       "<Figure size 432x288 with 1 Axes>"
      ]
     },
     "metadata": {
      "needs_background": "light"
     },
     "output_type": "display_data"
    },
    {
     "data": {
      "image/png": "[encoded data removed]",
      "text/plain": [
       "<Figure size 432x288 with 1 Axes>"
      ]
     },
     "metadata": {
      "needs_background": "light"
     },
     "output_type": "display_data"
    },
    {
     "data": {
      "image/png": "[encoded data removed]",
      "text/plain": [
       "<Figure size 432x288 with 1 Axes>"
      ]
     },
     "metadata": {
      "needs_background": "light"
     },
     "output_type": "display_data"
    },
    {
     "data": {
      "image/png": "[encoded data removed]",
      "text/plain": [
       "<Figure size 432x288 with 1 Axes>"
      ]
     },
     "metadata": {
      "needs_background": "light"
     },
     "output_type": "display_data"
    },
    {
     "data": {
      "image/png": "[encoded data removed]",
      "text/plain": [
       "<Figure size 432x288 with 1 Axes>"
      ]
     },
     "metadata": {
      "needs_background": "light"
     },
     "output_type": "display_data"
    },
    {
     "data": {
      "image/png": "[encoded data removed]",
      "text/plain": [
       "<Figure size 432x288 with 1 Axes>"
      ]
     },
     "metadata": {
      "needs_background": "light"
     },
     "output_type": "display_data"
    },
    {
     "data": {
      "image/png": "[encoded data removed]",
      "text/plain": [
       "<Figure size 432x288 with 1 Axes>"
      ]
     },
     "metadata": {
      "needs_background": "light"
     },
     "output_type": "display_data"
    },
    {
     "data": {
      "image/png": "[encoded data removed]",
      "text/plain": [
       "<Figure size 432x288 with 1 Axes>"
      ]
     },
     "metadata": {
      "needs_background": "light"
     },
     "output_type": "display_data"
    },
    {
     "data": {
      "image/png": "[encoded data removed]",
      "text/plain": [
       "<Figure size 432x288 with 1 Axes>"
      ]
     },
     "metadata": {
      "needs_background": "light"
     },
     "output_type": "display_data"
    },
    {
     "data": {
      "image/png": "[encoded data removed]",
      "text/plain": [
       "<Figure size 432x288 with 1 Axes>"
      ]
     },
     "metadata": {
      "needs_background": "light"
     },
     "output_type": "display_data"
    },
    {
     "data": {
      "image/png": "[encoded data removed]",
      "text/plain": [
       "<Figure size 432x288 with 1 Axes>"
      ]
     },
     "metadata": {
      "needs_background": "light"
     },
     "output_type": "display_data"
    },
    {
     "data": {
      "image/png": "[encoded data removed]",
      "text/plain": [
       "<Figure size 432x288 with 1 Axes>"
      ]
     },
     "metadata": {
      "needs_background": "light"
     },
     "output_type": "display_data"
    },
    {
     "data": {
      "image/png": "[encoded data removed]",
      "text/plain": [
       "<Figure size 432x288 with 1 Axes>"
      ]
     },
     "metadata": {
      "needs_background": "light"
     },
     "output_type": "display_data"
    },
    {
     "data": {
      "image/png": "[encoded data removed]",
      "text/plain": [
       "<Figure size 432x288 with 1 Axes>"
      ]
     },
     "metadata": {
      "needs_background": "light"
     },
     "output_type": "display_data"
    }
   ],
   "source": [
    "# Histogram of each class prediction\n",
    "for idx,each_class in enumerate(class_predictions):\n",
    "    _ = plt.figure()\n",
    "    _ = plt.title('Class %s'%idx)\n",
    "    labels, counts = np.unique(each_class, return_counts=True)\n",
    "    _ = plt.bar(labels, counts, align='center')\n",
    "    _ = plt.gca().set_xticks(labels)\n",
    "    _ = plt.show()"
   ]
  },
  {
   "cell_type": "code",
   "execution_count": 147,
   "id": "0d0115b5-eb22-4082-b2ed-b0fdea37b012",
   "metadata": {},
   "outputs": [
    {
     "name": "stdout",
     "output_type": "stream",
     "text": [
      "              precision    recall  f1-score   support\n",
      "\n",
      "           0       0.94      0.85      0.89      6026\n",
      "           1       1.00      0.00      0.00         1\n",
      "           2       1.00      1.00      1.00         0\n",
      "           3       1.00      0.00      0.00         1\n",
      "           4       1.00      0.00      0.00         4\n",
      "           5       0.49      0.29      0.36       142\n",
      "           6       0.50      0.46      0.48       482\n",
      "           7       0.56      0.40      0.47      1536\n",
      "           8       0.68      0.68      0.68      5561\n",
      "           9       0.73      0.74      0.73      9359\n",
      "          10       0.73      0.72      0.72      9623\n",
      "          11       0.76      0.74      0.75     10508\n",
      "          12       0.77      0.80      0.79     13195\n",
      "          13       0.80      0.83      0.82     14004\n",
      "          14       0.85      0.85      0.85     14029\n",
      "          15       0.85      0.89      0.87     10712\n",
      "          16       0.81      0.81      0.81      4559\n",
      "          17       0.74      0.70      0.72      1892\n",
      "          18       0.68      0.63      0.66      1188\n",
      "          19       0.59      0.67      0.63      1102\n",
      "          20       0.48      0.51      0.49       573\n",
      "          21       0.33      0.13      0.19       223\n",
      "\n",
      "   micro avg       0.78      0.78      0.78    104720\n",
      "   macro avg       0.74      0.58      0.59    104720\n",
      "weighted avg       0.78      0.78      0.78    104720\n",
      "\n"
     ]
    }
   ],
   "source": [
    "from sklearn.metrics import classification_report\n",
    "\n",
    "print( classification_report( y_val,y_pred, labels=list(range(num_classes)), zero_division=1 ))"
   ]
  },
  {
   "cell_type": "code",
   "execution_count": null,
   "id": "e952d2c6-abb1-4975-a03b-34c97c8f8669",
   "metadata": {},
   "outputs": [],
   "source": []
  },
  {
   "cell_type": "code",
   "execution_count": 25,
   "id": "d5681e1f-3e23-41c0-9a56-cd020518cbc4",
   "metadata": {},
   "outputs": [
    {
     "name": "stdout",
     "output_type": "stream",
     "text": [
      "Check start 5539\n"
     ]
    },
    {
     "data": {
      "text/plain": [
       "[(10, 9),\n",
       " (15, 15),\n",
       " (12, 13),\n",
       " (12, 12),\n",
       " (13, 13),\n",
       " (17, 16),\n",
       " (11, 9),\n",
       " (12, 12),\n",
       " (17, 17),\n",
       " (14, 14),\n",
       " (10, 9),\n",
       " (14, 12),\n",
       " (18, 18),\n",
       " (9, 9),\n",
       " (11, 11),\n",
       " (16, 16),\n",
       " (9, 9),\n",
       " (5, 6),\n",
       " (0, 0),\n",
       " (0, 0)]"
      ]
     },
     "execution_count": 25,
     "metadata": {},
     "output_type": "execute_result"
    }
   ],
   "source": [
    "# Check some predictions\n",
    "\n",
    "import random\n",
    "check_start = random.randint(0,len(x_val))\n",
    "\n",
    "print(f'Check start {check_start}')\n",
    "[(int(y_val[idx]), np.argmax(model.predict(np.expand_dims(x_val[idx],axis=0))) ) for idx in range(check_start,check_start+20) ]\n",
    "\n"
   ]
  },
  {
   "cell_type": "code",
   "execution_count": null,
   "id": "c8d4305b-d2f7-4bb6-97c0-601e43f3624c",
   "metadata": {
    "tags": []
   },
   "outputs": [],
   "source": [
    "# Train further (last training 12/8/2021 was for 30 epochs - 150 epochs(w/o reshape order) previously overfitted\n",
    "# Also, the train set was not reshuffled, but train further uses shuffled train data (Stopped the train further after 30 epocks- acc 14% poor. Retraining from scratch )\n",
    "\n",
    "start_time = datetime.strftime( datetime.now(),'%d_%B_%y_%H%M')\n",
    "\n",
    "print(f'Training start time:{start_time}')\n",
    "#batch_size = 64\n",
    "history2 = model.fit(x_train, y_train_1hot,\n",
    "          epochs= 250, \n",
    "          batch_size= batch_size, \n",
    "          validation_data=(x_test, y_test_1hot),callbacks=callbacks) #mcp_save, callbacks=[reduce_lr_loss]callbacks=callbacks"
   ]
  },
  {
   "cell_type": "code",
   "execution_count": null,
   "id": "dd8c2f81-8a6b-495f-b06f-ba26ec5104e8",
   "metadata": {},
   "outputs": [],
   "source": [
    "PlotCurves(history2)"
   ]
  },
  {
   "cell_type": "code",
   "execution_count": null,
   "id": "f9c88ad0-166a-44d3-8fef-41d5891a3035",
   "metadata": {},
   "outputs": [],
   "source": [
    "_, accuracy,top_3_accuracy = model.evaluate(x_val, y_val_1hot)\n",
    "print(f\"Test accuracy: {round(accuracy * 100, 2)}%\")\n",
    "print(f\"Test top 5 accuracy: {round(top_3_accuracy * 100, 2)}%\")\n",
    "\n",
    "_,new_col_length,new_row_length = x_train.shape \n",
    "model.save(f'{base_path}//{ipynbname.name()}//{time_stamp}_Acc_{accuracy:.3f}_top3{top_3_accuracy:.3f}_{new_row_length}x{new_col_length}.h5')"
   ]
  },
  {
   "cell_type": "code",
   "execution_count": 54,
   "id": "29c39bc8-6d98-4441-a8fe-55655e2d5cca",
   "metadata": {},
   "outputs": [],
   "source": [
    "# Try prediction on difficult data\n",
    "\n",
    "x_difficult = raw_data1['echo_cnn_input'][stop_idx+1:]\n",
    "y_difficult = raw_data1['echo_cnn_target'][stop_idx+1:]\n",
    "\n",
    "x_difficult = np.reshape( x_difficult, (x_difficult.shape[0],max_class,-1) )\n",
    "x_difficult = x_difficult[:,:,mid_pt-neigh:mid_pt+neigh+1]\n",
    "# x_train = np.reshape(x_train,(x_train.shape[0],-1))\n",
    "x_difficult = np.transpose(x_difficult,(0,2,1))\n",
    "\n",
    "# y_difficult[y_difficult == num_classes] = 0\n",
    "# y_difficult = tf.keras.utils.to_categorical(y_difficult, num_classes)\n"
   ]
  },
  {
   "cell_type": "code",
   "execution_count": 55,
   "id": "5e0f8927-8286-448f-8e7e-adfb8032ea23",
   "metadata": {},
   "outputs": [
    {
     "data": {
      "text/plain": [
       "((1724672, 9, 21), (1724672,))"
      ]
     },
     "execution_count": 55,
     "metadata": {},
     "output_type": "execute_result"
    }
   ],
   "source": [
    "(x_difficult.shape,y_difficult.shape)"
   ]
  },
  {
   "cell_type": "code",
   "execution_count": 61,
   "id": "969ad3b9-53d5-417a-ab84-55a84b5f75f2",
   "metadata": {},
   "outputs": [
    {
     "name": "stdout",
     "output_type": "stream",
     "text": [
      "Check start 32030\n"
     ]
    },
    {
     "data": {
      "text/plain": [
       "[(14, 12),\n",
       " (14, 12),\n",
       " (14, 12),\n",
       " (14, 12),\n",
       " (14, 12),\n",
       " (14, 12),\n",
       " (14, 12),\n",
       " (14, 12),\n",
       " (14, 12),\n",
       " (14, 12),\n",
       " (14, 12),\n",
       " (14, 12),\n",
       " (14, 12),\n",
       " (14, 12),\n",
       " (14, 12),\n",
       " (14, 12),\n",
       " (14, 12),\n",
       " (14, 12),\n",
       " (14, 12),\n",
       " (14, 12),\n",
       " (14, 12),\n",
       " (14, 12),\n",
       " (14, 12),\n",
       " (14, 12),\n",
       " (14, 12),\n",
       " (14, 12),\n",
       " (14, 12),\n",
       " (14, 12),\n",
       " (14, 12),\n",
       " (14, 12),\n",
       " (14, 12),\n",
       " (14, 12),\n",
       " (14, 12),\n",
       " (14, 12),\n",
       " (19, 9),\n",
       " (19, 9),\n",
       " (19, 9),\n",
       " (19, 9),\n",
       " (19, 9),\n",
       " (19, 9),\n",
       " (19, 9),\n",
       " (19, 9),\n",
       " (19, 9),\n",
       " (19, 9),\n",
       " (19, 9),\n",
       " (19, 9),\n",
       " (19, 9),\n",
       " (19, 9),\n",
       " (19, 9),\n",
       " (19, 9)]"
      ]
     },
     "execution_count": 61,
     "metadata": {},
     "output_type": "execute_result"
    }
   ],
   "source": [
    "# Check some predictions\n",
    "\n",
    "difficult_start = random.randint(0,len(x_val)) #3500 #\n",
    "\n",
    "print(f'Check start {difficult_start}')\n",
    "[(int(y_difficult[idx]), np.argmax(model.predict(np.expand_dims(x_difficult[idx],axis=0))) ) for idx in range(difficult_start,difficult_start+50) ]\n",
    "\n"
   ]
  },
  {
   "cell_type": "code",
   "execution_count": null,
   "id": "566fc1a3-473a-4442-8d7e-257187b2aa2e",
   "metadata": {},
   "outputs": [],
   "source": [
    "# Attempt loading past model (after crash) and start training again\n",
    "load_model = 0\n",
    "if load_model:\n",
    "    model2 = tf.keras.models.load_model(r'Y:\\ibikunle\\Python_Project\\Fall_2021\\all_block_data\\Old_data\\Dec_Train_block_len_21_131121_2213\\NewAttention_RowBlockLSTM1\\22_November_21_0929_Acc_0.669_Top3Acc0.8506_21x9.h5'\n",
    "                                    ,)"
   ]
  },
  {
   "cell_type": "code",
   "execution_count": null,
   "id": "d814adde-7601-4664-ae72-80a585e2dfda",
   "metadata": {},
   "outputs": [],
   "source": []
  },
  {
   "cell_type": "code",
   "execution_count": null,
   "id": "1086771b-626e-42ed-90ce-56b434606586",
   "metadata": {
    "tags": []
   },
   "outputs": [],
   "source": [
    "# Train further\n",
    "batch_size = 64\n",
    "history2 = model.fit(x_train, y_train_1hot,\n",
    "          epochs= 30, \n",
    "          batch_size= batch_size, \n",
    "          validation_data=(x_test, y_test_1hot),callbacks=callbacks) #mcp_save, callbacks=[reduce_lr_loss]callbacks=callbacks"
   ]
  },
  {
   "cell_type": "code",
   "execution_count": null,
   "id": "b129b784-5906-48b6-aa6c-a6c3cecfc63a",
   "metadata": {},
   "outputs": [],
   "source": [
    "# Train further still( 30th Nov.,2021 X_train is returned back to default [i.e No shuffle] )\n",
    "from keras import backend as K\n",
    "K.set_value(model.optimizer.learning_rate, 0.001)\n",
    "batch_size = 64\n",
    "history2 = model.fit(x_train, y_train_1hot,\n",
    "          epochs= 2, \n",
    "          batch_size= batch_size, \n",
    "          validation_data=(x_test, y_test_1hot),callbacks=callbacks) #mcp_save, callbacks=[reduce_lr_loss]callbacks=callbacks"
   ]
  },
  {
   "cell_type": "code",
   "execution_count": null,
   "id": "ac606f26-6bfa-449a-9b90-b4765a2340ec",
   "metadata": {},
   "outputs": [],
   "source": [
    "# Convert labels to categorical orthonormal vectors\n",
    "y_val_1hot = tf.keras.utils.to_categorical(y_val, num_classes)\n",
    "\n",
    "_, accuracy,top3_acc = model.evaluate(x_val, y_val_1hot)\n",
    "print(f\"Test accuracy: {round(accuracy * 100, 2)}%\")\n",
    "# print(f\"Test top 5 accuracy: {round(top_5_accuracy * 100, 2)}%\")\n",
    "\n",
    "_,new_col_length,new_row_length = x_train.shape \n",
    "model.save(f'{base_path}//{ipynbname.name()}//{time_stamp}_Acc_{accuracy:.3f}_Top3Acc{top3_acc:.3f}_{new_row_length}x{new_col_length}.h5')"
   ]
  },
  {
   "cell_type": "code",
   "execution_count": null,
   "id": "bc0478a0-0d6b-44bf-abf6-30cb44b4d44c",
   "metadata": {},
   "outputs": [],
   "source": [
    "# Test model on val data\n",
    "\n",
    "y_diff_pred = [ np.argmax(model.predict(np.expand_dims(x_difficult[idx],axis=0))) for idx in range(3000,3050) ] #len(x_difficult)\n",
    "\n",
    "difficult_exact_accuracy = 100 * sum([1 if y_diff_pred[idx]==y_difficult[idx]   else 0 for idx in range(len(y_diff_pred)) ]) / len(y_diff_pred)\n",
    "difficult_margin5_accuracy = 100 * sum([1 if abs(y_diff_pred[idx]-y_difficult[idx]) < 3 else 0 for idx in range(len(y_diff_pred)) ]) / len(y_diff_pred)\n",
    "\n",
    "print(f' Exact accuracy is {difficult_exact_accuracy: .5f} %')\n",
    "print(f' Top 5% accuracy is {difficult_margin5_accuracy: .5f} %')\n",
    "\n"
   ]
  },
  {
   "cell_type": "code",
   "execution_count": null,
   "id": "b103b071-79d9-416b-b545-bc3c2e3e6587",
   "metadata": {},
   "outputs": [],
   "source": [
    "len(y_diff_pred)"
   ]
  },
  {
   "cell_type": "code",
   "execution_count": null,
   "id": "3ab0eaec-8607-4970-a6a9-397cef52ef9f",
   "metadata": {},
   "outputs": [],
   "source": []
  }
 ],
 "metadata": {
  "kernelspec": {
   "display_name": "ibk_tf_2.6",
   "language": "python",
   "name": "tf2.6"
  },
  "language_info": {
   "codemirror_mode": {
    "name": "ipython",
    "version": 3
   },
   "file_extension": ".py",
   "mimetype": "text/x-python",
   "name": "python",
   "nbconvert_exporter": "python",
   "pygments_lexer": "ipython3",
   "version": "3.9.7"
  }
 },
 "nbformat": 4,
 "nbformat_minor": 5
}
