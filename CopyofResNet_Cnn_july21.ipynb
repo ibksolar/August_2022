{
 "cells": [
  {
   "cell_type": "code",
   "execution_count": 17,
   "metadata": {},
   "outputs": [
    {
     "name": "stdout",
     "output_type": "stream",
     "text": [
      "Packages Loaded\n"
     ]
    }
   ],
   "source": [
    "from __future__ import print_function\n",
    "\n",
    "import os\n",
    "\n",
    "import pandas as pd\n",
    "import numpy as np\n",
    "import matplotlib.pyplot as plt\n",
    "import random\n",
    "import tensorflow as tf\n",
    "from tensorflow.keras.models import Sequential, Model\n",
    "from tensorflow.keras.layers import *\n",
    "\n",
    "from tensorflow.keras.callbacks import EarlyStopping, ModelCheckpoint,TensorBoard,ReduceLROnPlateau\n",
    "\n",
    "from tensorflow.keras.optimizers import SGD, Adam\n",
    "from tensorflow.keras.activations import relu\n",
    "from tensorflow.keras.regularizers import l2\n",
    "from tensorflow.keras.constraints import max_norm\n",
    "from tensorflow.keras import backend as K\n",
    "from tensorflow.keras.datasets import mnist, cifar10\n",
    "\n",
    "from IPython.core.interactiveshell import InteractiveShell\n",
    "InteractiveShell.ast_node_interactivity = \"all\"\n",
    "from scipy.io import loadmat \n",
    "import mat73\n",
    "from datetime import datetime\n",
    "\n",
    "\n",
    "print(\"Packages Loaded\")"
   ]
  },
  {
   "cell_type": "code",
   "execution_count": 2,
   "metadata": {
    "tags": []
   },
   "outputs": [],
   "source": [
    "# Load data\n",
    "# raw_data1 = loadmat('new_echo_cnn_in_out_jstarrs2021_first_try/echo_cnn_in_out_jstars1.mat')\n",
    "# raw_data1 = loadmat('echo_cnn_in_out_GOOD_layers/new_echo_cnn_in_out_jstars1.mat') 'findpeaks_layers/new_echo_cnn_in_out_jstars1.mat'\n",
    "\n",
    "raw_data1 = loadmat('../../../Python_Env/final_layers_rowblock15_21/filtered_image/new_echo_cnn_in_out_jstars1.mat')\n",
    "raw_data2 = loadmat('../../../Python_Env/final_layers_rowblock15_21/filtered_image/new_echo_cnn_in_out_jstars2.mat')\n",
    "raw_data3 = loadmat('../../../Python_Env/final_layers_rowblock15_21/filtered_image/new_echo_cnn_in_out_jstars3.mat')\n",
    "# raw_data4 = loadmat('findpeaks_layers_rowblock20/new_echo_cnn_in_out_jstars4.mat')\n",
    "\n",
    "d1 = raw_data1['echo_cnn1']\n",
    "t1 = raw_data1['echo_target1']\n",
    "i1 = raw_data1['echo_idx1']\n",
    "\n",
    "d2 = raw_data2['echo_cnn2']\n",
    "t2 = raw_data2['echo_target2']\n",
    "i2 = raw_data2['echo_idx2']\n",
    "\n",
    "d3 = raw_data3['echo_cnn3']\n",
    "t3 = raw_data3['echo_target3']\n",
    "i3 = raw_data3['echo_idx3']\n",
    "\n",
    "# d4 = raw_data4['echo_cnn4']\n",
    "# t4 = raw_data4['echo_target4']\n",
    "# i4 = raw_data4['echo_idx4']\n",
    "\n",
    "all_data = np.concatenate( (d1,d2,d3),axis = 0 )\n",
    "all_target = np.concatenate( (t1,t2,t3),axis = 0 )\n",
    "all_idx = np.concatenate( (i1,i2,i3),axis = 0 )\n",
    "\n"
   ]
  },
  {
   "cell_type": "code",
   "execution_count": 3,
   "metadata": {},
   "outputs": [],
   "source": [
    "# # data_path = '/all_block_data/Dec_Train_block_len_21_011121_2331' # Should start with a forward slash\n",
    "# # base_path = os.path.join (os.getcwd() + data_path )\n",
    "\n",
    "# base_path = '..\\\\all_block_data\\Dec_Train_block_len_21_011121_2331'\n",
    "\n",
    "# # Confirm path is right...\n",
    "# print(f'{os.path.isdir(base_path)}')"
   ]
  },
  {
   "cell_type": "code",
   "execution_count": 4,
   "metadata": {},
   "outputs": [],
   "source": [
    "# # raw_data1 = mat73.loadmat('all_block_data/Full_block_len_65_121021_0916/echo_cnn_in_out_jstars_65x15.mat')\n",
    "# raw_data1 = mat73.loadmat(base_path + '/echo_cnn_in_out_jstars.mat')\n",
    "\n",
    "# all_data = raw_data1['echo_cnn_input']\n",
    "# all_target = raw_data1['echo_cnn_target']\n"
   ]
  },
  {
   "cell_type": "code",
   "execution_count": 5,
   "metadata": {},
   "outputs": [
    {
     "name": "stdout",
     "output_type": "stream",
     "text": [
      "Dimensions match\n"
     ]
    }
   ],
   "source": [
    "row_length = 21\n",
    "col_length = 15\n",
    "\n",
    "# Check that the dimension of data is correct\n",
    "if all_data.shape[1] == row_length*col_length:\n",
    "    print('Dimensions match')\n",
    "else:\n",
    "    print(f' Row block length:{row_length} and col length:{col_length} does not match Data dimension:{all_data.shape[1]}') \n",
    "        "
   ]
  },
  {
   "cell_type": "code",
   "execution_count": 6,
   "metadata": {},
   "outputs": [],
   "source": [
    "max_class = row_length \n",
    "\n",
    "# Highest class is mapped to row_length+1\n",
    "all_target[all_target == max_class+1 ] = 0\n",
    "\n",
    "\n",
    "shuffle = 1\n",
    "if shuffle:\n",
    "    random.Random(13).shuffle(all_data)\n",
    "    random.Random(13).shuffle(all_target)\n",
    "    # random.Random(13).shuffle(all_idx)\n",
    "\n",
    "## Prep data\n",
    "train_size = int(np.floor(0.75*len(all_target)));\n",
    "test_size = int(np.round( 0.2* all_data.shape[0] ))\n",
    "val_size = all_data.shape[0] -train_size - test_size\n",
    "\n",
    "\n",
    "x_train = all_data[0:train_size,:]\n",
    "x_test = all_data[train_size:train_size+test_size,:]\n",
    "x_val = all_data[-val_size:,:]\n",
    "\n",
    "y_train = all_target[:train_size]\n",
    "y_test  = all_target[train_size:train_size+test_size]\n",
    "y_val = all_target[-val_size:]\n",
    "\n",
    "var_input_shape = x_train.shape[1] # 240 columns\n",
    "num_classes = max_class+1 # layers\n",
    "# Convert labels to categorical orthonormal vectors\n",
    "\n",
    "y_train = tf.keras.utils.to_categorical(y_train, num_classes)\n",
    "y_test  = tf.keras.utils.to_categorical(y_test, num_classes)\n"
   ]
  },
  {
   "cell_type": "code",
   "execution_count": 12,
   "metadata": {
    "tags": []
   },
   "outputs": [
    {
     "name": "stdout",
     "output_type": "stream",
     "text": [
      "Epoch 1/10\n",
      "24544/24544 [==============================] - 3495s 142ms/step - loss: 1.1756 - accuracy: 0.5526 - val_loss: 1.7957 - val_accuracy: 0.4350\n",
      "Epoch 2/10\n",
      "24544/24544 [==============================] - 9197s 375ms/step - loss: 1.0780 - accuracy: 0.5831 - val_loss: 2.0002 - val_accuracy: 0.3611\n",
      "Epoch 3/10\n",
      "24544/24544 [==============================] - 3435s 140ms/step - loss: 1.0482 - accuracy: 0.5926 - val_loss: 1.3920 - val_accuracy: 0.4857\n",
      "Epoch 4/10\n",
      "24544/24544 [==============================] - 3436s 140ms/step - loss: 1.0283 - accuracy: 0.5998 - val_loss: 1.2410 - val_accuracy: 0.5578\n",
      "Epoch 5/10\n",
      "24544/24544 [==============================] - 3427s 140ms/step - loss: 1.0137 - accuracy: 0.6048 - val_loss: 1.4722 - val_accuracy: 0.4972\n",
      "Epoch 6/10\n",
      "24544/24544 [==============================] - 3465s 141ms/step - loss: 1.0014 - accuracy: 0.6093 - val_loss: 1.3145 - val_accuracy: 0.5301\n",
      "Epoch 7/10\n",
      "24544/24544 [==============================] - 3400s 139ms/step - loss: 0.9911 - accuracy: 0.6129 - val_loss: 1.2413 - val_accuracy: 0.5444\n",
      "Epoch 8/10\n",
      "24544/24544 [==============================] - 3329s 136ms/step - loss: 0.9809 - accuracy: 0.6167 - val_loss: 1.2581 - val_accuracy: 0.5314\n",
      "Epoch 9/10\n",
      "24544/24544 [==============================] - 3280s 134ms/step - loss: 0.9722 - accuracy: 0.6195 - val_loss: 1.1842 - val_accuracy: 0.5615\n",
      "Epoch 10/10\n",
      "24544/24544 [==============================] - 3230s 132ms/step - loss: 0.9638 - accuracy: 0.6224 - val_loss: 1.3712 - val_accuracy: 0.5257\n"
     ]
    },
    {
     "data": {
      "text/plain": [
       "<keras.callbacks.History at 0x2321ade81f0>"
      ]
     },
     "execution_count": 12,
     "metadata": {},
     "output_type": "execute_result"
    }
   ],
   "source": [
    "# Create your own ResNet here.\n",
    "\n",
    "shp = x_train.shape[1]\n",
    "\n",
    "# Skip 3 connection version of base model\n",
    "drop_out = 0.3\n",
    "inputs = tf.keras.Input(shape=(shp,), name='img')\n",
    "x = Dense(512, activation='relu')(inputs)\n",
    "block_1_output = Dense(512, activation='relu')(x)\n",
    "\n",
    "x = Dense(512)(block_1_output)\n",
    "x = BatchNormalization()(x)\n",
    "x = Activation('relu')(x)\n",
    "x = Dropout(drop_out)(x)\n",
    "\n",
    "x = Dense(512)(x)\n",
    "x = BatchNormalization()(x)\n",
    "x = Activation('relu')(x)\n",
    "x = Dropout(drop_out)(x)\n",
    "\n",
    "x = Dense(512)(x)\n",
    "x = BatchNormalization()(x)\n",
    "\n",
    "block_2_output = tf.keras.layers.add([x, block_1_output])\n",
    "\n",
    "x = Dense(512)(block_2_output)\n",
    "x = BatchNormalization()(x)\n",
    "x = Activation('relu')(x)\n",
    "x = Dropout(drop_out)(x)\n",
    "x = Dense(512)(x)\n",
    "x = BatchNormalization()(x)\n",
    "x = Activation('relu')(x)\n",
    "x = Dropout(drop_out)(x)\n",
    "x = Dense(512)(x)\n",
    "x = BatchNormalization()(x)\n",
    "\n",
    "block_3_output = tf.keras.layers.add([x, block_2_output])\n",
    "\n",
    "x = Dense(512)(block_3_output)\n",
    "x = BatchNormalization()(x)\n",
    "x = Activation('relu')(x)\n",
    "x = Dropout(drop_out)(x)\n",
    "x = Dense(512)(x)\n",
    "x = BatchNormalization()(x)\n",
    "x = Activation('relu')(x)\n",
    "x = Dropout(drop_out)(x)\n",
    "x = Dense(512)(x)\n",
    "x = BatchNormalization()(x)\n",
    "\n",
    "block_4_output = tf.keras.layers.add([x, block_3_output])\n",
    "\n",
    "x = Dense(512)(block_4_output)\n",
    "x = BatchNormalization()(x)\n",
    "x = Activation('relu')(x)\n",
    "x = Dropout(drop_out)(x)\n",
    "x = Dense(512)(x)\n",
    "x = BatchNormalization()(x)\n",
    "x = Activation('relu')(x)\n",
    "x = Dropout(drop_out)(x)\n",
    "x = Dense(512)(x)\n",
    "x = BatchNormalization()(x)\n",
    "\n",
    "block_5_output = tf.keras.layers.add([x, block_4_output])\n",
    "\n",
    "\n",
    "x = Dense(512)(block_5_output)\n",
    "x = BatchNormalization()(x)\n",
    "x = Activation('relu')(x)\n",
    "x = Dropout(drop_out)(x)\n",
    "x = Dense(512)(x)\n",
    "x = BatchNormalization()(x)\n",
    "x = Activation('relu')(x)\n",
    "x = Dropout(drop_out)(x)\n",
    "x = Dense(512)(x)\n",
    "x = BatchNormalization()(x)\n",
    "\n",
    "block_6_output = tf.keras.layers.add([x, block_5_output])\n",
    "\n",
    "x = Dense(512)(block_6_output)\n",
    "x = BatchNormalization()(x)\n",
    "x = Activation('relu')(x)\n",
    "x = Dropout(drop_out)(x)\n",
    "x = Dense(512)(x)\n",
    "x = BatchNormalization()(x)\n",
    "x = Activation('relu')(x)\n",
    "x = Dropout(drop_out)(x)\n",
    "x = Dense(512)(x)\n",
    "x = BatchNormalization()(x)\n",
    "\n",
    "block_7_output = tf.keras.layers.add([x, block_6_output])\n",
    "\n",
    "x = Dense(512)(block_7_output)\n",
    "x = BatchNormalization()(x)\n",
    "x = Activation('relu')(x)\n",
    "x = Dropout(drop_out)(x)\n",
    "x = Dense(512)(x)\n",
    "x = BatchNormalization()(x)\n",
    "x = Activation('relu')(x)\n",
    "x = Dropout(drop_out)(x)\n",
    "x = Dense(512)(x)\n",
    "x = BatchNormalization()(x)\n",
    "\n",
    "block_8_output = tf.keras.layers.add([x, block_7_output])\n",
    "\n",
    "x = Dense(512)(block_8_output)\n",
    "x = BatchNormalization()(x)\n",
    "x = Activation('relu')(x)\n",
    "x = Dropout(drop_out)(x)\n",
    "x = Dense(512)(x)\n",
    "x = BatchNormalization()(x)\n",
    "x = Activation('relu')(x)\n",
    "x = Dropout(drop_out)(x)\n",
    "x = Dense(512)(x)\n",
    "x = BatchNormalization()(x)\n",
    "\n",
    "block_9_output = tf.keras.layers.add([x, block_8_output])\n",
    "\n",
    "x = Dense(512)(block_9_output)\n",
    "x = BatchNormalization()(x)\n",
    "x = Activation('relu')(x)\n",
    "x = Dropout(drop_out)(x)\n",
    "x = Dense(512)(x)\n",
    "x = BatchNormalization()(x)\n",
    "x = Activation('relu')(x)\n",
    "x = Dropout(drop_out)(x)\n",
    "x = Dense(512)(x)\n",
    "x = BatchNormalization()(x)\n",
    "\n",
    "block_10_output = tf.keras.layers.add([x, block_9_output])\n",
    "\n",
    "\n",
    "x = Dense(512, activation='relu')(block_10_output)\n",
    "x = Dropout(drop_out)(x)\n",
    "outputs = Dense(num_classes, activation='softmax')(x)\n",
    "\n",
    "model = tf.keras.Model(inputs, outputs, name='resnet')\n",
    "\n",
    "time_stamp = datetime.strftime( datetime.now(),'%d_%B_%y_%H%M')\n",
    "\n",
    "model.compile( Adam(amsgrad=True),loss= 'categorical_crossentropy', metrics=['accuracy'])  #tf.keras.losses.KLDivergence()\n",
    "# earlyStopping = EarlyStopping(monitor='val_loss', patience=15, verbose=0, mode='min')\n",
    "\n",
    "# checkpoint_filepath = f'{base_path}_/tmp/{time_stamp}_jstars_Epoch_{epoch:02d}_ValLoss{val_loss:.2f}.hdf5'\n",
    "# checkpoint_callback = ModelCheckpoint(checkpoint_filepath, save_best_only=True, monitor='val_accuracy', mode='min')\n",
    "# reduce_lr_loss = ReduceLROnPlateau(monitor='val_loss', factor=0.1, patience=7, verbose=0, emin_delta =1e-4, mode='min')\n",
    "\n",
    "\n",
    "model.fit(x_train, y_train,\n",
    "          epochs= 10, \n",
    "          batch_size= 64, \n",
    "          validation_data=(x_test, y_test)) #,reduce_lr_loss , callbacks=[checkpoint_callback]\n"
   ]
  },
  {
   "cell_type": "code",
   "execution_count": 13,
   "metadata": {},
   "outputs": [
    {
     "name": "stdout",
     "output_type": "stream",
     "text": [
      "13090/13090 [==============================] - 393s 30ms/step - loss: 1.3691 - accuracy: 0.5262\n",
      "Test accuracy: 52.62%\n"
     ]
    },
    {
     "ename": "NameError",
     "evalue": "name '__file__' is not defined",
     "output_type": "error",
     "traceback": [
      "\u001b[1;31m---------------------------------------------------------------------------\u001b[0m",
      "\u001b[1;31mNameError\u001b[0m                                 Traceback (most recent call last)",
      "\u001b[1;32m~\\AppData\\Local\\Temp/ipykernel_21960/2877680520.py\u001b[0m in \u001b[0;36m<module>\u001b[1;34m\u001b[0m\n\u001b[0;32m      5\u001b[0m \u001b[1;33m\u001b[0m\u001b[0m\n\u001b[0;32m      6\u001b[0m \u001b[1;33m\u001b[0m\u001b[0m\n\u001b[1;32m----> 7\u001b[1;33m \u001b[0mmodel\u001b[0m\u001b[1;33m.\u001b[0m\u001b[0msave\u001b[0m\u001b[1;33m(\u001b[0m\u001b[1;34mf'{base_path}/CopyofResNetCNN_weights/{os.path.basename(__file__)}_{ipynbname.name()}_Acc_{accuracy}_{row_length}x{col_length}.h5'\u001b[0m\u001b[1;33m)\u001b[0m\u001b[1;33m\u001b[0m\u001b[1;33m\u001b[0m\u001b[0m\n\u001b[0m",
      "\u001b[1;31mNameError\u001b[0m: name '__file__' is not defined"
     ]
    }
   ],
   "source": [
    "\n",
    "_, accuracy = model.evaluate(x_test, y_test) #, top_5_accuracy\n",
    "print(f\"Test accuracy: {round(accuracy * 100, 2)}%\")\n",
    "# print(f\"Test top 5 accuracy: {round(top_5_accuracy * 100, 2)}%\")\n",
    "\n",
    "\n",
    "model.save(f'{base_path}/CopyofResNetCNN_weights/{ipynbname.name()}_{time_stamp}_Acc_{accuracy: .3f}_{row_length}x{col_length}.h5')"
   ]
  },
  {
   "cell_type": "code",
   "execution_count": 26,
   "metadata": {
    "tags": []
   },
   "outputs": [
    {
     "name": "stdout",
     "output_type": "stream",
     "text": [
      "Epoch 1/50\n",
      "24544/24544 [==============================] - 3218s 131ms/step - loss: 0.9566 - accuracy: 0.6250 - val_loss: 1.3808 - val_accuracy: 0.5353\n",
      "Epoch 2/50\n",
      "24544/24544 [==============================] - 1179s 48ms/step - loss: 0.9501 - accuracy: 0.6267 - val_loss: 1.4687 - val_accuracy: 0.4893\n",
      "Epoch 3/50\n",
      "24544/24544 [==============================] - 1497s 61ms/step - loss: 0.9423 - accuracy: 0.6291 - val_loss: 1.1906 - val_accuracy: 0.5590\n",
      "Epoch 4/50\n",
      "24544/24544 [==============================] - 2077s 85ms/step - loss: 0.9336 - accuracy: 0.6324 - val_loss: 1.1486 - val_accuracy: 0.5816\n",
      "Epoch 5/50\n",
      "24544/24544 [==============================] - 1646s 67ms/step - loss: 0.9243 - accuracy: 0.6347 - val_loss: 1.4107 - val_accuracy: 0.4917\n",
      "Epoch 6/50\n",
      "24544/24544 [==============================] - 1965s 80ms/step - loss: 0.9157 - accuracy: 0.6379 - val_loss: 1.1269 - val_accuracy: 0.5917\n",
      "Epoch 7/50\n",
      "24544/24544 [==============================] - 1152s 47ms/step - loss: 0.9053 - accuracy: 0.6410 - val_loss: 1.1675 - val_accuracy: 0.5805\n",
      "Epoch 8/50\n",
      "24544/24544 [==============================] - 2413s 98ms/step - loss: 0.8929 - accuracy: 0.6439 - val_loss: 1.1130 - val_accuracy: 0.6091\n",
      "Epoch 9/50\n",
      "24544/24544 [==============================] - 2974s 121ms/step - loss: 0.8824 - accuracy: 0.6473 - val_loss: 1.2433 - val_accuracy: 0.5680\n",
      "Epoch 10/50\n",
      "24544/24544 [==============================] - 2990s 122ms/step - loss: 0.8727 - accuracy: 0.6500 - val_loss: 1.2645 - val_accuracy: 0.5668\n",
      "Epoch 11/50\n",
      "24544/24544 [==============================] - 2996s 122ms/step - loss: 0.8647 - accuracy: 0.6529 - val_loss: 1.0648 - val_accuracy: 0.6168\n",
      "Epoch 12/50\n",
      "24544/24544 [==============================] - 2983s 122ms/step - loss: 0.8570 - accuracy: 0.6555 - val_loss: 1.1136 - val_accuracy: 0.6002\n",
      "Epoch 13/50\n",
      "24544/24544 [==============================] - 2986s 122ms/step - loss: 0.8500 - accuracy: 0.6581 - val_loss: 1.3256 - val_accuracy: 0.5251\n",
      "Epoch 14/50\n",
      "24544/24544 [==============================] - 3009s 123ms/step - loss: 0.8426 - accuracy: 0.6607 - val_loss: 1.2648 - val_accuracy: 0.5786\n",
      "Epoch 15/50\n",
      "24544/24544 [==============================] - 2986s 122ms/step - loss: 0.8363 - accuracy: 0.6627 - val_loss: 1.1451 - val_accuracy: 0.5898\n",
      "Epoch 16/50\n",
      "24544/24544 [==============================] - 3010s 123ms/step - loss: 0.8291 - accuracy: 0.6651 - val_loss: 1.1461 - val_accuracy: 0.5985\n",
      "Epoch 17/50\n",
      "24544/24544 [==============================] - 3000s 122ms/step - loss: 0.8235 - accuracy: 0.6675 - val_loss: 1.1616 - val_accuracy: 0.6022\n",
      "Epoch 18/50\n",
      "24544/24544 [==============================] - 3006s 122ms/step - loss: 0.8181 - accuracy: 0.6691 - val_loss: 1.0369 - val_accuracy: 0.6357\n",
      "Epoch 19/50\n",
      "24544/24544 [==============================] - 3005s 122ms/step - loss: 0.8124 - accuracy: 0.6717 - val_loss: 1.4553 - val_accuracy: 0.5261\n",
      "Epoch 20/50\n",
      "24544/24544 [==============================] - 3022s 123ms/step - loss: 0.8062 - accuracy: 0.6739 - val_loss: 1.1897 - val_accuracy: 0.5798\n",
      "Epoch 21/50\n",
      "24544/24544 [==============================] - 3002s 122ms/step - loss: 0.7991 - accuracy: 0.6761 - val_loss: 1.0763 - val_accuracy: 0.6248\n",
      "Epoch 22/50\n",
      "24544/24544 [==============================] - 3021s 123ms/step - loss: 0.7935 - accuracy: 0.6784 - val_loss: 1.0343 - val_accuracy: 0.6401\n",
      "Epoch 23/50\n",
      "24544/24544 [==============================] - 3027s 123ms/step - loss: 0.7883 - accuracy: 0.6802 - val_loss: 1.0090 - val_accuracy: 0.6519\n",
      "Epoch 24/50\n",
      "24544/24544 [==============================] - 3027s 123ms/step - loss: 0.7836 - accuracy: 0.6820 - val_loss: 1.2750 - val_accuracy: 0.5584\n",
      "Epoch 25/50\n",
      "24544/24544 [==============================] - 2995s 122ms/step - loss: 0.7788 - accuracy: 0.6838 - val_loss: 1.0757 - val_accuracy: 0.6202\n",
      "Epoch 26/50\n",
      "24544/24544 [==============================] - 3005s 122ms/step - loss: 0.7743 - accuracy: 0.6854 - val_loss: 1.1393 - val_accuracy: 0.6101\n",
      "Epoch 27/50\n",
      "24544/24544 [==============================] - 3012s 123ms/step - loss: 0.7698 - accuracy: 0.6873 - val_loss: 1.1275 - val_accuracy: 0.6111\n",
      "Epoch 28/50\n",
      "24544/24544 [==============================] - 3006s 122ms/step - loss: 0.7647 - accuracy: 0.6889 - val_loss: 1.2766 - val_accuracy: 0.5661\n",
      "Epoch 29/50\n",
      "24544/24544 [==============================] - 6778s 276ms/step - loss: 0.7609 - accuracy: 0.6904 - val_loss: 1.0488 - val_accuracy: 0.6447\n",
      "Epoch 30/50\n",
      "24544/24544 [==============================] - 11105s 452ms/step - loss: 0.7572 - accuracy: 0.6917 - val_loss: 1.0792 - val_accuracy: 0.6368\n",
      "Epoch 31/50\n",
      "24544/24544 [==============================] - 3054s 124ms/step - loss: 0.7521 - accuracy: 0.6940 - val_loss: 1.0880 - val_accuracy: 0.6359\n",
      "Epoch 32/50\n",
      "24544/24544 [==============================] - 3056s 125ms/step - loss: 0.7484 - accuracy: 0.6953 - val_loss: 1.2702 - val_accuracy: 0.5820\n",
      "Epoch 33/50\n",
      "24544/24544 [==============================] - 3043s 124ms/step - loss: 0.7450 - accuracy: 0.6966 - val_loss: 1.1318 - val_accuracy: 0.6215\n",
      "Epoch 34/50\n",
      "24544/24544 [==============================] - 3049s 124ms/step - loss: 0.7417 - accuracy: 0.6976 - val_loss: 1.1298 - val_accuracy: 0.6231\n",
      "Epoch 35/50\n",
      "24544/24544 [==============================] - 3046s 124ms/step - loss: 0.7375 - accuracy: 0.6993 - val_loss: 1.1424 - val_accuracy: 0.6291\n",
      "Epoch 36/50\n",
      "24544/24544 [==============================] - 3051s 124ms/step - loss: 0.7337 - accuracy: 0.7011 - val_loss: 1.0371 - val_accuracy: 0.6513\n",
      "Epoch 37/50\n",
      "24544/24544 [==============================] - 3078s 125ms/step - loss: 0.7298 - accuracy: 0.7023 - val_loss: 1.1545 - val_accuracy: 0.6138\n",
      "Epoch 38/50\n",
      "24544/24544 [==============================] - 3077s 125ms/step - loss: 0.7279 - accuracy: 0.7028 - val_loss: 1.0092 - val_accuracy: 0.6689\n",
      "Epoch 39/50\n",
      "24544/24544 [==============================] - 3058s 125ms/step - loss: 0.7220 - accuracy: 0.7052 - val_loss: 1.0187 - val_accuracy: 0.6600\n",
      "Epoch 40/50\n",
      "24544/24544 [==============================] - 3060s 125ms/step - loss: 0.7183 - accuracy: 0.7068 - val_loss: 1.0226 - val_accuracy: 0.6665\n",
      "Epoch 41/50\n",
      "24544/24544 [==============================] - 3799s 155ms/step - loss: 0.7153 - accuracy: 0.7080 - val_loss: 1.1917 - val_accuracy: 0.6001\n",
      "Epoch 42/50\n",
      "24544/24544 [==============================] - 2978s 121ms/step - loss: 0.7123 - accuracy: 0.7092 - val_loss: 1.0486 - val_accuracy: 0.6588\n",
      "Epoch 43/50\n",
      "24544/24544 [==============================] - 2968s 121ms/step - loss: 0.7093 - accuracy: 0.7099 - val_loss: 1.1093 - val_accuracy: 0.6391\n",
      "Epoch 44/50\n",
      "24544/24544 [==============================] - 2947s 120ms/step - loss: 0.7049 - accuracy: 0.7118 - val_loss: 0.9540 - val_accuracy: 0.6871\n",
      "Epoch 45/50\n",
      "24544/24544 [==============================] - 2966s 121ms/step - loss: 0.7017 - accuracy: 0.7131 - val_loss: 1.0818 - val_accuracy: 0.6440\n",
      "Epoch 46/50\n",
      "24544/24544 [==============================] - 2982s 122ms/step - loss: 0.6987 - accuracy: 0.7141 - val_loss: 0.9820 - val_accuracy: 0.6793\n",
      "Epoch 47/50\n",
      "24544/24544 [==============================] - 2968s 121ms/step - loss: 0.6963 - accuracy: 0.7154 - val_loss: 1.0167 - val_accuracy: 0.6694\n",
      "Epoch 48/50\n",
      "24544/24544 [==============================] - 2995s 122ms/step - loss: 0.6938 - accuracy: 0.7163 - val_loss: 1.0102 - val_accuracy: 0.6621\n",
      "Epoch 49/50\n",
      "24544/24544 [==============================] - 3000s 122ms/step - loss: 0.6910 - accuracy: 0.7175 - val_loss: 0.9813 - val_accuracy: 0.6782\n",
      "Epoch 50/50\n",
      "24544/24544 [==============================] - 2987s 122ms/step - loss: 0.6882 - accuracy: 0.7187 - val_loss: 1.0250 - val_accuracy: 0.6648\n"
     ]
    },
    {
     "data": {
      "text/plain": [
       "<keras.callbacks.History at 0x237a68406d0>"
      ]
     },
     "execution_count": 26,
     "metadata": {},
     "output_type": "execute_result"
    }
   ],
   "source": [
    "# Train further\n",
    "train_further = 1\n",
    "if train_further:\n",
    "    model.fit(x_train, y_train,\n",
    "          epochs= 50, \n",
    "          batch_size= 64, \n",
    "          validation_data=(x_test, y_test)) #mcp_save,\n",
    "\n",
    "    model.save(f'{base_path}/CopyofResNetCNN_weights/{ipynbname.name()}_{time_stamp}_trainfurther_Acc_{accuracy: .3f}_{row_length}x{col_length}.h5')"
   ]
  },
  {
   "cell_type": "code",
   "execution_count": null,
   "metadata": {},
   "outputs": [],
   "source": []
  },
  {
   "cell_type": "code",
   "execution_count": 19,
   "metadata": {},
   "outputs": [],
   "source": [
    "# Import Test Set\n",
    "\n",
    "test_data = mat73.loadmat('Y:\\\\ibikunle\\\\Python_Project\\\\Fall_2021\\\\all_block_data\\Dec_Test_block_len_21_021121_0948\\echo_cnn_in_out_jstars.mat')\n",
    "\n",
    "loaded_x_test = test_data['echo_cnn_input']\n",
    "loaded_y_test = test_data['echo_cnn_target']\n",
    "\n",
    "# loaded_x_test = np.reshape( loaded_x_test, (loaded_x_test.shape[0],max_class,-1) )\n",
    "# loaded_x_test = np.transpose(loaded_x_test,(0,2,1))\n",
    "\n",
    "# Highest class is mapped to row_length+1\n",
    "loaded_y_test[loaded_y_test == max_class+1 ] = 0"
   ]
  },
  {
   "cell_type": "code",
   "execution_count": null,
   "metadata": {},
   "outputs": [],
   "source": [
    "# Test on training data\n",
    "\n",
    "y_pred_test = [np.argmax(model.predict(np.expand_dims(loaded_x_test[idx],axis=0))) for idx in range(len(loaded_y_test)) ]\n",
    "\n",
    "combined_result = zip(y_val,y_pred)\n",
    "\n",
    "exact_accuracy = 100 * sum([1 if y_pred_test[idx]==loaded_y_test[idx]   else 0 for idx in range(len(y_pred_test)) ]) / len(y_pred_test)\n",
    "test_5_pixel_margin_accuracy = 100 * sum([1 if abs(y_pred_test[idx]-loaded_y_test[idx]) < 5 else 0 for idx in range(len(y_pred_test)) ]) / len(y_pred_test)\n",
    "\n",
    "print(f' Exact accuracy is {exact_accuracy: .5f} %')\n",
    "print(f' Top 5% accuracy is {test_5_pixel_margin_accuracy: .5f} %')"
   ]
  },
  {
   "cell_type": "code",
   "execution_count": null,
   "metadata": {},
   "outputs": [],
   "source": [
    "loaded_model = tf.keras.models.load_model('../../../Python_Env/jstars_weight_21_15_july2021_correct.h5')"
   ]
  },
  {
   "cell_type": "code",
   "execution_count": null,
   "metadata": {},
   "outputs": [],
   "source": [
    "# Predict raw_new_data\n",
    "\n",
    "y_pred_loaded = [np.argmax(loaded_model.predict(np.reshape(x_val[idx,:],(1,var_input_shape)))) for idx in range(len(x_val)) ]\n",
    "# y_pred = [(int(all_target[idx]),np.argmax(model.predict(np.reshape(all_data[idx,:],(1,var_input_shape)))) ) for idx in range(1001000,1002000) ]\n",
    "test_accuracy_margin = 100 * sum([1 if abs(y_pred[idx]-y_val[idx]) < 5 else 0 for idx in range(len(y_pred)) ]) / len(y_pred)\n",
    "\n",
    "print(f'Accuracy is {test_accuracy_margin} %') # Previous Accuracy is 86.99837239583333 %"
   ]
  },
  {
   "cell_type": "code",
   "execution_count": null,
   "metadata": {},
   "outputs": [],
   "source": [
    "model_predictions = np.asarray(y_pred)\n",
    "ground_truth = y_val.squeeze()"
   ]
  },
  {
   "cell_type": "code",
   "execution_count": null,
   "metadata": {},
   "outputs": [],
   "source": [
    "# (A) Case where prediction was zero\n",
    "zero_predictions_vs_gt = np.asarray( list(zip( model_predictions[model_predictions == 0], ground_truth[model_predictions == 0])) )\n",
    "# (A) (ii)Case where prediction was zero but ground truth is different\n",
    "zero_predictions_wrong = ( sum( [1 if iter[0] !=iter[1] else 0 for iter in zero_predictions_vs_gt ] ) ,len(zero_predictions_vs_gt) )\n",
    "   \n",
    "#(B) Case where ground truth was zero \n",
    "zero_gt_vs_predictions =  np.asarray( list(zip( ground_truth[ground_truth == 0], model_predictions[ground_truth == 0] )) ) \n",
    "#(B) (i) Case where ground truth was zero but prediction was different\n",
    "zero_gt_right_pred= ( sum( [1 if iter[0] ==iter[1] else 0 for iter in zero_gt_vs_predictions ] ) ,len(zero_gt_vs_predictions) )\n",
    "\n"
   ]
  },
  {
   "cell_type": "code",
   "execution_count": null,
   "metadata": {},
   "outputs": [],
   "source": [
    "# Prediction per Ground-truth class\n",
    "class_predictions = [ model_predictions[ground_truth==idx]  for idx in range(num_classes) ]\n",
    "\n",
    "# RMSE without the zero class for each class\n",
    "# named_class_rmse = [('Class-%s'%(each_class),np.sqrt (np.mean((each_class - class_predictions[each_class])**2)) ) for each_class in range(1,17) ]\n",
    "# per_class_rmse = np.asarray( [ np.sqrt (np.mean((each_class - class_predictions[each_class])**2)) for each_class in range(1,17)]  )  \n"
   ]
  },
  {
   "cell_type": "code",
   "execution_count": null,
   "metadata": {},
   "outputs": [],
   "source": [
    "# Weight of each class\n",
    "(_,cl_count) = np.unique(ground_truth,return_counts = True)\n",
    "weight = cl_count/len(ground_truth)\n",
    "\n",
    "total_rmse = np.mean( per_class_rmse* weight[1:] )\n",
    "\n"
   ]
  },
  {
   "cell_type": "code",
   "execution_count": null,
   "metadata": {},
   "outputs": [],
   "source": [
    "# Histogram of each class prediction\n",
    "for idx,each_class in enumerate(class_predictions):\n",
    "    plt.figure()\n",
    "    plt.title('Class %s'%idx)\n",
    "    _ = plt.hist(each_class, bins=np.arange(-0.5,22.5,1));\n",
    "    "
   ]
  },
  {
   "cell_type": "code",
   "execution_count": null,
   "metadata": {},
   "outputs": [],
   "source": [
    "def PlotCurves(model):\n",
    "    \n",
    "    plt.plot(model.history.history['accuracy'],label = 'train')\n",
    "    plt.grid(color = 'r', linestyle = '--', linewidth = .1)\n",
    "    plt.ylabel('Accuracy');\n",
    "    plt.title('Training accuracy');\n",
    "    plt.figure()\n",
    "    plt.plot(model.history.history['val_accuracy'],label = 'validation')\n",
    "    plt.grid(color = 'r', linestyle = '--', linewidth = .1)\n",
    "    plt.ylabel('Val Accuracy');\n",
    "    plt.title('Validation accuracy');\n",
    "\n",
    "    return None\n",
    "\n",
    "PlotCurves(model)"
   ]
  },
  {
   "cell_type": "code",
   "execution_count": null,
   "metadata": {},
   "outputs": [],
   "source": [
    "# Evaluate on test set ( this should be evaluation set actually)\n",
    "y_test1  = all_target[train_size:]\n",
    "predictions = [(np.argmax(loaded_model.predict(np.reshape(x_test[idx,:],(1,240)))),int(y_test1[idx])) for idx in range(len(x_test)) ]\n",
    "\n",
    "# Confusion matrix\n",
    "confusion_mtx = np.zeros((17,17) )\n",
    "\n",
    "for pred,actual in predictions:\n",
    "    confusion_mtx[pred,actual] +=1"
   ]
  },
  {
   "cell_type": "code",
   "execution_count": null,
   "metadata": {},
   "outputs": [],
   "source": []
  },
  {
   "cell_type": "code",
   "execution_count": null,
   "metadata": {},
   "outputs": [],
   "source": [
    "time_stamp = datetime.strftime( datetime.now(),'%d_%B_%y_%H%M')\n",
    "\n",
    "model.save(f'FullResNetModel_july2021_w21_15_{time_stamp}.h5')"
   ]
  }
 ],
 "metadata": {
  "kernelspec": {
   "display_name": "ibk_tf_2.6",
   "language": "python",
   "name": "tf2.6"
  },
  "language_info": {
   "codemirror_mode": {
    "name": "ipython",
    "version": 3
   },
   "file_extension": ".py",
   "mimetype": "text/x-python",
   "name": "python",
   "nbconvert_exporter": "python",
   "pygments_lexer": "ipython3",
   "version": "3.9.7"
  }
 },
 "nbformat": 4,
 "nbformat_minor": 4
}
