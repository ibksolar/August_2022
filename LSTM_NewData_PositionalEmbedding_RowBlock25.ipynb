{
 "cells": [
  {
   "cell_type": "code",
   "execution_count": 1,
   "id": "dbf0fa04-d15f-40e3-bc8e-e0c581c9707c",
   "metadata": {},
   "outputs": [
    {
     "name": "stdout",
     "output_type": "stream",
     "text": [
      "Packages Loaded\n"
     ]
    }
   ],
   "source": [
    "from __future__ import print_function\n",
    "\n",
    "import os\n",
    "\n",
    "import pandas as pd\n",
    "import numpy as np\n",
    "import matplotlib.pyplot as plt\n",
    "import random\n",
    "import tensorflow as tf\n",
    "from tensorflow.keras.models import Sequential, Model\n",
    "from tensorflow.keras.layers import *\n",
    "from tensorflow.keras import layers\n",
    "from tensorflow.keras.callbacks import EarlyStopping, ModelCheckpoint,TensorBoard,ReduceLROnPlateau\n",
    "\n",
    "from tensorflow.keras.optimizers import SGD, Adam\n",
    "from tensorflow.keras.activations import relu\n",
    "from tensorflow.keras.regularizers import l2\n",
    "from tensorflow.keras.constraints import max_norm\n",
    "from tensorflow.keras import backend as K\n",
    "# from tensorflow.keras.datasets import mnist, cifar10\n",
    "import tensorflow_addons as tfa\n",
    "\n",
    "import sklearn\n",
    "from itertools import chain\n",
    "\n",
    "from IPython.core.interactiveshell import InteractiveShell\n",
    "InteractiveShell.ast_node_interactivity = \"all\"\n",
    "from scipy.io import loadmat \n",
    "import mat73\n",
    "from datetime import datetime\n",
    "import ipynbname\n",
    "\n",
    "print(\"Packages Loaded\")"
   ]
  },
  {
   "cell_type": "code",
   "execution_count": 2,
   "id": "adf54a68-1fbb-4f85-90cb-881fbf072256",
   "metadata": {},
   "outputs": [
    {
     "name": "stdout",
     "output_type": "stream",
     "text": [
      "1 Physical GPUs, 1 Logical GPUs\n"
     ]
    }
   ],
   "source": [
    "gpus = tf.config.list_physical_devices('GPU')\n",
    "if gpus:\n",
    "  try:\n",
    "    # Currently, memory growth needs to be the same across GPUs\n",
    "    for gpu in gpus:\n",
    "      #tf_config = tf.ConfigProto(allow_soft_placement=False)\n",
    "      tf.config.experimental.set_memory_growth(gpu, True)\n",
    "    logical_gpus = tf.config.list_logical_devices('GPU')\n",
    "    print(len(gpus), \"Physical GPUs,\", len(logical_gpus), \"Logical GPUs\")\n",
    "  except RuntimeError as e:\n",
    "    # Memory growth must be set before GPUs have been initialized\n",
    "    print(e)"
   ]
  },
  {
   "cell_type": "code",
   "execution_count": 3,
   "id": "5e0ff66a-fe8d-4b53-923d-87fd82eaa274",
   "metadata": {
    "tags": []
   },
   "outputs": [
    {
     "name": "stderr",
     "output_type": "stream",
     "text": [
      "\u001b[34m\u001b[1mwandb\u001b[0m: Currently logged in as: \u001b[33mibksolar\u001b[0m (use `wandb login --relogin` to force relogin)\n"
     ]
    },
    {
     "data": {
      "text/html": [
       "wandb version 0.12.21 is available!  To upgrade, please run:\n",
       " $ pip install wandb --upgrade"
      ],
      "text/plain": [
       "<IPython.core.display.HTML object>"
      ]
     },
     "metadata": {},
     "output_type": "display_data"
    },
    {
     "data": {
      "text/html": [
       "Tracking run with wandb version 0.12.11"
      ],
      "text/plain": [
       "<IPython.core.display.HTML object>"
      ]
     },
     "metadata": {},
     "output_type": "display_data"
    },
    {
     "data": {
      "text/html": [
       "Run data is saved locally in <code>Y:\\ibikunle\\Python_Project\\Fall_2021\\Model_and_weights\\wandb\\run-20220724_191721-2gydxhb6</code>"
      ],
      "text/plain": [
       "<IPython.core.display.HTML object>"
      ]
     },
     "metadata": {},
     "output_type": "display_data"
    },
    {
     "data": {
      "text/html": [
       "Syncing run <strong><a href=\"https://wandb.ai/ibksolar/my-test-project/runs/2gydxhb6\" target=\"_blank\">LSTM_NewData_PositionalEmbedding_RowBlock2524_July_22_1917</a></strong> to <a href=\"https://wandb.ai/ibksolar/my-test-project\" target=\"_blank\">Weights & Biases</a> (<a href=\"https://wandb.me/run\" target=\"_blank\">docs</a>)<br/>"
      ],
      "text/plain": [
       "<IPython.core.display.HTML object>"
      ]
     },
     "metadata": {},
     "output_type": "display_data"
    },
    {
     "data": {
      "text/html": [
       "<button onClick=\"this.nextSibling.style.display='block';this.style.display='none';\">Display W&B run</button><iframe src=\"https://wandb.ai/ibksolar/my-test-project/runs/2gydxhb6?jupyter=true\" style=\"border:none;width:100%;height:420px;display:none;\"></iframe>"
      ],
      "text/plain": [
       "<wandb.sdk.wandb_run.Run at 0x28a5fbb39a0>"
      ]
     },
     "execution_count": 3,
     "metadata": {},
     "output_type": "execute_result"
    }
   ],
   "source": [
    "import wandb\n",
    "from wandb.keras import WandbCallback\n",
    "time_stamp = datetime.strftime( datetime.now(),'%d_%B_%y_%H%M')\n",
    "wandb.init(project=\"my-test-project\", entity=\"ibksolar\", name=ipynbname.name()+time_stamp,config ={} )\n",
    " \n",
    "config = wandb.config"
   ]
  },
  {
   "cell_type": "code",
   "execution_count": 4,
   "id": "00c1aba9-f492-4875-be63-c42578d6918a",
   "metadata": {},
   "outputs": [],
   "source": [
    "# Load data\n",
    "# raw_data1 = loadmat('new_echo_cnn_in_out_jstarrs2021_first_try/echo_cnn_in_out_jstars1.mat')\n",
    "# raw_data1 = loadmat('echo_cnn_in_out_GOOD_layers/new_echo_cnn_in_out_jstars1.mat') 'findpeaks_layers/new_echo_cnn_in_out_jstars1.mat'\n",
    "load_old_data = True\n",
    "\n",
    "if load_old_data:\n",
    "    raw_data1 = loadmat('../../../Python_Env/final_layers_rowblock15_21/filtered_image/new_echo_cnn_in_out_jstars1.mat')\n",
    "    raw_data2 = loadmat('../../../Python_Env/final_layers_rowblock15_21/filtered_image/new_echo_cnn_in_out_jstars2.mat')\n",
    "    raw_data3 = loadmat('../../../Python_Env/final_layers_rowblock15_21/filtered_image/new_echo_cnn_in_out_jstars3.mat')\n",
    "    # raw_data4 = loadmat('findpeaks_layers_rowblock20/new_echo_cnn_in_out_jstars4.mat')\n",
    "\n",
    "    d1 = raw_data1['echo_cnn1']\n",
    "    t1 = raw_data1['echo_target1']\n",
    "    i1 = raw_data1['echo_idx1']\n",
    "    c1 = raw_data1['coords1']\n",
    "\n",
    "    d2 = raw_data2['echo_cnn2']\n",
    "    t2 = raw_data2['echo_target2']\n",
    "    i2 = raw_data2['echo_idx2']\n",
    "    c2 = raw_data2['coords2']\n",
    "\n",
    "    d3 = raw_data3['echo_cnn3']\n",
    "    t3 = raw_data3['echo_target3']\n",
    "    i3 = raw_data3['echo_idx3']\n",
    "    c3 = raw_data3['coords3']\n",
    "\n",
    "    # d4 = raw_data4['echo_cnn4']\n",
    "    # t4 = raw_data4['echo_target4']\n",
    "    # i4 = raw_data4['echo_idx4']\n",
    "\n",
    "\n",
    "    orig_all_data = np.concatenate( (d1,d2,d3),axis = 0 )\n",
    "    orig_all_target = np.concatenate( (t1,t2,t3),axis = 0 )\n",
    "    orig_all_idx = np.concatenate( (i1,i2,i3),axis = 0 )\n",
    "    coords = np.concatenate( (c1,c2,c3),axis = 0 )\n",
    "\n",
    "    # Set all nan in the data to zero\n",
    "    nan_idx = np.isnan(orig_all_data).any(axis =-1)\n",
    "    orig_all_target[nan_idx] = 0\n",
    "    orig_all_data[ np.isnan(orig_all_data) ]= 0"
   ]
  },
  {
   "cell_type": "code",
   "execution_count": 5,
   "id": "e7b9422f-2ba1-44a7-91cf-e390fe7d2138",
   "metadata": {},
   "outputs": [],
   "source": [
    "load_new_data = False\n",
    "\n",
    "if load_new_data:\n",
    "    # base_path = '..\\\\..\\\\all_block_data\\Dec_Train_block_len_21_011121_2331'\n",
    "    #base_path = '../all_block_data/Old_data/Dec_Train_block_len_21_231121_1531'\n",
    "    #base_path = '../all_block_data\\PulsedTrainTest\\Dec_Train_block_len_25_150322_1554'\n",
    "    base_path = 'Y:\\\\ibikunle\\\\Python_Project\\\\Fall_2021\\\\all_block_data\\\\Attention_Train_data\\\\Train_data\\\\20120330_04_5km'\n",
    "    # Confirm path is right...\n",
    "    print(f'{os.path.isdir(base_path)}')"
   ]
  },
  {
   "cell_type": "code",
   "execution_count": 6,
   "id": "90249072-75c1-4a9a-a874-41d0d91e13fe",
   "metadata": {},
   "outputs": [],
   "source": [
    "if load_new_data:\n",
    "    raw_data1 = mat73.loadmat(base_path + '/echo_cnn_in_out_jstars.mat')\n",
    "    all_data = raw_data1['echo_cnn_input']\n",
    "    all_target = raw_data1['echo_cnn_target']\n",
    "    all_coords = raw_data1['coords']\n",
    "    echo_idx = raw_data1['orig_echo_idx']\n",
    "\n",
    "    # Set all nan in the data to zero\n",
    "    nan_idx = np.isnan(all_data).any(axis =-1)\n",
    "    all_target[nan_idx] = 0\n",
    "    all_data[ np.isnan(all_data) ]= 0\n",
    "\n",
    "\n",
    "    orig_all_data = all_data\n",
    "    orig_all_target = all_target\n",
    "    orig_all_idx = echo_idx\n",
    "    coords = all_coords"
   ]
  },
  {
   "cell_type": "code",
   "execution_count": 7,
   "id": "120f732e-abb2-4041-92b2-aa1b6b5e5244",
   "metadata": {},
   "outputs": [],
   "source": [
    "# Split based on echograms into small dataset representing training and testing.\n",
    "\n",
    "config['reduce_test_set'] = False\n",
    "\n",
    "all_echo_idx = np.unique(orig_all_idx)\n",
    "\n",
    "# Start split \n",
    "#test_echo_idx = list(chain.from_iterable( [ list(range(20*n+1,20*n+20)) for n in range(1,int(max(all_echo_idx))//20,2) ] ) )\n",
    "\n",
    "# New training should stop at 1225: Final test set starts from echogram 119 in original imb.picker echograms\n",
    "test_echo_idx = list(chain.from_iterable( [ list(range(20*n+1,20*n+20)) for n in range(1,max(all_echo_idx)//20,2) ] ) )\n",
    "\n",
    "\n",
    "# list(set(test_echo_idx) & set(train_echo_idx))\n",
    "\n",
    "if config['reduce_test_set']:\n",
    "    #random.Random(13).shuffle(test_echo_idx)\n",
    "    test_start = 50 ; test_stop = 100 #test_start+round(0.3*len(test_echo_idx))\n",
    "    test_echo_idx = test_echo_idx[test_start:test_stop]\n",
    "   \n",
    "\n",
    "# Create train_echo_idx     \n",
    "train_echo_idx = [int(elem) for elem in all_echo_idx if elem not in test_echo_idx]\n",
    "\n",
    "# Create new coords idx for each rowblock from all the echograms\n",
    "val_cnt = [ (orig_all_idx==elem).sum() for elem in train_echo_idx]\n",
    "new_coords = []\n",
    "for elem in val_cnt:\n",
    "    new_coords.append([*range(elem)])\n",
    "new_coords = np.concatenate(new_coords).ravel()\n",
    "\n",
    "# Get all idx of echos in train_echo_idx ( Might need to find a faster implementation)\n",
    "#search_idx = np.where(orig_all_idx == train_echo_idx) #np.where( np.in1d(all_idx,train_echo_idx) )\n",
    "search_idx = []\n",
    "for echo_idx in train_echo_idx:\n",
    "    search_idx.append( np.where(orig_all_idx == echo_idx)[0] )\n",
    "search_idx = list(chain(*search_idx))\n",
    "\n",
    "all_data = orig_all_data[search_idx]\n",
    "all_target = orig_all_target[search_idx]\n",
    "all_idx = orig_all_idx[search_idx]\n",
    "\n",
    "np.testing.assert_equal(new_coords.shape[0],all_data.shape[0])"
   ]
  },
  {
   "cell_type": "code",
   "execution_count": 8,
   "id": "88db6e2e-f752-4b1f-b3a4-395adeaf4fa9",
   "metadata": {},
   "outputs": [],
   "source": [
    "# Standardize all_data\n",
    "standardize = False\n",
    "if standardize:\n",
    "    all_data  = ( all_data - all_data.mean() ) / all_data.std()\n",
    "\n",
    "scale_data = False\n",
    "if scale_data:\n",
    "    all_data = 255*all_data"
   ]
  },
  {
   "cell_type": "code",
   "execution_count": 9,
   "id": "b97ea785-542b-42f8-aee2-fef06a14040d",
   "metadata": {},
   "outputs": [],
   "source": [
    "# Truncate data because data after truncate point is not good for training\n",
    "\n",
    "truncate_data = False\n",
    "if truncate_data:    \n",
    "    echo_idx = np.asarray(echo_idx)\n",
    "    stop_val = 400\n",
    "\n",
    "    stop_list, = np.where(echo_idx == stop_val)\n",
    "    stop_idx = stop_list[-1]\n",
    "\n",
    "    all_data = all_data[:stop_idx]\n",
    "    all_target = all_target[:stop_idx]\n",
    "\n",
    "    print(f'Data shape {all_data.shape}')\n",
    "    print(f'Target shape {all_target.shape}')\n"
   ]
  },
  {
   "cell_type": "code",
   "execution_count": 10,
   "id": "3eaf3c7e-1bb9-4d3b-b0af-deca0f0995b7",
   "metadata": {},
   "outputs": [
    {
     "name": "stdout",
     "output_type": "stream",
     "text": [
      "Dimensions match\n"
     ]
    }
   ],
   "source": [
    "config['row_length'] = 21 # CHANGE HERE <==\n",
    "config['col_length'] = 15\n",
    "\n",
    "# Check that the dimension of data is correct\n",
    "if all_data.shape[1] == config['row_length']*config['col_length']:\n",
    "    print('Dimensions match')\n",
    "else:\n",
    "    print(f' Row block length:{config[\"row_length\"]} and col length:{config[\"col_length\"]} does not match Data dimension:{all_data.shape[1]}') \n",
    "        "
   ]
  },
  {
   "cell_type": "code",
   "execution_count": 11,
   "id": "240c5978-0a4c-4a42-af11-b067dffe8ebc",
   "metadata": {},
   "outputs": [],
   "source": [
    "# Positional Encoding\n",
    "\n",
    "if 0 :\n",
    "    time_seq = 9 #col_length #5\n",
    "    # all_coords = raw_data1['coords']\n",
    "    all_coord_exp = np.zeros((all_coords.shape[0],time_seq,row_length))\n",
    "\n",
    "    for idx in range(len(all_coords)):\n",
    "        a,b,c,_ = np.asarray(all_coords[idx],dtype=\"int\")\n",
    "        if (a%2) == 0: # If row index is even - this isn't implemented well because it requires iterating through individual rows\n",
    "            all_coord_exp[idx] = np.sin( np.outer( np.arange(c,c+time_seq), pow(10000, (2*np.arange(a,b)/row_length)) ) )\n",
    "        else:\n",
    "            all_coord_exp[idx] = np.cos( np.outer( np.arange(c,c+time_seq), pow(10000, (2*np.arange(a,b)/row_length)) ) )\n",
    "\n",
    "    if 0: #truncate_data:\n",
    "        difficult_coords = all_coord_exp[stop_idx+1:]         \n",
    "        all_coord_exp = all_coord_exp[:stop_idx]        \n",
    "\n",
    "\n",
    "    all_coord_exp.shape    "
   ]
  },
  {
   "cell_type": "code",
   "execution_count": 12,
   "id": "74a21fb3-2ded-4b74-b535-d2818701fdf0",
   "metadata": {},
   "outputs": [],
   "source": [
    "seq_length = 9\n",
    "\n",
    "# Create Coords matrix to be used for Positional Embedding\n",
    "new_coords_mtx = np.zeros( (len(new_coords),seq_length) )\n",
    "\n",
    "for idx,each_coord in enumerate(new_coords):\n",
    "    new_coords_mtx[idx] = np.linspace(0, each_coord, num=seq_length)"
   ]
  },
  {
   "cell_type": "code",
   "execution_count": 13,
   "id": "ab1acb17-7dee-417b-97bc-8d0bba4e4cf4",
   "metadata": {},
   "outputs": [
    {
     "name": "stdout",
     "output_type": "stream",
     "text": [
      "Shape of X_train:(665510, 9, 21)  X_test:(221837, 9, 21)\n",
      "Shape of y_train:(665510, 1)  y_test:(221837, 1)\n"
     ]
    }
   ],
   "source": [
    "max_class = config['row_length'] \n",
    "\n",
    "# Highest class is mapped to row_length+1\n",
    "all_target[all_target == max_class+1 ] = 0\n",
    "\n",
    "\n",
    "shuffle = 1\n",
    "if shuffle:\n",
    "    random.Random(13).shuffle(all_data)\n",
    "    random.Random(13).shuffle(all_target)\n",
    "    # random.Random(13).shuffle(all_coord_exp)\n",
    "    random.Random(13).shuffle(new_coords_mtx)\n",
    "\n",
    "## Prep data\n",
    "train_size = int(np.floor(0.60*len(all_target)));\n",
    "test_size = int(np.round( 0.20* all_data.shape[0] ))\n",
    "val_size = all_data.shape[0] -train_size - test_size\n",
    "\n",
    "mid_pt = 8\n",
    "neigh =  4\n",
    "\n",
    "x_train = all_data[0:train_size,:]\n",
    "x_train = np.reshape( x_train, (x_train.shape[0],max_class,-1),order ='F' )\n",
    "x_train = x_train[:,:,mid_pt-neigh:mid_pt+neigh+1]\n",
    "# x_train = np.reshape(x_train,(x_train.shape[0],-1))\n",
    "x_train = np.transpose(x_train,(0,2,1))\n",
    "coords_train = new_coords_mtx[0:train_size,:]\n",
    "\n",
    "\n",
    "x_test = all_data[train_size:train_size+test_size,:]\n",
    "x_test = np.reshape( x_test,(x_test.shape[0],max_class,-1), order ='F' )\n",
    "x_test = x_test[:,:,mid_pt-neigh:mid_pt+neigh+1]\n",
    "# x_test = np.reshape(x_test,(x_test.shape[0],-1))\n",
    "x_test = np.transpose(x_test,(0,2,1))\n",
    "coords_test = new_coords_mtx[train_size:train_size+test_size,:]\n",
    "\n",
    "\n",
    "x_val = all_data[-val_size:,:]\n",
    "x_val = np.reshape( x_val,(x_val.shape[0],max_class,-1), order ='F' )\n",
    "x_val = x_val[:,:,mid_pt-neigh:mid_pt+neigh+1]\n",
    "# x_val = np.reshape(x_val,(x_val.shape[0],-1))\n",
    "x_val = np.transpose(x_val,(0,2,1))\n",
    "coords_val = new_coords_mtx[-val_size:,:]\n",
    "\n",
    "\n",
    "y_train = all_target[:train_size]\n",
    "y_test  = all_target[train_size:train_size+test_size]\n",
    "y_val = all_target[-val_size:]\n",
    "\n",
    "var_input_shape = x_train.shape[1:] # 240 columns\n",
    "config['num_classes'] = max_class+1 # layers\n",
    "\n",
    "\n",
    "# Convert labels to categorical orthonormal vectors\n",
    "y_train_1hot = tf.keras.utils.to_categorical(y_train, config['num_classes'])\n",
    "y_test_1hot  = tf.keras.utils.to_categorical(y_test, config['num_classes'])\n",
    "\n",
    "print(f'Shape of X_train:{x_train.shape}  X_test:{x_test.shape}')\n",
    "print(f'Shape of y_train:{y_train.shape}  y_test:{y_test.shape}')"
   ]
  },
  {
   "cell_type": "code",
   "execution_count": 14,
   "id": "d4e1d74e-7ca6-41f4-918e-9712adcdce02",
   "metadata": {},
   "outputs": [
    {
     "data": {
      "image/png": "[encoded data removed]",
      "text/plain": [
       "<Figure size 432x288 with 1 Axes>"
      ]
     },
     "metadata": {
      "needs_background": "light"
     },
     "output_type": "display_data"
    },
    {
     "data": {
      "image/png": "[encoded data removed]",
      "text/plain": [
       "<Figure size 432x288 with 1 Axes>"
      ]
     },
     "metadata": {
      "needs_background": "light"
     },
     "output_type": "display_data"
    }
   ],
   "source": [
    "# Show distribution of targets in training and validation set\n",
    "\n",
    "labels, counts = np.unique(y_train, return_counts=True)\n",
    "_ = plt.bar(labels, counts, align='center')\n",
    "_ = plt.gca().set_xticks(labels)\n",
    "_ = plt.title('Distribution of targets in Training set')\n",
    "_ = plt.show()\n",
    "\n",
    "\n",
    "labels, counts = np.unique(y_val, return_counts=True)\n",
    "_ = plt.bar(labels, counts, align='center')\n",
    "_ = plt.gca().set_xticks(labels)\n",
    "_ = plt.title('Distribution of targets in Validation set')\n",
    "_ = plt.show()"
   ]
  },
  {
   "cell_type": "code",
   "execution_count": 15,
   "id": "d2641993-96aa-4d4f-9342-5806258036fa",
   "metadata": {},
   "outputs": [],
   "source": [
    "x_train2 = np.stack((x_train,)*3, axis=-1)\n",
    "x_test2 = np.stack((x_test,)*3, axis=-1)\n",
    "x_val2 = np.stack((x_val,)*3, axis=-1)"
   ]
  },
  {
   "cell_type": "code",
   "execution_count": 16,
   "id": "45833095-8823-4f47-895b-876c2c1b2396",
   "metadata": {},
   "outputs": [
    {
     "name": "stdout",
     "output_type": "stream",
     "text": [
      "Could not get file name: auto-generating name\n"
     ]
    },
    {
     "ename": "KeyError",
     "evalue": "'Uniqueness_of_each_run'",
     "output_type": "error",
     "traceback": [
      "\u001b[1;31m---------------------------------------------------------------------------\u001b[0m",
      "\u001b[1;31mKeyError\u001b[0m                                  Traceback (most recent call last)",
      "\u001b[1;32m~\\.conda\\envs\\TF_2.8\\lib\\site-packages\\pandas\\core\\indexes\\base.py\u001b[0m in \u001b[0;36mget_loc\u001b[1;34m(self, key, method, tolerance)\u001b[0m\n\u001b[0;32m   3620\u001b[0m             \u001b[1;32mtry\u001b[0m\u001b[1;33m:\u001b[0m\u001b[1;33m\u001b[0m\u001b[1;33m\u001b[0m\u001b[0m\n\u001b[1;32m-> 3621\u001b[1;33m                 \u001b[1;32mreturn\u001b[0m \u001b[0mself\u001b[0m\u001b[1;33m.\u001b[0m\u001b[0m_engine\u001b[0m\u001b[1;33m.\u001b[0m\u001b[0mget_loc\u001b[0m\u001b[1;33m(\u001b[0m\u001b[0mcasted_key\u001b[0m\u001b[1;33m)\u001b[0m\u001b[1;33m\u001b[0m\u001b[1;33m\u001b[0m\u001b[0m\n\u001b[0m\u001b[0;32m   3622\u001b[0m             \u001b[1;32mexcept\u001b[0m \u001b[0mKeyError\u001b[0m \u001b[1;32mas\u001b[0m \u001b[0merr\u001b[0m\u001b[1;33m:\u001b[0m\u001b[1;33m\u001b[0m\u001b[1;33m\u001b[0m\u001b[0m\n",
      "\u001b[1;32m~\\.conda\\envs\\TF_2.8\\lib\\site-packages\\pandas\\_libs\\index.pyx\u001b[0m in \u001b[0;36mpandas._libs.index.IndexEngine.get_loc\u001b[1;34m()\u001b[0m\n",
      "\u001b[1;32m~\\.conda\\envs\\TF_2.8\\lib\\site-packages\\pandas\\_libs\\index.pyx\u001b[0m in \u001b[0;36mpandas._libs.index.IndexEngine.get_loc\u001b[1;34m()\u001b[0m\n",
      "\u001b[1;32mpandas\\_libs\\hashtable_class_helper.pxi\u001b[0m in \u001b[0;36mpandas._libs.hashtable.PyObjectHashTable.get_item\u001b[1;34m()\u001b[0m\n",
      "\u001b[1;32mpandas\\_libs\\hashtable_class_helper.pxi\u001b[0m in \u001b[0;36mpandas._libs.hashtable.PyObjectHashTable.get_item\u001b[1;34m()\u001b[0m\n",
      "\u001b[1;31mKeyError\u001b[0m: 'Uniqueness_of_each_run'",
      "\nThe above exception was the direct cause of the following exception:\n",
      "\u001b[1;31mKeyError\u001b[0m                                  Traceback (most recent call last)",
      "\u001b[1;32m~\\AppData\\Local\\Temp\\ipykernel_12500\\3100614868.py\u001b[0m in \u001b[0;36m<module>\u001b[1;34m\u001b[0m\n\u001b[0;32m     32\u001b[0m \u001b[1;32mif\u001b[0m \u001b[1;34m\"log_idx\"\u001b[0m \u001b[1;32min\u001b[0m \u001b[0mglobals\u001b[0m\u001b[1;33m(\u001b[0m\u001b[1;33m)\u001b[0m\u001b[1;33m:\u001b[0m\u001b[1;33m\u001b[0m\u001b[1;33m\u001b[0m\u001b[0m\n\u001b[0;32m     33\u001b[0m     \u001b[0mlog\u001b[0m\u001b[1;33m[\u001b[0m\u001b[1;34m\"S_N\"\u001b[0m\u001b[1;33m]\u001b[0m \u001b[1;33m=\u001b[0m \u001b[0mlog_idx\u001b[0m\u001b[1;33m\u001b[0m\u001b[1;33m\u001b[0m\u001b[0m\n\u001b[1;32m---> 34\u001b[1;33m \u001b[0mlog_idx\u001b[0m \u001b[1;33m=\u001b[0m \u001b[0mcreate_log_entry\u001b[0m\u001b[1;33m(\u001b[0m\u001b[1;34m'../testing_sheet2.xlsx'\u001b[0m\u001b[1;33m,\u001b[0m \u001b[0mlog\u001b[0m\u001b[1;33m)\u001b[0m\u001b[1;33m\u001b[0m\u001b[1;33m\u001b[0m\u001b[0m\n\u001b[0m",
      "\u001b[1;32mY:\\ibikunle\\Python_Project\\Fall_2021\\Model_and_weights\\model_hyper_param_log.py\u001b[0m in \u001b[0;36mcreate_log_entry\u001b[1;34m(log_file_loc, log_dict)\u001b[0m\n\u001b[0;32m     72\u001b[0m     \u001b[1;31m# Check if Uniqueness_of_each_run exists in global variables\u001b[0m\u001b[1;33m\u001b[0m\u001b[1;33m\u001b[0m\u001b[0m\n\u001b[0;32m     73\u001b[0m     \u001b[1;32mif\u001b[0m  \u001b[1;34m\"Uniqueness_of_each_run\"\u001b[0m \u001b[1;32min\u001b[0m \u001b[0mlog_dict\u001b[0m\u001b[1;33m.\u001b[0m\u001b[0mkeys\u001b[0m\u001b[1;33m(\u001b[0m\u001b[1;33m)\u001b[0m \u001b[1;33m:\u001b[0m \u001b[1;31m#\"Uniqueness_of_each_run\" in globals() or\u001b[0m\u001b[1;33m\u001b[0m\u001b[1;33m\u001b[0m\u001b[0m\n\u001b[1;32m---> 74\u001b[1;33m         \u001b[1;32mif\u001b[0m \u001b[0mlog_dict\u001b[0m\u001b[1;33m[\u001b[0m\u001b[1;34m\"Uniqueness_of_each_run\"\u001b[0m\u001b[1;33m]\u001b[0m \u001b[1;32min\u001b[0m \u001b[0mdf\u001b[0m\u001b[1;33m.\u001b[0m\u001b[0mloc\u001b[0m\u001b[1;33m[\u001b[0m\u001b[1;33m:\u001b[0m\u001b[1;33m,\u001b[0m\u001b[1;34m'Uniqueness_of_each_run'\u001b[0m\u001b[1;33m]\u001b[0m\u001b[1;33m:\u001b[0m\u001b[1;33m\u001b[0m\u001b[1;33m\u001b[0m\u001b[0m\n\u001b[0m\u001b[0;32m     75\u001b[0m             \u001b[0mprint\u001b[0m\u001b[1;33m(\u001b[0m\u001b[1;34m'The uniqueness of this run already exist in previous run: please update'\u001b[0m\u001b[1;33m)\u001b[0m\u001b[1;33m\u001b[0m\u001b[1;33m\u001b[0m\u001b[0m\n\u001b[0;32m     76\u001b[0m         \u001b[0mRow\u001b[0m\u001b[1;33m[\u001b[0m\u001b[1;34m'Uniqueness_of_each_run'\u001b[0m\u001b[1;33m]\u001b[0m \u001b[1;33m=\u001b[0m \u001b[0mlog_dict\u001b[0m\u001b[1;33m[\u001b[0m\u001b[1;34m'Uniqueness_of_each_run'\u001b[0m\u001b[1;33m]\u001b[0m\u001b[1;33m\u001b[0m\u001b[1;33m\u001b[0m\u001b[0m\n",
      "\u001b[1;32m~\\.conda\\envs\\TF_2.8\\lib\\site-packages\\pandas\\core\\indexing.py\u001b[0m in \u001b[0;36m__getitem__\u001b[1;34m(self, key)\u001b[0m\n\u001b[0;32m    959\u001b[0m             \u001b[1;32mif\u001b[0m \u001b[0mself\u001b[0m\u001b[1;33m.\u001b[0m\u001b[0m_is_scalar_access\u001b[0m\u001b[1;33m(\u001b[0m\u001b[0mkey\u001b[0m\u001b[1;33m)\u001b[0m\u001b[1;33m:\u001b[0m\u001b[1;33m\u001b[0m\u001b[1;33m\u001b[0m\u001b[0m\n\u001b[0;32m    960\u001b[0m                 \u001b[1;32mreturn\u001b[0m \u001b[0mself\u001b[0m\u001b[1;33m.\u001b[0m\u001b[0mobj\u001b[0m\u001b[1;33m.\u001b[0m\u001b[0m_get_value\u001b[0m\u001b[1;33m(\u001b[0m\u001b[1;33m*\u001b[0m\u001b[0mkey\u001b[0m\u001b[1;33m,\u001b[0m \u001b[0mtakeable\u001b[0m\u001b[1;33m=\u001b[0m\u001b[0mself\u001b[0m\u001b[1;33m.\u001b[0m\u001b[0m_takeable\u001b[0m\u001b[1;33m)\u001b[0m\u001b[1;33m\u001b[0m\u001b[1;33m\u001b[0m\u001b[0m\n\u001b[1;32m--> 961\u001b[1;33m             \u001b[1;32mreturn\u001b[0m \u001b[0mself\u001b[0m\u001b[1;33m.\u001b[0m\u001b[0m_getitem_tuple\u001b[0m\u001b[1;33m(\u001b[0m\u001b[0mkey\u001b[0m\u001b[1;33m)\u001b[0m\u001b[1;33m\u001b[0m\u001b[1;33m\u001b[0m\u001b[0m\n\u001b[0m\u001b[0;32m    962\u001b[0m         \u001b[1;32melse\u001b[0m\u001b[1;33m:\u001b[0m\u001b[1;33m\u001b[0m\u001b[1;33m\u001b[0m\u001b[0m\n\u001b[0;32m    963\u001b[0m             \u001b[1;31m# we by definition only have the 0th axis\u001b[0m\u001b[1;33m\u001b[0m\u001b[1;33m\u001b[0m\u001b[0m\n",
      "\u001b[1;32m~\\.conda\\envs\\TF_2.8\\lib\\site-packages\\pandas\\core\\indexing.py\u001b[0m in \u001b[0;36m_getitem_tuple\u001b[1;34m(self, tup)\u001b[0m\n\u001b[0;32m   1138\u001b[0m         \u001b[1;32mwith\u001b[0m \u001b[0msuppress\u001b[0m\u001b[1;33m(\u001b[0m\u001b[0mIndexingError\u001b[0m\u001b[1;33m)\u001b[0m\u001b[1;33m:\u001b[0m\u001b[1;33m\u001b[0m\u001b[1;33m\u001b[0m\u001b[0m\n\u001b[0;32m   1139\u001b[0m             \u001b[0mtup\u001b[0m \u001b[1;33m=\u001b[0m \u001b[0mself\u001b[0m\u001b[1;33m.\u001b[0m\u001b[0m_expand_ellipsis\u001b[0m\u001b[1;33m(\u001b[0m\u001b[0mtup\u001b[0m\u001b[1;33m)\u001b[0m\u001b[1;33m\u001b[0m\u001b[1;33m\u001b[0m\u001b[0m\n\u001b[1;32m-> 1140\u001b[1;33m             \u001b[1;32mreturn\u001b[0m \u001b[0mself\u001b[0m\u001b[1;33m.\u001b[0m\u001b[0m_getitem_lowerdim\u001b[0m\u001b[1;33m(\u001b[0m\u001b[0mtup\u001b[0m\u001b[1;33m)\u001b[0m\u001b[1;33m\u001b[0m\u001b[1;33m\u001b[0m\u001b[0m\n\u001b[0m\u001b[0;32m   1141\u001b[0m \u001b[1;33m\u001b[0m\u001b[0m\n\u001b[0;32m   1142\u001b[0m         \u001b[1;31m# no multi-index, so validate all of the indexers\u001b[0m\u001b[1;33m\u001b[0m\u001b[1;33m\u001b[0m\u001b[0m\n",
      "\u001b[1;32m~\\.conda\\envs\\TF_2.8\\lib\\site-packages\\pandas\\core\\indexing.py\u001b[0m in \u001b[0;36m_getitem_lowerdim\u001b[1;34m(self, tup)\u001b[0m\n\u001b[0;32m    865\u001b[0m                 \u001b[1;31m# We don't need to check for tuples here because those are\u001b[0m\u001b[1;33m\u001b[0m\u001b[1;33m\u001b[0m\u001b[0m\n\u001b[0;32m    866\u001b[0m                 \u001b[1;31m#  caught by the _is_nested_tuple_indexer check above.\u001b[0m\u001b[1;33m\u001b[0m\u001b[1;33m\u001b[0m\u001b[0m\n\u001b[1;32m--> 867\u001b[1;33m                 \u001b[0msection\u001b[0m \u001b[1;33m=\u001b[0m \u001b[0mself\u001b[0m\u001b[1;33m.\u001b[0m\u001b[0m_getitem_axis\u001b[0m\u001b[1;33m(\u001b[0m\u001b[0mkey\u001b[0m\u001b[1;33m,\u001b[0m \u001b[0maxis\u001b[0m\u001b[1;33m=\u001b[0m\u001b[0mi\u001b[0m\u001b[1;33m)\u001b[0m\u001b[1;33m\u001b[0m\u001b[1;33m\u001b[0m\u001b[0m\n\u001b[0m\u001b[0;32m    868\u001b[0m \u001b[1;33m\u001b[0m\u001b[0m\n\u001b[0;32m    869\u001b[0m                 \u001b[1;31m# We should never have a scalar section here, because\u001b[0m\u001b[1;33m\u001b[0m\u001b[1;33m\u001b[0m\u001b[0m\n",
      "\u001b[1;32m~\\.conda\\envs\\TF_2.8\\lib\\site-packages\\pandas\\core\\indexing.py\u001b[0m in \u001b[0;36m_getitem_axis\u001b[1;34m(self, key, axis)\u001b[0m\n\u001b[0;32m   1200\u001b[0m         \u001b[1;31m# fall thru to straight lookup\u001b[0m\u001b[1;33m\u001b[0m\u001b[1;33m\u001b[0m\u001b[0m\n\u001b[0;32m   1201\u001b[0m         \u001b[0mself\u001b[0m\u001b[1;33m.\u001b[0m\u001b[0m_validate_key\u001b[0m\u001b[1;33m(\u001b[0m\u001b[0mkey\u001b[0m\u001b[1;33m,\u001b[0m \u001b[0maxis\u001b[0m\u001b[1;33m)\u001b[0m\u001b[1;33m\u001b[0m\u001b[1;33m\u001b[0m\u001b[0m\n\u001b[1;32m-> 1202\u001b[1;33m         \u001b[1;32mreturn\u001b[0m \u001b[0mself\u001b[0m\u001b[1;33m.\u001b[0m\u001b[0m_get_label\u001b[0m\u001b[1;33m(\u001b[0m\u001b[0mkey\u001b[0m\u001b[1;33m,\u001b[0m \u001b[0maxis\u001b[0m\u001b[1;33m=\u001b[0m\u001b[0maxis\u001b[0m\u001b[1;33m)\u001b[0m\u001b[1;33m\u001b[0m\u001b[1;33m\u001b[0m\u001b[0m\n\u001b[0m\u001b[0;32m   1203\u001b[0m \u001b[1;33m\u001b[0m\u001b[0m\n\u001b[0;32m   1204\u001b[0m     \u001b[1;32mdef\u001b[0m \u001b[0m_get_slice_axis\u001b[0m\u001b[1;33m(\u001b[0m\u001b[0mself\u001b[0m\u001b[1;33m,\u001b[0m \u001b[0mslice_obj\u001b[0m\u001b[1;33m:\u001b[0m \u001b[0mslice\u001b[0m\u001b[1;33m,\u001b[0m \u001b[0maxis\u001b[0m\u001b[1;33m:\u001b[0m \u001b[0mint\u001b[0m\u001b[1;33m)\u001b[0m\u001b[1;33m:\u001b[0m\u001b[1;33m\u001b[0m\u001b[1;33m\u001b[0m\u001b[0m\n",
      "\u001b[1;32m~\\.conda\\envs\\TF_2.8\\lib\\site-packages\\pandas\\core\\indexing.py\u001b[0m in \u001b[0;36m_get_label\u001b[1;34m(self, label, axis)\u001b[0m\n\u001b[0;32m   1151\u001b[0m     \u001b[1;32mdef\u001b[0m \u001b[0m_get_label\u001b[0m\u001b[1;33m(\u001b[0m\u001b[0mself\u001b[0m\u001b[1;33m,\u001b[0m \u001b[0mlabel\u001b[0m\u001b[1;33m,\u001b[0m \u001b[0maxis\u001b[0m\u001b[1;33m:\u001b[0m \u001b[0mint\u001b[0m\u001b[1;33m)\u001b[0m\u001b[1;33m:\u001b[0m\u001b[1;33m\u001b[0m\u001b[1;33m\u001b[0m\u001b[0m\n\u001b[0;32m   1152\u001b[0m         \u001b[1;31m# GH#5667 this will fail if the label is not present in the axis.\u001b[0m\u001b[1;33m\u001b[0m\u001b[1;33m\u001b[0m\u001b[0m\n\u001b[1;32m-> 1153\u001b[1;33m         \u001b[1;32mreturn\u001b[0m \u001b[0mself\u001b[0m\u001b[1;33m.\u001b[0m\u001b[0mobj\u001b[0m\u001b[1;33m.\u001b[0m\u001b[0mxs\u001b[0m\u001b[1;33m(\u001b[0m\u001b[0mlabel\u001b[0m\u001b[1;33m,\u001b[0m \u001b[0maxis\u001b[0m\u001b[1;33m=\u001b[0m\u001b[0maxis\u001b[0m\u001b[1;33m)\u001b[0m\u001b[1;33m\u001b[0m\u001b[1;33m\u001b[0m\u001b[0m\n\u001b[0m\u001b[0;32m   1154\u001b[0m \u001b[1;33m\u001b[0m\u001b[0m\n\u001b[0;32m   1155\u001b[0m     \u001b[1;32mdef\u001b[0m \u001b[0m_handle_lowerdim_multi_index_axis0\u001b[0m\u001b[1;33m(\u001b[0m\u001b[0mself\u001b[0m\u001b[1;33m,\u001b[0m \u001b[0mtup\u001b[0m\u001b[1;33m:\u001b[0m \u001b[0mtuple\u001b[0m\u001b[1;33m)\u001b[0m\u001b[1;33m:\u001b[0m\u001b[1;33m\u001b[0m\u001b[1;33m\u001b[0m\u001b[0m\n",
      "\u001b[1;32m~\\.conda\\envs\\TF_2.8\\lib\\site-packages\\pandas\\core\\generic.py\u001b[0m in \u001b[0;36mxs\u001b[1;34m(self, key, axis, level, drop_level)\u001b[0m\n\u001b[0;32m   3859\u001b[0m         \u001b[1;32mif\u001b[0m \u001b[0maxis\u001b[0m \u001b[1;33m==\u001b[0m \u001b[1;36m1\u001b[0m\u001b[1;33m:\u001b[0m\u001b[1;33m\u001b[0m\u001b[1;33m\u001b[0m\u001b[0m\n\u001b[0;32m   3860\u001b[0m             \u001b[1;32mif\u001b[0m \u001b[0mdrop_level\u001b[0m\u001b[1;33m:\u001b[0m\u001b[1;33m\u001b[0m\u001b[1;33m\u001b[0m\u001b[0m\n\u001b[1;32m-> 3861\u001b[1;33m                 \u001b[1;32mreturn\u001b[0m \u001b[0mself\u001b[0m\u001b[1;33m[\u001b[0m\u001b[0mkey\u001b[0m\u001b[1;33m]\u001b[0m\u001b[1;33m\u001b[0m\u001b[1;33m\u001b[0m\u001b[0m\n\u001b[0m\u001b[0;32m   3862\u001b[0m             \u001b[0mindex\u001b[0m \u001b[1;33m=\u001b[0m \u001b[0mself\u001b[0m\u001b[1;33m.\u001b[0m\u001b[0mcolumns\u001b[0m\u001b[1;33m\u001b[0m\u001b[1;33m\u001b[0m\u001b[0m\n\u001b[0;32m   3863\u001b[0m         \u001b[1;32melse\u001b[0m\u001b[1;33m:\u001b[0m\u001b[1;33m\u001b[0m\u001b[1;33m\u001b[0m\u001b[0m\n",
      "\u001b[1;32m~\\.conda\\envs\\TF_2.8\\lib\\site-packages\\pandas\\core\\frame.py\u001b[0m in \u001b[0;36m__getitem__\u001b[1;34m(self, key)\u001b[0m\n\u001b[0;32m   3503\u001b[0m             \u001b[1;32mif\u001b[0m \u001b[0mself\u001b[0m\u001b[1;33m.\u001b[0m\u001b[0mcolumns\u001b[0m\u001b[1;33m.\u001b[0m\u001b[0mnlevels\u001b[0m \u001b[1;33m>\u001b[0m \u001b[1;36m1\u001b[0m\u001b[1;33m:\u001b[0m\u001b[1;33m\u001b[0m\u001b[1;33m\u001b[0m\u001b[0m\n\u001b[0;32m   3504\u001b[0m                 \u001b[1;32mreturn\u001b[0m \u001b[0mself\u001b[0m\u001b[1;33m.\u001b[0m\u001b[0m_getitem_multilevel\u001b[0m\u001b[1;33m(\u001b[0m\u001b[0mkey\u001b[0m\u001b[1;33m)\u001b[0m\u001b[1;33m\u001b[0m\u001b[1;33m\u001b[0m\u001b[0m\n\u001b[1;32m-> 3505\u001b[1;33m             \u001b[0mindexer\u001b[0m \u001b[1;33m=\u001b[0m \u001b[0mself\u001b[0m\u001b[1;33m.\u001b[0m\u001b[0mcolumns\u001b[0m\u001b[1;33m.\u001b[0m\u001b[0mget_loc\u001b[0m\u001b[1;33m(\u001b[0m\u001b[0mkey\u001b[0m\u001b[1;33m)\u001b[0m\u001b[1;33m\u001b[0m\u001b[1;33m\u001b[0m\u001b[0m\n\u001b[0m\u001b[0;32m   3506\u001b[0m             \u001b[1;32mif\u001b[0m \u001b[0mis_integer\u001b[0m\u001b[1;33m(\u001b[0m\u001b[0mindexer\u001b[0m\u001b[1;33m)\u001b[0m\u001b[1;33m:\u001b[0m\u001b[1;33m\u001b[0m\u001b[1;33m\u001b[0m\u001b[0m\n\u001b[0;32m   3507\u001b[0m                 \u001b[0mindexer\u001b[0m \u001b[1;33m=\u001b[0m \u001b[1;33m[\u001b[0m\u001b[0mindexer\u001b[0m\u001b[1;33m]\u001b[0m\u001b[1;33m\u001b[0m\u001b[1;33m\u001b[0m\u001b[0m\n",
      "\u001b[1;32m~\\.conda\\envs\\TF_2.8\\lib\\site-packages\\pandas\\core\\indexes\\base.py\u001b[0m in \u001b[0;36mget_loc\u001b[1;34m(self, key, method, tolerance)\u001b[0m\n\u001b[0;32m   3621\u001b[0m                 \u001b[1;32mreturn\u001b[0m \u001b[0mself\u001b[0m\u001b[1;33m.\u001b[0m\u001b[0m_engine\u001b[0m\u001b[1;33m.\u001b[0m\u001b[0mget_loc\u001b[0m\u001b[1;33m(\u001b[0m\u001b[0mcasted_key\u001b[0m\u001b[1;33m)\u001b[0m\u001b[1;33m\u001b[0m\u001b[1;33m\u001b[0m\u001b[0m\n\u001b[0;32m   3622\u001b[0m             \u001b[1;32mexcept\u001b[0m \u001b[0mKeyError\u001b[0m \u001b[1;32mas\u001b[0m \u001b[0merr\u001b[0m\u001b[1;33m:\u001b[0m\u001b[1;33m\u001b[0m\u001b[1;33m\u001b[0m\u001b[0m\n\u001b[1;32m-> 3623\u001b[1;33m                 \u001b[1;32mraise\u001b[0m \u001b[0mKeyError\u001b[0m\u001b[1;33m(\u001b[0m\u001b[0mkey\u001b[0m\u001b[1;33m)\u001b[0m \u001b[1;32mfrom\u001b[0m \u001b[0merr\u001b[0m\u001b[1;33m\u001b[0m\u001b[1;33m\u001b[0m\u001b[0m\n\u001b[0m\u001b[0;32m   3624\u001b[0m             \u001b[1;32mexcept\u001b[0m \u001b[0mTypeError\u001b[0m\u001b[1;33m:\u001b[0m\u001b[1;33m\u001b[0m\u001b[1;33m\u001b[0m\u001b[0m\n\u001b[0;32m   3625\u001b[0m                 \u001b[1;31m# If we have a listlike key, _check_indexing_error will raise\u001b[0m\u001b[1;33m\u001b[0m\u001b[1;33m\u001b[0m\u001b[0m\n",
      "\u001b[1;31mKeyError\u001b[0m: 'Uniqueness_of_each_run'"
     ]
    }
   ],
   "source": [
    "# Populate the param \n",
    "\n",
    "# import sys,importlib\n",
    "#importlib.reload(sys.modules['model_hyper_param_log'])\n",
    "if 1:\n",
    "    \n",
    "    base_path =  r'Y:\\ibikunle\\Python_Project\\Fall_2021\\all_block_data\\PulsedTrainTest\\LSTM_PositionalEmbedding'\n",
    "    log ={}\n",
    "    log['Notebook_name'] = ipynbname.name()\n",
    "    log['Uniqueness_of_each_run'] = 'Adding augmentation: Training again_Now July2022: Back to old filtered_data: Hopefully, the final time. '\n",
    "    log['base_dir'] = base_path\n",
    "    log['Train_shape'] = x_train.shape\n",
    "    log['Output_shape'] = ''\n",
    "    log['num_epochs'] = ''\n",
    "    log['batch_size'] = ''\n",
    "    log['activation_function'] = ''\n",
    "    log['optimizer'] = ''\n",
    "    log['learning_rate'] = ''\n",
    "    log['loss_finction'] = ''\n",
    "    log['accuracy'] = []\n",
    "    log['loss'] = []\n",
    "    log['stop_time'] = ''\n",
    "    log['Model_config'] = ''\n",
    "    log['Performance_on_test_set'] = ''\n",
    "    log['output_path'] = ''  # output: where the trained model is saved\n",
    "    log['shuffle'] = shuffle\n",
    "    log['run_completion_comment'] = '' # Comment on training and probably evaluation too\n",
    "    log['extras'] = [{'standardize':standardize}]\n",
    "\n",
    "\n",
    "from model_hyper_param_log import create_log_entry, update_log_entry\n",
    "if \"log_idx\" in globals():\n",
    "    log[\"S_N\"] = log_idx\n",
    "log_idx = create_log_entry('../testing_sheet2.xlsx', log)"
   ]
  },
  {
   "cell_type": "code",
   "execution_count": null,
   "id": "90eaf02e-ac0c-47ae-93f8-ff9098ad79e8",
   "metadata": {},
   "outputs": [],
   "source": [
    "# Visualize some of the input\n",
    "rand_idx = random.choice( range(1,x_train.shape[0]) )\n",
    "_ = plt.plot(x_train[rand_idx].flatten())\n",
    "_ = plt.title(f'Index {rand_idx}___Target_value:{y_train[rand_idx]}' )\n",
    "_ = plt.grid(which='both')"
   ]
  },
  {
   "cell_type": "code",
   "execution_count": 17,
   "id": "6f21f031-c337-41e3-95f7-997d05de35eb",
   "metadata": {},
   "outputs": [],
   "source": [
    "data_augmentation = tf.keras.Sequential(\n",
    "    [\n",
    "        #layers.Rescaling(1 / 255.0),        \n",
    "        layers.RandomCrop(x_train.shape[1], x_train.shape[2]),\n",
    "        layers.RandomFlip(\"vertical\"),\n",
    "        layers.RandomFlip(\"horizontal\"),\n",
    "        layers.RandomContrast(0.2),\n",
    "        \n",
    "    ],\n",
    "    name=\"data_augmentation\",\n",
    ")"
   ]
  },
  {
   "cell_type": "code",
   "execution_count": null,
   "id": "20b641e2-a1f0-447f-ac45-eec2151807fe",
   "metadata": {},
   "outputs": [],
   "source": [
    "use_class_weight = False\n",
    "\n",
    "if use_class_weight:\n",
    "    each_class,each_count = np.unique(y_train, return_counts = True)\n",
    "    class_weights = len(y_train) / ( len(each_class) * each_count )\n",
    "    cl_weight_dict = dict(zip(each_class,class_weights))\n",
    "    "
   ]
  },
  {
   "cell_type": "code",
   "execution_count": null,
   "id": "a47cbdb9-107f-45bd-a75d-0a75810207a0",
   "metadata": {},
   "outputs": [
    {
     "name": "stdout",
     "output_type": "stream",
     "text": [
      "WARNING:tensorflow:Layer lstm will not use cuDNN kernels since it doesn't meet the criteria. It will use a generic GPU kernel as fallback when running on GPU.\n",
      "WARNING:tensorflow:Layer lstm_1 will not use cuDNN kernels since it doesn't meet the criteria. It will use a generic GPU kernel as fallback when running on GPU.\n",
      "WARNING:tensorflow:Layer lstm_2 will not use cuDNN kernels since it doesn't meet the criteria. It will use a generic GPU kernel as fallback when running on GPU.\n",
      "WARNING:tensorflow:Layer lstm_3 will not use cuDNN kernels since it doesn't meet the criteria. It will use a generic GPU kernel as fallback when running on GPU.\n",
      "WARNING:tensorflow:Layer lstm_4 will not use cuDNN kernels since it doesn't meet the criteria. It will use a generic GPU kernel as fallback when running on GPU.\n",
      "Training start time:19_July_22_1000\n",
      "Epoch 1/500\n",
      "5200/5200 [==============================] - 2597s 498ms/step - loss: 1.9327 - accuracy: 0.5346 - top-3-accuracy: 0.8851 - val_loss: 1.8810 - val_accuracy: 0.5646 - val_top-3-accuracy: 0.8910 - lr: 0.0010 - _timestamp: 1658245438.0000 - _runtime: 2681.0000\n",
      "Epoch 2/500\n",
      "5200/5200 [==============================] - 2591s 498ms/step - loss: 1.7972 - accuracy: 0.5966 - top-3-accuracy: 0.9199 - val_loss: 1.8256 - val_accuracy: 0.5963 - val_top-3-accuracy: 0.9077 - lr: 0.0010 - _timestamp: 1658248029.0000 - _runtime: 5272.0000\n",
      "Epoch 3/500\n",
      "5200/5200 [==============================] - 2701s 519ms/step - loss: 1.7527 - accuracy: 0.6184 - top-3-accuracy: 0.9297 - val_loss: 1.7796 - val_accuracy: 0.6156 - val_top-3-accuracy: 0.9180 - lr: 0.0010 - _timestamp: 1658250730.0000 - _runtime: 7973.0000\n",
      "Epoch 4/500\n",
      "5200/5200 [==============================] - 2955s 568ms/step - loss: 1.7211 - accuracy: 0.6348 - top-3-accuracy: 0.9365 - val_loss: 1.7740 - val_accuracy: 0.6201 - val_top-3-accuracy: 0.9206 - lr: 0.0010 - _timestamp: 1658253685.0000 - _runtime: 10928.0000\n",
      "Epoch 5/500\n",
      "5200/5200 [==============================] - 2749s 529ms/step - loss: 1.6940 - accuracy: 0.6499 - top-3-accuracy: 0.9422 - val_loss: 1.7615 - val_accuracy: 0.6301 - val_top-3-accuracy: 0.9210 - lr: 0.0010 - _timestamp: 1658256434.0000 - _runtime: 13677.0000\n",
      "Epoch 6/500\n",
      "5200/5200 [==============================] - 2960s 569ms/step - loss: 1.6732 - accuracy: 0.6633 - top-3-accuracy: 0.9459 - val_loss: 1.7400 - val_accuracy: 0.6408 - val_top-3-accuracy: 0.9251 - lr: 0.0010 - _timestamp: 1658259394.0000 - _runtime: 16637.0000\n",
      "Epoch 7/500\n",
      "5200/5200 [==============================] - 2687s 517ms/step - loss: 1.7080 - accuracy: 0.6441 - top-3-accuracy: 0.9392 - val_loss: 1.7607 - val_accuracy: 0.6316 - val_top-3-accuracy: 0.9193 - lr: 0.0010 - _timestamp: 1658262086.0000 - _runtime: 19329.0000\n",
      "Epoch 8/500\n",
      "5200/5200 [==============================] - 2610s 502ms/step - loss: 1.6504 - accuracy: 0.6757 - top-3-accuracy: 0.9504 - val_loss: 1.7239 - val_accuracy: 0.6517 - val_top-3-accuracy: 0.9280 - lr: 0.0010 - _timestamp: 1658264691.0000 - _runtime: 21934.0000\n",
      "Epoch 9/500\n",
      "5200/5200 [==============================] - 2602s 500ms/step - loss: 1.6278 - accuracy: 0.6883 - top-3-accuracy: 0.9544 - val_loss: 1.7141 - val_accuracy: 0.6574 - val_top-3-accuracy: 0.9320 - lr: 0.0010 - _timestamp: 1658267294.0000 - _runtime: 24537.0000\n",
      "Epoch 10/500\n",
      "5200/5200 [==============================] - 2594s 499ms/step - loss: 1.6134 - accuracy: 0.6979 - top-3-accuracy: 0.9568 - val_loss: 1.7051 - val_accuracy: 0.6682 - val_top-3-accuracy: 0.9307 - lr: 0.0010 - _timestamp: 1658269887.0000 - _runtime: 27130.0000\n",
      "Epoch 11/500\n",
      "5200/5200 [==============================] - 2597s 499ms/step - loss: 1.5981 - accuracy: 0.7071 - top-3-accuracy: 0.9587 - val_loss: 1.7135 - val_accuracy: 0.6680 - val_top-3-accuracy: 0.9269 - lr: 0.0010 - _timestamp: 1658272489.0000 - _runtime: 29732.0000\n",
      "Epoch 12/500\n",
      "5200/5200 [==============================] - 2602s 500ms/step - loss: 1.5934 - accuracy: 0.7114 - top-3-accuracy: 0.9590 - val_loss: 1.6805 - val_accuracy: 0.6821 - val_top-3-accuracy: 0.9320 - lr: 0.0010 - _timestamp: 1658275086.0000 - _runtime: 32329.0000\n",
      "Epoch 13/500\n",
      "5200/5200 [==============================] - 2602s 500ms/step - loss: 1.5751 - accuracy: 0.7220 - top-3-accuracy: 0.9618 - val_loss: 1.7172 - val_accuracy: 0.6654 - val_top-3-accuracy: 0.9310 - lr: 0.0010 - _timestamp: 1658277693.0000 - _runtime: 34936.0000\n",
      "Epoch 14/500\n",
      "5200/5200 [==============================] - 2677s 515ms/step - loss: 1.5664 - accuracy: 0.7272 - top-3-accuracy: 0.9631 - val_loss: 1.6648 - val_accuracy: 0.6914 - val_top-3-accuracy: 0.9359 - lr: 0.0010 - _timestamp: 1658280365.0000 - _runtime: 37608.0000\n",
      "Epoch 15/500\n",
      "5200/5200 [==============================] - 2933s 564ms/step - loss: 1.5557 - accuracy: 0.7343 - top-3-accuracy: 0.9644 - val_loss: 1.6622 - val_accuracy: 0.6953 - val_top-3-accuracy: 0.9375 - lr: 0.0010 - _timestamp: 1658283298.0000 - _runtime: 40541.0000\n",
      "Epoch 16/500\n",
      "5200/5200 [==============================] - 2921s 562ms/step - loss: 1.5465 - accuracy: 0.7391 - top-3-accuracy: 0.9656 - val_loss: 1.6821 - val_accuracy: 0.6841 - val_top-3-accuracy: 0.9343 - lr: 0.0010 - _timestamp: 1658286224.0000 - _runtime: 43467.0000\n",
      "Epoch 17/500\n",
      "5200/5200 [==============================] - 2925s 563ms/step - loss: 1.5407 - accuracy: 0.7437 - top-3-accuracy: 0.9663 - val_loss: 1.6700 - val_accuracy: 0.6929 - val_top-3-accuracy: 0.9362 - lr: 0.0010 - _timestamp: 1658289149.0000 - _runtime: 46392.0000\n",
      "Epoch 18/500\n",
      "5200/5200 [==============================] - 2937s 565ms/step - loss: 1.5332 - accuracy: 0.7486 - top-3-accuracy: 0.9671 - val_loss: 1.6633 - val_accuracy: 0.7004 - val_top-3-accuracy: 0.9356 - lr: 0.0010 - _timestamp: 1658292086.0000 - _runtime: 49329.0000\n",
      "Epoch 19/500\n",
      "5200/5200 [==============================] - 3426s 659ms/step - loss: 1.5286 - accuracy: 0.7519 - top-3-accuracy: 0.9676 - val_loss: 1.6533 - val_accuracy: 0.7031 - val_top-3-accuracy: 0.9374 - lr: 0.0010 - _timestamp: 1658295507.0000 - _runtime: 52750.0000\n",
      "Epoch 20/500\n",
      "5200/5200 [==============================] - 3664s 705ms/step - loss: 1.5232 - accuracy: 0.7555 - top-3-accuracy: 0.9683 - val_loss: 1.6605 - val_accuracy: 0.6993 - val_top-3-accuracy: 0.9363 - lr: 0.0010 - _timestamp: 1658299176.0000 - _runtime: 56419.0000\n",
      "Epoch 21/500\n",
      "5200/5200 [==============================] - 3660s 704ms/step - loss: 1.5214 - accuracy: 0.7568 - top-3-accuracy: 0.9682 - val_loss: 1.6595 - val_accuracy: 0.7012 - val_top-3-accuracy: 0.9368 - lr: 0.0010 - _timestamp: 1658302837.0000 - _runtime: 60080.0000\n",
      "Epoch 22/500\n",
      "5200/5200 [==============================] - 3670s 706ms/step - loss: 1.5132 - accuracy: 0.7610 - top-3-accuracy: 0.9695 - val_loss: 1.6486 - val_accuracy: 0.7102 - val_top-3-accuracy: 0.9377 - lr: 0.0010 - _timestamp: 1658306502.0000 - _runtime: 63745.0000\n",
      "Epoch 23/500\n",
      "5200/5200 [==============================] - 3665s 705ms/step - loss: 1.5103 - accuracy: 0.7629 - top-3-accuracy: 0.9695 - val_loss: 1.6557 - val_accuracy: 0.7047 - val_top-3-accuracy: 0.9374 - lr: 0.0010 - _timestamp: 1658310172.0000 - _runtime: 67415.0000\n",
      "Epoch 24/500\n",
      "5200/5200 [==============================] - 3666s 705ms/step - loss: 1.5064 - accuracy: 0.7657 - top-3-accuracy: 0.9698 - val_loss: 1.6624 - val_accuracy: 0.7004 - val_top-3-accuracy: 0.9346 - lr: 0.0010 - _timestamp: 1658313838.0000 - _runtime: 71081.0000\n",
      "Epoch 25/500\n",
      "5200/5200 [==============================] - 3666s 705ms/step - loss: 1.4990 - accuracy: 0.7702 - top-3-accuracy: 0.9711 - val_loss: 1.6787 - val_accuracy: 0.6942 - val_top-3-accuracy: 0.9355 - lr: 0.0010 - _timestamp: 1658317504.0000 - _runtime: 74747.0000\n",
      "Epoch 26/500\n",
      "5200/5200 [==============================] - 3658s 704ms/step - loss: 1.4977 - accuracy: 0.7712 - top-3-accuracy: 0.9709 - val_loss: 1.6545 - val_accuracy: 0.7063 - val_top-3-accuracy: 0.9378 - lr: 0.0010 - _timestamp: 1658321162.0000 - _runtime: 78405.0000\n",
      "Epoch 27/500\n",
      "5200/5200 [==============================] - 3641s 700ms/step - loss: 1.4948 - accuracy: 0.7730 - top-3-accuracy: 0.9712 - val_loss: 1.6586 - val_accuracy: 0.7048 - val_top-3-accuracy: 0.9371 - lr: 0.0010 - _timestamp: 1658324803.0000 - _runtime: 82046.0000\n",
      "Epoch 28/500\n",
      "5200/5200 [==============================] - 3657s 703ms/step - loss: 1.4936 - accuracy: 0.7740 - top-3-accuracy: 0.9713 - val_loss: 1.6418 - val_accuracy: 0.7154 - val_top-3-accuracy: 0.9363 - lr: 0.0010 - _timestamp: 1658328455.0000 - _runtime: 85698.0000\n",
      "Epoch 29/500\n",
      "5200/5200 [==============================] - 3643s 701ms/step - loss: 1.4896 - accuracy: 0.7765 - top-3-accuracy: 0.9718 - val_loss: 1.6655 - val_accuracy: 0.7024 - val_top-3-accuracy: 0.9348 - lr: 0.0010 - _timestamp: 1658332104.0000 - _runtime: 89347.0000\n",
      "Epoch 30/500\n",
      "5200/5200 [==============================] - 3642s 700ms/step - loss: 1.4866 - accuracy: 0.7783 - top-3-accuracy: 0.9718 - val_loss: 1.6566 - val_accuracy: 0.7095 - val_top-3-accuracy: 0.9342 - lr: 0.0010 - _timestamp: 1658335746.0000 - _runtime: 92989.0000\n",
      "Epoch 31/500\n",
      "5200/5200 [==============================] - 3640s 700ms/step - loss: 1.4843 - accuracy: 0.7798 - top-3-accuracy: 0.9721 - val_loss: 1.6450 - val_accuracy: 0.7125 - val_top-3-accuracy: 0.9388 - lr: 0.0010 - _timestamp: 1658339386.0000 - _runtime: 96629.0000\n",
      "Epoch 32/500\n",
      "5200/5200 [==============================] - 3642s 700ms/step - loss: 1.4800 - accuracy: 0.7825 - top-3-accuracy: 0.9727 - val_loss: 1.6538 - val_accuracy: 0.7102 - val_top-3-accuracy: 0.9354 - lr: 0.0010 - _timestamp: 1658343028.0000 - _runtime: 100271.0000\n",
      "Epoch 33/500\n",
      "5200/5200 [==============================] - 3643s 701ms/step - loss: 1.4796 - accuracy: 0.7828 - top-3-accuracy: 0.9728 - val_loss: 1.6531 - val_accuracy: 0.7102 - val_top-3-accuracy: 0.9362 - lr: 0.0010 - _timestamp: 1658346671.0000 - _runtime: 103914.0000\n",
      "Epoch 34/500\n",
      "5200/5200 [==============================] - 3028s 582ms/step - loss: 1.4735 - accuracy: 0.7867 - top-3-accuracy: 0.9733 - val_loss: 1.6359 - val_accuracy: 0.7207 - val_top-3-accuracy: 0.9377 - lr: 0.0010 - _timestamp: 1658349694.0000 - _runtime: 106937.0000\n",
      "Epoch 35/500\n",
      "5200/5200 [==============================] - 2839s 546ms/step - loss: 1.5383 - accuracy: 0.7506 - top-3-accuracy: 0.9636 - val_loss: 1.6792 - val_accuracy: 0.6971 - val_top-3-accuracy: 0.9331 - lr: 0.0010 - _timestamp: 1658352538.0000 - _runtime: 109781.0000\n",
      "Epoch 36/500\n",
      "5200/5200 [==============================] - 2840s 546ms/step - loss: 1.4746 - accuracy: 0.7859 - top-3-accuracy: 0.9731 - val_loss: 1.6452 - val_accuracy: 0.7153 - val_top-3-accuracy: 0.9382 - lr: 0.0010 - _timestamp: 1658355378.0000 - _runtime: 112621.0000\n",
      "Epoch 37/500\n",
      "5200/5200 [==============================] - 2844s 547ms/step - loss: 1.4727 - accuracy: 0.7868 - top-3-accuracy: 0.9736 - val_loss: 1.6458 - val_accuracy: 0.7142 - val_top-3-accuracy: 0.9356 - lr: 0.0010 - _timestamp: 1658358222.0000 - _runtime: 115465.0000\n",
      "Epoch 38/500\n",
      "5200/5200 [==============================] - 2847s 548ms/step - loss: 1.4707 - accuracy: 0.7881 - top-3-accuracy: 0.9734 - val_loss: 1.6324 - val_accuracy: 0.7202 - val_top-3-accuracy: 0.9386 - lr: 0.0010 - _timestamp: 1658361064.0000 - _runtime: 118307.0000\n",
      "Epoch 39/500\n",
      "5200/5200 [==============================] - 2840s 546ms/step - loss: 1.4749 - accuracy: 0.7870 - top-3-accuracy: 0.9725 - val_loss: 1.6507 - val_accuracy: 0.7121 - val_top-3-accuracy: 0.9377 - lr: 0.0010 - _timestamp: 1658363909.0000 - _runtime: 121152.0000\n",
      "Epoch 40/500\n",
      "5200/5200 [==============================] - 2834s 545ms/step - loss: 1.4665 - accuracy: 0.7911 - top-3-accuracy: 0.9741 - val_loss: 1.6464 - val_accuracy: 0.7143 - val_top-3-accuracy: 0.9388 - lr: 0.0010 - _timestamp: 1658366743.0000 - _runtime: 123986.0000\n",
      "Epoch 41/500\n",
      "5200/5200 [==============================] - 2841s 546ms/step - loss: 1.5205 - accuracy: 0.7614 - top-3-accuracy: 0.9643 - val_loss: 1.8452 - val_accuracy: 0.5910 - val_top-3-accuracy: 0.8998 - lr: 0.0010 - _timestamp: 1658369584.0000 - _runtime: 126827.0000\n",
      "Epoch 42/500\n",
      "5200/5200 [==============================] - 2841s 546ms/step - loss: 1.4909 - accuracy: 0.7771 - top-3-accuracy: 0.9714 - val_loss: 1.6576 - val_accuracy: 0.7084 - val_top-3-accuracy: 0.9361 - lr: 0.0010 - _timestamp: 1658372425.0000 - _runtime: 129668.0000\n",
      "Epoch 43/500\n",
      "5200/5200 [==============================] - 2852s 548ms/step - loss: 1.4645 - accuracy: 0.7929 - top-3-accuracy: 0.9742 - val_loss: 1.6312 - val_accuracy: 0.7254 - val_top-3-accuracy: 0.9404 - lr: 0.0010 - _timestamp: 1658375272.0000 - _runtime: 132515.0000\n",
      "Epoch 44/500\n",
      "5200/5200 [==============================] - 2842s 547ms/step - loss: 1.4608 - accuracy: 0.7952 - top-3-accuracy: 0.9746 - val_loss: 1.6367 - val_accuracy: 0.7234 - val_top-3-accuracy: 0.9375 - lr: 0.0010 - _timestamp: 1658378119.0000 - _runtime: 135362.0000\n",
      "Epoch 45/500\n",
      "5200/5200 [==============================] - 2854s 549ms/step - loss: 1.4575 - accuracy: 0.7968 - top-3-accuracy: 0.9749 - val_loss: 1.6283 - val_accuracy: 0.7230 - val_top-3-accuracy: 0.9392 - lr: 0.0010 - _timestamp: 1658380969.0000 - _runtime: 138212.0000\n",
      "Epoch 46/500\n",
      "5200/5200 [==============================] - 2844s 547ms/step - loss: 1.4590 - accuracy: 0.7960 - top-3-accuracy: 0.9747 - val_loss: 1.6231 - val_accuracy: 0.7282 - val_top-3-accuracy: 0.9411 - lr: 0.0010 - _timestamp: 1658383813.0000 - _runtime: 141056.0000\n",
      "Epoch 47/500\n",
      "5200/5200 [==============================] - 2809s 540ms/step - loss: 1.4588 - accuracy: 0.7964 - top-3-accuracy: 0.9744 - val_loss: 1.6381 - val_accuracy: 0.7207 - val_top-3-accuracy: 0.9388 - lr: 0.0010 - _timestamp: 1658386627.0000 - _runtime: 143870.0000\n",
      "Epoch 48/500\n",
      "5200/5200 [==============================] - 2811s 541ms/step - loss: 1.4663 - accuracy: 0.7923 - top-3-accuracy: 0.9735 - val_loss: 1.6471 - val_accuracy: 0.7149 - val_top-3-accuracy: 0.9380 - lr: 0.0010 - _timestamp: 1658389438.0000 - _runtime: 146681.0000\n",
      "Epoch 49/500\n",
      "5200/5200 [==============================] - 2812s 541ms/step - loss: 1.4507 - accuracy: 0.8009 - top-3-accuracy: 0.9754 - val_loss: 1.6429 - val_accuracy: 0.7193 - val_top-3-accuracy: 0.9385 - lr: 0.0010 - _timestamp: 1658392249.0000 - _runtime: 149492.0000\n",
      "Epoch 50/500\n",
      "5200/5200 [==============================] - 2812s 541ms/step - loss: 1.4556 - accuracy: 0.7986 - top-3-accuracy: 0.9744 - val_loss: 1.6485 - val_accuracy: 0.7166 - val_top-3-accuracy: 0.9359 - lr: 0.0010 - _timestamp: 1658395061.0000 - _runtime: 152304.0000\n",
      "Epoch 51/500\n",
      "5200/5200 [==============================] - 2820s 542ms/step - loss: 1.4603 - accuracy: 0.7962 - top-3-accuracy: 0.9739 - val_loss: 1.6177 - val_accuracy: 0.7301 - val_top-3-accuracy: 0.9408 - lr: 0.0010 - _timestamp: 1658397877.0000 - _runtime: 155120.0000\n",
      "Epoch 52/500\n",
      "5200/5200 [==============================] - 2516s 484ms/step - loss: 1.4643 - accuracy: 0.7934 - top-3-accuracy: 0.9732 - val_loss: 1.6584 - val_accuracy: 0.7107 - val_top-3-accuracy: 0.9362 - lr: 0.0010 - _timestamp: 1658400397.0000 - _runtime: 157640.0000\n",
      "Epoch 53/500\n",
      "5200/5200 [==============================] - 1682s 323ms/step - loss: 1.4518 - accuracy: 0.8016 - top-3-accuracy: 0.9750 - val_loss: 1.6844 - val_accuracy: 0.6929 - val_top-3-accuracy: 0.9333 - lr: 0.0010 - _timestamp: 1658402079.0000 - _runtime: 159322.0000\n",
      "Epoch 54/500\n",
      "5200/5200 [==============================] - 1680s 323ms/step - loss: 1.4437 - accuracy: 0.8058 - top-3-accuracy: 0.9759 - val_loss: 1.6783 - val_accuracy: 0.6992 - val_top-3-accuracy: 0.9338 - lr: 0.0010 - _timestamp: 1658403759.0000 - _runtime: 161002.0000\n",
      "Epoch 55/500\n",
      "5200/5200 [==============================] - 1677s 323ms/step - loss: 1.4379 - accuracy: 0.8084 - top-3-accuracy: 0.9767 - val_loss: 1.6310 - val_accuracy: 0.7286 - val_top-3-accuracy: 0.9393 - lr: 0.0010 - _timestamp: 1658405436.0000 - _runtime: 162679.0000\n",
      "Epoch 56/500\n",
      "5200/5200 [==============================] - 1685s 324ms/step - loss: 1.4454 - accuracy: 0.8051 - top-3-accuracy: 0.9757 - val_loss: 1.6259 - val_accuracy: 0.7295 - val_top-3-accuracy: 0.9397 - lr: 0.0010 - _timestamp: 1658407120.0000 - _runtime: 164363.0000\n",
      "Epoch 57/500\n",
      "5200/5200 [==============================] - 1691s 325ms/step - loss: 1.6499 - accuracy: 0.6913 - top-3-accuracy: 0.9416 - val_loss: 1.6651 - val_accuracy: 0.7081 - val_top-3-accuracy: 0.9354 - lr: 0.0010 - _timestamp: 1658408812.0000 - _runtime: 166055.0000\n",
      "Epoch 58/500\n",
      "5200/5200 [==============================] - 1692s 325ms/step - loss: 1.5083 - accuracy: 0.7703 - top-3-accuracy: 0.9660 - val_loss: 1.6272 - val_accuracy: 0.7245 - val_top-3-accuracy: 0.9394 - lr: 0.0010 - _timestamp: 1658410504.0000 - _runtime: 167747.0000\n",
      "Epoch 59/500\n",
      "5200/5200 [==============================] - 1618s 311ms/step - loss: 1.4617 - accuracy: 0.7958 - top-3-accuracy: 0.9736 - val_loss: 1.6266 - val_accuracy: 0.7253 - val_top-3-accuracy: 0.9384 - lr: 0.0010 - _timestamp: 1658412121.0000 - _runtime: 169364.0000\n",
      "Epoch 60/500\n",
      "5200/5200 [==============================] - 1646s 317ms/step - loss: 1.4425 - accuracy: 0.8062 - top-3-accuracy: 0.9758 - val_loss: 1.6228 - val_accuracy: 0.7294 - val_top-3-accuracy: 0.9384 - lr: 0.0010 - _timestamp: 1658413767.0000 - _runtime: 171010.0000\n",
      "Epoch 61/500\n",
      "5200/5200 [==============================] - 1693s 325ms/step - loss: 1.4371 - accuracy: 0.8095 - top-3-accuracy: 0.9768 - val_loss: 1.6179 - val_accuracy: 0.7362 - val_top-3-accuracy: 0.9385 - lr: 0.0010 - _timestamp: 1658415460.0000 - _runtime: 172703.0000\n",
      "Epoch 62/500\n",
      "5200/5200 [==============================] - 1682s 323ms/step - loss: 1.4633 - accuracy: 0.7957 - top-3-accuracy: 0.9721 - val_loss: 1.6225 - val_accuracy: 0.7302 - val_top-3-accuracy: 0.9364 - lr: 0.0010 - _timestamp: 1658417142.0000 - _runtime: 174385.0000\n",
      "Epoch 63/500\n",
      "5200/5200 [==============================] - 1672s 321ms/step - loss: 1.4424 - accuracy: 0.8069 - top-3-accuracy: 0.9757 - val_loss: 1.6181 - val_accuracy: 0.7353 - val_top-3-accuracy: 0.9410 - lr: 0.0010 - _timestamp: 1658418814.0000 - _runtime: 176057.0000\n",
      "Epoch 64/500\n",
      "5200/5200 [==============================] - 1658s 319ms/step - loss: 1.4447 - accuracy: 0.8057 - top-3-accuracy: 0.9753 - val_loss: 1.6170 - val_accuracy: 0.7314 - val_top-3-accuracy: 0.9414 - lr: 0.0010 - _timestamp: 1658420467.0000 - _runtime: 177710.0000\n",
      "Epoch 65/500\n",
      "5200/5200 [==============================] - 1651s 317ms/step - loss: 1.4401 - accuracy: 0.8086 - top-3-accuracy: 0.9758 - val_loss: 1.6400 - val_accuracy: 0.7183 - val_top-3-accuracy: 0.9371 - lr: 0.0010 - _timestamp: 1658422123.0000 - _runtime: 179366.0000\n",
      "Epoch 66/500\n",
      "5200/5200 [==============================] - 1733s 333ms/step - loss: 1.4547 - accuracy: 0.8007 - top-3-accuracy: 0.9732 - val_loss: 1.6300 - val_accuracy: 0.7263 - val_top-3-accuracy: 0.9387 - lr: 0.0010 - _timestamp: 1658423856.0000 - _runtime: 181099.0000\n",
      "Epoch 67/500\n",
      "5200/5200 [==============================] - 1954s 376ms/step - loss: 1.4372 - accuracy: 0.8101 - top-3-accuracy: 0.9763 - val_loss: 1.6537 - val_accuracy: 0.7106 - val_top-3-accuracy: 0.9366 - lr: 0.0010 - _timestamp: 1658425810.0000 - _runtime: 183053.0000\n",
      "Epoch 68/500\n",
      "5200/5200 [==============================] - 1951s 375ms/step - loss: 1.4335 - accuracy: 0.8123 - top-3-accuracy: 0.9769 - val_loss: 1.6531 - val_accuracy: 0.7143 - val_top-3-accuracy: 0.9371 - lr: 0.0010 - _timestamp: 1658427761.0000 - _runtime: 185004.0000\n",
      "Epoch 69/500\n",
      "5200/5200 [==============================] - 1789s 344ms/step - loss: 1.4531 - accuracy: 0.8030 - top-3-accuracy: 0.9732 - val_loss: 1.6201 - val_accuracy: 0.7368 - val_top-3-accuracy: 0.9402 - lr: 0.0010 - _timestamp: 1658429550.0000 - _runtime: 186793.0000\n",
      "Epoch 70/500\n",
      "5200/5200 [==============================] - 1673s 322ms/step - loss: 1.4435 - accuracy: 0.8075 - top-3-accuracy: 0.9749 - val_loss: 1.8208 - val_accuracy: 0.6287 - val_top-3-accuracy: 0.9137 - lr: 0.0010 - _timestamp: 1658431224.0000 - _runtime: 188467.0000\n",
      "Epoch 71/500\n",
      "5200/5200 [==============================] - 1863s 358ms/step - loss: 1.4338 - accuracy: 0.8126 - top-3-accuracy: 0.9761 - val_loss: 1.6651 - val_accuracy: 0.7057 - val_top-3-accuracy: 0.9363 - lr: 0.0010 - _timestamp: 1658433087.0000 - _runtime: 190330.0000\n",
      "Epoch 72/500\n",
      "5200/5200 [==============================] - 1672s 321ms/step - loss: 1.4298 - accuracy: 0.8147 - top-3-accuracy: 0.9771 - val_loss: 1.6245 - val_accuracy: 0.7258 - val_top-3-accuracy: 0.9381 - lr: 0.0010 - _timestamp: 1658434759.0000 - _runtime: 192002.0000\n",
      "Epoch 73/500\n",
      "5200/5200 [==============================] - 1673s 322ms/step - loss: 1.4261 - accuracy: 0.8171 - top-3-accuracy: 0.9774 - val_loss: 1.6544 - val_accuracy: 0.7180 - val_top-3-accuracy: 0.9352 - lr: 0.0010 - _timestamp: 1658436431.0000 - _runtime: 193674.0000\n",
      "Epoch 74/500\n",
      "5200/5200 [==============================] - 1677s 322ms/step - loss: 1.4250 - accuracy: 0.8175 - top-3-accuracy: 0.9774 - val_loss: 1.6244 - val_accuracy: 0.7326 - val_top-3-accuracy: 0.9374 - lr: 0.0010 - _timestamp: 1658438108.0000 - _runtime: 195351.0000\n",
      "Epoch 75/500\n",
      "5200/5200 [==============================] - 1681s 323ms/step - loss: 1.4434 - accuracy: 0.8075 - top-3-accuracy: 0.9751 - val_loss: 1.6115 - val_accuracy: 0.7377 - val_top-3-accuracy: 0.9407 - lr: 0.0010 - _timestamp: 1658439785.0000 - _runtime: 197028.0000\n",
      "Epoch 76/500\n",
      "5200/5200 [==============================] - 1676s 322ms/step - loss: 1.4213 - accuracy: 0.8194 - top-3-accuracy: 0.9781 - val_loss: 1.6850 - val_accuracy: 0.6992 - val_top-3-accuracy: 0.9324 - lr: 0.0010 - _timestamp: 1658441465.0000 - _runtime: 198708.0000\n",
      "Epoch 77/500\n",
      "5200/5200 [==============================] - 1676s 322ms/step - loss: 1.4741 - accuracy: 0.7902 - top-3-accuracy: 0.9700 - val_loss: 1.7248 - val_accuracy: 0.6796 - val_top-3-accuracy: 0.9291 - lr: 0.0010 - _timestamp: 1658443141.0000 - _runtime: 200384.0000\n",
      "Epoch 78/500\n",
      "5200/5200 [==============================] - 1677s 322ms/step - loss: 1.4536 - accuracy: 0.8023 - top-3-accuracy: 0.9725 - val_loss: 1.6791 - val_accuracy: 0.7003 - val_top-3-accuracy: 0.9317 - lr: 0.0010 - _timestamp: 1658444818.0000 - _runtime: 202061.0000\n",
      "Epoch 79/500\n",
      "5200/5200 [==============================] - 1676s 322ms/step - loss: 1.4385 - accuracy: 0.8104 - top-3-accuracy: 0.9744 - val_loss: 1.6142 - val_accuracy: 0.7391 - val_top-3-accuracy: 0.9393 - lr: 0.0010 - _timestamp: 1658446494.0000 - _runtime: 203737.0000\n",
      "Epoch 80/500\n",
      "5200/5200 [==============================] - 1675s 322ms/step - loss: 1.4262 - accuracy: 0.8180 - top-3-accuracy: 0.9774 - val_loss: 1.6377 - val_accuracy: 0.7242 - val_top-3-accuracy: 0.9394 - lr: 0.0010 - _timestamp: 1658448169.0000 - _runtime: 205412.0000\n",
      "Epoch 81/500\n",
      "5200/5200 [==============================] - 1678s 323ms/step - loss: 1.4320 - accuracy: 0.8139 - top-3-accuracy: 0.9760 - val_loss: 1.6308 - val_accuracy: 0.7291 - val_top-3-accuracy: 0.9392 - lr: 0.0010 - _timestamp: 1658449847.0000 - _runtime: 207090.0000\n",
      "Epoch 82/500\n",
      "5200/5200 [==============================] - 1678s 323ms/step - loss: 1.4268 - accuracy: 0.8174 - top-3-accuracy: 0.9765 - val_loss: 1.6396 - val_accuracy: 0.7265 - val_top-3-accuracy: 0.9357 - lr: 0.0010 - _timestamp: 1658451525.0000 - _runtime: 208768.0000\n",
      "Epoch 83/500\n",
      "5200/5200 [==============================] - 1678s 323ms/step - loss: 1.4153 - accuracy: 0.8234 - top-3-accuracy: 0.9784 - val_loss: 1.6559 - val_accuracy: 0.7142 - val_top-3-accuracy: 0.9351 - lr: 0.0010 - _timestamp: 1658453203.0000 - _runtime: 210446.0000\n",
      "Epoch 84/500\n",
      "5200/5200 [==============================] - 1678s 323ms/step - loss: 1.4450 - accuracy: 0.8069 - top-3-accuracy: 0.9731 - val_loss: 1.7065 - val_accuracy: 0.6926 - val_top-3-accuracy: 0.9293 - lr: 0.0010 - _timestamp: 1658454881.0000 - _runtime: 212124.0000\n",
      "Epoch 85/500\n",
      "5200/5200 [==============================] - 1678s 323ms/step - loss: 1.4320 - accuracy: 0.8153 - top-3-accuracy: 0.9756 - val_loss: 1.6798 - val_accuracy: 0.7012 - val_top-3-accuracy: 0.9341 - lr: 0.0010 - _timestamp: 1658456559.0000 - _runtime: 213802.0000\n",
      "Epoch 86/500\n",
      "5200/5200 [==============================] - 1676s 322ms/step - loss: 1.4217 - accuracy: 0.8206 - top-3-accuracy: 0.9773 - val_loss: 1.6232 - val_accuracy: 0.7352 - val_top-3-accuracy: 0.9413 - lr: 0.0010 - _timestamp: 1658458234.0000 - _runtime: 215477.0000\n",
      "Epoch 87/500\n",
      "5200/5200 [==============================] - 1681s 323ms/step - loss: 1.6520 - accuracy: 0.6920 - top-3-accuracy: 0.9366 - val_loss: 1.8832 - val_accuracy: 0.5642 - val_top-3-accuracy: 0.8894 - lr: 0.0010 - _timestamp: 1658459915.0000 - _runtime: 217158.0000\n",
      "Epoch 88/500\n",
      "5200/5200 [==============================] - 1681s 323ms/step - loss: 1.5709 - accuracy: 0.7362 - top-3-accuracy: 0.9586 - val_loss: 1.6258 - val_accuracy: 0.7314 - val_top-3-accuracy: 0.9391 - lr: 0.0010 - _timestamp: 1658461596.0000 - _runtime: 218839.0000\n",
      "Epoch 89/500\n",
      "5200/5200 [==============================] - 1680s 323ms/step - loss: 1.4265 - accuracy: 0.8173 - top-3-accuracy: 0.9775 - val_loss: 1.6633 - val_accuracy: 0.7100 - val_top-3-accuracy: 0.9362 - lr: 0.0010 - _timestamp: 1658463276.0000 - _runtime: 220519.0000\n",
      "Epoch 90/500\n",
      "5200/5200 [==============================] - 1681s 323ms/step - loss: 1.4495 - accuracy: 0.8055 - top-3-accuracy: 0.9736 - val_loss: 1.6138 - val_accuracy: 0.7379 - val_top-3-accuracy: 0.9393 - lr: 0.0010 - _timestamp: 1658464958.0000 - _runtime: 222201.0000\n",
      "Epoch 91/500\n",
      "5200/5200 [==============================] - 1679s 323ms/step - loss: 1.4183 - accuracy: 0.8219 - top-3-accuracy: 0.9780 - val_loss: 1.6127 - val_accuracy: 0.7383 - val_top-3-accuracy: 0.9411 - lr: 0.0010 - _timestamp: 1658466637.0000 - _runtime: 223880.0000\n",
      "Epoch 92/500\n",
      "5200/5200 [==============================] - 1680s 323ms/step - loss: 1.4448 - accuracy: 0.8078 - top-3-accuracy: 0.9737 - val_loss: 1.6282 - val_accuracy: 0.7278 - val_top-3-accuracy: 0.9381 - lr: 0.0010 - _timestamp: 1658468317.0000 - _runtime: 225560.0000\n",
      "Epoch 93/500\n",
      "5200/5200 [==============================] - 1682s 324ms/step - loss: 1.5828 - accuracy: 0.7306 - top-3-accuracy: 0.9511 - val_loss: 1.7442 - val_accuracy: 0.6652 - val_top-3-accuracy: 0.9263 - lr: 0.0010 - _timestamp: 1658469999.0000 - _runtime: 227242.0000\n",
      "Epoch 94/500\n",
      "5200/5200 [==============================] - 1683s 324ms/step - loss: 1.4700 - accuracy: 0.7938 - top-3-accuracy: 0.9697 - val_loss: 1.9091 - val_accuracy: 0.5565 - val_top-3-accuracy: 0.8843 - lr: 0.0010 - _timestamp: 1658471682.0000 - _runtime: 228925.0000\n",
      "Epoch 95/500\n",
      "5200/5200 [==============================] - ETA: 0s - loss: 1.4455 - accuracy: 0.8070 - top-3-accuracy: 0.9746\n",
      "Epoch 95: ReduceLROnPlateau reducing learning rate to 0.0002500000118743628.\n",
      "5200/5200 [==============================] - 1680s 323ms/step - loss: 1.4455 - accuracy: 0.8070 - top-3-accuracy: 0.9746 - val_loss: 1.6498 - val_accuracy: 0.7170 - val_top-3-accuracy: 0.9374 - lr: 0.0010 - _timestamp: 1658473362.0000 - _runtime: 230605.0000\n",
      "Epoch 96/500\n",
      "5200/5200 [==============================] - 1691s 325ms/step - loss: 1.3382 - accuracy: 0.8643 - top-3-accuracy: 0.9851 - val_loss: 1.5829 - val_accuracy: 0.7602 - val_top-3-accuracy: 0.9432 - lr: 2.5000e-04 - _timestamp: 1658475048.0000 - _runtime: 232291.0000\n",
      "Epoch 97/500\n",
      "5200/5200 [==============================] - 1690s 325ms/step - loss: 1.3149 - accuracy: 0.8762 - top-3-accuracy: 0.9872 - val_loss: 1.5761 - val_accuracy: 0.7661 - val_top-3-accuracy: 0.9445 - lr: 2.5000e-04 - _timestamp: 1658476738.0000 - _runtime: 233981.0000\n",
      "Epoch 98/500\n",
      "5200/5200 [==============================] - 1685s 324ms/step - loss: 1.3025 - accuracy: 0.8830 - top-3-accuracy: 0.9879 - val_loss: 1.5901 - val_accuracy: 0.7610 - val_top-3-accuracy: 0.9427 - lr: 2.5000e-04 - _timestamp: 1658478427.0000 - _runtime: 235670.0000\n",
      "Epoch 99/500\n",
      "5200/5200 [==============================] - 1691s 325ms/step - loss: 1.2932 - accuracy: 0.8874 - top-3-accuracy: 0.9884 - val_loss: 1.5682 - val_accuracy: 0.7713 - val_top-3-accuracy: 0.9450 - lr: 2.5000e-04 - _timestamp: 1658480113.0000 - _runtime: 237356.0000\n",
      "Epoch 100/500\n",
      "5200/5200 [==============================] - 1690s 325ms/step - loss: 1.2852 - accuracy: 0.8919 - top-3-accuracy: 0.9892 - val_loss: 1.5643 - val_accuracy: 0.7747 - val_top-3-accuracy: 0.9458 - lr: 2.5000e-04 - _timestamp: 1658481803.0000 - _runtime: 239046.0000\n",
      "Epoch 101/500\n",
      "5200/5200 [==============================] - 1681s 323ms/step - loss: 1.2804 - accuracy: 0.8950 - top-3-accuracy: 0.9893 - val_loss: 1.5681 - val_accuracy: 0.7740 - val_top-3-accuracy: 0.9457 - lr: 2.5000e-04 - _timestamp: 1658483489.0000 - _runtime: 240732.0000\n",
      "Epoch 102/500\n",
      "5200/5200 [==============================] - 1692s 325ms/step - loss: 1.2736 - accuracy: 0.8986 - top-3-accuracy: 0.9898 - val_loss: 1.5588 - val_accuracy: 0.7806 - val_top-3-accuracy: 0.9461 - lr: 2.5000e-04 - _timestamp: 1658485176.0000 - _runtime: 242419.0000\n",
      "Epoch 103/500\n",
      "5200/5200 [==============================] - 1692s 325ms/step - loss: 1.2716 - accuracy: 0.9000 - top-3-accuracy: 0.9898 - val_loss: 1.5578 - val_accuracy: 0.7814 - val_top-3-accuracy: 0.9470 - lr: 2.5000e-04 - _timestamp: 1658486869.0000 - _runtime: 244112.0000\n",
      "Epoch 104/500\n",
      "5200/5200 [==============================] - 1691s 325ms/step - loss: 1.2671 - accuracy: 0.9020 - top-3-accuracy: 0.9902 - val_loss: 1.5573 - val_accuracy: 0.7823 - val_top-3-accuracy: 0.9469 - lr: 2.5000e-04 - _timestamp: 1658488560.0000 - _runtime: 245803.0000\n",
      "Epoch 105/500\n",
      "5200/5200 [==============================] - 1680s 323ms/step - loss: 1.2630 - accuracy: 0.9043 - top-3-accuracy: 0.9902 - val_loss: 1.5617 - val_accuracy: 0.7798 - val_top-3-accuracy: 0.9475 - lr: 2.5000e-04 - _timestamp: 1658490244.0000 - _runtime: 247487.0000\n",
      "Epoch 106/500\n",
      "5200/5200 [==============================] - 1676s 322ms/step - loss: 1.2582 - accuracy: 0.9065 - top-3-accuracy: 0.9906 - val_loss: 1.5798 - val_accuracy: 0.7714 - val_top-3-accuracy: 0.9453 - lr: 2.5000e-04 - _timestamp: 1658491920.0000 - _runtime: 249163.0000\n",
      "Epoch 107/500\n",
      "5200/5200 [==============================] - 1688s 325ms/step - loss: 1.2615 - accuracy: 0.9056 - top-3-accuracy: 0.9901 - val_loss: 1.5524 - val_accuracy: 0.7877 - val_top-3-accuracy: 0.9480 - lr: 2.5000e-04 - _timestamp: 1658493603.0000 - _runtime: 250846.0000\n",
      "Epoch 108/500\n",
      "5200/5200 [==============================] - 1688s 325ms/step - loss: 1.2508 - accuracy: 0.9109 - top-3-accuracy: 0.9911 - val_loss: 1.5512 - val_accuracy: 0.7863 - val_top-3-accuracy: 0.9475 - lr: 2.5000e-04 - _timestamp: 1658495291.0000 - _runtime: 252534.0000\n",
      "Epoch 109/500\n",
      "5200/5200 [==============================] - 1676s 322ms/step - loss: 1.2498 - accuracy: 0.9117 - top-3-accuracy: 0.9911 - val_loss: 1.5538 - val_accuracy: 0.7880 - val_top-3-accuracy: 0.9466 - lr: 2.5000e-04 - _timestamp: 1658496972.0000 - _runtime: 254215.0000\n",
      "Epoch 110/500\n",
      "5200/5200 [==============================] - 1689s 325ms/step - loss: 1.2466 - accuracy: 0.9132 - top-3-accuracy: 0.9912 - val_loss: 1.5440 - val_accuracy: 0.7920 - val_top-3-accuracy: 0.9477 - lr: 2.5000e-04 - _timestamp: 1658498656.0000 - _runtime: 255899.0000\n",
      "Epoch 111/500\n",
      "5200/5200 [==============================] - 1689s 325ms/step - loss: 1.2429 - accuracy: 0.9151 - top-3-accuracy: 0.9915 - val_loss: 1.5435 - val_accuracy: 0.7919 - val_top-3-accuracy: 0.9485 - lr: 2.5000e-04 - _timestamp: 1658500346.0000 - _runtime: 257589.0000\n",
      "Epoch 112/500\n",
      "5200/5200 [==============================] - 1683s 324ms/step - loss: 1.2411 - accuracy: 0.9165 - top-3-accuracy: 0.9915 - val_loss: 1.5452 - val_accuracy: 0.7918 - val_top-3-accuracy: 0.9483 - lr: 2.5000e-04 - _timestamp: 1658502034.0000 - _runtime: 259277.0000\n",
      "Epoch 113/500\n",
      "5200/5200 [==============================] - 1680s 323ms/step - loss: 1.2379 - accuracy: 0.9179 - top-3-accuracy: 0.9915 - val_loss: 1.5539 - val_accuracy: 0.7880 - val_top-3-accuracy: 0.9474 - lr: 2.5000e-04 - _timestamp: 1658503713.0000 - _runtime: 260956.0000\n",
      "Epoch 114/500\n",
      "5200/5200 [==============================] - 1792s 345ms/step - loss: 1.2378 - accuracy: 0.9184 - top-3-accuracy: 0.9917 - val_loss: 1.5473 - val_accuracy: 0.7941 - val_top-3-accuracy: 0.9467 - lr: 2.5000e-04 - _timestamp: 1658505505.0000 - _runtime: 262748.0000\n",
      "Epoch 115/500\n",
      "5200/5200 [==============================] - 1672s 321ms/step - loss: 1.2353 - accuracy: 0.9198 - top-3-accuracy: 0.9919 - val_loss: 1.5489 - val_accuracy: 0.7938 - val_top-3-accuracy: 0.9467 - lr: 2.5000e-04 - _timestamp: 1658507177.0000 - _runtime: 264420.0000\n",
      "Epoch 116/500\n",
      "5200/5200 [==============================] - 1680s 323ms/step - loss: 1.2326 - accuracy: 0.9209 - top-3-accuracy: 0.9919 - val_loss: 1.5437 - val_accuracy: 0.7937 - val_top-3-accuracy: 0.9476 - lr: 2.5000e-04 - _timestamp: 1658508857.0000 - _runtime: 266100.0000\n",
      "Epoch 117/500\n",
      "5200/5200 [==============================] - 1660s 319ms/step - loss: 1.2299 - accuracy: 0.9228 - top-3-accuracy: 0.9921 - val_loss: 1.5439 - val_accuracy: 0.7968 - val_top-3-accuracy: 0.9460 - lr: 2.5000e-04 - _timestamp: 1658510518.0000 - _runtime: 267761.0000\n",
      "Epoch 118/500\n",
      "5200/5200 [==============================] - 1670s 321ms/step - loss: 1.2281 - accuracy: 0.9235 - top-3-accuracy: 0.9923 - val_loss: 1.5430 - val_accuracy: 0.7974 - val_top-3-accuracy: 0.9471 - lr: 2.5000e-04 - _timestamp: 1658512182.0000 - _runtime: 269425.0000\n",
      "Epoch 119/500\n",
      "5200/5200 [==============================] - 1671s 321ms/step - loss: 1.2268 - accuracy: 0.9245 - top-3-accuracy: 0.9921 - val_loss: 1.5370 - val_accuracy: 0.7985 - val_top-3-accuracy: 0.9483 - lr: 2.5000e-04 - _timestamp: 1658513854.0000 - _runtime: 271097.0000\n",
      "Epoch 120/500\n",
      "5200/5200 [==============================] - 1663s 320ms/step - loss: 1.2225 - accuracy: 0.9266 - top-3-accuracy: 0.9924 - val_loss: 1.5399 - val_accuracy: 0.7985 - val_top-3-accuracy: 0.9477 - lr: 2.5000e-04 - _timestamp: 1658515521.0000 - _runtime: 272764.0000\n",
      "Epoch 121/500\n",
      "5200/5200 [==============================] - 1662s 320ms/step - loss: 1.2218 - accuracy: 0.9268 - top-3-accuracy: 0.9925 - val_loss: 1.5462 - val_accuracy: 0.7961 - val_top-3-accuracy: 0.9467 - lr: 2.5000e-04 - _timestamp: 1658517184.0000 - _runtime: 274427.0000\n",
      "Epoch 122/500\n",
      "5200/5200 [==============================] - 1658s 319ms/step - loss: 1.2197 - accuracy: 0.9283 - top-3-accuracy: 0.9927 - val_loss: 1.5414 - val_accuracy: 0.8002 - val_top-3-accuracy: 0.9473 - lr: 2.5000e-04 - _timestamp: 1658518841.0000 - _runtime: 276084.0000\n",
      "Epoch 123/500\n",
      "5200/5200 [==============================] - 1672s 322ms/step - loss: 1.2184 - accuracy: 0.9290 - top-3-accuracy: 0.9925 - val_loss: 1.5365 - val_accuracy: 0.8023 - val_top-3-accuracy: 0.9479 - lr: 2.5000e-04 - _timestamp: 1658520509.0000 - _runtime: 277752.0000\n",
      "Epoch 124/500\n",
      "5200/5200 [==============================] - 1659s 319ms/step - loss: 1.2174 - accuracy: 0.9295 - top-3-accuracy: 0.9927 - val_loss: 1.5385 - val_accuracy: 0.8003 - val_top-3-accuracy: 0.9477 - lr: 2.5000e-04 - _timestamp: 1658522172.0000 - _runtime: 279415.0000\n",
      "Epoch 125/500\n",
      "5200/5200 [==============================] - 1670s 321ms/step - loss: 1.2136 - accuracy: 0.9310 - top-3-accuracy: 0.9929 - val_loss: 1.5351 - val_accuracy: 0.8034 - val_top-3-accuracy: 0.9484 - lr: 2.5000e-04 - _timestamp: 1658523837.0000 - _runtime: 281080.0000\n",
      "Epoch 126/500\n",
      "5200/5200 [==============================] - 1670s 321ms/step - loss: 1.2235 - accuracy: 0.9268 - top-3-accuracy: 0.9918 - val_loss: 1.5329 - val_accuracy: 0.8031 - val_top-3-accuracy: 0.9474 - lr: 2.5000e-04 - _timestamp: 1658525507.0000 - _runtime: 282750.0000\n",
      "Epoch 127/500\n",
      "5200/5200 [==============================] - 1664s 320ms/step - loss: 1.2115 - accuracy: 0.9325 - top-3-accuracy: 0.9929 - val_loss: 1.5364 - val_accuracy: 0.8019 - val_top-3-accuracy: 0.9479 - lr: 2.5000e-04 - _timestamp: 1658527176.0000 - _runtime: 284419.0000\n",
      "Epoch 128/500\n",
      "5200/5200 [==============================] - 1663s 320ms/step - loss: 1.2111 - accuracy: 0.9329 - top-3-accuracy: 0.9929 - val_loss: 1.5377 - val_accuracy: 0.8037 - val_top-3-accuracy: 0.9475 - lr: 2.5000e-04 - _timestamp: 1658528839.0000 - _runtime: 286082.0000\n",
      "Epoch 129/500\n",
      "5200/5200 [==============================] - 1661s 319ms/step - loss: 1.2101 - accuracy: 0.9336 - top-3-accuracy: 0.9930 - val_loss: 1.5354 - val_accuracy: 0.8054 - val_top-3-accuracy: 0.9485 - lr: 2.5000e-04 - _timestamp: 1658530500.0000 - _runtime: 287743.0000\n",
      "Epoch 130/500\n",
      "5200/5200 [==============================] - 1660s 319ms/step - loss: 1.2065 - accuracy: 0.9351 - top-3-accuracy: 0.9933 - val_loss: 1.5350 - val_accuracy: 0.8062 - val_top-3-accuracy: 0.9479 - lr: 2.5000e-04 - _timestamp: 1658532160.0000 - _runtime: 289403.0000\n",
      "Epoch 131/500\n",
      "5200/5200 [==============================] - 1674s 322ms/step - loss: 1.2062 - accuracy: 0.9354 - top-3-accuracy: 0.9932 - val_loss: 1.5395 - val_accuracy: 0.8029 - val_top-3-accuracy: 0.9471 - lr: 2.5000e-04 - _timestamp: 1658533834.0000 - _runtime: 291077.0000\n",
      "Epoch 132/500\n",
      "5200/5200 [==============================] - 1684s 324ms/step - loss: 1.2049 - accuracy: 0.9360 - top-3-accuracy: 0.9933 - val_loss: 1.5345 - val_accuracy: 0.8060 - val_top-3-accuracy: 0.9484 - lr: 2.5000e-04 - _timestamp: 1658535518.0000 - _runtime: 292761.0000\n",
      "Epoch 133/500\n",
      "5200/5200 [==============================] - 1687s 325ms/step - loss: 1.2018 - accuracy: 0.9378 - top-3-accuracy: 0.9936 - val_loss: 1.5359 - val_accuracy: 0.8034 - val_top-3-accuracy: 0.9478 - lr: 2.5000e-04 - _timestamp: 1658537205.0000 - _runtime: 294448.0000\n",
      "Epoch 134/500\n",
      "5200/5200 [==============================] - 1696s 326ms/step - loss: 1.2026 - accuracy: 0.9373 - top-3-accuracy: 0.9933 - val_loss: 1.5311 - val_accuracy: 0.8076 - val_top-3-accuracy: 0.9484 - lr: 2.5000e-04 - _timestamp: 1658538897.0000 - _runtime: 296140.0000\n",
      "Epoch 135/500\n",
      "5200/5200 [==============================] - 1659s 319ms/step - loss: 1.2012 - accuracy: 0.9384 - top-3-accuracy: 0.9934 - val_loss: 1.5383 - val_accuracy: 0.8062 - val_top-3-accuracy: 0.9480 - lr: 2.5000e-04 - _timestamp: 1658540560.0000 - _runtime: 297803.0000\n",
      "Epoch 136/500\n",
      "5200/5200 [==============================] - 1657s 319ms/step - loss: 1.1996 - accuracy: 0.9391 - top-3-accuracy: 0.9935 - val_loss: 1.5413 - val_accuracy: 0.8049 - val_top-3-accuracy: 0.9465 - lr: 2.5000e-04 - _timestamp: 1658542218.0000 - _runtime: 299461.0000\n",
      "Epoch 137/500\n",
      "5200/5200 [==============================] - 1656s 318ms/step - loss: 1.1980 - accuracy: 0.9399 - top-3-accuracy: 0.9937 - val_loss: 1.5378 - val_accuracy: 0.8062 - val_top-3-accuracy: 0.9470 - lr: 2.5000e-04 - _timestamp: 1658543874.0000 - _runtime: 301117.0000\n",
      "Epoch 138/500\n",
      "5200/5200 [==============================] - 1667s 321ms/step - loss: 1.1961 - accuracy: 0.9409 - top-3-accuracy: 0.9937 - val_loss: 1.5290 - val_accuracy: 0.8083 - val_top-3-accuracy: 0.9487 - lr: 2.5000e-04 - _timestamp: 1658545536.0000 - _runtime: 302779.0000\n",
      "Epoch 139/500\n",
      "5200/5200 [==============================] - 1659s 319ms/step - loss: 1.1954 - accuracy: 0.9413 - top-3-accuracy: 0.9938 - val_loss: 1.5309 - val_accuracy: 0.8099 - val_top-3-accuracy: 0.9484 - lr: 2.5000e-04 - _timestamp: 1658547200.0000 - _runtime: 304443.0000\n",
      "Epoch 140/500\n",
      "5200/5200 [==============================] - 1659s 319ms/step - loss: 1.2099 - accuracy: 0.9343 - top-3-accuracy: 0.9922 - val_loss: 1.5334 - val_accuracy: 0.8094 - val_top-3-accuracy: 0.9479 - lr: 2.5000e-04 - _timestamp: 1658548859.0000 - _runtime: 306102.0000\n",
      "Epoch 141/500\n",
      "5200/5200 [==============================] - 1662s 320ms/step - loss: 1.1929 - accuracy: 0.9426 - top-3-accuracy: 0.9938 - val_loss: 1.5558 - val_accuracy: 0.7984 - val_top-3-accuracy: 0.9480 - lr: 2.5000e-04 - _timestamp: 1658550521.0000 - _runtime: 307764.0000\n",
      "Epoch 142/500\n",
      "5200/5200 [==============================] - 1659s 319ms/step - loss: 1.1925 - accuracy: 0.9431 - top-3-accuracy: 0.9938 - val_loss: 1.5338 - val_accuracy: 0.8095 - val_top-3-accuracy: 0.9480 - lr: 2.5000e-04 - _timestamp: 1658552180.0000 - _runtime: 309423.0000\n",
      "Epoch 143/500\n",
      "5200/5200 [==============================] - 1661s 319ms/step - loss: 1.1904 - accuracy: 0.9440 - top-3-accuracy: 0.9940 - val_loss: 1.5464 - val_accuracy: 0.8047 - val_top-3-accuracy: 0.9484 - lr: 2.5000e-04 - _timestamp: 1658553841.0000 - _runtime: 311084.0000\n",
      "Epoch 144/500\n",
      "5200/5200 [==============================] - 1660s 319ms/step - loss: 1.1901 - accuracy: 0.9443 - top-3-accuracy: 0.9939 - val_loss: 1.5350 - val_accuracy: 0.8097 - val_top-3-accuracy: 0.9475 - lr: 2.5000e-04 - _timestamp: 1658555501.0000 - _runtime: 312744.0000\n",
      "Epoch 145/500\n",
      "5200/5200 [==============================] - 1662s 320ms/step - loss: 1.1891 - accuracy: 0.9451 - top-3-accuracy: 0.9939 - val_loss: 1.5370 - val_accuracy: 0.8105 - val_top-3-accuracy: 0.9467 - lr: 2.5000e-04 - _timestamp: 1658557162.0000 - _runtime: 314405.0000\n",
      "Epoch 146/500\n",
      "5200/5200 [==============================] - 1661s 319ms/step - loss: 1.1869 - accuracy: 0.9460 - top-3-accuracy: 0.9941 - val_loss: 1.5316 - val_accuracy: 0.8124 - val_top-3-accuracy: 0.9490 - lr: 2.5000e-04 - _timestamp: 1658558824.0000 - _runtime: 316067.0000\n",
      "Epoch 147/500\n",
      "5200/5200 [==============================] - 1656s 318ms/step - loss: 1.1859 - accuracy: 0.9464 - top-3-accuracy: 0.9942 - val_loss: 1.5340 - val_accuracy: 0.8127 - val_top-3-accuracy: 0.9489 - lr: 2.5000e-04 - _timestamp: 1658560480.0000 - _runtime: 317723.0000\n",
      "Epoch 148/500\n",
      "5200/5200 [==============================] - 1668s 321ms/step - loss: 1.1857 - accuracy: 0.9466 - top-3-accuracy: 0.9942 - val_loss: 1.5287 - val_accuracy: 0.8127 - val_top-3-accuracy: 0.9481 - lr: 2.5000e-04 - _timestamp: 1658562143.0000 - _runtime: 319386.0000\n",
      "Epoch 149/500\n",
      "5200/5200 [==============================] - 1658s 319ms/step - loss: 1.1875 - accuracy: 0.9460 - top-3-accuracy: 0.9940 - val_loss: 1.5338 - val_accuracy: 0.8119 - val_top-3-accuracy: 0.9466 - lr: 2.5000e-04 - _timestamp: 1658563806.0000 - _runtime: 321049.0000\n",
      "Epoch 150/500\n",
      "5200/5200 [==============================] - 1671s 321ms/step - loss: 1.1854 - accuracy: 0.9468 - top-3-accuracy: 0.9941 - val_loss: 1.5264 - val_accuracy: 0.8149 - val_top-3-accuracy: 0.9470 - lr: 2.5000e-04 - _timestamp: 1658565472.0000 - _runtime: 322715.0000\n",
      "Epoch 151/500\n",
      "5200/5200 [==============================] - 1663s 320ms/step - loss: 1.1821 - accuracy: 0.9483 - top-3-accuracy: 0.9943 - val_loss: 1.5309 - val_accuracy: 0.8136 - val_top-3-accuracy: 0.9477 - lr: 2.5000e-04 - _timestamp: 1658567140.0000 - _runtime: 324383.0000\n",
      "Epoch 152/500\n",
      "5200/5200 [==============================] - 1659s 319ms/step - loss: 1.1829 - accuracy: 0.9481 - top-3-accuracy: 0.9944 - val_loss: 1.5382 - val_accuracy: 0.8116 - val_top-3-accuracy: 0.9477 - lr: 2.5000e-04 - _timestamp: 1658568799.0000 - _runtime: 326042.0000\n",
      "Epoch 153/500\n",
      "5200/5200 [==============================] - 1659s 319ms/step - loss: 1.1808 - accuracy: 0.9493 - top-3-accuracy: 0.9944 - val_loss: 1.5277 - val_accuracy: 0.8151 - val_top-3-accuracy: 0.9481 - lr: 2.5000e-04 - _timestamp: 1658570458.0000 - _runtime: 327701.0000\n",
      "Epoch 154/500\n",
      "5200/5200 [==============================] - 1661s 319ms/step - loss: 1.1803 - accuracy: 0.9495 - top-3-accuracy: 0.9945 - val_loss: 1.5321 - val_accuracy: 0.8125 - val_top-3-accuracy: 0.9478 - lr: 2.5000e-04 - _timestamp: 1658572119.0000 - _runtime: 329362.0000\n",
      "Epoch 155/500\n",
      "5200/5200 [==============================] - 1660s 319ms/step - loss: 1.1795 - accuracy: 0.9499 - top-3-accuracy: 0.9946 - val_loss: 1.5283 - val_accuracy: 0.8167 - val_top-3-accuracy: 0.9480 - lr: 2.5000e-04 - _timestamp: 1658573778.0000 - _runtime: 331021.0000\n",
      "Epoch 156/500\n",
      "5200/5200 [==============================] - 1659s 319ms/step - loss: 1.1782 - accuracy: 0.9506 - top-3-accuracy: 0.9945 - val_loss: 1.5277 - val_accuracy: 0.8161 - val_top-3-accuracy: 0.9475 - lr: 2.5000e-04 - _timestamp: 1658575437.0000 - _runtime: 332680.0000\n",
      "Epoch 157/500\n",
      "5200/5200 [==============================] - 1670s 321ms/step - loss: 1.1780 - accuracy: 0.9507 - top-3-accuracy: 0.9945 - val_loss: 1.5249 - val_accuracy: 0.8163 - val_top-3-accuracy: 0.9473 - lr: 2.5000e-04 - _timestamp: 1658577102.0000 - _runtime: 334345.0000\n",
      "Epoch 158/500\n",
      "5200/5200 [==============================] - 1657s 319ms/step - loss: 1.1779 - accuracy: 0.9510 - top-3-accuracy: 0.9945 - val_loss: 1.5256 - val_accuracy: 0.8171 - val_top-3-accuracy: 0.9480 - lr: 2.5000e-04 - _timestamp: 1658578764.0000 - _runtime: 336007.0000\n",
      "Epoch 159/500\n",
      "5200/5200 [==============================] - 1659s 319ms/step - loss: 1.1750 - accuracy: 0.9519 - top-3-accuracy: 0.9949 - val_loss: 1.5266 - val_accuracy: 0.8153 - val_top-3-accuracy: 0.9480 - lr: 2.5000e-04 - _timestamp: 1658580424.0000 - _runtime: 337667.0000\n",
      "Epoch 160/500\n",
      "5200/5200 [==============================] - 1660s 319ms/step - loss: 1.1757 - accuracy: 0.9522 - top-3-accuracy: 0.9947 - val_loss: 1.5350 - val_accuracy: 0.8151 - val_top-3-accuracy: 0.9474 - lr: 2.5000e-04 - _timestamp: 1658582084.0000 - _runtime: 339327.0000\n",
      "Epoch 161/500\n",
      "5200/5200 [==============================] - 1652s 318ms/step - loss: 1.1824 - accuracy: 0.9491 - top-3-accuracy: 0.9937 - val_loss: 1.5274 - val_accuracy: 0.8157 - val_top-3-accuracy: 0.9476 - lr: 2.5000e-04 - _timestamp: 1658583736.0000 - _runtime: 340979.0000\n",
      "Epoch 162/500\n",
      "5200/5200 [==============================] - 1653s 318ms/step - loss: 1.1758 - accuracy: 0.9524 - top-3-accuracy: 0.9946 - val_loss: 1.5315 - val_accuracy: 0.8151 - val_top-3-accuracy: 0.9472 - lr: 2.5000e-04 - _timestamp: 1658585389.0000 - _runtime: 342632.0000\n",
      "Epoch 163/500\n",
      "5200/5200 [==============================] - 1653s 318ms/step - loss: 1.1721 - accuracy: 0.9538 - top-3-accuracy: 0.9949 - val_loss: 1.5295 - val_accuracy: 0.8165 - val_top-3-accuracy: 0.9473 - lr: 2.5000e-04 - _timestamp: 1658587042.0000 - _runtime: 344285.0000\n",
      "Epoch 164/500\n",
      "5200/5200 [==============================] - 1653s 318ms/step - loss: 1.1713 - accuracy: 0.9542 - top-3-accuracy: 0.9948 - val_loss: 1.5330 - val_accuracy: 0.8154 - val_top-3-accuracy: 0.9468 - lr: 2.5000e-04 - _timestamp: 1658588695.0000 - _runtime: 345938.0000\n",
      "Epoch 165/500\n",
      "5200/5200 [==============================] - 1652s 318ms/step - loss: 1.1725 - accuracy: 0.9541 - top-3-accuracy: 0.9946 - val_loss: 1.5325 - val_accuracy: 0.8170 - val_top-3-accuracy: 0.9457 - lr: 2.5000e-04 - _timestamp: 1658590348.0000 - _runtime: 347591.0000\n",
      "Epoch 166/500\n",
      "5200/5200 [==============================] - 1658s 319ms/step - loss: 1.1709 - accuracy: 0.9547 - top-3-accuracy: 0.9949 - val_loss: 1.5368 - val_accuracy: 0.8138 - val_top-3-accuracy: 0.9469 - lr: 2.5000e-04 - _timestamp: 1658592006.0000 - _runtime: 349249.0000\n",
      "Epoch 167/500\n",
      "5200/5200 [==============================] - 1748s 336ms/step - loss: 1.1697 - accuracy: 0.9552 - top-3-accuracy: 0.9950 - val_loss: 1.5344 - val_accuracy: 0.8159 - val_top-3-accuracy: 0.9468 - lr: 2.5000e-04 - _timestamp: 1658593754.0000 - _runtime: 350997.0000\n",
      "Epoch 168/500\n",
      "5200/5200 [==============================] - 1958s 377ms/step - loss: 1.1690 - accuracy: 0.9557 - top-3-accuracy: 0.9949 - val_loss: 1.5315 - val_accuracy: 0.8157 - val_top-3-accuracy: 0.9467 - lr: 2.5000e-04 - _timestamp: 1658595712.0000 - _runtime: 352955.0000\n",
      "Epoch 169/500\n",
      "5200/5200 [==============================] - 1954s 376ms/step - loss: 1.1678 - accuracy: 0.9562 - top-3-accuracy: 0.9950 - val_loss: 1.5287 - val_accuracy: 0.8182 - val_top-3-accuracy: 0.9472 - lr: 2.5000e-04 - _timestamp: 1658597666.0000 - _runtime: 354909.0000\n",
      "Epoch 170/500\n",
      "5200/5200 [==============================] - 1943s 374ms/step - loss: 1.1682 - accuracy: 0.9559 - top-3-accuracy: 0.9950 - val_loss: 1.5496 - val_accuracy: 0.8083 - val_top-3-accuracy: 0.9445 - lr: 2.5000e-04 - _timestamp: 1658599609.0000 - _runtime: 356852.0000\n",
      "Epoch 171/500\n",
      "5200/5200 [==============================] - 1944s 374ms/step - loss: 1.1672 - accuracy: 0.9565 - top-3-accuracy: 0.9951 - val_loss: 1.5294 - val_accuracy: 0.8177 - val_top-3-accuracy: 0.9480 - lr: 2.5000e-04 - _timestamp: 1658601553.0000 - _runtime: 358796.0000\n",
      "Epoch 172/500\n",
      "5200/5200 [==============================] - 1942s 373ms/step - loss: 1.1663 - accuracy: 0.9569 - top-3-accuracy: 0.9951 - val_loss: 1.5284 - val_accuracy: 0.8199 - val_top-3-accuracy: 0.9458 - lr: 2.5000e-04 - _timestamp: 1658603495.0000 - _runtime: 360738.0000\n",
      "Epoch 173/500\n",
      "5200/5200 [==============================] - 1949s 375ms/step - loss: 1.1665 - accuracy: 0.9571 - top-3-accuracy: 0.9950 - val_loss: 1.5358 - val_accuracy: 0.8147 - val_top-3-accuracy: 0.9475 - lr: 2.5000e-04 - _timestamp: 1658605443.0000 - _runtime: 362686.0000\n",
      "Epoch 174/500\n",
      "5200/5200 [==============================] - 1966s 378ms/step - loss: 1.1641 - accuracy: 0.9580 - top-3-accuracy: 0.9951 - val_loss: 1.5232 - val_accuracy: 0.8195 - val_top-3-accuracy: 0.9496 - lr: 2.5000e-04 - _timestamp: 1658607404.0000 - _runtime: 364647.0000\n",
      "Epoch 175/500\n",
      "5200/5200 [==============================] - 1952s 375ms/step - loss: 1.1630 - accuracy: 0.9587 - top-3-accuracy: 0.9953 - val_loss: 1.5305 - val_accuracy: 0.8192 - val_top-3-accuracy: 0.9478 - lr: 2.5000e-04 - _timestamp: 1658609361.0000 - _runtime: 366604.0000\n",
      "Epoch 176/500\n",
      "5200/5200 [==============================] - 1949s 375ms/step - loss: 1.1641 - accuracy: 0.9583 - top-3-accuracy: 0.9953 - val_loss: 1.5787 - val_accuracy: 0.7971 - val_top-3-accuracy: 0.9478 - lr: 2.5000e-04 - _timestamp: 1658611310.0000 - _runtime: 368553.0000\n",
      "Epoch 177/500\n",
      "5200/5200 [==============================] - 1942s 373ms/step - loss: 1.1652 - accuracy: 0.9578 - top-3-accuracy: 0.9950 - val_loss: 1.5320 - val_accuracy: 0.8192 - val_top-3-accuracy: 0.9473 - lr: 2.5000e-04 - _timestamp: 1658613252.0000 - _runtime: 370495.0000\n",
      "Epoch 178/500\n",
      "5200/5200 [==============================] - 1944s 374ms/step - loss: 1.1619 - accuracy: 0.9595 - top-3-accuracy: 0.9952 - val_loss: 1.5293 - val_accuracy: 0.8209 - val_top-3-accuracy: 0.9476 - lr: 2.5000e-04 - _timestamp: 1658615196.0000 - _runtime: 372439.0000\n",
      "Epoch 179/500\n",
      "5200/5200 [==============================] - 1940s 373ms/step - loss: 1.1619 - accuracy: 0.9595 - top-3-accuracy: 0.9953 - val_loss: 1.5367 - val_accuracy: 0.8175 - val_top-3-accuracy: 0.9459 - lr: 2.5000e-04 - _timestamp: 1658617136.0000 - _runtime: 374379.0000\n",
      "Epoch 180/500\n",
      "5200/5200 [==============================] - 1943s 374ms/step - loss: 1.1612 - accuracy: 0.9597 - top-3-accuracy: 0.9954 - val_loss: 1.5300 - val_accuracy: 0.8212 - val_top-3-accuracy: 0.9471 - lr: 2.5000e-04 - _timestamp: 1658619079.0000 - _runtime: 376322.0000\n",
      "Epoch 181/500\n",
      "5200/5200 [==============================] - 1943s 374ms/step - loss: 1.1613 - accuracy: 0.9597 - top-3-accuracy: 0.9953 - val_loss: 1.5269 - val_accuracy: 0.8218 - val_top-3-accuracy: 0.9478 - lr: 2.5000e-04 - _timestamp: 1658621022.0000 - _runtime: 378265.0000\n",
      "Epoch 182/500\n",
      "5200/5200 [==============================] - 1942s 374ms/step - loss: 1.1608 - accuracy: 0.9599 - top-3-accuracy: 0.9953 - val_loss: 1.5289 - val_accuracy: 0.8230 - val_top-3-accuracy: 0.9457 - lr: 2.5000e-04 - _timestamp: 1658622964.0000 - _runtime: 380207.0000\n",
      "Epoch 183/500\n",
      "5200/5200 [==============================] - 1942s 373ms/step - loss: 1.1608 - accuracy: 0.9601 - top-3-accuracy: 0.9953 - val_loss: 1.5282 - val_accuracy: 0.8228 - val_top-3-accuracy: 0.9466 - lr: 2.5000e-04 - _timestamp: 1658624906.0000 - _runtime: 382149.0000\n",
      "Epoch 184/500\n",
      "5200/5200 [==============================] - 1944s 374ms/step - loss: 1.1604 - accuracy: 0.9603 - top-3-accuracy: 0.9953 - val_loss: 1.5324 - val_accuracy: 0.8219 - val_top-3-accuracy: 0.9466 - lr: 2.5000e-04 - _timestamp: 1658626850.0000 - _runtime: 384093.0000\n",
      "Epoch 185/500\n",
      "5200/5200 [==============================] - 1954s 376ms/step - loss: 1.1579 - accuracy: 0.9615 - top-3-accuracy: 0.9955 - val_loss: 1.5231 - val_accuracy: 0.8228 - val_top-3-accuracy: 0.9491 - lr: 2.5000e-04 - _timestamp: 1658628799.0000 - _runtime: 386042.0000\n",
      "Epoch 186/500\n",
      "5200/5200 [==============================] - 1946s 374ms/step - loss: 1.1591 - accuracy: 0.9608 - top-3-accuracy: 0.9954 - val_loss: 1.5301 - val_accuracy: 0.8195 - val_top-3-accuracy: 0.9471 - lr: 2.5000e-04 - _timestamp: 1658630750.0000 - _runtime: 387993.0000\n",
      "Epoch 187/500\n",
      "5200/5200 [==============================] - 1941s 373ms/step - loss: 1.1594 - accuracy: 0.9610 - top-3-accuracy: 0.9954 - val_loss: 1.5248 - val_accuracy: 0.8231 - val_top-3-accuracy: 0.9464 - lr: 2.5000e-04 - _timestamp: 1658632691.0000 - _runtime: 389934.0000\n",
      "Epoch 188/500\n",
      "5200/5200 [==============================] - 1944s 374ms/step - loss: 1.1567 - accuracy: 0.9622 - top-3-accuracy: 0.9955 - val_loss: 1.5314 - val_accuracy: 0.8219 - val_top-3-accuracy: 0.9443 - lr: 2.5000e-04 - _timestamp: 1658634635.0000 - _runtime: 391878.0000\n",
      "Epoch 189/500\n",
      "5200/5200 [==============================] - 1950s 375ms/step - loss: 1.1607 - accuracy: 0.9607 - top-3-accuracy: 0.9951 - val_loss: 1.5244 - val_accuracy: 0.8246 - val_top-3-accuracy: 0.9474 - lr: 2.5000e-04 - _timestamp: 1658636585.0000 - _runtime: 393828.0000\n",
      "Epoch 190/500\n",
      "5200/5200 [==============================] - 1900s 365ms/step - loss: 1.1578 - accuracy: 0.9617 - top-3-accuracy: 0.9953 - val_loss: 1.5270 - val_accuracy: 0.8241 - val_top-3-accuracy: 0.9456 - lr: 2.5000e-04 - _timestamp: 1658638485.0000 - _runtime: 395728.0000\n",
      "Epoch 191/500\n",
      "5200/5200 [==============================] - 1626s 313ms/step - loss: 1.1556 - accuracy: 0.9628 - top-3-accuracy: 0.9956 - val_loss: 1.5267 - val_accuracy: 0.8228 - val_top-3-accuracy: 0.9463 - lr: 2.5000e-04 - _timestamp: 1658640111.0000 - _runtime: 397354.0000\n",
      "Epoch 192/500\n",
      "5200/5200 [==============================] - 1628s 313ms/step - loss: 1.1548 - accuracy: 0.9631 - top-3-accuracy: 0.9956 - val_loss: 1.5254 - val_accuracy: 0.8242 - val_top-3-accuracy: 0.9476 - lr: 2.5000e-04 - _timestamp: 1658641739.0000 - _runtime: 398982.0000\n",
      "Epoch 193/500\n",
      "5200/5200 [==============================] - 1629s 313ms/step - loss: 1.1557 - accuracy: 0.9629 - top-3-accuracy: 0.9954 - val_loss: 1.5282 - val_accuracy: 0.8227 - val_top-3-accuracy: 0.9467 - lr: 2.5000e-04 - _timestamp: 1658643368.0000 - _runtime: 400611.0000\n",
      "Epoch 194/500\n",
      "5200/5200 [==============================] - ETA: 0s - loss: 1.1558 - accuracy: 0.9630 - top-3-accuracy: 0.9954\n",
      "Epoch 194: ReduceLROnPlateau reducing learning rate to 6.25000029685907e-05.\n",
      "5200/5200 [==============================] - 1629s 313ms/step - loss: 1.1558 - accuracy: 0.9630 - top-3-accuracy: 0.9954 - val_loss: 1.5454 - val_accuracy: 0.8154 - val_top-3-accuracy: 0.9462 - lr: 2.5000e-04 - _timestamp: 1658644997.0000 - _runtime: 402240.0000\n",
      "Epoch 195/500\n",
      "5200/5200 [==============================] - 1630s 313ms/step - loss: 1.1397 - accuracy: 0.9707 - top-3-accuracy: 0.9964 - val_loss: 1.5284 - val_accuracy: 0.8281 - val_top-3-accuracy: 0.9469 - lr: 6.2500e-05 - _timestamp: 1658646627.0000 - _runtime: 403870.0000\n",
      "Epoch 196/500\n",
      "4195/5200 [=======================>......] - ETA: 4:57 - loss: 1.1356 - accuracy: 0.9729 - top-3-accuracy: 0.9965"
     ]
    }
   ],
   "source": [
    "# Copied from Augment_Reduce: Dealing with overfitting #Custom ResNet + LSTM model\n",
    "config['Run_notes']='Training again_ june2022: Back to Old filtered_filtered_data but using frames170-243 as final test'\n",
    "config['num_epochs'] = 500\n",
    "config['batch_size'] = 128\n",
    "config['learning_rate'] = 1e-3\n",
    "config['base_path'] = base_path\n",
    "\n",
    "# Default hyper-param\n",
    "config['head_size'] = 1024 \n",
    "config['mlp_units']= [1024,512,256] \n",
    "config['mlp_dropout']= 0.4\n",
    "config['dropout']= 0.1          \n",
    "config['r_dropout'] = 0.3\n",
    "\n",
    "input_shape = (x_train2.shape[1:])# + (1,) #input_shape = (21,5,) #x_train.shape[2]\n",
    "pos_input_shape = (coords_train.shape[1:])\n",
    "\n",
    "def ResNetBlock(x,dropout):\n",
    "    \n",
    "    # TO DO: Check input dimension    \n",
    "   \n",
    "    x = tf.expand_dims(x, axis=-1)\n",
    "    \n",
    "    x =   layers.Conv2D(filters=64, kernel_size=(25,15), padding=\"same\")(x) #input_layer\n",
    "    conv1 = layers.Conv2D(filters=64, kernel_size=(25,15), padding=\"same\")(x) # input_layer, Conv1D\n",
    "    conv1 = layers.Dropout(dropout)(conv1)\n",
    "    conv1 = layers.BatchNormalization()(conv1)\n",
    "    conv1 = layers.ReLU()(conv1)\n",
    "\n",
    "    conv2 = layers.Conv2D(filters=64, kernel_size=(7,5), padding=\"same\")(conv1)\n",
    "    conv2 = layers.Dropout(dropout)(conv2)\n",
    "    conv2 = layers.BatchNormalization()(conv2)\n",
    "    conv2 = layers.ReLU()(conv2)\n",
    "\n",
    "    conv3 = layers.Conv2D(filters=64, kernel_size=3, padding=\"same\")(conv2)\n",
    "    conv3 = layers.Dropout(dropout)(conv3)\n",
    "    conv3 = layers.BatchNormalization()(conv3)\n",
    "    conv3 = layers.ReLU()(conv3)\n",
    "    \n",
    "    # conv3 = layers.Conv2D(filters=64, kernel_size=3, padding=\"same\")(conv2)\n",
    "    # conv3 = layers.Dropout(dropout)(conv3)\n",
    "    # conv3 = layers.BatchNormalization()(conv3)\n",
    "    # conv3 = layers.ReLU()(conv3)\n",
    "    \n",
    "    x = layers.add([x,conv3])\n",
    "    #x = layers.ReLU()(conv3) # Overwrite x\n",
    "    \n",
    "    return x\n",
    "\n",
    "\n",
    "def build_model(\n",
    "    input_shape,\n",
    "    head_size,  \n",
    "    #mlp_units,\n",
    "    r_dropout,\n",
    "    mlp_dropout,\n",
    "):\n",
    "    inputs = tf.keras.Input(shape=input_shape) \n",
    "    pos_inputs = tf.keras.Input(shape= pos_input_shape)\n",
    "    \n",
    "    pos_embedding = layers.Embedding(input_dim = np.max(new_coords), output_dim = input_shape[1])(pos_inputs)\n",
    "    \n",
    "    x1 = data_augmentation(inputs)\n",
    "    x1 = tf.reduce_mean(x1, axis =-1)\n",
    "    \n",
    "    x = x1 + pos_embedding\n",
    "    x = layers.LayerNormalization()(x)\n",
    "    \n",
    "    # for _ in range(2):\n",
    "    #     x = ResNetBlock(x,config['dropout'])         \n",
    "    #     x = tf.reduce_sum(x,axis=-1)\n",
    "    \n",
    "    x = layers.LSTM(head_size,recurrent_dropout= r_dropout, return_sequences=True)(x) #input_shape=(x.shape[1:]),\n",
    "    x = layers.LSTM(head_size,recurrent_dropout= r_dropout, return_sequences=True)(x)\n",
    "    x = layers.LSTM(head_size,recurrent_dropout= r_dropout, return_sequences=True)(x)\n",
    "    x = layers.LSTM(head_size,recurrent_dropout= r_dropout, return_sequences=True)(x)\n",
    "    x = layers.LSTM(head_size,recurrent_dropout= r_dropout)(x)\n",
    "\n",
    "       \n",
    "    for dim in config['mlp_units']:\n",
    "        x = layers.Dense(dim, activation=\"relu\")(x)\n",
    "        x = layers.Dropout(mlp_dropout)(x)\n",
    "        \n",
    "    outputs = layers.Dense(config['num_classes'], activation=\"softmax\")(x)\n",
    "    return tf.keras.Model([inputs,pos_inputs], outputs,name =\"RowBlockLSTM\"+time_stamp)\n",
    "\n",
    "\n",
    "\n",
    "# Update log['extras']\n",
    "log['extras'][0].update(wandb.config)\n",
    "#### ===== End of logging ========\n",
    "\n",
    "model = build_model(input_shape,head_size = config['head_size'], mlp_dropout= config['mlp_dropout'], r_dropout=config['r_dropout']) #mlp_units=config['mlp_units'],\n",
    "\n",
    "\n",
    "# Poly Rate scheduler\n",
    "starter_learning_rate = 0.1\n",
    "end_learning_rate = 0.0001\n",
    "decay_steps = 10000\n",
    "learning_rate_fn = tf.keras.optimizers.schedules.PolynomialDecay(\n",
    "    starter_learning_rate,\n",
    "    decay_steps,\n",
    "    end_learning_rate,\n",
    "    power=0.25)\n",
    "\n",
    "\n",
    "# Callbacks\n",
    "# Checkpoint path\n",
    "config['start_time'] = datetime.strftime( datetime.now(),'%d_%B_%y_%H%M')\n",
    "logz= f\"{config['base_path']}/{ipynbname.name()}/{config['start_time']}_logs/\"\n",
    "callbacks = [\n",
    "    ModelCheckpoint(f\"{config['base_path']}//{ipynbname.name()}//RowBlockLSTM_ReRun_Checkpoint{time_stamp}.h5\", save_best_only=True, monitor=\"val_loss\"),\n",
    "    ReduceLROnPlateau(monitor=\"val_loss\", factor=0.25, patience=20, min_lr=0.00005, verbose=1),\n",
    "    EarlyStopping(monitor=\"val_loss\", patience=30, verbose=1), \n",
    "    #TensorBoard(log_dir = logz,histogram_freq = 1,profile_batch = '1,70', embeddings_freq=50),\n",
    "    WandbCallback()\n",
    "]\n",
    "\n",
    "opt1 = tf.keras.optimizers.RMSprop(learning_rate=config['learning_rate'],rho=0.9,momentum=0.9, epsilon=1e-07,centered=True,name=\"RMSprop\")\n",
    "opt2 = tf.keras.optimizers.Adam(learning_rate=config['learning_rate'])\n",
    "opt3 = tf.keras.optimizers.SGD(learning_rate=config['learning_rate'], momentum=0.99, nesterov=True, name=\"SGD\")\n",
    "#poly_rate = tf.keras.optimizers.SGD(learning_rate = learning_rate_fn)\n",
    "\n",
    "top_K = 3\n",
    "start_time = datetime.strftime( datetime.now(),'%d_%B_%y_%H%M')\n",
    "\n",
    "print(f'Training start time:{start_time}')\n",
    "\n",
    "model.compile( optimizer=opt2,loss=tf.keras.losses.CategoricalCrossentropy(label_smoothing=0.2) , \n",
    "              metrics=[\"accuracy\", tf.keras.metrics.TopKCategoricalAccuracy(top_K, name=\"top-3-accuracy\")], ) #\"sparse_categorical_crossentropy\" , sparse_categorical_accuracy\", tf.keras.losses.CategoricalCrossentropy(label_smoothing=0.3)\n",
    "\n",
    "\n",
    "history = model.fit([x_train2,coords_train], y_train_1hot,\n",
    "          epochs= config['num_epochs'],  \n",
    "          batch_size= config['batch_size'], \n",
    "          #validation_split = 0.3,\n",
    "          validation_data=([x_test2,coords_test], y_test_1hot),\n",
    "          callbacks=callbacks,)\n",
    "          #class_weight = cl_weight_dict ) \n",
    "\n",
    "#model = tf.keras.models.load_model(f\"{base_path2}//{ipynbname.name()}//RowBlockLSTM_ReRun_Checkpoint{time_stamp}.h5\")\n",
    "\n",
    "# Update manual log file\n",
    "params_to_be_updated = update_log_entry('../testing_sheet2.xlsx', log_idx, model, history)\n",
    "\n",
    "config['end_time'] = datetime.strftime( datetime.now(),'%d_%B_%y_%H_%M')\n",
    "print(f'End time {config[\"end_time\"]}')"
   ]
  },
  {
   "cell_type": "code",
   "execution_count": null,
   "id": "b709185f-c394-4c52-afa5-75bcf5964ad9",
   "metadata": {
    "tags": []
   },
   "outputs": [],
   "source": [
    "# Custom ResNet + LSTM model\n",
    "\n",
    "num_epochs = 200\n",
    "batch_size = 512\n",
    "learning_rate = 5e-3\n",
    "\n",
    "input_shape = (x_train.shape[1:]) + (1,) #input_shape = (21,5,) #x_train.shape[2]\n",
    "\n",
    "def ResNetBlock(x,dropout):\n",
    "    x =   layers.Conv2D(filters=64, kernel_size=5, padding=\"same\")(x) #input_layer\n",
    "    conv1 = layers.Conv2D(filters=64, kernel_size=5, padding=\"same\")(x) # input_layer, Conv1D\n",
    "    conv1 = layers.Dropout(dropout)(conv1)\n",
    "    conv1 = layers.BatchNormalization()(conv1)\n",
    "    conv1 = layers.ReLU()(conv1)\n",
    "\n",
    "    conv2 = layers.Conv2D(filters=64, kernel_size=3, padding=\"same\")(conv1)\n",
    "    conv2 = layers.Dropout(dropout)(conv2)\n",
    "    conv2 = layers.BatchNormalization()(conv2)\n",
    "    conv2 = layers.ReLU()(conv2)\n",
    "\n",
    "    conv3 = layers.Conv2D(filters=64, kernel_size=3, padding=\"same\")(conv2)\n",
    "    conv3 = layers.Dropout(dropout)(conv3)\n",
    "    conv3 = layers.BatchNormalization()(conv3)\n",
    "    conv3 = layers.ReLU()(conv3)\n",
    "    \n",
    "    conv3 = layers.Conv2D(filters=64, kernel_size=3, padding=\"same\")(conv2)\n",
    "    conv3 = layers.Dropout(dropout)(conv3)\n",
    "    conv3 = layers.BatchNormalization()(conv3)\n",
    "    conv3 = layers.ReLU()(conv3)\n",
    "    \n",
    "    conv3 = layers.add([x,conv3])\n",
    "    x = layers.ReLU()(conv3) # Overwrite x\n",
    "    \n",
    "    return x\n",
    "\n",
    "\n",
    "def build_model(\n",
    "    input_shape,\n",
    "    head_size,  \n",
    "    mlp_units,\n",
    "    dropout,\n",
    "    mlp_dropout,\n",
    "):\n",
    "    inputs = tf.keras.Input(shape=input_shape)  \n",
    "    \n",
    "    x = layers.Conv2D(filters=32, kernel_size=3, padding=\"same\")(inputs)\n",
    "    for _ in range(5):\n",
    "        x = ResNetBlock(x,dropout)        \n",
    "    x = tf.reduce_sum(x,axis=-1)\n",
    "    \n",
    "    x = layers.LSTM(head_size,recurrent_dropout=0.15, return_sequences=True)(x) #input_shape=(x.shape[1:]),\n",
    "    x = layers.LSTM(head_size,recurrent_dropout=0.15, return_sequences=True)(x)\n",
    "    #x = layers.LSTM(head_size,recurrent_dropout=0.1, return_sequences=True)(x)\n",
    "    x = layers.LSTM(64,recurrent_dropout= 0.3)(x)\n",
    "\n",
    "       \n",
    "    #for dim in mlp_units:  x = layers.Dense(dim, activation=\"relu\")(x)\n",
    "    x = layers.Dense(mlp_units, activation=\"relu\")(x)\n",
    "    x = layers.Dropout(mlp_dropout)(x)\n",
    "    outputs = layers.Dense(num_classes, activation=\"softmax\")(x)\n",
    "    return tf.keras.Model(inputs, outputs,name =\"RowBlockLSTM\"+time_stamp)\n",
    "\n",
    "head_size = 512 # 128, 256,64\n",
    "mlp_units=512  # 128\n",
    "mlp_dropout=0.15     #0.4\n",
    "dropout=0.15          #0.25\n",
    "\n",
    "model = build_model(input_shape,head_size = head_size,mlp_units=mlp_units, mlp_dropout= mlp_dropout, dropout=dropout)\n",
    "model.summary()\n",
    "\n",
    "## Logging tools\n",
    "wandb.config = {\n",
    "  \"learning_rate\": \"learning_rate\",\n",
    "  \"epochs\": num_epochs, \n",
    "  \"batch_size\": batch_size,\n",
    "  #\"nodes\": nodes,\n",
    "  \"row_length\":row_length,\n",
    "  \"base_path\":base_path,\n",
    "  \"head_size\":head_size, \n",
    "  # \"ff_dim\":ff_dim, \"num_transformer_blocks\":num_transformer_blocks,\"num_heads\":num_heads,\n",
    "  \"mlp_units\":mlp_units, \"mlp_dropout\":mlp_dropout,\n",
    "  \"dropout\":dropout\n",
    "}\n",
    "\n",
    "# Update Wandb fieds with more params\n",
    "wandb.config.update(log)\n",
    "\n",
    "# Update log['extras']\n",
    "log['extras'][0].update(wandb.config)\n",
    "#### ===== End of logging ========\n",
    "\n",
    "\n",
    "\n",
    "# Poly Rate scheduler\n",
    "starter_learning_rate = 0.1\n",
    "end_learning_rate = 0.0001\n",
    "decay_steps = 10000\n",
    "learning_rate_fn = tf.keras.optimizers.schedules.PolynomialDecay(\n",
    "    starter_learning_rate,\n",
    "    decay_steps,\n",
    "    end_learning_rate,\n",
    "    power=0.25)\n",
    "\n",
    "\n",
    "# Callbacks\n",
    "callbacks = [\n",
    "    ModelCheckpoint(f\"{ipynbname.name()}//RowBlockLSTM_ReRun_Checkpoint{time_stamp}.h5\", save_best_only=True, monitor=\"val_loss\"),\n",
    "    ReduceLROnPlateau(monitor=\"val_loss\", factor=0.1, patience=3, min_lr=0.0001),\n",
    "    EarlyStopping(monitor=\"val_loss\", patience=25, verbose=1), \n",
    "    WandbCallback()\n",
    "]\n",
    "\n",
    "opt1 = tf.keras.optimizers.RMSprop(learning_rate=1e-3,rho=0.9,momentum=0.9, epsilon=1e-07,centered=True,name=\"RMSprop\")\n",
    "opt2 = tf.keras.optimizers.Adam(learning_rate=learning_rate,amsgrad=True)\n",
    "opt3 = tf.keras.optimizers.SGD(learning_rate=learning_rate, momentum=0.99, nesterov=True, name=\"SGD\")\n",
    "poly_rate = tf.keras.optimizers.SGD(learning_rate = learning_rate_fn)\n",
    "\n",
    "top_K = 3\n",
    "start_time = datetime.strftime( datetime.now(),'%d_%B_%y_%H%M')\n",
    "\n",
    "print(f'Training start time:{start_time}')\n",
    "\n",
    "# model.compile( optimizer = opt, loss= 'categorical_crossentropy', metrics=['accuracy',tf.keras.metrics.TopKCategoricalAccuracy(top_K, name=\"top-3-accuracy\")])  #label_smoothing=0.05, tf.keras.losses.KLDivergence()\n",
    "#model.compile( optimizer=opt1,loss=\"sparse_categorical_crossentropy\" , metrics=[\"sparse_categorical_accuracy\"],) #\"sparse_categorical_crossentropy\" , sparse_categorical_accuracy\", tf.keras.losses.CategoricalCrossentropy(label_smoothing=0.3)\n",
    "\n",
    "model.compile( optimizer=opt3,loss=tf.keras.losses.CategoricalCrossentropy(label_smoothing=0.2) , \n",
    "              metrics=[\"accuracy\", tf.keras.metrics.TopKCategoricalAccuracy(top_K, name=\"top-3-accuracy\")], ) #\"sparse_categorical_crossentropy\" , sparse_categorical_accuracy\", tf.keras.losses.CategoricalCrossentropy(label_smoothing=0.3)\n",
    "\n",
    "\n",
    "history = model.fit(x_train, y_train_1hot,\n",
    "          epochs= num_epochs, \n",
    "          batch_size= batch_size, \n",
    "          validation_split = 0.3,\n",
    "          # validation_data=(x_test, y_test_1hot),\n",
    "         callbacks=callbacks,  ) #mcp_save, callbacks=[reduce_lr_loss] class_weight = cl_weight_dict\n",
    "\n",
    "model = tf.keras.models.load_model(f\"{ipynbname.name()}//RowBlockLSTM_ReRun_Checkpoint{time_stamp}.h5\")\n",
    "\n",
    "# Update manual log file\n",
    "params_to_be_updated = update_log_entry('../testing_sheet2.xlsx', log_idx, model, history)"
   ]
  },
  {
   "cell_type": "code",
   "execution_count": null,
   "id": "022d725d-28c8-41f7-8c17-cdce96421635",
   "metadata": {
    "tags": []
   },
   "outputs": [],
   "source": [
    "# Train further using alll train data and validating with x_test\n",
    "if  0:    \n",
    "    history = model.fit(x_train, y_train_1hot,\n",
    "              epochs= num_epochs, \n",
    "              batch_size= batch_size, \n",
    "              #validation_split = 0.3,\n",
    "              validation_data=(x_test, y_test_1hot),\n",
    "             callbacks=callbacks,  )\n",
    "\n"
   ]
  },
  {
   "cell_type": "code",
   "execution_count": 27,
   "id": "1b014c62-9cfc-4601-905b-d6c55f67a09e",
   "metadata": {
    "tags": []
   },
   "outputs": [
    {
     "name": "stdout",
     "output_type": "stream",
     "text": [
      "WARNING:tensorflow:Layer lstm will not use cuDNN kernels since it doesn't meet the criteria. It will use a generic GPU kernel as fallback when running on GPU.\n",
      "WARNING:tensorflow:Layer lstm_1 will not use cuDNN kernels since it doesn't meet the criteria. It will use a generic GPU kernel as fallback when running on GPU.\n",
      "WARNING:tensorflow:Layer lstm_2 will not use cuDNN kernels since it doesn't meet the criteria. It will use a generic GPU kernel as fallback when running on GPU.\n",
      "WARNING:tensorflow:Layer lstm_3 will not use cuDNN kernels since it doesn't meet the criteria. It will use a generic GPU kernel as fallback when running on GPU.\n",
      "WARNING:tensorflow:Layer lstm_4 will not use cuDNN kernels since it doesn't meet the criteria. It will use a generic GPU kernel as fallback when running on GPU.\n",
      "Epoch 1/500\n",
      "5200/5200 [==============================] - 1515s 290ms/step - loss: 1.1457 - accuracy: 0.9676 - top-3-accuracy: 0.9960 - val_loss: 1.5264 - val_accuracy: 0.8246 - val_top-3-accuracy: 0.9472 - lr: 1.0000e-04 - _timestamp: 1658758532.0000 - _runtime: 50291.0000\n",
      "Epoch 2/500\n",
      "5200/5200 [==============================] - 1505s 289ms/step - loss: 1.1422 - accuracy: 0.9694 - top-3-accuracy: 0.9962 - val_loss: 1.5272 - val_accuracy: 0.8265 - val_top-3-accuracy: 0.9462 - lr: 1.0000e-04 - _timestamp: 1658760037.0000 - _runtime: 51796.0000\n",
      "Epoch 3/500\n",
      "5200/5200 [==============================] - 1507s 290ms/step - loss: 1.1407 - accuracy: 0.9701 - top-3-accuracy: 0.9962 - val_loss: 1.5267 - val_accuracy: 0.8274 - val_top-3-accuracy: 0.9477 - lr: 1.0000e-04 - _timestamp: 1658761544.0000 - _runtime: 53303.0000\n",
      "Epoch 4/500\n",
      "5200/5200 [==============================] - 1505s 289ms/step - loss: 1.1396 - accuracy: 0.9707 - top-3-accuracy: 0.9963 - val_loss: 1.5288 - val_accuracy: 0.8260 - val_top-3-accuracy: 0.9478 - lr: 1.0000e-04 - _timestamp: 1658763049.0000 - _runtime: 54808.0000\n",
      "Epoch 5/500\n",
      "5200/5200 [==============================] - 1509s 290ms/step - loss: 1.1377 - accuracy: 0.9717 - top-3-accuracy: 0.9965 - val_loss: 1.5286 - val_accuracy: 0.8273 - val_top-3-accuracy: 0.9462 - lr: 1.0000e-04 - _timestamp: 1658764558.0000 - _runtime: 56317.0000\n",
      "Epoch 6/500\n",
      "5200/5200 [==============================] - 1511s 291ms/step - loss: 1.1372 - accuracy: 0.9719 - top-3-accuracy: 0.9965 - val_loss: 1.5263 - val_accuracy: 0.8279 - val_top-3-accuracy: 0.9487 - lr: 1.0000e-04 - _timestamp: 1658766068.0000 - _runtime: 57827.0000\n",
      "Epoch 7/500\n",
      "5200/5200 [==============================] - 1506s 290ms/step - loss: 1.1370 - accuracy: 0.9722 - top-3-accuracy: 0.9964 - val_loss: 1.5288 - val_accuracy: 0.8280 - val_top-3-accuracy: 0.9445 - lr: 1.0000e-04 - _timestamp: 1658767575.0000 - _runtime: 59334.0000\n",
      "Epoch 8/500\n",
      "5200/5200 [==============================] - 1505s 289ms/step - loss: 1.1357 - accuracy: 0.9728 - top-3-accuracy: 0.9965 - val_loss: 1.5270 - val_accuracy: 0.8287 - val_top-3-accuracy: 0.9467 - lr: 1.0000e-04 - _timestamp: 1658769080.0000 - _runtime: 60839.0000\n",
      "Epoch 9/500\n",
      "5200/5200 [==============================] - 1507s 290ms/step - loss: 1.1356 - accuracy: 0.9727 - top-3-accuracy: 0.9964 - val_loss: 1.5349 - val_accuracy: 0.8257 - val_top-3-accuracy: 0.9443 - lr: 1.0000e-04 - _timestamp: 1658770587.0000 - _runtime: 62346.0000\n",
      "Epoch 10/500\n",
      "5200/5200 [==============================] - 1511s 291ms/step - loss: 1.1352 - accuracy: 0.9731 - top-3-accuracy: 0.9964 - val_loss: 1.5249 - val_accuracy: 0.8295 - val_top-3-accuracy: 0.9477 - lr: 1.0000e-04 - _timestamp: 1658772098.0000 - _runtime: 63857.0000\n",
      "Epoch 11/500\n",
      "5200/5200 [==============================] - 1506s 290ms/step - loss: 1.1350 - accuracy: 0.9731 - top-3-accuracy: 0.9965 - val_loss: 1.5300 - val_accuracy: 0.8285 - val_top-3-accuracy: 0.9463 - lr: 1.0000e-04 - _timestamp: 1658773604.0000 - _runtime: 65363.0000\n",
      "Epoch 12/500\n",
      "5200/5200 [==============================] - 1506s 290ms/step - loss: 1.1337 - accuracy: 0.9739 - top-3-accuracy: 0.9965 - val_loss: 1.5314 - val_accuracy: 0.8287 - val_top-3-accuracy: 0.9466 - lr: 1.0000e-04 - _timestamp: 1658775110.0000 - _runtime: 66869.0000\n",
      "Epoch 13/500\n",
      "5200/5200 [==============================] - 1506s 290ms/step - loss: 1.1348 - accuracy: 0.9734 - top-3-accuracy: 0.9964 - val_loss: 1.5316 - val_accuracy: 0.8277 - val_top-3-accuracy: 0.9471 - lr: 1.0000e-04 - _timestamp: 1658776617.0000 - _runtime: 68376.0000\n",
      "Epoch 14/500\n",
      "5200/5200 [==============================] - 1506s 290ms/step - loss: 1.1330 - accuracy: 0.9741 - top-3-accuracy: 0.9966 - val_loss: 1.5309 - val_accuracy: 0.8283 - val_top-3-accuracy: 0.9469 - lr: 1.0000e-04 - _timestamp: 1658778123.0000 - _runtime: 69882.0000\n",
      "Epoch 15/500\n",
      "5200/5200 [==============================] - 1507s 290ms/step - loss: 1.1327 - accuracy: 0.9743 - top-3-accuracy: 0.9965 - val_loss: 1.5307 - val_accuracy: 0.8284 - val_top-3-accuracy: 0.9463 - lr: 1.0000e-04 - _timestamp: 1658779630.0000 - _runtime: 71389.0000\n",
      "Epoch 16/500\n",
      "5200/5200 [==============================] - 1506s 290ms/step - loss: 1.1325 - accuracy: 0.9745 - top-3-accuracy: 0.9967 - val_loss: 1.5298 - val_accuracy: 0.8294 - val_top-3-accuracy: 0.9469 - lr: 1.0000e-04 - _timestamp: 1658781136.0000 - _runtime: 72895.0000\n",
      "Epoch 17/500\n",
      "5200/5200 [==============================] - 1507s 290ms/step - loss: 1.1323 - accuracy: 0.9745 - top-3-accuracy: 0.9967 - val_loss: 1.5250 - val_accuracy: 0.8303 - val_top-3-accuracy: 0.9477 - lr: 1.0000e-04 - _timestamp: 1658782642.0000 - _runtime: 74401.0000\n",
      "Epoch 18/500\n",
      "5200/5200 [==============================] - 1507s 290ms/step - loss: 1.1322 - accuracy: 0.9746 - top-3-accuracy: 0.9966 - val_loss: 1.5256 - val_accuracy: 0.8299 - val_top-3-accuracy: 0.9474 - lr: 1.0000e-04 - _timestamp: 1658784149.0000 - _runtime: 75908.0000\n",
      "Epoch 19/500\n",
      "5200/5200 [==============================] - 1516s 292ms/step - loss: 1.1316 - accuracy: 0.9749 - top-3-accuracy: 0.9967 - val_loss: 1.5281 - val_accuracy: 0.8298 - val_top-3-accuracy: 0.9479 - lr: 1.0000e-04 - _timestamp: 1658785665.0000 - _runtime: 77424.0000\n",
      "Epoch 20/500\n",
      "5200/5200 [==============================] - 1526s 294ms/step - loss: 1.1307 - accuracy: 0.9754 - top-3-accuracy: 0.9967 - val_loss: 1.5270 - val_accuracy: 0.8315 - val_top-3-accuracy: 0.9436 - lr: 1.0000e-04 - _timestamp: 1658787191.0000 - _runtime: 78950.0000\n",
      "Epoch 21/500\n",
      "5200/5200 [==============================] - 1519s 292ms/step - loss: 1.1270 - accuracy: 0.9771 - top-3-accuracy: 0.9969 - val_loss: 1.5284 - val_accuracy: 0.8314 - val_top-3-accuracy: 0.9479 - lr: 5.0000e-05 - _timestamp: 1658788710.0000 - _runtime: 80469.0000\n",
      "Epoch 22/500\n",
      "5200/5200 [==============================] - 1517s 292ms/step - loss: 1.1266 - accuracy: 0.9776 - top-3-accuracy: 0.9969 - val_loss: 1.5288 - val_accuracy: 0.8322 - val_top-3-accuracy: 0.9460 - lr: 5.0000e-05 - _timestamp: 1658790227.0000 - _runtime: 81986.0000\n",
      "Epoch 23/500\n",
      "5200/5200 [==============================] - 1796s 345ms/step - loss: 1.1253 - accuracy: 0.9780 - top-3-accuracy: 0.9969 - val_loss: 1.5293 - val_accuracy: 0.8325 - val_top-3-accuracy: 0.9479 - lr: 5.0000e-05 - _timestamp: 1658792023.0000 - _runtime: 83782.0000\n",
      "Epoch 24/500\n",
      "5200/5200 [==============================] - 1912s 368ms/step - loss: 1.1253 - accuracy: 0.9781 - top-3-accuracy: 0.9969 - val_loss: 1.5325 - val_accuracy: 0.8307 - val_top-3-accuracy: 0.9477 - lr: 5.0000e-05 - _timestamp: 1658793935.0000 - _runtime: 85694.0000\n",
      "Epoch 25/500\n",
      "5200/5200 [==============================] - 1524s 293ms/step - loss: 1.1248 - accuracy: 0.9783 - top-3-accuracy: 0.9969 - val_loss: 1.5307 - val_accuracy: 0.8311 - val_top-3-accuracy: 0.9463 - lr: 5.0000e-05 - _timestamp: 1658795459.0000 - _runtime: 87218.0000\n",
      "Epoch 26/500\n",
      "5200/5200 [==============================] - 1526s 293ms/step - loss: 1.1245 - accuracy: 0.9785 - top-3-accuracy: 0.9970 - val_loss: 1.5329 - val_accuracy: 0.8309 - val_top-3-accuracy: 0.9481 - lr: 5.0000e-05 - _timestamp: 1658796985.0000 - _runtime: 88744.0000\n",
      "Epoch 27/500\n",
      "5200/5200 [==============================] - 1525s 293ms/step - loss: 1.1236 - accuracy: 0.9788 - top-3-accuracy: 0.9971 - val_loss: 1.5289 - val_accuracy: 0.8327 - val_top-3-accuracy: 0.9483 - lr: 5.0000e-05 - _timestamp: 1658798509.0000 - _runtime: 90268.0000\n",
      "Epoch 28/500\n",
      "5200/5200 [==============================] - 1525s 293ms/step - loss: 1.1231 - accuracy: 0.9793 - top-3-accuracy: 0.9970 - val_loss: 1.5300 - val_accuracy: 0.8329 - val_top-3-accuracy: 0.9477 - lr: 5.0000e-05 - _timestamp: 1658800034.0000 - _runtime: 91793.0000\n",
      "Epoch 29/500\n",
      "5200/5200 [==============================] - 1526s 294ms/step - loss: 1.1236 - accuracy: 0.9788 - top-3-accuracy: 0.9970 - val_loss: 1.5281 - val_accuracy: 0.8327 - val_top-3-accuracy: 0.9480 - lr: 5.0000e-05 - _timestamp: 1658801560.0000 - _runtime: 93319.0000\n",
      "Epoch 30/500\n",
      "5200/5200 [==============================] - 1526s 293ms/step - loss: 1.1236 - accuracy: 0.9790 - top-3-accuracy: 0.9969 - val_loss: 1.5320 - val_accuracy: 0.8327 - val_top-3-accuracy: 0.9468 - lr: 5.0000e-05 - _timestamp: 1658803086.0000 - _runtime: 94845.0000\n",
      "Epoch 30: early stopping\n"
     ]
    }
   ],
   "source": [
    "# Re-training using one of the best models: Editing Callbacks to include EarlyStopping\n",
    "\n",
    "#model = tf.keras.models.load_model(r\"Y:\\\\ibikunle\\\\Python_Project\\\\Fall_2021\\all_block_data\\Filteredfiltered_data\\LSTM1_RepeatExactly//RowBlockLSTM_ReRunNew_Checkpoint_181222.h5\")\n",
    "model = tf.keras.models.load_model(r\"Y:\\ibikunle\\Python_Project\\Fall_2021\\all_block_data\\PulsedTrainTest\\LSTM_PositionalEmbedding\\LSTM_NewData_PositionalEmbedding_RowBlock25\\RowBlockLSTM_ReRun_Checkpoint19_July_22_0959.h5\")\n",
    "\n",
    "config['Run_notes']='Training again_ june2022: Back to Old filtered_filtered_data but using frames170-243 as final test'\n",
    "config['num_epochs'] = 500\n",
    "config['batch_size'] = 128\n",
    "model.optimizer.learning_rate = config['learning_rate'] = 1e-4\n",
    "config['base_path'] = base_path\n",
    "\n",
    "\n",
    "# Callbacks\n",
    "new_callbacks = [\n",
    "    ModelCheckpoint(r\"Y:\\ibikunle\\Python_Project\\Fall_2021\\all_block_data\\PulsedTrainTest\\LSTM_PositionalEmbedding\\LSTM_NewData_PositionalEmbedding_RowBlock25\\RowBlockLSTM_ReRun_Checkpoint19_July_22_0959.h5\", save_best_only=True, monitor=\"val_loss\"),\n",
    "    ReduceLROnPlateau(monitor=\"val_loss\", factor=0.25, patience=10, min_lr=0.00005),\n",
    "    EarlyStopping(monitor=\"val_loss\", patience=20, verbose=1), \n",
    "    WandbCallback()\n",
    "]\n",
    "# Reset learning rate\n",
    "#model.optimizer.learning_rate = 5e-4\n",
    "\n",
    "\n",
    "history = model.fit([x_train2,coords_train], y_train_1hot,\n",
    "          epochs= config['num_epochs'],  \n",
    "          batch_size= config['batch_size'], \n",
    "          #validation_split = 0.3,\n",
    "          validation_data=([x_test2,coords_test], y_test_1hot),\n",
    "          callbacks=new_callbacks,)\n",
    "\n",
    "# history = model.fit(x_train, y_train_1hot,\n",
    "#           epochs= 120, \n",
    "#           batch_size= batch_size, \n",
    "#           #validation_split = 0.3,\n",
    "#           validation_data=(x_val, y_val_1hot),\n",
    "#          callbacks=new_callbacks,  ) #mcp_save, callbacks=[reduce_lr_loss] class_weight = cl_weight_dict\n",
    "\n"
   ]
  },
  {
   "cell_type": "code",
   "execution_count": null,
   "id": "e01cf82b-9581-4ecb-a9ec-65d638355bc4",
   "metadata": {},
   "outputs": [],
   "source": [
    "log['Uniqueness_of_each_run'] = 'Using Old data from its source'\n",
    "run_completion_comment = f'Training with coords as 2nd input: Training result look great: train acc 99%, val acc:93%'\n",
    "if \"log_idx\" in globals():\n",
    "    log[\"S_N\"] = log_idx\n",
    "    log['extras'][0]['run_completion_comment'] = run_completion_comment #'Accuracy_per_epoch'\n",
    "    log['Accuracy_per_epoch'] = history.history['accuracy'][-1]\n",
    "    log_idx = create_log_entry('../testing_sheet2.xlsx', log)"
   ]
  },
  {
   "cell_type": "code",
   "execution_count": 31,
   "id": "900b0f69-6c63-49e6-8421-b7e5362b5c45",
   "metadata": {},
   "outputs": [
    {
     "data": {
      "image/png": "[encoded data removed]",
      "text/plain": [
       "<Figure size 432x288 with 1 Axes>"
      ]
     },
     "metadata": {
      "needs_background": "light"
     },
     "output_type": "display_data"
    },
    {
     "data": {
      "image/png": "[encoded data removed]",
      "text/plain": [
       "<Figure size 432x288 with 1 Axes>"
      ]
     },
     "metadata": {
      "needs_background": "light"
     },
     "output_type": "display_data"
    }
   ],
   "source": [
    "def PlotCurves(model_history):\n",
    "    plt.plot(model_history.history['accuracy'],label = 'train')\n",
    "    plt.grid(color = 'r', linestyle = '--', linewidth = .1)    \n",
    "    #plt.figure()\n",
    "    plt.plot(model_history.history['val_accuracy'],label = 'validation')\n",
    "   \n",
    "    plt.ylabel('Accuracy');\n",
    "    plt.xlabel('Epochs');\n",
    "    \n",
    "    plt.title('Training vs Validation accuracy');\n",
    "    plt.legend()\n",
    "    \n",
    "    plt.figure()\n",
    "    \n",
    "    plt.plot(model_history.history['loss'],label = 'train')\n",
    "    plt.grid(color = 'r', linestyle = '--', linewidth = .1)    \n",
    "    plt.plot(model_history.history['val_loss'],label = 'validation')\n",
    "   \n",
    "    plt.ylabel('Loss');\n",
    "    plt.xlabel('Epochs');\n",
    "    \n",
    "    plt.title('Training vs Validation Losses');\n",
    "    plt.legend()\n",
    "    return None\n",
    "\n",
    "PlotCurves(history)"
   ]
  },
  {
   "cell_type": "code",
   "execution_count": 28,
   "id": "43003c33-f2e8-4981-a601-84b1765ab943",
   "metadata": {},
   "outputs": [
    {
     "name": "stdout",
     "output_type": "stream",
     "text": [
      "6933/6933 [==============================] - 346s 50ms/step - loss: 1.8850 - accuracy: 0.7199 - top-3-accuracy: 0.8746\n",
      "Test accuracy: 71.99%\n",
      "Test top 5 accuracy: 87.46%\n",
      "Test_time: 25_July_22_2204\n"
     ]
    }
   ],
   "source": [
    "#Convert labels to categorical orthonormal vectors\n",
    "y_val_1hot = tf.keras.utils.to_categorical(y_val, config['num_classes'])\n",
    "\n",
    "time_stamp = datetime.strftime(datetime.now(),'%d_%B_%y_%H%M')\n",
    "_, accuracy,top3_acc = model.evaluate([x_val2,coords_val], y_val_1hot)\n",
    "print(f\"Test accuracy: {round(accuracy * 100, 2)}%\")\n",
    "print(f\"Test top 5 accuracy: {round(top3_acc * 100, 2)}%\")\n",
    "print(f\"Test_time: {datetime.strftime(datetime.now(),'%d_%B_%y_%H%M')}\")\n",
    "\n",
    "_,new_col_length,new_row_length = x_train.shape \n",
    "model.save(f'..//all_block_data//PulsedTrainTest//{ipynbname.name()}//{time_stamp}_Acc_{accuracy:.3f}_Top3Acc{top3_acc:.3f}_{new_row_length}x{new_col_length}.h5') # Last percentage is 46.85, New:52.4"
   ]
  },
  {
   "cell_type": "code",
   "execution_count": null,
   "id": "f032016a-3618-4322-bc9e-e7f0a9d224e6",
   "metadata": {
    "tags": []
   },
   "outputs": [],
   "source": [
    "# Convert labels to categorical orthonormal vectors\n",
    "y_test_1hot = tf.keras.utils.to_categorical(y_test, config['num_classes'])\n",
    "\n",
    "_, accuracy,top3_acc = model.evaluate(x_test2, y_test_1hot)\n",
    "print(f\"Test accuracy: {round(accuracy * 100, 2)}%\")\n",
    "print(f\"Test top 5 accuracy: {round(top3_acc * 100, 2)}%\")\n",
    "print(f\"Test_time: {datetime.strftime(datetime.now(),'%d_%B_%y_%H%M')}\")\n",
    "\n"
   ]
  },
  {
   "cell_type": "code",
   "execution_count": null,
   "id": "2c0032aa-c553-4240-beff-72f0f2df3e51",
   "metadata": {},
   "outputs": [],
   "source": [
    "# Train further\n",
    "train_further = False\n",
    "\n",
    "if train_further:\n",
    "    history = model.fit(x_train, y_train_1hot,\n",
    "          epochs= 200,          \n",
    "          validation_split= 0.3,\n",
    "         callbacks=callbacks) #mcp_save, callbacks=[reduce_lr_loss]"
   ]
  },
  {
   "cell_type": "code",
   "execution_count": 35,
   "id": "f501e446-69db-49bc-ab0a-e11030d0dec6",
   "metadata": {},
   "outputs": [
    {
     "name": "stdout",
     "output_type": "stream",
     "text": [
      "Check start 9778\n"
     ]
    },
    {
     "data": {
      "text/plain": [
       "[(8, 8),\n",
       " (15, 16),\n",
       " (12, 12),\n",
       " (10, 10),\n",
       " (13, 13),\n",
       " (15, 15),\n",
       " (10, 10),\n",
       " (16, 16),\n",
       " (9, 9),\n",
       " (13, 13),\n",
       " (10, 11),\n",
       " (20, 20),\n",
       " (8, 8),\n",
       " (15, 15),\n",
       " (14, 14),\n",
       " (16, 16),\n",
       " (14, 14),\n",
       " (10, 9),\n",
       " (15, 15),\n",
       " (11, 11)]"
      ]
     },
     "execution_count": 35,
     "metadata": {},
     "output_type": "execute_result"
    }
   ],
   "source": [
    "# Check some predictions\n",
    "\n",
    "import random\n",
    "check_start = random.randint(0,len(x_val))\n",
    "\n",
    "print(f'Check start {check_start}')\n",
    "[(int(y_val[idx]), np.argmax(model.predict([np.expand_dims(x_val2[idx],axis=0),np.expand_dims(coords_val[idx],axis=0)] )) ) for idx in range(check_start,check_start+20) ]\n",
    "\n"
   ]
  },
  {
   "cell_type": "code",
   "execution_count": null,
   "id": "5dbda035-6b46-4b65-9359-1c1f7e2611cd",
   "metadata": {},
   "outputs": [],
   "source": [
    "# Test model manually on all val data\n",
    "\n",
    "y_pred = [ np.argmax(model.predict([np.expand_dims(x_val2[idx],axis=0),np.expand_dims(coords_val[idx],axis=0)] )) for idx in range(len(x_val)) ]\n",
    "\n",
    "combined_result = zip(y_val,y_pred)\n",
    "\n",
    "val_exact_accuracy = 100 * sum([1 if y_pred[idx]==y_val[idx]   else 0 for idx in range(len(y_pred)) ]) / len(y_pred)\n",
    "val_margin5_accuracy = 100 * sum([1 if abs(y_pred[idx]-y_val[idx]) < 5 else 0 for idx in range(len(y_pred)) ]) / len(y_pred)\n",
    "\n",
    "print(f' Exact accuracy is {val_exact_accuracy: .5f} %')\n",
    "print(f' Top 5% accuracy is {val_margin5_accuracy: .5f} %')\n",
    "\n"
   ]
  },
  {
   "cell_type": "code",
   "execution_count": null,
   "id": "5906633e-2153-47af-acdc-121a3625b199",
   "metadata": {
    "tags": []
   },
   "outputs": [],
   "source": [
    "# Confusion Matrix and ROC/AUC\n",
    "\n",
    "model_predictions = np.asarray(y_pred)\n",
    "ground_truth = y_val.squeeze()\n",
    "\n",
    "# Prediction per Ground-truth class\n",
    "class_predictions = [ model_predictions[ground_truth==idx]  for idx in range(config['num_classes']) ]\n",
    "\n",
    "# Confusion matrix\n",
    "confusion_mtx = np.zeros((config['num_classes'],config['num_classes']) )\n",
    "\n",
    "for pred,actual in zip(y_pred,y_val): # Rows=Prediction, Columns = Actual\n",
    "    confusion_mtx[pred,actual] +=1"
   ]
  },
  {
   "cell_type": "code",
   "execution_count": null,
   "id": "475f7b9d-5af5-4242-aec0-e0f87ac6b665",
   "metadata": {},
   "outputs": [],
   "source": [
    "from mpl_toolkits.axes_grid1 import make_axes_locatable\n",
    "\n",
    "fig, ax = plt.subplots(figsize=(7,15),dpi = 100);\n",
    "shw=ax.imshow(confusion_mtx)\n",
    "#bar= plt.colorbar(shw)\n",
    "\n",
    "_=plt.ylabel('Predictions')\n",
    "_=plt.xlabel('Actual Class')\n",
    "_=plt.title('Confusion matrix')\n",
    "\n",
    "# ax.set_xticklabels(list(range(num_classes)))\n",
    "# ax.set_yticklabels(list(range(num_classes)))\n",
    "\n",
    "# create an axes on the right side of ax. The width of cax will be 5%\n",
    "# of ax and the padding between cax and ax will be fixed at 0.05 inch.\n",
    "divider = make_axes_locatable(ax)\n",
    "cax = divider.append_axes(\"right\", size=\"5%\", pad=0.05)\n",
    "#bar.set_label('ColorBar')\n",
    "_ = plt.colorbar(shw, cax=cax)"
   ]
  },
  {
   "cell_type": "code",
   "execution_count": null,
   "id": "970ef2b9-5f5f-401c-b024-4184eea46609",
   "metadata": {},
   "outputs": [],
   "source": [
    "# Histogram of each class prediction\n",
    "for idx,each_class in enumerate(class_predictions):\n",
    "    _ = plt.figure()\n",
    "    _ = plt.title('Class %s'%idx)\n",
    "    labels, counts = np.unique(each_class, return_counts=True)\n",
    "    _ = plt.bar(labels, counts, align='center')\n",
    "    _ = plt.gca().set_xticks(labels)\n",
    "    _ = plt.show()"
   ]
  },
  {
   "cell_type": "code",
   "execution_count": null,
   "id": "0d0115b5-eb22-4082-b2ed-b0fdea37b012",
   "metadata": {},
   "outputs": [],
   "source": [
    "from sklearn.metrics import classification_report\n",
    "\n",
    "print( classification_report( y_val,y_pred, labels=list(range(config['num_classes'])), zero_division=1 ))"
   ]
  },
  {
   "cell_type": "code",
   "execution_count": null,
   "id": "e952d2c6-abb1-4975-a03b-34c97c8f8669",
   "metadata": {},
   "outputs": [],
   "source": []
  },
  {
   "cell_type": "code",
   "execution_count": null,
   "id": "d5681e1f-3e23-41c0-9a56-cd020518cbc4",
   "metadata": {},
   "outputs": [],
   "source": [
    "# Check some predictions\n",
    "\n",
    "import random\n",
    "check_start = random.randint(0,len(x_val))\n",
    "\n",
    "print(f'Check start {check_start}')\n",
    "[(int(y_val[idx]), np.argmax(model.predict(np.expand_dims(x_val[idx],axis=0))) ) for idx in range(check_start,check_start+20) ]\n",
    "\n"
   ]
  },
  {
   "cell_type": "code",
   "execution_count": 36,
   "id": "c8d4305b-d2f7-4bb6-97c0-601e43f3624c",
   "metadata": {
    "tags": []
   },
   "outputs": [],
   "source": [
    "# Check model on unseen data from 20120330_04\n",
    "\n",
    "test_cnt = [ (orig_all_idx==elem).sum() for elem in test_echo_idx]\n",
    "test_coords = []\n",
    "for elem in test_cnt:\n",
    "    test_coords.append([*range(elem)])\n",
    "test_coords = np.concatenate(test_coords).ravel()\n",
    "\n",
    "# Get all idx of echos in train_echo_idx\n",
    "val_search_idx = np.where(orig_all_idx == test_echo_idx) #np.where( np.in1d(all_idx,train_echo_idx) )\n",
    "val_search_idx = list(val_search_idx[0])\n",
    "\n",
    "test_data = orig_all_data[val_search_idx]\n",
    "test_target = orig_all_target[val_search_idx]\n",
    "test_idx = orig_all_idx[val_search_idx]"
   ]
  },
  {
   "cell_type": "code",
   "execution_count": 37,
   "id": "d41a94a8-22bb-495f-a55f-fc2c03becc29",
   "metadata": {},
   "outputs": [],
   "source": [
    "# Reshape and prepare unseen test_data\n",
    "\n",
    "test_data = np.reshape( test_data, (test_data.shape[0],max_class,-1),order ='F' )\n",
    "test_data = test_data[:,:,mid_pt-neigh:mid_pt+neigh+1]\n",
    "# x_train = np.reshape(x_train,(x_train.shape[0],-1))\n",
    "test_data = np.transpose(test_data,(0,2,1))\n",
    "test_target[test_target == max_class+1 ] = 0"
   ]
  },
  {
   "cell_type": "code",
   "execution_count": 38,
   "id": "7380e35e-dae3-496f-b1dc-f7e39f7a827f",
   "metadata": {},
   "outputs": [],
   "source": [
    "test_data2 = np.stack((test_data,)*3, axis=-1) "
   ]
  },
  {
   "cell_type": "code",
   "execution_count": 39,
   "id": "674aae0f-2b15-4926-b75a-b74576b44b53",
   "metadata": {},
   "outputs": [],
   "source": [
    "seq_length = 9\n",
    "\n",
    "# Create Coords matrix to be used for Positional Embedding\n",
    "test_coords_mtx = np.zeros( (len(test_coords),seq_length) )\n",
    "\n",
    "for idx,each_coord in enumerate(test_coords):\n",
    "    test_coords_mtx[idx] = np.linspace(0, each_coord, num=seq_length)"
   ]
  },
  {
   "cell_type": "code",
   "execution_count": 40,
   "id": "202d6c75-504b-4636-8a21-2f30341034ce",
   "metadata": {},
   "outputs": [
    {
     "data": {
      "image/png": "[encoded data removed]",
      "text/plain": [
       "<Figure size 432x288 with 1 Axes>"
      ]
     },
     "metadata": {
      "needs_background": "light"
     },
     "output_type": "display_data"
    },
    {
     "data": {
      "image/png": "[encoded data removed]",
      "text/plain": [
       "<Figure size 432x288 with 1 Axes>"
      ]
     },
     "metadata": {
      "needs_background": "light"
     },
     "output_type": "display_data"
    },
    {
     "data": {
      "image/png": "[encoded data removed]",
      "text/plain": [
       "<Figure size 432x288 with 1 Axes>"
      ]
     },
     "metadata": {
      "needs_background": "light"
     },
     "output_type": "display_data"
    }
   ],
   "source": [
    "# Show distribution of targets in training and validation set\n",
    "\n",
    "labels, counts = np.unique(y_train, return_counts=True)\n",
    "_ = plt.bar(labels, counts, align='center')\n",
    "_ = plt.gca().set_xticks(labels)\n",
    "_ = plt.title('Distribution of targets in Training set')\n",
    "_ = plt.show()\n",
    "\n",
    "\n",
    "labels, counts = np.unique(y_val, return_counts=True)\n",
    "_ = plt.bar(labels, counts, align='center')\n",
    "_ = plt.gca().set_xticks(labels)\n",
    "_ = plt.title('Distribution of targets in Validation set')\n",
    "_ = plt.show()\n",
    "\n",
    "\n",
    "labels, counts = np.unique(test_target, return_counts=True)\n",
    "_ = plt.bar(labels, counts, align='center')\n",
    "_ = plt.gca().set_xticks(labels)\n",
    "_ = plt.title('Distribution of targets in Unseen dataset')\n",
    "_ = plt.show()"
   ]
  },
  {
   "cell_type": "code",
   "execution_count": 41,
   "id": "f9c88ad0-166a-44d3-8fef-41d5891a3035",
   "metadata": {},
   "outputs": [
    {
     "name": "stdout",
     "output_type": "stream",
     "text": [
      "30788/30788 [==============================] - 1511s 49ms/step - loss: 2.7034 - accuracy: 0.4489 - top-3-accuracy: 0.7518\n",
      "Test accuracy: 44.89%\n",
      "Test top 5 accuracy: 75.18%\n",
      "Test_time: 25_July_22_2240\n"
     ]
    }
   ],
   "source": [
    "# Convert labels to categorical orthonormal vectors\n",
    "test_target_1hot = tf.keras.utils.to_categorical(test_target, config['num_classes'])\n",
    "\n",
    "time_stamp = datetime.strftime(datetime.now(),'%d_%B_%y_%H%M')\n",
    "_, accuracy,top3_acc = model.evaluate([test_data2,test_coords_mtx], test_target_1hot)\n",
    "print(f\"Test accuracy: {round(accuracy * 100, 2)}%\")\n",
    "print(f\"Test top 5 accuracy: {round(top3_acc * 100, 2)}%\")\n",
    "print(f\"Test_time: {datetime.strftime(datetime.now(),'%d_%B_%y_%H%M')}\")\n",
    "\n"
   ]
  },
  {
   "cell_type": "code",
   "execution_count": 42,
   "id": "880cb1a4-65e9-490a-9898-9ea8d6e96081",
   "metadata": {},
   "outputs": [
    {
     "name": "stdout",
     "output_type": "stream",
     "text": [
      " Exact accuracy is  9.53547 %\n",
      " Top 3% accuracy is  20.93480 %\n"
     ]
    }
   ],
   "source": [
    "# Test model manually on all val data\n",
    "\n",
    "y_pred = [ np.argmax(model.predict([np.expand_dims(test_data[idx],axis=0),np.expand_dims(test_coords_mtx[idx],axis=0)] )) for idx in range(len(test_target)) ]\n",
    "\n",
    "val_exact_accuracy = 100 * sum([1 if y_pred[idx]==test_target[idx]   else 0 for idx in range(len(y_pred)) ]) / len(y_pred)\n",
    "val_margin5_accuracy = 100 * sum([1 if abs(y_pred[idx]-test_target[idx]) < 3 else 0 for idx in range(len(y_pred)) ]) / len(y_pred)\n",
    "\n",
    "print(f' Exact accuracy is {val_exact_accuracy: .5f} %')\n",
    "print(f' Top 3% accuracy is {val_margin5_accuracy: .5f} %')\n",
    "\n"
   ]
  },
  {
   "cell_type": "code",
   "execution_count": 43,
   "id": "71f437ba-2b0a-4ac2-830d-a6774d6309d4",
   "metadata": {},
   "outputs": [],
   "source": [
    "# Confusion Matrix and ROC/AUC\n",
    "\n",
    "model_predictions2 = np.asarray(y_pred)\n",
    "ground_truth2 = test_target.squeeze()\n",
    "\n",
    "# Prediction per Ground-truth class\n",
    "class_predictions2 = [ model_predictions2[ground_truth2==idx]  for idx in range(config['num_classes']) ]\n",
    "\n",
    "# Confusion matrix\n",
    "confusion_mtx2 = np.zeros((config['num_classes'],config['num_classes']) )\n",
    "\n",
    "for pred,actual in zip(y_pred,test_target): # Rows=Prediction, Columns = Actual\n",
    "    confusion_mtx2[pred,actual] +=1"
   ]
  },
  {
   "cell_type": "code",
   "execution_count": 44,
   "id": "f7b87997-381d-49dd-993e-c4c17a891556",
   "metadata": {},
   "outputs": [
    {
     "data": {
      "image/png": "[encoded data removed]",
      "text/plain": [
       "<Figure size 432x288 with 1 Axes>"
      ]
     },
     "metadata": {
      "needs_background": "light"
     },
     "output_type": "display_data"
    },
    {
     "data": {
      "image/png": "[encoded data removed]",
      "text/plain": [
       "<Figure size 432x288 with 1 Axes>"
      ]
     },
     "metadata": {
      "needs_background": "light"
     },
     "output_type": "display_data"
    },
    {
     "data": {
      "image/png": "[encoded data removed]",
      "text/plain": [
       "<Figure size 432x288 with 1 Axes>"
      ]
     },
     "metadata": {
      "needs_background": "light"
     },
     "output_type": "display_data"
    },
    {
     "data": {
      "image/png": "[encoded data removed]",
      "text/plain": [
       "<Figure size 432x288 with 1 Axes>"
      ]
     },
     "metadata": {
      "needs_background": "light"
     },
     "output_type": "display_data"
    },
    {
     "data": {
      "image/png": "[encoded data removed]",
      "text/plain": [
       "<Figure size 432x288 with 1 Axes>"
      ]
     },
     "metadata": {
      "needs_background": "light"
     },
     "output_type": "display_data"
    },
    {
     "data": {
      "image/png": "[encoded data removed]",
      "text/plain": [
       "<Figure size 432x288 with 1 Axes>"
      ]
     },
     "metadata": {
      "needs_background": "light"
     },
     "output_type": "display_data"
    },
    {
     "data": {
      "image/png": "[encoded data removed]",
      "text/plain": [
       "<Figure size 432x288 with 1 Axes>"
      ]
     },
     "metadata": {
      "needs_background": "light"
     },
     "output_type": "display_data"
    },
    {
     "data": {
      "image/png": "[encoded data removed]",
      "text/plain": [
       "<Figure size 432x288 with 1 Axes>"
      ]
     },
     "metadata": {
      "needs_background": "light"
     },
     "output_type": "display_data"
    },
    {
     "data": {
      "image/png": "[encoded data removed]",
      "text/plain": [
       "<Figure size 432x288 with 1 Axes>"
      ]
     },
     "metadata": {
      "needs_background": "light"
     },
     "output_type": "display_data"
    },
    {
     "data": {
      "image/png": "[encoded data removed]",
      "text/plain": [
       "<Figure size 432x288 with 1 Axes>"
      ]
     },
     "metadata": {
      "needs_background": "light"
     },
     "output_type": "display_data"
    },
    {
     "data": {
      "image/png": "[encoded data removed]",
      "text/plain": [
       "<Figure size 432x288 with 1 Axes>"
      ]
     },
     "metadata": {
      "needs_background": "light"
     },
     "output_type": "display_data"
    },
    {
     "data": {
      "image/png": "[encoded data removed]",
      "text/plain": [
       "<Figure size 432x288 with 1 Axes>"
      ]
     },
     "metadata": {
      "needs_background": "light"
     },
     "output_type": "display_data"
    },
    {
     "data": {
      "image/png": "[encoded data removed]",
      "text/plain": [
       "<Figure size 432x288 with 1 Axes>"
      ]
     },
     "metadata": {
      "needs_background": "light"
     },
     "output_type": "display_data"
    },
    {
     "data": {
      "image/png": "[encoded data removed]",
      "text/plain": [
       "<Figure size 432x288 with 1 Axes>"
      ]
     },
     "metadata": {
      "needs_background": "light"
     },
     "output_type": "display_data"
    },
    {
     "data": {
      "image/png": "[encoded data removed]",
      "text/plain": [
       "<Figure size 432x288 with 1 Axes>"
      ]
     },
     "metadata": {
      "needs_background": "light"
     },
     "output_type": "display_data"
    },
    {
     "data": {
      "image/png": "[encoded data removed]",
      "text/plain": [
       "<Figure size 432x288 with 1 Axes>"
      ]
     },
     "metadata": {
      "needs_background": "light"
     },
     "output_type": "display_data"
    },
    {
     "data": {
      "image/png": "[encoded data removed]",
      "text/plain": [
       "<Figure size 432x288 with 1 Axes>"
      ]
     },
     "metadata": {
      "needs_background": "light"
     },
     "output_type": "display_data"
    },
    {
     "data": {
      "image/png": "[encoded data removed]",
      "text/plain": [
       "<Figure size 432x288 with 1 Axes>"
      ]
     },
     "metadata": {
      "needs_background": "light"
     },
     "output_type": "display_data"
    },
    {
     "data": {
      "image/png": "[encoded data removed]",
      "text/plain": [
       "<Figure size 432x288 with 1 Axes>"
      ]
     },
     "metadata": {
      "needs_background": "light"
     },
     "output_type": "display_data"
    },
    {
     "data": {
      "image/png": "[encoded data removed]",
      "text/plain": [
       "<Figure size 432x288 with 1 Axes>"
      ]
     },
     "metadata": {
      "needs_background": "light"
     },
     "output_type": "display_data"
    },
    {
     "data": {
      "image/png": "[encoded data removed]",
      "text/plain": [
       "<Figure size 432x288 with 1 Axes>"
      ]
     },
     "metadata": {
      "needs_background": "light"
     },
     "output_type": "display_data"
    },
    {
     "data": {
      "image/png": "[encoded data removed]",
      "text/plain": [
       "<Figure size 432x288 with 1 Axes>"
      ]
     },
     "metadata": {
      "needs_background": "light"
     },
     "output_type": "display_data"
    }
   ],
   "source": [
    "# Histogram of each class prediction\n",
    "for idx,each_class in enumerate(class_predictions2):\n",
    "    _ = plt.figure()\n",
    "    _ = plt.title('Class %s'%idx)\n",
    "    labels, counts = np.unique(each_class, return_counts=True)\n",
    "    _ = plt.bar(labels, counts, align='center')\n",
    "    _ = plt.gca().set_xticks(labels)\n",
    "    _ = plt.show()"
   ]
  },
  {
   "cell_type": "code",
   "execution_count": null,
   "id": "cb9c486f-102b-40d8-b43b-ea25c9ba8ec3",
   "metadata": {},
   "outputs": [],
   "source": [
    "from sklearn.metrics import classification_report\n",
    "\n",
    "print( classification_report( test_target,y_pred, labels=list(range(config['num_classes'])), zero_division=1 ))"
   ]
  },
  {
   "cell_type": "code",
   "execution_count": null,
   "id": "29c39bc8-6d98-4441-a8fe-55655e2d5cca",
   "metadata": {},
   "outputs": [],
   "source": [
    "# Try prediction on difficult data\n",
    "\n",
    "x_difficult = raw_data1['echo_cnn_input'][stop_idx+1:]\n",
    "y_difficult = raw_data1['echo_cnn_target'][stop_idx+1:]\n",
    "\n",
    "x_difficult = np.reshape( x_difficult, (x_difficult.shape[0],max_class,-1) )\n",
    "x_difficult = x_difficult[:,:,mid_pt-neigh:mid_pt+neigh+1]\n",
    "# x_train = np.reshape(x_train,(x_train.shape[0],-1))\n",
    "x_difficult = np.transpose(x_difficult,(0,2,1))\n",
    "\n",
    "# y_difficult[y_difficult == num_classes] = 0\n",
    "# y_difficult = tf.keras.utils.to_categorical(y_difficult, num_classes)\n"
   ]
  },
  {
   "cell_type": "code",
   "execution_count": null,
   "id": "5e0f8927-8286-448f-8e7e-adfb8032ea23",
   "metadata": {},
   "outputs": [],
   "source": [
    "(x_difficult.shape,y_difficult.shape)"
   ]
  },
  {
   "cell_type": "code",
   "execution_count": null,
   "id": "969ad3b9-53d5-417a-ab84-55a84b5f75f2",
   "metadata": {},
   "outputs": [],
   "source": [
    "# Check some predictions\n",
    "\n",
    "difficult_start = random.randint(0,len(x_val)) #3500 #\n",
    "\n",
    "print(f'Check start {difficult_start}')\n",
    "[(int(y_difficult[idx]), np.argmax(model.predict(np.expand_dims(x_difficult[idx],axis=0))) ) for idx in range(difficult_start,difficult_start+50) ]\n",
    "\n"
   ]
  },
  {
   "cell_type": "code",
   "execution_count": null,
   "id": "566fc1a3-473a-4442-8d7e-257187b2aa2e",
   "metadata": {},
   "outputs": [],
   "source": [
    "# Attempt loading past model (after crash) and start training again\n",
    "load_model = 0\n",
    "if load_model:\n",
    "    model2 = tf.keras.models.load_model(r'Y:\\ibikunle\\Python_Project\\Fall_2021\\all_block_data\\Old_data\\Dec_Train_block_len_21_131121_2213\\NewAttention_RowBlockLSTM1\\22_November_21_0929_Acc_0.669_Top3Acc0.8506_21x9.h5'\n",
    "                                    ,)"
   ]
  },
  {
   "cell_type": "code",
   "execution_count": null,
   "id": "d814adde-7601-4664-ae72-80a585e2dfda",
   "metadata": {},
   "outputs": [],
   "source": []
  },
  {
   "cell_type": "code",
   "execution_count": null,
   "id": "1086771b-626e-42ed-90ce-56b434606586",
   "metadata": {
    "tags": []
   },
   "outputs": [],
   "source": [
    "# Train further\n",
    "batch_size = 64\n",
    "history2 = model.fit(x_train, y_train_1hot,\n",
    "          epochs= 30, \n",
    "          batch_size= batch_size, \n",
    "          validation_data=(x_test, y_test_1hot),callbacks=callbacks) #mcp_save, callbacks=[reduce_lr_loss]callbacks=callbacks"
   ]
  },
  {
   "cell_type": "code",
   "execution_count": null,
   "id": "b129b784-5906-48b6-aa6c-a6c3cecfc63a",
   "metadata": {},
   "outputs": [],
   "source": [
    "# Train further still( 30th Nov.,2021 X_train is returned back to default [i.e No shuffle] )\n",
    "from keras import backend as K\n",
    "K.set_value(model.optimizer.learning_rate, 0.001)\n",
    "batch_size = 64\n",
    "history2 = model.fit(x_train, y_train_1hot,\n",
    "          epochs= 2, \n",
    "          batch_size= batch_size, \n",
    "          validation_data=(x_test, y_test_1hot),callbacks=callbacks) #mcp_save, callbacks=[reduce_lr_loss]callbacks=callbacks"
   ]
  },
  {
   "cell_type": "code",
   "execution_count": null,
   "id": "ac606f26-6bfa-449a-9b90-b4765a2340ec",
   "metadata": {},
   "outputs": [],
   "source": [
    "# Convert labels to categorical orthonormal vectors\n",
    "y_val_1hot = tf.keras.utils.to_categorical(y_val, num_classes)\n",
    "\n",
    "_, accuracy,top3_acc = model.evaluate(x_val, y_val_1hot)\n",
    "print(f\"Test accuracy: {round(accuracy * 100, 2)}%\")\n",
    "# print(f\"Test top 5 accuracy: {round(top_5_accuracy * 100, 2)}%\")\n",
    "\n",
    "_,new_col_length,new_row_length = x_train.shape \n",
    "model.save(f'{base_path}//{ipynbname.name()}//{time_stamp}_Acc_{accuracy:.3f}_Top3Acc{top3_acc:.3f}_{new_row_length}x{new_col_length}.h5')"
   ]
  },
  {
   "cell_type": "code",
   "execution_count": null,
   "id": "bc0478a0-0d6b-44bf-abf6-30cb44b4d44c",
   "metadata": {},
   "outputs": [],
   "source": [
    "# Test model on val data\n",
    "\n",
    "y_diff_pred = [ np.argmax(model.predict(np.expand_dims(x_difficult[idx],axis=0))) for idx in range(3000,3050) ] #len(x_difficult)\n",
    "\n",
    "difficult_exact_accuracy = 100 * sum([1 if y_diff_pred[idx]==y_difficult[idx]   else 0 for idx in range(len(y_diff_pred)) ]) / len(y_diff_pred)\n",
    "difficult_margin5_accuracy = 100 * sum([1 if abs(y_diff_pred[idx]-y_difficult[idx]) < 3 else 0 for idx in range(len(y_diff_pred)) ]) / len(y_diff_pred)\n",
    "\n",
    "print(f' Exact accuracy is {difficult_exact_accuracy: .5f} %')\n",
    "print(f' Top 5% accuracy is {difficult_margin5_accuracy: .5f} %')\n",
    "\n"
   ]
  },
  {
   "cell_type": "code",
   "execution_count": null,
   "id": "b103b071-79d9-416b-b545-bc3c2e3e6587",
   "metadata": {},
   "outputs": [],
   "source": [
    "len(y_diff_pred)"
   ]
  },
  {
   "cell_type": "code",
   "execution_count": null,
   "id": "3ab0eaec-8607-4970-a6a9-397cef52ef9f",
   "metadata": {},
   "outputs": [],
   "source": []
  }
 ],
 "metadata": {
  "kernelspec": {
   "display_name": "TF_2.8",
   "language": "python",
   "name": "tf2.8"
  },
  "language_info": {
   "codemirror_mode": {
    "name": "ipython",
    "version": 3
   },
   "file_extension": ".py",
   "mimetype": "text/x-python",
   "name": "python",
   "nbconvert_exporter": "python",
   "pygments_lexer": "ipython3",
   "version": "3.9.7"
  }
 },
 "nbformat": 4,
 "nbformat_minor": 5
}
