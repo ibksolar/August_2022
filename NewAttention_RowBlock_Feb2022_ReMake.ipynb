{
 "cells": [
  {
   "cell_type": "code",
   "execution_count": 1,
   "id": "dbf0fa04-d15f-40e3-bc8e-e0c581c9707c",
   "metadata": {},
   "outputs": [
    {
     "name": "stdout",
     "output_type": "stream",
     "text": [
      "Packages Loaded\n"
     ]
    }
   ],
   "source": [
    "from __future__ import print_function\n",
    "\n",
    "import os\n",
    "\n",
    "import pandas as pd\n",
    "import numpy as np\n",
    "import matplotlib.pyplot as plt\n",
    "import random\n",
    "import tensorflow as tf\n",
    "from tensorflow.keras.models import Sequential, Model\n",
    "from tensorflow.keras.layers import *\n",
    "from tensorflow.keras import layers\n",
    "from tensorflow.keras.callbacks import EarlyStopping, ModelCheckpoint,TensorBoard,ReduceLROnPlateau\n",
    "\n",
    "from tensorflow.keras.optimizers import SGD, Adam\n",
    "from tensorflow.keras.activations import relu\n",
    "from tensorflow.keras.regularizers import l2\n",
    "from tensorflow.keras.constraints import max_norm\n",
    "from tensorflow.keras import backend as K\n",
    "# from tensorflow.keras.datasets import mnist, cifar10\n",
    "import tensorflow_addons as tfa\n",
    "from itertools import chain\n",
    "\n",
    "from IPython.core.interactiveshell import InteractiveShell\n",
    "InteractiveShell.ast_node_interactivity = \"all\"\n",
    "from scipy.io import loadmat \n",
    "import mat73\n",
    "from datetime import datetime\n",
    "import ipynbname\n",
    "\n",
    "from packaging import version\n",
    "print(\"Packages Loaded\")"
   ]
  },
  {
   "cell_type": "code",
   "execution_count": 2,
   "id": "ac4d22a9-05e5-4ece-bd8d-66a58fb87557",
   "metadata": {},
   "outputs": [
    {
     "name": "stdout",
     "output_type": "stream",
     "text": [
      "1 Physical GPUs, 1 Logical GPUs\n"
     ]
    }
   ],
   "source": [
    "gpus = tf.config.list_physical_devices('GPU')\n",
    "if gpus:\n",
    "  try:\n",
    "    # Currently, memory growth needs to be the same across GPUs\n",
    "    for gpu in gpus:\n",
    "      #tf_config = tf.ConfigProto(allow_soft_placement=False)\n",
    "      tf.config.experimental.set_memory_growth(gpu, True)\n",
    "    logical_gpus = tf.config.list_logical_devices('GPU')\n",
    "    print(len(gpus), \"Physical GPUs,\", len(logical_gpus), \"Logical GPUs\")\n",
    "  except RuntimeError as e:\n",
    "    # Memory growth must be set before GPUs have been initialized\n",
    "    print(e)"
   ]
  },
  {
   "cell_type": "code",
   "execution_count": 3,
   "id": "5e0ff66a-fe8d-4b53-923d-87fd82eaa274",
   "metadata": {
    "tags": []
   },
   "outputs": [
    {
     "name": "stderr",
     "output_type": "stream",
     "text": [
      "\u001b[34m\u001b[1mwandb\u001b[0m: Currently logged in as: \u001b[33mibksolar\u001b[0m (use `wandb login --relogin` to force relogin)\n",
      "\u001b[34m\u001b[1mwandb\u001b[0m: wandb version 0.12.11 is available!  To upgrade, please run:\n",
      "\u001b[34m\u001b[1mwandb\u001b[0m:  $ pip install wandb --upgrade\n"
     ]
    },
    {
     "data": {
      "text/html": [
       "\n",
       "                    Syncing run <strong><a href=\"https://wandb.ai/ibksolar/my-test-project/runs/1pjh2x84\" target=\"_blank\">NewAttention_RowBlock_Feb2022_ReMake01_March_22_2129</a></strong> to <a href=\"https://wandb.ai/ibksolar/my-test-project\" target=\"_blank\">Weights & Biases</a> (<a href=\"https://docs.wandb.com/integrations/jupyter.html\" target=\"_blank\">docs</a>).<br/>\n",
       "\n",
       "                "
      ],
      "text/plain": [
       "<IPython.core.display.HTML object>"
      ]
     },
     "metadata": {},
     "output_type": "display_data"
    },
    {
     "data": {
      "text/html": [
       "<button onClick=\"this.nextSibling.style.display='block';this.style.display='none';\">Display W&B run</button><iframe src=\"https://wandb.ai/ibksolar/my-test-project/runs/1pjh2x84?jupyter=true\" style=\"border:none;width:100%;height:420px;display:none;\"></iframe>"
      ],
      "text/plain": [
       "<wandb.sdk.wandb_run.Run at 0x1e291e85ee0>"
      ]
     },
     "execution_count": 3,
     "metadata": {},
     "output_type": "execute_result"
    }
   ],
   "source": [
    "import wandb\n",
    "from wandb.keras import WandbCallback\n",
    "time_stamp = datetime.strftime( datetime.now(),'%d_%B_%y_%H%M')\n",
    "wandb.init(project=\"my-test-project\", entity=\"ibksolar\", name=ipynbname.name()+time_stamp,config ={} )\n",
    " \n",
    "config = wandb.config"
   ]
  },
  {
   "cell_type": "code",
   "execution_count": 4,
   "id": "d9fb9b83-f2b1-4b99-82a7-e1580e7a2694",
   "metadata": {},
   "outputs": [
    {
     "name": "stdout",
     "output_type": "stream",
     "text": [
      "True\n"
     ]
    }
   ],
   "source": [
    "# base_path = '..\\\\..\\\\all_block_data\\Dec_Train_block_len_21_011121_2331'\n",
    "#base_path = '../all_block_data/Old_data/Dec_Train_block_len_21_231121_1531' '../all_block_data\\FindPeaks_data\\Dec_Train_block_len_21_030122_0614'\n",
    "\n",
    "base_path = '../../../Python_Env/final_layers_rowblock15_21/filtered_image'\n",
    "\n",
    "# Confirm path is right...\n",
    "print(f'{os.path.isdir(base_path)}')"
   ]
  },
  {
   "cell_type": "code",
   "execution_count": 5,
   "id": "156fdd8c-4315-4d1f-ad47-d35b1ee7e7f8",
   "metadata": {},
   "outputs": [],
   "source": [
    "# Load data\n",
    "# raw_data1 = loadmat('new_echo_cnn_in_out_jstarrs2021_first_try/echo_cnn_in_out_jstars1.mat')\n",
    "# raw_data1 = loadmat('echo_cnn_in_out_GOOD_layers/new_echo_cnn_in_out_jstars1.mat') 'findpeaks_layers/new_echo_cnn_in_out_jstars1.mat'\n",
    "\n",
    "raw_data1 = loadmat('../../../Python_Env/final_layers_rowblock15_21/filtered_image/new_echo_cnn_in_out_jstars1.mat')\n",
    "raw_data2 = loadmat('../../../Python_Env/final_layers_rowblock15_21/filtered_image/new_echo_cnn_in_out_jstars2.mat')\n",
    "raw_data3 = loadmat('../../../Python_Env/final_layers_rowblock15_21/filtered_image/new_echo_cnn_in_out_jstars3.mat')\n",
    "# raw_data4 = loadmat('findpeaks_layers_rowblock20/new_echo_cnn_in_out_jstars4.mat')\n",
    "\n",
    "d1 = raw_data1['echo_cnn1']\n",
    "t1 = raw_data1['echo_target1']\n",
    "i1 = raw_data1['echo_idx1']\n",
    "c1 = raw_data1['coords1']\n",
    "\n",
    "d2 = raw_data2['echo_cnn2']\n",
    "t2 = raw_data2['echo_target2']\n",
    "i2 = raw_data2['echo_idx2']\n",
    "c2 = raw_data2['coords2']\n",
    "\n",
    "d3 = raw_data3['echo_cnn3']\n",
    "t3 = raw_data3['echo_target3']\n",
    "i3 = raw_data3['echo_idx3']\n",
    "c3 = raw_data3['coords3']\n",
    "\n",
    "# d4 = raw_data4['echo_cnn4']\n",
    "# t4 = raw_data4['echo_target4']\n",
    "# i4 = raw_data4['echo_idx4']\n",
    "\n",
    "\n",
    "orig_all_data = np.concatenate( (d1,d2,d3),axis = 0 )\n",
    "orig_all_target = np.concatenate( (t1,t2,t3),axis = 0 )\n",
    "orig_all_idx = np.concatenate( (i1,i2,i3),axis = 0 )\n",
    "coords = np.concatenate( (c1,c2,c3),axis = 0 )\n",
    "\n",
    "# Set all nan in the data to zero\n",
    "nan_idx = np.isnan(orig_all_data).any(axis =-1)\n",
    "orig_all_target[nan_idx] = 0\n",
    "orig_all_data[ np.isnan(orig_all_data) ]= 0"
   ]
  },
  {
   "cell_type": "code",
   "execution_count": 6,
   "id": "e179ca79-43c2-45d8-a10e-1bb54507a5bf",
   "metadata": {},
   "outputs": [],
   "source": [
    "load_new_data = False\n",
    "\n",
    "if load_new_data:\n",
    "    raw_data1 = mat73.loadmat(base_path + '/echo_cnn_in_out_jstars.mat')\n",
    "    all_data = raw_data1['echo_cnn_input']\n",
    "    all_target = raw_data1['echo_cnn_target']\n",
    "    all_coords = raw_data1['coords']\n",
    "    echo_idx =raw_data1['orig_echo_idx']\n",
    "\n",
    "\n",
    "    # Set all nan in the data to zeroprint(f'Sum of NaNs in data is {np.sum(np.any(np.isnan(all_data)))}; in target is {np.sum(np.any(np.isnan(all_target)))} ')\n",
    "\n",
    "    print(f'Sum of NaNs in orignally in data is {np.sum(np.any(np.isnan(all_data)))}; in target is {np.sum(np.any(np.isnan(all_target)))} ')\n",
    "    nan_idx = np.isnan(all_data).any(axis =-1)\n",
    "    all_target[nan_idx] = 0\n",
    "    all_data[ np.isnan(all_data) ]= 0\n",
    "\n",
    "    print(f'Sum of NaNs in data after setting all to 0 is {np.sum(np.any(np.isnan(all_data)))}; in target is {np.sum(np.any(np.isnan(all_target)))} ')"
   ]
  },
  {
   "cell_type": "code",
   "execution_count": 7,
   "id": "3ad9b9de-ad50-40b2-acd3-2ccd92622741",
   "metadata": {},
   "outputs": [],
   "source": [
    "# Standardize all_data\n",
    "standardize = False\n",
    "if standardize:\n",
    "    all_data  = ( all_data - all_data.mean() ) / all_data.std()\n",
    "\n",
    "scale_data = False\n",
    "if scale_data:\n",
    "    all_data = 255*all_data"
   ]
  },
  {
   "cell_type": "code",
   "execution_count": 8,
   "id": "65ad29b3-3554-467b-ac66-aa751552daec",
   "metadata": {},
   "outputs": [],
   "source": [
    "# Truncate data because data after truncate point is notgood for training\n",
    "truncate_data = False\n",
    "if truncate_data:    \n",
    "    echo_idx = np.asarray(echo_idx)\n",
    "    stop_val = 400\n",
    "\n",
    "    stop_list, = np.where(echo_idx == stop_val)\n",
    "    stop_idx = stop_list[-1]\n",
    "\n",
    "    all_data = all_data[:stop_idx]\n",
    "    all_target = all_target[:stop_idx]\n",
    "    all_coords = all_coords[:stop_idx]\n",
    "    echo_idx = echo_idx[:stop_idx]\n",
    "\n",
    "    print(f'Data shape {all_data.shape}')\n",
    "    print(f'Target shape {all_target.shape}')"
   ]
  },
  {
   "cell_type": "code",
   "execution_count": 9,
   "id": "f13f7172-dac0-45e4-8bd1-7929ae99977e",
   "metadata": {},
   "outputs": [],
   "source": [
    "# Split based on echograms into small dataset representing training and testing.\n",
    "\n",
    "config['reduce_test_set'] = True\n",
    "\n",
    "all_echo_idx = np.unique(orig_all_idx)\n",
    "\n",
    "# Start split \n",
    "test_echo_idx = list(chain.from_iterable( [ list(range(20*n+1,20*n+20)) for n in range(1,max(all_echo_idx)//20,2) ] ) )\n",
    "\n",
    "# list(set(test_echo_idx) & set(train_echo_idx))\n",
    "\n",
    "if config['reduce_test_set']:\n",
    "    random.Random(13).shuffle(test_echo_idx)\n",
    "    test_echo_idx = test_echo_idx[:round(0.2*len(test_echo_idx))]\n",
    "    # Need to get the coords of the shuffled test_echo_idx\n",
    "\n",
    "# Create train_echo_idx     \n",
    "train_echo_idx = [int(elem) for elem in all_echo_idx if elem not in test_echo_idx]\n",
    "\n",
    "# Create new coords idx for each rowblock from all the echograms\n",
    "val_cnt = [ (orig_all_idx==elem).sum() for elem in train_echo_idx]\n",
    "new_coords = []\n",
    "for elem in val_cnt:\n",
    "    new_coords.append([*range(elem)])\n",
    "new_coords = np.concatenate(new_coords).ravel()\n",
    "\n",
    "# Get all idx of echos in train_echo_idx\n",
    "search_idx = search_idx = np.where(orig_all_idx == train_echo_idx) #np.where( np.in1d(all_idx,train_echo_idx) )\n",
    "search_idx = list(search_idx[0])\n",
    "\n",
    "all_data = orig_all_data[search_idx]\n",
    "all_target = orig_all_target[search_idx]\n",
    "all_idx = orig_all_idx[search_idx]\n",
    "\n",
    "np.testing.assert_equal(new_coords.shape[0],all_data.shape[0])"
   ]
  },
  {
   "cell_type": "code",
   "execution_count": 10,
   "id": "3eaf3c7e-1bb9-4d3b-b0af-deca0f0995b7",
   "metadata": {},
   "outputs": [
    {
     "name": "stdout",
     "output_type": "stream",
     "text": [
      "Dimensions match\n"
     ]
    }
   ],
   "source": [
    "config['row_length'] = 21 # CHANGE HERE <==\n",
    "config['col_length'] = 15\n",
    "\n",
    "# Check that the dimension of data is correct\n",
    "if all_data.shape[1] == config['row_length']*config['col_length']:\n",
    "    print('Dimensions match')\n",
    "else:\n",
    "    print(f' Row block length:{config[\"row_length\"]} and col length:{config[\"col_length\"]} does not match Data dimension:{all_data.shape[1]}') \n",
    "        "
   ]
  },
  {
   "cell_type": "code",
   "execution_count": 11,
   "id": "240c5978-0a4c-4a42-af11-b067dffe8ebc",
   "metadata": {},
   "outputs": [],
   "source": [
    "# Positional Encoding\n",
    "if 0:\n",
    "    time_seq = config['col_length'] #5\n",
    "    # all_coords = raw_data1['coords']\n",
    "    all_coord_exp = np.zeros((all_coords.shape[0],time_seq,config['row_length']))\n",
    "\n",
    "    for idx in range(len(all_coords)):\n",
    "        a,b,c,_ = np.asarray(all_coords[idx],dtype=\"int\")\n",
    "        if (a%2) == 0: # If row index is even - this isn't implemented well because it requires iterating through individual rows\n",
    "            all_coord_exp[idx] = np.sin( np.outer( np.arange(c,c+time_seq), pow(10000, (2*np.arange(a,b)/config['row_length'])) ) )\n",
    "        else:\n",
    "            all_coord_exp[idx] = np.cos( np.outer( np.arange(c,c+time_seq), pow(10000, (2*np.arange(a,b)/config['row_length'])) ) )\n",
    "\n",
    "    if 0: #truncate_data:\n",
    "        difficult_coords = all_coord_exp[stop_idx+1:]         \n",
    "        all_coord_exp = all_coord_exp[:stop_idx]        \n",
    "\n",
    "\n",
    "    all_coord_exp.shape    "
   ]
  },
  {
   "cell_type": "code",
   "execution_count": 12,
   "id": "6a4ba46e-c63c-48c2-b618-a810416ee7cf",
   "metadata": {},
   "outputs": [],
   "source": [
    "seq_length = 9\n",
    "\n",
    "# Create Coords matrix to be used for Positional Embedding\n",
    "new_coords_mtx = np.zeros( (len(new_coords),seq_length) )\n",
    "\n",
    "for idx,each_coord in enumerate(new_coords):\n",
    "    new_coords_mtx[idx] = np.linspace(0, each_coord, num=seq_length) #max([0,each_coord-1])"
   ]
  },
  {
   "cell_type": "code",
   "execution_count": 13,
   "id": "ab1acb17-7dee-417b-97bc-8d0bba4e4cf4",
   "metadata": {},
   "outputs": [
    {
     "name": "stdout",
     "output_type": "stream",
     "text": [
      "Shape of X_train:(1508659, 9, 21)  X_test:(282874, 9, 21)\n",
      "Shape of y_train:(1508659, 1)  y_test:(282874, 1)\n"
     ]
    }
   ],
   "source": [
    "max_class = config['row_length'] \n",
    "\n",
    "# Highest class is mapped to row_length+1\n",
    "all_target[all_target == max_class+1 ] = 0\n",
    "\n",
    "\n",
    "shuffle = 1\n",
    "if shuffle:\n",
    "    random.Random(13).shuffle(all_data)\n",
    "    random.Random(13).shuffle(all_target)\n",
    "    # random.Random(13).shuffle(all_coord_exp)\n",
    "    random.Random(13).shuffle(new_coords_mtx)\n",
    "\n",
    "## Prep data\n",
    "train_size = int(np.floor(0.8*len(all_target)));\n",
    "test_size = int(np.round( 0.15* all_data.shape[0] ))\n",
    "val_size = all_data.shape[0] -train_size - test_size\n",
    "\n",
    "mid_pt = 8\n",
    "neigh =  4\n",
    "\n",
    "x_train = all_data[0:train_size,:]\n",
    "x_train = np.reshape( x_train, (x_train.shape[0],max_class,-1),order ='F' )\n",
    "x_train = x_train[:,:,mid_pt-neigh:mid_pt+neigh+1]\n",
    "# x_train = np.reshape(x_train,(x_train.shape[0],-1))\n",
    "x_train = np.transpose(x_train,(0,2,1))\n",
    "coords_train = new_coords_mtx[0:train_size,:]\n",
    "\n",
    "\n",
    "x_test = all_data[train_size:train_size+test_size,:]\n",
    "x_test = np.reshape( x_test,(x_test.shape[0],max_class,-1), order ='F' )\n",
    "x_test = x_test[:,:,mid_pt-neigh:mid_pt+neigh+1]\n",
    "# x_test = np.reshape(x_test,(x_test.shape[0],-1))\n",
    "x_test = np.transpose(x_test,(0,2,1))\n",
    "coords_test = new_coords_mtx[train_size:train_size+test_size,:]\n",
    "\n",
    "\n",
    "x_val = all_data[-val_size:,:]\n",
    "x_val = np.reshape( x_val,(x_val.shape[0],max_class,-1), order ='F' )\n",
    "x_val = x_val[:,:,mid_pt-neigh:mid_pt+neigh+1]\n",
    "# x_val = np.reshape(x_val,(x_val.shape[0],-1))\n",
    "x_val = np.transpose(x_val,(0,2,1))\n",
    "coords_val = new_coords_mtx[-val_size:,:]\n",
    "\n",
    "\n",
    "y_train = all_target[:train_size]\n",
    "y_test  = all_target[train_size:train_size+test_size]\n",
    "y_val = all_target[-val_size:]\n",
    "\n",
    "var_input_shape = x_train.shape[1:] # 240 columns\n",
    "num_classes = max_class+1 # layers\n",
    "\n",
    "\n",
    "# Convert labels to categorical orthonormal vectors\n",
    "y_train_1hot = tf.keras.utils.to_categorical(y_train, num_classes)\n",
    "y_test_1hot  = tf.keras.utils.to_categorical(y_test, num_classes)\n",
    "\n",
    "print(f'Shape of X_train:{x_train.shape}  X_test:{x_test.shape}')\n",
    "print(f'Shape of y_train:{y_train.shape}  y_test:{y_test.shape}')"
   ]
  },
  {
   "cell_type": "code",
   "execution_count": 14,
   "id": "d2641993-96aa-4d4f-9342-5806258036fa",
   "metadata": {},
   "outputs": [
    {
     "ename": "ValueError",
     "evalue": "operands could not be broadcast together with shapes (1508659,9,21) (1508659,9) ",
     "output_type": "error",
     "traceback": [
      "\u001b[1;31m---------------------------------------------------------------------------\u001b[0m",
      "\u001b[1;31mValueError\u001b[0m                                Traceback (most recent call last)",
      "\u001b[1;32m~\\AppData\\Local\\Temp/ipykernel_13356/526119969.py\u001b[0m in \u001b[0;36m<module>\u001b[1;34m\u001b[0m\n\u001b[1;32m----> 1\u001b[1;33m \u001b[0mx_train_new\u001b[0m \u001b[1;33m=\u001b[0m \u001b[0mx_train\u001b[0m \u001b[1;33m+\u001b[0m \u001b[0mcoords_train\u001b[0m\u001b[1;33m\u001b[0m\u001b[1;33m\u001b[0m\u001b[0m\n\u001b[0m\u001b[0;32m      2\u001b[0m \u001b[0mx_test_new\u001b[0m \u001b[1;33m=\u001b[0m \u001b[0mx_test\u001b[0m \u001b[1;33m+\u001b[0m \u001b[0mcoords_test\u001b[0m\u001b[1;33m\u001b[0m\u001b[1;33m\u001b[0m\u001b[0m\n\u001b[0;32m      3\u001b[0m \u001b[0mx_val_new\u001b[0m \u001b[1;33m=\u001b[0m \u001b[0mx_val\u001b[0m \u001b[1;33m+\u001b[0m \u001b[0mcoords_val\u001b[0m\u001b[1;33m\u001b[0m\u001b[1;33m\u001b[0m\u001b[0m\n",
      "\u001b[1;31mValueError\u001b[0m: operands could not be broadcast together with shapes (1508659,9,21) (1508659,9) "
     ]
    }
   ],
   "source": [
    "\n",
    "x_train_new = x_train + coords_train\n",
    "x_test_new = x_test + coords_test\n",
    "x_val_new = x_val + coords_val"
   ]
  },
  {
   "cell_type": "code",
   "execution_count": 15,
   "id": "90eaf02e-ac0c-47ae-93f8-ff9098ad79e8",
   "metadata": {},
   "outputs": [
    {
     "data": {
      "image/png": "[encoded data removed]",
      "text/plain": [
       "<Figure size 432x288 with 1 Axes>"
      ]
     },
     "metadata": {
      "needs_background": "light"
     },
     "output_type": "display_data"
    }
   ],
   "source": [
    "# Visualize some of the input\n",
    "rand_idx = random.choice( range(1,x_train.shape[0]) )\n",
    "_ = plt.plot(x_train[rand_idx].flatten())\n",
    "_ = plt.title(f'Index {rand_idx}___Target_value:{y_train[rand_idx]}' )"
   ]
  },
  {
   "cell_type": "code",
   "execution_count": 16,
   "id": "3b703d53-632b-4e15-8a4d-8b4f58c78d63",
   "metadata": {},
   "outputs": [
    {
     "name": "stdout",
     "output_type": "stream",
     "text": [
      "Could not get file name: auto-generating name\n",
      "Activation_function not in workspace\n",
      "loss_function not in workspace\n",
      "Accuracy_per_epoch not in workspace\n",
      "Loss_per_epoch not in workspace\n",
      "Stop_time not in workspace\n",
      "extras  is not in workspace\n",
      "Current run hyper_params are dict_keys(['S_N', 'Start_time', 'NoteBook_name', 'Uniqueness_of_each_run', 'Base_dir', 'Train_shape', 'Output_shape', 'num_epochs', 'Activation_function', 'optimizer', 'learning_rate', 'loss_function', 'Accuracy_per_epoch', 'Loss_per_epoch', 'Stop_time', 'Model_config', 'Performance_on_test_set', 'output_path', 'shuffle', 'Computer_name', 'extras']):dict_values([48, '01_March_22_2136', 'NewAttention_RowBlock_Feb2022_ReMake', '', '../../../Python_Env/final_layers_rowblock15_21/filtered_image', (1508659, 9, 21), '', '', '', '', '', '', '', '', '', '', '', '', 1, 'AQ-C7FHZC3', ''])\n",
      "Fields to be updated include: ['Uniqueness_of_each_run', 'Activation_function', 'loss_function', 'Accuracy_per_epoch', 'Loss_per_epoch', 'Stop_time', 'Model_config', 'extras']\n"
     ]
    }
   ],
   "source": [
    "# Populate the param log\n",
    "log ={}\n",
    "log['Notebook_name'] = ipynbname.name()\n",
    "#log['Uniqueness_of_each_run'] = \"New Attention, New Machine again(Last one was 60%) Increased repition of attention and added GeLU and LabelSmoothing: Hoping for better performance\"\n",
    "log['base_dir'] = base_path\n",
    "log['Train_shape'] = x_train.shape\n",
    "log['Output_shape'] = ''\n",
    "log['num_epochs'] = ''\n",
    "log['batch_size'] = ''\n",
    "log['activation_function'] = ''\n",
    "log['optimizer'] = ''\n",
    "log['learning_rate'] = ''\n",
    "log['loss_finction'] = ''\n",
    "log['accuracy'] = []\n",
    "log['loss'] = []\n",
    "log['stop_time'] = ''\n",
    "log['Model_config'] = ''\n",
    "log['Performance_on_test_set'] = ''\n",
    "log['output_path'] = ''  # output: where the trained model is saved\n",
    "log['shuffle'] = shuffle\n",
    "log['run_completion_comment'] = '' # Comment on training and probably evaluation too\n",
    "\n",
    "from model_hyper_param_log import create_log_entry,update_log_entry\n",
    "if \"log_idx\" in globals():\n",
    "    log[\"S_N\"] = log_idx\n",
    "log_idx = create_log_entry('../testing_sheet2.xlsx', log)"
   ]
  },
  {
   "cell_type": "code",
   "execution_count": 17,
   "id": "4087364c-4e28-4837-8e0f-6d3f339beacb",
   "metadata": {},
   "outputs": [
    {
     "data": {
      "text/plain": [
       "{'reduce_test_set': True, 'row_length': 21, 'col_length': 15}"
      ]
     },
     "execution_count": 17,
     "metadata": {},
     "output_type": "execute_result"
    }
   ],
   "source": [
    "# View current config \n",
    "config"
   ]
  },
  {
   "cell_type": "code",
   "execution_count": 23,
   "id": "665cc68c-ab6f-42b6-ac76-49d71b86329f",
   "metadata": {
    "tags": []
   },
   "outputs": [
    {
     "name": "stdout",
     "output_type": "stream",
     "text": [
      "Training start time:02_March_22_0700\n",
      "Epoch 1/500\n",
      "11787/11787 [==============================] - 4949s 417ms/step - loss: 1.9711 - accuracy: 0.4990 - top-3-accuracy: 0.8711 - val_loss: 2.0818 - val_accuracy: 0.4558 - val_top-3-accuracy: 0.8281 - lr: 0.0010\n",
      "Epoch 2/500\n",
      "11787/11787 [==============================] - 4851s 412ms/step - loss: 1.9533 - accuracy: 0.5053 - top-3-accuracy: 0.8831 - val_loss: 2.0443 - val_accuracy: 0.4758 - val_top-3-accuracy: 0.8407 - lr: 0.0010\n",
      "Epoch 3/500\n",
      "11787/11787 [==============================] - 4867s 413ms/step - loss: 1.9256 - accuracy: 0.5235 - top-3-accuracy: 0.8922 - val_loss: 2.0320 - val_accuracy: 0.4906 - val_top-3-accuracy: 0.8515 - lr: 0.0010\n",
      "Epoch 4/500\n",
      "11787/11787 [==============================] - 4859s 412ms/step - loss: 1.9121 - accuracy: 0.5332 - top-3-accuracy: 0.8969 - val_loss: 2.0360 - val_accuracy: 0.4875 - val_top-3-accuracy: 0.8487 - lr: 0.0010\n",
      "Epoch 5/500\n",
      "11787/11787 [==============================] - 10912s 926ms/step - loss: 1.9043 - accuracy: 0.5403 - top-3-accuracy: 0.8995 - val_loss: 2.0178 - val_accuracy: 0.5031 - val_top-3-accuracy: 0.8577 - lr: 0.0010\n",
      "Epoch 6/500\n",
      "11787/11787 [==============================] - 8254s 700ms/step - loss: 1.8990 - accuracy: 0.5446 - top-3-accuracy: 0.9013 - val_loss: 2.0277 - val_accuracy: 0.5000 - val_top-3-accuracy: 0.8577 - lr: 0.0010\n",
      "Epoch 7/500\n",
      "11787/11787 [==============================] - 4830s 410ms/step - loss: 1.8951 - accuracy: 0.5482 - top-3-accuracy: 0.9025 - val_loss: 2.0415 - val_accuracy: 0.4918 - val_top-3-accuracy: 0.8551 - lr: 0.0010\n",
      "Epoch 8/500\n",
      "11787/11787 [==============================] - 4833s 410ms/step - loss: 1.8926 - accuracy: 0.5511 - top-3-accuracy: 0.9034 - val_loss: 2.0394 - val_accuracy: 0.4929 - val_top-3-accuracy: 0.8562 - lr: 0.0010\n",
      "Epoch 9/500\n",
      "11787/11787 [==============================] - 4841s 411ms/step - loss: 1.8915 - accuracy: 0.5525 - top-3-accuracy: 0.9035 - val_loss: 2.0480 - val_accuracy: 0.4915 - val_top-3-accuracy: 0.8462 - lr: 0.0010\n",
      "Epoch 10/500\n",
      "11787/11787 [==============================] - 4813s 408ms/step - loss: 1.8904 - accuracy: 0.5538 - top-3-accuracy: 0.9042 - val_loss: 2.0521 - val_accuracy: 0.4944 - val_top-3-accuracy: 0.8511 - lr: 0.0010\n",
      "Epoch 11/500\n",
      "11787/11787 [==============================] - 4848s 411ms/step - loss: 1.8901 - accuracy: 0.5544 - top-3-accuracy: 0.9042 - val_loss: 2.0324 - val_accuracy: 0.5075 - val_top-3-accuracy: 0.8582 - lr: 0.0010\n",
      "Epoch 12/500\n",
      "11787/11787 [==============================] - 4833s 410ms/step - loss: 1.8897 - accuracy: 0.5558 - top-3-accuracy: 0.9044 - val_loss: 2.0142 - val_accuracy: 0.5134 - val_top-3-accuracy: 0.8598 - lr: 0.0010\n",
      "Epoch 13/500\n",
      "11787/11787 [==============================] - 4837s 410ms/step - loss: 1.8899 - accuracy: 0.5560 - top-3-accuracy: 0.9043 - val_loss: 2.0137 - val_accuracy: 0.5080 - val_top-3-accuracy: 0.8594 - lr: 0.0010\n",
      "Epoch 14/500\n",
      "11787/11787 [==============================] - 4846s 411ms/step - loss: 1.8902 - accuracy: 0.5564 - top-3-accuracy: 0.9045 - val_loss: 2.0610 - val_accuracy: 0.4851 - val_top-3-accuracy: 0.8451 - lr: 0.0010\n",
      "Epoch 15/500\n",
      "11787/11787 [==============================] - 4823s 409ms/step - loss: 1.8906 - accuracy: 0.5566 - top-3-accuracy: 0.9044 - val_loss: 2.0481 - val_accuracy: 0.4981 - val_top-3-accuracy: 0.8525 - lr: 0.0010\n",
      "Epoch 16/500\n",
      "11787/11787 [==============================] - 4823s 409ms/step - loss: 1.8913 - accuracy: 0.5562 - top-3-accuracy: 0.9042 - val_loss: 2.0381 - val_accuracy: 0.5041 - val_top-3-accuracy: 0.8596 - lr: 0.0010\n",
      "Epoch 17/500\n",
      "11787/11787 [==============================] - 4851s 412ms/step - loss: 1.8923 - accuracy: 0.5558 - top-3-accuracy: 0.9040 - val_loss: 2.0265 - val_accuracy: 0.5094 - val_top-3-accuracy: 0.8563 - lr: 0.0010\n",
      "Epoch 18/500\n",
      "11787/11787 [==============================] - 4854s 412ms/step - loss: 1.8939 - accuracy: 0.5559 - top-3-accuracy: 0.9036 - val_loss: 2.0323 - val_accuracy: 0.5039 - val_top-3-accuracy: 0.8542 - lr: 0.0010\n",
      "Epoch 19/500\n",
      "11787/11787 [==============================] - 4823s 409ms/step - loss: 1.8960 - accuracy: 0.5543 - top-3-accuracy: 0.9029 - val_loss: 2.0482 - val_accuracy: 0.5006 - val_top-3-accuracy: 0.8554 - lr: 0.0010\n",
      "Epoch 20/500\n",
      "11787/11787 [==============================] - 4849s 411ms/step - loss: 1.8975 - accuracy: 0.5538 - top-3-accuracy: 0.9027 - val_loss: 2.0309 - val_accuracy: 0.5128 - val_top-3-accuracy: 0.8591 - lr: 0.0010\n",
      "Epoch 21/500\n",
      "11787/11787 [==============================] - 4857s 412ms/step - loss: 1.8998 - accuracy: 0.5526 - top-3-accuracy: 0.9023 - val_loss: 2.0382 - val_accuracy: 0.5074 - val_top-3-accuracy: 0.8556 - lr: 0.0010\n",
      "Epoch 22/500\n",
      "11787/11787 [==============================] - 4807s 408ms/step - loss: 1.9034 - accuracy: 0.5505 - top-3-accuracy: 0.9012 - val_loss: 2.0364 - val_accuracy: 0.5056 - val_top-3-accuracy: 0.8560 - lr: 0.0010\n",
      "Epoch 23/500\n",
      "11787/11787 [==============================] - 4841s 411ms/step - loss: 1.9069 - accuracy: 0.5493 - top-3-accuracy: 0.9006 - val_loss: 2.0326 - val_accuracy: 0.5081 - val_top-3-accuracy: 0.8572 - lr: 0.0010\n",
      "Epoch 24/500\n",
      "11787/11787 [==============================] - 4825s 409ms/step - loss: 1.9100 - accuracy: 0.5468 - top-3-accuracy: 0.8996 - val_loss: 2.0406 - val_accuracy: 0.5081 - val_top-3-accuracy: 0.8546 - lr: 0.0010\n",
      "Epoch 25/500\n",
      "11787/11787 [==============================] - 4825s 409ms/step - loss: 1.9142 - accuracy: 0.5447 - top-3-accuracy: 0.8987 - val_loss: 2.0551 - val_accuracy: 0.4990 - val_top-3-accuracy: 0.8527 - lr: 0.0010\n",
      "Epoch 26/500\n",
      "11787/11787 [==============================] - 4858s 412ms/step - loss: 1.9187 - accuracy: 0.5419 - top-3-accuracy: 0.8974 - val_loss: 2.0643 - val_accuracy: 0.4829 - val_top-3-accuracy: 0.8458 - lr: 0.0010\n",
      "Epoch 27/500\n",
      "11787/11787 [==============================] - 4833s 410ms/step - loss: 1.9235 - accuracy: 0.5387 - top-3-accuracy: 0.8959 - val_loss: 2.0457 - val_accuracy: 0.5017 - val_top-3-accuracy: 0.8547 - lr: 0.0010\n",
      "Epoch 28/500\n",
      "11787/11787 [==============================] - 4839s 410ms/step - loss: 1.9266 - accuracy: 0.5362 - top-3-accuracy: 0.8952 - val_loss: 2.0620 - val_accuracy: 0.4895 - val_top-3-accuracy: 0.8473 - lr: 0.0010\n",
      "Epoch 29/500\n",
      "11787/11787 [==============================] - 4810s 408ms/step - loss: 1.8859 - accuracy: 0.5576 - top-3-accuracy: 0.9054 - val_loss: 2.0088 - val_accuracy: 0.5186 - val_top-3-accuracy: 0.8639 - lr: 1.0000e-04\n",
      "Epoch 30/500\n",
      "11787/11787 [==============================] - 4817s 409ms/step - loss: 1.8824 - accuracy: 0.5603 - top-3-accuracy: 0.9062 - val_loss: 2.0064 - val_accuracy: 0.5196 - val_top-3-accuracy: 0.8655 - lr: 1.0000e-04\n",
      "Epoch 31/500\n",
      "11787/11787 [==============================] - 4811s 408ms/step - loss: 1.8812 - accuracy: 0.5612 - top-3-accuracy: 0.9065 - val_loss: 2.0083 - val_accuracy: 0.5186 - val_top-3-accuracy: 0.8647 - lr: 1.0000e-04\n",
      "Epoch 32/500\n",
      "11787/11787 [==============================] - 4839s 411ms/step - loss: 1.8805 - accuracy: 0.5616 - top-3-accuracy: 0.9069 - val_loss: 2.0081 - val_accuracy: 0.5202 - val_top-3-accuracy: 0.8660 - lr: 1.0000e-04\n",
      "Epoch 33/500\n",
      "11787/11787 [==============================] - 4812s 408ms/step - loss: 1.8795 - accuracy: 0.5624 - top-3-accuracy: 0.9071 - val_loss: 2.0068 - val_accuracy: 0.5209 - val_top-3-accuracy: 0.8657 - lr: 1.0000e-04\n",
      "Epoch 34/500\n",
      "11787/11787 [==============================] - 4811s 408ms/step - loss: 1.8793 - accuracy: 0.5630 - top-3-accuracy: 0.9072 - val_loss: 2.0090 - val_accuracy: 0.5191 - val_top-3-accuracy: 0.8646 - lr: 1.0000e-04\n",
      "Epoch 35/500\n",
      "11787/11787 [==============================] - 4850s 411ms/step - loss: 1.8788 - accuracy: 0.5633 - top-3-accuracy: 0.9072 - val_loss: 2.0093 - val_accuracy: 0.5206 - val_top-3-accuracy: 0.8647 - lr: 1.0000e-04\n",
      "Epoch 36/500\n",
      "11787/11787 [==============================] - 4837s 410ms/step - loss: 1.8786 - accuracy: 0.5636 - top-3-accuracy: 0.9073 - val_loss: 2.0065 - val_accuracy: 0.5211 - val_top-3-accuracy: 0.8652 - lr: 1.0000e-04\n",
      "Epoch 37/500\n",
      "11787/11787 [==============================] - 4820s 409ms/step - loss: 1.8783 - accuracy: 0.5639 - top-3-accuracy: 0.9074 - val_loss: 2.0087 - val_accuracy: 0.5212 - val_top-3-accuracy: 0.8659 - lr: 1.0000e-04\n",
      "Epoch 38/500\n",
      "11787/11787 [==============================] - 4824s 409ms/step - loss: 1.8783 - accuracy: 0.5642 - top-3-accuracy: 0.9074 - val_loss: 2.0094 - val_accuracy: 0.5199 - val_top-3-accuracy: 0.8654 - lr: 1.0000e-04\n",
      "Epoch 39/500\n",
      "11787/11787 [==============================] - 4820s 409ms/step - loss: 1.8779 - accuracy: 0.5647 - top-3-accuracy: 0.9076 - val_loss: 2.0097 - val_accuracy: 0.5216 - val_top-3-accuracy: 0.8656 - lr: 1.0000e-04\n",
      "Epoch 40/500\n",
      "11787/11787 [==============================] - 4809s 408ms/step - loss: 1.8775 - accuracy: 0.5650 - top-3-accuracy: 0.9077 - val_loss: 2.0080 - val_accuracy: 0.5226 - val_top-3-accuracy: 0.8663 - lr: 1.0000e-04\n",
      "Epoch 41/500\n",
      "11787/11787 [==============================] - 4823s 409ms/step - loss: 1.8777 - accuracy: 0.5650 - top-3-accuracy: 0.9076 - val_loss: 2.0090 - val_accuracy: 0.5218 - val_top-3-accuracy: 0.8650 - lr: 1.0000e-04\n",
      "Epoch 42/500\n",
      "11787/11787 [==============================] - 4823s 409ms/step - loss: 1.8777 - accuracy: 0.5649 - top-3-accuracy: 0.9077 - val_loss: 2.0089 - val_accuracy: 0.5232 - val_top-3-accuracy: 0.8664 - lr: 1.0000e-04\n",
      "Epoch 43/500\n",
      "11787/11787 [==============================] - 4823s 409ms/step - loss: 1.8774 - accuracy: 0.5652 - top-3-accuracy: 0.9079 - val_loss: 2.0129 - val_accuracy: 0.5211 - val_top-3-accuracy: 0.8647 - lr: 1.0000e-04\n",
      "Epoch 44/500\n",
      "11787/11787 [==============================] - 4804s 408ms/step - loss: 1.8774 - accuracy: 0.5657 - top-3-accuracy: 0.9077 - val_loss: 2.0118 - val_accuracy: 0.5217 - val_top-3-accuracy: 0.8644 - lr: 1.0000e-04\n",
      "Epoch 45/500\n",
      "11787/11787 [==============================] - 4815s 409ms/step - loss: 1.8773 - accuracy: 0.5652 - top-3-accuracy: 0.9079 - val_loss: 2.0091 - val_accuracy: 0.5220 - val_top-3-accuracy: 0.8660 - lr: 1.0000e-04\n",
      "Epoch 46/500\n",
      "11787/11787 [==============================] - 4800s 407ms/step - loss: 1.8774 - accuracy: 0.5658 - top-3-accuracy: 0.9079 - val_loss: 2.0148 - val_accuracy: 0.5209 - val_top-3-accuracy: 0.8642 - lr: 1.0000e-04\n",
      "Epoch 47/500\n",
      "11787/11787 [==============================] - 4827s 410ms/step - loss: 1.8772 - accuracy: 0.5658 - top-3-accuracy: 0.9077 - val_loss: 2.0082 - val_accuracy: 0.5237 - val_top-3-accuracy: 0.8661 - lr: 1.0000e-04\n",
      "Epoch 48/500\n",
      "11787/11787 [==============================] - 4823s 409ms/step - loss: 1.8771 - accuracy: 0.5662 - top-3-accuracy: 0.9077 - val_loss: 2.0143 - val_accuracy: 0.5220 - val_top-3-accuracy: 0.8649 - lr: 1.0000e-04\n",
      "Epoch 49/500\n",
      "11787/11787 [==============================] - 4809s 408ms/step - loss: 1.8773 - accuracy: 0.5659 - top-3-accuracy: 0.9078 - val_loss: 2.0134 - val_accuracy: 0.5208 - val_top-3-accuracy: 0.8644 - lr: 1.0000e-04\n",
      "Epoch 50/500\n",
      "11787/11787 [==============================] - 4821s 409ms/step - loss: 1.8775 - accuracy: 0.5660 - top-3-accuracy: 0.9079 - val_loss: 2.0113 - val_accuracy: 0.5228 - val_top-3-accuracy: 0.8657 - lr: 1.0000e-04\n",
      "Epoch 51/500\n",
      "11787/11787 [==============================] - 4833s 410ms/step - loss: 1.8772 - accuracy: 0.5661 - top-3-accuracy: 0.9079 - val_loss: 2.0102 - val_accuracy: 0.5234 - val_top-3-accuracy: 0.8657 - lr: 1.0000e-04\n",
      "Epoch 52/500\n",
      "11787/11787 [==============================] - 4811s 408ms/step - loss: 1.8772 - accuracy: 0.5661 - top-3-accuracy: 0.9080 - val_loss: 2.0088 - val_accuracy: 0.5254 - val_top-3-accuracy: 0.8659 - lr: 1.0000e-04\n",
      "Epoch 53/500\n",
      "11787/11787 [==============================] - 4818s 409ms/step - loss: 1.8772 - accuracy: 0.5664 - top-3-accuracy: 0.9079 - val_loss: 2.0108 - val_accuracy: 0.5239 - val_top-3-accuracy: 0.8658 - lr: 1.0000e-04\n",
      "Epoch 54/500\n",
      "11787/11787 [==============================] - 4814s 408ms/step - loss: 1.8772 - accuracy: 0.5666 - top-3-accuracy: 0.9079 - val_loss: 2.0119 - val_accuracy: 0.5250 - val_top-3-accuracy: 0.8666 - lr: 1.0000e-04\n",
      "Epoch 55/500\n",
      "11787/11787 [==============================] - 4821s 409ms/step - loss: 1.8776 - accuracy: 0.5665 - top-3-accuracy: 0.9079 - val_loss: 2.0142 - val_accuracy: 0.5207 - val_top-3-accuracy: 0.8650 - lr: 1.0000e-04\n",
      "Epoch 56/500\n",
      "11787/11787 [==============================] - 4836s 410ms/step - loss: 1.8772 - accuracy: 0.5666 - top-3-accuracy: 0.9081 - val_loss: 2.0136 - val_accuracy: 0.5219 - val_top-3-accuracy: 0.8647 - lr: 1.0000e-04\n",
      "Epoch 57/500\n",
      "11787/11787 [==============================] - 4826s 409ms/step - loss: 1.8772 - accuracy: 0.5665 - top-3-accuracy: 0.9080 - val_loss: 2.0143 - val_accuracy: 0.5206 - val_top-3-accuracy: 0.8652 - lr: 1.0000e-04\n",
      "Epoch 58/500\n",
      "11787/11787 [==============================] - 4817s 409ms/step - loss: 1.8774 - accuracy: 0.5666 - top-3-accuracy: 0.9079 - val_loss: 2.0118 - val_accuracy: 0.5233 - val_top-3-accuracy: 0.8659 - lr: 1.0000e-04\n",
      "Epoch 59/500\n",
      "11787/11787 [==============================] - 4846s 411ms/step - loss: 1.8774 - accuracy: 0.5667 - top-3-accuracy: 0.9081 - val_loss: 2.0147 - val_accuracy: 0.5212 - val_top-3-accuracy: 0.8642 - lr: 1.0000e-04\n",
      "Epoch 60/500\n",
      "11787/11787 [==============================] - 4825s 409ms/step - loss: 1.8775 - accuracy: 0.5665 - top-3-accuracy: 0.9079 - val_loss: 2.0206 - val_accuracy: 0.5180 - val_top-3-accuracy: 0.8617 - lr: 1.0000e-04\n",
      "Epoch 61/500\n",
      "11787/11787 [==============================] - 4818s 409ms/step - loss: 1.8775 - accuracy: 0.5666 - top-3-accuracy: 0.9082 - val_loss: 2.0141 - val_accuracy: 0.5218 - val_top-3-accuracy: 0.8650 - lr: 1.0000e-04\n",
      "Epoch 62/500\n",
      "11787/11787 [==============================] - 4830s 410ms/step - loss: 1.8779 - accuracy: 0.5666 - top-3-accuracy: 0.9080 - val_loss: 2.0124 - val_accuracy: 0.5217 - val_top-3-accuracy: 0.8645 - lr: 1.0000e-04\n",
      "Epoch 63/500\n",
      "11787/11787 [==============================] - 4820s 409ms/step - loss: 1.8782 - accuracy: 0.5665 - top-3-accuracy: 0.9079 - val_loss: 2.0123 - val_accuracy: 0.5229 - val_top-3-accuracy: 0.8654 - lr: 1.0000e-04\n",
      "Epoch 64/500\n",
      "11787/11787 [==============================] - 4818s 409ms/step - loss: 1.8781 - accuracy: 0.5664 - top-3-accuracy: 0.9079 - val_loss: 2.0122 - val_accuracy: 0.5240 - val_top-3-accuracy: 0.8670 - lr: 1.0000e-04\n",
      "Epoch 65/500\n",
      "11787/11787 [==============================] - 4816s 409ms/step - loss: 1.8782 - accuracy: 0.5665 - top-3-accuracy: 0.9080 - val_loss: 2.0105 - val_accuracy: 0.5251 - val_top-3-accuracy: 0.8678 - lr: 1.0000e-04\n",
      "Epoch 66/500\n",
      "11787/11787 [==============================] - 4840s 411ms/step - loss: 1.8783 - accuracy: 0.5667 - top-3-accuracy: 0.9079 - val_loss: 2.0121 - val_accuracy: 0.5230 - val_top-3-accuracy: 0.8661 - lr: 1.0000e-04\n",
      "Epoch 67/500\n",
      "11787/11787 [==============================] - 4826s 409ms/step - loss: 1.8787 - accuracy: 0.5663 - top-3-accuracy: 0.9078 - val_loss: 2.0153 - val_accuracy: 0.5199 - val_top-3-accuracy: 0.8637 - lr: 1.0000e-04\n",
      "Epoch 68/500\n",
      "11787/11787 [==============================] - 4825s 409ms/step - loss: 1.8787 - accuracy: 0.5666 - top-3-accuracy: 0.9079 - val_loss: 2.0124 - val_accuracy: 0.5220 - val_top-3-accuracy: 0.8661 - lr: 1.0000e-04\n",
      "Epoch 69/500\n",
      "11787/11787 [==============================] - 4828s 410ms/step - loss: 1.8788 - accuracy: 0.5662 - top-3-accuracy: 0.9078 - val_loss: 2.0128 - val_accuracy: 0.5211 - val_top-3-accuracy: 0.8647 - lr: 1.0000e-04\n",
      "Epoch 70/500\n",
      "11787/11787 [==============================] - 4802s 407ms/step - loss: 1.8788 - accuracy: 0.5661 - top-3-accuracy: 0.9078 - val_loss: 2.0162 - val_accuracy: 0.5224 - val_top-3-accuracy: 0.8654 - lr: 1.0000e-04\n",
      "Epoch 71/500\n",
      "11787/11787 [==============================] - 4807s 408ms/step - loss: 1.8790 - accuracy: 0.5664 - top-3-accuracy: 0.9077 - val_loss: 2.0132 - val_accuracy: 0.5209 - val_top-3-accuracy: 0.8646 - lr: 1.0000e-04\n",
      "Epoch 72/500\n",
      "11787/11787 [==============================] - 4809s 408ms/step - loss: 1.8789 - accuracy: 0.5665 - top-3-accuracy: 0.9079 - val_loss: 2.0125 - val_accuracy: 0.5214 - val_top-3-accuracy: 0.8650 - lr: 1.0000e-04\n",
      "Epoch 73/500\n",
      "11787/11787 [==============================] - 4803s 407ms/step - loss: 1.8794 - accuracy: 0.5660 - top-3-accuracy: 0.9078 - val_loss: 2.0136 - val_accuracy: 0.5219 - val_top-3-accuracy: 0.8661 - lr: 1.0000e-04\n",
      "Epoch 74/500\n",
      "11787/11787 [==============================] - 4812s 408ms/step - loss: 1.8795 - accuracy: 0.5660 - top-3-accuracy: 0.9077 - val_loss: 2.0099 - val_accuracy: 0.5219 - val_top-3-accuracy: 0.8651 - lr: 1.0000e-04\n",
      "Epoch 75/500\n",
      "11787/11787 [==============================] - 8007s 679ms/step - loss: 1.8797 - accuracy: 0.5664 - top-3-accuracy: 0.9075 - val_loss: 2.0116 - val_accuracy: 0.5215 - val_top-3-accuracy: 0.8649 - lr: 1.0000e-04\n",
      "Epoch 76/500\n",
      "11787/11787 [==============================] - 9498s 806ms/step - loss: 1.8796 - accuracy: 0.5660 - top-3-accuracy: 0.9077 - val_loss: 2.0098 - val_accuracy: 0.5238 - val_top-3-accuracy: 0.8665 - lr: 1.0000e-04\n",
      "Epoch 77/500\n",
      "11787/11787 [==============================] - 9276s 787ms/step - loss: 1.8801 - accuracy: 0.5657 - top-3-accuracy: 0.9075 - val_loss: 2.0140 - val_accuracy: 0.5218 - val_top-3-accuracy: 0.8662 - lr: 1.0000e-04\n",
      "Epoch 78/500\n",
      "11787/11787 [==============================] - 9059s 769ms/step - loss: 1.8803 - accuracy: 0.5657 - top-3-accuracy: 0.9075 - val_loss: 2.0171 - val_accuracy: 0.5211 - val_top-3-accuracy: 0.8660 - lr: 1.0000e-04\n",
      "Epoch 79/500\n",
      "11787/11787 [==============================] - 9353s 793ms/step - loss: 1.8806 - accuracy: 0.5655 - top-3-accuracy: 0.9076 - val_loss: 2.0075 - val_accuracy: 0.5245 - val_top-3-accuracy: 0.8658 - lr: 1.0000e-04\n",
      "Epoch 80/500\n",
      "11787/11787 [==============================] - 9385s 796ms/step - loss: 1.8808 - accuracy: 0.5652 - top-3-accuracy: 0.9075 - val_loss: 2.0124 - val_accuracy: 0.5217 - val_top-3-accuracy: 0.8653 - lr: 1.0000e-04\n",
      "Epoch 81/500\n",
      "11787/11787 [==============================] - 9351s 793ms/step - loss: 1.8811 - accuracy: 0.5656 - top-3-accuracy: 0.9074 - val_loss: 2.0188 - val_accuracy: 0.5145 - val_top-3-accuracy: 0.8606 - lr: 1.0000e-04\n",
      "Epoch 82/500\n",
      "11787/11787 [==============================] - 9119s 774ms/step - loss: 1.8816 - accuracy: 0.5650 - top-3-accuracy: 0.9073 - val_loss: 2.0222 - val_accuracy: 0.5133 - val_top-3-accuracy: 0.8610 - lr: 1.0000e-04\n",
      "Epoch 83/500\n",
      "11787/11787 [==============================] - 9330s 792ms/step - loss: 1.8821 - accuracy: 0.5650 - top-3-accuracy: 0.9072 - val_loss: 2.0169 - val_accuracy: 0.5205 - val_top-3-accuracy: 0.8648 - lr: 1.0000e-04\n",
      "Epoch 84/500\n",
      "11787/11787 [==============================] - 9313s 790ms/step - loss: 1.8823 - accuracy: 0.5644 - top-3-accuracy: 0.9072 - val_loss: 2.0095 - val_accuracy: 0.5224 - val_top-3-accuracy: 0.8658 - lr: 1.0000e-04\n",
      "Epoch 85/500\n",
      "11787/11787 [==============================] - 9305s 789ms/step - loss: 1.8827 - accuracy: 0.5645 - top-3-accuracy: 0.9069 - val_loss: 2.0190 - val_accuracy: 0.5190 - val_top-3-accuracy: 0.8642 - lr: 1.0000e-04\n",
      "Epoch 86/500\n",
      "11787/11787 [==============================] - 9300s 789ms/step - loss: 1.8828 - accuracy: 0.5645 - top-3-accuracy: 0.9071 - val_loss: 2.0160 - val_accuracy: 0.5212 - val_top-3-accuracy: 0.8659 - lr: 1.0000e-04\n",
      "Epoch 87/500\n",
      "11787/11787 [==============================] - 9318s 791ms/step - loss: 1.8832 - accuracy: 0.5647 - top-3-accuracy: 0.9068 - val_loss: 2.0210 - val_accuracy: 0.5157 - val_top-3-accuracy: 0.8620 - lr: 1.0000e-04\n",
      "Epoch 88/500\n",
      "11787/11787 [==============================] - 9295s 789ms/step - loss: 1.8838 - accuracy: 0.5645 - top-3-accuracy: 0.9066 - val_loss: 2.0338 - val_accuracy: 0.5083 - val_top-3-accuracy: 0.8553 - lr: 1.0000e-04\n",
      "Epoch 89/500\n",
      "11787/11787 [==============================] - 9301s 789ms/step - loss: 1.8843 - accuracy: 0.5640 - top-3-accuracy: 0.9066 - val_loss: 2.0155 - val_accuracy: 0.5210 - val_top-3-accuracy: 0.8647 - lr: 1.0000e-04\n",
      "Epoch 90/500\n",
      "11787/11787 [==============================] - 9337s 792ms/step - loss: 1.8844 - accuracy: 0.5639 - top-3-accuracy: 0.9068 - val_loss: 2.0133 - val_accuracy: 0.5203 - val_top-3-accuracy: 0.8641 - lr: 1.0000e-04\n",
      "Epoch 00090: early stopping\n",
      "End time 08_March_22_05_53\n"
     ]
    }
   ],
   "source": [
    "# Model and training\n",
    "\n",
    "class TransformerEncoder(layers.Layer):\n",
    "    def __init__(self, embed_dim, dense_dim, num_heads, **kwargs):\n",
    "        super().__init__(**kwargs)\n",
    "        self.embed_dim = embed_dim\n",
    "        self.dense_dim = dense_dim\n",
    "        self.num_heads = num_heads\n",
    "        \n",
    "        self.attention1 = layers.MultiHeadAttention(\n",
    "            num_heads=num_heads, key_dim=embed_dim*5)\n",
    "        \n",
    "        self.attention2 = layers.MultiHeadAttention(\n",
    "        num_heads=num_heads, key_dim=embed_dim)\n",
    "        \n",
    "        self.dense_proj = tf.keras.Sequential(\n",
    "            [layers.Dense(dense_dim, activation=\"relu\"),\n",
    "             layers.Dense(dense_dim, activation=\"relu\"),\n",
    "             layers.Dense(dense_dim//2, activation=\"relu\"),\n",
    "             layers.Dense(embed_dim),]\n",
    "        )\n",
    "        self.layernorm_1 = layers.LayerNormalization()\n",
    "        self.layernorm_2 = layers.LayerNormalization()\n",
    "\n",
    "    def call(self, inputs, mask=None):\n",
    "        if mask is not None:\n",
    "            mask = mask[:, tf.newaxis, :]\n",
    "        \n",
    "        # Repeat attention K times        \n",
    "        attention_output1 = inputs # New copy to be over-written\n",
    "        for _ in range(5):\n",
    "            attention_output1 = self.attention1(\n",
    "            attention_output1, attention_output1, attention_mask=mask)            \n",
    "        \n",
    "        # Repeat attention K times \n",
    "        attention_output = attention_output1 # New copy to be over-written\n",
    "        for _ in range(5):\n",
    "            attention_output = self.attention2(\n",
    "            attention_output, attention_output, attention_mask=mask)\n",
    "        \n",
    "        proj_input = self.layernorm_1(inputs + attention_output)\n",
    "        proj_output = self.dense_proj(proj_input)\n",
    "        return self.layernorm_2(proj_input + proj_output)\n",
    "\n",
    "    def get_config(self):\n",
    "        config = super().get_config()\n",
    "        config.update({\n",
    "            \"embed_dim\": self.embed_dim,\n",
    "            \"num_heads\": self.num_heads,\n",
    "            \"dense_dim\": self.dense_dim,\n",
    "        })\n",
    "        return config\n",
    "\n",
    "#  Default hyper-param\n",
    "config['epochs'] = 500\n",
    "config['batch_size'] = 128\n",
    "config['learning_rate'] = 5e-3 \n",
    "\n",
    "# Model hyper-param\n",
    "embed_dim = 21\n",
    "num_heads = 10\n",
    "dense_dim = 768\n",
    "\n",
    "# Create Model\n",
    "input_shape = (x_train.shape[1:])\n",
    "pos_input_shape = (coords_train.shape[1:])\n",
    "\n",
    "echo_inputs = tf.keras.Input(shape=input_shape)\n",
    "pos_inputs = tf.keras.Input(shape= pos_input_shape)\n",
    "\n",
    "pos_embedding = layers.Embedding(input_dim = np.max(new_coords), output_dim = input_shape[-1])(pos_inputs)\n",
    "x = echo_inputs + pos_embedding\n",
    "res = x # Keep a residual branch\n",
    "\n",
    "for _ in range(15):\n",
    "    x = TransformerEncoder(embed_dim, dense_dim, num_heads)(x)\n",
    "    x = x + res\n",
    "x = layers.Normalization()(x)\n",
    "\n",
    "x = layers.GlobalMaxPooling1D()(x) #layers.GlobalAveragePooling1D()\n",
    "\n",
    "x = layers.Dense(dense_dim, activation= \"relu\")(x) #tf.nn.gelu\n",
    "x = layers.Dense(dense_dim//4, activation= \"relu\")(x)\n",
    "x = layers.Dropout(0.2)(x)\n",
    "outputs = layers.Dense(num_classes, activation=\"softmax\")(x)\n",
    "model = tf.keras.Model([echo_inputs,pos_inputs], outputs)\n",
    "\n",
    "config['start_time'] = datetime.strftime( datetime.now(),'%d_%B_%y_%H%M')\n",
    "\n",
    "\n",
    "# Update Hyper parameter log\n",
    "config['input_shape'] = input_shape\n",
    "config['pos_input_shape'] = pos_input_shape\n",
    "config['embed_dim'] = embed_dim\n",
    "config['num_heads'] = num_heads\n",
    "config['dense_dim'] = dense_dim\n",
    "\n",
    "\n",
    "# Model and Checkpoint path\n",
    "model_save_path = r'Y:\\ibikunle\\Python_Project\\Fall_2021\\all_block_data\\PulsedTrainTest'\n",
    "logs = model_save_path+'/'+ipynbname.name()+f\"/{config['start_time']}_logs/\" \n",
    "\n",
    "# Callbacks\n",
    "callbacks = [\n",
    "    ModelCheckpoint(model_save_path+'/'+ipynbname.name()+f\"/{config['start_time']}_Checkpoint.h5\", save_best_only=True, monitor=\"val_loss\"),\n",
    "    ReduceLROnPlateau(monitor=\"val_loss\", factor=0.05, patience=15, min_lr=0.0001),\n",
    "    EarlyStopping(monitor=\"val_loss\", patience=60, verbose=1), \n",
    "    TensorBoard(log_dir = logs,histogram_freq = 1,profile_batch = '50,70', embeddings_freq=50),\n",
    "    WandbCallback()\n",
    "]\n",
    "\n",
    "opt1 = Adam (learning_rate=config['learning_rate'],)\n",
    "opt4 = tfa.optimizers.AdamW(weight_decay = 0.0001, learning_rate=config['learning_rate'],)\n",
    "\n",
    "top_K = 3\n",
    "\n",
    "\n",
    "print(f'Training start time:{config[\"start_time\"]}')\n",
    "\n",
    "model.compile( optimizer = \"rmsprop\", loss=tf.keras.losses.CategoricalCrossentropy(label_smoothing=0.2) , metrics=['accuracy',tf.keras.metrics.TopKCategoricalAccuracy(top_K, name=\"top-3-accuracy\")],) # sparse_categorical_accuracy\", tf.keras.losses.CategoricalCrossentropy(label_smoothing=0.3)\n",
    "\n",
    "history = model.fit([x_train,coords_train], y_train_1hot,\n",
    "          epochs= config['epochs'], \n",
    "          batch_size= config['batch_size'], \n",
    "          validation_data=([x_test,coords_test], y_test_1hot),\n",
    "         callbacks=callbacks)\n",
    "\n",
    "config['end_time'] = datetime.strftime( datetime.now(),'%d_%B_%y_%H_%M')\n",
    "print(f'End time {config[\"end_time\"]}')"
   ]
  },
  {
   "cell_type": "code",
   "execution_count": null,
   "id": "b709185f-c394-4c52-afa5-75bcf5964ad9",
   "metadata": {
    "tags": []
   },
   "outputs": [],
   "source": [
    "# Legacy Script: Should delete after harvesting\n",
    "\n",
    "if 0:\n",
    "    # Create Custom Model for Attention from base LSTM model\n",
    "    loaded_model = tf.keras.models.load_model(r\"Y:\\\\ibikunle\\\\Python_Project\\\\Fall_2021\\all_block_data\\Filteredfiltered_data\\LSTM1_RepeatExactly\\27_January_22_2325_RowBlockLSTM_checkpoint.h5\")\n",
    "    for i in range(80):\n",
    "        loaded_model.layers[i].trainable = False\n",
    "\n",
    "    # Patch Embedding\n",
    "    class PatchEmbedding(layers.Layer):\n",
    "        def __init__(self, num_patch, embed_dim, **kwargs):\n",
    "            super(PatchEmbedding, self).__init__(**kwargs)\n",
    "            self.num_patch = num_patch\n",
    "            self.proj = layers.Dense(embed_dim)\n",
    "            self.pos_embed = layers.Embedding(input_dim=num_patch, output_dim=embed_dim)\n",
    "\n",
    "        def call(self, patch):\n",
    "            pos = tf.range(start=0, limit=self.num_patch, delta=1)\n",
    "            print(f\"Num patches {self.num_patch}: Pos {pos.shape}\")\n",
    "            return self.proj(patch) + self.pos_embed(pos)\n",
    "\n",
    "\n",
    "    def ResNetBlock(x,nodes):\n",
    "        #x =   layers.Conv2D(filters=64, kernel_size=3, padding=\"same\")(x) #input_layer\n",
    "        conv1 = layers.Conv2D(filters=nodes, kernel_size=3, padding=\"same\")(x) # input_layer, Conv1D\n",
    "        conv1 = layers.BatchNormalization()(conv1)\n",
    "        conv1 = layers.ReLU()(conv1)\n",
    "\n",
    "        conv2 = layers.Conv2D(filters=nodes, kernel_size=3, padding=\"same\")(conv1)\n",
    "        conv2 = layers.BatchNormalization()(conv2)\n",
    "        conv2 = layers.ReLU()(conv2)\n",
    "\n",
    "        conv3 = layers.Conv2D(filters=nodes, kernel_size=3, padding=\"same\")(conv2)\n",
    "        conv3 = layers.BatchNormalization()(conv3)\n",
    "        conv3 = layers.ReLU()(conv3)\n",
    "\n",
    "    #     conv4 = layers.Conv2D(filters=nodes, kernel_size=3, padding=\"same\")(conv3)\n",
    "    #     conv4 = layers.BatchNormalization()(conv4)\n",
    "    #     conv4 = layers.ReLU()(conv4)\n",
    "\n",
    "    #     conv5 = layers.Conv2D(filters=nodes, kernel_size=3, padding=\"same\")(conv4)\n",
    "    #     conv5 = layers.BatchNormalization()(conv5)\n",
    "    #     conv5 = layers.ReLU()(conv5)\n",
    "\n",
    "        conv3 = layers.add([x,conv3])\n",
    "        x = layers.ReLU()(conv3) # Overwrite x\n",
    "\n",
    "        return x\n",
    "\n",
    "    def transformer_encoder(inputs, head_size, num_heads, ff_dim, dropout=0):\n",
    "        # Attention and Normalization\n",
    "        x = layers.MultiHeadAttention(\n",
    "            key_dim=head_size, num_heads=num_heads, dropout=dropout\n",
    "        )(inputs, inputs)\n",
    "        x = layers.Dropout(dropout)(x)\n",
    "        x = layers.LayerNormalization(epsilon=1e-6)(x)\n",
    "        res = x + inputs\n",
    "\n",
    "        # Feed Forward Part\n",
    "        x = layers.Conv1D(filters=ff_dim, kernel_size=1, activation=\"relu\")(res)\n",
    "        x = layers.Dropout(dropout)(x)\n",
    "        x = layers.Conv1D(filters=inputs.shape[-1], kernel_size=1)(x)\n",
    "        x = layers.LayerNormalization(epsilon=1e-6)(x)\n",
    "        return x + res\n",
    "\n",
    "    def build_model(\n",
    "        input_shape,\n",
    "        head_size,\n",
    "        num_heads,\n",
    "        ff_dim,\n",
    "        num_transformer_blocks,\n",
    "        mlp_units,\n",
    "        nodes,\n",
    "        dropout=0,\n",
    "        mlp_dropout=0,    \n",
    "    ):\n",
    "        inputs = tf.keras.Input(shape=input_shape)\n",
    "        pos_input = tf.keras.Input(shape=(None,))\n",
    "\n",
    "        pos_embedding = layers.Embedding(input_dim = np.max(new_coords), output_dim = input_shape[-1])(pos_input)\n",
    "\n",
    "        inputs = inputs + pos_embedding\n",
    "\n",
    "        # for _ in range(resnet_heads):\n",
    "        #     x = ResNetBlock(x,ff_dim)\n",
    "\n",
    "        x = layers.LSTM(512,recurrent_dropout= 0, return_sequences=True)(inputs)   \n",
    "\n",
    "        for _ in range(num_transformer_blocks):\n",
    "            x = transformer_encoder(x, head_size, num_heads, ff_dim, dropout)   \n",
    "\n",
    "        #x = tf.reduce_sum(x,axis=-1)\n",
    "        x = layers.GlobalAveragePooling1D()(x)\n",
    "        for dim in mlp_units:\n",
    "            x = layers.Dense(dim, activation=\"relu\")(x)\n",
    "            x = layers.Dropout(mlp_dropout)(x)    \n",
    "\n",
    "        outputs = layers.Dense(num_classes, activation=\"softmax\")(x)\n",
    "        return tf.keras.Model([inputs,pos_input], outputs)\n",
    "\n",
    "\n",
    "    input_shape = (x_train.shape[1:]) # + (1,)  input_shape = (21,5,) #x_train.shape[2] \n",
    "\n",
    "    # ResNet params\n",
    "    resnet_heads = 10\n",
    "\n",
    "    # Checkpoint path\n",
    "    base_path2 = r'Y:\\ibikunle\\Python_Project\\Fall_2021\\all_block_data\\PulsedTrainTest'\n",
    "\n",
    "    # Attention params\n",
    "    num_epochs = 150\n",
    "    batch_size = 128\n",
    "    nodes = 64 #512\n",
    "    learning_rate = 5e-2\n",
    "\n",
    "    head_size = 64 # 256,64\n",
    "    num_heads = 4\n",
    "    ff_dim= 64\n",
    "    num_transformer_blocks= 4\n",
    "    mlp_units= [512,1024]  # 128,512\n",
    "    mlp_dropout=0.1    #0.4\n",
    "    dropout=0.1          #0.25\n",
    "\n",
    "    model = build_model(input_shape,head_size=head_size,num_heads=num_heads,ff_dim=ff_dim,\n",
    "                        num_transformer_blocks = num_transformer_blocks,\n",
    "                        mlp_units=mlp_units, nodes=nodes, \n",
    "                        mlp_dropout=mlp_dropout, dropout=dropout)\n",
    "\n",
    "    wandb.config = {\n",
    "      \"learning_rate\": \"learning_rate\",\n",
    "      \"epochs\": num_epochs, \n",
    "      \"batch_size\": batch_size,\n",
    "      \"nodes\": nodes,\n",
    "      \"config['row_length']\":row_length,\n",
    "      \"base_path\":base_path,\n",
    "      \"head_size\":head_size, \"num_heads\":num_heads,\n",
    "      \"ff_dim\":ff_dim, \"num_transformer_blocks\":num_transformer_blocks,\n",
    "      \"mlp_units\":mlp_units, \"mlp_dropout\":mlp_dropout,\n",
    "      \"dropout\":dropout\n",
    "    }\n",
    "\n",
    "\n",
    "    # Poly Rate scheduler\n",
    "    starter_learning_rate = 0.001\n",
    "    end_learning_rate = 0.0001\n",
    "    decay_steps = 1000\n",
    "    learning_rate_fn = tf.keras.optimizers.schedules.PolynomialDecay(\n",
    "        starter_learning_rate,\n",
    "        decay_steps,\n",
    "        end_learning_rate,\n",
    "        power=0.25)\n",
    "\n",
    "    # Callbacks\n",
    "    callbacks = [\n",
    "        ModelCheckpoint(base_path2+'/'+ipynbname.name()+\"/best_model.h5\", save_best_only=True, monitor=\"val_loss\"),\n",
    "        ReduceLROnPlateau(monitor=\"val_loss\", factor=0.05, patience=10, min_lr=0.0001),\n",
    "        #EarlyStopping(monitor=\"val_loss\", patience=25, verbose=1), \n",
    "        WandbCallback()\n",
    "    ]\n",
    "\n",
    "    # Trying different optimizers\n",
    "    opt1 = tf.keras.optimizers.RMSprop(learning_rate=learning_rate,rho=0.9,momentum=0.9, epsilon=1e-07,centered=True,name=\"RMSprop\")\n",
    "    opt2 = tf.keras.optimizers.Adam(learning_rate=learning_rate,amsgrad=True)\n",
    "    opt3 = tf.keras.optimizers.SGD(learning_rate=0.001, momentum=0.9, nesterov=True, name=\"SGD\")\n",
    "    opt4 = tfa.optimizers.AdamW(weight_decay = 0.0001, learning_rate=learning_rate,)\n",
    "\n",
    "    poly_rate = tf.keras.optimizers.SGD(learning_rate = learning_rate_fn)\n",
    "    poly_rate2 = tf.keras.optimizers.Adam(learning_rate = learning_rate_fn)\n",
    "    top_K = 3\n",
    "\n",
    "    start_time = datetime.strftime( datetime.now(),'%d_%B_%y_%H%M')\n",
    "    print(f'Training start time:{start_time}')\n",
    "\n",
    "    # model.compile( optimizer = opt, loss= 'categorical_crossentropy', metrics=['accuracy',tf.keras.metrics.TopKCategoricalAccuracy(top_K, name=\"top-3-accuracy\")])  #label_smoothing=0.05, tf.keras.losses.KLDivergence()\n",
    "    #model.compile( optimizer=opt1,loss=\"sparse_categorical_crossentropy\" , metrics=[\"sparse_categorical_accuracy\"],) #\"sparse_categorical_crossentropy\" , sparse_categorical_accuracy\", tf.keras.losses.CategoricalCrossentropy(label_smoothing=0.3)\n",
    "    model.compile( optimizer = opt4, loss=\"categorical_crossentropy\" , metrics=['accuracy',tf.keras.metrics.TopKCategoricalAccuracy(top_K, name=\"top-3-accuracy\")],) # sparse_categorical_accuracy\", tf.keras.losses.CategoricalCrossentropy(label_smoothing=0.3)\n",
    "    #Adam(amsgrad=True), loss=\"categorical_crossentropy\"  optimizer=opt2,loss=tf.keras.losses.CategoricalCrossentropy(label_smoothing=0.2)\n",
    "\n",
    "    history = model.fit([x_train,new_coords_mtx], y_train_1hot,\n",
    "              epochs= num_epochs, \n",
    "              batch_size= batch_size, \n",
    "              validation_data=(x_test, y_test_1hot),\n",
    "             callbacks=callbacks) #mcp_save, callbacks=[reduce_lr_loss]\n",
    "\n",
    "    # Update manual log file\n",
    "    params_to_be_updated = update_log_entry('../testing_sheet2.xlsx', log_idx, model, history)\n",
    "\n",
    "    # Update model with the best from Callbacks\n",
    "    model = tf.keras.models.load_model(base_path2+'/'+ipynbname.name()+\"/best_model.h5\")\n",
    "\n",
    "    end_time = datetime.strftime( datetime.now(),'%d_%B_%y_%H_%M')\n",
    "    print(f'End time {end_time}')\n",
    "\n",
    "    # Previous accuracy before using Findpeaks data was 12%"
   ]
  },
  {
   "cell_type": "code",
   "execution_count": null,
   "id": "fa8311c6-9529-4374-9f19-aab4be904e8d",
   "metadata": {},
   "outputs": [],
   "source": [
    "log['Uniqueness_of_each_run'] = 'Attention Finished at 60% but lower loss. Removed label smoothing too'\n",
    "run_completion_comment = f''\n",
    "if \"log_idx\" in globals():\n",
    "    log[\"S_N\"] = log_idx\n",
    "    log['run_completion_comment'] = run_completion_comment\n",
    "    log_idx = create_log_entry('../testing_sheet2.xlsx', log)"
   ]
  },
  {
   "cell_type": "code",
   "execution_count": null,
   "id": "bebfea3f-776e-45e5-a223-d3071cc4c4c9",
   "metadata": {},
   "outputs": [],
   "source": [
    "\n",
    "import random\n",
    "check_start = random.randint(0,len(x_val))\n",
    "\n",
    "print(f'Check start idx: {check_start}')\n",
    "[ (y_val[idx], np.argmax( model.predict([np.expand_dims(x_val[idx],axis=0), np.expand_dims(coords_val[idx],axis=0)])) ) for idx in range(check_start,check_start+20) ]\n"
   ]
  },
  {
   "cell_type": "code",
   "execution_count": null,
   "id": "43003c33-f2e8-4981-a601-84b1765ab943",
   "metadata": {
    "tags": []
   },
   "outputs": [],
   "source": [
    "y_val = all_target[-val_size:]\n",
    "y_val = tf.keras.utils.to_categorical(y_val, num_classes)\n",
    "_, accuracy,top_3_acc = model.evaluate([x_val,coords_val], y_val)\n",
    "print(f\"Test accuracy: {round(accuracy * 100, 2)}%\")\n",
    "# print(f\"Test top 5 accuracy: {round(top_5_accuracy * 100, 2)}%\")\n",
    "print(f\"Test_time: {datetime.strftime(datetime.now(),'%d_%B_%y_%H%M')}\")\n",
    "\n",
    "_,new_col_length,new_row_length = x_train.shape\n",
    "model.save(f'{base_path2}//{ipynbname.name()}//{time_stamp}_Acc_{accuracy:.3f}_Top3Acc{top3_acc:.3f}_{new_row_length}x{new_col_length}.h5')"
   ]
  },
  {
   "cell_type": "code",
   "execution_count": null,
   "id": "cac03520-07a5-4310-a377-8745960293c4",
   "metadata": {
    "collapsed": true,
    "jupyter": {
     "outputs_hidden": true
    },
    "tags": []
   },
   "outputs": [
    {
     "name": "stdout",
     "output_type": "stream",
     "text": [
      "Epoch 1/350\n",
      "4049/4049 [==============================] - 780s 192ms/step - loss: 2.0241 - accuracy: 0.3702 - top-3-accuracy: 0.6095 - val_loss: 1.3898 - val_accuracy: 0.6444 - val_top-3-accuracy: 0.8642\n",
      "Epoch 2/350\n",
      "4049/4049 [==============================] - 776s 192ms/step - loss: 2.0203 - accuracy: 0.3735 - top-3-accuracy: 0.6107 - val_loss: 1.3472 - val_accuracy: 0.6591 - val_top-3-accuracy: 0.8709\n",
      "Epoch 3/350\n",
      "4049/4049 [==============================] - 773s 191ms/step - loss: 2.0225 - accuracy: 0.3722 - top-3-accuracy: 0.6096 - val_loss: 1.3711 - val_accuracy: 0.6602 - val_top-3-accuracy: 0.8686\n",
      "Epoch 4/350\n",
      "4049/4049 [==============================] - 776s 192ms/step - loss: 2.0118 - accuracy: 0.3789 - top-3-accuracy: 0.6129 - val_loss: 1.3100 - val_accuracy: 0.6737 - val_top-3-accuracy: 0.8754\n",
      "Epoch 5/350\n",
      "4049/4049 [==============================] - 775s 191ms/step - loss: 2.0063 - accuracy: 0.3823 - top-3-accuracy: 0.6139 - val_loss: 1.3071 - val_accuracy: 0.6761 - val_top-3-accuracy: 0.8755\n",
      "Epoch 6/350\n",
      "4049/4049 [==============================] - 774s 191ms/step - loss: 2.0027 - accuracy: 0.3843 - top-3-accuracy: 0.6151 - val_loss: 1.3312 - val_accuracy: 0.6641 - val_top-3-accuracy: 0.8735\n",
      "Epoch 7/350\n",
      "4049/4049 [==============================] - 776s 192ms/step - loss: 1.9988 - accuracy: 0.3868 - top-3-accuracy: 0.6165 - val_loss: 1.2930 - val_accuracy: 0.6904 - val_top-3-accuracy: 0.8794\n",
      "Epoch 8/350\n",
      "4049/4049 [==============================] - 777s 192ms/step - loss: 1.9966 - accuracy: 0.3876 - top-3-accuracy: 0.6167 - val_loss: 1.2868 - val_accuracy: 0.6855 - val_top-3-accuracy: 0.8801\n",
      "Epoch 9/350\n",
      "4049/4049 [==============================] - 774s 191ms/step - loss: 2.0062 - accuracy: 0.3826 - top-3-accuracy: 0.6135 - val_loss: 1.5256 - val_accuracy: 0.5918 - val_top-3-accuracy: 0.8388\n",
      "Epoch 10/350\n",
      "4049/4049 [==============================] - 773s 191ms/step - loss: 2.0182 - accuracy: 0.3747 - top-3-accuracy: 0.6112 - val_loss: 1.2934 - val_accuracy: 0.6830 - val_top-3-accuracy: 0.8780\n",
      "Epoch 11/350\n",
      "4049/4049 [==============================] - 776s 192ms/step - loss: 1.9921 - accuracy: 0.3902 - top-3-accuracy: 0.6184 - val_loss: 1.2845 - val_accuracy: 0.6952 - val_top-3-accuracy: 0.8829\n",
      "Epoch 12/350\n",
      "4049/4049 [==============================] - 776s 192ms/step - loss: 1.9834 - accuracy: 0.3955 - top-3-accuracy: 0.6203 - val_loss: 1.2770 - val_accuracy: 0.6981 - val_top-3-accuracy: 0.8790\n",
      "Epoch 13/350\n",
      "4049/4049 [==============================] - 777s 192ms/step - loss: 1.9792 - accuracy: 0.3983 - top-3-accuracy: 0.6214 - val_loss: 1.2477 - val_accuracy: 0.7056 - val_top-3-accuracy: 0.8843\n",
      "Epoch 14/350\n",
      "4049/4049 [==============================] - 775s 191ms/step - loss: 1.9763 - accuracy: 0.3994 - top-3-accuracy: 0.6214 - val_loss: 1.2723 - val_accuracy: 0.6969 - val_top-3-accuracy: 0.8812\n",
      "Epoch 15/350\n",
      "4049/4049 [==============================] - 775s 191ms/step - loss: 1.9722 - accuracy: 0.4018 - top-3-accuracy: 0.6228 - val_loss: 1.2544 - val_accuracy: 0.7081 - val_top-3-accuracy: 0.8820\n",
      "Epoch 16/350\n",
      "4049/4049 [==============================] - 775s 191ms/step - loss: 1.9691 - accuracy: 0.4032 - top-3-accuracy: 0.6236 - val_loss: 1.2497 - val_accuracy: 0.7078 - val_top-3-accuracy: 0.8822\n",
      "Epoch 17/350\n",
      "4049/4049 [==============================] - 777s 192ms/step - loss: 1.9668 - accuracy: 0.4049 - top-3-accuracy: 0.6239 - val_loss: 1.2430 - val_accuracy: 0.7158 - val_top-3-accuracy: 0.8834\n",
      "Epoch 18/350\n",
      "4049/4049 [==============================] - 778s 192ms/step - loss: 1.9647 - accuracy: 0.4062 - top-3-accuracy: 0.6251 - val_loss: 1.2388 - val_accuracy: 0.7123 - val_top-3-accuracy: 0.8824\n",
      "Epoch 19/350\n",
      "4049/4049 [==============================] - 777s 192ms/step - loss: 1.9615 - accuracy: 0.4077 - top-3-accuracy: 0.6255 - val_loss: 1.2243 - val_accuracy: 0.7195 - val_top-3-accuracy: 0.8854\n",
      "Epoch 20/350\n",
      "4049/4049 [==============================] - 775s 191ms/step - loss: 1.9589 - accuracy: 0.4086 - top-3-accuracy: 0.6260 - val_loss: 1.2305 - val_accuracy: 0.7193 - val_top-3-accuracy: 0.8854\n",
      "Epoch 21/350\n",
      "4049/4049 [==============================] - 773s 191ms/step - loss: 1.9591 - accuracy: 0.4084 - top-3-accuracy: 0.6267 - val_loss: 1.2355 - val_accuracy: 0.7224 - val_top-3-accuracy: 0.8882\n",
      "Epoch 22/350\n",
      "4049/4049 [==============================] - 772s 191ms/step - loss: 1.9562 - accuracy: 0.4102 - top-3-accuracy: 0.6267 - val_loss: 1.2445 - val_accuracy: 0.7222 - val_top-3-accuracy: 0.8834\n",
      "Epoch 23/350\n",
      "4049/4049 [==============================] - 779s 192ms/step - loss: 1.9525 - accuracy: 0.4122 - top-3-accuracy: 0.6278 - val_loss: 1.2433 - val_accuracy: 0.7235 - val_top-3-accuracy: 0.8863\n",
      "Epoch 24/350\n",
      "4049/4049 [==============================] - 782s 193ms/step - loss: 1.9576 - accuracy: 0.4094 - top-3-accuracy: 0.6262 - val_loss: 1.2221 - val_accuracy: 0.7208 - val_top-3-accuracy: 0.8833\n",
      "Epoch 25/350\n",
      "4049/4049 [==============================] - 782s 193ms/step - loss: 1.9500 - accuracy: 0.4132 - top-3-accuracy: 0.6289 - val_loss: 1.2168 - val_accuracy: 0.7301 - val_top-3-accuracy: 0.8871\n",
      "Epoch 26/350\n",
      "4049/4049 [==============================] - 781s 193ms/step - loss: 1.9471 - accuracy: 0.4150 - top-3-accuracy: 0.6294 - val_loss: 1.1845 - val_accuracy: 0.7331 - val_top-3-accuracy: 0.8890\n",
      "Epoch 27/350\n",
      "4049/4049 [==============================] - 779s 192ms/step - loss: 2.0671 - accuracy: 0.3456 - top-3-accuracy: 0.5939 - val_loss: 1.5457 - val_accuracy: 0.5789 - val_top-3-accuracy: 0.8423\n",
      "Epoch 28/350\n",
      "4049/4049 [==============================] - 779s 193ms/step - loss: 2.0968 - accuracy: 0.3279 - top-3-accuracy: 0.5888 - val_loss: 1.4910 - val_accuracy: 0.5973 - val_top-3-accuracy: 0.8531\n",
      "Epoch 29/350\n",
      "4049/4049 [==============================] - 776s 192ms/step - loss: 2.0782 - accuracy: 0.3386 - top-3-accuracy: 0.5944 - val_loss: 1.4398 - val_accuracy: 0.6158 - val_top-3-accuracy: 0.8586\n",
      "Epoch 30/350\n",
      "4049/4049 [==============================] - 775s 191ms/step - loss: 2.0647 - accuracy: 0.3461 - top-3-accuracy: 0.5990 - val_loss: 1.4267 - val_accuracy: 0.6232 - val_top-3-accuracy: 0.8612\n",
      "Epoch 31/350\n",
      "4049/4049 [==============================] - 775s 191ms/step - loss: 2.0617 - accuracy: 0.3485 - top-3-accuracy: 0.5987 - val_loss: 1.5834 - val_accuracy: 0.5594 - val_top-3-accuracy: 0.8375\n",
      "Epoch 32/350\n",
      "4049/4049 [==============================] - 775s 191ms/step - loss: 2.0516 - accuracy: 0.3553 - top-3-accuracy: 0.6015 - val_loss: 1.3836 - val_accuracy: 0.6414 - val_top-3-accuracy: 0.8688\n",
      "Epoch 33/350\n",
      "4049/4049 [==============================] - 775s 191ms/step - loss: 2.0379 - accuracy: 0.3636 - top-3-accuracy: 0.6066 - val_loss: 1.3744 - val_accuracy: 0.6544 - val_top-3-accuracy: 0.8717\n",
      "Epoch 34/350\n",
      "4049/4049 [==============================] - 775s 191ms/step - loss: 2.0294 - accuracy: 0.3689 - top-3-accuracy: 0.6086 - val_loss: 1.3609 - val_accuracy: 0.6560 - val_top-3-accuracy: 0.8713\n",
      "Epoch 35/350\n",
      "4049/4049 [==============================] - 775s 191ms/step - loss: 2.0217 - accuracy: 0.3736 - top-3-accuracy: 0.6107 - val_loss: 1.4017 - val_accuracy: 0.6312 - val_top-3-accuracy: 0.8592\n",
      "Epoch 36/350\n",
      "4049/4049 [==============================] - 775s 191ms/step - loss: 2.0153 - accuracy: 0.3776 - top-3-accuracy: 0.6120 - val_loss: 1.3374 - val_accuracy: 0.6699 - val_top-3-accuracy: 0.8748\n",
      "Epoch 37/350\n",
      "4049/4049 [==============================] - 775s 191ms/step - loss: 2.0091 - accuracy: 0.3813 - top-3-accuracy: 0.6134 - val_loss: 1.3265 - val_accuracy: 0.6722 - val_top-3-accuracy: 0.8731\n",
      "Epoch 38/350\n",
      "4049/4049 [==============================] - 775s 191ms/step - loss: 2.0039 - accuracy: 0.3843 - top-3-accuracy: 0.6155 - val_loss: 1.2959 - val_accuracy: 0.6795 - val_top-3-accuracy: 0.8774\n",
      "Epoch 39/350\n",
      "4049/4049 [==============================] - 775s 191ms/step - loss: 1.9979 - accuracy: 0.3878 - top-3-accuracy: 0.6163 - val_loss: 1.3037 - val_accuracy: 0.6899 - val_top-3-accuracy: 0.8764\n",
      "Epoch 40/350\n",
      "4049/4049 [==============================] - 775s 191ms/step - loss: 1.9939 - accuracy: 0.3902 - top-3-accuracy: 0.6176 - val_loss: 1.2909 - val_accuracy: 0.6962 - val_top-3-accuracy: 0.8798\n",
      "Epoch 41/350\n",
      "4049/4049 [==============================] - 775s 191ms/step - loss: 1.9885 - accuracy: 0.3932 - top-3-accuracy: 0.6186 - val_loss: 1.2804 - val_accuracy: 0.6962 - val_top-3-accuracy: 0.8797\n",
      "Epoch 42/350\n",
      "4049/4049 [==============================] - 778s 192ms/step - loss: 1.9867 - accuracy: 0.3941 - top-3-accuracy: 0.6196 - val_loss: 1.2708 - val_accuracy: 0.7009 - val_top-3-accuracy: 0.8812\n",
      "Epoch 43/350\n",
      "4049/4049 [==============================] - 779s 192ms/step - loss: 1.9797 - accuracy: 0.3981 - top-3-accuracy: 0.6211 - val_loss: 1.2950 - val_accuracy: 0.7011 - val_top-3-accuracy: 0.8795\n",
      "Epoch 44/350\n",
      "4049/4049 [==============================] - 779s 192ms/step - loss: 1.9800 - accuracy: 0.3984 - top-3-accuracy: 0.6211 - val_loss: 1.3284 - val_accuracy: 0.6868 - val_top-3-accuracy: 0.8762\n",
      "Epoch 45/350\n",
      "4049/4049 [==============================] - 779s 192ms/step - loss: 1.9745 - accuracy: 0.4012 - top-3-accuracy: 0.6229 - val_loss: 1.2556 - val_accuracy: 0.7098 - val_top-3-accuracy: 0.8829\n",
      "Epoch 46/350\n",
      "4049/4049 [==============================] - 779s 192ms/step - loss: 1.9693 - accuracy: 0.4044 - top-3-accuracy: 0.6231 - val_loss: 1.2403 - val_accuracy: 0.7141 - val_top-3-accuracy: 0.8835\n",
      "Epoch 47/350\n",
      "4049/4049 [==============================] - 779s 193ms/step - loss: 1.9655 - accuracy: 0.4060 - top-3-accuracy: 0.6250 - val_loss: 1.2397 - val_accuracy: 0.7162 - val_top-3-accuracy: 0.8844\n",
      "Epoch 48/350\n",
      "4049/4049 [==============================] - 780s 193ms/step - loss: 1.9637 - accuracy: 0.4065 - top-3-accuracy: 0.6257 - val_loss: 1.2776 - val_accuracy: 0.7149 - val_top-3-accuracy: 0.8802\n",
      "Epoch 49/350\n",
      "4049/4049 [==============================] - 780s 193ms/step - loss: 1.9745 - accuracy: 0.4004 - top-3-accuracy: 0.6224 - val_loss: 1.2406 - val_accuracy: 0.7218 - val_top-3-accuracy: 0.8849\n",
      "Epoch 50/350\n",
      "4049/4049 [==============================] - 780s 193ms/step - loss: 1.9619 - accuracy: 0.4077 - top-3-accuracy: 0.6253 - val_loss: 1.3185 - val_accuracy: 0.6935 - val_top-3-accuracy: 0.8713\n",
      "Epoch 51/350\n",
      "4049/4049 [==============================] - 780s 193ms/step - loss: 1.9555 - accuracy: 0.4106 - top-3-accuracy: 0.6271 - val_loss: 1.2567 - val_accuracy: 0.7158 - val_top-3-accuracy: 0.8812\n",
      "Epoch 52/350\n",
      "4049/4049 [==============================] - 780s 193ms/step - loss: 1.9523 - accuracy: 0.4125 - top-3-accuracy: 0.6288 - val_loss: 1.2204 - val_accuracy: 0.7303 - val_top-3-accuracy: 0.8876\n",
      "Epoch 53/350\n",
      "4049/4049 [==============================] - 780s 193ms/step - loss: 1.9492 - accuracy: 0.4141 - top-3-accuracy: 0.6290 - val_loss: 1.2258 - val_accuracy: 0.7291 - val_top-3-accuracy: 0.8874\n",
      "Epoch 54/350\n",
      "4049/4049 [==============================] - 780s 193ms/step - loss: 1.9463 - accuracy: 0.4153 - top-3-accuracy: 0.6293 - val_loss: 1.2247 - val_accuracy: 0.7326 - val_top-3-accuracy: 0.8865\n",
      "Epoch 55/350\n",
      "4049/4049 [==============================] - 780s 193ms/step - loss: 1.9432 - accuracy: 0.4171 - top-3-accuracy: 0.6302 - val_loss: 1.2542 - val_accuracy: 0.7229 - val_top-3-accuracy: 0.8847\n",
      "Epoch 56/350\n",
      "4049/4049 [==============================] - 780s 193ms/step - loss: 1.9438 - accuracy: 0.4168 - top-3-accuracy: 0.6297 - val_loss: 1.1957 - val_accuracy: 0.7356 - val_top-3-accuracy: 0.8896\n",
      "Epoch 57/350\n",
      "4049/4049 [==============================] - 773s 191ms/step - loss: 1.9400 - accuracy: 0.4188 - top-3-accuracy: 0.6312 - val_loss: 1.2569 - val_accuracy: 0.6966 - val_top-3-accuracy: 0.8769\n",
      "Epoch 58/350\n",
      "4049/4049 [==============================] - 771s 191ms/step - loss: 1.9369 - accuracy: 0.4200 - top-3-accuracy: 0.6319 - val_loss: 1.1940 - val_accuracy: 0.7356 - val_top-3-accuracy: 0.8866\n",
      "Epoch 59/350\n",
      "4049/4049 [==============================] - 772s 191ms/step - loss: 1.9353 - accuracy: 0.4208 - top-3-accuracy: 0.6316 - val_loss: 1.2004 - val_accuracy: 0.7398 - val_top-3-accuracy: 0.8883\n",
      "Epoch 60/350\n",
      "4049/4049 [==============================] - 772s 191ms/step - loss: 1.9366 - accuracy: 0.4195 - top-3-accuracy: 0.6317 - val_loss: 1.2455 - val_accuracy: 0.7123 - val_top-3-accuracy: 0.8801\n",
      "Epoch 61/350\n",
      "4049/4049 [==============================] - 771s 191ms/step - loss: 1.9329 - accuracy: 0.4223 - top-3-accuracy: 0.6329 - val_loss: 1.2132 - val_accuracy: 0.7213 - val_top-3-accuracy: 0.8829\n",
      "Epoch 62/350\n",
      "4049/4049 [==============================] - 771s 190ms/step - loss: 1.9298 - accuracy: 0.4231 - top-3-accuracy: 0.6336 - val_loss: 1.1912 - val_accuracy: 0.7397 - val_top-3-accuracy: 0.8870\n",
      "Epoch 63/350\n",
      "4049/4049 [==============================] - 771s 190ms/step - loss: 1.9292 - accuracy: 0.4234 - top-3-accuracy: 0.6338 - val_loss: 1.2042 - val_accuracy: 0.7404 - val_top-3-accuracy: 0.8873\n",
      "Epoch 64/350\n",
      "4049/4049 [==============================] - 774s 191ms/step - loss: 1.9255 - accuracy: 0.4248 - top-3-accuracy: 0.6344 - val_loss: 1.1633 - val_accuracy: 0.7434 - val_top-3-accuracy: 0.8889\n",
      "Epoch 65/350\n",
      "4049/4049 [==============================] - 772s 191ms/step - loss: 1.9239 - accuracy: 0.4259 - top-3-accuracy: 0.6348 - val_loss: 1.1815 - val_accuracy: 0.7471 - val_top-3-accuracy: 0.8898\n",
      "Epoch 66/350\n",
      "4049/4049 [==============================] - 772s 191ms/step - loss: 1.9264 - accuracy: 0.4238 - top-3-accuracy: 0.6347 - val_loss: 1.1888 - val_accuracy: 0.7471 - val_top-3-accuracy: 0.8882\n",
      "Epoch 67/350\n",
      "4049/4049 [==============================] - 772s 191ms/step - loss: 1.9213 - accuracy: 0.4266 - top-3-accuracy: 0.6350 - val_loss: 1.2028 - val_accuracy: 0.7460 - val_top-3-accuracy: 0.8866\n",
      "Epoch 68/350\n",
      "4049/4049 [==============================] - 772s 191ms/step - loss: 1.9196 - accuracy: 0.4271 - top-3-accuracy: 0.6364 - val_loss: 1.1799 - val_accuracy: 0.7513 - val_top-3-accuracy: 0.8918\n",
      "Epoch 69/350\n",
      "4049/4049 [==============================] - 772s 191ms/step - loss: 1.9186 - accuracy: 0.4279 - top-3-accuracy: 0.6363 - val_loss: 1.2026 - val_accuracy: 0.7464 - val_top-3-accuracy: 0.8886: 0.428\n",
      "Epoch 70/350\n",
      "4049/4049 [==============================] - 772s 191ms/step - loss: 1.9156 - accuracy: 0.4285 - top-3-accuracy: 0.6373 - val_loss: 1.1918 - val_accuracy: 0.7409 - val_top-3-accuracy: 0.8867\n",
      "Epoch 71/350\n",
      "4049/4049 [==============================] - 772s 191ms/step - loss: 1.9142 - accuracy: 0.4288 - top-3-accuracy: 0.6370 - val_loss: 1.1700 - val_accuracy: 0.7511 - val_top-3-accuracy: 0.8899- top-3-\n",
      "Epoch 72/350\n",
      "4049/4049 [==============================] - 772s 191ms/step - loss: 1.9146 - accuracy: 0.4289 - top-3-accuracy: 0.6378 - val_loss: 1.1680 - val_accuracy: 0.7474 - val_top-3-accuracy: 0.8889\n",
      "Epoch 73/350\n",
      "4049/4049 [==============================] - 772s 191ms/step - loss: 1.9125 - accuracy: 0.4297 - top-3-accuracy: 0.6383 - val_loss: 1.2170 - val_accuracy: 0.7370 - val_top-3-accuracy: 0.8851\n",
      "Epoch 74/350\n",
      "4049/4049 [==============================] - 772s 191ms/step - loss: 1.9114 - accuracy: 0.4300 - top-3-accuracy: 0.6386 - val_loss: 1.1996 - val_accuracy: 0.7423 - val_top-3-accuracy: 0.8878\n",
      "Epoch 75/350\n",
      "4049/4049 [==============================] - 772s 191ms/step - loss: 1.9082 - accuracy: 0.4314 - top-3-accuracy: 0.6392 - val_loss: 1.1678 - val_accuracy: 0.7563 - val_top-3-accuracy: 0.8912\n",
      "Epoch 76/350\n",
      "4049/4049 [==============================] - 772s 191ms/step - loss: 1.9080 - accuracy: 0.4311 - top-3-accuracy: 0.6390 - val_loss: 1.1949 - val_accuracy: 0.7369 - val_top-3-accuracy: 0.8864\n",
      "Epoch 77/350\n",
      "4049/4049 [==============================] - 772s 191ms/step - loss: 1.9099 - accuracy: 0.4304 - top-3-accuracy: 0.6382 - val_loss: 1.1759 - val_accuracy: 0.7521 - val_top-3-accuracy: 0.8873\n",
      "Epoch 78/350\n",
      "4049/4049 [==============================] - 774s 191ms/step - loss: 1.9051 - accuracy: 0.4327 - top-3-accuracy: 0.6403 - val_loss: 1.1612 - val_accuracy: 0.7581 - val_top-3-accuracy: 0.8903\n",
      "Epoch 79/350\n",
      "4049/4049 [==============================] - 772s 191ms/step - loss: 1.9046 - accuracy: 0.4326 - top-3-accuracy: 0.6397 - val_loss: 1.1897 - val_accuracy: 0.7361 - val_top-3-accuracy: 0.8846\n",
      "Epoch 80/350\n",
      "4049/4049 [==============================] - 774s 191ms/step - loss: 1.9028 - accuracy: 0.4332 - top-3-accuracy: 0.6407 - val_loss: 1.1437 - val_accuracy: 0.7588 - val_top-3-accuracy: 0.8909\n",
      "Epoch 81/350\n",
      "4049/4049 [==============================] - 772s 191ms/step - loss: 1.9026 - accuracy: 0.4329 - top-3-accuracy: 0.6406 - val_loss: 1.1638 - val_accuracy: 0.7568 - val_top-3-accuracy: 0.8911\n",
      "Epoch 82/350\n",
      "4049/4049 [==============================] - 771s 191ms/step - loss: 1.9013 - accuracy: 0.4333 - top-3-accuracy: 0.6416 - val_loss: 1.1550 - val_accuracy: 0.7488 - val_top-3-accuracy: 0.8903\n",
      "Epoch 83/350\n",
      "4049/4049 [==============================] - 771s 191ms/step - loss: 1.9005 - accuracy: 0.4337 - top-3-accuracy: 0.6412 - val_loss: 1.2487 - val_accuracy: 0.7181 - val_top-3-accuracy: 0.8788\n",
      "Epoch 84/350\n",
      "4049/4049 [==============================] - 772s 191ms/step - loss: 1.8993 - accuracy: 0.4338 - top-3-accuracy: 0.6409 - val_loss: 1.1933 - val_accuracy: 0.7520 - val_top-3-accuracy: 0.8889\n",
      "Epoch 85/350\n",
      "4049/4049 [==============================] - 772s 191ms/step - loss: 1.8969 - accuracy: 0.4350 - top-3-accuracy: 0.6417 - val_loss: 1.1476 - val_accuracy: 0.7598 - val_top-3-accuracy: 0.8916\n",
      "Epoch 86/350\n",
      "4049/4049 [==============================] - 772s 191ms/step - loss: 1.8962 - accuracy: 0.4351 - top-3-accuracy: 0.6426 - val_loss: 1.1463 - val_accuracy: 0.7601 - val_top-3-accuracy: 0.8918\n",
      "Epoch 87/350\n",
      "4049/4049 [==============================] - 772s 191ms/step - loss: 1.8949 - accuracy: 0.4351 - top-3-accuracy: 0.6427 - val_loss: 1.1498 - val_accuracy: 0.7533 - val_top-3-accuracy: 0.8899\n",
      "Epoch 88/350\n",
      "4049/4049 [==============================] - 772s 191ms/step - loss: 1.8947 - accuracy: 0.4354 - top-3-accuracy: 0.6431 - val_loss: 1.1826 - val_accuracy: 0.7532 - val_top-3-accuracy: 0.8870\n",
      "Epoch 89/350\n",
      "4049/4049 [==============================] - 772s 191ms/step - loss: 1.8957 - accuracy: 0.4346 - top-3-accuracy: 0.6425 - val_loss: 1.1802 - val_accuracy: 0.7516 - val_top-3-accuracy: 0.8893s: 1.8956\n",
      "Epoch 90/350\n",
      "4049/4049 [==============================] - 772s 191ms/step - loss: 1.8923 - accuracy: 0.4360 - top-3-accuracy: 0.6444 - val_loss: 1.2368 - val_accuracy: 0.7213 - val_top-3-accuracy: 0.8772\n",
      "Epoch 91/350\n",
      "4049/4049 [==============================] - 772s 191ms/step - loss: 1.8908 - accuracy: 0.4363 - top-3-accuracy: 0.6438 - val_loss: 1.1518 - val_accuracy: 0.7616 - val_top-3-accuracy: 0.8918\n",
      "Epoch 92/350\n",
      "4049/4049 [==============================] - 772s 191ms/step - loss: 1.8903 - accuracy: 0.4367 - top-3-accuracy: 0.6437 - val_loss: 1.1718 - val_accuracy: 0.7568 - val_top-3-accuracy: 0.8894\n",
      "Epoch 93/350\n",
      "4049/4049 [==============================] - 772s 191ms/step - loss: 2.0469 - accuracy: 0.3541 - top-3-accuracy: 0.6006 - val_loss: 1.5762 - val_accuracy: 0.5759 - val_top-3-accuracy: 0.8416\n",
      "Epoch 94/350\n",
      "4049/4049 [==============================] - 772s 191ms/step - loss: 2.0994 - accuracy: 0.3278 - top-3-accuracy: 0.5880 - val_loss: 1.5220 - val_accuracy: 0.5932 - val_top-3-accuracy: 0.8493\n",
      "Epoch 95/350\n",
      "4049/4049 [==============================] - 772s 191ms/step - loss: 2.0838 - accuracy: 0.3361 - top-3-accuracy: 0.5931 - val_loss: 1.4888 - val_accuracy: 0.6054 - val_top-3-accuracy: 0.8562\n",
      "Epoch 96/350\n",
      "4049/4049 [==============================] - 772s 191ms/step - loss: 2.0710 - accuracy: 0.3431 - top-3-accuracy: 0.5968 - val_loss: 1.4425 - val_accuracy: 0.6199 - val_top-3-accuracy: 0.8577\n",
      "Epoch 97/350\n",
      "4049/4049 [==============================] - 772s 191ms/step - loss: 2.0602 - accuracy: 0.3502 - top-3-accuracy: 0.5999 - val_loss: 1.4595 - val_accuracy: 0.6251 - val_top-3-accuracy: 0.8563\n",
      "Epoch 98/350\n",
      "4049/4049 [==============================] - 772s 191ms/step - loss: 2.0495 - accuracy: 0.3559 - top-3-accuracy: 0.6035 - val_loss: 1.4112 - val_accuracy: 0.6388 - val_top-3-accuracy: 0.8638\n",
      "Epoch 99/350\n",
      "4049/4049 [==============================] - 772s 191ms/step - loss: 2.0464 - accuracy: 0.3585 - top-3-accuracy: 0.6042 - val_loss: 1.4131 - val_accuracy: 0.6403 - val_top-3-accuracy: 0.8640\n",
      "Epoch 100/350\n",
      "4049/4049 [==============================] - 772s 191ms/step - loss: 2.0351 - accuracy: 0.3652 - top-3-accuracy: 0.6064 - val_loss: 1.3826 - val_accuracy: 0.6509 - val_top-3-accuracy: 0.8691\n",
      "Epoch 101/350\n",
      "4049/4049 [==============================] - 772s 191ms/step - loss: 2.0267 - accuracy: 0.3708 - top-3-accuracy: 0.6091 - val_loss: 1.3571 - val_accuracy: 0.6600 - val_top-3-accuracy: 0.8713\n",
      "Epoch 102/350\n",
      "4049/4049 [==============================] - 772s 191ms/step - loss: 2.0188 - accuracy: 0.3750 - top-3-accuracy: 0.6108 - val_loss: 1.3756 - val_accuracy: 0.6440 - val_top-3-accuracy: 0.8622\n",
      "Epoch 103/350\n",
      "4049/4049 [==============================] - 772s 191ms/step - loss: 2.0115 - accuracy: 0.3793 - top-3-accuracy: 0.6132 - val_loss: 1.3184 - val_accuracy: 0.6735 - val_top-3-accuracy: 0.8758\n",
      "Epoch 104/350\n",
      "4049/4049 [==============================] - 772s 191ms/step - loss: 2.0049 - accuracy: 0.3834 - top-3-accuracy: 0.6145 - val_loss: 1.3123 - val_accuracy: 0.6797 - val_top-3-accuracy: 0.8756\n",
      "Epoch 105/350\n",
      "4049/4049 [==============================] - 772s 191ms/step - loss: 2.0497 - accuracy: 0.3572 - top-3-accuracy: 0.6016 - val_loss: 1.4485 - val_accuracy: 0.6164 - val_top-3-accuracy: 0.8599\n",
      "Epoch 106/350\n",
      "4049/4049 [==============================] - 771s 191ms/step - loss: 2.0331 - accuracy: 0.3655 - top-3-accuracy: 0.6068 - val_loss: 1.3418 - val_accuracy: 0.6686 - val_top-3-accuracy: 0.8737\n",
      "Epoch 107/350\n",
      "4049/4049 [==============================] - 772s 191ms/step - loss: 2.0048 - accuracy: 0.3831 - top-3-accuracy: 0.6148 - val_loss: 1.2996 - val_accuracy: 0.6788 - val_top-3-accuracy: 0.8801\n",
      "Epoch 108/350\n",
      "4049/4049 [==============================] - 772s 191ms/step - loss: 1.9950 - accuracy: 0.3889 - top-3-accuracy: 0.6169 - val_loss: 1.2799 - val_accuracy: 0.6895 - val_top-3-accuracy: 0.8803\n",
      "Epoch 109/350\n",
      "4049/4049 [==============================] - 771s 191ms/step - loss: 1.9872 - accuracy: 0.3937 - top-3-accuracy: 0.6191 - val_loss: 1.3224 - val_accuracy: 0.6889 - val_top-3-accuracy: 0.8767\n",
      "Epoch 110/350\n",
      "4049/4049 [==============================] - 772s 191ms/step - loss: 1.9823 - accuracy: 0.3965 - top-3-accuracy: 0.6204 - val_loss: 1.2987 - val_accuracy: 0.7002 - val_top-3-accuracy: 0.8786\n",
      "Epoch 111/350\n",
      "4049/4049 [==============================] - 779s 192ms/step - loss: 1.9768 - accuracy: 0.3996 - top-3-accuracy: 0.6218 - val_loss: 1.3349 - val_accuracy: 0.6761 - val_top-3-accuracy: 0.8700\n",
      "Epoch 112/350\n",
      "4049/4049 [==============================] - 772s 191ms/step - loss: 1.9723 - accuracy: 0.4016 - top-3-accuracy: 0.6229 - val_loss: 1.2652 - val_accuracy: 0.7081 - val_top-3-accuracy: 0.8802\n",
      "Epoch 113/350\n",
      "2048/4049 [==============>...............] - ETA: 6:00 - loss: 1.9792 - accuracy: 0.3978 - top-3-accuracy: 0.6208"
     ]
    }
   ],
   "source": [
    "history2 = model.fit(x_train, y_train_1hot,\n",
    "      epochs= 350, \n",
    "      batch_size= config['batch_size'], \n",
    "      validation_data=(x_test, y_test_1hot),\n",
    "     callbacks=callbacks)"
   ]
  },
  {
   "cell_type": "code",
   "execution_count": null,
   "id": "83731cd6-3657-4e9e-b7e8-68c0d826956f",
   "metadata": {},
   "outputs": [],
   "source": [
    "# Train further\n",
    "if accuracy < 0.7:\n",
    "    history = model.fit(x_train, y_train,\n",
    "          epochs= 20, \n",
    "          batch_size= batch_size, \n",
    "          validation_data=(x_test, y_test),\n",
    "         callbacks=callbacks) #mcp_save, callbacks=[reduce_lr_loss]"
   ]
  },
  {
   "cell_type": "code",
   "execution_count": 71,
   "id": "6b55c54e-e846-48a3-89d0-6d4b76f1d3b9",
   "metadata": {},
   "outputs": [
    {
     "name": "stdout",
     "output_type": "stream",
     "text": [
      " Exact accuracy is  60.30014 %\n",
      " Top 3% accuracy is  79.83463 %\n"
     ]
    }
   ],
   "source": [
    "# Test model manually on all val data\n",
    "\n",
    "y_pred = [ np.argmax( model.predict([np.expand_dims(x_val[idx],axis=0), np.expand_dims(coords_val[idx],axis=0)])) for idx in range(len(x_val)) ]\n",
    "\n",
    "combined_result = zip(y_val,y_pred)\n",
    "\n",
    "val_exact_accuracy = 100 * sum([1 if y_pred[idx]==y_val[idx]   else 0 for idx in range(len(y_pred)) ]) / len(y_pred)\n",
    "val_margin3_accuracy = 100 * sum([1 if abs(y_pred[idx]-y_val[idx]) < 3 else 0 for idx in range(len(y_pred)) ]) / len(y_pred)\n",
    "\n",
    "print(f' Exact accuracy is {val_exact_accuracy: .5f} %')\n",
    "print(f' Top 3% accuracy is {val_margin3_accuracy: .5f} %')"
   ]
  },
  {
   "cell_type": "code",
   "execution_count": 72,
   "id": "9d0e2411-04d4-4cea-a420-5f428a5136bb",
   "metadata": {},
   "outputs": [],
   "source": [
    "# Confusion Matrix and ROC/AUC\n",
    "\n",
    "model_predictions = np.asarray(y_pred)\n",
    "ground_truth = y_val.squeeze()\n",
    "\n",
    "# Prediction per Ground-truth class\n",
    "class_predictions = [ model_predictions[ground_truth==idx]  for idx in range(num_classes) ]\n",
    "\n",
    "# Confusion matrix\n",
    "confusion_mtx = np.zeros((num_classes,num_classes) )\n",
    "\n",
    "for pred,actual in zip(y_pred,y_val): # Rows=Prediction, Columns = Actual\n",
    "    confusion_mtx[pred,actual] +=1"
   ]
  },
  {
   "cell_type": "code",
   "execution_count": 73,
   "id": "6c631613-8762-451f-a7bf-663b44070693",
   "metadata": {},
   "outputs": [
    {
     "data": {
      "image/png": "[encoded data removed]",
      "text/plain": [
       "<Figure size 700x1500 with 2 Axes>"
      ]
     },
     "metadata": {
      "needs_background": "light"
     },
     "output_type": "display_data"
    }
   ],
   "source": [
    "from mpl_toolkits.axes_grid1 import make_axes_locatable\n",
    "\n",
    "fig, ax = plt.subplots(figsize=(7,15),dpi = 100);\n",
    "shw=ax.imshow(confusion_mtx)\n",
    "#bar= plt.colorbar(shw)\n",
    "\n",
    "_=plt.ylabel('Predictions')\n",
    "_=plt.xlabel('Actual Class')\n",
    "_=plt.title('Confusion matrix')\n",
    "\n",
    "# ax.set_xticklabels(list(range(num_classes)))\n",
    "# ax.set_yticklabels(list(range(num_classes)))\n",
    "\n",
    "# Create an axes on the right side of ax. The width of cax will be 5%\n",
    "# of ax and the padding between cax and ax will be fixed at 0.05 inch.\n",
    "divider = make_axes_locatable(ax)\n",
    "cax = divider.append_axes(\"right\", size=\"5%\", pad=0.05)\n",
    "#bar.set_label('ColorBar')\n",
    "_ = plt.colorbar(shw, cax=cax)"
   ]
  },
  {
   "cell_type": "code",
   "execution_count": 74,
   "id": "e0c12780-ae79-4e3f-8154-9917fbf8ce8c",
   "metadata": {},
   "outputs": [
    {
     "data": {
      "image/png": "[encoded data removed]",
      "text/plain": [
       "<Figure size 432x288 with 1 Axes>"
      ]
     },
     "metadata": {
      "needs_background": "light"
     },
     "output_type": "display_data"
    },
    {
     "data": {
      "image/png": "[encoded data removed]",
      "text/plain": [
       "<Figure size 432x288 with 1 Axes>"
      ]
     },
     "metadata": {
      "needs_background": "light"
     },
     "output_type": "display_data"
    },
    {
     "data": {
      "image/png": "[encoded data removed]",
      "text/plain": [
       "<Figure size 432x288 with 1 Axes>"
      ]
     },
     "metadata": {
      "needs_background": "light"
     },
     "output_type": "display_data"
    },
    {
     "data": {
      "image/png": "[encoded data removed]",
      "text/plain": [
       "<Figure size 432x288 with 1 Axes>"
      ]
     },
     "metadata": {
      "needs_background": "light"
     },
     "output_type": "display_data"
    },
    {
     "data": {
      "image/png": "[encoded data removed]",
      "text/plain": [
       "<Figure size 432x288 with 1 Axes>"
      ]
     },
     "metadata": {
      "needs_background": "light"
     },
     "output_type": "display_data"
    },
    {
     "data": {
      "image/png": "[encoded data removed]",
      "text/plain": [
       "<Figure size 432x288 with 1 Axes>"
      ]
     },
     "metadata": {
      "needs_background": "light"
     },
     "output_type": "display_data"
    },
    {
     "data": {
      "image/png": "[encoded data removed]",
      "text/plain": [
       "<Figure size 432x288 with 1 Axes>"
      ]
     },
     "metadata": {
      "needs_background": "light"
     },
     "output_type": "display_data"
    },
    {
     "data": {
      "image/png": "[encoded data removed]",
      "text/plain": [
       "<Figure size 432x288 with 1 Axes>"
      ]
     },
     "metadata": {
      "needs_background": "light"
     },
     "output_type": "display_data"
    },
    {
     "data": {
      "image/png": "[encoded data removed]",
      "text/plain": [
       "<Figure size 432x288 with 1 Axes>"
      ]
     },
     "metadata": {
      "needs_background": "light"
     },
     "output_type": "display_data"
    },
    {
     "data": {
      "image/png": "[encoded data removed]",
      "text/plain": [
       "<Figure size 432x288 with 1 Axes>"
      ]
     },
     "metadata": {
      "needs_background": "light"
     },
     "output_type": "display_data"
    },
    {
     "data": {
      "image/png": "[encoded data removed]",
      "text/plain": [
       "<Figure size 432x288 with 1 Axes>"
      ]
     },
     "metadata": {
      "needs_background": "light"
     },
     "output_type": "display_data"
    },
    {
     "data": {
      "image/png": "[encoded data removed]",
      "text/plain": [
       "<Figure size 432x288 with 1 Axes>"
      ]
     },
     "metadata": {
      "needs_background": "light"
     },
     "output_type": "display_data"
    },
    {
     "data": {
      "image/png": "[encoded data removed]",
      "text/plain": [
       "<Figure size 432x288 with 1 Axes>"
      ]
     },
     "metadata": {
      "needs_background": "light"
     },
     "output_type": "display_data"
    },
    {
     "data": {
      "image/png": "[encoded data removed]",
      "text/plain": [
       "<Figure size 432x288 with 1 Axes>"
      ]
     },
     "metadata": {
      "needs_background": "light"
     },
     "output_type": "display_data"
    },
    {
     "data": {
      "image/png": "[encoded data removed]",
      "text/plain": [
       "<Figure size 432x288 with 1 Axes>"
      ]
     },
     "metadata": {
      "needs_background": "light"
     },
     "output_type": "display_data"
    },
    {
     "data": {
      "image/png": "[encoded data removed]",
      "text/plain": [
       "<Figure size 432x288 with 1 Axes>"
      ]
     },
     "metadata": {
      "needs_background": "light"
     },
     "output_type": "display_data"
    },
    {
     "data": {
      "image/png": "[encoded data removed]",
      "text/plain": [
       "<Figure size 432x288 with 1 Axes>"
      ]
     },
     "metadata": {
      "needs_background": "light"
     },
     "output_type": "display_data"
    },
    {
     "data": {
      "image/png": "[encoded data removed]",
      "text/plain": [
       "<Figure size 432x288 with 1 Axes>"
      ]
     },
     "metadata": {
      "needs_background": "light"
     },
     "output_type": "display_data"
    },
    {
     "data": {
      "image/png": "[encoded data removed]",
      "text/plain": [
       "<Figure size 432x288 with 1 Axes>"
      ]
     },
     "metadata": {
      "needs_background": "light"
     },
     "output_type": "display_data"
    },
    {
     "data": {
      "image/png": "[encoded data removed]",
      "text/plain": [
       "<Figure size 432x288 with 1 Axes>"
      ]
     },
     "metadata": {
      "needs_background": "light"
     },
     "output_type": "display_data"
    },
    {
     "data": {
      "image/png": "[encoded data removed]",
      "text/plain": [
       "<Figure size 432x288 with 1 Axes>"
      ]
     },
     "metadata": {
      "needs_background": "light"
     },
     "output_type": "display_data"
    },
    {
     "data": {
      "image/png": "[encoded data removed]",
      "text/plain": [
       "<Figure size 432x288 with 1 Axes>"
      ]
     },
     "metadata": {
      "needs_background": "light"
     },
     "output_type": "display_data"
    }
   ],
   "source": [
    "# Histogram of each class prediction\n",
    "for idx,each_class in enumerate(class_predictions):\n",
    "    _ = plt.figure()\n",
    "    _ = plt.title('Class %s'%idx)\n",
    "    labels, counts = np.unique(each_class, return_counts=True)\n",
    "    _ = plt.bar(labels, counts, align='center')\n",
    "    _ = plt.gca().set_xticks(labels)\n",
    "    _ = plt.show()"
   ]
  },
  {
   "cell_type": "code",
   "execution_count": 75,
   "id": "4d778f04-18fd-445b-a72e-735cd9767ef8",
   "metadata": {},
   "outputs": [
    {
     "name": "stdout",
     "output_type": "stream",
     "text": [
      "              precision    recall  f1-score   support\n",
      "\n",
      "           0       0.96      0.94      0.95      3788\n",
      "           1       0.00      0.00      0.00         2\n",
      "           2       0.00      1.00      0.00         0\n",
      "           3       0.00      1.00      0.00         0\n",
      "           4       0.00      1.00      0.00         0\n",
      "           5       0.00      0.00      0.00        39\n",
      "           6       1.00      0.00      0.00       157\n",
      "           7       0.17      0.12      0.14       464\n",
      "           8       0.56      0.59      0.58      2287\n",
      "           9       0.61      0.71      0.66      4871\n",
      "          10       0.64      0.47      0.55      5396\n",
      "          11       0.63      0.53      0.57      7085\n",
      "          12       0.59      0.58      0.58      9812\n",
      "          13       0.57      0.64      0.60     11173\n",
      "          14       0.61      0.58      0.59     11110\n",
      "          15       0.59      0.75      0.66     10205\n",
      "          16       0.54      0.51      0.53      4566\n",
      "          17       0.41      0.30      0.35      1866\n",
      "          18       0.35      0.29      0.32       951\n",
      "          19       0.49      0.19      0.27       499\n",
      "          20       1.00      0.00      0.00       167\n",
      "          21       1.00      0.00      0.00        61\n",
      "\n",
      "    accuracy                           0.60     74499\n",
      "   macro avg       0.49      0.46      0.33     74499\n",
      "weighted avg       0.60      0.60      0.60     74499\n",
      "\n"
     ]
    }
   ],
   "source": [
    "from sklearn.metrics import classification_report\n",
    "\n",
    "print( classification_report( y_val,y_pred, labels=list(range(num_classes)), zero_division=1 ))"
   ]
  },
  {
   "cell_type": "code",
   "execution_count": null,
   "id": "411835eb-169b-4bba-b2a0-af445fa6bdbb",
   "metadata": {},
   "outputs": [],
   "source": []
  }
 ],
 "metadata": {
  "kernelspec": {
   "display_name": "ibk_tf_new",
   "language": "python",
   "name": "ibk_tf_new"
  },
  "language_info": {
   "codemirror_mode": {
    "name": "ipython",
    "version": 3
   },
   "file_extension": ".py",
   "mimetype": "text/x-python",
   "name": "python",
   "nbconvert_exporter": "python",
   "pygments_lexer": "ipython3",
   "version": "3.9.7"
  }
 },
 "nbformat": 4,
 "nbformat_minor": 5
}
