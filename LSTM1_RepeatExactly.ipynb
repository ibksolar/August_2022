{
 "cells": [
  {
   "cell_type": "code",
   "execution_count": 1,
   "id": "dbf0fa04-d15f-40e3-bc8e-e0c581c9707c",
   "metadata": {},
   "outputs": [
    {
     "name": "stdout",
     "output_type": "stream",
     "text": [
      "Packages Loaded\n"
     ]
    }
   ],
   "source": [
    "from __future__ import print_function\n",
    "\n",
    "import os\n",
    "\n",
    "import pandas as pd\n",
    "import numpy as np\n",
    "import matplotlib.pyplot as plt\n",
    "import random\n",
    "import tensorflow as tf\n",
    "from tensorflow.keras.models import Sequential, Model\n",
    "from tensorflow.keras.layers import *\n",
    "from tensorflow.keras import layers\n",
    "from tensorflow.keras.callbacks import EarlyStopping, ModelCheckpoint,TensorBoard,ReduceLROnPlateau\n",
    "\n",
    "from tensorflow.keras.optimizers import SGD, Adam\n",
    "from tensorflow.keras.activations import relu\n",
    "from tensorflow.keras.regularizers import l2\n",
    "from tensorflow.keras.constraints import max_norm\n",
    "from tensorflow.keras import backend as K\n",
    "# from tensorflow.keras.datasets import mnist, cifar10\n",
    "import tensorflow_addons as tfa\n",
    "\n",
    "import sklearn\n",
    "\n",
    "from IPython.core.interactiveshell import InteractiveShell\n",
    "InteractiveShell.ast_node_interactivity = \"all\"\n",
    "from scipy.io import loadmat \n",
    "import mat73\n",
    "from datetime import datetime\n",
    "import ipynbname\n",
    "\n",
    "print(\"Packages Loaded\")"
   ]
  },
  {
   "cell_type": "code",
   "execution_count": 2,
   "id": "5e0ff66a-fe8d-4b53-923d-87fd82eaa274",
   "metadata": {
    "tags": []
   },
   "outputs": [
    {
     "name": "stderr",
     "output_type": "stream",
     "text": [
      "\u001b[34m\u001b[1mwandb\u001b[0m: Currently logged in as: \u001b[33mibksolar\u001b[0m (use `wandb login --relogin` to force relogin)\n",
      "\u001b[34m\u001b[1mwandb\u001b[0m: wandb version 0.12.9 is available!  To upgrade, please run:\n",
      "\u001b[34m\u001b[1mwandb\u001b[0m:  $ pip install wandb --upgrade\n"
     ]
    },
    {
     "data": {
      "text/html": [
       "\n",
       "                    Syncing run <strong><a href=\"https://wandb.ai/ibksolar/my-test-project/runs/2sq2cyps\" target=\"_blank\">LSTM1_RepeatExactly_27_January_22_2325</a></strong> to <a href=\"https://wandb.ai/ibksolar/my-test-project\" target=\"_blank\">Weights & Biases</a> (<a href=\"https://docs.wandb.com/integrations/jupyter.html\" target=\"_blank\">docs</a>).<br/>\n",
       "\n",
       "                "
      ],
      "text/plain": [
       "<IPython.core.display.HTML object>"
      ]
     },
     "metadata": {},
     "output_type": "display_data"
    },
    {
     "data": {
      "text/html": [
       "<button onClick=\"this.nextSibling.style.display='block';this.style.display='none';\">Display W&B run</button><iframe src=\"https://wandb.ai/ibksolar/my-test-project/runs/2sq2cyps?jupyter=true\" style=\"border:none;width:100%;height:420px;display:none;\"></iframe>"
      ],
      "text/plain": [
       "<wandb.sdk.wandb_run.Run at 0x2ab400a7dc0>"
      ]
     },
     "execution_count": 2,
     "metadata": {},
     "output_type": "execute_result"
    }
   ],
   "source": [
    "import wandb\n",
    "from wandb.keras import WandbCallback\n",
    "time_stamp = datetime.strftime( datetime.now(),'%d_%B_%y_%H%M')\n",
    "wandb.init(project=\"my-test-project\", entity=\"ibksolar\", name=ipynbname.name()+'_'+time_stamp)\n",
    " "
   ]
  },
  {
   "cell_type": "code",
   "execution_count": 3,
   "id": "00c1aba9-f492-4875-be63-c42578d6918a",
   "metadata": {},
   "outputs": [],
   "source": [
    "# Load data\n",
    "# raw_data1 = loadmat('new_echo_cnn_in_out_jstarrs2021_first_try/echo_cnn_in_out_jstars1.mat')\n",
    "# raw_data1 = loadmat('echo_cnn_in_out_GOOD_layers/new_echo_cnn_in_out_jstars1.mat') 'findpeaks_layers/new_echo_cnn_in_out_jstars1.mat'\n",
    "\n",
    "raw_data1 = loadmat('../../../Python_Env/final_layers_rowblock15_21/filtered_image/new_echo_cnn_in_out_jstars1.mat')\n",
    "raw_data2 = loadmat('../../../Python_Env/final_layers_rowblock15_21/filtered_image/new_echo_cnn_in_out_jstars2.mat')\n",
    "raw_data3 = loadmat('../../../Python_Env/final_layers_rowblock15_21/filtered_image/new_echo_cnn_in_out_jstars3.mat')\n",
    "# raw_data4 = loadmat('findpeaks_layers_rowblock20/new_echo_cnn_in_out_jstars4.mat')\n",
    "\n",
    "d1 = raw_data1['echo_cnn1']\n",
    "t1 = raw_data1['echo_target1']\n",
    "i1 = raw_data1['echo_idx1']\n",
    "\n",
    "d2 = raw_data2['echo_cnn2']\n",
    "t2 = raw_data2['echo_target2']\n",
    "i2 = raw_data2['echo_idx2']\n",
    "\n",
    "d3 = raw_data3['echo_cnn3']\n",
    "t3 = raw_data3['echo_target3']\n",
    "i3 = raw_data3['echo_idx3']\n",
    "\n",
    "# d4 = raw_data4['echo_cnn4']\n",
    "# t4 = raw_data4['echo_target4']\n",
    "# i4 = raw_data4['echo_idx4']\n",
    "\n",
    "all_data = np.concatenate( (d1,d2,d3),axis = 0 )\n",
    "all_target = np.concatenate( (t1,t2,t3),axis = 0 )\n",
    "all_idx = np.concatenate( (i1,i2,i3),axis = 0 )\n",
    "\n",
    "# Set all nan in the data to zero\n",
    "nan_idx = np.isnan(all_data).any(axis =-1)\n",
    "all_target[nan_idx] = 0\n",
    "all_data[ np.isnan(all_data) ]= 0"
   ]
  },
  {
   "cell_type": "code",
   "execution_count": 4,
   "id": "d9fb9b83-f2b1-4b99-82a7-e1580e7a2694",
   "metadata": {},
   "outputs": [],
   "source": [
    "load_new_data = False\n",
    "\n",
    "if load_new_data:\n",
    "    # base_path = '..\\\\..\\\\all_block_data\\Dec_Train_block_len_21_011121_2331'\n",
    "    #base_path = '../all_block_data/Old_data/Dec_Train_block_len_21_231121_1531'\n",
    "    base_path = '../all_block_data\\FindPeaks_data\\Dec_Train_block_len_21_030122_0614'\n",
    "\n",
    "    # Confirm path is right...\n",
    "    print(f'{os.path.isdir(base_path)}')"
   ]
  },
  {
   "cell_type": "code",
   "execution_count": 5,
   "id": "e179ca79-43c2-45d8-a10e-1bb54507a5bf",
   "metadata": {},
   "outputs": [],
   "source": [
    "if load_new_data:\n",
    "    raw_data1 = mat73.loadmat(base_path + '/echo_cnn_in_out_jstars.mat')\n",
    "    all_data = raw_data1['echo_cnn_input']\n",
    "    all_target = raw_data1['echo_cnn_target']\n",
    "    all_coords = raw_data1['coords']\n",
    "    echo_idx = raw_data1['orig_echo_idx']\n",
    "\n",
    "    # Set all nan in the data to zero\n",
    "    nan_idx = np.isnan(all_data).any(axis =-1)\n",
    "    all_target[nan_idx] = 0\n",
    "    all_data[ np.isnan(all_data) ]= 0\n",
    "\n"
   ]
  },
  {
   "cell_type": "code",
   "execution_count": 6,
   "id": "88db6e2e-f752-4b1f-b3a4-395adeaf4fa9",
   "metadata": {},
   "outputs": [],
   "source": [
    "# Standardize all_data\n",
    "standardize = False\n",
    "if standardize:\n",
    "    all_data  = ( all_data - all_data.mean() ) / all_data.std()\n",
    "\n",
    "scale_data = False\n",
    "if scale_data:\n",
    "    all_data = 255*all_data"
   ]
  },
  {
   "cell_type": "code",
   "execution_count": 7,
   "id": "b97ea785-542b-42f8-aee2-fef06a14040d",
   "metadata": {},
   "outputs": [],
   "source": [
    "# Truncate data because data after truncate point is not good for training\n",
    "\n",
    "truncate_data = False\n",
    "if truncate_data:    \n",
    "    echo_idx = np.asarray(echo_idx)\n",
    "    stop_val = 400\n",
    "\n",
    "    stop_list, = np.where(echo_idx == stop_val)\n",
    "    stop_idx = stop_list[-1]\n",
    "\n",
    "    all_data = all_data[:stop_idx]\n",
    "    all_target = all_target[:stop_idx]\n",
    "\n",
    "    print(f'Data shape {all_data.shape}')\n",
    "    print(f'Target shape {all_target.shape}')\n"
   ]
  },
  {
   "cell_type": "code",
   "execution_count": 8,
   "id": "3eaf3c7e-1bb9-4d3b-b0af-deca0f0995b7",
   "metadata": {},
   "outputs": [
    {
     "name": "stdout",
     "output_type": "stream",
     "text": [
      "Dimensions match\n"
     ]
    }
   ],
   "source": [
    "row_length = 21 # CHANGE HERE <==\n",
    "col_length = 15\n",
    "\n",
    "# Check that the dimension of data is correct\n",
    "if all_data.shape[1] == row_length*col_length:\n",
    "    print('Dimensions match')\n",
    "else:\n",
    "    print(f' Row block length:{row_length} and col length:{col_length} does not match Data dimension:{all_data.shape[1]}') \n",
    "        "
   ]
  },
  {
   "cell_type": "code",
   "execution_count": 9,
   "id": "240c5978-0a4c-4a42-af11-b067dffe8ebc",
   "metadata": {},
   "outputs": [],
   "source": [
    "# Positional Encoding\n",
    "if 0:    \n",
    "    time_seq = 9 #col_length #5\n",
    "    # all_coords = raw_data1['coords']\n",
    "    all_coord_exp = np.zeros((all_coords.shape[0],time_seq,row_length))\n",
    "\n",
    "    for idx in range(len(all_coords)):\n",
    "        a,b,c,_ = np.asarray(all_coords[idx],dtype=\"int\")\n",
    "        if (a%2) == 0: # If row index is even - this isn't implemented well because it requires iterating through individual rows\n",
    "            all_coord_exp[idx] = np.sin( np.outer( np.arange(c,c+time_seq), pow(10000, (2*np.arange(a,b)/row_length)) ) )\n",
    "        else:\n",
    "            all_coord_exp[idx] = np.cos( np.outer( np.arange(c,c+time_seq), pow(10000, (2*np.arange(a,b)/row_length)) ) )\n",
    "\n",
    "    if 0: #truncate_data:\n",
    "        difficult_coords = all_coord_exp[stop_idx+1:]         \n",
    "        all_coord_exp = all_coord_exp[:stop_idx]        \n",
    "\n",
    "\n",
    "    all_coord_exp.shape    "
   ]
  },
  {
   "cell_type": "code",
   "execution_count": 10,
   "id": "ab1acb17-7dee-417b-97bc-8d0bba4e4cf4",
   "metadata": {},
   "outputs": [
    {
     "name": "stdout",
     "output_type": "stream",
     "text": [
      "Shape of X_train:(1675520, 9, 21)  X_test:(314160, 9, 21)\n",
      "Shape of y_train:(1675520, 1)  y_test:(314160, 1)\n"
     ]
    }
   ],
   "source": [
    "max_class = row_length \n",
    "neigh = 4 # The number of neighbors used for each RowBlock column\n",
    "\n",
    "# Highest class is mapped to row_length+1\n",
    "all_target[all_target == max_class+1 ] = 0\n",
    "\n",
    "\n",
    "shuffle = 1\n",
    "if shuffle:\n",
    "    random.Random(13).shuffle(all_data)\n",
    "    random.Random(13).shuffle(all_target)\n",
    "    #random.Random(13).shuffle(all_coord_exp)\n",
    "    # random.Random(1337).shuffle(all_idx)\n",
    "\n",
    "## Prep data\n",
    "train_size = int(np.floor(0.8*len(all_target)));\n",
    "test_size = int(np.round( 0.15* all_data.shape[0] ))\n",
    "val_size = all_data.shape[0] -train_size - test_size\n",
    "\n",
    "mid_pt = 8\n",
    "\n",
    "\n",
    "x_train = all_data[0:train_size,:]\n",
    "x_train = np.reshape( x_train, (x_train.shape[0],max_class,-1),order ='F' )\n",
    "x_train = x_train[:,:,mid_pt-neigh:mid_pt+neigh+1]\n",
    "# x_train = np.reshape(x_train,(x_train.shape[0],-1))\n",
    "x_train = np.transpose(x_train,(0,2,1))\n",
    "#coords_train = all_coord_exp[0:train_size,:]\n",
    "\n",
    "\n",
    "x_test = all_data[train_size:train_size+test_size,:]\n",
    "x_test = np.reshape( x_test,(x_test.shape[0],max_class,-1),order ='F' )\n",
    "x_test = x_test[:,:,mid_pt-neigh:mid_pt+neigh+1]\n",
    "# x_test = np.reshape(x_test,(x_test.shape[0],-1))\n",
    "x_test = np.transpose(x_test,(0,2,1))\n",
    "#coords_test = all_coord_exp[train_size:train_size+test_size,:]\n",
    "\n",
    "\n",
    "x_val = all_data[-val_size:,:]\n",
    "x_val = np.reshape( x_val,(x_val.shape[0],max_class,-1),order ='F' )\n",
    "x_val = x_val[:,:,mid_pt-neigh:mid_pt+neigh+1]\n",
    "# x_val = np.reshape(x_val,(x_val.shape[0],-1))\n",
    "x_val = np.transpose(x_val,(0,2,1))\n",
    "#coords_val = all_coord_exp[-val_size:,:]\n",
    "\n",
    "\n",
    "y_train = all_target[:train_size]\n",
    "y_test  = all_target[train_size:train_size+test_size]\n",
    "y_val = all_target[-val_size:]\n",
    "\n",
    "var_input_shape = x_train.shape[1:] # 240 columns\n",
    "num_classes = max_class+1 # layers\n",
    "\n",
    "\n",
    "# Convert labels to categorical orthonormal vectors\n",
    "y_train_1hot = tf.keras.utils.to_categorical(y_train, num_classes)\n",
    "y_test_1hot  = tf.keras.utils.to_categorical(y_test, num_classes)\n",
    "\n",
    "print(f'Shape of X_train:{x_train.shape}  X_test:{x_test.shape}')\n",
    "print(f'Shape of y_train:{y_train.shape}  y_test:{y_test.shape}')"
   ]
  },
  {
   "cell_type": "code",
   "execution_count": 11,
   "id": "d4e1d74e-7ca6-41f4-918e-9712adcdce02",
   "metadata": {},
   "outputs": [
    {
     "data": {
      "image/png": "[encoded data removed]",
      "text/plain": [
       "<Figure size 432x288 with 1 Axes>"
      ]
     },
     "metadata": {
      "needs_background": "light"
     },
     "output_type": "display_data"
    },
    {
     "data": {
      "image/png": "[encoded data removed]",
      "text/plain": [
       "<Figure size 432x288 with 1 Axes>"
      ]
     },
     "metadata": {
      "needs_background": "light"
     },
     "output_type": "display_data"
    }
   ],
   "source": [
    "# Show distribution of targets in training and validation set\n",
    "\n",
    "labels, counts = np.unique(y_train, return_counts=True)\n",
    "_ = plt.bar(labels, counts, align='center')\n",
    "_ = plt.gca().set_xticks(labels)\n",
    "_ = plt.title('Distribution of targets in Training set')\n",
    "_ = plt.show()\n",
    "\n",
    "\n",
    "labels, counts = np.unique(y_val, return_counts=True)\n",
    "_ = plt.bar(labels, counts, align='center')\n",
    "_ = plt.gca().set_xticks(labels)\n",
    "_ = plt.title('Distribution of targets in Validation set')\n",
    "_ = plt.show()"
   ]
  },
  {
   "cell_type": "code",
   "execution_count": 12,
   "id": "d2641993-96aa-4d4f-9342-5806258036fa",
   "metadata": {},
   "outputs": [
    {
     "ename": "NameError",
     "evalue": "name 'coords_train' is not defined",
     "output_type": "error",
     "traceback": [
      "\u001b[1;31m---------------------------------------------------------------------------\u001b[0m",
      "\u001b[1;31mNameError\u001b[0m                                 Traceback (most recent call last)",
      "\u001b[1;32m~\\AppData\\Local\\Temp/ipykernel_24456/526119969.py\u001b[0m in \u001b[0;36m<module>\u001b[1;34m\u001b[0m\n\u001b[1;32m----> 1\u001b[1;33m \u001b[0mx_train_new\u001b[0m \u001b[1;33m=\u001b[0m \u001b[0mx_train\u001b[0m \u001b[1;33m+\u001b[0m \u001b[0mcoords_train\u001b[0m\u001b[1;33m\u001b[0m\u001b[1;33m\u001b[0m\u001b[0m\n\u001b[0m\u001b[0;32m      2\u001b[0m \u001b[0mx_test_new\u001b[0m \u001b[1;33m=\u001b[0m \u001b[0mx_test\u001b[0m \u001b[1;33m+\u001b[0m \u001b[0mcoords_test\u001b[0m\u001b[1;33m\u001b[0m\u001b[1;33m\u001b[0m\u001b[0m\n\u001b[0;32m      3\u001b[0m \u001b[0mx_val_new\u001b[0m \u001b[1;33m=\u001b[0m \u001b[0mx_val\u001b[0m \u001b[1;33m+\u001b[0m \u001b[0mcoords_val\u001b[0m\u001b[1;33m\u001b[0m\u001b[1;33m\u001b[0m\u001b[0m\n",
      "\u001b[1;31mNameError\u001b[0m: name 'coords_train' is not defined"
     ]
    }
   ],
   "source": [
    "\n",
    "x_train_new = x_train + coords_train\n",
    "x_test_new = x_test + coords_test\n",
    "x_val_new = x_val + coords_val"
   ]
  },
  {
   "cell_type": "code",
   "execution_count": 13,
   "id": "45833095-8823-4f47-895b-876c2c1b2396",
   "metadata": {},
   "outputs": [
    {
     "name": "stdout",
     "output_type": "stream",
     "text": [
      "Could not get file name: auto-generating name\n",
      "Activation_function not in workspace\n",
      "loss_function not in workspace\n",
      "Accuracy_per_epoch not in workspace\n",
      "Loss_per_epoch not in workspace\n",
      "Stop_time not in workspace\n",
      "Current run hyper_params are dict_keys(['S_N', 'Start_time', 'NoteBook_name', 'Uniqueness_of_each_run', 'Base_dir', 'Train_shape', 'Output_shape', 'num_epochs', 'Activation_function', 'optimizer', 'learning_rate', 'loss_function', 'Accuracy_per_epoch', 'Loss_per_epoch', 'Stop_time', 'Model_config', 'Performance_on_test_set', 'output_path', 'shuffle', 'Computer_name', 'extras']):dict_values([30, '28_January_22_0424', 'LSTM1_RepeatExactly', 'RepeatingExact Olg good config: Increased number of RNN layers and included Conv before LSTM- ', '../../../Python_Env/final_layers_rowblock15_21/filtered_image/new_echo_cnn_in_out_jstars3.mat', (1675520, 9, 21), '', '', '', '', '', '', '', '', '', '', '', '', 1, 'AQ-98JH673', [{'standardize': False}]])\n",
      "Fields to be updated include: ['Activation_function', 'loss_function', 'Accuracy_per_epoch', 'Loss_per_epoch', 'Stop_time', 'Model_config']\n"
     ]
    }
   ],
   "source": [
    "# Populate the param \n",
    "\n",
    "# import sys,importlib\n",
    "#importlib.reload(sys.modules['model_hyper_param_log'])\n",
    "\n",
    "base_path =  r'../../../Python_Env/final_layers_rowblock15_21/filtered_image/new_echo_cnn_in_out_jstars3.mat'\n",
    "log ={}\n",
    "log['Notebook_name'] = ipynbname.name()\n",
    "log['Uniqueness_of_each_run'] = 'RepeatingExact Olg good config: Increased number of RNN layers and included Conv before LSTM- '\n",
    "log['base_dir'] = base_path\n",
    "log['Train_shape'] = x_train.shape\n",
    "log['Output_shape'] = ''\n",
    "log['num_epochs'] = ''\n",
    "log['batch_size'] = ''\n",
    "log['activation_function'] = ''\n",
    "log['optimizer'] = ''\n",
    "log['learning_rate'] = ''\n",
    "log['loss_finction'] = ''\n",
    "log['accuracy'] = []\n",
    "log['loss'] = []\n",
    "log['stop_time'] = ''\n",
    "log['Model_config'] = ''\n",
    "log['Performance_on_test_set'] = ''\n",
    "log['output_path'] = ''  # output: where the trained model is saved\n",
    "log['shuffle'] = shuffle\n",
    "log['run_completion_comment'] = '' # Comment on training and probably evaluation too\n",
    "log['extras'] = [{'standardize':standardize}]\n",
    "\n",
    "\n",
    "from model_hyper_param_log import create_log_entry, update_log_entry\n",
    "if \"log_idx\" in globals():\n",
    "    log[\"S_N\"] = log_idx\n",
    "log_idx = create_log_entry('../testing_sheet2.xlsx', log)"
   ]
  },
  {
   "cell_type": "code",
   "execution_count": null,
   "id": "90eaf02e-ac0c-47ae-93f8-ff9098ad79e8",
   "metadata": {},
   "outputs": [],
   "source": [
    "# Visualize some of the input\n",
    "\n",
    "_ = plt.plot(x_train[200].flatten())\n",
    "_ = plt.title(y_train[200])"
   ]
  },
  {
   "cell_type": "code",
   "execution_count": 14,
   "id": "b709185f-c394-4c52-afa5-75bcf5964ad9",
   "metadata": {
    "tags": []
   },
   "outputs": [
    {
     "name": "stdout",
     "output_type": "stream",
     "text": [
      "WARNING:tensorflow:Layer lstm will not use cuDNN kernels since it doesn't meet the criteria. It will use a generic GPU kernel as fallback when running on GPU.\n",
      "WARNING:tensorflow:Layer lstm_1 will not use cuDNN kernels since it doesn't meet the criteria. It will use a generic GPU kernel as fallback when running on GPU.\n",
      "WARNING:tensorflow:Layer lstm_2 will not use cuDNN kernels since it doesn't meet the criteria. It will use a generic GPU kernel as fallback when running on GPU.\n",
      "Model: \"RowBlockLSTM27_January_22_2325\"\n",
      "__________________________________________________________________________________________________\n",
      "Layer (type)                    Output Shape         Param #     Connected to                     \n",
      "==================================================================================================\n",
      "input_1 (InputLayer)            [(None, 9, 21, 1)]   0                                            \n",
      "__________________________________________________________________________________________________\n",
      "conv2d (Conv2D)                 (None, 9, 21, 32)    320         input_1[0][0]                    \n",
      "__________________________________________________________________________________________________\n",
      "conv2d_1 (Conv2D)               (None, 9, 21, 64)    51264       conv2d[0][0]                     \n",
      "__________________________________________________________________________________________________\n",
      "conv2d_2 (Conv2D)               (None, 9, 21, 64)    102464      conv2d_1[0][0]                   \n",
      "__________________________________________________________________________________________________\n",
      "dropout (Dropout)               (None, 9, 21, 64)    0           conv2d_2[0][0]                   \n",
      "__________________________________________________________________________________________________\n",
      "batch_normalization (BatchNorma (None, 9, 21, 64)    256         dropout[0][0]                    \n",
      "__________________________________________________________________________________________________\n",
      "re_lu (ReLU)                    (None, 9, 21, 64)    0           batch_normalization[0][0]        \n",
      "__________________________________________________________________________________________________\n",
      "conv2d_3 (Conv2D)               (None, 9, 21, 64)    36928       re_lu[0][0]                      \n",
      "__________________________________________________________________________________________________\n",
      "dropout_1 (Dropout)             (None, 9, 21, 64)    0           conv2d_3[0][0]                   \n",
      "__________________________________________________________________________________________________\n",
      "batch_normalization_1 (BatchNor (None, 9, 21, 64)    256         dropout_1[0][0]                  \n",
      "__________________________________________________________________________________________________\n",
      "re_lu_1 (ReLU)                  (None, 9, 21, 64)    0           batch_normalization_1[0][0]      \n",
      "__________________________________________________________________________________________________\n",
      "conv2d_5 (Conv2D)               (None, 9, 21, 64)    36928       re_lu_1[0][0]                    \n",
      "__________________________________________________________________________________________________\n",
      "dropout_3 (Dropout)             (None, 9, 21, 64)    0           conv2d_5[0][0]                   \n",
      "__________________________________________________________________________________________________\n",
      "batch_normalization_3 (BatchNor (None, 9, 21, 64)    256         dropout_3[0][0]                  \n",
      "__________________________________________________________________________________________________\n",
      "re_lu_3 (ReLU)                  (None, 9, 21, 64)    0           batch_normalization_3[0][0]      \n",
      "__________________________________________________________________________________________________\n",
      "add (Add)                       (None, 9, 21, 64)    0           conv2d_1[0][0]                   \n",
      "                                                                 re_lu_3[0][0]                    \n",
      "__________________________________________________________________________________________________\n",
      "re_lu_4 (ReLU)                  (None, 9, 21, 64)    0           add[0][0]                        \n",
      "__________________________________________________________________________________________________\n",
      "conv2d_6 (Conv2D)               (None, 9, 21, 64)    102464      re_lu_4[0][0]                    \n",
      "__________________________________________________________________________________________________\n",
      "conv2d_7 (Conv2D)               (None, 9, 21, 64)    102464      conv2d_6[0][0]                   \n",
      "__________________________________________________________________________________________________\n",
      "dropout_4 (Dropout)             (None, 9, 21, 64)    0           conv2d_7[0][0]                   \n",
      "__________________________________________________________________________________________________\n",
      "batch_normalization_4 (BatchNor (None, 9, 21, 64)    256         dropout_4[0][0]                  \n",
      "__________________________________________________________________________________________________\n",
      "re_lu_5 (ReLU)                  (None, 9, 21, 64)    0           batch_normalization_4[0][0]      \n",
      "__________________________________________________________________________________________________\n",
      "conv2d_8 (Conv2D)               (None, 9, 21, 64)    36928       re_lu_5[0][0]                    \n",
      "__________________________________________________________________________________________________\n",
      "dropout_5 (Dropout)             (None, 9, 21, 64)    0           conv2d_8[0][0]                   \n",
      "__________________________________________________________________________________________________\n",
      "batch_normalization_5 (BatchNor (None, 9, 21, 64)    256         dropout_5[0][0]                  \n",
      "__________________________________________________________________________________________________\n",
      "re_lu_6 (ReLU)                  (None, 9, 21, 64)    0           batch_normalization_5[0][0]      \n",
      "__________________________________________________________________________________________________\n",
      "conv2d_10 (Conv2D)              (None, 9, 21, 64)    36928       re_lu_6[0][0]                    \n",
      "__________________________________________________________________________________________________\n",
      "dropout_7 (Dropout)             (None, 9, 21, 64)    0           conv2d_10[0][0]                  \n",
      "__________________________________________________________________________________________________\n",
      "batch_normalization_7 (BatchNor (None, 9, 21, 64)    256         dropout_7[0][0]                  \n",
      "__________________________________________________________________________________________________\n",
      "re_lu_8 (ReLU)                  (None, 9, 21, 64)    0           batch_normalization_7[0][0]      \n",
      "__________________________________________________________________________________________________\n",
      "add_1 (Add)                     (None, 9, 21, 64)    0           conv2d_6[0][0]                   \n",
      "                                                                 re_lu_8[0][0]                    \n",
      "__________________________________________________________________________________________________\n",
      "re_lu_9 (ReLU)                  (None, 9, 21, 64)    0           add_1[0][0]                      \n",
      "__________________________________________________________________________________________________\n",
      "conv2d_11 (Conv2D)              (None, 9, 21, 64)    102464      re_lu_9[0][0]                    \n",
      "__________________________________________________________________________________________________\n",
      "conv2d_12 (Conv2D)              (None, 9, 21, 64)    102464      conv2d_11[0][0]                  \n",
      "__________________________________________________________________________________________________\n",
      "dropout_8 (Dropout)             (None, 9, 21, 64)    0           conv2d_12[0][0]                  \n",
      "__________________________________________________________________________________________________\n",
      "batch_normalization_8 (BatchNor (None, 9, 21, 64)    256         dropout_8[0][0]                  \n",
      "__________________________________________________________________________________________________\n",
      "re_lu_10 (ReLU)                 (None, 9, 21, 64)    0           batch_normalization_8[0][0]      \n",
      "__________________________________________________________________________________________________\n",
      "conv2d_13 (Conv2D)              (None, 9, 21, 64)    36928       re_lu_10[0][0]                   \n",
      "__________________________________________________________________________________________________\n",
      "dropout_9 (Dropout)             (None, 9, 21, 64)    0           conv2d_13[0][0]                  \n",
      "__________________________________________________________________________________________________\n",
      "batch_normalization_9 (BatchNor (None, 9, 21, 64)    256         dropout_9[0][0]                  \n",
      "__________________________________________________________________________________________________\n",
      "re_lu_11 (ReLU)                 (None, 9, 21, 64)    0           batch_normalization_9[0][0]      \n",
      "__________________________________________________________________________________________________\n",
      "conv2d_15 (Conv2D)              (None, 9, 21, 64)    36928       re_lu_11[0][0]                   \n",
      "__________________________________________________________________________________________________\n",
      "dropout_11 (Dropout)            (None, 9, 21, 64)    0           conv2d_15[0][0]                  \n",
      "__________________________________________________________________________________________________\n",
      "batch_normalization_11 (BatchNo (None, 9, 21, 64)    256         dropout_11[0][0]                 \n",
      "__________________________________________________________________________________________________\n",
      "re_lu_13 (ReLU)                 (None, 9, 21, 64)    0           batch_normalization_11[0][0]     \n",
      "__________________________________________________________________________________________________\n",
      "add_2 (Add)                     (None, 9, 21, 64)    0           conv2d_11[0][0]                  \n",
      "                                                                 re_lu_13[0][0]                   \n",
      "__________________________________________________________________________________________________\n",
      "re_lu_14 (ReLU)                 (None, 9, 21, 64)    0           add_2[0][0]                      \n",
      "__________________________________________________________________________________________________\n",
      "conv2d_16 (Conv2D)              (None, 9, 21, 64)    102464      re_lu_14[0][0]                   \n",
      "__________________________________________________________________________________________________\n",
      "conv2d_17 (Conv2D)              (None, 9, 21, 64)    102464      conv2d_16[0][0]                  \n",
      "__________________________________________________________________________________________________\n",
      "dropout_12 (Dropout)            (None, 9, 21, 64)    0           conv2d_17[0][0]                  \n",
      "__________________________________________________________________________________________________\n",
      "batch_normalization_12 (BatchNo (None, 9, 21, 64)    256         dropout_12[0][0]                 \n",
      "__________________________________________________________________________________________________\n",
      "re_lu_15 (ReLU)                 (None, 9, 21, 64)    0           batch_normalization_12[0][0]     \n",
      "__________________________________________________________________________________________________\n",
      "conv2d_18 (Conv2D)              (None, 9, 21, 64)    36928       re_lu_15[0][0]                   \n",
      "__________________________________________________________________________________________________\n",
      "dropout_13 (Dropout)            (None, 9, 21, 64)    0           conv2d_18[0][0]                  \n",
      "__________________________________________________________________________________________________\n",
      "batch_normalization_13 (BatchNo (None, 9, 21, 64)    256         dropout_13[0][0]                 \n",
      "__________________________________________________________________________________________________\n",
      "re_lu_16 (ReLU)                 (None, 9, 21, 64)    0           batch_normalization_13[0][0]     \n",
      "__________________________________________________________________________________________________\n",
      "conv2d_20 (Conv2D)              (None, 9, 21, 64)    36928       re_lu_16[0][0]                   \n",
      "__________________________________________________________________________________________________\n",
      "dropout_15 (Dropout)            (None, 9, 21, 64)    0           conv2d_20[0][0]                  \n",
      "__________________________________________________________________________________________________\n",
      "batch_normalization_15 (BatchNo (None, 9, 21, 64)    256         dropout_15[0][0]                 \n",
      "__________________________________________________________________________________________________\n",
      "re_lu_18 (ReLU)                 (None, 9, 21, 64)    0           batch_normalization_15[0][0]     \n",
      "__________________________________________________________________________________________________\n",
      "add_3 (Add)                     (None, 9, 21, 64)    0           conv2d_16[0][0]                  \n",
      "                                                                 re_lu_18[0][0]                   \n",
      "__________________________________________________________________________________________________\n",
      "re_lu_19 (ReLU)                 (None, 9, 21, 64)    0           add_3[0][0]                      \n",
      "__________________________________________________________________________________________________\n",
      "conv2d_21 (Conv2D)              (None, 9, 21, 64)    102464      re_lu_19[0][0]                   \n",
      "__________________________________________________________________________________________________\n",
      "conv2d_22 (Conv2D)              (None, 9, 21, 64)    102464      conv2d_21[0][0]                  \n",
      "__________________________________________________________________________________________________\n",
      "dropout_16 (Dropout)            (None, 9, 21, 64)    0           conv2d_22[0][0]                  \n",
      "__________________________________________________________________________________________________\n",
      "batch_normalization_16 (BatchNo (None, 9, 21, 64)    256         dropout_16[0][0]                 \n",
      "__________________________________________________________________________________________________\n",
      "re_lu_20 (ReLU)                 (None, 9, 21, 64)    0           batch_normalization_16[0][0]     \n",
      "__________________________________________________________________________________________________\n",
      "conv2d_23 (Conv2D)              (None, 9, 21, 64)    36928       re_lu_20[0][0]                   \n",
      "__________________________________________________________________________________________________\n",
      "dropout_17 (Dropout)            (None, 9, 21, 64)    0           conv2d_23[0][0]                  \n",
      "__________________________________________________________________________________________________\n",
      "batch_normalization_17 (BatchNo (None, 9, 21, 64)    256         dropout_17[0][0]                 \n",
      "__________________________________________________________________________________________________\n",
      "re_lu_21 (ReLU)                 (None, 9, 21, 64)    0           batch_normalization_17[0][0]     \n",
      "__________________________________________________________________________________________________\n",
      "conv2d_25 (Conv2D)              (None, 9, 21, 64)    36928       re_lu_21[0][0]                   \n",
      "__________________________________________________________________________________________________\n",
      "dropout_19 (Dropout)            (None, 9, 21, 64)    0           conv2d_25[0][0]                  \n",
      "__________________________________________________________________________________________________\n",
      "batch_normalization_19 (BatchNo (None, 9, 21, 64)    256         dropout_19[0][0]                 \n",
      "__________________________________________________________________________________________________\n",
      "re_lu_23 (ReLU)                 (None, 9, 21, 64)    0           batch_normalization_19[0][0]     \n",
      "__________________________________________________________________________________________________\n",
      "add_4 (Add)                     (None, 9, 21, 64)    0           conv2d_21[0][0]                  \n",
      "                                                                 re_lu_23[0][0]                   \n",
      "__________________________________________________________________________________________________\n",
      "re_lu_24 (ReLU)                 (None, 9, 21, 64)    0           add_4[0][0]                      \n",
      "__________________________________________________________________________________________________\n",
      "tf.math.reduce_sum (TFOpLambda) (None, 9, 21)        0           re_lu_24[0][0]                   \n",
      "__________________________________________________________________________________________________\n",
      "lstm (LSTM)                     (None, 9, 512)       1093632     tf.math.reduce_sum[0][0]         \n",
      "__________________________________________________________________________________________________\n",
      "lstm_1 (LSTM)                   (None, 9, 512)       2099200     lstm[0][0]                       \n",
      "__________________________________________________________________________________________________\n",
      "lstm_2 (LSTM)                   (None, 64)           147712      lstm_1[0][0]                     \n",
      "__________________________________________________________________________________________________\n",
      "dense (Dense)                   (None, 512)          33280       lstm_2[0][0]                     \n",
      "__________________________________________________________________________________________________\n",
      "dropout_20 (Dropout)            (None, 512)          0           dense[0][0]                      \n",
      "__________________________________________________________________________________________________\n",
      "dense_1 (Dense)                 (None, 22)           11286       dropout_20[0][0]                 \n",
      "==================================================================================================\n",
      "Total params: 4,731,990\n",
      "Trainable params: 4,730,070\n",
      "Non-trainable params: 1,920\n",
      "__________________________________________________________________________________________________\n",
      "Training start time:28_January_22_0424\n",
      "Epoch 1/100\n",
      "2291/2291 [==============================] - 2259s 976ms/step - loss: 1.8918 - accuracy: 0.5560 - top-3-accuracy: 0.8728 - val_loss: 1.8169 - val_accuracy: 0.6039 - val_top-3-accuracy: 0.9046\n"
     ]
    },
    {
     "name": "stderr",
     "output_type": "stream",
     "text": [
      "C:\\Users\\i368o351\\.conda\\envs\\ibk_tf_2.6\\lib\\site-packages\\keras\\utils\\generic_utils.py:494: CustomMaskWarning: Custom mask layers require a config and must override get_config. When loading, the custom mask layer must be passed to the custom_objects argument.\n",
      "  warnings.warn('Custom mask layers require a config and must override '\n"
     ]
    },
    {
     "name": "stdout",
     "output_type": "stream",
     "text": [
      "Epoch 2/100\n",
      "2291/2291 [==============================] - 2234s 975ms/step - loss: 1.7108 - accuracy: 0.6366 - top-3-accuracy: 0.9391 - val_loss: 1.7734 - val_accuracy: 0.6275 - val_top-3-accuracy: 0.9143\n",
      "Epoch 3/100\n",
      "2291/2291 [==============================] - 2232s 974ms/step - loss: 1.6802 - accuracy: 0.6523 - top-3-accuracy: 0.9450 - val_loss: 1.8515 - val_accuracy: 0.5936 - val_top-3-accuracy: 0.9025\n",
      "Epoch 4/100\n",
      "2291/2291 [==============================] - 2230s 973ms/step - loss: 1.6620 - accuracy: 0.6613 - top-3-accuracy: 0.9484 - val_loss: 1.7517 - val_accuracy: 0.6376 - val_top-3-accuracy: 0.9210\n",
      "Epoch 5/100\n",
      "2291/2291 [==============================] - 2225s 971ms/step - loss: 1.6504 - accuracy: 0.6683 - top-3-accuracy: 0.9507 - val_loss: 1.7537 - val_accuracy: 0.6393 - val_top-3-accuracy: 0.9218\n",
      "Epoch 6/100\n",
      "2291/2291 [==============================] - 2229s 973ms/step - loss: 1.6482 - accuracy: 0.6683 - top-3-accuracy: 0.9514 - val_loss: 1.8168 - val_accuracy: 0.6058 - val_top-3-accuracy: 0.9092\n",
      "Epoch 7/100\n",
      "2291/2291 [==============================] - 2225s 972ms/step - loss: 1.6584 - accuracy: 0.6630 - top-3-accuracy: 0.9500 - val_loss: 1.7723 - val_accuracy: 0.6310 - val_top-3-accuracy: 0.9165\n",
      "Epoch 8/100\n",
      "2291/2291 [==============================] - 2228s 973ms/step - loss: 1.6530 - accuracy: 0.6664 - top-3-accuracy: 0.9504 - val_loss: 1.7296 - val_accuracy: 0.6513 - val_top-3-accuracy: 0.9249\n",
      "Epoch 9/100\n",
      "2291/2291 [==============================] - 2238s 977ms/step - loss: 1.6138 - accuracy: 0.6880 - top-3-accuracy: 0.9566 - val_loss: 1.7162 - val_accuracy: 0.6580 - val_top-3-accuracy: 0.9278\n",
      "Epoch 10/100\n",
      "2291/2291 [==============================] - 2232s 974ms/step - loss: 1.6021 - accuracy: 0.6955 - top-3-accuracy: 0.9580 - val_loss: 1.7112 - val_accuracy: 0.6605 - val_top-3-accuracy: 0.9294\n",
      "Epoch 11/100\n",
      "2291/2291 [==============================] - 2233s 975ms/step - loss: 1.5937 - accuracy: 0.7004 - top-3-accuracy: 0.9591 - val_loss: 1.7092 - val_accuracy: 0.6630 - val_top-3-accuracy: 0.9296\n",
      "Epoch 12/100\n",
      "2291/2291 [==============================] - 2225s 972ms/step - loss: 1.5863 - accuracy: 0.7057 - top-3-accuracy: 0.9600 - val_loss: 1.7057 - val_accuracy: 0.6662 - val_top-3-accuracy: 0.9306\n",
      "Epoch 13/100\n",
      "2291/2291 [==============================] - 2221s 970ms/step - loss: 1.5787 - accuracy: 0.7107 - top-3-accuracy: 0.9608 - val_loss: 1.7014 - val_accuracy: 0.6689 - val_top-3-accuracy: 0.9300\n",
      "Epoch 14/100\n",
      "2291/2291 [==============================] - 2229s 972ms/step - loss: 1.5727 - accuracy: 0.7149 - top-3-accuracy: 0.9614 - val_loss: 1.6987 - val_accuracy: 0.6719 - val_top-3-accuracy: 0.9308\n",
      "Epoch 15/100\n",
      "2291/2291 [==============================] - 2228s 973ms/step - loss: 1.5664 - accuracy: 0.7186 - top-3-accuracy: 0.9620 - val_loss: 1.6975 - val_accuracy: 0.6726 - val_top-3-accuracy: 0.9311\n",
      "Epoch 16/100\n",
      "2291/2291 [==============================] - 2234s 975ms/step - loss: 1.5603 - accuracy: 0.7223 - top-3-accuracy: 0.9626 - val_loss: 1.6998 - val_accuracy: 0.6743 - val_top-3-accuracy: 0.9304\n",
      "Epoch 17/100\n",
      "2291/2291 [==============================] - 2228s 973ms/step - loss: 1.5544 - accuracy: 0.7262 - top-3-accuracy: 0.9634 - val_loss: 1.6979 - val_accuracy: 0.6750 - val_top-3-accuracy: 0.9307\n",
      "Epoch 18/100\n",
      "2291/2291 [==============================] - 2229s 972ms/step - loss: 1.5485 - accuracy: 0.7299 - top-3-accuracy: 0.9640 - val_loss: 1.6904 - val_accuracy: 0.6786 - val_top-3-accuracy: 0.9318\n",
      "Epoch 19/100\n",
      "2291/2291 [==============================] - 2224s 971ms/step - loss: 1.5431 - accuracy: 0.7338 - top-3-accuracy: 0.9645 - val_loss: 1.6864 - val_accuracy: 0.6831 - val_top-3-accuracy: 0.9329\n",
      "Epoch 20/100\n",
      "2291/2291 [==============================] - 2227s 973ms/step - loss: 1.5380 - accuracy: 0.7366 - top-3-accuracy: 0.9651 - val_loss: 1.6818 - val_accuracy: 0.6849 - val_top-3-accuracy: 0.9328\n",
      "Epoch 21/100\n",
      "2291/2291 [==============================] - 2214s 967ms/step - loss: 1.5327 - accuracy: 0.7401 - top-3-accuracy: 0.9657 - val_loss: 1.6793 - val_accuracy: 0.6865 - val_top-3-accuracy: 0.9332\n",
      "Epoch 22/100\n",
      "2291/2291 [==============================] - 1967s 859ms/step - loss: 1.5281 - accuracy: 0.7427 - top-3-accuracy: 0.9662 - val_loss: 1.6810 - val_accuracy: 0.6860 - val_top-3-accuracy: 0.9326\n",
      "Epoch 23/100\n",
      "2291/2291 [==============================] - 537s 235ms/step - loss: 1.5223 - accuracy: 0.7467 - top-3-accuracy: 0.9670 - val_loss: 1.6745 - val_accuracy: 0.6918 - val_top-3-accuracy: 0.9342\n",
      "Epoch 24/100\n",
      "2291/2291 [==============================] - 539s 235ms/step - loss: 1.5193 - accuracy: 0.7487 - top-3-accuracy: 0.9670 - val_loss: 1.6743 - val_accuracy: 0.6906 - val_top-3-accuracy: 0.9345\n",
      "Epoch 25/100\n",
      "2291/2291 [==============================] - 536s 234ms/step - loss: 1.5138 - accuracy: 0.7517 - top-3-accuracy: 0.9676 - val_loss: 1.6710 - val_accuracy: 0.6927 - val_top-3-accuracy: 0.9340\n",
      "Epoch 26/100\n",
      "2291/2291 [==============================] - 540s 236ms/step - loss: 1.5101 - accuracy: 0.7544 - top-3-accuracy: 0.9681 - val_loss: 1.6768 - val_accuracy: 0.6911 - val_top-3-accuracy: 0.9330\n",
      "Epoch 27/100\n",
      "2291/2291 [==============================] - 532s 232ms/step - loss: 1.5054 - accuracy: 0.7575 - top-3-accuracy: 0.9688 - val_loss: 1.6801 - val_accuracy: 0.6898 - val_top-3-accuracy: 0.9329\n",
      "Epoch 28/100\n",
      "2291/2291 [==============================] - 539s 235ms/step - loss: 1.4992 - accuracy: 0.7611 - top-3-accuracy: 0.9694 - val_loss: 1.6614 - val_accuracy: 0.7016 - val_top-3-accuracy: 0.9354\n",
      "Epoch 29/100\n",
      "2291/2291 [==============================] - 546s 238ms/step - loss: 1.4967 - accuracy: 0.7627 - top-3-accuracy: 0.9697 - val_loss: 1.6642 - val_accuracy: 0.7006 - val_top-3-accuracy: 0.9349\n",
      "Epoch 30/100\n",
      "2291/2291 [==============================] - 541s 236ms/step - loss: 1.4928 - accuracy: 0.7653 - top-3-accuracy: 0.9700 - val_loss: 1.6676 - val_accuracy: 0.6973 - val_top-3-accuracy: 0.9340\n",
      "Epoch 31/100\n",
      "2291/2291 [==============================] - 534s 233ms/step - loss: 1.4907 - accuracy: 0.7661 - top-3-accuracy: 0.9704 - val_loss: 1.6685 - val_accuracy: 0.6987 - val_top-3-accuracy: 0.9340\n",
      "Epoch 32/100\n",
      "2291/2291 [==============================] - 537s 234ms/step - loss: 1.4680 - accuracy: 0.7806 - top-3-accuracy: 0.9725 - val_loss: 1.6446 - val_accuracy: 0.7143 - val_top-3-accuracy: 0.9363\n",
      "Epoch 33/100\n",
      "2291/2291 [==============================] - 538s 235ms/step - loss: 1.4568 - accuracy: 0.7883 - top-3-accuracy: 0.9735 - val_loss: 1.6450 - val_accuracy: 0.7148 - val_top-3-accuracy: 0.9360\n",
      "Epoch 34/100\n",
      "2291/2291 [==============================] - 538s 235ms/step - loss: 1.4529 - accuracy: 0.7908 - top-3-accuracy: 0.9737 - val_loss: 1.6414 - val_accuracy: 0.7182 - val_top-3-accuracy: 0.9362\n",
      "Epoch 35/100\n",
      "2291/2291 [==============================] - 532s 232ms/step - loss: 1.4501 - accuracy: 0.7923 - top-3-accuracy: 0.9741 - val_loss: 1.6437 - val_accuracy: 0.7172 - val_top-3-accuracy: 0.9361\n",
      "Epoch 36/100\n",
      "2291/2291 [==============================] - 538s 235ms/step - loss: 1.4469 - accuracy: 0.7946 - top-3-accuracy: 0.9744 - val_loss: 1.6389 - val_accuracy: 0.7203 - val_top-3-accuracy: 0.9364\n",
      "Epoch 37/100\n",
      "2291/2291 [==============================] - 538s 235ms/step - loss: 1.4452 - accuracy: 0.7958 - top-3-accuracy: 0.9745 - val_loss: 1.6407 - val_accuracy: 0.7186 - val_top-3-accuracy: 0.9364\n",
      "Epoch 38/100\n",
      "2291/2291 [==============================] - 536s 234ms/step - loss: 1.4426 - accuracy: 0.7978 - top-3-accuracy: 0.9747 - val_loss: 1.6352 - val_accuracy: 0.7234 - val_top-3-accuracy: 0.9365\n",
      "Epoch 39/100\n",
      "2291/2291 [==============================] - 537s 235ms/step - loss: 1.4408 - accuracy: 0.7988 - top-3-accuracy: 0.9751 - val_loss: 1.6355 - val_accuracy: 0.7238 - val_top-3-accuracy: 0.9361\n",
      "Epoch 40/100\n",
      "2291/2291 [==============================] - 536s 234ms/step - loss: 1.4385 - accuracy: 0.8004 - top-3-accuracy: 0.9752 - val_loss: 1.6341 - val_accuracy: 0.7239 - val_top-3-accuracy: 0.9367\n",
      "Epoch 41/100\n",
      "2291/2291 [==============================] - 538s 235ms/step - loss: 1.4360 - accuracy: 0.8018 - top-3-accuracy: 0.9756 - val_loss: 1.6343 - val_accuracy: 0.7242 - val_top-3-accuracy: 0.9365\n",
      "Epoch 42/100\n",
      "2291/2291 [==============================] - 535s 234ms/step - loss: 1.4344 - accuracy: 0.8029 - top-3-accuracy: 0.9758 - val_loss: 1.6347 - val_accuracy: 0.7252 - val_top-3-accuracy: 0.9364\n",
      "Epoch 43/100\n",
      "2291/2291 [==============================] - 536s 234ms/step - loss: 1.4322 - accuracy: 0.8041 - top-3-accuracy: 0.9759 - val_loss: 1.6312 - val_accuracy: 0.7268 - val_top-3-accuracy: 0.9367\n",
      "Epoch 44/100\n",
      "2291/2291 [==============================] - 538s 235ms/step - loss: 1.4304 - accuracy: 0.8055 - top-3-accuracy: 0.9761 - val_loss: 1.6369 - val_accuracy: 0.7235 - val_top-3-accuracy: 0.9363\n",
      "Epoch 45/100\n",
      "2291/2291 [==============================] - 537s 235ms/step - loss: 1.4290 - accuracy: 0.8062 - top-3-accuracy: 0.9764 - val_loss: 1.6308 - val_accuracy: 0.7279 - val_top-3-accuracy: 0.9365\n",
      "Epoch 46/100\n",
      "2291/2291 [==============================] - 540s 236ms/step - loss: 1.4268 - accuracy: 0.8075 - top-3-accuracy: 0.9765 - val_loss: 1.6327 - val_accuracy: 0.7276 - val_top-3-accuracy: 0.9365\n",
      "Epoch 47/100\n",
      "2291/2291 [==============================] - 533s 233ms/step - loss: 1.4253 - accuracy: 0.8088 - top-3-accuracy: 0.9767 - val_loss: 1.6269 - val_accuracy: 0.7309 - val_top-3-accuracy: 0.9369\n",
      "Epoch 48/100\n",
      "2291/2291 [==============================] - 539s 235ms/step - loss: 1.4235 - accuracy: 0.8101 - top-3-accuracy: 0.9768 - val_loss: 1.6280 - val_accuracy: 0.7303 - val_top-3-accuracy: 0.9364\n",
      "Epoch 49/100\n",
      "2291/2291 [==============================] - 537s 234ms/step - loss: 1.4212 - accuracy: 0.8114 - top-3-accuracy: 0.9770 - val_loss: 1.6291 - val_accuracy: 0.7308 - val_top-3-accuracy: 0.9370\n",
      "Epoch 50/100\n",
      "2291/2291 [==============================] - 532s 232ms/step - loss: 1.4199 - accuracy: 0.8126 - top-3-accuracy: 0.9773 - val_loss: 1.6276 - val_accuracy: 0.7310 - val_top-3-accuracy: 0.9369\n",
      "Epoch 51/100\n",
      "2291/2291 [==============================] - 533s 233ms/step - loss: 1.4179 - accuracy: 0.8133 - top-3-accuracy: 0.9775 - val_loss: 1.6268 - val_accuracy: 0.7316 - val_top-3-accuracy: 0.9369\n",
      "Epoch 52/100\n",
      "2291/2291 [==============================] - 535s 234ms/step - loss: 1.4164 - accuracy: 0.8143 - top-3-accuracy: 0.9777 - val_loss: 1.6281 - val_accuracy: 0.7313 - val_top-3-accuracy: 0.9367\n",
      "Epoch 53/100\n",
      "2291/2291 [==============================] - 533s 233ms/step - loss: 1.4144 - accuracy: 0.8156 - top-3-accuracy: 0.9779 - val_loss: 1.6248 - val_accuracy: 0.7338 - val_top-3-accuracy: 0.9369\n",
      "Epoch 54/100\n",
      "2291/2291 [==============================] - 538s 235ms/step - loss: 1.4132 - accuracy: 0.8165 - top-3-accuracy: 0.9780 - val_loss: 1.6245 - val_accuracy: 0.7342 - val_top-3-accuracy: 0.9367\n",
      "Epoch 55/100\n",
      "2291/2291 [==============================] - 537s 235ms/step - loss: 1.4112 - accuracy: 0.8175 - top-3-accuracy: 0.9782 - val_loss: 1.6245 - val_accuracy: 0.7347 - val_top-3-accuracy: 0.9367\n",
      "Epoch 56/100\n",
      "2291/2291 [==============================] - 539s 235ms/step - loss: 1.4095 - accuracy: 0.8190 - top-3-accuracy: 0.9784 - val_loss: 1.6242 - val_accuracy: 0.7348 - val_top-3-accuracy: 0.9364\n",
      "Epoch 57/100\n",
      "2291/2291 [==============================] - 541s 236ms/step - loss: 1.4071 - accuracy: 0.8204 - top-3-accuracy: 0.9786 - val_loss: 1.6229 - val_accuracy: 0.7351 - val_top-3-accuracy: 0.9364\n",
      "Epoch 58/100\n",
      "2291/2291 [==============================] - 540s 236ms/step - loss: 1.4063 - accuracy: 0.8208 - top-3-accuracy: 0.9787 - val_loss: 1.6299 - val_accuracy: 0.7328 - val_top-3-accuracy: 0.9357\n",
      "Epoch 59/100\n",
      "2291/2291 [==============================] - 537s 234ms/step - loss: 1.4044 - accuracy: 0.8220 - top-3-accuracy: 0.9789 - val_loss: 1.6218 - val_accuracy: 0.7363 - val_top-3-accuracy: 0.9366\n",
      "Epoch 60/100\n",
      "2291/2291 [==============================] - 539s 235ms/step - loss: 1.4027 - accuracy: 0.8231 - top-3-accuracy: 0.9791 - val_loss: 1.6234 - val_accuracy: 0.7372 - val_top-3-accuracy: 0.9364\n",
      "Epoch 61/100\n",
      "2291/2291 [==============================] - 537s 234ms/step - loss: 1.4009 - accuracy: 0.8245 - top-3-accuracy: 0.9792 - val_loss: 1.6237 - val_accuracy: 0.7356 - val_top-3-accuracy: 0.9370\n",
      "Epoch 62/100\n",
      "2291/2291 [==============================] - 538s 235ms/step - loss: 1.3994 - accuracy: 0.8254 - top-3-accuracy: 0.9795 - val_loss: 1.6255 - val_accuracy: 0.7358 - val_top-3-accuracy: 0.9363\n",
      "Epoch 63/100\n",
      "2291/2291 [==============================] - 538s 235ms/step - loss: 1.3981 - accuracy: 0.8261 - top-3-accuracy: 0.9795 - val_loss: 1.6172 - val_accuracy: 0.7409 - val_top-3-accuracy: 0.9362\n",
      "Epoch 64/100\n",
      "2291/2291 [==============================] - 536s 234ms/step - loss: 1.3965 - accuracy: 0.8271 - top-3-accuracy: 0.9797 - val_loss: 1.6233 - val_accuracy: 0.7377 - val_top-3-accuracy: 0.9364\n",
      "Epoch 65/100\n",
      "2291/2291 [==============================] - 536s 234ms/step - loss: 1.3943 - accuracy: 0.8284 - top-3-accuracy: 0.9800 - val_loss: 1.6206 - val_accuracy: 0.7394 - val_top-3-accuracy: 0.9366\n",
      "Epoch 66/100\n",
      "2291/2291 [==============================] - 539s 235ms/step - loss: 1.3936 - accuracy: 0.8288 - top-3-accuracy: 0.9801 - val_loss: 1.6178 - val_accuracy: 0.7412 - val_top-3-accuracy: 0.9366\n",
      "Epoch 67/100\n",
      "2291/2291 [==============================] - 539s 235ms/step - loss: 1.3921 - accuracy: 0.8300 - top-3-accuracy: 0.9803 - val_loss: 1.6194 - val_accuracy: 0.7407 - val_top-3-accuracy: 0.9361\n",
      "Epoch 68/100\n",
      "2291/2291 [==============================] - 536s 234ms/step - loss: 1.3901 - accuracy: 0.8312 - top-3-accuracy: 0.9805 - val_loss: 1.6162 - val_accuracy: 0.7423 - val_top-3-accuracy: 0.9367\n",
      "Epoch 69/100\n",
      "2291/2291 [==============================] - 537s 235ms/step - loss: 1.3887 - accuracy: 0.8319 - top-3-accuracy: 0.9805 - val_loss: 1.6225 - val_accuracy: 0.7389 - val_top-3-accuracy: 0.9365\n",
      "Epoch 70/100\n",
      "2291/2291 [==============================] - 542s 236ms/step - loss: 1.3875 - accuracy: 0.8331 - top-3-accuracy: 0.9807 - val_loss: 1.6149 - val_accuracy: 0.7442 - val_top-3-accuracy: 0.9366\n",
      "Epoch 71/100\n",
      "2291/2291 [==============================] - 539s 235ms/step - loss: 1.3850 - accuracy: 0.8343 - top-3-accuracy: 0.9809 - val_loss: 1.6160 - val_accuracy: 0.7426 - val_top-3-accuracy: 0.9363\n",
      "Epoch 72/100\n",
      "2291/2291 [==============================] - 535s 234ms/step - loss: 1.3843 - accuracy: 0.8347 - top-3-accuracy: 0.9813 - val_loss: 1.6129 - val_accuracy: 0.7450 - val_top-3-accuracy: 0.9367\n",
      "Epoch 73/100\n",
      "2291/2291 [==============================] - 539s 235ms/step - loss: 1.3814 - accuracy: 0.8368 - top-3-accuracy: 0.9814 - val_loss: 1.6159 - val_accuracy: 0.7439 - val_top-3-accuracy: 0.9364\n",
      "Epoch 74/100\n",
      "2291/2291 [==============================] - 535s 234ms/step - loss: 1.3803 - accuracy: 0.8374 - top-3-accuracy: 0.9814 - val_loss: 1.6133 - val_accuracy: 0.7456 - val_top-3-accuracy: 0.9369\n",
      "Epoch 75/100\n",
      "2291/2291 [==============================] - 539s 235ms/step - loss: 1.3781 - accuracy: 0.8390 - top-3-accuracy: 0.9815 - val_loss: 1.6105 - val_accuracy: 0.7474 - val_top-3-accuracy: 0.9372\n",
      "Epoch 76/100\n",
      "2291/2291 [==============================] - 541s 236ms/step - loss: 1.3771 - accuracy: 0.8394 - top-3-accuracy: 0.9819 - val_loss: 1.6133 - val_accuracy: 0.7461 - val_top-3-accuracy: 0.9365\n",
      "Epoch 77/100\n",
      "2291/2291 [==============================] - 536s 234ms/step - loss: 1.3753 - accuracy: 0.8407 - top-3-accuracy: 0.9819 - val_loss: 1.6081 - val_accuracy: 0.7498 - val_top-3-accuracy: 0.9378\n",
      "Epoch 78/100\n",
      "2291/2291 [==============================] - 536s 234ms/step - loss: 1.3747 - accuracy: 0.8410 - top-3-accuracy: 0.9820 - val_loss: 1.6145 - val_accuracy: 0.7452 - val_top-3-accuracy: 0.9370\n",
      "Epoch 79/100\n",
      "2291/2291 [==============================] - 536s 234ms/step - loss: 1.3731 - accuracy: 0.8420 - top-3-accuracy: 0.9822 - val_loss: 1.6094 - val_accuracy: 0.7490 - val_top-3-accuracy: 0.9366\n",
      "Epoch 80/100\n",
      "2291/2291 [==============================] - 533s 232ms/step - loss: 1.3711 - accuracy: 0.8430 - top-3-accuracy: 0.9826 - val_loss: 1.6125 - val_accuracy: 0.7471 - val_top-3-accuracy: 0.9367\n",
      "Epoch 81/100\n",
      "2291/2291 [==============================] - 536s 234ms/step - loss: 1.3701 - accuracy: 0.8437 - top-3-accuracy: 0.9826 - val_loss: 1.6074 - val_accuracy: 0.7502 - val_top-3-accuracy: 0.9372\n",
      "Epoch 82/100\n",
      "2291/2291 [==============================] - 538s 235ms/step - loss: 1.3685 - accuracy: 0.8447 - top-3-accuracy: 0.9828 - val_loss: 1.6104 - val_accuracy: 0.7486 - val_top-3-accuracy: 0.9366\n",
      "Epoch 83/100\n",
      "2291/2291 [==============================] - 535s 234ms/step - loss: 1.3667 - accuracy: 0.8462 - top-3-accuracy: 0.9829 - val_loss: 1.6066 - val_accuracy: 0.7511 - val_top-3-accuracy: 0.9372\n",
      "Epoch 84/100\n",
      "2291/2291 [==============================] - 540s 236ms/step - loss: 1.3653 - accuracy: 0.8469 - top-3-accuracy: 0.9831 - val_loss: 1.6053 - val_accuracy: 0.7527 - val_top-3-accuracy: 0.9367\n",
      "Epoch 85/100\n",
      "2291/2291 [==============================] - 537s 234ms/step - loss: 1.3646 - accuracy: 0.8470 - top-3-accuracy: 0.9831 - val_loss: 1.6078 - val_accuracy: 0.7500 - val_top-3-accuracy: 0.9369\n",
      "Epoch 86/100\n",
      "2291/2291 [==============================] - 536s 234ms/step - loss: 1.3623 - accuracy: 0.8486 - top-3-accuracy: 0.9833 - val_loss: 1.6075 - val_accuracy: 0.7510 - val_top-3-accuracy: 0.9365\n",
      "Epoch 87/100\n",
      "2291/2291 [==============================] - 534s 233ms/step - loss: 1.3609 - accuracy: 0.8498 - top-3-accuracy: 0.9833 - val_loss: 1.6055 - val_accuracy: 0.7526 - val_top-3-accuracy: 0.9369\n",
      "Epoch 88/100\n",
      "2291/2291 [==============================] - 537s 234ms/step - loss: 1.3592 - accuracy: 0.8506 - top-3-accuracy: 0.9836 - val_loss: 1.6046 - val_accuracy: 0.7546 - val_top-3-accuracy: 0.9367\n",
      "Epoch 89/100\n",
      "2291/2291 [==============================] - 536s 234ms/step - loss: 1.3580 - accuracy: 0.8512 - top-3-accuracy: 0.9837 - val_loss: 1.6089 - val_accuracy: 0.7520 - val_top-3-accuracy: 0.9362\n",
      "Epoch 90/100\n",
      "2291/2291 [==============================] - 537s 235ms/step - loss: 1.3563 - accuracy: 0.8524 - top-3-accuracy: 0.9839 - val_loss: 1.6077 - val_accuracy: 0.7524 - val_top-3-accuracy: 0.9357\n",
      "Epoch 91/100\n",
      "2291/2291 [==============================] - 541s 236ms/step - loss: 1.3557 - accuracy: 0.8526 - top-3-accuracy: 0.9839 - val_loss: 1.6029 - val_accuracy: 0.7550 - val_top-3-accuracy: 0.9368\n",
      "Epoch 92/100\n",
      "2291/2291 [==============================] - 540s 236ms/step - loss: 1.3535 - accuracy: 0.8542 - top-3-accuracy: 0.9842 - val_loss: 1.6004 - val_accuracy: 0.7571 - val_top-3-accuracy: 0.9364\n",
      "Epoch 93/100\n",
      "2291/2291 [==============================] - 538s 235ms/step - loss: 1.3529 - accuracy: 0.8542 - top-3-accuracy: 0.9844 - val_loss: 1.6019 - val_accuracy: 0.7552 - val_top-3-accuracy: 0.9370\n",
      "Epoch 94/100\n",
      "2291/2291 [==============================] - 542s 237ms/step - loss: 1.3509 - accuracy: 0.8557 - top-3-accuracy: 0.9844 - val_loss: 1.6040 - val_accuracy: 0.7555 - val_top-3-accuracy: 0.9363\n",
      "Epoch 95/100\n",
      "2291/2291 [==============================] - 532s 232ms/step - loss: 1.3492 - accuracy: 0.8568 - top-3-accuracy: 0.9846 - val_loss: 1.6034 - val_accuracy: 0.7554 - val_top-3-accuracy: 0.9362\n",
      "Epoch 96/100\n",
      "2291/2291 [==============================] - 531s 232ms/step - loss: 1.3480 - accuracy: 0.8576 - top-3-accuracy: 0.9849 - val_loss: 1.5980 - val_accuracy: 0.7592 - val_top-3-accuracy: 0.9367\n",
      "Epoch 97/100\n",
      "2291/2291 [==============================] - 537s 234ms/step - loss: 1.3465 - accuracy: 0.8584 - top-3-accuracy: 0.9848 - val_loss: 1.5992 - val_accuracy: 0.7579 - val_top-3-accuracy: 0.9371\n",
      "Epoch 98/100\n",
      "2291/2291 [==============================] - 536s 234ms/step - loss: 1.3454 - accuracy: 0.8589 - top-3-accuracy: 0.9849 - val_loss: 1.6001 - val_accuracy: 0.7590 - val_top-3-accuracy: 0.9367\n",
      "Epoch 99/100\n",
      "2291/2291 [==============================] - 533s 233ms/step - loss: 1.3444 - accuracy: 0.8597 - top-3-accuracy: 0.9852 - val_loss: 1.5991 - val_accuracy: 0.7596 - val_top-3-accuracy: 0.9367\n",
      "Epoch 100/100\n",
      "2291/2291 [==============================] - 535s 233ms/step - loss: 1.3427 - accuracy: 0.8607 - top-3-accuracy: 0.9853 - val_loss: 1.5955 - val_accuracy: 0.7611 - val_top-3-accuracy: 0.9373\n",
      "WARNING:tensorflow:Layer lstm will not use cuDNN kernels since it doesn't meet the criteria. It will use a generic GPU kernel as fallback when running on GPU.\n",
      "WARNING:tensorflow:Layer lstm_1 will not use cuDNN kernels since it doesn't meet the criteria. It will use a generic GPU kernel as fallback when running on GPU.\n",
      "WARNING:tensorflow:Layer lstm_2 will not use cuDNN kernels since it doesn't meet the criteria. It will use a generic GPU kernel as fallback when running on GPU.\n",
      "30\n",
      "Could not automatically populate Loss_per_epoch\n",
      "Could not automatically populate Model_config\n",
      "Fields to be updated include: ['loss', 'Model_config']\n"
     ]
    }
   ],
   "source": [
    "# Custom ResNet + LSTM model\n",
    "\n",
    "num_epochs = 100\n",
    "batch_size = 512\n",
    "learning_rate = 5e-3\n",
    "\n",
    "input_shape = (x_train.shape[1:]) + (1,) #input_shape = (21,5,) #x_train.shape[2]\n",
    "\n",
    "def ResNetBlock(x,dropout):\n",
    "    x =   layers.Conv2D(filters=64, kernel_size=5, padding=\"same\")(x) #input_layer\n",
    "    conv1 = layers.Conv2D(filters=64, kernel_size=5, padding=\"same\")(x) # input_layer, Conv1D\n",
    "    conv1 = layers.Dropout(dropout)(conv1)\n",
    "    conv1 = layers.BatchNormalization()(conv1)\n",
    "    conv1 = layers.ReLU()(conv1)\n",
    "\n",
    "    conv2 = layers.Conv2D(filters=64, kernel_size=3, padding=\"same\")(conv1)\n",
    "    conv2 = layers.Dropout(dropout)(conv2)\n",
    "    conv2 = layers.BatchNormalization()(conv2)\n",
    "    conv2 = layers.ReLU()(conv2)\n",
    "\n",
    "    conv3 = layers.Conv2D(filters=64, kernel_size=3, padding=\"same\")(conv2)\n",
    "    conv3 = layers.Dropout(dropout)(conv3)\n",
    "    conv3 = layers.BatchNormalization()(conv3)\n",
    "    conv3 = layers.ReLU()(conv3)\n",
    "    \n",
    "    conv3 = layers.Conv2D(filters=64, kernel_size=3, padding=\"same\")(conv2)\n",
    "    conv3 = layers.Dropout(dropout)(conv3)\n",
    "    conv3 = layers.BatchNormalization()(conv3)\n",
    "    conv3 = layers.ReLU()(conv3)\n",
    "    \n",
    "    conv3 = layers.add([x,conv3])\n",
    "    x = layers.ReLU()(conv3) # Overwrite x\n",
    "    \n",
    "    return x\n",
    "\n",
    "\n",
    "def build_model(\n",
    "    input_shape,\n",
    "    head_size,  \n",
    "    mlp_units,\n",
    "    dropout,\n",
    "    mlp_dropout,\n",
    "):\n",
    "    inputs = tf.keras.Input(shape=input_shape)  \n",
    "    \n",
    "    x = layers.Conv2D(filters=32, kernel_size=3, padding=\"same\")(inputs)\n",
    "    for _ in range(5):\n",
    "        x = ResNetBlock(x,dropout)        \n",
    "    x = tf.reduce_sum(x,axis=-1)\n",
    "    \n",
    "    x = layers.LSTM(head_size,recurrent_dropout=0.1, return_sequences=True)(x) #input_shape=(x.shape[1:]),\n",
    "    x = layers.LSTM(head_size,recurrent_dropout=0.1, return_sequences=True)(x)\n",
    "    #x = layers.LSTM(head_size,recurrent_dropout=0.1, return_sequences=True)(x)\n",
    "    x = layers.LSTM(64,recurrent_dropout= 0.3)(x)\n",
    "\n",
    "       \n",
    "    #for dim in mlp_units:  x = layers.Dense(dim, activation=\"relu\")(x)\n",
    "    x = layers.Dense(mlp_units, activation=\"relu\")(x)\n",
    "    x = layers.Dropout(mlp_dropout)(x)\n",
    "    outputs = layers.Dense(num_classes, activation=\"softmax\")(x)\n",
    "    return tf.keras.Model(inputs, outputs,name =\"RowBlockLSTM\"+time_stamp)\n",
    "\n",
    "head_size = 512 # 128, 256,64\n",
    "mlp_units=512  # 128\n",
    "mlp_dropout=0.1     #0.4\n",
    "dropout=0.15          #0.25\n",
    "\n",
    "model = build_model(input_shape,head_size = head_size,mlp_units=mlp_units, mlp_dropout= mlp_dropout, dropout=dropout)\n",
    "model.summary()\n",
    "\n",
    "## Logging tools\n",
    "wandb.config = {\n",
    "  \"learning_rate\": \"learning_rate\",\n",
    "  \"epochs\": num_epochs, \n",
    "  \"batch_size\": batch_size,\n",
    "  #\"nodes\": nodes,\n",
    "  \"row_length\":row_length,\n",
    "  \"base_path\":base_path,\n",
    "  \"head_size\":head_size, \n",
    "  # \"ff_dim\":ff_dim, \"num_transformer_blocks\":num_transformer_blocks,\"num_heads\":num_heads,\n",
    "  \"mlp_units\":mlp_units, \"mlp_dropout\":mlp_dropout,\n",
    "  \"dropout\":dropout\n",
    "}\n",
    "\n",
    "# Update Wandb fieds with more params\n",
    "wandb.config.update(log)\n",
    "\n",
    "# Update log['extras']\n",
    "log['extras'][0].update(wandb.config)\n",
    "#### ===== End of logging ========\n",
    "\n",
    "\n",
    "\n",
    "# Poly Rate scheduler\n",
    "starter_learning_rate = 0.1\n",
    "end_learning_rate = 0.0001\n",
    "decay_steps = 10000\n",
    "learning_rate_fn = tf.keras.optimizers.schedules.PolynomialDecay(\n",
    "    starter_learning_rate,\n",
    "    decay_steps,\n",
    "    end_learning_rate,\n",
    "    power=0.25)\n",
    "\n",
    "\n",
    "# Callbacks\n",
    "callbacks = [\n",
    "    ModelCheckpoint(\"RowBlockLSTM_dropout.h5\", save_best_only=True, monitor=\"val_loss\"),\n",
    "    ReduceLROnPlateau(monitor=\"val_loss\", factor=0.1, patience=3, min_lr=0.0001),\n",
    "    #EarlyStopping(monitor=\"val_loss\", patience=25, verbose=1), \n",
    "    WandbCallback()\n",
    "]\n",
    "\n",
    "opt1 = tf.keras.optimizers.RMSprop(learning_rate=1e-3,rho=0.9,momentum=0.9, epsilon=1e-07,centered=True,name=\"RMSprop\")\n",
    "opt2 = tf.keras.optimizers.Adam(learning_rate=learning_rate,amsgrad=True)\n",
    "opt3 = tf.keras.optimizers.SGD(learning_rate=learning_rate, momentum=0.99, nesterov=True, name=\"SGD\")\n",
    "poly_rate = tf.keras.optimizers.SGD(learning_rate = learning_rate_fn)\n",
    "\n",
    "top_K = 3\n",
    "start_time = datetime.strftime( datetime.now(),'%d_%B_%y_%H%M')\n",
    "\n",
    "print(f'Training start time:{start_time}')\n",
    "\n",
    "# model.compile( optimizer = opt, loss= 'categorical_crossentropy', metrics=['accuracy',tf.keras.metrics.TopKCategoricalAccuracy(top_K, name=\"top-3-accuracy\")])  #label_smoothing=0.05, tf.keras.losses.KLDivergence()\n",
    "#model.compile( optimizer=opt1,loss=\"sparse_categorical_crossentropy\" , metrics=[\"sparse_categorical_accuracy\"],) #\"sparse_categorical_crossentropy\" , sparse_categorical_accuracy\", tf.keras.losses.CategoricalCrossentropy(label_smoothing=0.3)\n",
    "\n",
    "model.compile( optimizer=opt3,loss=tf.keras.losses.CategoricalCrossentropy(label_smoothing=0.2) , \n",
    "              metrics=[\"accuracy\", tf.keras.metrics.TopKCategoricalAccuracy(top_K, name=\"top-3-accuracy\")], ) #\"sparse_categorical_crossentropy\" , sparse_categorical_accuracy\", tf.keras.losses.CategoricalCrossentropy(label_smoothing=0.3)\n",
    "\n",
    "\n",
    "history = model.fit(x_train, y_train_1hot,\n",
    "          epochs= num_epochs, \n",
    "          batch_size= batch_size, \n",
    "          validation_split = 0.3,\n",
    "          # validation_data=(x_test, y_test_1hot),\n",
    "         callbacks=callbacks) #mcp_save, callbacks=[reduce_lr_loss]\n",
    "\n",
    "model = tf.keras.models.load_model(\"RowBlockLSTM_dropout.h5\")\n",
    "\n",
    "# Update manual log file\n",
    "params_to_be_updated = update_log_entry('../testing_sheet2.xlsx', log_idx, model, history)"
   ]
  },
  {
   "cell_type": "code",
   "execution_count": null,
   "id": "e01cf82b-9581-4ecb-a9ec-65d638355bc4",
   "metadata": {},
   "outputs": [],
   "source": [
    "log['Uniqueness_of_each_run'] = 'Using Old data from its source'\n",
    "run_completion_comment = f'First time training LSTM on FilteredFiltered Old data. BEST accuracy(92%) so far but yet to try on val data'\n",
    "if \"log_idx\" in globals():\n",
    "    log[\"S_N\"] = log_idx\n",
    "    log['extras'][0]['run_completion_comment'] = run_completion_comment #'Accuracy_per_epoch'\n",
    "    log['Accuracy_per_epoch'] = '44%'\n",
    "    log_idx = create_log_entry('../testing_sheet2.xlsx', log)"
   ]
  },
  {
   "cell_type": "code",
   "execution_count": null,
   "id": "900b0f69-6c63-49e6-8421-b7e5362b5c45",
   "metadata": {},
   "outputs": [],
   "source": [
    "def PlotCurves(model_history):\n",
    "    plt.plot(model_history.history['accuracy'],label = 'train')\n",
    "    plt.grid(color = 'r', linestyle = '--', linewidth = .1)    \n",
    "    #plt.figure()\n",
    "    plt.plot(model_history.history['val_accuracy'],label = 'validation')\n",
    "   \n",
    "    plt.ylabel('Accuracy');\n",
    "    plt.xlabel('Epochs');\n",
    "    \n",
    "    plt.title('Training vs Validation accuracy');\n",
    "    plt.legend()\n",
    "    \n",
    "    plt.figure()\n",
    "    \n",
    "    plt.plot(model_history.history['loss'],label = 'train')\n",
    "    plt.grid(color = 'r', linestyle = '--', linewidth = .1)    \n",
    "    plt.plot(model_history.history['val_loss'],label = 'validation')\n",
    "   \n",
    "    plt.ylabel('Loss');\n",
    "    plt.xlabel('Epochs');\n",
    "    \n",
    "    plt.title('Training vs Validation Losses');\n",
    "    plt.legend()\n",
    "    return None\n",
    "\n",
    "PlotCurves(history)"
   ]
  },
  {
   "cell_type": "code",
   "execution_count": null,
   "id": "5dbda035-6b46-4b65-9359-1c1f7e2611cd",
   "metadata": {},
   "outputs": [],
   "source": [
    "# Test model manually on all val data\n",
    "\n",
    "y_pred = [ np.argmax(model.predict(np.expand_dims(x_val[idx],axis=0))) for idx in range(len(x_val)) ]\n",
    "\n",
    "combined_result = zip(y_val,y_pred)\n",
    "\n",
    "val_exact_accuracy = 100 * sum([1 if y_pred[idx]==y_val[idx]   else 0 for idx in range(len(y_pred)) ]) / len(y_pred)\n",
    "val_margin5_accuracy = 100 * sum([1 if abs(y_pred[idx]-y_val[idx]) < 5 else 0 for idx in range(len(y_pred)) ]) / len(y_pred)\n",
    "\n",
    "print(f' Exact accuracy is {val_exact_accuracy: .5f} %')\n",
    "print(f' Top 5% accuracy is {val_margin5_accuracy: .5f} %')\n",
    "\n"
   ]
  },
  {
   "cell_type": "code",
   "execution_count": 18,
   "id": "43003c33-f2e8-4981-a601-84b1765ab943",
   "metadata": {},
   "outputs": [
    {
     "name": "stdout",
     "output_type": "stream",
     "text": [
      "3273/3273 [==============================] - 93s 29ms/step - loss: 1.9821 - accuracy: 0.6339 - top-3-accuracy: 0.8404\n",
      "Test accuracy: 63.39%\n",
      "Test top 5 accuracy: 84.04%\n"
     ]
    }
   ],
   "source": [
    "# Convert labels to categorical orthonormal vectors\n",
    "y_val_1hot = tf.keras.utils.to_categorical(y_val, num_classes)\n",
    "\n",
    "_, accuracy,top3_acc = model.evaluate(x_val, y_val_1hot)\n",
    "print(f\"Test accuracy: {round(accuracy * 100, 2)}%\")\n",
    "print(f\"Test top 5 accuracy: {round(top3_acc * 100, 2)}%\")\n",
    "\n",
    "_,new_col_length,new_row_length = x_train.shape \n",
    "model.save(f'..Filteredfiltered_data//{ipynbname.name()}//{time_stamp}_Acc_{accuracy:.3f}_Top3Acc{top3_acc:.3f}_{new_row_length}x{new_col_length}.h5') # Last percentage is 46.85, New:52.4"
   ]
  },
  {
   "cell_type": "code",
   "execution_count": 19,
   "id": "1086771b-626e-42ed-90ce-56b434606586",
   "metadata": {
    "tags": []
   },
   "outputs": [
    {
     "name": "stdout",
     "output_type": "stream",
     "text": [
      "Epoch 1/150\n",
      "2291/2291 [==============================] - 534s 232ms/step - loss: 1.3409 - accuracy: 0.8619 - top-3-accuracy: 0.9854 - val_loss: 1.6026 - val_accuracy: 0.7577 - val_top-3-accuracy: 0.9363\n",
      "Epoch 2/150\n",
      "2291/2291 [==============================] - 530s 231ms/step - loss: 1.3402 - accuracy: 0.8623 - top-3-accuracy: 0.9855 - val_loss: 1.5952 - val_accuracy: 0.7613 - val_top-3-accuracy: 0.9374\n",
      "Epoch 3/150\n",
      "2291/2291 [==============================] - 531s 232ms/step - loss: 1.3376 - accuracy: 0.8638 - top-3-accuracy: 0.9857 - val_loss: 1.6002 - val_accuracy: 0.7591 - val_top-3-accuracy: 0.9365\n",
      "Epoch 4/150\n",
      "2291/2291 [==============================] - 531s 232ms/step - loss: 1.3370 - accuracy: 0.8643 - top-3-accuracy: 0.9858 - val_loss: 1.5985 - val_accuracy: 0.7591 - val_top-3-accuracy: 0.9370\n",
      "Epoch 5/150\n",
      "2291/2291 [==============================] - 531s 232ms/step - loss: 1.3361 - accuracy: 0.8650 - top-3-accuracy: 0.9859 - val_loss: 1.5969 - val_accuracy: 0.7616 - val_top-3-accuracy: 0.9370\n",
      "Epoch 6/150\n",
      "2291/2291 [==============================] - 532s 232ms/step - loss: 1.3341 - accuracy: 0.8659 - top-3-accuracy: 0.9860 - val_loss: 1.5992 - val_accuracy: 0.7598 - val_top-3-accuracy: 0.9370\n",
      "Epoch 7/150\n",
      "2291/2291 [==============================] - 532s 232ms/step - loss: 1.3326 - accuracy: 0.8669 - top-3-accuracy: 0.9862 - val_loss: 1.5958 - val_accuracy: 0.7624 - val_top-3-accuracy: 0.9369\n",
      "Epoch 8/150\n",
      "2291/2291 [==============================] - 533s 233ms/step - loss: 1.3312 - accuracy: 0.8676 - top-3-accuracy: 0.9865 - val_loss: 1.5914 - val_accuracy: 0.7653 - val_top-3-accuracy: 0.9370\n",
      "Epoch 9/150\n",
      "2291/2291 [==============================] - 532s 232ms/step - loss: 1.3299 - accuracy: 0.8685 - top-3-accuracy: 0.9864 - val_loss: 1.5944 - val_accuracy: 0.7624 - val_top-3-accuracy: 0.9374\n",
      "Epoch 10/150\n",
      "2291/2291 [==============================] - 531s 232ms/step - loss: 1.3281 - accuracy: 0.8694 - top-3-accuracy: 0.9866 - val_loss: 1.5925 - val_accuracy: 0.7647 - val_top-3-accuracy: 0.9367\n",
      "Epoch 11/150\n",
      "2291/2291 [==============================] - 533s 233ms/step - loss: 1.3280 - accuracy: 0.8695 - top-3-accuracy: 0.9867 - val_loss: 1.5963 - val_accuracy: 0.7632 - val_top-3-accuracy: 0.9369\n",
      "Epoch 12/150\n",
      "2291/2291 [==============================] - 533s 233ms/step - loss: 1.3260 - accuracy: 0.8705 - top-3-accuracy: 0.9868 - val_loss: 1.5915 - val_accuracy: 0.7654 - val_top-3-accuracy: 0.9367\n",
      "Epoch 13/150\n",
      "2291/2291 [==============================] - 529s 231ms/step - loss: 1.3255 - accuracy: 0.8712 - top-3-accuracy: 0.9867 - val_loss: 1.5932 - val_accuracy: 0.7647 - val_top-3-accuracy: 0.9365\n",
      "Epoch 14/150\n",
      "2291/2291 [==============================] - 533s 233ms/step - loss: 1.3239 - accuracy: 0.8722 - top-3-accuracy: 0.9869 - val_loss: 1.5953 - val_accuracy: 0.7630 - val_top-3-accuracy: 0.9368\n",
      "Epoch 15/150\n",
      "2291/2291 [==============================] - 535s 234ms/step - loss: 1.3220 - accuracy: 0.8733 - top-3-accuracy: 0.9872 - val_loss: 1.5930 - val_accuracy: 0.7655 - val_top-3-accuracy: 0.9368\n",
      "Epoch 16/150\n",
      "2291/2291 [==============================] - 533s 232ms/step - loss: 1.3210 - accuracy: 0.8738 - top-3-accuracy: 0.9873 - val_loss: 1.5982 - val_accuracy: 0.7624 - val_top-3-accuracy: 0.9364\n",
      "Epoch 17/150\n",
      "2291/2291 [==============================] - 532s 232ms/step - loss: 1.3197 - accuracy: 0.8746 - top-3-accuracy: 0.9873 - val_loss: 1.5871 - val_accuracy: 0.7682 - val_top-3-accuracy: 0.9372\n",
      "Epoch 18/150\n",
      "2291/2291 [==============================] - 529s 231ms/step - loss: 1.3174 - accuracy: 0.8763 - top-3-accuracy: 0.9876 - val_loss: 1.5916 - val_accuracy: 0.7661 - val_top-3-accuracy: 0.9373\n",
      "Epoch 19/150\n",
      "2291/2291 [==============================] - 531s 232ms/step - loss: 1.3172 - accuracy: 0.8759 - top-3-accuracy: 0.9876 - val_loss: 1.5930 - val_accuracy: 0.7662 - val_top-3-accuracy: 0.9364\n",
      "Epoch 20/150\n",
      "2291/2291 [==============================] - 531s 232ms/step - loss: 1.3158 - accuracy: 0.8767 - top-3-accuracy: 0.9877 - val_loss: 1.5879 - val_accuracy: 0.7693 - val_top-3-accuracy: 0.9370\n",
      "Epoch 21/150\n",
      "2291/2291 [==============================] - 531s 232ms/step - loss: 1.3143 - accuracy: 0.8780 - top-3-accuracy: 0.9878 - val_loss: 1.5859 - val_accuracy: 0.7703 - val_top-3-accuracy: 0.9376\n",
      "Epoch 22/150\n",
      "2291/2291 [==============================] - 531s 232ms/step - loss: 1.3130 - accuracy: 0.8788 - top-3-accuracy: 0.9879 - val_loss: 1.5922 - val_accuracy: 0.7678 - val_top-3-accuracy: 0.9362\n",
      "Epoch 23/150\n",
      "2291/2291 [==============================] - 534s 233ms/step - loss: 1.3120 - accuracy: 0.8795 - top-3-accuracy: 0.9881 - val_loss: 1.5899 - val_accuracy: 0.7688 - val_top-3-accuracy: 0.9364\n",
      "Epoch 24/150\n",
      "2291/2291 [==============================] - 529s 231ms/step - loss: 1.3120 - accuracy: 0.8792 - top-3-accuracy: 0.9880 - val_loss: 1.5881 - val_accuracy: 0.7701 - val_top-3-accuracy: 0.9370\n",
      "Epoch 25/150\n",
      "2291/2291 [==============================] - 534s 233ms/step - loss: 1.3095 - accuracy: 0.8804 - top-3-accuracy: 0.9883 - val_loss: 1.5881 - val_accuracy: 0.7707 - val_top-3-accuracy: 0.9371\n",
      "Epoch 26/150\n",
      "2291/2291 [==============================] - 534s 233ms/step - loss: 1.3077 - accuracy: 0.8819 - top-3-accuracy: 0.9884 - val_loss: 1.5893 - val_accuracy: 0.7694 - val_top-3-accuracy: 0.9372\n",
      "Epoch 27/150\n",
      "2291/2291 [==============================] - 531s 232ms/step - loss: 1.3071 - accuracy: 0.8822 - top-3-accuracy: 0.9884 - val_loss: 1.5894 - val_accuracy: 0.7692 - val_top-3-accuracy: 0.9366\n",
      "Epoch 28/150\n",
      "2291/2291 [==============================] - 533s 233ms/step - loss: 1.3054 - accuracy: 0.8832 - top-3-accuracy: 0.9886 - val_loss: 1.5854 - val_accuracy: 0.7716 - val_top-3-accuracy: 0.9367\n",
      "Epoch 29/150\n",
      "2291/2291 [==============================] - 532s 232ms/step - loss: 1.3049 - accuracy: 0.8832 - top-3-accuracy: 0.9886 - val_loss: 1.5831 - val_accuracy: 0.7720 - val_top-3-accuracy: 0.9373\n",
      "Epoch 30/150\n",
      "2291/2291 [==============================] - 532s 232ms/step - loss: 1.3035 - accuracy: 0.8841 - top-3-accuracy: 0.9888 - val_loss: 1.5885 - val_accuracy: 0.7714 - val_top-3-accuracy: 0.9365\n",
      "Epoch 31/150\n",
      "2291/2291 [==============================] - 533s 233ms/step - loss: 1.3020 - accuracy: 0.8851 - top-3-accuracy: 0.9888 - val_loss: 1.5851 - val_accuracy: 0.7724 - val_top-3-accuracy: 0.9371\n",
      "Epoch 32/150\n",
      "2291/2291 [==============================] - 532s 232ms/step - loss: 1.3011 - accuracy: 0.8859 - top-3-accuracy: 0.9889 - val_loss: 1.5858 - val_accuracy: 0.7724 - val_top-3-accuracy: 0.9366\n",
      "Epoch 33/150\n",
      "2291/2291 [==============================] - 532s 232ms/step - loss: 1.3003 - accuracy: 0.8863 - top-3-accuracy: 0.9890 - val_loss: 1.5877 - val_accuracy: 0.7710 - val_top-3-accuracy: 0.9364\n",
      "Epoch 34/150\n",
      "2291/2291 [==============================] - 532s 232ms/step - loss: 1.2981 - accuracy: 0.8873 - top-3-accuracy: 0.9891 - val_loss: 1.5824 - val_accuracy: 0.7739 - val_top-3-accuracy: 0.9369\n",
      "Epoch 35/150\n",
      "2291/2291 [==============================] - 532s 232ms/step - loss: 1.2975 - accuracy: 0.8877 - top-3-accuracy: 0.9892 - val_loss: 1.5826 - val_accuracy: 0.7743 - val_top-3-accuracy: 0.9369\n",
      "Epoch 36/150\n",
      "2291/2291 [==============================] - 531s 232ms/step - loss: 1.2965 - accuracy: 0.8884 - top-3-accuracy: 0.9893 - val_loss: 1.5855 - val_accuracy: 0.7728 - val_top-3-accuracy: 0.9373\n",
      "Epoch 37/150\n",
      "2291/2291 [==============================] - 530s 231ms/step - loss: 1.2953 - accuracy: 0.8891 - top-3-accuracy: 0.9893 - val_loss: 1.5839 - val_accuracy: 0.7736 - val_top-3-accuracy: 0.9375\n",
      "Epoch 38/150\n",
      "2291/2291 [==============================] - 532s 232ms/step - loss: 1.2940 - accuracy: 0.8899 - top-3-accuracy: 0.9896 - val_loss: 1.5830 - val_accuracy: 0.7748 - val_top-3-accuracy: 0.9365\n",
      "Epoch 39/150\n",
      "2291/2291 [==============================] - 531s 232ms/step - loss: 1.2929 - accuracy: 0.8906 - top-3-accuracy: 0.9896 - val_loss: 1.5895 - val_accuracy: 0.7711 - val_top-3-accuracy: 0.9361\n",
      "Epoch 40/150\n",
      "2291/2291 [==============================] - 533s 233ms/step - loss: 1.2917 - accuracy: 0.8913 - top-3-accuracy: 0.9896 - val_loss: 1.5826 - val_accuracy: 0.7759 - val_top-3-accuracy: 0.9369\n",
      "Epoch 41/150\n",
      "2291/2291 [==============================] - 529s 231ms/step - loss: 1.2904 - accuracy: 0.8921 - top-3-accuracy: 0.9897 - val_loss: 1.5855 - val_accuracy: 0.7738 - val_top-3-accuracy: 0.9365\n",
      "Epoch 42/150\n",
      "2291/2291 [==============================] - 532s 232ms/step - loss: 1.2893 - accuracy: 0.8925 - top-3-accuracy: 0.9900 - val_loss: 1.5820 - val_accuracy: 0.7756 - val_top-3-accuracy: 0.9367\n",
      "Epoch 43/150\n",
      "2291/2291 [==============================] - 533s 233ms/step - loss: 1.2882 - accuracy: 0.8934 - top-3-accuracy: 0.9899 - val_loss: 1.5816 - val_accuracy: 0.7762 - val_top-3-accuracy: 0.9365\n",
      "Epoch 44/150\n",
      "2291/2291 [==============================] - 531s 232ms/step - loss: 1.2873 - accuracy: 0.8941 - top-3-accuracy: 0.9902 - val_loss: 1.5815 - val_accuracy: 0.7766 - val_top-3-accuracy: 0.9364\n",
      "Epoch 45/150\n",
      "2291/2291 [==============================] - 531s 232ms/step - loss: 1.2861 - accuracy: 0.8946 - top-3-accuracy: 0.9900 - val_loss: 1.5858 - val_accuracy: 0.7747 - val_top-3-accuracy: 0.9367\n",
      "Epoch 46/150\n",
      "2291/2291 [==============================] - 529s 231ms/step - loss: 1.2849 - accuracy: 0.8952 - top-3-accuracy: 0.9903 - val_loss: 1.5779 - val_accuracy: 0.7782 - val_top-3-accuracy: 0.9365\n",
      "Epoch 47/150\n",
      "2291/2291 [==============================] - 530s 231ms/step - loss: 1.2833 - accuracy: 0.8961 - top-3-accuracy: 0.9903 - val_loss: 1.5837 - val_accuracy: 0.7760 - val_top-3-accuracy: 0.9364\n",
      "Epoch 48/150\n",
      "2291/2291 [==============================] - 531s 232ms/step - loss: 1.2827 - accuracy: 0.8968 - top-3-accuracy: 0.9904 - val_loss: 1.5790 - val_accuracy: 0.7772 - val_top-3-accuracy: 0.9372\n",
      "Epoch 49/150\n",
      "2291/2291 [==============================] - 533s 232ms/step - loss: 1.2812 - accuracy: 0.8975 - top-3-accuracy: 0.9905 - val_loss: 1.5754 - val_accuracy: 0.7794 - val_top-3-accuracy: 0.9368\n",
      "Epoch 50/150\n",
      "2291/2291 [==============================] - 531s 232ms/step - loss: 1.2804 - accuracy: 0.8982 - top-3-accuracy: 0.9905 - val_loss: 1.5815 - val_accuracy: 0.7778 - val_top-3-accuracy: 0.9364\n",
      "Epoch 51/150\n",
      "2291/2291 [==============================] - 534s 233ms/step - loss: 1.2789 - accuracy: 0.8987 - top-3-accuracy: 0.9907 - val_loss: 1.5767 - val_accuracy: 0.7803 - val_top-3-accuracy: 0.9365\n",
      "Epoch 52/150\n",
      "2291/2291 [==============================] - 530s 231ms/step - loss: 1.2782 - accuracy: 0.8991 - top-3-accuracy: 0.9907 - val_loss: 1.5804 - val_accuracy: 0.7779 - val_top-3-accuracy: 0.9360\n",
      "Epoch 53/150\n",
      "2291/2291 [==============================] - 534s 233ms/step - loss: 1.2768 - accuracy: 0.9004 - top-3-accuracy: 0.9907 - val_loss: 1.5732 - val_accuracy: 0.7825 - val_top-3-accuracy: 0.9370\n",
      "Epoch 54/150\n",
      "2291/2291 [==============================] - 532s 232ms/step - loss: 1.2754 - accuracy: 0.9007 - top-3-accuracy: 0.9909 - val_loss: 1.5719 - val_accuracy: 0.7829 - val_top-3-accuracy: 0.9371\n",
      "Epoch 55/150\n",
      "2291/2291 [==============================] - 532s 232ms/step - loss: 1.2748 - accuracy: 0.9015 - top-3-accuracy: 0.9910 - val_loss: 1.5800 - val_accuracy: 0.7794 - val_top-3-accuracy: 0.9362\n",
      "Epoch 56/150\n",
      "2291/2291 [==============================] - 533s 233ms/step - loss: 1.2737 - accuracy: 0.9018 - top-3-accuracy: 0.9911 - val_loss: 1.5713 - val_accuracy: 0.7834 - val_top-3-accuracy: 0.9367\n",
      "Epoch 57/150\n",
      "2291/2291 [==============================] - 530s 231ms/step - loss: 1.2728 - accuracy: 0.9023 - top-3-accuracy: 0.9910 - val_loss: 1.5731 - val_accuracy: 0.7832 - val_top-3-accuracy: 0.9369\n",
      "Epoch 58/150\n",
      "2291/2291 [==============================] - 532s 232ms/step - loss: 1.2707 - accuracy: 0.9037 - top-3-accuracy: 0.9912 - val_loss: 1.5741 - val_accuracy: 0.7828 - val_top-3-accuracy: 0.9361\n",
      "Epoch 59/150\n",
      "2291/2291 [==============================] - 530s 231ms/step - loss: 1.2699 - accuracy: 0.9040 - top-3-accuracy: 0.9913 - val_loss: 1.5749 - val_accuracy: 0.7815 - val_top-3-accuracy: 0.9371\n",
      "Epoch 60/150\n",
      "2291/2291 [==============================] - 531s 232ms/step - loss: 1.2696 - accuracy: 0.9041 - top-3-accuracy: 0.9913 - val_loss: 1.5721 - val_accuracy: 0.7846 - val_top-3-accuracy: 0.9370\n",
      "Epoch 61/150\n",
      "2291/2291 [==============================] - 535s 234ms/step - loss: 1.2682 - accuracy: 0.9051 - top-3-accuracy: 0.9914 - val_loss: 1.5720 - val_accuracy: 0.7839 - val_top-3-accuracy: 0.9368\n",
      "Epoch 62/150\n",
      "2291/2291 [==============================] - 532s 232ms/step - loss: 1.2673 - accuracy: 0.9058 - top-3-accuracy: 0.9915 - val_loss: 1.5726 - val_accuracy: 0.7835 - val_top-3-accuracy: 0.9367\n",
      "Epoch 63/150\n",
      "2291/2291 [==============================] - 531s 232ms/step - loss: 1.2663 - accuracy: 0.9061 - top-3-accuracy: 0.9916 - val_loss: 1.5713 - val_accuracy: 0.7855 - val_top-3-accuracy: 0.9366\n",
      "Epoch 64/150\n",
      "2291/2291 [==============================] - 530s 231ms/step - loss: 1.2651 - accuracy: 0.9068 - top-3-accuracy: 0.9917 - val_loss: 1.5728 - val_accuracy: 0.7839 - val_top-3-accuracy: 0.9363\n",
      "Epoch 65/150\n",
      "2291/2291 [==============================] - 533s 233ms/step - loss: 1.2642 - accuracy: 0.9073 - top-3-accuracy: 0.9918 - val_loss: 1.5716 - val_accuracy: 0.7849 - val_top-3-accuracy: 0.9367\n",
      "Epoch 66/150\n",
      "2291/2291 [==============================] - 530s 232ms/step - loss: 1.2626 - accuracy: 0.9083 - top-3-accuracy: 0.9919 - val_loss: 1.5753 - val_accuracy: 0.7832 - val_top-3-accuracy: 0.9364\n",
      "Epoch 67/150\n",
      "2291/2291 [==============================] - 533s 233ms/step - loss: 1.2627 - accuracy: 0.9079 - top-3-accuracy: 0.9918 - val_loss: 1.5704 - val_accuracy: 0.7859 - val_top-3-accuracy: 0.9369\n",
      "Epoch 68/150\n",
      "2291/2291 [==============================] - 532s 232ms/step - loss: 1.2612 - accuracy: 0.9090 - top-3-accuracy: 0.9919 - val_loss: 1.5670 - val_accuracy: 0.7882 - val_top-3-accuracy: 0.9368\n",
      "Epoch 69/150\n",
      "2291/2291 [==============================] - 533s 232ms/step - loss: 1.2598 - accuracy: 0.9099 - top-3-accuracy: 0.9920 - val_loss: 1.5714 - val_accuracy: 0.7847 - val_top-3-accuracy: 0.9366\n",
      "Epoch 70/150\n",
      "2291/2291 [==============================] - 533s 233ms/step - loss: 1.2602 - accuracy: 0.9098 - top-3-accuracy: 0.9920 - val_loss: 1.5685 - val_accuracy: 0.7882 - val_top-3-accuracy: 0.9364\n",
      "Epoch 71/150\n",
      "2291/2291 [==============================] - 534s 233ms/step - loss: 1.2573 - accuracy: 0.9114 - top-3-accuracy: 0.9922 - val_loss: 1.5673 - val_accuracy: 0.7878 - val_top-3-accuracy: 0.9367\n",
      "Epoch 72/150\n",
      "2291/2291 [==============================] - 532s 232ms/step - loss: 1.2569 - accuracy: 0.9119 - top-3-accuracy: 0.9921 - val_loss: 1.5668 - val_accuracy: 0.7898 - val_top-3-accuracy: 0.9362\n",
      "Epoch 73/150\n",
      "2291/2291 [==============================] - 533s 233ms/step - loss: 1.2561 - accuracy: 0.9119 - top-3-accuracy: 0.9923 - val_loss: 1.5669 - val_accuracy: 0.7889 - val_top-3-accuracy: 0.9365\n",
      "Epoch 74/150\n",
      "2291/2291 [==============================] - 533s 232ms/step - loss: 1.2543 - accuracy: 0.9132 - top-3-accuracy: 0.9924 - val_loss: 1.5664 - val_accuracy: 0.7900 - val_top-3-accuracy: 0.9358\n",
      "Epoch 75/150\n",
      "2291/2291 [==============================] - 532s 232ms/step - loss: 1.2541 - accuracy: 0.9131 - top-3-accuracy: 0.9924 - val_loss: 1.5678 - val_accuracy: 0.7889 - val_top-3-accuracy: 0.9360\n",
      "Epoch 76/150\n",
      "2291/2291 [==============================] - 533s 233ms/step - loss: 1.2530 - accuracy: 0.9138 - top-3-accuracy: 0.9925 - val_loss: 1.5662 - val_accuracy: 0.7888 - val_top-3-accuracy: 0.9368\n",
      "Epoch 77/150\n",
      "2291/2291 [==============================] - 533s 233ms/step - loss: 1.2518 - accuracy: 0.9146 - top-3-accuracy: 0.9926 - val_loss: 1.5652 - val_accuracy: 0.7901 - val_top-3-accuracy: 0.9367\n",
      "Epoch 78/150\n",
      "2291/2291 [==============================] - 533s 233ms/step - loss: 1.2510 - accuracy: 0.9147 - top-3-accuracy: 0.9927 - val_loss: 1.5632 - val_accuracy: 0.7921 - val_top-3-accuracy: 0.9362\n",
      "Epoch 79/150\n",
      "2291/2291 [==============================] - 532s 232ms/step - loss: 1.2500 - accuracy: 0.9155 - top-3-accuracy: 0.9927 - val_loss: 1.5700 - val_accuracy: 0.7876 - val_top-3-accuracy: 0.9364\n",
      "Epoch 80/150\n",
      "2291/2291 [==============================] - 532s 232ms/step - loss: 1.2494 - accuracy: 0.9159 - top-3-accuracy: 0.9927 - val_loss: 1.5656 - val_accuracy: 0.7902 - val_top-3-accuracy: 0.9365\n",
      "Epoch 81/150\n",
      "2291/2291 [==============================] - 532s 232ms/step - loss: 1.2481 - accuracy: 0.9166 - top-3-accuracy: 0.9928 - val_loss: 1.5685 - val_accuracy: 0.7900 - val_top-3-accuracy: 0.9355\n",
      "Epoch 82/150\n",
      "2291/2291 [==============================] - 533s 233ms/step - loss: 1.2473 - accuracy: 0.9170 - top-3-accuracy: 0.9928 - val_loss: 1.5640 - val_accuracy: 0.7919 - val_top-3-accuracy: 0.9366\n",
      "Epoch 83/150\n",
      "2291/2291 [==============================] - 532s 232ms/step - loss: 1.2454 - accuracy: 0.9181 - top-3-accuracy: 0.9929 - val_loss: 1.5661 - val_accuracy: 0.7905 - val_top-3-accuracy: 0.9360\n",
      "Epoch 84/150\n",
      "2291/2291 [==============================] - 530s 231ms/step - loss: 1.2451 - accuracy: 0.9184 - top-3-accuracy: 0.9930 - val_loss: 1.5636 - val_accuracy: 0.7919 - val_top-3-accuracy: 0.9366\n",
      "Epoch 85/150\n",
      "2291/2291 [==============================] - 532s 232ms/step - loss: 1.2439 - accuracy: 0.9188 - top-3-accuracy: 0.9930 - val_loss: 1.5629 - val_accuracy: 0.7922 - val_top-3-accuracy: 0.9364\n",
      "Epoch 86/150\n",
      "2291/2291 [==============================] - 531s 232ms/step - loss: 1.2434 - accuracy: 0.9194 - top-3-accuracy: 0.9931 - val_loss: 1.5675 - val_accuracy: 0.7907 - val_top-3-accuracy: 0.9359\n",
      "Epoch 87/150\n",
      "2291/2291 [==============================] - 531s 232ms/step - loss: 1.2421 - accuracy: 0.9201 - top-3-accuracy: 0.9931 - val_loss: 1.5672 - val_accuracy: 0.7904 - val_top-3-accuracy: 0.9357\n",
      "Epoch 88/150\n",
      "2291/2291 [==============================] - 531s 232ms/step - loss: 1.2413 - accuracy: 0.9205 - top-3-accuracy: 0.9932 - val_loss: 1.5591 - val_accuracy: 0.7947 - val_top-3-accuracy: 0.9366\n",
      "Epoch 89/150\n",
      "2291/2291 [==============================] - 530s 231ms/step - loss: 1.2406 - accuracy: 0.9207 - top-3-accuracy: 0.9933 - val_loss: 1.5617 - val_accuracy: 0.7941 - val_top-3-accuracy: 0.9360\n",
      "Epoch 90/150\n",
      "2291/2291 [==============================] - 529s 231ms/step - loss: 1.2399 - accuracy: 0.9213 - top-3-accuracy: 0.9932 - val_loss: 1.5621 - val_accuracy: 0.7929 - val_top-3-accuracy: 0.9366\n",
      "Epoch 91/150\n",
      "2291/2291 [==============================] - 531s 232ms/step - loss: 1.2388 - accuracy: 0.9217 - top-3-accuracy: 0.9934 - val_loss: 1.5698 - val_accuracy: 0.7899 - val_top-3-accuracy: 0.9358\n",
      "Epoch 92/150\n",
      "2291/2291 [==============================] - 529s 231ms/step - loss: 1.2377 - accuracy: 0.9226 - top-3-accuracy: 0.9934 - val_loss: 1.5598 - val_accuracy: 0.7957 - val_top-3-accuracy: 0.9362\n",
      "Epoch 93/150\n",
      "2291/2291 [==============================] - 533s 233ms/step - loss: 1.2366 - accuracy: 0.9231 - top-3-accuracy: 0.9936 - val_loss: 1.5636 - val_accuracy: 0.7937 - val_top-3-accuracy: 0.9360\n",
      "Epoch 94/150\n",
      "2291/2291 [==============================] - 532s 232ms/step - loss: 1.2355 - accuracy: 0.9238 - top-3-accuracy: 0.9937 - val_loss: 1.5595 - val_accuracy: 0.7958 - val_top-3-accuracy: 0.9359\n",
      "Epoch 95/150\n",
      "2291/2291 [==============================] - 534s 233ms/step - loss: 1.2346 - accuracy: 0.9243 - top-3-accuracy: 0.9936 - val_loss: 1.5607 - val_accuracy: 0.7958 - val_top-3-accuracy: 0.9354\n",
      "Epoch 96/150\n",
      "2291/2291 [==============================] - 533s 233ms/step - loss: 1.2331 - accuracy: 0.9252 - top-3-accuracy: 0.9937 - val_loss: 1.5622 - val_accuracy: 0.7944 - val_top-3-accuracy: 0.9361\n",
      "Epoch 97/150\n",
      "2291/2291 [==============================] - 529s 231ms/step - loss: 1.2332 - accuracy: 0.9250 - top-3-accuracy: 0.9938 - val_loss: 1.5647 - val_accuracy: 0.7940 - val_top-3-accuracy: 0.9349\n",
      "Epoch 98/150\n",
      "2291/2291 [==============================] - 535s 233ms/step - loss: 1.2324 - accuracy: 0.9255 - top-3-accuracy: 0.9937 - val_loss: 1.5604 - val_accuracy: 0.7957 - val_top-3-accuracy: 0.9359\n",
      "Epoch 99/150\n",
      "2291/2291 [==============================] - 534s 233ms/step - loss: 1.2314 - accuracy: 0.9261 - top-3-accuracy: 0.9939 - val_loss: 1.5647 - val_accuracy: 0.7927 - val_top-3-accuracy: 0.9361\n",
      "Epoch 100/150\n",
      "2291/2291 [==============================] - 533s 233ms/step - loss: 1.2312 - accuracy: 0.9263 - top-3-accuracy: 0.9939 - val_loss: 1.5560 - val_accuracy: 0.7980 - val_top-3-accuracy: 0.9360\n",
      "Epoch 101/150\n",
      "2291/2291 [==============================] - 531s 232ms/step - loss: 1.2292 - accuracy: 0.9272 - top-3-accuracy: 0.9940 - val_loss: 1.5612 - val_accuracy: 0.7957 - val_top-3-accuracy: 0.9357\n",
      "Epoch 102/150\n",
      "2291/2291 [==============================] - 532s 232ms/step - loss: 1.2285 - accuracy: 0.9277 - top-3-accuracy: 0.9939 - val_loss: 1.5612 - val_accuracy: 0.7949 - val_top-3-accuracy: 0.9364\n",
      "Epoch 103/150\n",
      "2291/2291 [==============================] - 533s 233ms/step - loss: 1.2276 - accuracy: 0.9281 - top-3-accuracy: 0.9940 - val_loss: 1.5567 - val_accuracy: 0.7985 - val_top-3-accuracy: 0.9361\n",
      "Epoch 104/150\n",
      "2291/2291 [==============================] - 537s 234ms/step - loss: 1.2266 - accuracy: 0.9287 - top-3-accuracy: 0.9941 - val_loss: 1.5571 - val_accuracy: 0.7980 - val_top-3-accuracy: 0.9358\n",
      "Epoch 105/150\n",
      "2291/2291 [==============================] - 533s 233ms/step - loss: 1.2259 - accuracy: 0.9293 - top-3-accuracy: 0.9941 - val_loss: 1.5569 - val_accuracy: 0.7987 - val_top-3-accuracy: 0.9354\n",
      "Epoch 106/150\n",
      "2291/2291 [==============================] - 531s 232ms/step - loss: 1.2254 - accuracy: 0.9295 - top-3-accuracy: 0.9942 - val_loss: 1.5568 - val_accuracy: 0.7978 - val_top-3-accuracy: 0.9362\n",
      "Epoch 107/150\n",
      "2291/2291 [==============================] - 540s 236ms/step - loss: 1.2237 - accuracy: 0.9303 - top-3-accuracy: 0.9943 - val_loss: 1.5570 - val_accuracy: 0.7988 - val_top-3-accuracy: 0.9357\n",
      "Epoch 108/150\n",
      "2291/2291 [==============================] - 534s 233ms/step - loss: 1.2238 - accuracy: 0.9305 - top-3-accuracy: 0.9943 - val_loss: 1.5595 - val_accuracy: 0.7970 - val_top-3-accuracy: 0.9360\n",
      "Epoch 109/150\n",
      "2291/2291 [==============================] - 533s 233ms/step - loss: 1.2228 - accuracy: 0.9309 - top-3-accuracy: 0.9944 - val_loss: 1.5580 - val_accuracy: 0.7994 - val_top-3-accuracy: 0.9354\n",
      "Epoch 110/150\n",
      "2291/2291 [==============================] - 534s 233ms/step - loss: 1.2223 - accuracy: 0.9311 - top-3-accuracy: 0.9944 - val_loss: 1.5598 - val_accuracy: 0.7976 - val_top-3-accuracy: 0.9356\n",
      "Epoch 111/150\n",
      "2291/2291 [==============================] - 532s 232ms/step - loss: 1.2213 - accuracy: 0.9318 - top-3-accuracy: 0.9944 - val_loss: 1.5532 - val_accuracy: 0.8015 - val_top-3-accuracy: 0.9355\n",
      "Epoch 112/150\n",
      "2291/2291 [==============================] - 533s 233ms/step - loss: 1.2203 - accuracy: 0.9326 - top-3-accuracy: 0.9945 - val_loss: 1.5536 - val_accuracy: 0.8018 - val_top-3-accuracy: 0.9355\n",
      "Epoch 113/150\n",
      "2291/2291 [==============================] - 530s 231ms/step - loss: 1.2191 - accuracy: 0.9330 - top-3-accuracy: 0.9945 - val_loss: 1.5511 - val_accuracy: 0.8027 - val_top-3-accuracy: 0.9358\n",
      "Epoch 114/150\n",
      "2291/2291 [==============================] - 530s 231ms/step - loss: 1.2189 - accuracy: 0.9333 - top-3-accuracy: 0.9946 - val_loss: 1.5549 - val_accuracy: 0.8007 - val_top-3-accuracy: 0.9351\n",
      "Epoch 115/150\n",
      "2291/2291 [==============================] - 531s 232ms/step - loss: 1.2179 - accuracy: 0.9338 - top-3-accuracy: 0.9946 - val_loss: 1.5587 - val_accuracy: 0.7981 - val_top-3-accuracy: 0.9353\n",
      "Epoch 116/150\n",
      "2291/2291 [==============================] - 540s 236ms/step - loss: 1.2170 - accuracy: 0.9340 - top-3-accuracy: 0.9947 - val_loss: 1.5513 - val_accuracy: 0.8024 - val_top-3-accuracy: 0.9357\n",
      "Epoch 117/150\n",
      "2291/2291 [==============================] - 532s 232ms/step - loss: 1.2163 - accuracy: 0.9343 - top-3-accuracy: 0.9947 - val_loss: 1.5530 - val_accuracy: 0.8022 - val_top-3-accuracy: 0.9359\n",
      "Epoch 118/150\n",
      "2291/2291 [==============================] - 532s 232ms/step - loss: 1.2151 - accuracy: 0.9352 - top-3-accuracy: 0.9948 - val_loss: 1.5515 - val_accuracy: 0.8028 - val_top-3-accuracy: 0.9357\n",
      "Epoch 119/150\n",
      "2291/2291 [==============================] - 532s 232ms/step - loss: 1.2138 - accuracy: 0.9361 - top-3-accuracy: 0.9949 - val_loss: 1.5563 - val_accuracy: 0.8010 - val_top-3-accuracy: 0.9353\n",
      "Epoch 120/150\n",
      "2291/2291 [==============================] - 533s 233ms/step - loss: 1.2138 - accuracy: 0.9361 - top-3-accuracy: 0.9949 - val_loss: 1.5514 - val_accuracy: 0.8037 - val_top-3-accuracy: 0.9355\n",
      "Epoch 121/150\n",
      "2291/2291 [==============================] - 534s 233ms/step - loss: 1.2131 - accuracy: 0.9366 - top-3-accuracy: 0.9949 - val_loss: 1.5564 - val_accuracy: 0.8015 - val_top-3-accuracy: 0.9351\n",
      "Epoch 122/150\n",
      "2291/2291 [==============================] - 533s 233ms/step - loss: 1.2120 - accuracy: 0.9369 - top-3-accuracy: 0.9950 - val_loss: 1.5517 - val_accuracy: 0.8030 - val_top-3-accuracy: 0.9351\n",
      "Epoch 123/150\n",
      "2291/2291 [==============================] - 532s 232ms/step - loss: 1.2112 - accuracy: 0.9375 - top-3-accuracy: 0.9949 - val_loss: 1.5534 - val_accuracy: 0.8029 - val_top-3-accuracy: 0.9354\n",
      "Epoch 124/150\n",
      "2291/2291 [==============================] - 533s 233ms/step - loss: 1.2103 - accuracy: 0.9379 - top-3-accuracy: 0.9951 - val_loss: 1.5530 - val_accuracy: 0.8028 - val_top-3-accuracy: 0.9359\n",
      "Epoch 125/150\n",
      "2291/2291 [==============================] - 533s 233ms/step - loss: 1.2098 - accuracy: 0.9382 - top-3-accuracy: 0.9950 - val_loss: 1.5535 - val_accuracy: 0.8027 - val_top-3-accuracy: 0.9355\n",
      "Epoch 126/150\n",
      "2291/2291 [==============================] - 533s 233ms/step - loss: 1.2096 - accuracy: 0.9385 - top-3-accuracy: 0.9951 - val_loss: 1.5474 - val_accuracy: 0.8060 - val_top-3-accuracy: 0.9359\n",
      "Epoch 127/150\n",
      "2291/2291 [==============================] - 533s 233ms/step - loss: 1.2080 - accuracy: 0.9391 - top-3-accuracy: 0.9952 - val_loss: 1.5542 - val_accuracy: 0.8032 - val_top-3-accuracy: 0.9346\n",
      "Epoch 128/150\n",
      "2291/2291 [==============================] - 528s 231ms/step - loss: 1.2074 - accuracy: 0.9397 - top-3-accuracy: 0.9951 - val_loss: 1.5495 - val_accuracy: 0.8054 - val_top-3-accuracy: 0.9348\n",
      "Epoch 129/150\n",
      "2291/2291 [==============================] - 530s 231ms/step - loss: 1.2065 - accuracy: 0.9400 - top-3-accuracy: 0.9952 - val_loss: 1.5558 - val_accuracy: 0.8015 - val_top-3-accuracy: 0.9348\n",
      "Epoch 130/150\n",
      "2291/2291 [==============================] - 532s 232ms/step - loss: 1.2054 - accuracy: 0.9406 - top-3-accuracy: 0.9953 - val_loss: 1.5481 - val_accuracy: 0.8056 - val_top-3-accuracy: 0.9352\n",
      "Epoch 131/150\n",
      "2291/2291 [==============================] - 530s 231ms/step - loss: 1.2051 - accuracy: 0.9409 - top-3-accuracy: 0.9953 - val_loss: 1.5521 - val_accuracy: 0.8047 - val_top-3-accuracy: 0.9349\n",
      "Epoch 132/150\n",
      "2291/2291 [==============================] - 530s 232ms/step - loss: 1.2046 - accuracy: 0.9411 - top-3-accuracy: 0.9953 - val_loss: 1.5509 - val_accuracy: 0.8053 - val_top-3-accuracy: 0.9350\n",
      "Epoch 133/150\n",
      "2291/2291 [==============================] - 528s 231ms/step - loss: 1.2036 - accuracy: 0.9414 - top-3-accuracy: 0.9954 - val_loss: 1.5504 - val_accuracy: 0.8055 - val_top-3-accuracy: 0.9349\n",
      "Epoch 134/150\n",
      "2291/2291 [==============================] - 529s 231ms/step - loss: 1.2032 - accuracy: 0.9417 - top-3-accuracy: 0.9954 - val_loss: 1.5500 - val_accuracy: 0.8054 - val_top-3-accuracy: 0.9348\n",
      "Epoch 135/150\n",
      "2291/2291 [==============================] - 533s 233ms/step - loss: 1.2024 - accuracy: 0.9423 - top-3-accuracy: 0.9955 - val_loss: 1.5478 - val_accuracy: 0.8071 - val_top-3-accuracy: 0.9349\n",
      "Epoch 136/150\n",
      "2291/2291 [==============================] - 529s 231ms/step - loss: 1.2017 - accuracy: 0.9427 - top-3-accuracy: 0.9954 - val_loss: 1.5505 - val_accuracy: 0.8049 - val_top-3-accuracy: 0.9345\n",
      "Epoch 137/150\n",
      "2291/2291 [==============================] - 528s 230ms/step - loss: 1.2003 - accuracy: 0.9434 - top-3-accuracy: 0.9955 - val_loss: 1.5502 - val_accuracy: 0.8057 - val_top-3-accuracy: 0.9346\n",
      "Epoch 138/150\n",
      "2291/2291 [==============================] - 529s 231ms/step - loss: 1.1999 - accuracy: 0.9438 - top-3-accuracy: 0.9956 - val_loss: 1.5430 - val_accuracy: 0.8092 - val_top-3-accuracy: 0.9353\n",
      "Epoch 139/150\n",
      "2291/2291 [==============================] - 528s 230ms/step - loss: 1.1994 - accuracy: 0.9440 - top-3-accuracy: 0.9955 - val_loss: 1.5481 - val_accuracy: 0.8065 - val_top-3-accuracy: 0.9344\n",
      "Epoch 140/150\n",
      "2291/2291 [==============================] - 530s 231ms/step - loss: 1.1982 - accuracy: 0.9446 - top-3-accuracy: 0.9956 - val_loss: 1.5472 - val_accuracy: 0.8074 - val_top-3-accuracy: 0.9353\n",
      "Epoch 141/150\n",
      "2291/2291 [==============================] - 527s 230ms/step - loss: 1.1979 - accuracy: 0.9446 - top-3-accuracy: 0.9956 - val_loss: 1.5453 - val_accuracy: 0.8082 - val_top-3-accuracy: 0.9351\n",
      "Epoch 142/150\n",
      "2291/2291 [==============================] - 527s 230ms/step - loss: 1.1972 - accuracy: 0.9452 - top-3-accuracy: 0.9957 - val_loss: 1.5512 - val_accuracy: 0.8050 - val_top-3-accuracy: 0.9344\n",
      "Epoch 143/150\n",
      "2291/2291 [==============================] - 529s 231ms/step - loss: 1.1967 - accuracy: 0.9454 - top-3-accuracy: 0.9957 - val_loss: 1.5445 - val_accuracy: 0.8092 - val_top-3-accuracy: 0.9352\n",
      "Epoch 144/150\n",
      "2291/2291 [==============================] - 533s 233ms/step - loss: 1.1956 - accuracy: 0.9461 - top-3-accuracy: 0.9958 - val_loss: 1.5479 - val_accuracy: 0.8081 - val_top-3-accuracy: 0.9349\n",
      "Epoch 145/150\n",
      "2291/2291 [==============================] - 527s 230ms/step - loss: 1.1953 - accuracy: 0.9463 - top-3-accuracy: 0.9958 - val_loss: 1.5524 - val_accuracy: 0.8060 - val_top-3-accuracy: 0.9339\n",
      "Epoch 146/150\n",
      "2291/2291 [==============================] - 527s 230ms/step - loss: 1.1942 - accuracy: 0.9468 - top-3-accuracy: 0.9958 - val_loss: 1.5427 - val_accuracy: 0.8104 - val_top-3-accuracy: 0.9349\n",
      "Epoch 147/150\n",
      "2291/2291 [==============================] - 530s 231ms/step - loss: 1.1934 - accuracy: 0.9472 - top-3-accuracy: 0.9959 - val_loss: 1.5449 - val_accuracy: 0.8089 - val_top-3-accuracy: 0.9351\n",
      "Epoch 148/150\n",
      "2291/2291 [==============================] - 530s 231ms/step - loss: 1.1934 - accuracy: 0.9472 - top-3-accuracy: 0.9959 - val_loss: 1.5449 - val_accuracy: 0.8102 - val_top-3-accuracy: 0.9345\n",
      "Epoch 149/150\n",
      "2291/2291 [==============================] - 528s 231ms/step - loss: 1.1923 - accuracy: 0.9477 - top-3-accuracy: 0.9960 - val_loss: 1.5439 - val_accuracy: 0.8100 - val_top-3-accuracy: 0.9347\n",
      "Epoch 150/150\n",
      "2291/2291 [==============================] - 527s 230ms/step - loss: 1.1920 - accuracy: 0.9479 - top-3-accuracy: 0.9959 - val_loss: 1.5409 - val_accuracy: 0.8118 - val_top-3-accuracy: 0.9346\n"
     ]
    }
   ],
   "source": [
    "# Train further\n",
    "\n",
    "# Callbacks\n",
    "callbacks = [\n",
    "    ModelCheckpoint(f\"..//Filteredfiltered_data//{ipynbname.name()}//{time_stamp}_RowBlockLSTM_checkpoint.h5\", save_best_only=True, monitor=\"val_loss\"),\n",
    "    ReduceLROnPlateau(monitor=\"val_loss\", factor=0.1, patience=3, min_lr=0.0001),\n",
    "    #EarlyStopping(monitor=\"val_loss\", patience=25, verbose=1), \n",
    "    WandbCallback()\n",
    "]\n",
    "\n",
    "history2 = model.fit(x_train, y_train_1hot,\n",
    "          epochs= 150, \n",
    "          batch_size= batch_size, \n",
    "          validation_split= 0.3,callbacks=callbacks) #mcp_save, callbacks=[reduce_lr_loss]callbacks=callbacks"
   ]
  },
  {
   "cell_type": "code",
   "execution_count": 21,
   "id": "f501e446-69db-49bc-ab0a-e11030d0dec6",
   "metadata": {},
   "outputs": [
    {
     "name": "stdout",
     "output_type": "stream",
     "text": [
      "3273/3273 [==============================] - 97s 30ms/step - loss: 1.9816 - accuracy: 0.6683 - top-3-accuracy: 0.8293\n",
      "Test accuracy: 66.83%\n",
      "Test top 5 accuracy: 82.93%\n",
      "Test_time: 01_February_22_0852\n"
     ]
    }
   ],
   "source": [
    "# Test after train_further\n",
    "y_val_1hot = tf.keras.utils.to_categorical(y_val, num_classes)\n",
    "\n",
    "_, accuracy,top3_acc = model.evaluate(x_val, y_val_1hot)\n",
    "print(f\"Test accuracy: {round(accuracy * 100, 2)}%\")\n",
    "print(f\"Test top 5 accuracy: {round(top3_acc * 100, 2)}%\")\n",
    "\n",
    "print(f\"Test_time: {datetime.strftime(datetime.now(),'%d_%B_%y_%H%M')}\")\n",
    "\n",
    "_,new_col_length,new_row_length = x_train.shape\n",
    "\n",
    "if not os.path.isdir(base_path):\n",
    "    model.save(f'..//all_block_data//PulsedTrainTest//{ipynbname.name()}//{time_stamp}_Acc_{accuracy:.3f}_Top3Acc{top3_acc:.3f}_{new_row_length}x{new_col_length}.h5') # Last percentage is 46.85, New:52.4\n",
    "else:\n",
    "    model.save(f'{base_path}//{ipynbname.name()}//{time_stamp}_Acc_{accuracy:.3f}_Top3Acc{top3_acc:.3f}_{new_row_length}x{new_col_length}.h5')\n",
    "    \n"
   ]
  },
  {
   "cell_type": "code",
   "execution_count": 27,
   "id": "cc34f891-d61f-414f-b290-0b8850637e07",
   "metadata": {},
   "outputs": [
    {
     "name": "stdout",
     "output_type": "stream",
     "text": [
      " Exact accuracy is  66.82964 %\n",
      " Top 5% accuracy is  77.97555 %\n"
     ]
    }
   ],
   "source": [
    "# Test model manually on all val data\n",
    "\n",
    "y_pred = [ np.argmax(model.predict(np.expand_dims(x_val[idx],axis=0))) for idx in range(len(x_val)) ]\n",
    "\n",
    "combined_result = zip(y_val,y_pred)\n",
    "\n",
    "val_exact_accuracy = 100 * sum([1 if y_pred[idx]==y_val[idx]   else 0 for idx in range(len(y_pred)) ]) / len(y_pred)\n",
    "val_margin5_accuracy = 100 * sum([1 if abs(y_pred[idx]-y_val[idx]) < 5 else 0 for idx in range(len(y_pred)) ]) / len(y_pred)\n",
    "\n",
    "print(f' Exact accuracy is {val_exact_accuracy: .5f} %')\n",
    "print(f' Top 5% accuracy is {val_margin5_accuracy: .5f} %')\n",
    "\n"
   ]
  },
  {
   "cell_type": "code",
   "execution_count": 28,
   "id": "5906633e-2153-47af-acdc-121a3625b199",
   "metadata": {},
   "outputs": [],
   "source": [
    "# Confusion Matrix and ROC/AUC\n",
    "\n",
    "model_predictions = np.asarray(y_pred)\n",
    "ground_truth = y_val.squeeze()\n",
    "\n",
    "# Prediction per Ground-truth class\n",
    "class_predictions = [ model_predictions[ground_truth==idx]  for idx in range(num_classes) ]\n",
    "\n",
    "# Confusion matrix\n",
    "confusion_mtx = np.zeros((num_classes,num_classes) )\n",
    "\n",
    "for pred,actual in zip(y_pred,y_val): # Rows=Prediction, Columns = Actual\n",
    "    confusion_mtx[pred,actual] +=1"
   ]
  },
  {
   "cell_type": "code",
   "execution_count": 29,
   "id": "475f7b9d-5af5-4242-aec0-e0f87ac6b665",
   "metadata": {},
   "outputs": [
    {
     "data": {
      "image/png": "[encoded data removed]",
      "text/plain": [
       "<Figure size 700x1500 with 2 Axes>"
      ]
     },
     "metadata": {
      "needs_background": "light"
     },
     "output_type": "display_data"
    }
   ],
   "source": [
    "from mpl_toolkits.axes_grid1 import make_axes_locatable\n",
    "\n",
    "fig, ax = plt.subplots(figsize=(7,15),dpi = 100);\n",
    "shw=ax.imshow(confusion_mtx)\n",
    "#bar= plt.colorbar(shw)\n",
    "\n",
    "_=plt.ylabel('Predictions')\n",
    "_=plt.xlabel('Actual Class')\n",
    "_=plt.title('Confusion matrix')\n",
    "\n",
    "# ax.set_xticklabels(list(range(num_classes)))\n",
    "# ax.set_yticklabels(list(range(num_classes)))\n",
    "\n",
    "# create an axes on the right side of ax. The width of cax will be 5%\n",
    "# of ax and the padding between cax and ax will be fixed at 0.05 inch.\n",
    "divider = make_axes_locatable(ax)\n",
    "cax = divider.append_axes(\"right\", size=\"5%\", pad=0.05)\n",
    "#bar.set_label('ColorBar')\n",
    "_ = plt.colorbar(shw, cax=cax)"
   ]
  },
  {
   "cell_type": "code",
   "execution_count": 30,
   "id": "970ef2b9-5f5f-401c-b024-4184eea46609",
   "metadata": {},
   "outputs": [
    {
     "data": {
      "image/png": "[encoded data removed]",
      "text/plain": [
       "<Figure size 432x288 with 1 Axes>"
      ]
     },
     "metadata": {
      "needs_background": "light"
     },
     "output_type": "display_data"
    },
    {
     "data": {
      "image/png": "[encoded data removed]",
      "text/plain": [
       "<Figure size 432x288 with 1 Axes>"
      ]
     },
     "metadata": {
      "needs_background": "light"
     },
     "output_type": "display_data"
    },
    {
     "data": {
      "image/png": "[encoded data removed]",
      "text/plain": [
       "<Figure size 432x288 with 1 Axes>"
      ]
     },
     "metadata": {
      "needs_background": "light"
     },
     "output_type": "display_data"
    },
    {
     "data": {
      "image/png": "[encoded data removed]",
      "text/plain": [
       "<Figure size 432x288 with 1 Axes>"
      ]
     },
     "metadata": {
      "needs_background": "light"
     },
     "output_type": "display_data"
    },
    {
     "data": {
      "image/png": "[encoded data removed]",
      "text/plain": [
       "<Figure size 432x288 with 1 Axes>"
      ]
     },
     "metadata": {
      "needs_background": "light"
     },
     "output_type": "display_data"
    },
    {
     "data": {
      "image/png": "[encoded data removed]",
      "text/plain": [
       "<Figure size 432x288 with 1 Axes>"
      ]
     },
     "metadata": {
      "needs_background": "light"
     },
     "output_type": "display_data"
    },
    {
     "data": {
      "image/png": "[encoded data removed]",
      "text/plain": [
       "<Figure size 432x288 with 1 Axes>"
      ]
     },
     "metadata": {
      "needs_background": "light"
     },
     "output_type": "display_data"
    },
    {
     "data": {
      "image/png": "[encoded data removed]",
      "text/plain": [
       "<Figure size 432x288 with 1 Axes>"
      ]
     },
     "metadata": {
      "needs_background": "light"
     },
     "output_type": "display_data"
    },
    {
     "data": {
      "image/png": "[encoded data removed]",
      "text/plain": [
       "<Figure size 432x288 with 1 Axes>"
      ]
     },
     "metadata": {
      "needs_background": "light"
     },
     "output_type": "display_data"
    },
    {
     "data": {
      "image/png": "[encoded data removed]",
      "text/plain": [
       "<Figure size 432x288 with 1 Axes>"
      ]
     },
     "metadata": {
      "needs_background": "light"
     },
     "output_type": "display_data"
    },
    {
     "data": {
      "image/png": "[encoded data removed]",
      "text/plain": [
       "<Figure size 432x288 with 1 Axes>"
      ]
     },
     "metadata": {
      "needs_background": "light"
     },
     "output_type": "display_data"
    },
    {
     "data": {
      "image/png": "[encoded data removed]",
      "text/plain": [
       "<Figure size 432x288 with 1 Axes>"
      ]
     },
     "metadata": {
      "needs_background": "light"
     },
     "output_type": "display_data"
    },
    {
     "data": {
      "image/png": "[encoded data removed]",
      "text/plain": [
       "<Figure size 432x288 with 1 Axes>"
      ]
     },
     "metadata": {
      "needs_background": "light"
     },
     "output_type": "display_data"
    },
    {
     "data": {
      "image/png": "[encoded data removed]",
      "text/plain": [
       "<Figure size 432x288 with 1 Axes>"
      ]
     },
     "metadata": {
      "needs_background": "light"
     },
     "output_type": "display_data"
    },
    {
     "data": {
      "image/png": "[encoded data removed]",
      "text/plain": [
       "<Figure size 432x288 with 1 Axes>"
      ]
     },
     "metadata": {
      "needs_background": "light"
     },
     "output_type": "display_data"
    },
    {
     "data": {
      "image/png": "[encoded data removed]",
      "text/plain": [
       "<Figure size 432x288 with 1 Axes>"
      ]
     },
     "metadata": {
      "needs_background": "light"
     },
     "output_type": "display_data"
    },
    {
     "data": {
      "image/png": "[encoded data removed]",
      "text/plain": [
       "<Figure size 432x288 with 1 Axes>"
      ]
     },
     "metadata": {
      "needs_background": "light"
     },
     "output_type": "display_data"
    },
    {
     "data": {
      "image/png": "[encoded data removed]",
      "text/plain": [
       "<Figure size 432x288 with 1 Axes>"
      ]
     },
     "metadata": {
      "needs_background": "light"
     },
     "output_type": "display_data"
    },
    {
     "data": {
      "image/png": "[encoded data removed]",
      "text/plain": [
       "<Figure size 432x288 with 1 Axes>"
      ]
     },
     "metadata": {
      "needs_background": "light"
     },
     "output_type": "display_data"
    },
    {
     "data": {
      "image/png": "[encoded data removed]",
      "text/plain": [
       "<Figure size 432x288 with 1 Axes>"
      ]
     },
     "metadata": {
      "needs_background": "light"
     },
     "output_type": "display_data"
    },
    {
     "data": {
      "image/png": "[encoded data removed]",
      "text/plain": [
       "<Figure size 432x288 with 1 Axes>"
      ]
     },
     "metadata": {
      "needs_background": "light"
     },
     "output_type": "display_data"
    },
    {
     "data": {
      "image/png": "[encoded data removed]",
      "text/plain": [
       "<Figure size 432x288 with 1 Axes>"
      ]
     },
     "metadata": {
      "needs_background": "light"
     },
     "output_type": "display_data"
    }
   ],
   "source": [
    "# Histogram of each class prediction\n",
    "for idx,each_class in enumerate(class_predictions):\n",
    "    _ = plt.figure()\n",
    "    _ = plt.title('Class %s'%idx)\n",
    "    labels, counts = np.unique(each_class, return_counts=True)\n",
    "    _ = plt.bar(labels, counts, align='center')\n",
    "    _ = plt.gca().set_xticks(labels)\n",
    "    _ = plt.show()"
   ]
  },
  {
   "cell_type": "code",
   "execution_count": 31,
   "id": "0d0115b5-eb22-4082-b2ed-b0fdea37b012",
   "metadata": {},
   "outputs": [
    {
     "name": "stdout",
     "output_type": "stream",
     "text": [
      "              precision    recall  f1-score   support\n",
      "\n",
      "           0       0.87      0.50      0.64     12235\n",
      "           1       1.00      0.00      0.00        14\n",
      "           2       1.00      0.00      0.00         5\n",
      "           3       1.00      0.00      0.00         1\n",
      "           4       1.00      0.00      0.00        10\n",
      "           5       0.56      0.72      0.63       186\n",
      "           6       0.52      0.48      0.50       726\n",
      "           7       0.61      0.48      0.54      2367\n",
      "           8       0.69      0.73      0.71      6788\n",
      "           9       0.74      0.73      0.73      9837\n",
      "          10       0.70      0.68      0.69     10050\n",
      "          11       0.69      0.73      0.71      9744\n",
      "          12       0.72      0.76      0.74     11330\n",
      "          13       0.74      0.78      0.76     10969\n",
      "          14       0.73      0.78      0.75     10136\n",
      "          15       0.60      0.74      0.67      7255\n",
      "          16       0.50      0.63      0.56      3949\n",
      "          17       0.42      0.34      0.38      2399\n",
      "          18       0.38      0.36      0.37      2053\n",
      "          19       0.37      0.46      0.41      2168\n",
      "          20       0.22      0.35      0.27      1514\n",
      "          21       0.26      0.18      0.21       984\n",
      "\n",
      "    accuracy                           0.67    104720\n",
      "   macro avg       0.65      0.47      0.47    104720\n",
      "weighted avg       0.68      0.67      0.67    104720\n",
      "\n"
     ]
    },
    {
     "data": {
      "text/html": [
       "<br/>Waiting for W&B process to finish, PID 21652... <strong style=\"color:green\">(success).</strong>"
      ],
      "text/plain": [
       "<IPython.core.display.HTML object>"
      ]
     },
     "metadata": {},
     "output_type": "display_data"
    },
    {
     "data": {
      "application/vnd.jupyter.widget-view+json": {
       "model_id": "8733ff1a1f374a81aa7c74161c7a4c08",
       "version_major": 2,
       "version_minor": 0
      },
      "text/plain": [
       "VBox(children=(Label(value=' 36.48MB of 36.48MB uploaded (0.00MB deduped)\\r'), FloatProgress(value=1.0, max=1.…"
      ]
     },
     "metadata": {},
     "output_type": "display_data"
    }
   ],
   "source": [
    "from sklearn.metrics import classification_report\n",
    "\n",
    "print( classification_report( y_val,y_pred, labels=list(range(num_classes)), zero_division=1 ))"
   ]
  },
  {
   "cell_type": "code",
   "execution_count": null,
   "id": "e952d2c6-abb1-4975-a03b-34c97c8f8669",
   "metadata": {},
   "outputs": [],
   "source": []
  },
  {
   "cell_type": "code",
   "execution_count": 25,
   "id": "d5681e1f-3e23-41c0-9a56-cd020518cbc4",
   "metadata": {},
   "outputs": [
    {
     "name": "stdout",
     "output_type": "stream",
     "text": [
      "Check start 92456\n"
     ]
    },
    {
     "data": {
      "text/plain": [
       "[(14, 14),\n",
       " (10, 10),\n",
       " (10, 10),\n",
       " (11, 11),\n",
       " (18, 14),\n",
       " (10, 11),\n",
       " (19, 18),\n",
       " (14, 14),\n",
       " (0, 0),\n",
       " (0, 18),\n",
       " (13, 11),\n",
       " (14, 14),\n",
       " (9, 10),\n",
       " (0, 19),\n",
       " (12, 12),\n",
       " (11, 11),\n",
       " (0, 11),\n",
       " (9, 9),\n",
       " (11, 10),\n",
       " (16, 16)]"
      ]
     },
     "execution_count": 25,
     "metadata": {},
     "output_type": "execute_result"
    }
   ],
   "source": [
    "# Check some predictions\n",
    "\n",
    "import random\n",
    "check_start = random.randint(0,len(x_val))\n",
    "\n",
    "print(f'Check start {check_start}')\n",
    "[(int(y_val[idx]), np.argmax(model.predict(np.expand_dims(x_val[idx],axis=0))) ) for idx in range(check_start,check_start+20) ]\n",
    "\n"
   ]
  },
  {
   "cell_type": "code",
   "execution_count": null,
   "id": "c8d4305b-d2f7-4bb6-97c0-601e43f3624c",
   "metadata": {
    "tags": []
   },
   "outputs": [],
   "source": [
    "# Train further (last training 12/8/2021 was for 30 epochs - 150 epochs(w/o reshape order) previously overfitted\n",
    "# Also, the train set was not reshuffled, but train further uses shuffled train data (Stopped the train further after 30 epocks- acc 14% poor. Retraining from scratch )\n",
    "\n",
    "start_time = datetime.strftime( datetime.now(),'%d_%B_%y_%H%M')\n",
    "\n",
    "print(f'Training start time:{start_time}')\n",
    "#batch_size = 64\n",
    "history2 = model.fit(x_train, y_train_1hot,\n",
    "          epochs= 250, \n",
    "          batch_size= batch_size, \n",
    "          validation_data=(x_test, y_test_1hot),callbacks=callbacks) #mcp_save, callbacks=[reduce_lr_loss]callbacks=callbacks"
   ]
  },
  {
   "cell_type": "code",
   "execution_count": null,
   "id": "dd8c2f81-8a6b-495f-b06f-ba26ec5104e8",
   "metadata": {},
   "outputs": [],
   "source": [
    "PlotCurves(history2)"
   ]
  },
  {
   "cell_type": "code",
   "execution_count": null,
   "id": "f9c88ad0-166a-44d3-8fef-41d5891a3035",
   "metadata": {},
   "outputs": [],
   "source": [
    "_, accuracy,top_3_accuracy = model.evaluate(x_val, y_val_1hot)\n",
    "print(f\"Test accuracy: {round(accuracy * 100, 2)}%\")\n",
    "print(f\"Test top 5 accuracy: {round(top_3_accuracy * 100, 2)}%\")\n",
    "\n",
    "_,new_col_length,new_row_length = x_train.shape \n",
    "model.save(f'{base_path}//{ipynbname.name()}//{time_stamp}_Acc_{accuracy:.3f}_top3{top_3_accuracy:.3f}_{new_row_length}x{new_col_length}.h5')"
   ]
  },
  {
   "cell_type": "code",
   "execution_count": null,
   "id": "29c39bc8-6d98-4441-a8fe-55655e2d5cca",
   "metadata": {},
   "outputs": [],
   "source": [
    "# Try prediction on difficult data\n",
    "\n",
    "x_difficult = raw_data1['echo_cnn_input'][stop_idx+1:]\n",
    "y_difficult = raw_data1['echo_cnn_target'][stop_idx+1:]\n",
    "\n",
    "x_difficult = np.reshape( x_difficult, (x_difficult.shape[0],max_class,-1) )\n",
    "x_difficult = x_difficult[:,:,mid_pt-neigh:mid_pt+neigh+1]\n",
    "# x_train = np.reshape(x_train,(x_train.shape[0],-1))\n",
    "x_difficult = np.transpose(x_difficult,(0,2,1))\n",
    "\n",
    "# y_difficult[y_difficult == num_classes] = 0\n",
    "# y_difficult = tf.keras.utils.to_categorical(y_difficult, num_classes)\n"
   ]
  },
  {
   "cell_type": "code",
   "execution_count": null,
   "id": "5e0f8927-8286-448f-8e7e-adfb8032ea23",
   "metadata": {},
   "outputs": [],
   "source": [
    "(x_difficult.shape,y_difficult.shape)"
   ]
  },
  {
   "cell_type": "code",
   "execution_count": null,
   "id": "969ad3b9-53d5-417a-ab84-55a84b5f75f2",
   "metadata": {},
   "outputs": [],
   "source": [
    "# Check some predictions\n",
    "\n",
    "difficult_start = random.randint(0,len(x_val)) #3500 #\n",
    "\n",
    "print(f'Check start {difficult_start}')\n",
    "[(int(y_difficult[idx]), np.argmax(model.predict(np.expand_dims(x_difficult[idx],axis=0))) ) for idx in range(difficult_start,difficult_start+50) ]\n",
    "\n"
   ]
  },
  {
   "cell_type": "code",
   "execution_count": null,
   "id": "566fc1a3-473a-4442-8d7e-257187b2aa2e",
   "metadata": {},
   "outputs": [],
   "source": [
    "# Attempt loading past model (after crash) and start training again\n",
    "load_model = 0\n",
    "if load_model:\n",
    "    model2 = tf.keras.models.load_model(r'Y:\\ibikunle\\Python_Project\\Fall_2021\\all_block_data\\Old_data\\Dec_Train_block_len_21_131121_2213\\NewAttention_RowBlockLSTM1\\22_November_21_0929_Acc_0.669_Top3Acc0.8506_21x9.h5'\n",
    "                                    ,)"
   ]
  },
  {
   "cell_type": "code",
   "execution_count": null,
   "id": "d814adde-7601-4664-ae72-80a585e2dfda",
   "metadata": {},
   "outputs": [],
   "source": []
  },
  {
   "cell_type": "code",
   "execution_count": null,
   "id": "b129b784-5906-48b6-aa6c-a6c3cecfc63a",
   "metadata": {},
   "outputs": [],
   "source": [
    "# Train further still( 30th Nov.,2021 X_train is returned back to default [i.e No shuffle] )\n",
    "from keras import backend as K\n",
    "K.set_value(model.optimizer.learning_rate, 0.001)\n",
    "batch_size = 64\n",
    "history2 = model.fit(x_train, y_train_1hot,\n",
    "          epochs= 2, \n",
    "          batch_size= batch_size, \n",
    "          validation_data=(x_test, y_test_1hot),callbacks=callbacks) #mcp_save, callbacks=[reduce_lr_loss]callbacks=callbacks"
   ]
  },
  {
   "cell_type": "code",
   "execution_count": null,
   "id": "ac606f26-6bfa-449a-9b90-b4765a2340ec",
   "metadata": {},
   "outputs": [],
   "source": [
    "# Convert labels to categorical orthonormal vectors\n",
    "y_val_1hot = tf.keras.utils.to_categorical(y_val, num_classes)\n",
    "\n",
    "_, accuracy,top3_acc = model.evaluate(x_val, y_val_1hot)\n",
    "print(f\"Test accuracy: {round(accuracy * 100, 2)}%\")\n",
    "# print(f\"Test top 5 accuracy: {round(top_5_accuracy * 100, 2)}%\")\n",
    "\n",
    "_,new_col_length,new_row_length = x_train.shape \n",
    "model.save(f'{base_path}//{ipynbname.name()}//{time_stamp}_Acc_{accuracy:.3f}_Top3Acc{top3_acc:.3f}_{new_row_length}x{new_col_length}.h5')"
   ]
  },
  {
   "cell_type": "code",
   "execution_count": null,
   "id": "bc0478a0-0d6b-44bf-abf6-30cb44b4d44c",
   "metadata": {},
   "outputs": [],
   "source": [
    "# Test model on val data\n",
    "\n",
    "y_diff_pred = [ np.argmax(model.predict(np.expand_dims(x_difficult[idx],axis=0))) for idx in range(3000,3050) ] #len(x_difficult)\n",
    "\n",
    "difficult_exact_accuracy = 100 * sum([1 if y_diff_pred[idx]==y_difficult[idx]   else 0 for idx in range(len(y_diff_pred)) ]) / len(y_diff_pred)\n",
    "difficult_margin5_accuracy = 100 * sum([1 if abs(y_diff_pred[idx]-y_difficult[idx]) < 3 else 0 for idx in range(len(y_diff_pred)) ]) / len(y_diff_pred)\n",
    "\n",
    "print(f' Exact accuracy is {difficult_exact_accuracy: .5f} %')\n",
    "print(f' Top 5% accuracy is {difficult_margin5_accuracy: .5f} %')\n",
    "\n"
   ]
  },
  {
   "cell_type": "code",
   "execution_count": null,
   "id": "b103b071-79d9-416b-b545-bc3c2e3e6587",
   "metadata": {},
   "outputs": [],
   "source": [
    "len(y_diff_pred)"
   ]
  },
  {
   "cell_type": "code",
   "execution_count": null,
   "id": "3ab0eaec-8607-4970-a6a9-397cef52ef9f",
   "metadata": {},
   "outputs": [],
   "source": []
  }
 ],
 "metadata": {
  "kernelspec": {
   "display_name": "ibk_tf_new",
   "language": "python",
   "name": "ibk_tf_new"
  },
  "language_info": {
   "codemirror_mode": {
    "name": "ipython",
    "version": 3
   },
   "file_extension": ".py",
   "mimetype": "text/x-python",
   "name": "python",
   "nbconvert_exporter": "python",
   "pygments_lexer": "ipython3",
   "version": "3.9.7"
  }
 },
 "nbformat": 4,
 "nbformat_minor": 5
}
